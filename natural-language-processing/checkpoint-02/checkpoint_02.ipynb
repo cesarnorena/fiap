{
 "cells": [
  {
   "attachments": {},
   "cell_type": "markdown",
   "metadata": {
    "id": "deyyzUl5wgj3"
   },
   "source": [
    "# NLP - Checkpoint 02"
   ]
  },
  {
   "attachments": {},
   "cell_type": "markdown",
   "metadata": {
    "id": "XNoQet2kwbZu"
   },
   "source": [
    "1\\. Contrua uma rede de relacionamento entre os personagens do livro: \"Memórias Póstumas de Brás Cubas (1881)\". Contando quantas vezes os nomes dos personagens aparecem juntos a cada conjunto de 20 palavras.\n",
    "\n",
    "2\\. Faça uma visualização da rede construída\n",
    "\n",
    "3\\. De acordo com sua opinião, quem são os personagens principais desse livro? 1º, 2º e 3º\n",
    "\n",
    "Pergunta bônus: valendo 2 pontos no global solution: qual o personagem do texto que tem o estilo de texto mais próximo do bras cubas? E qual personagem tem o estilo de texto mais diferente?\n",
    "\n",
    "Dica: revise os materiais das aulas 3 e 4, inclusive o código de comunidades em textos de rap."
   ]
  },
  {
   "cell_type": "markdown",
   "source": [],
   "metadata": {
    "collapsed": false
   }
  },
  {
   "cell_type": "markdown",
   "source": [
    "## 1. Construção da rede de relacionamentos"
   ],
   "metadata": {
    "collapsed": false
   }
  },
  {
   "cell_type": "code",
   "execution_count": 66,
   "outputs": [
    {
     "data": {
      "text/plain": "           Source             Target  Weight\n0        Virgília         D. Plácida      10\n1        Virgília         Lobo Neves       9\n2          Sabina             Cotrim       8\n3        Virgília      Quincas Borba       5\n4        Virgília             Sabina       3\n5          Sabina           Nhã-loló       2\n6        Virgília            Marcela       2\n7      Brás Cubas           Virgília       2\n8      Lobo Neves      Quincas Borba       1\n9      Lobo Neves         D. Plácida       1\n10         Sabina         Lobo Neves       1\n11         Sabina            Marcela       1\n12     Brás Cubas            Eugênia       1\n13       Virgília           Nhã-loló       1\n14       Virgília             Cotrim       1\n15       Virgília  Conselheiro Dutra       1\n16     Brás Cubas      Quincas Borba       1\n17     Brás Cubas            Marcela       1\n18  Quincas Borba         D. Plácida       1",
      "text/html": "<div>\n<style scoped>\n    .dataframe tbody tr th:only-of-type {\n        vertical-align: middle;\n    }\n\n    .dataframe tbody tr th {\n        vertical-align: top;\n    }\n\n    .dataframe thead th {\n        text-align: right;\n    }\n</style>\n<table border=\"1\" class=\"dataframe\">\n  <thead>\n    <tr style=\"text-align: right;\">\n      <th></th>\n      <th>Source</th>\n      <th>Target</th>\n      <th>Weight</th>\n    </tr>\n  </thead>\n  <tbody>\n    <tr>\n      <th>0</th>\n      <td>Virgília</td>\n      <td>D. Plácida</td>\n      <td>10</td>\n    </tr>\n    <tr>\n      <th>1</th>\n      <td>Virgília</td>\n      <td>Lobo Neves</td>\n      <td>9</td>\n    </tr>\n    <tr>\n      <th>2</th>\n      <td>Sabina</td>\n      <td>Cotrim</td>\n      <td>8</td>\n    </tr>\n    <tr>\n      <th>3</th>\n      <td>Virgília</td>\n      <td>Quincas Borba</td>\n      <td>5</td>\n    </tr>\n    <tr>\n      <th>4</th>\n      <td>Virgília</td>\n      <td>Sabina</td>\n      <td>3</td>\n    </tr>\n    <tr>\n      <th>5</th>\n      <td>Sabina</td>\n      <td>Nhã-loló</td>\n      <td>2</td>\n    </tr>\n    <tr>\n      <th>6</th>\n      <td>Virgília</td>\n      <td>Marcela</td>\n      <td>2</td>\n    </tr>\n    <tr>\n      <th>7</th>\n      <td>Brás Cubas</td>\n      <td>Virgília</td>\n      <td>2</td>\n    </tr>\n    <tr>\n      <th>8</th>\n      <td>Lobo Neves</td>\n      <td>Quincas Borba</td>\n      <td>1</td>\n    </tr>\n    <tr>\n      <th>9</th>\n      <td>Lobo Neves</td>\n      <td>D. Plácida</td>\n      <td>1</td>\n    </tr>\n    <tr>\n      <th>10</th>\n      <td>Sabina</td>\n      <td>Lobo Neves</td>\n      <td>1</td>\n    </tr>\n    <tr>\n      <th>11</th>\n      <td>Sabina</td>\n      <td>Marcela</td>\n      <td>1</td>\n    </tr>\n    <tr>\n      <th>12</th>\n      <td>Brás Cubas</td>\n      <td>Eugênia</td>\n      <td>1</td>\n    </tr>\n    <tr>\n      <th>13</th>\n      <td>Virgília</td>\n      <td>Nhã-loló</td>\n      <td>1</td>\n    </tr>\n    <tr>\n      <th>14</th>\n      <td>Virgília</td>\n      <td>Cotrim</td>\n      <td>1</td>\n    </tr>\n    <tr>\n      <th>15</th>\n      <td>Virgília</td>\n      <td>Conselheiro Dutra</td>\n      <td>1</td>\n    </tr>\n    <tr>\n      <th>16</th>\n      <td>Brás Cubas</td>\n      <td>Quincas Borba</td>\n      <td>1</td>\n    </tr>\n    <tr>\n      <th>17</th>\n      <td>Brás Cubas</td>\n      <td>Marcela</td>\n      <td>1</td>\n    </tr>\n    <tr>\n      <th>18</th>\n      <td>Quincas Borba</td>\n      <td>D. Plácida</td>\n      <td>1</td>\n    </tr>\n  </tbody>\n</table>\n</div>"
     },
     "execution_count": 66,
     "metadata": {},
     "output_type": "execute_result"
    }
   ],
   "source": [
    "import pandas\n",
    "pandas.read_csv('relationships.csv').drop(columns=['Id'])"
   ],
   "metadata": {
    "collapsed": false,
    "ExecuteTime": {
     "start_time": "2023-05-20T14:22:45.734614Z",
     "end_time": "2023-05-20T14:22:45.775098Z"
    }
   }
  },
  {
   "cell_type": "markdown",
   "source": [
    "## 2. Visualização da rede construída"
   ],
   "metadata": {
    "collapsed": false
   }
  },
  {
   "cell_type": "markdown",
   "source": [
    "<img src=\"relationships_graph.png\">"
   ],
   "metadata": {
    "collapsed": false
   }
  },
  {
   "cell_type": "markdown",
   "source": [
    "## 3. Personagens principais"
   ],
   "metadata": {
    "collapsed": false
   }
  },
  {
   "cell_type": "code",
   "execution_count": 67,
   "outputs": [
    {
     "data": {
      "text/plain": "            Character  Betweenness\n0            Virgília     0.463636\n1          Brás Cubas     0.172727\n2              Sabina     0.054545\n3       Quincas Borba     0.036364\n4             Marcela     0.018182\n5          Lobo Neves     0.018182\n6   Conselheiro Dutra     0.000000\n7             Eugênia     0.000000\n8            Nhã-loló     0.000000\n9          D. Plácida     0.000000\n10          Prudêncio     0.000000\n11             Cotrim     0.000000",
      "text/html": "<div>\n<style scoped>\n    .dataframe tbody tr th:only-of-type {\n        vertical-align: middle;\n    }\n\n    .dataframe tbody tr th {\n        vertical-align: top;\n    }\n\n    .dataframe thead th {\n        text-align: right;\n    }\n</style>\n<table border=\"1\" class=\"dataframe\">\n  <thead>\n    <tr style=\"text-align: right;\">\n      <th></th>\n      <th>Character</th>\n      <th>Betweenness</th>\n    </tr>\n  </thead>\n  <tbody>\n    <tr>\n      <th>0</th>\n      <td>Virgília</td>\n      <td>0.463636</td>\n    </tr>\n    <tr>\n      <th>1</th>\n      <td>Brás Cubas</td>\n      <td>0.172727</td>\n    </tr>\n    <tr>\n      <th>2</th>\n      <td>Sabina</td>\n      <td>0.054545</td>\n    </tr>\n    <tr>\n      <th>3</th>\n      <td>Quincas Borba</td>\n      <td>0.036364</td>\n    </tr>\n    <tr>\n      <th>4</th>\n      <td>Marcela</td>\n      <td>0.018182</td>\n    </tr>\n    <tr>\n      <th>5</th>\n      <td>Lobo Neves</td>\n      <td>0.018182</td>\n    </tr>\n    <tr>\n      <th>6</th>\n      <td>Conselheiro Dutra</td>\n      <td>0.000000</td>\n    </tr>\n    <tr>\n      <th>7</th>\n      <td>Eugênia</td>\n      <td>0.000000</td>\n    </tr>\n    <tr>\n      <th>8</th>\n      <td>Nhã-loló</td>\n      <td>0.000000</td>\n    </tr>\n    <tr>\n      <th>9</th>\n      <td>D. Plácida</td>\n      <td>0.000000</td>\n    </tr>\n    <tr>\n      <th>10</th>\n      <td>Prudêncio</td>\n      <td>0.000000</td>\n    </tr>\n    <tr>\n      <th>11</th>\n      <td>Cotrim</td>\n      <td>0.000000</td>\n    </tr>\n  </tbody>\n</table>\n</div>"
     },
     "execution_count": 67,
     "metadata": {},
     "output_type": "execute_result"
    }
   ],
   "source": [
    "import pandas\n",
    "pandas.read_csv('betweenness.csv').drop(columns=['Id'])"
   ],
   "metadata": {
    "collapsed": false,
    "ExecuteTime": {
     "start_time": "2023-05-20T14:22:51.934595Z",
     "end_time": "2023-05-20T14:22:51.952354Z"
    }
   }
  },
  {
   "cell_type": "markdown",
   "source": [
    "## 4. Personagens com estilo de texto mais próximo e mais diferente"
   ],
   "metadata": {
    "collapsed": false
   }
  },
  {
   "cell_type": "code",
   "execution_count": 69,
   "outputs": [
    {
     "data": {
      "text/plain": "            Character  Similarity\n0          Lobo Neves    0.980151\n1       Quincas Borba    0.975325\n2             Marcela    0.973849\n3            Virgília    0.973290\n4          D. Plácida    0.970998\n5              Cotrim    0.970131\n6            Nhã-loló    0.965064\n7             Eugênia    0.956754\n8              Sabina    0.954632\n9           Prudêncio    0.930684\n10  Conselheiro Dutra    0.892105",
      "text/html": "<div>\n<style scoped>\n    .dataframe tbody tr th:only-of-type {\n        vertical-align: middle;\n    }\n\n    .dataframe tbody tr th {\n        vertical-align: top;\n    }\n\n    .dataframe thead th {\n        text-align: right;\n    }\n</style>\n<table border=\"1\" class=\"dataframe\">\n  <thead>\n    <tr style=\"text-align: right;\">\n      <th></th>\n      <th>Character</th>\n      <th>Similarity</th>\n    </tr>\n  </thead>\n  <tbody>\n    <tr>\n      <th>0</th>\n      <td>Lobo Neves</td>\n      <td>0.980151</td>\n    </tr>\n    <tr>\n      <th>1</th>\n      <td>Quincas Borba</td>\n      <td>0.975325</td>\n    </tr>\n    <tr>\n      <th>2</th>\n      <td>Marcela</td>\n      <td>0.973849</td>\n    </tr>\n    <tr>\n      <th>3</th>\n      <td>Virgília</td>\n      <td>0.973290</td>\n    </tr>\n    <tr>\n      <th>4</th>\n      <td>D. Plácida</td>\n      <td>0.970998</td>\n    </tr>\n    <tr>\n      <th>5</th>\n      <td>Cotrim</td>\n      <td>0.970131</td>\n    </tr>\n    <tr>\n      <th>6</th>\n      <td>Nhã-loló</td>\n      <td>0.965064</td>\n    </tr>\n    <tr>\n      <th>7</th>\n      <td>Eugênia</td>\n      <td>0.956754</td>\n    </tr>\n    <tr>\n      <th>8</th>\n      <td>Sabina</td>\n      <td>0.954632</td>\n    </tr>\n    <tr>\n      <th>9</th>\n      <td>Prudêncio</td>\n      <td>0.930684</td>\n    </tr>\n    <tr>\n      <th>10</th>\n      <td>Conselheiro Dutra</td>\n      <td>0.892105</td>\n    </tr>\n  </tbody>\n</table>\n</div>"
     },
     "execution_count": 69,
     "metadata": {},
     "output_type": "execute_result"
    }
   ],
   "source": [
    "import pandas\n",
    "pandas.read_csv('similarities.csv').drop(columns=['Id'])"
   ],
   "metadata": {
    "collapsed": false,
    "ExecuteTime": {
     "start_time": "2023-05-20T14:26:09.546269Z",
     "end_time": "2023-05-20T14:26:09.574269Z"
    }
   }
  },
  {
   "attachments": {},
   "cell_type": "markdown",
   "metadata": {
    "collapsed": false
   },
   "source": [
    "# Imports and configurations"
   ]
  },
  {
   "cell_type": "code",
   "execution_count": 28,
   "metadata": {
    "ExecuteTime": {
     "start_time": "2023-05-20T14:05:18.325170Z",
     "end_time": "2023-05-20T14:05:28.844360Z"
    },
    "colab": {
     "base_uri": "https://localhost:8080/"
    },
    "id": "m3U1miwLPLgJ",
    "outputId": "5eb841bf-d981-4ca0-c131-c6de25ad9585"
   },
   "outputs": [
    {
     "name": "stdout",
     "output_type": "stream",
     "text": [
      "Requirement already satisfied: nltk in /usr/local/lib/python3.11/site-packages (3.8.1)\r\n",
      "Requirement already satisfied: click in /usr/local/lib/python3.11/site-packages (from nltk) (8.1.3)\r\n",
      "Requirement already satisfied: joblib in /usr/local/lib/python3.11/site-packages (from nltk) (1.2.0)\r\n",
      "Requirement already satisfied: regex>=2021.8.3 in /usr/local/lib/python3.11/site-packages (from nltk) (2023.5.5)\r\n",
      "Requirement already satisfied: tqdm in /usr/local/lib/python3.11/site-packages (from nltk) (4.65.0)\r\n",
      "\r\n",
      "\u001B[1m[\u001B[0m\u001B[34;49mnotice\u001B[0m\u001B[1;39;49m]\u001B[0m\u001B[39;49m A new release of pip is available: \u001B[0m\u001B[31;49m23.0.1\u001B[0m\u001B[39;49m -> \u001B[0m\u001B[32;49m23.1.2\u001B[0m\r\n",
      "\u001B[1m[\u001B[0m\u001B[34;49mnotice\u001B[0m\u001B[1;39;49m]\u001B[0m\u001B[39;49m To update, run: \u001B[0m\u001B[32;49mpython3.11 -m pip install --upgrade pip\u001B[0m\r\n",
      "Requirement already satisfied: unidecode in /usr/local/lib/python3.11/site-packages (1.3.6)\r\n",
      "\r\n",
      "\u001B[1m[\u001B[0m\u001B[34;49mnotice\u001B[0m\u001B[1;39;49m]\u001B[0m\u001B[39;49m A new release of pip is available: \u001B[0m\u001B[31;49m23.0.1\u001B[0m\u001B[39;49m -> \u001B[0m\u001B[32;49m23.1.2\u001B[0m\r\n",
      "\u001B[1m[\u001B[0m\u001B[34;49mnotice\u001B[0m\u001B[1;39;49m]\u001B[0m\u001B[39;49m To update, run: \u001B[0m\u001B[32;49mpython3.11 -m pip install --upgrade pip\u001B[0m\r\n",
      "Requirement already satisfied: pyvis in /usr/local/lib/python3.11/site-packages (0.3.2)\r\n",
      "Requirement already satisfied: pyvis-network in /usr/local/lib/python3.11/site-packages (0.0.6)\r\n",
      "Requirement already satisfied: ipython>=5.3.0 in /Users/cesarnorena/Library/Python/3.11/lib/python/site-packages (from pyvis) (8.11.0)\r\n",
      "Requirement already satisfied: jinja2>=2.9.6 in /usr/local/lib/python3.11/site-packages (from pyvis) (3.1.2)\r\n",
      "Requirement already satisfied: jsonpickle>=1.4.1 in /usr/local/lib/python3.11/site-packages (from pyvis) (3.0.1)\r\n",
      "Requirement already satisfied: networkx>=1.11 in /usr/local/lib/python3.11/site-packages (from pyvis) (3.1)\r\n",
      "Requirement already satisfied: pandas>=1.3.5 in /usr/local/lib/python3.11/site-packages (from pyvis-network) (1.5.3)\r\n",
      "Requirement already satisfied: backcall in /Users/cesarnorena/Library/Python/3.11/lib/python/site-packages (from ipython>=5.3.0->pyvis) (0.2.0)\r\n",
      "Requirement already satisfied: decorator in /Users/cesarnorena/Library/Python/3.11/lib/python/site-packages (from ipython>=5.3.0->pyvis) (5.1.1)\r\n",
      "Requirement already satisfied: jedi>=0.16 in /Users/cesarnorena/Library/Python/3.11/lib/python/site-packages (from ipython>=5.3.0->pyvis) (0.18.2)\r\n",
      "Requirement already satisfied: matplotlib-inline in /Users/cesarnorena/Library/Python/3.11/lib/python/site-packages (from ipython>=5.3.0->pyvis) (0.1.6)\r\n",
      "Requirement already satisfied: pickleshare in /Users/cesarnorena/Library/Python/3.11/lib/python/site-packages (from ipython>=5.3.0->pyvis) (0.7.5)\r\n",
      "Requirement already satisfied: prompt-toolkit!=3.0.37,<3.1.0,>=3.0.30 in /Users/cesarnorena/Library/Python/3.11/lib/python/site-packages (from ipython>=5.3.0->pyvis) (3.0.38)\r\n",
      "Requirement already satisfied: pygments>=2.4.0 in /Users/cesarnorena/Library/Python/3.11/lib/python/site-packages (from ipython>=5.3.0->pyvis) (2.14.0)\r\n",
      "Requirement already satisfied: stack-data in /Users/cesarnorena/Library/Python/3.11/lib/python/site-packages (from ipython>=5.3.0->pyvis) (0.6.2)\r\n",
      "Requirement already satisfied: traitlets>=5 in /Users/cesarnorena/Library/Python/3.11/lib/python/site-packages (from ipython>=5.3.0->pyvis) (5.9.0)\r\n",
      "Requirement already satisfied: pexpect>4.3 in /Users/cesarnorena/Library/Python/3.11/lib/python/site-packages (from ipython>=5.3.0->pyvis) (4.8.0)\r\n",
      "Requirement already satisfied: appnope in /Users/cesarnorena/Library/Python/3.11/lib/python/site-packages (from ipython>=5.3.0->pyvis) (0.1.3)\r\n",
      "Requirement already satisfied: MarkupSafe>=2.0 in /usr/local/lib/python3.11/site-packages (from jinja2>=2.9.6->pyvis) (2.1.2)\r\n",
      "Requirement already satisfied: python-dateutil>=2.8.1 in /Users/cesarnorena/Library/Python/3.11/lib/python/site-packages (from pandas>=1.3.5->pyvis-network) (2.8.2)\r\n",
      "Requirement already satisfied: pytz>=2020.1 in /usr/local/lib/python3.11/site-packages (from pandas>=1.3.5->pyvis-network) (2023.3)\r\n",
      "Requirement already satisfied: numpy>=1.21.0 in /usr/local/lib/python3.11/site-packages (from pandas>=1.3.5->pyvis-network) (1.24.2)\r\n",
      "Requirement already satisfied: parso<0.9.0,>=0.8.0 in /Users/cesarnorena/Library/Python/3.11/lib/python/site-packages (from jedi>=0.16->ipython>=5.3.0->pyvis) (0.8.3)\r\n",
      "Requirement already satisfied: ptyprocess>=0.5 in /Users/cesarnorena/Library/Python/3.11/lib/python/site-packages (from pexpect>4.3->ipython>=5.3.0->pyvis) (0.7.0)\r\n",
      "Requirement already satisfied: wcwidth in /Users/cesarnorena/Library/Python/3.11/lib/python/site-packages (from prompt-toolkit!=3.0.37,<3.1.0,>=3.0.30->ipython>=5.3.0->pyvis) (0.2.6)\r\n",
      "Requirement already satisfied: six>=1.5 in /Users/cesarnorena/Library/Python/3.11/lib/python/site-packages (from python-dateutil>=2.8.1->pandas>=1.3.5->pyvis-network) (1.16.0)\r\n",
      "Requirement already satisfied: executing>=1.2.0 in /Users/cesarnorena/Library/Python/3.11/lib/python/site-packages (from stack-data->ipython>=5.3.0->pyvis) (1.2.0)\r\n",
      "Requirement already satisfied: asttokens>=2.1.0 in /Users/cesarnorena/Library/Python/3.11/lib/python/site-packages (from stack-data->ipython>=5.3.0->pyvis) (2.2.1)\r\n",
      "Requirement already satisfied: pure-eval in /Users/cesarnorena/Library/Python/3.11/lib/python/site-packages (from stack-data->ipython>=5.3.0->pyvis) (0.2.2)\r\n",
      "\r\n",
      "\u001B[1m[\u001B[0m\u001B[34;49mnotice\u001B[0m\u001B[1;39;49m]\u001B[0m\u001B[39;49m A new release of pip is available: \u001B[0m\u001B[31;49m23.0.1\u001B[0m\u001B[39;49m -> \u001B[0m\u001B[32;49m23.1.2\u001B[0m\r\n",
      "\u001B[1m[\u001B[0m\u001B[34;49mnotice\u001B[0m\u001B[1;39;49m]\u001B[0m\u001B[39;49m To update, run: \u001B[0m\u001B[32;49mpython3.11 -m pip install --upgrade pip\u001B[0m\r\n",
      "Requirement already satisfied: spacy in /usr/local/lib/python3.11/site-packages (3.5.3)\r\n",
      "Requirement already satisfied: spacy-legacy<3.1.0,>=3.0.11 in /usr/local/lib/python3.11/site-packages (from spacy) (3.0.12)\r\n",
      "Requirement already satisfied: spacy-loggers<2.0.0,>=1.0.0 in /usr/local/lib/python3.11/site-packages (from spacy) (1.0.4)\r\n",
      "Requirement already satisfied: murmurhash<1.1.0,>=0.28.0 in /usr/local/lib/python3.11/site-packages (from spacy) (1.0.9)\r\n",
      "Requirement already satisfied: cymem<2.1.0,>=2.0.2 in /usr/local/lib/python3.11/site-packages (from spacy) (2.0.7)\r\n",
      "Requirement already satisfied: preshed<3.1.0,>=3.0.2 in /usr/local/lib/python3.11/site-packages (from spacy) (3.0.8)\r\n",
      "Requirement already satisfied: thinc<8.2.0,>=8.1.8 in /usr/local/lib/python3.11/site-packages (from spacy) (8.1.10)\r\n",
      "Requirement already satisfied: wasabi<1.2.0,>=0.9.1 in /usr/local/lib/python3.11/site-packages (from spacy) (1.1.1)\r\n",
      "Requirement already satisfied: srsly<3.0.0,>=2.4.3 in /usr/local/lib/python3.11/site-packages (from spacy) (2.4.6)\r\n",
      "Requirement already satisfied: catalogue<2.1.0,>=2.0.6 in /usr/local/lib/python3.11/site-packages (from spacy) (2.0.8)\r\n",
      "Requirement already satisfied: typer<0.8.0,>=0.3.0 in /usr/local/lib/python3.11/site-packages (from spacy) (0.7.0)\r\n",
      "Requirement already satisfied: pathy>=0.10.0 in /usr/local/lib/python3.11/site-packages (from spacy) (0.10.1)\r\n",
      "Requirement already satisfied: smart-open<7.0.0,>=5.2.1 in /usr/local/lib/python3.11/site-packages (from spacy) (6.3.0)\r\n",
      "Requirement already satisfied: tqdm<5.0.0,>=4.38.0 in /usr/local/lib/python3.11/site-packages (from spacy) (4.65.0)\r\n",
      "Requirement already satisfied: numpy>=1.15.0 in /usr/local/lib/python3.11/site-packages (from spacy) (1.24.2)\r\n",
      "Requirement already satisfied: requests<3.0.0,>=2.13.0 in /usr/local/lib/python3.11/site-packages (from spacy) (2.28.2)\r\n",
      "Requirement already satisfied: pydantic!=1.8,!=1.8.1,<1.11.0,>=1.7.4 in /usr/local/lib/python3.11/site-packages (from spacy) (1.10.7)\r\n",
      "Requirement already satisfied: jinja2 in /usr/local/lib/python3.11/site-packages (from spacy) (3.1.2)\r\n",
      "Requirement already satisfied: setuptools in /usr/local/lib/python3.11/site-packages (from spacy) (65.6.3)\r\n",
      "Requirement already satisfied: packaging>=20.0 in /Users/cesarnorena/Library/Python/3.11/lib/python/site-packages (from spacy) (23.0)\r\n",
      "Requirement already satisfied: langcodes<4.0.0,>=3.2.0 in /usr/local/lib/python3.11/site-packages (from spacy) (3.3.0)\r\n",
      "Requirement already satisfied: typing-extensions>=4.2.0 in /usr/local/lib/python3.11/site-packages (from pydantic!=1.8,!=1.8.1,<1.11.0,>=1.7.4->spacy) (4.5.0)\r\n",
      "Requirement already satisfied: charset-normalizer<4,>=2 in /usr/local/lib/python3.11/site-packages (from requests<3.0.0,>=2.13.0->spacy) (3.1.0)\r\n",
      "Requirement already satisfied: idna<4,>=2.5 in /usr/local/lib/python3.11/site-packages (from requests<3.0.0,>=2.13.0->spacy) (3.4)\r\n",
      "Requirement already satisfied: urllib3<1.27,>=1.21.1 in /usr/local/lib/python3.11/site-packages (from requests<3.0.0,>=2.13.0->spacy) (1.26.15)\r\n",
      "Requirement already satisfied: certifi>=2017.4.17 in /usr/local/lib/python3.11/site-packages (from requests<3.0.0,>=2.13.0->spacy) (2022.12.7)\r\n",
      "Requirement already satisfied: blis<0.8.0,>=0.7.8 in /usr/local/lib/python3.11/site-packages (from thinc<8.2.0,>=8.1.8->spacy) (0.7.9)\r\n",
      "Requirement already satisfied: confection<1.0.0,>=0.0.1 in /usr/local/lib/python3.11/site-packages (from thinc<8.2.0,>=8.1.8->spacy) (0.0.4)\r\n",
      "Requirement already satisfied: click<9.0.0,>=7.1.1 in /usr/local/lib/python3.11/site-packages (from typer<0.8.0,>=0.3.0->spacy) (8.1.3)\r\n",
      "Requirement already satisfied: MarkupSafe>=2.0 in /usr/local/lib/python3.11/site-packages (from jinja2->spacy) (2.1.2)\r\n",
      "\r\n",
      "\u001B[1m[\u001B[0m\u001B[34;49mnotice\u001B[0m\u001B[1;39;49m]\u001B[0m\u001B[39;49m A new release of pip is available: \u001B[0m\u001B[31;49m23.0.1\u001B[0m\u001B[39;49m -> \u001B[0m\u001B[32;49m23.1.2\u001B[0m\r\n",
      "\u001B[1m[\u001B[0m\u001B[34;49mnotice\u001B[0m\u001B[1;39;49m]\u001B[0m\u001B[39;49m To update, run: \u001B[0m\u001B[32;49mpython3.11 -m pip install --upgrade pip\u001B[0m\r\n"
     ]
    }
   ],
   "source": [
    "!pip3 install nltk\n",
    "\n",
    "!pip3 install unidecode\n",
    "\n",
    "!pip3 install pyvis pyvis-network\n",
    "\n",
    "!pip3 install spacy\n",
    "# !python3 -m spacy download pt_core_news_md\n",
    "# !python3 -m spacy download pt_core_news_lg"
   ]
  },
  {
   "cell_type": "code",
   "execution_count": 29,
   "metadata": {
    "ExecuteTime": {
     "start_time": "2023-05-20T14:05:28.849169Z",
     "end_time": "2023-05-20T14:05:28.865004Z"
    },
    "id": "hgam6Q86PPqr"
   },
   "outputs": [],
   "source": [
    "from itertools import combinations\n",
    "from typing import List\n",
    "\n",
    "import networkx as nx\n",
    "import nltk\n",
    "import pandas as pd\n",
    "import spacy\n",
    "from nltk.corpus import machado\n",
    "from nltk.text import Text\n",
    "from pyvis.network import Network\n",
    "from spacy.language import Language\n",
    "from spacy.matcher import Matcher\n",
    "from spacy.tokens import Doc, Token"
   ]
  },
  {
   "cell_type": "code",
   "execution_count": 30,
   "outputs": [
    {
     "name": "stdout",
     "output_type": "stream",
     "text": [
      "pt_core_news_lg is already installed.\n"
     ]
    }
   ],
   "source": [
    "model_name = \"pt_core_news_lg\"\n",
    "\n",
    "try:\n",
    "    spacy.load(model_name)\n",
    "    print(f\"{model_name} is already installed.\")\n",
    "except OSError:\n",
    "    print(f\"{model_name} is not installed. Downloading...\")\n",
    "    spacy.cli.download(model_name)\n",
    "    print(f\"{model_name} has been downloaded.\")"
   ],
   "metadata": {
    "collapsed": false,
    "ExecuteTime": {
     "start_time": "2023-05-20T14:05:28.853056Z",
     "end_time": "2023-05-20T14:05:30.522116Z"
    }
   }
  },
  {
   "cell_type": "code",
   "execution_count": 31,
   "metadata": {
    "ExecuteTime": {
     "start_time": "2023-05-20T14:05:30.526627Z",
     "end_time": "2023-05-20T14:05:30.531326Z"
    },
    "colab": {
     "base_uri": "https://localhost:8080/"
    },
    "id": "pEZSLtrthhvp",
    "outputId": "b548d172-2e5d-4832-f878-20f6ba0a8f83"
   },
   "outputs": [
    {
     "name": "stderr",
     "output_type": "stream",
     "text": [
      "[nltk_data] Downloading package machado to\n",
      "[nltk_data]     /Users/cesarnorena/nltk_data...\n",
      "[nltk_data]   Package machado is already up-to-date!\n"
     ]
    }
   ],
   "source": [
    "# Download NLTK resources\n",
    "nltk.download('machado')\n",
    "# nltk.download('punkt')\n",
    "# nltk.download('wordnet')\n",
    "# nltk.download('stopwords')\n",
    "\n",
    "# Get Machado's file ids\n",
    "machado.fileids()\n",
    "\n",
    "# File id from \"Memórias Póstumas de Brás Cubas\"\n",
    "file_id = 'romance/marm05.txt'"
   ]
  },
  {
   "attachments": {},
   "cell_type": "markdown",
   "metadata": {
    "collapsed": false
   },
   "source": [
    "# Machado's book"
   ]
  },
  {
   "cell_type": "code",
   "execution_count": 32,
   "metadata": {
    "ExecuteTime": {
     "start_time": "2023-05-20T14:05:30.530858Z",
     "end_time": "2023-05-20T14:05:30.691684Z"
    },
    "colab": {
     "base_uri": "https://localhost:8080/"
    },
    "id": "71OaLw1A2y3G",
    "outputId": "610b1e88-2d42-4301-8520-dccd5c736e66"
   },
   "outputs": [
    {
     "name": "stdout",
     "output_type": "stream",
     "text": [
      "# of tokens: 77098\n",
      "# of unique tokens: 10848\n"
     ]
    }
   ],
   "source": [
    "machado_book = Text(machado.words(file_id), name='Memórias Póstumas de Brás Cubas (1881)')\n",
    "\n",
    "print('# of tokens:', len(machado_book.tokens))\n",
    "print('# of unique tokens:', len(set(machado_book.tokens)))"
   ]
  },
  {
   "cell_type": "code",
   "execution_count": 33,
   "metadata": {
    "ExecuteTime": {
     "start_time": "2023-05-20T14:05:30.696716Z",
     "end_time": "2023-05-20T14:05:32.125190Z"
    }
   },
   "outputs": [
    {
     "name": "stderr",
     "output_type": "stream",
     "text": [
      "Building ngram index...\n"
     ]
    },
    {
     "name": "stdout",
     "output_type": "stream",
     "text": [
      "O   p e r s o n a g e m   m a i s   p r ó x i m o   d o   B r á s   C u b a s   é que , de dia e de uma bruxa de Shakespeare\n"
     ]
    }
   ],
   "source": [
    "# Experimenting text generation with Machado's book\n",
    "machado_book.generate(10, text_seed=\"O personagem mais próximo do Brás Cubas é\");"
   ]
  },
  {
   "cell_type": "code",
   "execution_count": 34,
   "metadata": {
    "ExecuteTime": {
     "start_time": "2023-05-20T14:05:32.129572Z",
     "end_time": "2023-05-20T14:05:32.131836Z"
    }
   },
   "outputs": [],
   "source": [
    "import sys\n",
    "\n",
    "\n",
    "def print_concordance(_book: Text, _characters: List[str], _lines: int = 5):\n",
    "    # Concordance: an alphabetical list of the words (especially the important ones) present in a text, \n",
    "    # usually with citations of the passages in which they are found.\n",
    "\n",
    "    for character in [char.split() for char in _characters]:\n",
    "        print('Concordance for:', character)\n",
    "\n",
    "        concordance_list = _book.concordance_list(character, lines=sys.maxsize, width=100)\n",
    "        number_of_matches = len(concordance_list)\n",
    "\n",
    "        min_lines = min(_lines, number_of_matches)\n",
    "        print(f\"Displaying {min_lines} of {number_of_matches} matches:\\n\")\n",
    "\n",
    "        for c in concordance_list[:_lines]:\n",
    "            print(c.line.replace('\\n', ''))\n",
    "\n",
    "        print('\\n')"
   ]
  },
  {
   "cell_type": "code",
   "execution_count": 35,
   "metadata": {
    "ExecuteTime": {
     "start_time": "2023-05-20T14:05:32.132195Z",
     "end_time": "2023-05-20T14:05:32.181250Z"
    },
    "colab": {
     "base_uri": "https://localhost:8080/"
    },
    "id": "Esez6alNhnFK",
    "outputId": "316e8961-dd2e-4734-9309-dcdf52c3d1ff"
   },
   "outputs": [
    {
     "name": "stdout",
     "output_type": "stream",
     "text": [
      "# of characters: 12 \n",
      "\n",
      "Concordance for: ['BRÁS', 'CUBAS']\n",
      "Displaying 5 of 35 matches:\n",
      "\n",
      "Romance , Memórias Póstumas de Brás Cubas , 1880 Memórias Póstumas de Brás Cubas Texto\n",
      "as de Brás Cubas , 1880 Memórias Póstumas de Brás Cubas Texto - fonte : Obra Completa , Machado de A\n",
      " primeira edição destas Memórias Póstumas de Brás Cubas foi feita aos pedaços na Revista Brasileira \n",
      "vro , perguntava :  As Memórias Póstumas de Brás Cubas são um romance ? Macedo Soares , em carta q\n",
      "a terra . Ao primeiro respondia já o defunto Brás Cubas ( como o leitor viu e verá no prólogo dele q\n",
      "\n",
      "\n",
      "Concordance for: ['VIRGÍLIA']\n",
      "Displaying 5 of 202 matches:\n",
      "\n",
      "humanas . O que por agora importa saber é que Virgília  chamava - se Virgília  entrou na alcova , \n",
      "a importa saber é que Virgília  chamava - se Virgília  entrou na alcova , firme , com a gravidade \n",
      " mais interessante para um moribundo . Saiu ; Virgília deixou - se estar de pé ; durante algum tempo\n",
      "o sei se em igual dose , mas enfim saciados . Virgília tinha agora a beleza da velhice , um ar auste\n",
      "disse - lhe eu .  Ora , defuntos ! respondeu Virgília com um muxoxo . E depois de me apertar as mão\n",
      "\n",
      "\n",
      "Concordance for: ['CONSELHEIRO', 'DUTRA']\n",
      "Displaying 2 of 2 matches:\n",
      "\n",
      "... filha do Dutra ...  Que Dutra ?  O Conselheiro Dutra , não conheces ; uma influência política\n",
      "is aqui Virgília . Antes de ir à casa do Conselheiro Dutra , perguntei a meu pai se havia algum aju\n",
      "\n",
      "\n",
      "Concordance for: ['SABINA']\n",
      "Displaying 5 of 36 matches:\n",
      "\n",
      "essoas , entre elas três senhoras , minha irmã Sabina , casada com o Cotrim , a filha ,  um lírio d\n",
      "o rói , rói ; roer é o seu ofício . Minha irmã Sabina , já então casada com o Cotrim , andava a cair\n",
      "eu é que não podia nem queria obedecer - lhe . Sabina desejava que eu fosse morar com ela algum temp\n",
      "o , uma manhã de maio , entre os dois filhos , Sabina e eu , e mais o tio Ildefonso e meu cunhado . \n",
      "inta e cinco ...  Vale cinqüenta , ponderei ; Sabina sabe que custou cinqüenta e oito ...  Podia c\n",
      "\n",
      "\n",
      "Concordance for: ['MARCELA']\n",
      "Displaying 5 of 60 matches:\n",
      "\n",
      "a . A que me cativou foi uma dama espanhola , Marcela , a  linda Marcela , como lhe chamavam os r\n",
      " foi uma dama espanhola , Marcela , a  linda Marcela , como lhe chamavam os rapazes do tempo . E \n",
      "o pai , letrado ou hortelão , a verdade é que Marcela não possuía a inocência rústica , e mal chega\n",
      "ras . A meio caminho , chamaram - lhe  linda Marcela , lembrou - me que ouvira tal nome a meu tio\n",
      "oças , nos Cajueiros . Fomos ; era em casa de Marcela . O Xavier , com todos os seus tubérculos , p\n",
      "\n",
      "\n",
      "Concordance for: ['EUGÊNIA']\n",
      "Displaying 5 of 14 matches:\n",
      "\n",
      "nfim , com resolução e franqueza :  Vem cá , Eugênia , disse ela , cumprimenta o Dr . Brás Cubas ,\n",
      "pa . E voltando - se para mim :  Minha filha Eugênia . Eugênia , a flor da moita , mal respondeu a\n",
      "tando - se para mim :  Minha filha Eugênia . Eugênia , a flor da moita , mal respondeu ao gesto de\n",
      "ezesseis . Pois então ! é uma moça . Não pôde Eugênia encobrir a satisfação que sentia com esta min\n",
      ", era - lhe devida aquela compensação ; fui . Eugênia desataviou - se nesse dia por minha causa . C\n",
      "\n",
      "\n",
      "Concordance for: ['NHÃ-LOLÓ']\n",
      "Displaying 0 of 0 matches:\n",
      "\n",
      "\n",
      "\n",
      "Concordance for: ['LOBO', 'NEVES']\n",
      "Displaying 5 of 51 matches:\n",
      "\n",
      ", mas era - o , e então ... Então apareceu o Lobo Neves , um homem que não era mais esbelto que eu ,\n",
      "rasse outra aragem , porque a candidatura de Lobo Neves era apoiada por grandes influências . Cedi ;\n",
      " . Uma semana depois , Virgília perguntou ao Lobo Neves , a sorrir , quando seria ele ministro .  P\n",
      "polemista e de poeta . Quando me lembrava do Lobo Neves , que era já deputado , e de Virgília , futu\n",
      "ia melhor deputado e melhor marquês do que o Lobo Neves ,  eu , que valia mais , muito mais do que \n",
      "\n",
      "\n",
      "Concordance for: ['QUINCAS', 'BORBA']\n",
      "Displaying 5 of 65 matches:\n",
      "\n",
      "os de eterno mote a chufas . Um de nós , o Quincas Borba , esse então era cruel com o pobre homem .\n",
      "ques .  Uns tremiam , outros rosnavam ; o Quincas Borba , porém , deixava - se estar quieto , com \n",
      "om os olhos espetados no ar . Uma flor , o Quincas Borba . Nunca em minha infância , nunca em toda \n",
      "rego . E de imperador ! Era um gosto ver o Quincas Borba fazer de imperador nas festas do Espírito \n",
      "le .  Não me lembra ...  Sou o Borba , o Quincas Borba . Recuei espantado ... Quem me dera agora \n",
      "\n",
      "\n",
      "Concordance for: ['DONA', 'PLÁCIDA']\n",
      "Displaying 2 of 2 matches:\n",
      "\n",
      "ou ia para o interior ouvir as denguices de Dona Plácida . Cinco ou dez minutos depois , reatávamos \n",
      "que o sacristão da Sé e a doceira trouxeram Dona Plácida à luz , num momento de simpatia específica \n",
      "\n",
      "\n",
      "Concordance for: ['PRUDÊNCIO']\n",
      "Displaying 5 of 8 matches:\n",
      "\n",
      "por pirraça ; e eu tinha apenas seis anos . Prudêncio , um moleque de casa , era o meu cavalo de t\n",
      "livros , roupa , charutos , um moleque ,  o Prudêncio do capítulo XI ,  e fui meter - me numa vel\n",
      "ravatas , e ia fechá - lo , quando o moleque Prudêncio me disse que uma pessoa do meu conhecimento \n",
      "visitar sinhá D . Eusébia ? perguntou - me o Prudêncio . Foi ela quem vestiu o corpo da minha defun\n",
      "comprar outro .  Bem ; fico com o Paulo e o Prudêncio .  O Prudêncio está livre .  Livre ?  Há \n",
      "\n",
      "\n",
      "Concordance for: ['COTRIM']\n",
      "Displaying 5 of 39 matches:\n",
      "\n",
      "ês senhoras , minha irmã Sabina , casada com o Cotrim , a filha ,  um lírio do vale ,  e ... Tenha\n",
      "a flor das damas do seu tempo ; vive o pai , o Cotrim , um sujeito que ... Mas não antecipemos os su\n",
      "io . Minha irmã Sabina , já então casada com o Cotrim , andava a cair de fadiga . Pobre moça ! dormi\n",
      " me levar à fina força . Era um bom rapaz este Cotrim ; passara de estróina a circunspecto . Agora c\n",
      "inha irmã sentada num sofá ,  pouco adiante , Cotrim , de pé , encostado a um consolo , com os braç\n",
      "\n",
      "\n"
     ]
    }
   ],
   "source": [
    "# Main characters to analize from the text\n",
    "characters = [\n",
    "    'BRÁS CUBAS',\n",
    "    'VIRGÍLIA',\n",
    "    'CONSELHEIRO DUTRA',\n",
    "    'SABINA',\n",
    "    'MARCELA',\n",
    "    'EUGÊNIA',\n",
    "    'NHÃ-LOLÓ',\n",
    "    'LOBO NEVES',\n",
    "    'QUINCAS BORBA',\n",
    "    'DONA PLÁCIDA',\n",
    "    'PRUDÊNCIO',\n",
    "    'COTRIM'\n",
    "]\n",
    "print('# of characters:', len(characters), '\\n')\n",
    "\n",
    "print_concordance(machado_book, characters)"
   ]
  },
  {
   "attachments": {},
   "cell_type": "markdown",
   "metadata": {},
   "source": [
    "### After analizing the concordance of the names, I decided to use the following list of characters"
   ]
  },
  {
   "cell_type": "code",
   "execution_count": 36,
   "metadata": {
    "ExecuteTime": {
     "start_time": "2023-05-20T14:05:32.177860Z",
     "end_time": "2023-05-20T14:05:32.182337Z"
    }
   },
   "outputs": [
    {
     "name": "stdout",
     "output_type": "stream",
     "text": [
      "Concordance for: ['Brás', 'Cubas']\n",
      "Displaying 5 of 35 matches:\n",
      "\n",
      "Romance , Memórias Póstumas de Brás Cubas , 1880 Memórias Póstumas de Brás Cubas Texto\n",
      "as de Brás Cubas , 1880 Memórias Póstumas de Brás Cubas Texto - fonte : Obra Completa , Machado de A\n",
      " primeira edição destas Memórias Póstumas de Brás Cubas foi feita aos pedaços na Revista Brasileira \n",
      "vro , perguntava :  As Memórias Póstumas de Brás Cubas são um romance ? Macedo Soares , em carta q\n",
      "a terra . Ao primeiro respondia já o defunto Brás Cubas ( como o leitor viu e verá no prólogo dele q\n",
      "\n",
      "\n",
      "Concordance for: ['Virgília']\n",
      "Displaying 5 of 202 matches:\n",
      "\n",
      "humanas . O que por agora importa saber é que Virgília  chamava - se Virgília  entrou na alcova , \n",
      "a importa saber é que Virgília  chamava - se Virgília  entrou na alcova , firme , com a gravidade \n",
      " mais interessante para um moribundo . Saiu ; Virgília deixou - se estar de pé ; durante algum tempo\n",
      "o sei se em igual dose , mas enfim saciados . Virgília tinha agora a beleza da velhice , um ar auste\n",
      "disse - lhe eu .  Ora , defuntos ! respondeu Virgília com um muxoxo . E depois de me apertar as mão\n",
      "\n",
      "\n",
      "Concordance for: ['Conselheiro', 'Dutra']\n",
      "Displaying 2 of 2 matches:\n",
      "\n",
      "... filha do Dutra ...  Que Dutra ?  O Conselheiro Dutra , não conheces ; uma influência política\n",
      "is aqui Virgília . Antes de ir à casa do Conselheiro Dutra , perguntei a meu pai se havia algum aju\n",
      "\n",
      "\n",
      "Concordance for: ['Sabina']\n",
      "Displaying 5 of 36 matches:\n",
      "\n",
      "essoas , entre elas três senhoras , minha irmã Sabina , casada com o Cotrim , a filha ,  um lírio d\n",
      "o rói , rói ; roer é o seu ofício . Minha irmã Sabina , já então casada com o Cotrim , andava a cair\n",
      "eu é que não podia nem queria obedecer - lhe . Sabina desejava que eu fosse morar com ela algum temp\n",
      "o , uma manhã de maio , entre os dois filhos , Sabina e eu , e mais o tio Ildefonso e meu cunhado . \n",
      "inta e cinco ...  Vale cinqüenta , ponderei ; Sabina sabe que custou cinqüenta e oito ...  Podia c\n",
      "\n",
      "\n",
      "Concordance for: ['Marcela']\n",
      "Displaying 5 of 60 matches:\n",
      "\n",
      "a . A que me cativou foi uma dama espanhola , Marcela , a  linda Marcela , como lhe chamavam os r\n",
      " foi uma dama espanhola , Marcela , a  linda Marcela , como lhe chamavam os rapazes do tempo . E \n",
      "o pai , letrado ou hortelão , a verdade é que Marcela não possuía a inocência rústica , e mal chega\n",
      "ras . A meio caminho , chamaram - lhe  linda Marcela , lembrou - me que ouvira tal nome a meu tio\n",
      "oças , nos Cajueiros . Fomos ; era em casa de Marcela . O Xavier , com todos os seus tubérculos , p\n",
      "\n",
      "\n",
      "Concordance for: ['Eugênia']\n",
      "Displaying 5 of 14 matches:\n",
      "\n",
      "nfim , com resolução e franqueza :  Vem cá , Eugênia , disse ela , cumprimenta o Dr . Brás Cubas ,\n",
      "pa . E voltando - se para mim :  Minha filha Eugênia . Eugênia , a flor da moita , mal respondeu a\n",
      "tando - se para mim :  Minha filha Eugênia . Eugênia , a flor da moita , mal respondeu ao gesto de\n",
      "ezesseis . Pois então ! é uma moça . Não pôde Eugênia encobrir a satisfação que sentia com esta min\n",
      ", era - lhe devida aquela compensação ; fui . Eugênia desataviou - se nesse dia por minha causa . C\n",
      "\n",
      "\n",
      "Concordance for: ['Nhã-loló']\n",
      "Displaying 0 of 0 matches:\n",
      "\n",
      "\n",
      "\n",
      "Concordance for: ['Lobo', 'Neves']\n",
      "Displaying 5 of 51 matches:\n",
      "\n",
      ", mas era - o , e então ... Então apareceu o Lobo Neves , um homem que não era mais esbelto que eu ,\n",
      "rasse outra aragem , porque a candidatura de Lobo Neves era apoiada por grandes influências . Cedi ;\n",
      " . Uma semana depois , Virgília perguntou ao Lobo Neves , a sorrir , quando seria ele ministro .  P\n",
      "polemista e de poeta . Quando me lembrava do Lobo Neves , que era já deputado , e de Virgília , futu\n",
      "ia melhor deputado e melhor marquês do que o Lobo Neves ,  eu , que valia mais , muito mais do que \n",
      "\n",
      "\n",
      "Concordance for: ['Quincas', 'Borba']\n",
      "Displaying 5 of 65 matches:\n",
      "\n",
      "os de eterno mote a chufas . Um de nós , o Quincas Borba , esse então era cruel com o pobre homem .\n",
      "ques .  Uns tremiam , outros rosnavam ; o Quincas Borba , porém , deixava - se estar quieto , com \n",
      "om os olhos espetados no ar . Uma flor , o Quincas Borba . Nunca em minha infância , nunca em toda \n",
      "rego . E de imperador ! Era um gosto ver o Quincas Borba fazer de imperador nas festas do Espírito \n",
      "le .  Não me lembra ...  Sou o Borba , o Quincas Borba . Recuei espantado ... Quem me dera agora \n",
      "\n",
      "\n",
      "Concordance for: ['D.', 'Plácida']\n",
      "Displaying 0 of 0 matches:\n",
      "\n",
      "\n",
      "\n",
      "Concordance for: ['Prudêncio']\n",
      "Displaying 5 of 8 matches:\n",
      "\n",
      "por pirraça ; e eu tinha apenas seis anos . Prudêncio , um moleque de casa , era o meu cavalo de t\n",
      "livros , roupa , charutos , um moleque ,  o Prudêncio do capítulo XI ,  e fui meter - me numa vel\n",
      "ravatas , e ia fechá - lo , quando o moleque Prudêncio me disse que uma pessoa do meu conhecimento \n",
      "visitar sinhá D . Eusébia ? perguntou - me o Prudêncio . Foi ela quem vestiu o corpo da minha defun\n",
      "comprar outro .  Bem ; fico com o Paulo e o Prudêncio .  O Prudêncio está livre .  Livre ?  Há \n",
      "\n",
      "\n",
      "Concordance for: ['Cotrim']\n",
      "Displaying 5 of 39 matches:\n",
      "\n",
      "ês senhoras , minha irmã Sabina , casada com o Cotrim , a filha ,  um lírio do vale ,  e ... Tenha\n",
      "a flor das damas do seu tempo ; vive o pai , o Cotrim , um sujeito que ... Mas não antecipemos os su\n",
      "io . Minha irmã Sabina , já então casada com o Cotrim , andava a cair de fadiga . Pobre moça ! dormi\n",
      " me levar à fina força . Era um bom rapaz este Cotrim ; passara de estróina a circunspecto . Agora c\n",
      "inha irmã sentada num sofá ,  pouco adiante , Cotrim , de pé , encostado a um consolo , com os braç\n",
      "\n",
      "\n"
     ]
    }
   ],
   "source": [
    "characters = [\n",
    "    'Brás Cubas',\n",
    "    'Virgília',\n",
    "    'Conselheiro Dutra',\n",
    "    'Sabina',\n",
    "    'Marcela',\n",
    "    'Eugênia',\n",
    "    'Nhã-loló',\n",
    "    'Lobo Neves',\n",
    "    'Quincas Borba',\n",
    "    'D. Plácida',\n",
    "    'Prudêncio',\n",
    "    'Cotrim'\n",
    "]\n",
    "\n",
    "print_concordance(machado_book, characters)"
   ]
  },
  {
   "attachments": {},
   "cell_type": "markdown",
   "metadata": {},
   "source": [
    "# SpaCy NLP model"
   ]
  },
  {
   "cell_type": "code",
   "execution_count": 37,
   "metadata": {
    "ExecuteTime": {
     "start_time": "2023-05-20T14:05:32.188368Z",
     "end_time": "2023-05-20T14:05:33.691079Z"
    },
    "collapsed": false
   },
   "outputs": [
    {
     "data": {
      "text/plain": "['tok2vec', 'morphologizer', 'parser', 'lemmatizer', 'attribute_ruler', 'ner']"
     },
     "execution_count": 37,
     "metadata": {},
     "output_type": "execute_result"
    }
   ],
   "source": [
    "# Load the spaCy Portuguese model (medium size)\n",
    "language_model = spacy.load('pt_core_news_lg')\n",
    "language_model.pipe_names"
   ]
  },
  {
   "cell_type": "code",
   "execution_count": 38,
   "metadata": {
    "ExecuteTime": {
     "start_time": "2023-05-20T14:05:33.700234Z",
     "end_time": "2023-05-20T14:05:33.748330Z"
    }
   },
   "outputs": [
    {
     "name": "stdout",
     "output_type": "stream",
     "text": [
      "['Brás Cubas', ',', 'BRÁS CUBAS', ',', 'Nhã-loló', ',', 'D. Plácida', ',', 'Dona Plácida', ',', 'Conselheiro Dutra', ',', 'Quincas Borba', 'e', 'Lobo Neves', '.']\n"
     ]
    }
   ],
   "source": [
    "tokenizer = language_model.tokenizer\n",
    "tokenizer.add_special_case('Brás Cubas', [{'ORTH': 'Brás Cubas'}])\n",
    "tokenizer.add_special_case('BRÁS CUBAS', [{'ORTH': 'BRÁS CUBAS'}])\n",
    "tokenizer.add_special_case('Damião Cubas', [{'ORTH': 'Damião Cubas'}])\n",
    "tokenizer.add_special_case('Luís Cubas', [{'ORTH': 'Luís Cubas'}])\n",
    "tokenizer.add_special_case('Nhã-loló', [{'ORTH': 'Nhã-loló'}])\n",
    "tokenizer.add_special_case('Conselheiro Dutra', [{'ORTH': 'Conselheiro Dutra'}])\n",
    "tokenizer.add_special_case('Luís Dutra', [{'ORTH': 'Luís Dutra'}])\n",
    "tokenizer.add_special_case('Lobo Neves', [{'ORTH': 'Lobo Neves'}])\n",
    "tokenizer.add_special_case('Quincas Borba', [{'ORTH': 'Quincas Borba'}])\n",
    "tokenizer.add_special_case('D. Plácida', [{'ORTH': 'D. Plácida'}])\n",
    "tokenizer.add_special_case('Dona Plácida', [{'ORTH': 'Dona Plácida'}])\n",
    "\n",
    "test_doc = language_model(\n",
    "    \"Brás Cubas, BRÁS CUBAS, Nhã-loló, D. Plácida, Dona Plácida, Conselheiro Dutra, Quincas Borba e Lobo Neves.\")\n",
    "\n",
    "print([token.text for token in test_doc])"
   ]
  },
  {
   "cell_type": "code",
   "execution_count": 39,
   "metadata": {
    "ExecuteTime": {
     "start_time": "2023-05-20T14:05:33.715563Z",
     "end_time": "2023-05-20T14:05:44.437522Z"
    }
   },
   "outputs": [
    {
     "name": "stdout",
     "output_type": "stream",
     "text": [
      "# of tokens: 79214\n",
      "# of unique tokens: 11536\n"
     ]
    }
   ],
   "source": [
    "# Processing the raw document with SpaCy portuguese language model\n",
    "document = language_model(machado.raw(file_id))\n",
    "tokens = [token for token in document]\n",
    "\n",
    "# Previous data from NLTK tokens\n",
    "# of tokens: 77098\n",
    "# of unique tokens: 10848\n",
    "\n",
    "print('# of tokens:', len(tokens))\n",
    "print('# of unique tokens:', len(set([token.text for token in tokens])))"
   ]
  },
  {
   "attachments": {},
   "cell_type": "markdown",
   "metadata": {},
   "source": [
    "# Relationships"
   ]
  },
  {
   "cell_type": "code",
   "execution_count": 40,
   "metadata": {
    "ExecuteTime": {
     "start_time": "2023-05-20T14:05:44.437749Z",
     "end_time": "2023-05-20T14:05:44.441141Z"
    }
   },
   "outputs": [],
   "source": [
    "def find_relationships(_chunks: List[str], _characters: List[str]) -> List[List[str]]:\n",
    "    relationships = []\n",
    "\n",
    "    for chunk in _chunks:\n",
    "        chunk_relationships = []\n",
    "\n",
    "        for character in _characters:\n",
    "            if character in chunk:\n",
    "                chunk_relationships.append(character)\n",
    "\n",
    "        if len(chunk_relationships) > 0:\n",
    "            relationships.append(chunk_relationships)\n",
    "\n",
    "    return relationships"
   ]
  },
  {
   "cell_type": "code",
   "execution_count": 41,
   "metadata": {
    "ExecuteTime": {
     "start_time": "2023-05-20T14:05:44.447142Z",
     "end_time": "2023-05-20T14:05:44.449750Z"
    }
   },
   "outputs": [],
   "source": [
    "def create_graph(_characters: List[str], _related_characters: List[List[str]]) -> nx.Graph:\n",
    "    _graph = nx.Graph()\n",
    "    _graph.add_nodes_from(_characters)\n",
    "\n",
    "    for sublist in _related_characters:\n",
    "        for pair in combinations(sublist, 2):\n",
    "            # If the edge already exists, increment the weight\n",
    "            if _graph.has_edge(*pair):\n",
    "                _graph[pair[0]][pair[1]]['weight'] += 1\n",
    "\n",
    "            # If the edge doesn't exist, create it with weight=1\n",
    "            else:\n",
    "                _graph.add_edge(*pair, weight=1)\n",
    "\n",
    "    return _graph\n",
    "\n",
    "\n",
    "def show_graph(_graph: nx.Graph, version: str = 'v1'):\n",
    "    net = Network(notebook=True, width='100%', height='800')\n",
    "    net.from_nx(_graph)\n",
    "    net.show(f\"relations_bras_cubas_{version}.html\")\n",
    "\n",
    "\n",
    "def print_graph_edges(_graph: nx.Graph):\n",
    "    for (u, v, wt) in _graph.edges.data('weight'):\n",
    "        print(f\"({u}, {v}, {wt})\")\n",
    "    print()"
   ]
  },
  {
   "cell_type": "code",
   "execution_count": 42,
   "metadata": {
    "ExecuteTime": {
     "start_time": "2023-05-20T14:05:44.453413Z",
     "end_time": "2023-05-20T14:05:44.502432Z"
    }
   },
   "outputs": [],
   "source": [
    "def betweenness_dataframe(_graph: nx.Graph) -> pd.DataFrame:\n",
    "    betweenness = nx.betweenness_centrality(_graph, weight='weight')\n",
    "    dataframe = pd.DataFrame(betweenness.items(), columns=['Character', 'Betweenness'])\n",
    "    return dataframe.sort_values(by='Betweenness', ascending=False)"
   ]
  },
  {
   "cell_type": "code",
   "execution_count": 43,
   "outputs": [],
   "source": [
    "def remove_stopwords(_tokens: List[Token]) -> List[Token]:\n",
    "    return [token for token in _tokens if not token.is_stop]"
   ],
   "metadata": {
    "collapsed": false,
    "ExecuteTime": {
     "start_time": "2023-05-20T14:05:44.461783Z",
     "end_time": "2023-05-20T14:05:44.502819Z"
    }
   }
  },
  {
   "attachments": {},
   "cell_type": "markdown",
   "metadata": {
    "id": "uUOVmrgBfeIq"
   },
   "source": [
    "## v1. Creating the relationship by chunks of 20 tokens"
   ]
  },
  {
   "cell_type": "code",
   "execution_count": 44,
   "metadata": {
    "ExecuteTime": {
     "start_time": "2023-05-20T14:05:44.481033Z",
     "end_time": "2023-05-20T14:05:44.512706Z"
    }
   },
   "outputs": [
    {
     "name": "stdout",
     "output_type": "stream",
     "text": [
      "Average size by sentece: 18.35782155272306\n"
     ]
    }
   ],
   "source": [
    "def average(ls: List) -> int:\n",
    "    return sum(ls) / len(ls)\n",
    "\n",
    "\n",
    "print('Average size by sentece:', average([len(sentence) for sentence in document.sents]))"
   ]
  },
  {
   "cell_type": "code",
   "execution_count": 45,
   "metadata": {
    "ExecuteTime": {
     "start_time": "2023-05-20T14:05:44.528587Z",
     "end_time": "2023-05-20T14:05:44.566548Z"
    }
   },
   "outputs": [
    {
     "name": "stdout",
     "output_type": "stream",
     "text": [
      "# of relationships found: 466\n"
     ]
    }
   ],
   "source": [
    "tokens_without_stopwords = [token.text for token in remove_stopwords(tokens)]\n",
    "\n",
    "chunk_size = 20\n",
    "words_chunks = [tokens_without_stopwords[i:i + chunk_size] \\\n",
    "                for i in range(0, len(tokens_without_stopwords), chunk_size)]\n",
    "\n",
    "related_characters = find_relationships(words_chunks, characters)\n",
    "\n",
    "print('# of relationships found:', len(related_characters))\n",
    "# related_characters"
   ]
  },
  {
   "cell_type": "code",
   "execution_count": 46,
   "metadata": {
    "ExecuteTime": {
     "start_time": "2023-05-20T14:05:44.553329Z",
     "end_time": "2023-05-20T14:05:44.566900Z"
    }
   },
   "outputs": [
    {
     "data": {
      "text/plain": "           Source             Target  Weight\n9        Virgília         D. Plácida      10\n6        Virgília         Lobo Neves       9\n12         Sabina             Cotrim       8\n8        Virgília      Quincas Borba       5\n7        Virgília             Sabina       3\n15         Sabina           Nhã-loló       2\n5        Virgília            Marcela       2\n1      Brás Cubas           Virgília       2\n17     Lobo Neves      Quincas Borba       1\n16     Lobo Neves         D. Plácida       1\n14         Sabina         Lobo Neves       1\n13         Sabina            Marcela       1\n0      Brás Cubas            Eugênia       1\n11       Virgília           Nhã-loló       1\n10       Virgília             Cotrim       1\n4        Virgília  Conselheiro Dutra       1\n3      Brás Cubas      Quincas Borba       1\n2      Brás Cubas            Marcela       1\n18  Quincas Borba         D. Plácida       1",
      "text/html": "<div>\n<style scoped>\n    .dataframe tbody tr th:only-of-type {\n        vertical-align: middle;\n    }\n\n    .dataframe tbody tr th {\n        vertical-align: top;\n    }\n\n    .dataframe thead th {\n        text-align: right;\n    }\n</style>\n<table border=\"1\" class=\"dataframe\">\n  <thead>\n    <tr style=\"text-align: right;\">\n      <th></th>\n      <th>Source</th>\n      <th>Target</th>\n      <th>Weight</th>\n    </tr>\n  </thead>\n  <tbody>\n    <tr>\n      <th>9</th>\n      <td>Virgília</td>\n      <td>D. Plácida</td>\n      <td>10</td>\n    </tr>\n    <tr>\n      <th>6</th>\n      <td>Virgília</td>\n      <td>Lobo Neves</td>\n      <td>9</td>\n    </tr>\n    <tr>\n      <th>12</th>\n      <td>Sabina</td>\n      <td>Cotrim</td>\n      <td>8</td>\n    </tr>\n    <tr>\n      <th>8</th>\n      <td>Virgília</td>\n      <td>Quincas Borba</td>\n      <td>5</td>\n    </tr>\n    <tr>\n      <th>7</th>\n      <td>Virgília</td>\n      <td>Sabina</td>\n      <td>3</td>\n    </tr>\n    <tr>\n      <th>15</th>\n      <td>Sabina</td>\n      <td>Nhã-loló</td>\n      <td>2</td>\n    </tr>\n    <tr>\n      <th>5</th>\n      <td>Virgília</td>\n      <td>Marcela</td>\n      <td>2</td>\n    </tr>\n    <tr>\n      <th>1</th>\n      <td>Brás Cubas</td>\n      <td>Virgília</td>\n      <td>2</td>\n    </tr>\n    <tr>\n      <th>17</th>\n      <td>Lobo Neves</td>\n      <td>Quincas Borba</td>\n      <td>1</td>\n    </tr>\n    <tr>\n      <th>16</th>\n      <td>Lobo Neves</td>\n      <td>D. Plácida</td>\n      <td>1</td>\n    </tr>\n    <tr>\n      <th>14</th>\n      <td>Sabina</td>\n      <td>Lobo Neves</td>\n      <td>1</td>\n    </tr>\n    <tr>\n      <th>13</th>\n      <td>Sabina</td>\n      <td>Marcela</td>\n      <td>1</td>\n    </tr>\n    <tr>\n      <th>0</th>\n      <td>Brás Cubas</td>\n      <td>Eugênia</td>\n      <td>1</td>\n    </tr>\n    <tr>\n      <th>11</th>\n      <td>Virgília</td>\n      <td>Nhã-loló</td>\n      <td>1</td>\n    </tr>\n    <tr>\n      <th>10</th>\n      <td>Virgília</td>\n      <td>Cotrim</td>\n      <td>1</td>\n    </tr>\n    <tr>\n      <th>4</th>\n      <td>Virgília</td>\n      <td>Conselheiro Dutra</td>\n      <td>1</td>\n    </tr>\n    <tr>\n      <th>3</th>\n      <td>Brás Cubas</td>\n      <td>Quincas Borba</td>\n      <td>1</td>\n    </tr>\n    <tr>\n      <th>2</th>\n      <td>Brás Cubas</td>\n      <td>Marcela</td>\n      <td>1</td>\n    </tr>\n    <tr>\n      <th>18</th>\n      <td>Quincas Borba</td>\n      <td>D. Plácida</td>\n      <td>1</td>\n    </tr>\n  </tbody>\n</table>\n</div>"
     },
     "execution_count": 46,
     "metadata": {},
     "output_type": "execute_result"
    }
   ],
   "source": [
    "graph = create_graph(characters, related_characters)\n",
    "\n",
    "weights = graph.edges.data('weight')\n",
    "pd.DataFrame(weights, columns=['Source', 'Target', 'Weight']).sort_values(by='Weight', ascending=False)"
   ]
  },
  {
   "cell_type": "code",
   "execution_count": 47,
   "metadata": {
    "ExecuteTime": {
     "start_time": "2023-05-20T14:05:44.562634Z",
     "end_time": "2023-05-20T14:05:44.591206Z"
    }
   },
   "outputs": [
    {
     "name": "stdout",
     "output_type": "stream",
     "text": [
      "Warning: When  cdn_resources is 'local' jupyter notebook has issues displaying graphics on chrome/safari. Use cdn_resources='in_line' or cdn_resources='remote' if you have issues viewing graphics in a notebook.\n",
      "relations_bras_cubas_v1.html\n"
     ]
    }
   ],
   "source": [
    "show_graph(graph, 'v1');"
   ]
  },
  {
   "cell_type": "code",
   "execution_count": 48,
   "metadata": {
    "ExecuteTime": {
     "start_time": "2023-05-20T14:05:44.597160Z",
     "end_time": "2023-05-20T14:05:44.655098Z"
    }
   },
   "outputs": [
    {
     "data": {
      "text/plain": "            Character  Betweenness\n1            Virgília     0.463636\n0          Brás Cubas     0.172727\n3              Sabina     0.054545\n8       Quincas Borba     0.036364\n4             Marcela     0.018182\n7          Lobo Neves     0.018182\n2   Conselheiro Dutra     0.000000\n5             Eugênia     0.000000\n6            Nhã-loló     0.000000\n9          D. Plácida     0.000000\n10          Prudêncio     0.000000\n11             Cotrim     0.000000",
      "text/html": "<div>\n<style scoped>\n    .dataframe tbody tr th:only-of-type {\n        vertical-align: middle;\n    }\n\n    .dataframe tbody tr th {\n        vertical-align: top;\n    }\n\n    .dataframe thead th {\n        text-align: right;\n    }\n</style>\n<table border=\"1\" class=\"dataframe\">\n  <thead>\n    <tr style=\"text-align: right;\">\n      <th></th>\n      <th>Character</th>\n      <th>Betweenness</th>\n    </tr>\n  </thead>\n  <tbody>\n    <tr>\n      <th>1</th>\n      <td>Virgília</td>\n      <td>0.463636</td>\n    </tr>\n    <tr>\n      <th>0</th>\n      <td>Brás Cubas</td>\n      <td>0.172727</td>\n    </tr>\n    <tr>\n      <th>3</th>\n      <td>Sabina</td>\n      <td>0.054545</td>\n    </tr>\n    <tr>\n      <th>8</th>\n      <td>Quincas Borba</td>\n      <td>0.036364</td>\n    </tr>\n    <tr>\n      <th>4</th>\n      <td>Marcela</td>\n      <td>0.018182</td>\n    </tr>\n    <tr>\n      <th>7</th>\n      <td>Lobo Neves</td>\n      <td>0.018182</td>\n    </tr>\n    <tr>\n      <th>2</th>\n      <td>Conselheiro Dutra</td>\n      <td>0.000000</td>\n    </tr>\n    <tr>\n      <th>5</th>\n      <td>Eugênia</td>\n      <td>0.000000</td>\n    </tr>\n    <tr>\n      <th>6</th>\n      <td>Nhã-loló</td>\n      <td>0.000000</td>\n    </tr>\n    <tr>\n      <th>9</th>\n      <td>D. Plácida</td>\n      <td>0.000000</td>\n    </tr>\n    <tr>\n      <th>10</th>\n      <td>Prudêncio</td>\n      <td>0.000000</td>\n    </tr>\n    <tr>\n      <th>11</th>\n      <td>Cotrim</td>\n      <td>0.000000</td>\n    </tr>\n  </tbody>\n</table>\n</div>"
     },
     "execution_count": 48,
     "metadata": {},
     "output_type": "execute_result"
    }
   ],
   "source": [
    "betweenness_dataframe(graph)"
   ]
  },
  {
   "attachments": {},
   "cell_type": "markdown",
   "metadata": {},
   "source": [
    "## v2. Creating the relationship by sentences"
   ]
  },
  {
   "cell_type": "code",
   "execution_count": 49,
   "metadata": {
    "ExecuteTime": {
     "start_time": "2023-05-20T14:05:44.650584Z",
     "end_time": "2023-05-20T14:05:44.808300Z"
    }
   },
   "outputs": [
    {
     "name": "stdout",
     "output_type": "stream",
     "text": [
      "# of relationships found: 498\n"
     ]
    }
   ],
   "source": [
    "sentence_chunks = [span.text for span in document.sents]\n",
    "\n",
    "related_characters = find_relationships(sentence_chunks, characters)\n",
    "\n",
    "print('# of relationships found:', len(related_characters))\n",
    "# related_characters"
   ]
  },
  {
   "cell_type": "code",
   "execution_count": 50,
   "metadata": {
    "ExecuteTime": {
     "start_time": "2023-05-20T14:05:44.703889Z",
     "end_time": "2023-05-20T14:05:44.868156Z"
    }
   },
   "outputs": [
    {
     "data": {
      "text/plain": "           Source         Target  Weight\n5        Virgília     Lobo Neves       8\n8        Virgília     D. Plácida       6\n11         Sabina         Cotrim       4\n4        Virgília        Marcela       3\n7        Virgília  Quincas Borba       3\n13         Sabina       Nhã-loló       2\n2      Brás Cubas        Marcela       2\n16     Lobo Neves     D. Plácida       2\n1      Brás Cubas       Virgília       2\n0      Brás Cubas        Eugênia       1\n17     Lobo Neves  Quincas Borba       1\n15        Marcela  Quincas Borba       1\n14         Sabina     Lobo Neves       1\n9        Virgília         Cotrim       1\n12         Sabina        Marcela       1\n10       Virgília       Nhã-loló       1\n6        Virgília         Sabina       1\n3      Brás Cubas         Cotrim       1\n18  Quincas Borba     D. Plácida       1",
      "text/html": "<div>\n<style scoped>\n    .dataframe tbody tr th:only-of-type {\n        vertical-align: middle;\n    }\n\n    .dataframe tbody tr th {\n        vertical-align: top;\n    }\n\n    .dataframe thead th {\n        text-align: right;\n    }\n</style>\n<table border=\"1\" class=\"dataframe\">\n  <thead>\n    <tr style=\"text-align: right;\">\n      <th></th>\n      <th>Source</th>\n      <th>Target</th>\n      <th>Weight</th>\n    </tr>\n  </thead>\n  <tbody>\n    <tr>\n      <th>5</th>\n      <td>Virgília</td>\n      <td>Lobo Neves</td>\n      <td>8</td>\n    </tr>\n    <tr>\n      <th>8</th>\n      <td>Virgília</td>\n      <td>D. Plácida</td>\n      <td>6</td>\n    </tr>\n    <tr>\n      <th>11</th>\n      <td>Sabina</td>\n      <td>Cotrim</td>\n      <td>4</td>\n    </tr>\n    <tr>\n      <th>4</th>\n      <td>Virgília</td>\n      <td>Marcela</td>\n      <td>3</td>\n    </tr>\n    <tr>\n      <th>7</th>\n      <td>Virgília</td>\n      <td>Quincas Borba</td>\n      <td>3</td>\n    </tr>\n    <tr>\n      <th>13</th>\n      <td>Sabina</td>\n      <td>Nhã-loló</td>\n      <td>2</td>\n    </tr>\n    <tr>\n      <th>2</th>\n      <td>Brás Cubas</td>\n      <td>Marcela</td>\n      <td>2</td>\n    </tr>\n    <tr>\n      <th>16</th>\n      <td>Lobo Neves</td>\n      <td>D. Plácida</td>\n      <td>2</td>\n    </tr>\n    <tr>\n      <th>1</th>\n      <td>Brás Cubas</td>\n      <td>Virgília</td>\n      <td>2</td>\n    </tr>\n    <tr>\n      <th>0</th>\n      <td>Brás Cubas</td>\n      <td>Eugênia</td>\n      <td>1</td>\n    </tr>\n    <tr>\n      <th>17</th>\n      <td>Lobo Neves</td>\n      <td>Quincas Borba</td>\n      <td>1</td>\n    </tr>\n    <tr>\n      <th>15</th>\n      <td>Marcela</td>\n      <td>Quincas Borba</td>\n      <td>1</td>\n    </tr>\n    <tr>\n      <th>14</th>\n      <td>Sabina</td>\n      <td>Lobo Neves</td>\n      <td>1</td>\n    </tr>\n    <tr>\n      <th>9</th>\n      <td>Virgília</td>\n      <td>Cotrim</td>\n      <td>1</td>\n    </tr>\n    <tr>\n      <th>12</th>\n      <td>Sabina</td>\n      <td>Marcela</td>\n      <td>1</td>\n    </tr>\n    <tr>\n      <th>10</th>\n      <td>Virgília</td>\n      <td>Nhã-loló</td>\n      <td>1</td>\n    </tr>\n    <tr>\n      <th>6</th>\n      <td>Virgília</td>\n      <td>Sabina</td>\n      <td>1</td>\n    </tr>\n    <tr>\n      <th>3</th>\n      <td>Brás Cubas</td>\n      <td>Cotrim</td>\n      <td>1</td>\n    </tr>\n    <tr>\n      <th>18</th>\n      <td>Quincas Borba</td>\n      <td>D. Plácida</td>\n      <td>1</td>\n    </tr>\n  </tbody>\n</table>\n</div>"
     },
     "execution_count": 50,
     "metadata": {},
     "output_type": "execute_result"
    }
   ],
   "source": [
    "graph = create_graph(characters, related_characters)\n",
    "\n",
    "weights = graph.edges.data('weight')\n",
    "pd.DataFrame(weights, columns=['Source', 'Target', 'Weight']).sort_values(by='Weight', ascending=False)"
   ]
  },
  {
   "cell_type": "code",
   "execution_count": 51,
   "metadata": {
    "ExecuteTime": {
     "start_time": "2023-05-20T14:05:44.723186Z",
     "end_time": "2023-05-20T14:05:44.869006Z"
    }
   },
   "outputs": [
    {
     "name": "stdout",
     "output_type": "stream",
     "text": [
      "Warning: When  cdn_resources is 'local' jupyter notebook has issues displaying graphics on chrome/safari. Use cdn_resources='in_line' or cdn_resources='remote' if you have issues viewing graphics in a notebook.\n",
      "relations_bras_cubas_v2.html\n"
     ]
    }
   ],
   "source": [
    "show_graph(graph, version='v2');"
   ]
  },
  {
   "cell_type": "code",
   "execution_count": 52,
   "metadata": {
    "ExecuteTime": {
     "start_time": "2023-05-20T14:05:44.758241Z",
     "end_time": "2023-05-20T14:05:44.869422Z"
    }
   },
   "outputs": [
    {
     "data": {
      "text/plain": "            Character  Betweenness\n1            Virgília     0.284848\n0          Brás Cubas     0.151515\n3              Sabina     0.048485\n4             Marcela     0.036364\n7          Lobo Neves     0.015152\n8       Quincas Borba     0.015152\n11             Cotrim     0.012121\n2   Conselheiro Dutra     0.000000\n5             Eugênia     0.000000\n6            Nhã-loló     0.000000\n9          D. Plácida     0.000000\n10          Prudêncio     0.000000",
      "text/html": "<div>\n<style scoped>\n    .dataframe tbody tr th:only-of-type {\n        vertical-align: middle;\n    }\n\n    .dataframe tbody tr th {\n        vertical-align: top;\n    }\n\n    .dataframe thead th {\n        text-align: right;\n    }\n</style>\n<table border=\"1\" class=\"dataframe\">\n  <thead>\n    <tr style=\"text-align: right;\">\n      <th></th>\n      <th>Character</th>\n      <th>Betweenness</th>\n    </tr>\n  </thead>\n  <tbody>\n    <tr>\n      <th>1</th>\n      <td>Virgília</td>\n      <td>0.284848</td>\n    </tr>\n    <tr>\n      <th>0</th>\n      <td>Brás Cubas</td>\n      <td>0.151515</td>\n    </tr>\n    <tr>\n      <th>3</th>\n      <td>Sabina</td>\n      <td>0.048485</td>\n    </tr>\n    <tr>\n      <th>4</th>\n      <td>Marcela</td>\n      <td>0.036364</td>\n    </tr>\n    <tr>\n      <th>7</th>\n      <td>Lobo Neves</td>\n      <td>0.015152</td>\n    </tr>\n    <tr>\n      <th>8</th>\n      <td>Quincas Borba</td>\n      <td>0.015152</td>\n    </tr>\n    <tr>\n      <th>11</th>\n      <td>Cotrim</td>\n      <td>0.012121</td>\n    </tr>\n    <tr>\n      <th>2</th>\n      <td>Conselheiro Dutra</td>\n      <td>0.000000</td>\n    </tr>\n    <tr>\n      <th>5</th>\n      <td>Eugênia</td>\n      <td>0.000000</td>\n    </tr>\n    <tr>\n      <th>6</th>\n      <td>Nhã-loló</td>\n      <td>0.000000</td>\n    </tr>\n    <tr>\n      <th>9</th>\n      <td>D. Plácida</td>\n      <td>0.000000</td>\n    </tr>\n    <tr>\n      <th>10</th>\n      <td>Prudêncio</td>\n      <td>0.000000</td>\n    </tr>\n  </tbody>\n</table>\n</div>"
     },
     "execution_count": 52,
     "metadata": {},
     "output_type": "execute_result"
    }
   ],
   "source": [
    "betweenness_dataframe(graph)"
   ]
  },
  {
   "attachments": {},
   "cell_type": "markdown",
   "metadata": {},
   "source": [
    "# Characters style similarity"
   ]
  },
  {
   "cell_type": "code",
   "execution_count": 53,
   "metadata": {
    "ExecuteTime": {
     "start_time": "2023-05-20T14:05:44.826997Z",
     "end_time": "2023-05-20T14:05:47.240527Z"
    }
   },
   "outputs": [
    {
     "data": {
      "text/plain": "            Character  Similarity\n6          Lobo Neves    0.980151\n7       Quincas Borba    0.975325\n3             Marcela    0.973849\n0            Virgília    0.973290\n8          D. Plácida    0.970998\n10             Cotrim    0.970131\n5            Nhã-loló    0.965064\n4             Eugênia    0.956754\n2              Sabina    0.954632\n9           Prudêncio    0.930684\n1   Conselheiro Dutra    0.892105",
      "text/html": "<div>\n<style scoped>\n    .dataframe tbody tr th:only-of-type {\n        vertical-align: middle;\n    }\n\n    .dataframe tbody tr th {\n        vertical-align: top;\n    }\n\n    .dataframe thead th {\n        text-align: right;\n    }\n</style>\n<table border=\"1\" class=\"dataframe\">\n  <thead>\n    <tr style=\"text-align: right;\">\n      <th></th>\n      <th>Character</th>\n      <th>Similarity</th>\n    </tr>\n  </thead>\n  <tbody>\n    <tr>\n      <th>6</th>\n      <td>Lobo Neves</td>\n      <td>0.980151</td>\n    </tr>\n    <tr>\n      <th>7</th>\n      <td>Quincas Borba</td>\n      <td>0.975325</td>\n    </tr>\n    <tr>\n      <th>3</th>\n      <td>Marcela</td>\n      <td>0.973849</td>\n    </tr>\n    <tr>\n      <th>0</th>\n      <td>Virgília</td>\n      <td>0.973290</td>\n    </tr>\n    <tr>\n      <th>8</th>\n      <td>D. Plácida</td>\n      <td>0.970998</td>\n    </tr>\n    <tr>\n      <th>10</th>\n      <td>Cotrim</td>\n      <td>0.970131</td>\n    </tr>\n    <tr>\n      <th>5</th>\n      <td>Nhã-loló</td>\n      <td>0.965064</td>\n    </tr>\n    <tr>\n      <th>4</th>\n      <td>Eugênia</td>\n      <td>0.956754</td>\n    </tr>\n    <tr>\n      <th>2</th>\n      <td>Sabina</td>\n      <td>0.954632</td>\n    </tr>\n    <tr>\n      <th>9</th>\n      <td>Prudêncio</td>\n      <td>0.930684</td>\n    </tr>\n    <tr>\n      <th>1</th>\n      <td>Conselheiro Dutra</td>\n      <td>0.892105</td>\n    </tr>\n  </tbody>\n</table>\n</div>"
     },
     "execution_count": 53,
     "metadata": {},
     "output_type": "execute_result"
    }
   ],
   "source": [
    "def find_sentences(_model: Language, _document: Doc, _word: str) -> Doc:\n",
    "    matcher = Matcher(_model.vocab)\n",
    "    matcher.add(_word, [[{\"LOWER\": _word.lower()}]])\n",
    "    matches = matcher(_document)\n",
    "\n",
    "    sentences = [_document[start:end].sent.text for _, start, end in matches]\n",
    "\n",
    "    return _model(' '.join(sentences))\n",
    "\n",
    "\n",
    "bras_cubas = find_sentences(language_model, document, 'Brás Cubas')\n",
    "characters_similarity = {}\n",
    "\n",
    "for character in characters[1:]:\n",
    "    character_doc = find_sentences(language_model, document, character)\n",
    "    characters_similarity[character] = bras_cubas.similarity(character_doc)\n",
    "\n",
    "pd.DataFrame(characters_similarity.items(), columns=['Character', 'Similarity']) \\\n",
    "    .sort_values(by='Similarity', ascending=False)"
   ]
  },
  {
   "cell_type": "markdown",
   "metadata": {},
   "source": [
    "### Failed attempt of training the tok2vec model to create a vector from a single character's name "
   ]
  },
  {
   "cell_type": "code",
   "execution_count": 54,
   "metadata": {
    "ExecuteTime": {
     "start_time": "2023-05-20T14:05:47.251646Z",
     "end_time": "2023-05-20T14:06:36.748073Z"
    }
   },
   "outputs": [
    {
     "name": "stdout",
     "output_type": "stream",
     "text": [
      "Losses at iteration 0: {'tok2vec': 0.0}\n",
      "Losses at iteration 1: {'tok2vec': 0.0}\n",
      "Losses at iteration 2: {'tok2vec': 0.0}\n",
      "Losses at iteration 3: {'tok2vec': 0.0}\n",
      "Losses at iteration 4: {'tok2vec': 0.0}\n",
      "Losses at iteration 5: {'tok2vec': 0.0}\n",
      "Losses at iteration 6: {'tok2vec': 0.0}\n",
      "Losses at iteration 7: {'tok2vec': 0.0}\n",
      "Losses at iteration 8: {'tok2vec': 0.0}\n",
      "Losses at iteration 9: {'tok2vec': 0.0}\n"
     ]
    }
   ],
   "source": [
    "from spacy.util import minibatch, compounding\n",
    "from spacy.training import Example\n",
    "import random\n",
    "\n",
    "new_nlp = spacy.blank(\"pt\")\n",
    "new_nlp.add_pipe(\"tok2vec\")\n",
    "\n",
    "texts = [span.text for span in document.sents]\n",
    "annotations = [{\"entities\": []} for t in texts]\n",
    "\n",
    "# Initialize the model\n",
    "optimizer = new_nlp.initialize()\n",
    "\n",
    "examples = [Example.from_dict(new_nlp(text), annot) for text, annot in zip(texts, annotations)]\n",
    "\n",
    "# Number of epochs\n",
    "epochs = 10\n",
    "\n",
    "for i in range(epochs):\n",
    "    # Shuffle the examples at the beginning of each epoch\n",
    "    random.shuffle(examples)\n",
    "    losses = {}\n",
    "\n",
    "    # Create batches using spaCy's minibatch utility function\n",
    "    batches = minibatch(examples, size=compounding(4.0, 32.0, 1.001))\n",
    "\n",
    "    for batch in batches:\n",
    "        # Update the model\n",
    "        new_nlp.update(batch, sgd=optimizer, losses=losses)\n",
    "\n",
    "    print(f\"Losses at iteration {i}: {losses}\")\n"
   ]
  },
  {
   "cell_type": "code",
   "execution_count": 54,
   "metadata": {
    "ExecuteTime": {
     "start_time": "2023-05-20T14:06:36.756167Z",
     "end_time": "2023-05-20T14:06:36.758068Z"
    }
   },
   "outputs": [],
   "source": []
  }
 ],
 "metadata": {
  "colab": {
   "provenance": []
  },
  "kernelspec": {
   "display_name": "Python 3 (ipykernel)",
   "language": "python",
   "name": "python3"
  },
  "language_info": {
   "codemirror_mode": {
    "name": "ipython",
    "version": 3
   },
   "file_extension": ".py",
   "mimetype": "text/x-python",
   "name": "python",
   "nbconvert_exporter": "python",
   "pygments_lexer": "ipython3",
   "version": "3.11.2"
  }
 },
 "nbformat": 4,
 "nbformat_minor": 0
}
