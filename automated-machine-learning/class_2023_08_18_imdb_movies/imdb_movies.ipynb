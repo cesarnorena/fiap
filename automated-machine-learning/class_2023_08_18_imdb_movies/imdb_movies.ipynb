{
 "cells": [
  {
   "cell_type": "markdown",
   "source": [
    "### Data Source\n",
    "https://developer.imdb.com/non-commercial-datasets/"
   ],
   "metadata": {
    "collapsed": false
   },
   "id": "c24065003f20fe80"
  },
  {
   "cell_type": "code",
   "execution_count": 129,
   "outputs": [],
   "source": [
    "# !python3 -m wget https://datasets.imdbws.com/title.basics.tsv.gz\n",
    "# !python3 -m wget https://datasets.imdbws.com/title.akas.tsv.gz\n",
    "# !python3 -m wget https://datasets.imdbws.com/title.ratings.tsv.gz\n",
    "# !python3 -m wget https://datasets.imdbws.com/title.crew.tsv.gz\n",
    "# !python3 -m wget https://datasets.imdbws.com/name.basics.tsv.gz"
   ],
   "metadata": {
    "collapsed": false,
    "ExecuteTime": {
     "end_time": "2023-09-05T05:57:17.949339Z",
     "start_time": "2023-09-05T05:57:17.917822Z"
    }
   },
   "id": "5ae43f739b55b4e4"
  },
  {
   "cell_type": "code",
   "execution_count": 130,
   "outputs": [],
   "source": [
    "import pandas"
   ],
   "metadata": {
    "collapsed": false,
    "ExecuteTime": {
     "end_time": "2023-09-05T05:57:17.949497Z",
     "start_time": "2023-09-05T05:57:17.920552Z"
    }
   },
   "id": "initial_id"
  },
  {
   "cell_type": "code",
   "execution_count": 131,
   "outputs": [
    {
     "name": "stdout",
     "output_type": "stream",
     "text": [
      "<class 'pandas.core.frame.DataFrame'>\n",
      "RangeIndex: 10125398 entries, 0 to 10125397\n",
      "Data columns (total 9 columns):\n",
      " #   Column          Dtype \n",
      "---  ------          ----- \n",
      " 0   tconst          object\n",
      " 1   titleType       object\n",
      " 2   primaryTitle    object\n",
      " 3   originalTitle   object\n",
      " 4   isAdult         object\n",
      " 5   startYear       object\n",
      " 6   endYear         object\n",
      " 7   runtimeMinutes  object\n",
      " 8   genres          object\n",
      "dtypes: object(9)\n",
      "memory usage: 695.3+ MB\n"
     ]
    }
   ],
   "source": [
    "title_basics = pandas.read_csv('title.basics.tsv.gz', delimiter='\\t', low_memory=False)\n",
    "title_basics.info()"
   ],
   "metadata": {
    "collapsed": false,
    "ExecuteTime": {
     "end_time": "2023-09-05T05:57:32.492503Z",
     "start_time": "2023-09-05T05:57:17.922345Z"
    }
   },
   "id": "88ba6c042b7eabee"
  },
  {
   "cell_type": "code",
   "execution_count": 132,
   "outputs": [
    {
     "name": "stdout",
     "output_type": "stream",
     "text": [
      "<class 'pandas.core.frame.DataFrame'>\n",
      "RangeIndex: 37044374 entries, 0 to 37044373\n",
      "Data columns (total 3 columns):\n",
      " #   Column      Dtype \n",
      "---  ------      ----- \n",
      " 0   tconst      object\n",
      " 1   region      object\n",
      " 2   attributes  object\n",
      "dtypes: object(3)\n",
      "memory usage: 847.9+ MB\n"
     ]
    }
   ],
   "source": [
    "title_akas = pandas.read_csv('title.akas.tsv.gz', delimiter='\\t', low_memory=False)\n",
    "title_akas.rename(columns={'titleId': 'tconst'}, inplace=True)\n",
    "title_akas = title_akas[['tconst', 'region', 'attributes']]\n",
    "title_akas.info()"
   ],
   "metadata": {
    "collapsed": false,
    "ExecuteTime": {
     "end_time": "2023-09-05T05:57:58.998361Z",
     "start_time": "2023-09-05T05:57:32.492889Z"
    }
   },
   "id": "3e10a7527b8d0ff2"
  },
  {
   "cell_type": "code",
   "execution_count": 133,
   "outputs": [
    {
     "name": "stdout",
     "output_type": "stream",
     "text": [
      "<class 'pandas.core.frame.DataFrame'>\n",
      "RangeIndex: 1344083 entries, 0 to 1344082\n",
      "Data columns (total 3 columns):\n",
      " #   Column         Non-Null Count    Dtype  \n",
      "---  ------         --------------    -----  \n",
      " 0   tconst         1344083 non-null  object \n",
      " 1   averageRating  1344083 non-null  float64\n",
      " 2   numVotes       1344083 non-null  int64  \n",
      "dtypes: float64(1), int64(1), object(1)\n",
      "memory usage: 30.8+ MB\n"
     ]
    }
   ],
   "source": [
    "title_ratings = pandas.read_csv('title.ratings.tsv.gz', delimiter='\\t')\n",
    "title_ratings.info()"
   ],
   "metadata": {
    "collapsed": false,
    "ExecuteTime": {
     "end_time": "2023-09-05T05:57:59.399609Z",
     "start_time": "2023-09-05T05:57:58.999299Z"
    }
   },
   "id": "7df28ba3fd84920"
  },
  {
   "cell_type": "code",
   "execution_count": 134,
   "outputs": [
    {
     "name": "stdout",
     "output_type": "stream",
     "text": [
      "<class 'pandas.core.frame.DataFrame'>\n",
      "RangeIndex: 10125398 entries, 0 to 10125397\n",
      "Data columns (total 3 columns):\n",
      " #   Column     Dtype \n",
      "---  ------     ----- \n",
      " 0   tconst     object\n",
      " 1   directors  object\n",
      " 2   writers    object\n",
      "dtypes: object(3)\n",
      "memory usage: 231.8+ MB\n"
     ]
    }
   ],
   "source": [
    "title_crew = pandas.read_csv('title.crew.tsv.gz', delimiter='\\t')\n",
    "title_crew.info()"
   ],
   "metadata": {
    "collapsed": false,
    "ExecuteTime": {
     "end_time": "2023-09-05T05:58:03.866125Z",
     "start_time": "2023-09-05T05:57:59.399547Z"
    }
   },
   "id": "ee10aa9f201b8713"
  },
  {
   "cell_type": "code",
   "execution_count": 135,
   "outputs": [
    {
     "name": "stdout",
     "output_type": "stream",
     "text": [
      "<class 'pandas.core.frame.DataFrame'>\n",
      "RangeIndex: 12777301 entries, 0 to 12777300\n",
      "Data columns (total 6 columns):\n",
      " #   Column             Dtype \n",
      "---  ------             ----- \n",
      " 0   nconst             object\n",
      " 1   primaryName        object\n",
      " 2   birthYear          object\n",
      " 3   deathYear          object\n",
      " 4   primaryProfession  object\n",
      " 5   knownForTitles     object\n",
      "dtypes: object(6)\n",
      "memory usage: 584.9+ MB\n"
     ]
    }
   ],
   "source": [
    "name_basics = pandas.read_csv('name.basics.tsv.gz', delimiter='\\t', low_memory=False)\n",
    "name_basics.info()"
   ],
   "metadata": {
    "collapsed": false,
    "ExecuteTime": {
     "end_time": "2023-09-05T05:58:20.801056Z",
     "start_time": "2023-09-05T05:58:03.866494Z"
    }
   },
   "id": "f316755d42745370"
  },
  {
   "cell_type": "code",
   "execution_count": 136,
   "outputs": [
    {
     "data": {
      "text/plain": "       tconst titleType                   primaryTitle  \\\n0   tt0000009     movie                     Miss Jerry   \n1   tt0000009     movie                     Miss Jerry   \n2   tt0000009     movie                     Miss Jerry   \n3   tt0000009     movie                     Miss Jerry   \n4   tt0000009     movie                     Miss Jerry   \n5   tt0000147     movie  The Corbett-Fitzsimmons Fight   \n6   tt0000147     movie  The Corbett-Fitzsimmons Fight   \n7   tt0000147     movie  The Corbett-Fitzsimmons Fight   \n8   tt0000502     movie                       Bohemios   \n9   tt0000502     movie                       Bohemios   \n10  tt0000574     movie    The Story of the Kelly Gang   \n11  tt0000574     movie    The Story of the Kelly Gang   \n12  tt0000574     movie    The Story of the Kelly Gang   \n13  tt0000574     movie    The Story of the Kelly Gang   \n14  tt0000574     movie    The Story of the Kelly Gang   \n15  tt0000574     movie    The Story of the Kelly Gang   \n16  tt0000574     movie    The Story of the Kelly Gang   \n17  tt0000574     movie    The Story of the Kelly Gang   \n18  tt0000574     movie    The Story of the Kelly Gang   \n19  tt0000591     movie               The Prodigal Son   \n\n                    originalTitle isAdult startYear endYear runtimeMinutes  \\\n0                      Miss Jerry       0      1894      \\N             45   \n1                      Miss Jerry       0      1894      \\N             45   \n2                      Miss Jerry       0      1894      \\N             45   \n3                      Miss Jerry       0      1894      \\N             45   \n4                      Miss Jerry       0      1894      \\N             45   \n5   The Corbett-Fitzsimmons Fight       0      1897      \\N            100   \n6   The Corbett-Fitzsimmons Fight       0      1897      \\N            100   \n7   The Corbett-Fitzsimmons Fight       0      1897      \\N            100   \n8                        Bohemios       0      1905      \\N            100   \n9                        Bohemios       0      1905      \\N            100   \n10    The Story of the Kelly Gang       0      1906      \\N             70   \n11    The Story of the Kelly Gang       0      1906      \\N             70   \n12    The Story of the Kelly Gang       0      1906      \\N             70   \n13    The Story of the Kelly Gang       0      1906      \\N             70   \n14    The Story of the Kelly Gang       0      1906      \\N             70   \n15    The Story of the Kelly Gang       0      1906      \\N             70   \n16    The Story of the Kelly Gang       0      1906      \\N             70   \n17    The Story of the Kelly Gang       0      1906      \\N             70   \n18    The Story of the Kelly Gang       0      1906      \\N             70   \n19              L'enfant prodigue       0      1907      \\N             90   \n\n                        genres  averageRating  numVotes  directors  \\\n0                      Romance            5.3       205  nm0085156   \n1                      Romance            5.3       205  nm0085156   \n2                      Romance            5.3       205  nm0085156   \n3                      Romance            5.3       205  nm0085156   \n4                      Romance            5.3       205  nm0085156   \n5       Documentary,News,Sport            5.3       480  nm0714557   \n6       Documentary,News,Sport            5.3       480  nm0714557   \n7       Documentary,News,Sport            5.3       480  nm0714557   \n8                           \\N            4.1        15  nm0063413   \n9                           \\N            4.1        15  nm0063413   \n10  Action,Adventure,Biography            6.0       844  nm0846879   \n11  Action,Adventure,Biography            6.0       844  nm0846879   \n12  Action,Adventure,Biography            6.0       844  nm0846879   \n13  Action,Adventure,Biography            6.0       844  nm0846879   \n14  Action,Adventure,Biography            6.0       844  nm0846879   \n15  Action,Adventure,Biography            6.0       844  nm0846879   \n16  Action,Adventure,Biography            6.0       844  nm0846879   \n17  Action,Adventure,Biography            6.0       844  nm0846879   \n18  Action,Adventure,Biography            6.0       844  nm0846879   \n19                       Drama            4.4        20  nm0141150   \n\n                          writers region     attributes  \n0                       nm0085156     \\N             \\N  \n1                       nm0085156     AU             \\N  \n2                       nm0085156     DE  literal title  \n3                       nm0085156     HU             \\N  \n4                       nm0085156     US             \\N  \n5                              \\N     US             \\N  \n6                              \\N     RU             \\N  \n7                              \\N     \\N             \\N  \n8   nm0063413,nm0657268,nm0675388     \\N             \\N  \n9   nm0063413,nm0657268,nm0675388     ES             \\N  \n10                      nm0846879     HU             \\N  \n11                      nm0846879     AU             \\N  \n12                      nm0846879     RS             \\N  \n13                      nm0846879     GB             \\N  \n14                      nm0846879     \\N             \\N  \n15                      nm0846879     SG             \\N  \n16                      nm0846879     US             \\N  \n17                      nm0846879     DE             \\N  \n18                      nm0846879     AU             \\N  \n19                      nm0141150     FR             \\N  ",
      "text/html": "<div>\n<style scoped>\n    .dataframe tbody tr th:only-of-type {\n        vertical-align: middle;\n    }\n\n    .dataframe tbody tr th {\n        vertical-align: top;\n    }\n\n    .dataframe thead th {\n        text-align: right;\n    }\n</style>\n<table border=\"1\" class=\"dataframe\">\n  <thead>\n    <tr style=\"text-align: right;\">\n      <th></th>\n      <th>tconst</th>\n      <th>titleType</th>\n      <th>primaryTitle</th>\n      <th>originalTitle</th>\n      <th>isAdult</th>\n      <th>startYear</th>\n      <th>endYear</th>\n      <th>runtimeMinutes</th>\n      <th>genres</th>\n      <th>averageRating</th>\n      <th>numVotes</th>\n      <th>directors</th>\n      <th>writers</th>\n      <th>region</th>\n      <th>attributes</th>\n    </tr>\n  </thead>\n  <tbody>\n    <tr>\n      <th>0</th>\n      <td>tt0000009</td>\n      <td>movie</td>\n      <td>Miss Jerry</td>\n      <td>Miss Jerry</td>\n      <td>0</td>\n      <td>1894</td>\n      <td>\\N</td>\n      <td>45</td>\n      <td>Romance</td>\n      <td>5.3</td>\n      <td>205</td>\n      <td>nm0085156</td>\n      <td>nm0085156</td>\n      <td>\\N</td>\n      <td>\\N</td>\n    </tr>\n    <tr>\n      <th>1</th>\n      <td>tt0000009</td>\n      <td>movie</td>\n      <td>Miss Jerry</td>\n      <td>Miss Jerry</td>\n      <td>0</td>\n      <td>1894</td>\n      <td>\\N</td>\n      <td>45</td>\n      <td>Romance</td>\n      <td>5.3</td>\n      <td>205</td>\n      <td>nm0085156</td>\n      <td>nm0085156</td>\n      <td>AU</td>\n      <td>\\N</td>\n    </tr>\n    <tr>\n      <th>2</th>\n      <td>tt0000009</td>\n      <td>movie</td>\n      <td>Miss Jerry</td>\n      <td>Miss Jerry</td>\n      <td>0</td>\n      <td>1894</td>\n      <td>\\N</td>\n      <td>45</td>\n      <td>Romance</td>\n      <td>5.3</td>\n      <td>205</td>\n      <td>nm0085156</td>\n      <td>nm0085156</td>\n      <td>DE</td>\n      <td>literal title</td>\n    </tr>\n    <tr>\n      <th>3</th>\n      <td>tt0000009</td>\n      <td>movie</td>\n      <td>Miss Jerry</td>\n      <td>Miss Jerry</td>\n      <td>0</td>\n      <td>1894</td>\n      <td>\\N</td>\n      <td>45</td>\n      <td>Romance</td>\n      <td>5.3</td>\n      <td>205</td>\n      <td>nm0085156</td>\n      <td>nm0085156</td>\n      <td>HU</td>\n      <td>\\N</td>\n    </tr>\n    <tr>\n      <th>4</th>\n      <td>tt0000009</td>\n      <td>movie</td>\n      <td>Miss Jerry</td>\n      <td>Miss Jerry</td>\n      <td>0</td>\n      <td>1894</td>\n      <td>\\N</td>\n      <td>45</td>\n      <td>Romance</td>\n      <td>5.3</td>\n      <td>205</td>\n      <td>nm0085156</td>\n      <td>nm0085156</td>\n      <td>US</td>\n      <td>\\N</td>\n    </tr>\n    <tr>\n      <th>5</th>\n      <td>tt0000147</td>\n      <td>movie</td>\n      <td>The Corbett-Fitzsimmons Fight</td>\n      <td>The Corbett-Fitzsimmons Fight</td>\n      <td>0</td>\n      <td>1897</td>\n      <td>\\N</td>\n      <td>100</td>\n      <td>Documentary,News,Sport</td>\n      <td>5.3</td>\n      <td>480</td>\n      <td>nm0714557</td>\n      <td>\\N</td>\n      <td>US</td>\n      <td>\\N</td>\n    </tr>\n    <tr>\n      <th>6</th>\n      <td>tt0000147</td>\n      <td>movie</td>\n      <td>The Corbett-Fitzsimmons Fight</td>\n      <td>The Corbett-Fitzsimmons Fight</td>\n      <td>0</td>\n      <td>1897</td>\n      <td>\\N</td>\n      <td>100</td>\n      <td>Documentary,News,Sport</td>\n      <td>5.3</td>\n      <td>480</td>\n      <td>nm0714557</td>\n      <td>\\N</td>\n      <td>RU</td>\n      <td>\\N</td>\n    </tr>\n    <tr>\n      <th>7</th>\n      <td>tt0000147</td>\n      <td>movie</td>\n      <td>The Corbett-Fitzsimmons Fight</td>\n      <td>The Corbett-Fitzsimmons Fight</td>\n      <td>0</td>\n      <td>1897</td>\n      <td>\\N</td>\n      <td>100</td>\n      <td>Documentary,News,Sport</td>\n      <td>5.3</td>\n      <td>480</td>\n      <td>nm0714557</td>\n      <td>\\N</td>\n      <td>\\N</td>\n      <td>\\N</td>\n    </tr>\n    <tr>\n      <th>8</th>\n      <td>tt0000502</td>\n      <td>movie</td>\n      <td>Bohemios</td>\n      <td>Bohemios</td>\n      <td>0</td>\n      <td>1905</td>\n      <td>\\N</td>\n      <td>100</td>\n      <td>\\N</td>\n      <td>4.1</td>\n      <td>15</td>\n      <td>nm0063413</td>\n      <td>nm0063413,nm0657268,nm0675388</td>\n      <td>\\N</td>\n      <td>\\N</td>\n    </tr>\n    <tr>\n      <th>9</th>\n      <td>tt0000502</td>\n      <td>movie</td>\n      <td>Bohemios</td>\n      <td>Bohemios</td>\n      <td>0</td>\n      <td>1905</td>\n      <td>\\N</td>\n      <td>100</td>\n      <td>\\N</td>\n      <td>4.1</td>\n      <td>15</td>\n      <td>nm0063413</td>\n      <td>nm0063413,nm0657268,nm0675388</td>\n      <td>ES</td>\n      <td>\\N</td>\n    </tr>\n    <tr>\n      <th>10</th>\n      <td>tt0000574</td>\n      <td>movie</td>\n      <td>The Story of the Kelly Gang</td>\n      <td>The Story of the Kelly Gang</td>\n      <td>0</td>\n      <td>1906</td>\n      <td>\\N</td>\n      <td>70</td>\n      <td>Action,Adventure,Biography</td>\n      <td>6.0</td>\n      <td>844</td>\n      <td>nm0846879</td>\n      <td>nm0846879</td>\n      <td>HU</td>\n      <td>\\N</td>\n    </tr>\n    <tr>\n      <th>11</th>\n      <td>tt0000574</td>\n      <td>movie</td>\n      <td>The Story of the Kelly Gang</td>\n      <td>The Story of the Kelly Gang</td>\n      <td>0</td>\n      <td>1906</td>\n      <td>\\N</td>\n      <td>70</td>\n      <td>Action,Adventure,Biography</td>\n      <td>6.0</td>\n      <td>844</td>\n      <td>nm0846879</td>\n      <td>nm0846879</td>\n      <td>AU</td>\n      <td>\\N</td>\n    </tr>\n    <tr>\n      <th>12</th>\n      <td>tt0000574</td>\n      <td>movie</td>\n      <td>The Story of the Kelly Gang</td>\n      <td>The Story of the Kelly Gang</td>\n      <td>0</td>\n      <td>1906</td>\n      <td>\\N</td>\n      <td>70</td>\n      <td>Action,Adventure,Biography</td>\n      <td>6.0</td>\n      <td>844</td>\n      <td>nm0846879</td>\n      <td>nm0846879</td>\n      <td>RS</td>\n      <td>\\N</td>\n    </tr>\n    <tr>\n      <th>13</th>\n      <td>tt0000574</td>\n      <td>movie</td>\n      <td>The Story of the Kelly Gang</td>\n      <td>The Story of the Kelly Gang</td>\n      <td>0</td>\n      <td>1906</td>\n      <td>\\N</td>\n      <td>70</td>\n      <td>Action,Adventure,Biography</td>\n      <td>6.0</td>\n      <td>844</td>\n      <td>nm0846879</td>\n      <td>nm0846879</td>\n      <td>GB</td>\n      <td>\\N</td>\n    </tr>\n    <tr>\n      <th>14</th>\n      <td>tt0000574</td>\n      <td>movie</td>\n      <td>The Story of the Kelly Gang</td>\n      <td>The Story of the Kelly Gang</td>\n      <td>0</td>\n      <td>1906</td>\n      <td>\\N</td>\n      <td>70</td>\n      <td>Action,Adventure,Biography</td>\n      <td>6.0</td>\n      <td>844</td>\n      <td>nm0846879</td>\n      <td>nm0846879</td>\n      <td>\\N</td>\n      <td>\\N</td>\n    </tr>\n    <tr>\n      <th>15</th>\n      <td>tt0000574</td>\n      <td>movie</td>\n      <td>The Story of the Kelly Gang</td>\n      <td>The Story of the Kelly Gang</td>\n      <td>0</td>\n      <td>1906</td>\n      <td>\\N</td>\n      <td>70</td>\n      <td>Action,Adventure,Biography</td>\n      <td>6.0</td>\n      <td>844</td>\n      <td>nm0846879</td>\n      <td>nm0846879</td>\n      <td>SG</td>\n      <td>\\N</td>\n    </tr>\n    <tr>\n      <th>16</th>\n      <td>tt0000574</td>\n      <td>movie</td>\n      <td>The Story of the Kelly Gang</td>\n      <td>The Story of the Kelly Gang</td>\n      <td>0</td>\n      <td>1906</td>\n      <td>\\N</td>\n      <td>70</td>\n      <td>Action,Adventure,Biography</td>\n      <td>6.0</td>\n      <td>844</td>\n      <td>nm0846879</td>\n      <td>nm0846879</td>\n      <td>US</td>\n      <td>\\N</td>\n    </tr>\n    <tr>\n      <th>17</th>\n      <td>tt0000574</td>\n      <td>movie</td>\n      <td>The Story of the Kelly Gang</td>\n      <td>The Story of the Kelly Gang</td>\n      <td>0</td>\n      <td>1906</td>\n      <td>\\N</td>\n      <td>70</td>\n      <td>Action,Adventure,Biography</td>\n      <td>6.0</td>\n      <td>844</td>\n      <td>nm0846879</td>\n      <td>nm0846879</td>\n      <td>DE</td>\n      <td>\\N</td>\n    </tr>\n    <tr>\n      <th>18</th>\n      <td>tt0000574</td>\n      <td>movie</td>\n      <td>The Story of the Kelly Gang</td>\n      <td>The Story of the Kelly Gang</td>\n      <td>0</td>\n      <td>1906</td>\n      <td>\\N</td>\n      <td>70</td>\n      <td>Action,Adventure,Biography</td>\n      <td>6.0</td>\n      <td>844</td>\n      <td>nm0846879</td>\n      <td>nm0846879</td>\n      <td>AU</td>\n      <td>\\N</td>\n    </tr>\n    <tr>\n      <th>19</th>\n      <td>tt0000591</td>\n      <td>movie</td>\n      <td>The Prodigal Son</td>\n      <td>L'enfant prodigue</td>\n      <td>0</td>\n      <td>1907</td>\n      <td>\\N</td>\n      <td>90</td>\n      <td>Drama</td>\n      <td>4.4</td>\n      <td>20</td>\n      <td>nm0141150</td>\n      <td>nm0141150</td>\n      <td>FR</td>\n      <td>\\N</td>\n    </tr>\n  </tbody>\n</table>\n</div>"
     },
     "execution_count": 136,
     "metadata": {},
     "output_type": "execute_result"
    }
   ],
   "source": [
    "movies = title_basics[title_basics['titleType'] == 'movie']\n",
    "movies = pandas.merge(movies, title_ratings, on='tconst')\n",
    "movies = pandas.merge(movies, title_crew, on='tconst')\n",
    "movies = pandas.merge(movies, title_akas, on='tconst')\n",
    "movies.head(20)"
   ],
   "metadata": {
    "collapsed": false,
    "ExecuteTime": {
     "end_time": "2023-09-05T05:58:30.896669Z",
     "start_time": "2023-09-05T05:58:21.075670Z"
    }
   },
   "id": "f373d6c06fd4af2b"
  },
  {
   "cell_type": "code",
   "execution_count": 137,
   "outputs": [],
   "source": [
    "# Preprocess name_basics into a dictionary for fast lookups\n",
    "name_dict = name_basics.set_index('nconst')['primaryName'].to_dict()\n",
    "\n",
    "\n",
    "def map_ids_to_names(ids: str):\n",
    "    if pandas.isna(ids):\n",
    "        return None\n",
    "\n",
    "    id_list = ids.split(',')\n",
    "    names = [name_dict.get(id_) for id_ in id_list if id_ in name_dict]\n",
    "    return ', '.join(names)\n",
    "\n",
    "\n",
    "# Apply the function to the directors and writers columns\n",
    "movies['directorNames'] = movies['directors'].apply(map_ids_to_names)\n",
    "movies['writerNames'] = movies['writers'].apply(map_ids_to_names)"
   ],
   "metadata": {
    "collapsed": false,
    "ExecuteTime": {
     "end_time": "2023-09-05T05:58:41.214413Z",
     "start_time": "2023-09-05T05:58:31.322755Z"
    }
   },
   "id": "642722724575384d"
  },
  {
   "cell_type": "code",
   "execution_count": 138,
   "outputs": [
    {
     "data": {
      "text/plain": "        tconst titleType                                 primaryTitle  \\\n2    tt0000009     movie                                   Miss Jerry   \n41   tt0000941     movie                               Locura de amor   \n80   tt0001175     movie                                      Camille   \n90   tt0001285     movie                            The Life of Moses   \n93   tt0001285     movie                            The Life of Moses   \n96   tt0001285     movie                            The Life of Moses   \n97   tt0001285     movie                            The Life of Moses   \n130  tt0001531     movie  Captain Starlight, or Gentleman of the Road   \n140  tt0001592     movie                         In the Prime of Life   \n157  tt0001630     movie                             Der fremde Vogel   \n164  tt0001630     movie                             Der fremde Vogel   \n191  tt0001892     movie                               Den sorte drøm   \n233  tt0002101     movie                                    Cleopatra   \n235  tt0002101     movie                                    Cleopatra   \n236  tt0002101     movie                                    Cleopatra   \n238  tt0002101     movie                                    Cleopatra   \n246  tt0002130     movie                              Dante's Inferno   \n265  tt0002153     movie                 The Great Circus Catastrophe   \n267  tt0002153     movie                 The Great Circus Catastrophe   \n268  tt0002153     movie                 The Great Circus Catastrophe   \n\n                                   originalTitle isAdult startYear endYear  \\\n2                                     Miss Jerry       0      1894    None   \n41                                Locura de amor       0      1909    None   \n80                          La dame aux camélias       0      1912    None   \n90                             The Life of Moses       0      1909    None   \n93                             The Life of Moses       0      1909    None   \n96                             The Life of Moses       0      1909    None   \n97                             The Life of Moses       0      1909    None   \n130  Captain Starlight, or Gentleman of the Road       0      1911    None   \n140                                Ekspeditricen       0      1911    None   \n157                             Der fremde Vogel       0      1911    None   \n164                             Der fremde Vogel       0      1911    None   \n191                               Den sorte drøm       0      1911    None   \n233                                    Cleopatra       0      1912    None   \n235                                    Cleopatra       0      1912    None   \n236                                    Cleopatra       0      1912    None   \n238                                    Cleopatra       0      1912    None   \n246                                    L'Inferno       0      1911    None   \n265         Dødsspring til hest fra cirkuskuplen       0      1912    None   \n267         Dødsspring til hest fra cirkuskuplen       0      1912    None   \n268         Dødsspring til hest fra cirkuskuplen       0      1912    None   \n\n    runtimeMinutes                   genres  averageRating  numVotes  \\\n2               45                  Romance            5.3       205   \n41              45                    Drama            4.5        27   \n80            None            Drama,Romance            5.1        42   \n90              50   Biography,Drama,Family            5.4        59   \n93              50   Biography,Drama,Family            5.4        59   \n96              50   Biography,Drama,Family            5.4        59   \n97              50   Biography,Drama,Family            5.4        59   \n130           None                     None            4.6        15   \n140             52                    Drama            6.0        25   \n157             45                     None            6.2        36   \n164             45                     None            6.2        36   \n191             53                    Drama            5.8       250   \n233            100            Drama,History            5.1       567   \n235            100            Drama,History            5.1       567   \n236            100            Drama,History            5.1       567   \n238            100            Drama,History            5.1       567   \n246             71  Adventure,Drama,Fantasy            7.0      3215   \n265             45                    Drama            5.9        77   \n267             45                    Drama            5.9        77   \n268             45                    Drama            5.9        77   \n\n                         directors                        writers region  \\\n2                        nm0085156                      nm0085156     DE   \n41             nm0063413,nm0550220  nm0063413,nm0550220,nm0848502    XWW   \n80   nm0130633,nm0580197,nm0693516            nm0241414,nm0693516     DE   \n90                       nm0085865            nm0676645,nm0836316     US   \n93                       nm0085865            nm0676645,nm0836316     US   \n96                       nm0085865            nm0676645,nm0836316     US   \n97                       nm0085865            nm0676645,nm0836316     US   \n130                      nm0738202            nm0092809,nm1010943     AU   \n140                      nm0088881                      nm0491503     SE   \n157                      nm0300487                      nm0300487     DK   \n164                      nm0300487                      nm0300487     NL   \n191                      nm0300487            nm0300487,nm2131092     US   \n233                      nm0309130            nm0765026,nm0309130     GR   \n235                      nm0309130            nm0765026,nm0309130     US   \n236                      nm0309130            nm0765026,nm0309130     US   \n238                      nm0309130            nm0765026,nm0309130   None   \n246  nm0078205,nm0655824,nm0209738                      nm0019604     IT   \n265                      nm0773654                      nm0458071     NL   \n267                      nm0773654                      nm0458071     NL   \n268                      nm0773654                      nm0458071     NL   \n\n                 attributes  \\\n2             literal title   \n41   informal literal title   \n80           complete title   \n90        second part title   \n93      fourth season title   \n96         third part title   \n97       fifth season title   \n130             short title   \n140          premiere title   \n157          premiere title   \n164  informal literal title   \n191   literal English title   \n233           literal title   \n235              long title   \n236         copyright title   \n238         copyright title   \n246             short title   \n265  informal literal title   \n267  informal literal title   \n268  informal literal title   \n\n                                         directorNames  \\\n2                                      Alexander Black   \n41                     Ricardo de Baños, Alberto Marro   \n80     André Calmettes, Louis Mercanton, Henri Pouctal   \n90                                  J. Stuart Blackton   \n93                                  J. Stuart Blackton   \n96                                  J. Stuart Blackton   \n97                                  J. Stuart Blackton   \n130                                       Alfred Rolfe   \n140                                        August Blom   \n157                                          Urban Gad   \n164                                          Urban Gad   \n191                                          Urban Gad   \n233                                 Charles L. Gaskill   \n235                                 Charles L. Gaskill   \n236                                 Charles L. Gaskill   \n238                                 Charles L. Gaskill   \n246  Francesco Bertolini, Adolfo Padovan, Giuseppe ...   \n265                          Eduard Schnedler-Sørensen   \n267                          Eduard Schnedler-Sørensen   \n268                          Eduard Schnedler-Sørensen   \n\n                                           writerNames  \n2                                      Alexander Black  \n41   Ricardo de Baños, Alberto Marro, Manuel Tamayo...  \n80                 Alexandre Dumas fils, Henri Pouctal  \n90               Madison C. Peters, Rollin S. Sturgeon  \n93               Madison C. Peters, Rollin S. Sturgeon  \n96               Madison C. Peters, Rollin S. Sturgeon  \n97               Madison C. Peters, Rollin S. Sturgeon  \n130                    Rolf Boldrewood, Alfred Dampier  \n140                                      Lau Lauritzen  \n157                                          Urban Gad  \n164                                          Urban Gad  \n191              Urban Gad, Gebhard Schätzler-Perasini  \n233               Victorien Sardou, Charles L. Gaskill  \n235               Victorien Sardou, Charles L. Gaskill  \n236               Victorien Sardou, Charles L. Gaskill  \n238               Victorien Sardou, Charles L. Gaskill  \n246                                    Dante Alighieri  \n265                                     Alfred Kjerulf  \n267                                     Alfred Kjerulf  \n268                                     Alfred Kjerulf  ",
      "text/html": "<div>\n<style scoped>\n    .dataframe tbody tr th:only-of-type {\n        vertical-align: middle;\n    }\n\n    .dataframe tbody tr th {\n        vertical-align: top;\n    }\n\n    .dataframe thead th {\n        text-align: right;\n    }\n</style>\n<table border=\"1\" class=\"dataframe\">\n  <thead>\n    <tr style=\"text-align: right;\">\n      <th></th>\n      <th>tconst</th>\n      <th>titleType</th>\n      <th>primaryTitle</th>\n      <th>originalTitle</th>\n      <th>isAdult</th>\n      <th>startYear</th>\n      <th>endYear</th>\n      <th>runtimeMinutes</th>\n      <th>genres</th>\n      <th>averageRating</th>\n      <th>numVotes</th>\n      <th>directors</th>\n      <th>writers</th>\n      <th>region</th>\n      <th>attributes</th>\n      <th>directorNames</th>\n      <th>writerNames</th>\n    </tr>\n  </thead>\n  <tbody>\n    <tr>\n      <th>2</th>\n      <td>tt0000009</td>\n      <td>movie</td>\n      <td>Miss Jerry</td>\n      <td>Miss Jerry</td>\n      <td>0</td>\n      <td>1894</td>\n      <td>None</td>\n      <td>45</td>\n      <td>Romance</td>\n      <td>5.3</td>\n      <td>205</td>\n      <td>nm0085156</td>\n      <td>nm0085156</td>\n      <td>DE</td>\n      <td>literal title</td>\n      <td>Alexander Black</td>\n      <td>Alexander Black</td>\n    </tr>\n    <tr>\n      <th>41</th>\n      <td>tt0000941</td>\n      <td>movie</td>\n      <td>Locura de amor</td>\n      <td>Locura de amor</td>\n      <td>0</td>\n      <td>1909</td>\n      <td>None</td>\n      <td>45</td>\n      <td>Drama</td>\n      <td>4.5</td>\n      <td>27</td>\n      <td>nm0063413,nm0550220</td>\n      <td>nm0063413,nm0550220,nm0848502</td>\n      <td>XWW</td>\n      <td>informal literal title</td>\n      <td>Ricardo de Baños, Alberto Marro</td>\n      <td>Ricardo de Baños, Alberto Marro, Manuel Tamayo...</td>\n    </tr>\n    <tr>\n      <th>80</th>\n      <td>tt0001175</td>\n      <td>movie</td>\n      <td>Camille</td>\n      <td>La dame aux camélias</td>\n      <td>0</td>\n      <td>1912</td>\n      <td>None</td>\n      <td>None</td>\n      <td>Drama,Romance</td>\n      <td>5.1</td>\n      <td>42</td>\n      <td>nm0130633,nm0580197,nm0693516</td>\n      <td>nm0241414,nm0693516</td>\n      <td>DE</td>\n      <td>complete title</td>\n      <td>André Calmettes, Louis Mercanton, Henri Pouctal</td>\n      <td>Alexandre Dumas fils, Henri Pouctal</td>\n    </tr>\n    <tr>\n      <th>90</th>\n      <td>tt0001285</td>\n      <td>movie</td>\n      <td>The Life of Moses</td>\n      <td>The Life of Moses</td>\n      <td>0</td>\n      <td>1909</td>\n      <td>None</td>\n      <td>50</td>\n      <td>Biography,Drama,Family</td>\n      <td>5.4</td>\n      <td>59</td>\n      <td>nm0085865</td>\n      <td>nm0676645,nm0836316</td>\n      <td>US</td>\n      <td>second part title</td>\n      <td>J. Stuart Blackton</td>\n      <td>Madison C. Peters, Rollin S. Sturgeon</td>\n    </tr>\n    <tr>\n      <th>93</th>\n      <td>tt0001285</td>\n      <td>movie</td>\n      <td>The Life of Moses</td>\n      <td>The Life of Moses</td>\n      <td>0</td>\n      <td>1909</td>\n      <td>None</td>\n      <td>50</td>\n      <td>Biography,Drama,Family</td>\n      <td>5.4</td>\n      <td>59</td>\n      <td>nm0085865</td>\n      <td>nm0676645,nm0836316</td>\n      <td>US</td>\n      <td>fourth season title</td>\n      <td>J. Stuart Blackton</td>\n      <td>Madison C. Peters, Rollin S. Sturgeon</td>\n    </tr>\n    <tr>\n      <th>96</th>\n      <td>tt0001285</td>\n      <td>movie</td>\n      <td>The Life of Moses</td>\n      <td>The Life of Moses</td>\n      <td>0</td>\n      <td>1909</td>\n      <td>None</td>\n      <td>50</td>\n      <td>Biography,Drama,Family</td>\n      <td>5.4</td>\n      <td>59</td>\n      <td>nm0085865</td>\n      <td>nm0676645,nm0836316</td>\n      <td>US</td>\n      <td>third part title</td>\n      <td>J. Stuart Blackton</td>\n      <td>Madison C. Peters, Rollin S. Sturgeon</td>\n    </tr>\n    <tr>\n      <th>97</th>\n      <td>tt0001285</td>\n      <td>movie</td>\n      <td>The Life of Moses</td>\n      <td>The Life of Moses</td>\n      <td>0</td>\n      <td>1909</td>\n      <td>None</td>\n      <td>50</td>\n      <td>Biography,Drama,Family</td>\n      <td>5.4</td>\n      <td>59</td>\n      <td>nm0085865</td>\n      <td>nm0676645,nm0836316</td>\n      <td>US</td>\n      <td>fifth season title</td>\n      <td>J. Stuart Blackton</td>\n      <td>Madison C. Peters, Rollin S. Sturgeon</td>\n    </tr>\n    <tr>\n      <th>130</th>\n      <td>tt0001531</td>\n      <td>movie</td>\n      <td>Captain Starlight, or Gentleman of the Road</td>\n      <td>Captain Starlight, or Gentleman of the Road</td>\n      <td>0</td>\n      <td>1911</td>\n      <td>None</td>\n      <td>None</td>\n      <td>None</td>\n      <td>4.6</td>\n      <td>15</td>\n      <td>nm0738202</td>\n      <td>nm0092809,nm1010943</td>\n      <td>AU</td>\n      <td>short title</td>\n      <td>Alfred Rolfe</td>\n      <td>Rolf Boldrewood, Alfred Dampier</td>\n    </tr>\n    <tr>\n      <th>140</th>\n      <td>tt0001592</td>\n      <td>movie</td>\n      <td>In the Prime of Life</td>\n      <td>Ekspeditricen</td>\n      <td>0</td>\n      <td>1911</td>\n      <td>None</td>\n      <td>52</td>\n      <td>Drama</td>\n      <td>6.0</td>\n      <td>25</td>\n      <td>nm0088881</td>\n      <td>nm0491503</td>\n      <td>SE</td>\n      <td>premiere title</td>\n      <td>August Blom</td>\n      <td>Lau Lauritzen</td>\n    </tr>\n    <tr>\n      <th>157</th>\n      <td>tt0001630</td>\n      <td>movie</td>\n      <td>Der fremde Vogel</td>\n      <td>Der fremde Vogel</td>\n      <td>0</td>\n      <td>1911</td>\n      <td>None</td>\n      <td>45</td>\n      <td>None</td>\n      <td>6.2</td>\n      <td>36</td>\n      <td>nm0300487</td>\n      <td>nm0300487</td>\n      <td>DK</td>\n      <td>premiere title</td>\n      <td>Urban Gad</td>\n      <td>Urban Gad</td>\n    </tr>\n    <tr>\n      <th>164</th>\n      <td>tt0001630</td>\n      <td>movie</td>\n      <td>Der fremde Vogel</td>\n      <td>Der fremde Vogel</td>\n      <td>0</td>\n      <td>1911</td>\n      <td>None</td>\n      <td>45</td>\n      <td>None</td>\n      <td>6.2</td>\n      <td>36</td>\n      <td>nm0300487</td>\n      <td>nm0300487</td>\n      <td>NL</td>\n      <td>informal literal title</td>\n      <td>Urban Gad</td>\n      <td>Urban Gad</td>\n    </tr>\n    <tr>\n      <th>191</th>\n      <td>tt0001892</td>\n      <td>movie</td>\n      <td>Den sorte drøm</td>\n      <td>Den sorte drøm</td>\n      <td>0</td>\n      <td>1911</td>\n      <td>None</td>\n      <td>53</td>\n      <td>Drama</td>\n      <td>5.8</td>\n      <td>250</td>\n      <td>nm0300487</td>\n      <td>nm0300487,nm2131092</td>\n      <td>US</td>\n      <td>literal English title</td>\n      <td>Urban Gad</td>\n      <td>Urban Gad, Gebhard Schätzler-Perasini</td>\n    </tr>\n    <tr>\n      <th>233</th>\n      <td>tt0002101</td>\n      <td>movie</td>\n      <td>Cleopatra</td>\n      <td>Cleopatra</td>\n      <td>0</td>\n      <td>1912</td>\n      <td>None</td>\n      <td>100</td>\n      <td>Drama,History</td>\n      <td>5.1</td>\n      <td>567</td>\n      <td>nm0309130</td>\n      <td>nm0765026,nm0309130</td>\n      <td>GR</td>\n      <td>literal title</td>\n      <td>Charles L. Gaskill</td>\n      <td>Victorien Sardou, Charles L. Gaskill</td>\n    </tr>\n    <tr>\n      <th>235</th>\n      <td>tt0002101</td>\n      <td>movie</td>\n      <td>Cleopatra</td>\n      <td>Cleopatra</td>\n      <td>0</td>\n      <td>1912</td>\n      <td>None</td>\n      <td>100</td>\n      <td>Drama,History</td>\n      <td>5.1</td>\n      <td>567</td>\n      <td>nm0309130</td>\n      <td>nm0765026,nm0309130</td>\n      <td>US</td>\n      <td>long title</td>\n      <td>Charles L. Gaskill</td>\n      <td>Victorien Sardou, Charles L. Gaskill</td>\n    </tr>\n    <tr>\n      <th>236</th>\n      <td>tt0002101</td>\n      <td>movie</td>\n      <td>Cleopatra</td>\n      <td>Cleopatra</td>\n      <td>0</td>\n      <td>1912</td>\n      <td>None</td>\n      <td>100</td>\n      <td>Drama,History</td>\n      <td>5.1</td>\n      <td>567</td>\n      <td>nm0309130</td>\n      <td>nm0765026,nm0309130</td>\n      <td>US</td>\n      <td>copyright title</td>\n      <td>Charles L. Gaskill</td>\n      <td>Victorien Sardou, Charles L. Gaskill</td>\n    </tr>\n    <tr>\n      <th>238</th>\n      <td>tt0002101</td>\n      <td>movie</td>\n      <td>Cleopatra</td>\n      <td>Cleopatra</td>\n      <td>0</td>\n      <td>1912</td>\n      <td>None</td>\n      <td>100</td>\n      <td>Drama,History</td>\n      <td>5.1</td>\n      <td>567</td>\n      <td>nm0309130</td>\n      <td>nm0765026,nm0309130</td>\n      <td>None</td>\n      <td>copyright title</td>\n      <td>Charles L. Gaskill</td>\n      <td>Victorien Sardou, Charles L. Gaskill</td>\n    </tr>\n    <tr>\n      <th>246</th>\n      <td>tt0002130</td>\n      <td>movie</td>\n      <td>Dante's Inferno</td>\n      <td>L'Inferno</td>\n      <td>0</td>\n      <td>1911</td>\n      <td>None</td>\n      <td>71</td>\n      <td>Adventure,Drama,Fantasy</td>\n      <td>7.0</td>\n      <td>3215</td>\n      <td>nm0078205,nm0655824,nm0209738</td>\n      <td>nm0019604</td>\n      <td>IT</td>\n      <td>short title</td>\n      <td>Francesco Bertolini, Adolfo Padovan, Giuseppe ...</td>\n      <td>Dante Alighieri</td>\n    </tr>\n    <tr>\n      <th>265</th>\n      <td>tt0002153</td>\n      <td>movie</td>\n      <td>The Great Circus Catastrophe</td>\n      <td>Dødsspring til hest fra cirkuskuplen</td>\n      <td>0</td>\n      <td>1912</td>\n      <td>None</td>\n      <td>45</td>\n      <td>Drama</td>\n      <td>5.9</td>\n      <td>77</td>\n      <td>nm0773654</td>\n      <td>nm0458071</td>\n      <td>NL</td>\n      <td>informal literal title</td>\n      <td>Eduard Schnedler-Sørensen</td>\n      <td>Alfred Kjerulf</td>\n    </tr>\n    <tr>\n      <th>267</th>\n      <td>tt0002153</td>\n      <td>movie</td>\n      <td>The Great Circus Catastrophe</td>\n      <td>Dødsspring til hest fra cirkuskuplen</td>\n      <td>0</td>\n      <td>1912</td>\n      <td>None</td>\n      <td>45</td>\n      <td>Drama</td>\n      <td>5.9</td>\n      <td>77</td>\n      <td>nm0773654</td>\n      <td>nm0458071</td>\n      <td>NL</td>\n      <td>informal literal title</td>\n      <td>Eduard Schnedler-Sørensen</td>\n      <td>Alfred Kjerulf</td>\n    </tr>\n    <tr>\n      <th>268</th>\n      <td>tt0002153</td>\n      <td>movie</td>\n      <td>The Great Circus Catastrophe</td>\n      <td>Dødsspring til hest fra cirkuskuplen</td>\n      <td>0</td>\n      <td>1912</td>\n      <td>None</td>\n      <td>45</td>\n      <td>Drama</td>\n      <td>5.9</td>\n      <td>77</td>\n      <td>nm0773654</td>\n      <td>nm0458071</td>\n      <td>NL</td>\n      <td>informal literal title</td>\n      <td>Eduard Schnedler-Sørensen</td>\n      <td>Alfred Kjerulf</td>\n    </tr>\n  </tbody>\n</table>\n</div>"
     },
     "execution_count": 138,
     "metadata": {},
     "output_type": "execute_result"
    }
   ],
   "source": [
    "# Replace column values where value is \\N to None\n",
    "movies = movies.replace(r'\\N', None)\n",
    "\n",
    "# Get movies where attributes is not null\n",
    "movies[movies['attributes'].notnull()].head(20)"
   ],
   "metadata": {
    "collapsed": false,
    "ExecuteTime": {
     "end_time": "2023-09-05T05:58:42.499507Z",
     "start_time": "2023-09-05T05:58:41.525207Z"
    }
   },
   "id": "e27d4d6791256756"
  },
  {
   "cell_type": "code",
   "execution_count": 139,
   "outputs": [
    {
     "name": "stdout",
     "output_type": "stream",
     "text": [
      "<class 'pandas.core.frame.DataFrame'>\n",
      "RangeIndex: 2212120 entries, 0 to 2212119\n",
      "Data columns (total 17 columns):\n",
      " #   Column          Dtype  \n",
      "---  ------          -----  \n",
      " 0   tconst          object \n",
      " 1   titleType       object \n",
      " 2   primaryTitle    object \n",
      " 3   originalTitle   object \n",
      " 4   isAdult         object \n",
      " 5   startYear       object \n",
      " 6   endYear         object \n",
      " 7   runtimeMinutes  object \n",
      " 8   genres          object \n",
      " 9   averageRating   float64\n",
      " 10  numVotes        int64  \n",
      " 11  directors       object \n",
      " 12  writers         object \n",
      " 13  region          object \n",
      " 14  attributes      object \n",
      " 15  directorNames   object \n",
      " 16  writerNames     object \n",
      "dtypes: float64(1), int64(1), object(15)\n",
      "memory usage: 286.9+ MB\n"
     ]
    }
   ],
   "source": [
    "movies.info()"
   ],
   "metadata": {
    "collapsed": false,
    "ExecuteTime": {
     "end_time": "2023-09-05T05:58:42.503190Z",
     "start_time": "2023-09-05T05:58:42.501289Z"
    }
   },
   "id": "aef5915f0c68ad69"
  },
  {
   "cell_type": "code",
   "execution_count": 140,
   "outputs": [],
   "source": [
    "# Drop rows where isAdult is different from 0\n",
    "movies = movies[movies['isAdult'] != 0]"
   ],
   "metadata": {
    "collapsed": false,
    "ExecuteTime": {
     "end_time": "2023-09-05T05:58:43.241006Z",
     "start_time": "2023-09-05T05:58:42.561536Z"
    }
   },
   "id": "697729abb94e4d5b"
  },
  {
   "cell_type": "code",
   "execution_count": 141,
   "outputs": [],
   "source": [
    "# Drop rows where originalTitle and years are repeated\n",
    "movies = movies.drop_duplicates(subset=['originalTitle', 'startYear'])"
   ],
   "metadata": {
    "collapsed": false,
    "ExecuteTime": {
     "end_time": "2023-09-05T05:58:43.569608Z",
     "start_time": "2023-09-05T05:58:43.258644Z"
    }
   },
   "id": "fe897158782fc2b3"
  },
  {
   "cell_type": "code",
   "execution_count": 142,
   "outputs": [],
   "source": [
    "# Drop rows where genres is null\n",
    "movies = movies[movies['genres'].notnull()]"
   ],
   "metadata": {
    "collapsed": false,
    "ExecuteTime": {
     "end_time": "2023-09-05T05:58:43.629168Z",
     "start_time": "2023-09-05T05:58:43.576163Z"
    }
   },
   "id": "e54476ce07ac5791"
  },
  {
   "cell_type": "code",
   "execution_count": 143,
   "outputs": [],
   "source": [
    "# Drop rows where primaryTitle is null or empty or <unset>\n",
    "movies = movies[movies['primaryTitle'].notnull()]\n",
    "movies = movies[movies['primaryTitle'] != '']\n",
    "movies = movies[movies['primaryTitle'] != '<unset>']"
   ],
   "metadata": {
    "collapsed": false,
    "ExecuteTime": {
     "end_time": "2023-09-05T05:58:43.800731Z",
     "start_time": "2023-09-05T05:58:43.643188Z"
    }
   },
   "id": "1e3246c19bfc49ff"
  },
  {
   "cell_type": "code",
   "execution_count": 144,
   "outputs": [],
   "source": [
    "movies = movies.drop(columns=[\n",
    "    'isAdult',\n",
    "    'originalTitle',\n",
    "    'endYear',\n",
    "    'titleType',\n",
    "    'runtimeMinutes',\n",
    "    'attributes',\n",
    "    'directors',\n",
    "    'writers',\n",
    "])"
   ],
   "metadata": {
    "collapsed": false,
    "ExecuteTime": {
     "end_time": "2023-09-05T05:58:43.832957Z",
     "start_time": "2023-09-05T05:58:43.801385Z"
    }
   },
   "id": "8954f315120d0ffd"
  },
  {
   "cell_type": "markdown",
   "source": [
    "# Web Scraping"
   ],
   "metadata": {
    "collapsed": false
   },
   "id": "1ea0c9288d66038d"
  },
  {
   "cell_type": "code",
   "execution_count": 145,
   "outputs": [],
   "source": [
    "import requests\n",
    "from bs4 import BeautifulSoup"
   ],
   "metadata": {
    "collapsed": false,
    "ExecuteTime": {
     "end_time": "2023-09-05T05:58:43.834916Z",
     "start_time": "2023-09-05T05:58:43.833360Z"
    }
   },
   "id": "7e072616abe06574"
  },
  {
   "cell_type": "code",
   "execution_count": 146,
   "outputs": [],
   "source": [
    "def movie_url(movie_id):\n",
    "    return f'https://www.imdb.com/title/{movie_id}'"
   ],
   "metadata": {
    "collapsed": false,
    "ExecuteTime": {
     "end_time": "2023-09-05T05:58:43.837041Z",
     "start_time": "2023-09-05T05:58:43.835502Z"
    }
   },
   "id": "b5cc8037e0fa0512"
  },
  {
   "cell_type": "code",
   "execution_count": 147,
   "outputs": [],
   "source": [
    "def get_html(url: str) -> BeautifulSoup | None:\n",
    "    user_agents = [\n",
    "        \"Mozilla/5.0 (X11; Linux x86_64) AppleWebKit/537.36 (KHTML, like Gecko) HeadlessChrome/74.0.3729.157 Safari/537.36\",\n",
    "        \"Mozilla/5.0 (Macintosh; Intel Mac OS X 10_14_5) AppleWebKit/605.1.15 (KHTML, like Gecko) Version/12.1.1 Safari/605.1.15\"\n",
    "    ]\n",
    "    response = requests.get(url, headers={\"User-agent\": user_agents[1]})\n",
    "\n",
    "    if response.status_code != 200:\n",
    "        return None\n",
    "\n",
    "    return response.text"
   ],
   "metadata": {
    "collapsed": false,
    "ExecuteTime": {
     "end_time": "2023-09-05T05:58:43.838989Z",
     "start_time": "2023-09-05T05:58:43.837931Z"
    }
   },
   "id": "9a457916b6004ac0"
  },
  {
   "cell_type": "code",
   "execution_count": 148,
   "outputs": [],
   "source": [
    "def get_movie_description(movie_id) -> str | None:\n",
    "    url = movie_url(movie_id)\n",
    "    html = get_html(url)\n",
    "    try:\n",
    "        soup = BeautifulSoup(html, 'html.parser')\n",
    "        description = soup.find('span', {'data-testid': 'plot-xs_to_m'}).text\n",
    "        description.replace(';', ',')\n",
    "        return description\n",
    "    except Exception:\n",
    "        return ''"
   ],
   "metadata": {
    "collapsed": false,
    "ExecuteTime": {
     "end_time": "2023-09-05T05:58:43.841795Z",
     "start_time": "2023-09-05T05:58:43.840101Z"
    }
   },
   "id": "ba42e3d38511974a"
  },
  {
   "cell_type": "code",
   "execution_count": 149,
   "outputs": [],
   "source": [
    "# sort the movies by averageRating and numVotes\n",
    "movies = movies.sort_values(by=['numVotes', 'averageRating'], ascending=False)"
   ],
   "metadata": {
    "collapsed": false,
    "ExecuteTime": {
     "end_time": "2023-09-05T05:58:43.892311Z",
     "start_time": "2023-09-05T05:58:43.842581Z"
    }
   },
   "id": "794c52c33fdce501"
  },
  {
   "cell_type": "code",
   "execution_count": 151,
   "outputs": [],
   "source": [
    "if not 'description' in movies.columns:\n",
    "    # Add description column\n",
    "    movies['description'] = None\n",
    "\n",
    "    # Load movies from csv\n",
    "    local_movies = pandas.read_csv('movies.csv')\n",
    "\n",
    "    # Merge local movies with moviesg\n",
    "    movies = pandas.merge(movies, local_movies[['tconst', 'description']], on='tconst', how='left')\n"
   ],
   "metadata": {
    "collapsed": false,
    "ExecuteTime": {
     "end_time": "2023-09-05T05:59:31.249074Z",
     "start_time": "2023-09-05T05:59:31.243603Z"
    }
   },
   "id": "69a1c5e635ef2856"
  },
  {
   "cell_type": "code",
   "execution_count": null,
   "outputs": [],
   "source": [
    "import time\n",
    "\n",
    "missing_movies = movies[movies['description'].isnull()]\n",
    "\n",
    "start = 0\n",
    "for size in range(50, len(missing_movies), 50):\n",
    "    batch = missing_movies.iloc[start:size]\n",
    "    batch['description'] = batch['tconst'].apply(get_movie_description)\n",
    "    batch.to_csv('movies.csv', mode='a', header=False, index=False)\n",
    "\n",
    "    start = size\n",
    "    time.sleep(1)"
   ],
   "metadata": {
    "collapsed": false,
    "is_executing": true
   },
   "id": "65288308c37fd7e0"
  },
  {
   "cell_type": "code",
   "execution_count": null,
   "outputs": [],
   "source": [],
   "metadata": {
    "collapsed": false,
    "ExecuteTime": {
     "start_time": "2023-09-05T05:58:44.245899Z"
    }
   },
   "id": "a67f50fb604e5090"
  }
 ],
 "metadata": {
  "kernelspec": {
   "display_name": "Python 3",
   "language": "python",
   "name": "python3"
  },
  "language_info": {
   "codemirror_mode": {
    "name": "ipython",
    "version": 2
   },
   "file_extension": ".py",
   "mimetype": "text/x-python",
   "name": "python",
   "nbconvert_exporter": "python",
   "pygments_lexer": "ipython2",
   "version": "2.7.6"
  }
 },
 "nbformat": 4,
 "nbformat_minor": 5
}
