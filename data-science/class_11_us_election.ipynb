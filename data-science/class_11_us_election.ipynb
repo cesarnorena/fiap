{
 "cells": [
  {
   "cell_type": "code",
   "execution_count": 1,
   "outputs": [],
   "source": [
    "import pandas\n",
    "from pandasql import sqldf\n",
    "\n",
    "sql = lambda q: sqldf(q, globals())"
   ],
   "metadata": {
    "collapsed": false,
    "pycharm": {
     "name": "#%%\n"
    }
   }
  },
  {
   "cell_type": "code",
   "execution_count": 2,
   "outputs": [
    {
     "data": {
      "text/plain": "      state             county      candidate party  total_votes    won\n0  Delaware        Kent County      Joe Biden   DEM        44552   True\n1  Delaware        Kent County   Donald Trump   REP        41009  False\n2  Delaware        Kent County   Jo Jorgensen   LIB         1044  False\n3  Delaware        Kent County  Howie Hawkins   GRN          420  False\n4  Delaware  New Castle County      Joe Biden   DEM       195034   True",
      "text/html": "<div>\n<style scoped>\n    .dataframe tbody tr th:only-of-type {\n        vertical-align: middle;\n    }\n\n    .dataframe tbody tr th {\n        vertical-align: top;\n    }\n\n    .dataframe thead th {\n        text-align: right;\n    }\n</style>\n<table border=\"1\" class=\"dataframe\">\n  <thead>\n    <tr style=\"text-align: right;\">\n      <th></th>\n      <th>state</th>\n      <th>county</th>\n      <th>candidate</th>\n      <th>party</th>\n      <th>total_votes</th>\n      <th>won</th>\n    </tr>\n  </thead>\n  <tbody>\n    <tr>\n      <th>0</th>\n      <td>Delaware</td>\n      <td>Kent County</td>\n      <td>Joe Biden</td>\n      <td>DEM</td>\n      <td>44552</td>\n      <td>True</td>\n    </tr>\n    <tr>\n      <th>1</th>\n      <td>Delaware</td>\n      <td>Kent County</td>\n      <td>Donald Trump</td>\n      <td>REP</td>\n      <td>41009</td>\n      <td>False</td>\n    </tr>\n    <tr>\n      <th>2</th>\n      <td>Delaware</td>\n      <td>Kent County</td>\n      <td>Jo Jorgensen</td>\n      <td>LIB</td>\n      <td>1044</td>\n      <td>False</td>\n    </tr>\n    <tr>\n      <th>3</th>\n      <td>Delaware</td>\n      <td>Kent County</td>\n      <td>Howie Hawkins</td>\n      <td>GRN</td>\n      <td>420</td>\n      <td>False</td>\n    </tr>\n    <tr>\n      <th>4</th>\n      <td>Delaware</td>\n      <td>New Castle County</td>\n      <td>Joe Biden</td>\n      <td>DEM</td>\n      <td>195034</td>\n      <td>True</td>\n    </tr>\n  </tbody>\n</table>\n</div>"
     },
     "execution_count": 2,
     "metadata": {},
     "output_type": "execute_result"
    }
   ],
   "source": [
    "dataframe = pandas.read_csv(\"datasets/president_candidate.csv\")\n",
    "dataframe.head()"
   ],
   "metadata": {
    "collapsed": false,
    "pycharm": {
     "name": "#%%\n"
    }
   }
  },
  {
   "cell_type": "code",
   "execution_count": 49,
   "outputs": [
    {
     "data": {
      "text/plain": "            state  total_votes\n0      California     11109764\n1         Florida      5297045\n2           Texas      5259126\n3        New York      5244006\n4        Illinois      4253153\n5    Pennsylvania      3459923\n6        Michigan      2804040\n7  North Carolina      2684292\n8            Ohio      2679165\n9      New Jersey      2608335",
      "text/html": "<div>\n<style scoped>\n    .dataframe tbody tr th:only-of-type {\n        vertical-align: middle;\n    }\n\n    .dataframe tbody tr th {\n        vertical-align: top;\n    }\n\n    .dataframe thead th {\n        text-align: right;\n    }\n</style>\n<table border=\"1\" class=\"dataframe\">\n  <thead>\n    <tr style=\"text-align: right;\">\n      <th></th>\n      <th>state</th>\n      <th>total_votes</th>\n    </tr>\n  </thead>\n  <tbody>\n    <tr>\n      <th>0</th>\n      <td>California</td>\n      <td>11109764</td>\n    </tr>\n    <tr>\n      <th>1</th>\n      <td>Florida</td>\n      <td>5297045</td>\n    </tr>\n    <tr>\n      <th>2</th>\n      <td>Texas</td>\n      <td>5259126</td>\n    </tr>\n    <tr>\n      <th>3</th>\n      <td>New York</td>\n      <td>5244006</td>\n    </tr>\n    <tr>\n      <th>4</th>\n      <td>Illinois</td>\n      <td>4253153</td>\n    </tr>\n    <tr>\n      <th>5</th>\n      <td>Pennsylvania</td>\n      <td>3459923</td>\n    </tr>\n    <tr>\n      <th>6</th>\n      <td>Michigan</td>\n      <td>2804040</td>\n    </tr>\n    <tr>\n      <th>7</th>\n      <td>North Carolina</td>\n      <td>2684292</td>\n    </tr>\n    <tr>\n      <th>8</th>\n      <td>Ohio</td>\n      <td>2679165</td>\n    </tr>\n    <tr>\n      <th>9</th>\n      <td>New Jersey</td>\n      <td>2608335</td>\n    </tr>\n  </tbody>\n</table>\n</div>"
     },
     "execution_count": 49,
     "metadata": {},
     "output_type": "execute_result"
    }
   ],
   "source": [
    "sql(\"\"\"select state, sum(total_votes) as total_votes\n",
    "        from dataframe\n",
    "        where party='DEM'\n",
    "        group by state\n",
    "        order by total_votes\n",
    "        desc limit 10;\"\"\")"
   ],
   "metadata": {
    "collapsed": false,
    "pycharm": {
     "name": "#%%\n"
    }
   }
  },
  {
   "cell_type": "code",
   "execution_count": 83,
   "outputs": [
    {
     "data": {
      "text/plain": "                total_votes\nstate                      \nCalifornia       11109764.0\nFlorida           5297045.0\nTexas             5259126.0\nNew York          5244006.0\nIllinois          4253153.0\nPennsylvania      3459923.0\nMichigan          2804040.0\nNorth Carolina    2684292.0\nOhio              2679165.0\nNew Jersey        2608335.0",
      "text/html": "<div>\n<style scoped>\n    .dataframe tbody tr th:only-of-type {\n        vertical-align: middle;\n    }\n\n    .dataframe tbody tr th {\n        vertical-align: top;\n    }\n\n    .dataframe thead th {\n        text-align: right;\n    }\n</style>\n<table border=\"1\" class=\"dataframe\">\n  <thead>\n    <tr style=\"text-align: right;\">\n      <th></th>\n      <th>total_votes</th>\n    </tr>\n    <tr>\n      <th>state</th>\n      <th></th>\n    </tr>\n  </thead>\n  <tbody>\n    <tr>\n      <th>California</th>\n      <td>11109764.0</td>\n    </tr>\n    <tr>\n      <th>Florida</th>\n      <td>5297045.0</td>\n    </tr>\n    <tr>\n      <th>Texas</th>\n      <td>5259126.0</td>\n    </tr>\n    <tr>\n      <th>New York</th>\n      <td>5244006.0</td>\n    </tr>\n    <tr>\n      <th>Illinois</th>\n      <td>4253153.0</td>\n    </tr>\n    <tr>\n      <th>Pennsylvania</th>\n      <td>3459923.0</td>\n    </tr>\n    <tr>\n      <th>Michigan</th>\n      <td>2804040.0</td>\n    </tr>\n    <tr>\n      <th>North Carolina</th>\n      <td>2684292.0</td>\n    </tr>\n    <tr>\n      <th>Ohio</th>\n      <td>2679165.0</td>\n    </tr>\n    <tr>\n      <th>New Jersey</th>\n      <td>2608335.0</td>\n    </tr>\n  </tbody>\n</table>\n</div>"
     },
     "execution_count": 83,
     "metadata": {},
     "output_type": "execute_result"
    }
   ],
   "source": [
    "(dataframe[[\"state\", \"total_votes\"]]\n",
    " .where(dataframe[\"party\"] == \"DEM\")\n",
    " .groupby(\"state\")\n",
    " .sum()\n",
    " .sort_values(by=\"total_votes\", ascending=False)\n",
    " .head(10))"
   ],
   "metadata": {
    "collapsed": false,
    "pycharm": {
     "name": "#%%\n"
    }
   }
  },
  {
   "cell_type": "code",
   "execution_count": 88,
   "outputs": [
    {
     "data": {
      "text/plain": "            state  total_votes\n0      California     11109764\n1         Florida      5297045\n2           Texas      5259126\n3        New York      5244006\n4        Illinois      4253153\n5    Pennsylvania      3459923\n6        Michigan      2804040\n7  North Carolina      2684292\n8            Ohio      2679165\n9      New Jersey      2608335",
      "text/html": "<div>\n<style scoped>\n    .dataframe tbody tr th:only-of-type {\n        vertical-align: middle;\n    }\n\n    .dataframe tbody tr th {\n        vertical-align: top;\n    }\n\n    .dataframe thead th {\n        text-align: right;\n    }\n</style>\n<table border=\"1\" class=\"dataframe\">\n  <thead>\n    <tr style=\"text-align: right;\">\n      <th></th>\n      <th>state</th>\n      <th>total_votes</th>\n    </tr>\n  </thead>\n  <tbody>\n    <tr>\n      <th>0</th>\n      <td>California</td>\n      <td>11109764</td>\n    </tr>\n    <tr>\n      <th>1</th>\n      <td>Florida</td>\n      <td>5297045</td>\n    </tr>\n    <tr>\n      <th>2</th>\n      <td>Texas</td>\n      <td>5259126</td>\n    </tr>\n    <tr>\n      <th>3</th>\n      <td>New York</td>\n      <td>5244006</td>\n    </tr>\n    <tr>\n      <th>4</th>\n      <td>Illinois</td>\n      <td>4253153</td>\n    </tr>\n    <tr>\n      <th>5</th>\n      <td>Pennsylvania</td>\n      <td>3459923</td>\n    </tr>\n    <tr>\n      <th>6</th>\n      <td>Michigan</td>\n      <td>2804040</td>\n    </tr>\n    <tr>\n      <th>7</th>\n      <td>North Carolina</td>\n      <td>2684292</td>\n    </tr>\n    <tr>\n      <th>8</th>\n      <td>Ohio</td>\n      <td>2679165</td>\n    </tr>\n    <tr>\n      <th>9</th>\n      <td>New Jersey</td>\n      <td>2608335</td>\n    </tr>\n  </tbody>\n</table>\n</div>"
     },
     "execution_count": 88,
     "metadata": {},
     "output_type": "execute_result"
    }
   ],
   "source": [
    "(dataframe.query(\"party == 'DEM'\")\n",
    " .groupby(\"state\")[\"total_votes\"]\n",
    " .sum()\n",
    " .sort_values(ascending=False)\n",
    " .head(10)\n",
    " .reset_index())"
   ],
   "metadata": {
    "collapsed": false,
    "pycharm": {
     "name": "#%%\n"
    }
   }
  },
  {
   "cell_type": "code",
   "execution_count": 61,
   "outputs": [
    {
     "data": {
      "text/plain": "                total_votes\nstate                      \nCalifornia       11109764.0\nFlorida           5297045.0\nTexas             5259126.0\nNew York          5244006.0\nIllinois          4253153.0\nPennsylvania      3459923.0\nMichigan          2804040.0\nNorth Carolina    2684292.0\nOhio              2679165.0\nNew Jersey        2608335.0",
      "text/html": "<div>\n<style scoped>\n    .dataframe tbody tr th:only-of-type {\n        vertical-align: middle;\n    }\n\n    .dataframe tbody tr th {\n        vertical-align: top;\n    }\n\n    .dataframe thead th {\n        text-align: right;\n    }\n</style>\n<table border=\"1\" class=\"dataframe\">\n  <thead>\n    <tr style=\"text-align: right;\">\n      <th></th>\n      <th>total_votes</th>\n    </tr>\n    <tr>\n      <th>state</th>\n      <th></th>\n    </tr>\n  </thead>\n  <tbody>\n    <tr>\n      <th>California</th>\n      <td>11109764.0</td>\n    </tr>\n    <tr>\n      <th>Florida</th>\n      <td>5297045.0</td>\n    </tr>\n    <tr>\n      <th>Texas</th>\n      <td>5259126.0</td>\n    </tr>\n    <tr>\n      <th>New York</th>\n      <td>5244006.0</td>\n    </tr>\n    <tr>\n      <th>Illinois</th>\n      <td>4253153.0</td>\n    </tr>\n    <tr>\n      <th>Pennsylvania</th>\n      <td>3459923.0</td>\n    </tr>\n    <tr>\n      <th>Michigan</th>\n      <td>2804040.0</td>\n    </tr>\n    <tr>\n      <th>North Carolina</th>\n      <td>2684292.0</td>\n    </tr>\n    <tr>\n      <th>Ohio</th>\n      <td>2679165.0</td>\n    </tr>\n    <tr>\n      <th>New Jersey</th>\n      <td>2608335.0</td>\n    </tr>\n  </tbody>\n</table>\n</div>"
     },
     "execution_count": 61,
     "metadata": {},
     "output_type": "execute_result"
    }
   ],
   "source": [
    "grouped_state = (dataframe[[\"state\", \"total_votes\"]]\n",
    "                 .where(dataframe[\"party\"] == \"DEM\")\n",
    "                 .groupby(\"state\")\n",
    "                 .sum())\n",
    "\n",
    "grouped_state.sort_values(by=\"total_votes\", ascending=False).head(10)"
   ],
   "metadata": {
    "collapsed": false,
    "pycharm": {
     "name": "#%%\n"
    }
   }
  },
  {
   "cell_type": "code",
   "execution_count": 62,
   "outputs": [
    {
     "data": {
      "text/plain": "               total_votes\nstate                     \nWyoming            73491.0\nNorth Dakota      114902.0\nSouth Dakota      150471.0\nAlaska            153405.0\nWest Virginia     235984.0\nVermont           242820.0\nMontana           244786.0\nIdaho             287021.0\nDelaware          296268.0\nRhode Island      306210.0",
      "text/html": "<div>\n<style scoped>\n    .dataframe tbody tr th:only-of-type {\n        vertical-align: middle;\n    }\n\n    .dataframe tbody tr th {\n        vertical-align: top;\n    }\n\n    .dataframe thead th {\n        text-align: right;\n    }\n</style>\n<table border=\"1\" class=\"dataframe\">\n  <thead>\n    <tr style=\"text-align: right;\">\n      <th></th>\n      <th>total_votes</th>\n    </tr>\n    <tr>\n      <th>state</th>\n      <th></th>\n    </tr>\n  </thead>\n  <tbody>\n    <tr>\n      <th>Wyoming</th>\n      <td>73491.0</td>\n    </tr>\n    <tr>\n      <th>North Dakota</th>\n      <td>114902.0</td>\n    </tr>\n    <tr>\n      <th>South Dakota</th>\n      <td>150471.0</td>\n    </tr>\n    <tr>\n      <th>Alaska</th>\n      <td>153405.0</td>\n    </tr>\n    <tr>\n      <th>West Virginia</th>\n      <td>235984.0</td>\n    </tr>\n    <tr>\n      <th>Vermont</th>\n      <td>242820.0</td>\n    </tr>\n    <tr>\n      <th>Montana</th>\n      <td>244786.0</td>\n    </tr>\n    <tr>\n      <th>Idaho</th>\n      <td>287021.0</td>\n    </tr>\n    <tr>\n      <th>Delaware</th>\n      <td>296268.0</td>\n    </tr>\n    <tr>\n      <th>Rhode Island</th>\n      <td>306210.0</td>\n    </tr>\n  </tbody>\n</table>\n</div>"
     },
     "execution_count": 62,
     "metadata": {},
     "output_type": "execute_result"
    }
   ],
   "source": [
    "grouped_state.sort_values(by=\"total_votes\").head(10)"
   ],
   "metadata": {
    "collapsed": false,
    "pycharm": {
     "name": "#%%\n"
    }
   }
  },
  {
   "cell_type": "code",
   "execution_count": null,
   "outputs": [],
   "source": [],
   "metadata": {
    "collapsed": false,
    "pycharm": {
     "name": "#%%\n"
    }
   }
  }
 ],
 "metadata": {
  "kernelspec": {
   "display_name": "Python 3",
   "language": "python",
   "name": "python3"
  },
  "language_info": {
   "codemirror_mode": {
    "name": "ipython",
    "version": 2
   },
   "file_extension": ".py",
   "mimetype": "text/x-python",
   "name": "python",
   "nbconvert_exporter": "python",
   "pygments_lexer": "ipython2",
   "version": "2.7.6"
  }
 },
 "nbformat": 4,
 "nbformat_minor": 0
}