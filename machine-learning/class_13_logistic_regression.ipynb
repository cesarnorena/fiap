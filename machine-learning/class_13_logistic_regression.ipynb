{
 "cells": [
  {
   "cell_type": "markdown",
   "metadata": {
    "pycharm": {
     "name": "#%% md\n"
    }
   },
   "source": [
    "FIAP - Tecnólogo em Sistema para Internet \n",
    "\n",
    "# Aula 13 - Regressão Logística\n",
    "\n",
    "Base: https://www.kaggle.com/uciml/pima-indians-diabetes-database"
   ]
  },
  {
   "cell_type": "code",
   "execution_count": 1,
   "metadata": {
    "pycharm": {
     "name": "#%%\n"
    }
   },
   "outputs": [],
   "source": [
    "# Imports pertinentes\n",
    "import pandas as pd\n",
    "from sklearn.model_selection import train_test_split\n",
    "from sklearn.linear_model import LogisticRegression\n",
    "from sklearn import metrics"
   ]
  },
  {
   "cell_type": "code",
   "execution_count": 8,
   "metadata": {
    "pycharm": {
     "name": "#%%\n"
    }
   },
   "outputs": [
    {
     "data": {
      "text/plain": "     Pregnancies  Glucose  BloodPressure  SkinThickness  Insulin   BMI  \\\n117            5       78             48              0        0  33.7   \n178            5      143             78              0        0  45.0   \n521            3      124             80             33      130  33.2   \n161            7      102             74             40      105  37.2   \n406            4      115             72              0        0  28.9   \n541            3      128             72             25      190  32.4   \n730            3      130             78             23       79  28.4   \n139            5      105             72             29      325  36.9   \n474            4      114             64              0        0  28.9   \n616            6      117             96              0        0  28.7   \n\n     DiabetesPedigreeFunction  Age  Outcome  \n117                     0.654   25        0  \n178                     0.190   47        0  \n521                     0.305   26        0  \n161                     0.204   45        0  \n406                     0.376   46        1  \n541                     0.549   27        1  \n730                     0.323   34        1  \n139                     0.159   28        0  \n474                     0.126   24        0  \n616                     0.157   30        0  ",
      "text/html": "<div>\n<style scoped>\n    .dataframe tbody tr th:only-of-type {\n        vertical-align: middle;\n    }\n\n    .dataframe tbody tr th {\n        vertical-align: top;\n    }\n\n    .dataframe thead th {\n        text-align: right;\n    }\n</style>\n<table border=\"1\" class=\"dataframe\">\n  <thead>\n    <tr style=\"text-align: right;\">\n      <th></th>\n      <th>Pregnancies</th>\n      <th>Glucose</th>\n      <th>BloodPressure</th>\n      <th>SkinThickness</th>\n      <th>Insulin</th>\n      <th>BMI</th>\n      <th>DiabetesPedigreeFunction</th>\n      <th>Age</th>\n      <th>Outcome</th>\n    </tr>\n  </thead>\n  <tbody>\n    <tr>\n      <th>117</th>\n      <td>5</td>\n      <td>78</td>\n      <td>48</td>\n      <td>0</td>\n      <td>0</td>\n      <td>33.7</td>\n      <td>0.654</td>\n      <td>25</td>\n      <td>0</td>\n    </tr>\n    <tr>\n      <th>178</th>\n      <td>5</td>\n      <td>143</td>\n      <td>78</td>\n      <td>0</td>\n      <td>0</td>\n      <td>45.0</td>\n      <td>0.190</td>\n      <td>47</td>\n      <td>0</td>\n    </tr>\n    <tr>\n      <th>521</th>\n      <td>3</td>\n      <td>124</td>\n      <td>80</td>\n      <td>33</td>\n      <td>130</td>\n      <td>33.2</td>\n      <td>0.305</td>\n      <td>26</td>\n      <td>0</td>\n    </tr>\n    <tr>\n      <th>161</th>\n      <td>7</td>\n      <td>102</td>\n      <td>74</td>\n      <td>40</td>\n      <td>105</td>\n      <td>37.2</td>\n      <td>0.204</td>\n      <td>45</td>\n      <td>0</td>\n    </tr>\n    <tr>\n      <th>406</th>\n      <td>4</td>\n      <td>115</td>\n      <td>72</td>\n      <td>0</td>\n      <td>0</td>\n      <td>28.9</td>\n      <td>0.376</td>\n      <td>46</td>\n      <td>1</td>\n    </tr>\n    <tr>\n      <th>541</th>\n      <td>3</td>\n      <td>128</td>\n      <td>72</td>\n      <td>25</td>\n      <td>190</td>\n      <td>32.4</td>\n      <td>0.549</td>\n      <td>27</td>\n      <td>1</td>\n    </tr>\n    <tr>\n      <th>730</th>\n      <td>3</td>\n      <td>130</td>\n      <td>78</td>\n      <td>23</td>\n      <td>79</td>\n      <td>28.4</td>\n      <td>0.323</td>\n      <td>34</td>\n      <td>1</td>\n    </tr>\n    <tr>\n      <th>139</th>\n      <td>5</td>\n      <td>105</td>\n      <td>72</td>\n      <td>29</td>\n      <td>325</td>\n      <td>36.9</td>\n      <td>0.159</td>\n      <td>28</td>\n      <td>0</td>\n    </tr>\n    <tr>\n      <th>474</th>\n      <td>4</td>\n      <td>114</td>\n      <td>64</td>\n      <td>0</td>\n      <td>0</td>\n      <td>28.9</td>\n      <td>0.126</td>\n      <td>24</td>\n      <td>0</td>\n    </tr>\n    <tr>\n      <th>616</th>\n      <td>6</td>\n      <td>117</td>\n      <td>96</td>\n      <td>0</td>\n      <td>0</td>\n      <td>28.7</td>\n      <td>0.157</td>\n      <td>30</td>\n      <td>0</td>\n    </tr>\n  </tbody>\n</table>\n</div>"
     },
     "execution_count": 8,
     "metadata": {},
     "output_type": "execute_result"
    }
   ],
   "source": [
    "dataset = pd.read_csv(\"datasets/diabetes.csv\")\n",
    "\n",
    "dataset.sample(10)"
   ]
  },
  {
   "cell_type": "code",
   "execution_count": 10,
   "metadata": {
    "pycharm": {
     "name": "#%%\n"
    }
   },
   "outputs": [
    {
     "data": {
      "text/plain": "(768, 9)"
     },
     "execution_count": 10,
     "metadata": {},
     "output_type": "execute_result"
    }
   ],
   "source": [
    "dataset.shape"
   ]
  },
  {
   "cell_type": "code",
   "execution_count": 12,
   "metadata": {
    "pycharm": {
     "name": "#%%\n"
    }
   },
   "outputs": [
    {
     "name": "stdout",
     "output_type": "stream",
     "text": [
      "<class 'pandas.core.frame.DataFrame'>\n",
      "RangeIndex: 768 entries, 0 to 767\n",
      "Data columns (total 9 columns):\n",
      " #   Column                    Non-Null Count  Dtype  \n",
      "---  ------                    --------------  -----  \n",
      " 0   Pregnancies               768 non-null    int64  \n",
      " 1   Glucose                   768 non-null    int64  \n",
      " 2   BloodPressure             768 non-null    int64  \n",
      " 3   SkinThickness             768 non-null    int64  \n",
      " 4   Insulin                   768 non-null    int64  \n",
      " 5   BMI                       768 non-null    float64\n",
      " 6   DiabetesPedigreeFunction  768 non-null    float64\n",
      " 7   Age                       768 non-null    int64  \n",
      " 8   Outcome                   768 non-null    int64  \n",
      "dtypes: float64(2), int64(7)\n",
      "memory usage: 54.1 KB\n"
     ]
    }
   ],
   "source": [
    "dataset.info()"
   ]
  },
  {
   "cell_type": "code",
   "execution_count": 31,
   "outputs": [
    {
     "data": {
      "text/plain": "array([1, 0])"
     },
     "execution_count": 31,
     "metadata": {},
     "output_type": "execute_result"
    }
   ],
   "source": [
    "dataset['Outcome'].unique()"
   ],
   "metadata": {
    "collapsed": false,
    "pycharm": {
     "name": "#%%\n"
    }
   }
  },
  {
   "cell_type": "code",
   "execution_count": 14,
   "metadata": {
    "pycharm": {
     "name": "#%%\n"
    }
   },
   "outputs": [],
   "source": [
    "# Divisão de DADOS e LABELS\n",
    "X = dataset.drop(columns=[\"Outcome\"])\n",
    "y = dataset[\"Outcome\"]"
   ]
  },
  {
   "cell_type": "code",
   "execution_count": 15,
   "metadata": {
    "pycharm": {
     "name": "#%%\n"
    }
   },
   "outputs": [],
   "source": [
    "# Divisão de TREINO e TESTE\n",
    "X_train, X_test, y_train, y_test = train_test_split(X, y, test_size=0.3, random_state=42)"
   ]
  },
  {
   "cell_type": "code",
   "execution_count": 27,
   "metadata": {
    "pycharm": {
     "name": "#%%\n"
    }
   },
   "outputs": [],
   "source": [
    "# Criação, treinamento e avaliação do modelo\n",
    "regression = LogisticRegression(max_iter=200)\n",
    "regression.fit(X_train, y_train)\n",
    "\n",
    "y_pred = regression.predict(X_test)"
   ]
  },
  {
   "cell_type": "code",
   "execution_count": 38,
   "metadata": {
    "pycharm": {
     "name": "#%%\n"
    }
   },
   "outputs": [
    {
     "name": "stdout",
     "output_type": "stream",
     "text": [
      "Accuracy: 0.7359307359307359\n"
     ]
    },
    {
     "data": {
      "text/plain": "array([[120,  31],\n       [ 30,  50]])"
     },
     "execution_count": 38,
     "metadata": {},
     "output_type": "execute_result"
    }
   ],
   "source": [
    "# Algumas métricas\n",
    "print(f\"Accuracy: {metrics.accuracy_score(y_test, y_pred)}\")\n",
    "\n",
    "metrics.confusion_matrix(y_test, y_pred)"
   ]
  },
  {
   "cell_type": "code",
   "execution_count": 39,
   "outputs": [
    {
     "name": "stdout",
     "output_type": "stream",
     "text": [
      "              precision    recall  f1-score   support\n",
      "\n",
      "           0       0.80      0.79      0.80       151\n",
      "           1       0.62      0.62      0.62        80\n",
      "\n",
      "    accuracy                           0.74       231\n",
      "   macro avg       0.71      0.71      0.71       231\n",
      "weighted avg       0.74      0.74      0.74       231\n",
      "\n"
     ]
    }
   ],
   "source": [
    "print(metrics.classification_report(y_test, y_pred))"
   ],
   "metadata": {
    "collapsed": false,
    "pycharm": {
     "name": "#%%\n"
    }
   }
  },
  {
   "cell_type": "markdown",
   "metadata": {
    "pycharm": {
     "name": "#%% md\n"
    }
   },
   "source": [
    "## Exercício!\n",
    "\n",
    "Aplique a regressão logísica no dataset [Breast Cancer Wisconsin Dataset](https://archive.ics.uci.edu/ml/datasets/Breast+Cancer+Wisconsin+%28Diagnostic%29), o qual contém dados de câncer de mama obtidos nos hospitais da Universidade de Wisconsin. Para facilitar, baixe os dados do [Kaggle].(https://www.kaggle.com/uciml/breast-cancer-wisconsin-data)\n",
    "\n",
    "Sua missão é descobrir para as features dadas se o tumor é **malígno** ou **benígno**. Apresente as métricas pertinentes e as analise. \n",
    "\n",
    "Dez atributos de valor real são calculados para cada núcleo da célula:\n",
    "\n",
    "    a) radius (mean of distances from center to points on the perimeter)\n",
    "    b) texture (standard deviation of gray-scale values)\n",
    "    c) perimeter\n",
    "    d) area\n",
    "    e) smoothness (local variation in radius lengths)\n",
    "    f) compactness (perimeter^2 / area - 1.0)\n",
    "    g) concavity (severity of concave portions of the contour)\n",
    "    h) concave points (number of concave portions of the contour)\n",
    "    i) symmetry\n",
    "    j) fractal dimension (\"coastline approximation\" - 1)\n"
   ]
  },
  {
   "cell_type": "code",
   "execution_count": 56,
   "metadata": {
    "pycharm": {
     "name": "#%%\n"
    }
   },
   "outputs": [
    {
     "data": {
      "text/plain": "         id diagnosis  radius_mean  texture_mean  perimeter_mean  area_mean  \\\n454  911202         B       12.620         17.15           80.62      492.9   \n97   862261         B        9.787         19.94           62.11      294.5   \n469  911366         B       11.620         18.18           76.38      408.8   \n486  913102         B       14.640         16.85           94.21      666.0   \n546  922577         B       10.320         16.35           65.31      324.9   \n352  899987         M       25.730         17.46          174.20     2010.0   \n567  927241         M       20.600         29.33          140.10     1265.0   \n36   854268         M       14.250         21.72           93.63      633.0   \n559  925291         B       11.510         23.93           74.52      403.5   \n535  919555         M       20.550         20.86          137.80     1308.0   \n\n     smoothness_mean  compactness_mean  concavity_mean  concave points_mean  \\\n454          0.08583           0.05430        0.029660             0.022720   \n97           0.10240           0.05301        0.006829             0.007937   \n469          0.11750           0.14830        0.102000             0.055640   \n486          0.08641           0.06698        0.051920             0.027910   \n546          0.09434           0.04994        0.010120             0.005495   \n352          0.11490           0.23630        0.336800             0.191300   \n567          0.11780           0.27700        0.351400             0.152000   \n36           0.09823           0.10980        0.131900             0.055980   \n559          0.09261           0.10210        0.111200             0.041050   \n535          0.10460           0.17390        0.208500             0.132200   \n\n     ...  texture_worst  perimeter_worst  area_worst  smoothness_worst  \\\n454  ...          22.15            91.62       633.5            0.1225   \n97   ...          26.29            68.81       366.1            0.1316   \n469  ...          25.40            88.14       528.1            0.1780   \n486  ...          25.44           106.00       831.0            0.1142   \n546  ...          21.77            71.12       384.9            0.1285   \n352  ...          23.58           229.30      3234.0            0.1530   \n567  ...          39.42           184.60      1821.0            0.1650   \n36   ...          30.36           116.20       799.6            0.1446   \n559  ...          37.16            82.28       474.2            0.1298   \n535  ...          25.48           160.20      1809.0            0.1268   \n\n     compactness_worst  concavity_worst  concave points_worst  symmetry_worst  \\\n454            0.15170          0.18870               0.09851          0.3270   \n97             0.09473          0.02049               0.02381          0.1934   \n469            0.28780          0.31860               0.14160          0.2660   \n486            0.20700          0.24370               0.07828          0.2455   \n546            0.08842          0.04384               0.02381          0.2681   \n352            0.59370          0.64510               0.27560          0.3690   \n567            0.86810          0.93870               0.26500          0.4087   \n36             0.42380          0.51860               0.14470          0.3591   \n559            0.25170          0.36300               0.09653          0.2112   \n535            0.31350          0.44330               0.21480          0.3077   \n\n     fractal_dimension_worst  Unnamed: 32  \n454                  0.07330          NaN  \n97                   0.08988          NaN  \n469                  0.09270          NaN  \n486                  0.06596          NaN  \n546                  0.07399          NaN  \n352                  0.08815          NaN  \n567                  0.12400          NaN  \n36                   0.10140          NaN  \n559                  0.08732          NaN  \n535                  0.07569          NaN  \n\n[10 rows x 33 columns]",
      "text/html": "<div>\n<style scoped>\n    .dataframe tbody tr th:only-of-type {\n        vertical-align: middle;\n    }\n\n    .dataframe tbody tr th {\n        vertical-align: top;\n    }\n\n    .dataframe thead th {\n        text-align: right;\n    }\n</style>\n<table border=\"1\" class=\"dataframe\">\n  <thead>\n    <tr style=\"text-align: right;\">\n      <th></th>\n      <th>id</th>\n      <th>diagnosis</th>\n      <th>radius_mean</th>\n      <th>texture_mean</th>\n      <th>perimeter_mean</th>\n      <th>area_mean</th>\n      <th>smoothness_mean</th>\n      <th>compactness_mean</th>\n      <th>concavity_mean</th>\n      <th>concave points_mean</th>\n      <th>...</th>\n      <th>texture_worst</th>\n      <th>perimeter_worst</th>\n      <th>area_worst</th>\n      <th>smoothness_worst</th>\n      <th>compactness_worst</th>\n      <th>concavity_worst</th>\n      <th>concave points_worst</th>\n      <th>symmetry_worst</th>\n      <th>fractal_dimension_worst</th>\n      <th>Unnamed: 32</th>\n    </tr>\n  </thead>\n  <tbody>\n    <tr>\n      <th>454</th>\n      <td>911202</td>\n      <td>B</td>\n      <td>12.620</td>\n      <td>17.15</td>\n      <td>80.62</td>\n      <td>492.9</td>\n      <td>0.08583</td>\n      <td>0.05430</td>\n      <td>0.029660</td>\n      <td>0.022720</td>\n      <td>...</td>\n      <td>22.15</td>\n      <td>91.62</td>\n      <td>633.5</td>\n      <td>0.1225</td>\n      <td>0.15170</td>\n      <td>0.18870</td>\n      <td>0.09851</td>\n      <td>0.3270</td>\n      <td>0.07330</td>\n      <td>NaN</td>\n    </tr>\n    <tr>\n      <th>97</th>\n      <td>862261</td>\n      <td>B</td>\n      <td>9.787</td>\n      <td>19.94</td>\n      <td>62.11</td>\n      <td>294.5</td>\n      <td>0.10240</td>\n      <td>0.05301</td>\n      <td>0.006829</td>\n      <td>0.007937</td>\n      <td>...</td>\n      <td>26.29</td>\n      <td>68.81</td>\n      <td>366.1</td>\n      <td>0.1316</td>\n      <td>0.09473</td>\n      <td>0.02049</td>\n      <td>0.02381</td>\n      <td>0.1934</td>\n      <td>0.08988</td>\n      <td>NaN</td>\n    </tr>\n    <tr>\n      <th>469</th>\n      <td>911366</td>\n      <td>B</td>\n      <td>11.620</td>\n      <td>18.18</td>\n      <td>76.38</td>\n      <td>408.8</td>\n      <td>0.11750</td>\n      <td>0.14830</td>\n      <td>0.102000</td>\n      <td>0.055640</td>\n      <td>...</td>\n      <td>25.40</td>\n      <td>88.14</td>\n      <td>528.1</td>\n      <td>0.1780</td>\n      <td>0.28780</td>\n      <td>0.31860</td>\n      <td>0.14160</td>\n      <td>0.2660</td>\n      <td>0.09270</td>\n      <td>NaN</td>\n    </tr>\n    <tr>\n      <th>486</th>\n      <td>913102</td>\n      <td>B</td>\n      <td>14.640</td>\n      <td>16.85</td>\n      <td>94.21</td>\n      <td>666.0</td>\n      <td>0.08641</td>\n      <td>0.06698</td>\n      <td>0.051920</td>\n      <td>0.027910</td>\n      <td>...</td>\n      <td>25.44</td>\n      <td>106.00</td>\n      <td>831.0</td>\n      <td>0.1142</td>\n      <td>0.20700</td>\n      <td>0.24370</td>\n      <td>0.07828</td>\n      <td>0.2455</td>\n      <td>0.06596</td>\n      <td>NaN</td>\n    </tr>\n    <tr>\n      <th>546</th>\n      <td>922577</td>\n      <td>B</td>\n      <td>10.320</td>\n      <td>16.35</td>\n      <td>65.31</td>\n      <td>324.9</td>\n      <td>0.09434</td>\n      <td>0.04994</td>\n      <td>0.010120</td>\n      <td>0.005495</td>\n      <td>...</td>\n      <td>21.77</td>\n      <td>71.12</td>\n      <td>384.9</td>\n      <td>0.1285</td>\n      <td>0.08842</td>\n      <td>0.04384</td>\n      <td>0.02381</td>\n      <td>0.2681</td>\n      <td>0.07399</td>\n      <td>NaN</td>\n    </tr>\n    <tr>\n      <th>352</th>\n      <td>899987</td>\n      <td>M</td>\n      <td>25.730</td>\n      <td>17.46</td>\n      <td>174.20</td>\n      <td>2010.0</td>\n      <td>0.11490</td>\n      <td>0.23630</td>\n      <td>0.336800</td>\n      <td>0.191300</td>\n      <td>...</td>\n      <td>23.58</td>\n      <td>229.30</td>\n      <td>3234.0</td>\n      <td>0.1530</td>\n      <td>0.59370</td>\n      <td>0.64510</td>\n      <td>0.27560</td>\n      <td>0.3690</td>\n      <td>0.08815</td>\n      <td>NaN</td>\n    </tr>\n    <tr>\n      <th>567</th>\n      <td>927241</td>\n      <td>M</td>\n      <td>20.600</td>\n      <td>29.33</td>\n      <td>140.10</td>\n      <td>1265.0</td>\n      <td>0.11780</td>\n      <td>0.27700</td>\n      <td>0.351400</td>\n      <td>0.152000</td>\n      <td>...</td>\n      <td>39.42</td>\n      <td>184.60</td>\n      <td>1821.0</td>\n      <td>0.1650</td>\n      <td>0.86810</td>\n      <td>0.93870</td>\n      <td>0.26500</td>\n      <td>0.4087</td>\n      <td>0.12400</td>\n      <td>NaN</td>\n    </tr>\n    <tr>\n      <th>36</th>\n      <td>854268</td>\n      <td>M</td>\n      <td>14.250</td>\n      <td>21.72</td>\n      <td>93.63</td>\n      <td>633.0</td>\n      <td>0.09823</td>\n      <td>0.10980</td>\n      <td>0.131900</td>\n      <td>0.055980</td>\n      <td>...</td>\n      <td>30.36</td>\n      <td>116.20</td>\n      <td>799.6</td>\n      <td>0.1446</td>\n      <td>0.42380</td>\n      <td>0.51860</td>\n      <td>0.14470</td>\n      <td>0.3591</td>\n      <td>0.10140</td>\n      <td>NaN</td>\n    </tr>\n    <tr>\n      <th>559</th>\n      <td>925291</td>\n      <td>B</td>\n      <td>11.510</td>\n      <td>23.93</td>\n      <td>74.52</td>\n      <td>403.5</td>\n      <td>0.09261</td>\n      <td>0.10210</td>\n      <td>0.111200</td>\n      <td>0.041050</td>\n      <td>...</td>\n      <td>37.16</td>\n      <td>82.28</td>\n      <td>474.2</td>\n      <td>0.1298</td>\n      <td>0.25170</td>\n      <td>0.36300</td>\n      <td>0.09653</td>\n      <td>0.2112</td>\n      <td>0.08732</td>\n      <td>NaN</td>\n    </tr>\n    <tr>\n      <th>535</th>\n      <td>919555</td>\n      <td>M</td>\n      <td>20.550</td>\n      <td>20.86</td>\n      <td>137.80</td>\n      <td>1308.0</td>\n      <td>0.10460</td>\n      <td>0.17390</td>\n      <td>0.208500</td>\n      <td>0.132200</td>\n      <td>...</td>\n      <td>25.48</td>\n      <td>160.20</td>\n      <td>1809.0</td>\n      <td>0.1268</td>\n      <td>0.31350</td>\n      <td>0.44330</td>\n      <td>0.21480</td>\n      <td>0.3077</td>\n      <td>0.07569</td>\n      <td>NaN</td>\n    </tr>\n  </tbody>\n</table>\n<p>10 rows × 33 columns</p>\n</div>"
     },
     "execution_count": 56,
     "metadata": {},
     "output_type": "execute_result"
    }
   ],
   "source": [
    "dataset = pd.read_csv(\"datasets/cancer.csv\")\n",
    "\n",
    "dataset.sample(10)"
   ]
  },
  {
   "cell_type": "code",
   "execution_count": 57,
   "metadata": {
    "pycharm": {
     "name": "#%%\n"
    }
   },
   "outputs": [
    {
     "name": "stdout",
     "output_type": "stream",
     "text": [
      "<class 'pandas.core.frame.DataFrame'>\n",
      "RangeIndex: 569 entries, 0 to 568\n",
      "Data columns (total 33 columns):\n",
      " #   Column                   Non-Null Count  Dtype  \n",
      "---  ------                   --------------  -----  \n",
      " 0   id                       569 non-null    int64  \n",
      " 1   diagnosis                569 non-null    object \n",
      " 2   radius_mean              569 non-null    float64\n",
      " 3   texture_mean             569 non-null    float64\n",
      " 4   perimeter_mean           569 non-null    float64\n",
      " 5   area_mean                569 non-null    float64\n",
      " 6   smoothness_mean          569 non-null    float64\n",
      " 7   compactness_mean         569 non-null    float64\n",
      " 8   concavity_mean           569 non-null    float64\n",
      " 9   concave points_mean      569 non-null    float64\n",
      " 10  symmetry_mean            569 non-null    float64\n",
      " 11  fractal_dimension_mean   569 non-null    float64\n",
      " 12  radius_se                569 non-null    float64\n",
      " 13  texture_se               569 non-null    float64\n",
      " 14  perimeter_se             569 non-null    float64\n",
      " 15  area_se                  569 non-null    float64\n",
      " 16  smoothness_se            569 non-null    float64\n",
      " 17  compactness_se           569 non-null    float64\n",
      " 18  concavity_se             569 non-null    float64\n",
      " 19  concave points_se        569 non-null    float64\n",
      " 20  symmetry_se              569 non-null    float64\n",
      " 21  fractal_dimension_se     569 non-null    float64\n",
      " 22  radius_worst             569 non-null    float64\n",
      " 23  texture_worst            569 non-null    float64\n",
      " 24  perimeter_worst          569 non-null    float64\n",
      " 25  area_worst               569 non-null    float64\n",
      " 26  smoothness_worst         569 non-null    float64\n",
      " 27  compactness_worst        569 non-null    float64\n",
      " 28  concavity_worst          569 non-null    float64\n",
      " 29  concave points_worst     569 non-null    float64\n",
      " 30  symmetry_worst           569 non-null    float64\n",
      " 31  fractal_dimension_worst  569 non-null    float64\n",
      " 32  Unnamed: 32              0 non-null      float64\n",
      "dtypes: float64(31), int64(1), object(1)\n",
      "memory usage: 146.8+ KB\n"
     ]
    }
   ],
   "source": [
    "dataset.info()"
   ]
  },
  {
   "cell_type": "code",
   "execution_count": 58,
   "outputs": [
    {
     "data": {
      "text/plain": "array(['M', 'B'], dtype=object)"
     },
     "execution_count": 58,
     "metadata": {},
     "output_type": "execute_result"
    }
   ],
   "source": [
    "dataset[\"diagnosis\"].unique()"
   ],
   "metadata": {
    "collapsed": false,
    "pycharm": {
     "name": "#%%\n"
    }
   }
  },
  {
   "cell_type": "code",
   "execution_count": 59,
   "metadata": {
    "pycharm": {
     "name": "#%%\n"
    }
   },
   "outputs": [],
   "source": [
    "X = dataset.drop(columns=[\"id\", \"diagnosis\", \"Unnamed: 32\"])\n",
    "y = dataset[\"diagnosis\"]"
   ]
  },
  {
   "cell_type": "code",
   "execution_count": 60,
   "outputs": [],
   "source": [
    "X_train, X_test, y_train, y_test = train_test_split(X, y, test_size=0.3, random_state=42)"
   ],
   "metadata": {
    "collapsed": false,
    "pycharm": {
     "name": "#%%\n"
    }
   }
  },
  {
   "cell_type": "code",
   "execution_count": 68,
   "metadata": {
    "pycharm": {
     "name": "#%%\n"
    }
   },
   "outputs": [],
   "source": [
    "regression = LogisticRegression(max_iter=3000)\n",
    "regression.fit(X_train, y_train)\n",
    "\n",
    "y_pred = regression.predict(X_test)"
   ]
  },
  {
   "cell_type": "code",
   "execution_count": 69,
   "outputs": [
    {
     "name": "stdout",
     "output_type": "stream",
     "text": [
      "Accuracy: 0.9766081871345029\n"
     ]
    }
   ],
   "source": [
    "print(f\"Accuracy: {metrics.accuracy_score(y_test, y_pred)}\")"
   ],
   "metadata": {
    "collapsed": false,
    "pycharm": {
     "name": "#%%\n"
    }
   }
  },
  {
   "cell_type": "code",
   "execution_count": null,
   "outputs": [],
   "source": [],
   "metadata": {
    "collapsed": false,
    "pycharm": {
     "name": "#%%\n"
    }
   }
  }
 ],
 "metadata": {
  "kernelspec": {
   "display_name": "Python 3",
   "language": "python",
   "name": "python3"
  },
  "language_info": {
   "codemirror_mode": {
    "name": "ipython",
    "version": 3
   },
   "file_extension": ".py",
   "mimetype": "text/x-python",
   "name": "python",
   "nbconvert_exporter": "python",
   "pygments_lexer": "ipython3",
   "version": "3.7.3"
  }
 },
 "nbformat": 4,
 "nbformat_minor": 4
}