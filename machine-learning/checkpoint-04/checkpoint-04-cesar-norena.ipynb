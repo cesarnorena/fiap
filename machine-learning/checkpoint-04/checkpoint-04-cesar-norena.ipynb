{
  "cells": [
    {
      "cell_type": "markdown",
      "metadata": {
        "id": "FCf87_3NQUcN"
      },
      "source": [
        "FIAP - Tecnólogo em Inteligência Artificial\n",
        "\n",
        "# Checkpoint 04\n",
        "\n",
        "Faça o exercício abaixo <font color=\"red\">individualmente</font>, para praticar o uso do `sklearn` em Machine Learning. Utilize os conceitos vistos em aula, e consulte [documentações](https://scikit-learn.org/stable/) na internet. Em caso de dúvidas, contate o Prof. Michel. \n",
        "\n",
        "**Entrega**: 18/setembro/2022, via Teams.\n",
        "\n",
        "\n",
        "## Apresentação do trabalho\n",
        "\n",
        "Neste checkpoint vamos trabalhar com modelagem de dados em bases de dimensionalidade reduzida em relação à base original. \n",
        "\n",
        "Para isso, você deve: \n",
        "\n",
        "- Utilizar a base de câncer de mama que vimos na aula de PCA\n",
        "- Ler/carregar/montar o dataset original\n",
        "- Dividir DADOS  e LABELS\n",
        "- Dividir TREINO e TESTE \n",
        "- Padronizar os dados \n",
        "- Reduzir a dimensionalidade com PCA \n",
        "- Sobre o dataset reduzido (componentes principais), aplicar o modelo de *Regressão Logística* para consturir o classificador\n",
        "- Escolha outros **2 modelos** de classificação para avaliar a performance no mesmo conjunto de dados\n",
        "- Calcular os resultados e comentar brevemente seus achados\n",
        "\n",
        "\n",
        "*Desafio!*: faça o código modularizado para avaliar os efeitos da redução de dimensionalidade para N componentes diferentes, avaliando o efeito da classificação com números distintos de componentes principais \n",
        "\n",
        "\n",
        "\n",
        "**Critérios de avaliação**: A correção do checkpoint será feita mediante os seguintes critérios:\n",
        "- qualidade da compreensão e exploração da base\n",
        "- formas de padronizar os dados selecionados\n",
        "- completute de atendimento ao pipeline de machine learning\n",
        "- emprego correto dos conceitos vistos em sala de aula (uso do dataset, métricas, etc)\n",
        "- análise/justificativas dos resultados\n"
      ]
    },
    {
      "cell_type": "code",
      "execution_count": null,
      "metadata": {
        "id": "oQC0HByCQUcU"
      },
      "outputs": [],
      "source": []
    }
  ],
  "metadata": {
    "kernelspec": {
      "display_name": "Python 3",
      "language": "python",
      "name": "python3"
    },
    "language_info": {
      "codemirror_mode": {
        "name": "ipython",
        "version": 3
      },
      "file_extension": ".py",
      "mimetype": "text/x-python",
      "name": "python",
      "nbconvert_exporter": "python",
      "pygments_lexer": "ipython3",
      "version": "3.7.3"
    },
    "colab": {
      "provenance": [],
      "collapsed_sections": []
    }
  },
  "nbformat": 4,
  "nbformat_minor": 0
}