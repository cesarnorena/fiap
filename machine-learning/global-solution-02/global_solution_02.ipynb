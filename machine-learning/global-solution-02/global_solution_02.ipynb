{
 "cells": [
  {
   "cell_type": "code",
   "execution_count": null,
   "metadata": {
    "collapsed": true
   },
   "outputs": [
    {
     "ename": "",
     "evalue": "",
     "output_type": "error",
     "traceback": [
      "\u001b[1;31mFailed to start the Kernel. \n",
      "\u001b[1;31mreturn _run_code(code, main_globals, None,\n",
      "\u001b[1;31m  File \"/usr/lib/python3.10/runpy.py\", line 86, in _run_code\n",
      "\u001b[1;31m    exec(code, run_globals)\n",
      "\u001b[1;31m  File \"/usr/lib/python3/dist-packages/pip/__main__.py\", line 9, in <module>\n",
      "\u001b[1;31m    if sys.path[0] in (\"\", os.getcwd()):\n",
      "\u001b[1;31mFileNotFoundError: [Errno 2] No such file or directory\n",
      "\u001b[1;31mError in sys.excepthook:\n",
      "\u001b[1;31mTraceback (most recent call last):\n",
      "\u001b[1;31m  File \"/usr/lib/python3/dist-packages/apport_python_hook.py\", line 76, in apport_excepthook\n",
      "\u001b[1;31m    binary = os.path.realpath(os.path.join(os.getcwd(), sys.argv[0]))\n",
      "\u001b[1;31mFileNotFoundError: [Errno 2] No such file or directory\n",
      "\u001b[1;31m\n",
      "\u001b[1;31mOriginal exception was:\n",
      "\u001b[1;31mTraceback (most recent call last):\n",
      "\u001b[1;31m  File \"/usr/lib/python3.10/runpy.py\", line 196, in _run_module_as_main\n",
      "\u001b[1;31m    return _run_code(code, main_globals, None,\n",
      "\u001b[1;31m  File \"/usr/lib/python3.10/runpy.py\", line 86, in _run_code\n",
      "\u001b[1;31m    exec(code, run_globals)\n",
      "\u001b[1;31m  File \"/usr/lib/python3/dist-packages/pip/__main__.py\", line 9, in <module>\n",
      "\u001b[1;31m    if sys.path[0] in (\"\", os.getcwd()):\n",
      "\u001b[1;31mFileNotFoundError: [Errno 2] No such file or directory. \n",
      "\u001b[1;31mView Jupyter <a href='command:jupyter.viewOutput'>log</a> for further details."
     ]
    }
   ],
   "source": [
    "import pandas\n",
    "import seaborn\n",
    "from matplotlib import pyplot\n",
    "from sklearn.model_selection import train_test_split\n",
    "from sklearn.preprocessing import LabelEncoder\n",
    "from sklearn.impute import KNNImputer\n",
    "from sklearn.neighbors import LocalOutlierFactor\n",
    "from sklearn.preprocessing import MinMaxScaler\n",
    "from sklearn import metrics\n",
    "from sklearn.neighbors import KNeighborsClassifier\n",
    "from sklearn.ensemble import RandomForestClassifier, HistGradientBoostingClassifier\n",
    "from sklearn.linear_model import LogisticRegression"
   ]
  },
  {
   "cell_type": "code",
   "execution_count": null,
   "metadata": {
    "collapsed": false
   },
   "outputs": [
    {
     "ename": "",
     "evalue": "",
     "output_type": "error",
     "traceback": [
      "\u001b[1;31mFailed to start the Kernel. \n",
      "\u001b[1;31mreturn _run_code(code, main_globals, None,\n",
      "\u001b[1;31m  File \"/usr/lib/python3.10/runpy.py\", line 86, in _run_code\n",
      "\u001b[1;31m    exec(code, run_globals)\n",
      "\u001b[1;31m  File \"/usr/lib/python3/dist-packages/pip/__main__.py\", line 9, in <module>\n",
      "\u001b[1;31m    if sys.path[0] in (\"\", os.getcwd()):\n",
      "\u001b[1;31mFileNotFoundError: [Errno 2] No such file or directory\n",
      "\u001b[1;31mError in sys.excepthook:\n",
      "\u001b[1;31mTraceback (most recent call last):\n",
      "\u001b[1;31m  File \"/usr/lib/python3/dist-packages/apport_python_hook.py\", line 76, in apport_excepthook\n",
      "\u001b[1;31m    binary = os.path.realpath(os.path.join(os.getcwd(), sys.argv[0]))\n",
      "\u001b[1;31mFileNotFoundError: [Errno 2] No such file or directory\n",
      "\u001b[1;31m\n",
      "\u001b[1;31mOriginal exception was:\n",
      "\u001b[1;31mTraceback (most recent call last):\n",
      "\u001b[1;31m  File \"/usr/lib/python3.10/runpy.py\", line 196, in _run_module_as_main\n",
      "\u001b[1;31m    return _run_code(code, main_globals, None,\n",
      "\u001b[1;31m  File \"/usr/lib/python3.10/runpy.py\", line 86, in _run_code\n",
      "\u001b[1;31m    exec(code, run_globals)\n",
      "\u001b[1;31m  File \"/usr/lib/python3/dist-packages/pip/__main__.py\", line 9, in <module>\n",
      "\u001b[1;31m    if sys.path[0] in (\"\", os.getcwd()):\n",
      "\u001b[1;31mFileNotFoundError: [Errno 2] No such file or directory. \n",
      "\u001b[1;31mView Jupyter <a href='command:jupyter.viewOutput'>log</a> for further details."
     ]
    }
   ],
   "source": [
    "dataset = pandas.read_csv(\"datasets/sensor_readings_24.csv\")\n",
    "dataset.sample(10)"
   ]
  },
  {
   "cell_type": "code",
   "execution_count": null,
   "metadata": {
    "collapsed": false
   },
   "outputs": [
    {
     "ename": "",
     "evalue": "",
     "output_type": "error",
     "traceback": [
      "\u001b[1;31mFailed to start the Kernel. \n",
      "\u001b[1;31mreturn _run_code(code, main_globals, None,\n",
      "\u001b[1;31m  File \"/usr/lib/python3.10/runpy.py\", line 86, in _run_code\n",
      "\u001b[1;31m    exec(code, run_globals)\n",
      "\u001b[1;31m  File \"/usr/lib/python3/dist-packages/pip/__main__.py\", line 9, in <module>\n",
      "\u001b[1;31m    if sys.path[0] in (\"\", os.getcwd()):\n",
      "\u001b[1;31mFileNotFoundError: [Errno 2] No such file or directory\n",
      "\u001b[1;31mError in sys.excepthook:\n",
      "\u001b[1;31mTraceback (most recent call last):\n",
      "\u001b[1;31m  File \"/usr/lib/python3/dist-packages/apport_python_hook.py\", line 76, in apport_excepthook\n",
      "\u001b[1;31m    binary = os.path.realpath(os.path.join(os.getcwd(), sys.argv[0]))\n",
      "\u001b[1;31mFileNotFoundError: [Errno 2] No such file or directory\n",
      "\u001b[1;31m\n",
      "\u001b[1;31mOriginal exception was:\n",
      "\u001b[1;31mTraceback (most recent call last):\n",
      "\u001b[1;31m  File \"/usr/lib/python3.10/runpy.py\", line 196, in _run_module_as_main\n",
      "\u001b[1;31m    return _run_code(code, main_globals, None,\n",
      "\u001b[1;31m  File \"/usr/lib/python3.10/runpy.py\", line 86, in _run_code\n",
      "\u001b[1;31m    exec(code, run_globals)\n",
      "\u001b[1;31m  File \"/usr/lib/python3/dist-packages/pip/__main__.py\", line 9, in <module>\n",
      "\u001b[1;31m    if sys.path[0] in (\"\", os.getcwd()):\n",
      "\u001b[1;31mFileNotFoundError: [Errno 2] No such file or directory. \n",
      "\u001b[1;31mView Jupyter <a href='command:jupyter.viewOutput'>log</a> for further details."
     ]
    }
   ],
   "source": [
    "dataset.info()"
   ]
  },
  {
   "cell_type": "code",
   "execution_count": null,
   "metadata": {
    "collapsed": false
   },
   "outputs": [
    {
     "ename": "",
     "evalue": "",
     "output_type": "error",
     "traceback": [
      "\u001b[1;31mFailed to start the Kernel. \n",
      "\u001b[1;31mreturn _run_code(code, main_globals, None,\n",
      "\u001b[1;31m  File \"/usr/lib/python3.10/runpy.py\", line 86, in _run_code\n",
      "\u001b[1;31m    exec(code, run_globals)\n",
      "\u001b[1;31m  File \"/usr/lib/python3/dist-packages/pip/__main__.py\", line 9, in <module>\n",
      "\u001b[1;31m    if sys.path[0] in (\"\", os.getcwd()):\n",
      "\u001b[1;31mFileNotFoundError: [Errno 2] No such file or directory\n",
      "\u001b[1;31mError in sys.excepthook:\n",
      "\u001b[1;31mTraceback (most recent call last):\n",
      "\u001b[1;31m  File \"/usr/lib/python3/dist-packages/apport_python_hook.py\", line 76, in apport_excepthook\n",
      "\u001b[1;31m    binary = os.path.realpath(os.path.join(os.getcwd(), sys.argv[0]))\n",
      "\u001b[1;31mFileNotFoundError: [Errno 2] No such file or directory\n",
      "\u001b[1;31m\n",
      "\u001b[1;31mOriginal exception was:\n",
      "\u001b[1;31mTraceback (most recent call last):\n",
      "\u001b[1;31m  File \"/usr/lib/python3.10/runpy.py\", line 196, in _run_module_as_main\n",
      "\u001b[1;31m    return _run_code(code, main_globals, None,\n",
      "\u001b[1;31m  File \"/usr/lib/python3.10/runpy.py\", line 86, in _run_code\n",
      "\u001b[1;31m    exec(code, run_globals)\n",
      "\u001b[1;31m  File \"/usr/lib/python3/dist-packages/pip/__main__.py\", line 9, in <module>\n",
      "\u001b[1;31m    if sys.path[0] in (\"\", os.getcwd()):\n",
      "\u001b[1;31mFileNotFoundError: [Errno 2] No such file or directory. \n",
      "\u001b[1;31mView Jupyter <a href='command:jupyter.viewOutput'>log</a> for further details."
     ]
    }
   ],
   "source": [
    "dataset.dropna(subset=[\"funcao_robo\"], inplace=True)"
   ]
  },
  {
   "cell_type": "code",
   "execution_count": null,
   "metadata": {
    "collapsed": false
   },
   "outputs": [
    {
     "ename": "",
     "evalue": "",
     "output_type": "error",
     "traceback": [
      "\u001b[1;31mFailed to start the Kernel. \n",
      "\u001b[1;31mreturn _run_code(code, main_globals, None,\n",
      "\u001b[1;31m  File \"/usr/lib/python3.10/runpy.py\", line 86, in _run_code\n",
      "\u001b[1;31m    exec(code, run_globals)\n",
      "\u001b[1;31m  File \"/usr/lib/python3/dist-packages/pip/__main__.py\", line 9, in <module>\n",
      "\u001b[1;31m    if sys.path[0] in (\"\", os.getcwd()):\n",
      "\u001b[1;31mFileNotFoundError: [Errno 2] No such file or directory\n",
      "\u001b[1;31mError in sys.excepthook:\n",
      "\u001b[1;31mTraceback (most recent call last):\n",
      "\u001b[1;31m  File \"/usr/lib/python3/dist-packages/apport_python_hook.py\", line 76, in apport_excepthook\n",
      "\u001b[1;31m    binary = os.path.realpath(os.path.join(os.getcwd(), sys.argv[0]))\n",
      "\u001b[1;31mFileNotFoundError: [Errno 2] No such file or directory\n",
      "\u001b[1;31m\n",
      "\u001b[1;31mOriginal exception was:\n",
      "\u001b[1;31mTraceback (most recent call last):\n",
      "\u001b[1;31m  File \"/usr/lib/python3.10/runpy.py\", line 196, in _run_module_as_main\n",
      "\u001b[1;31m    return _run_code(code, main_globals, None,\n",
      "\u001b[1;31m  File \"/usr/lib/python3.10/runpy.py\", line 86, in _run_code\n",
      "\u001b[1;31m    exec(code, run_globals)\n",
      "\u001b[1;31m  File \"/usr/lib/python3/dist-packages/pip/__main__.py\", line 9, in <module>\n",
      "\u001b[1;31m    if sys.path[0] in (\"\", os.getcwd()):\n",
      "\u001b[1;31mFileNotFoundError: [Errno 2] No such file or directory. \n",
      "\u001b[1;31mView Jupyter <a href='command:jupyter.viewOutput'>log</a> for further details."
     ]
    }
   ],
   "source": [
    "dataset[\"funcao_robo\"].info()"
   ]
  },
  {
   "cell_type": "code",
   "execution_count": null,
   "metadata": {
    "collapsed": false
   },
   "outputs": [
    {
     "ename": "",
     "evalue": "",
     "output_type": "error",
     "traceback": [
      "\u001b[1;31mFailed to start the Kernel. \n",
      "\u001b[1;31mreturn _run_code(code, main_globals, None,\n",
      "\u001b[1;31m  File \"/usr/lib/python3.10/runpy.py\", line 86, in _run_code\n",
      "\u001b[1;31m    exec(code, run_globals)\n",
      "\u001b[1;31m  File \"/usr/lib/python3/dist-packages/pip/__main__.py\", line 9, in <module>\n",
      "\u001b[1;31m    if sys.path[0] in (\"\", os.getcwd()):\n",
      "\u001b[1;31mFileNotFoundError: [Errno 2] No such file or directory\n",
      "\u001b[1;31mError in sys.excepthook:\n",
      "\u001b[1;31mTraceback (most recent call last):\n",
      "\u001b[1;31m  File \"/usr/lib/python3/dist-packages/apport_python_hook.py\", line 76, in apport_excepthook\n",
      "\u001b[1;31m    binary = os.path.realpath(os.path.join(os.getcwd(), sys.argv[0]))\n",
      "\u001b[1;31mFileNotFoundError: [Errno 2] No such file or directory\n",
      "\u001b[1;31m\n",
      "\u001b[1;31mOriginal exception was:\n",
      "\u001b[1;31mTraceback (most recent call last):\n",
      "\u001b[1;31m  File \"/usr/lib/python3.10/runpy.py\", line 196, in _run_module_as_main\n",
      "\u001b[1;31m    return _run_code(code, main_globals, None,\n",
      "\u001b[1;31m  File \"/usr/lib/python3.10/runpy.py\", line 86, in _run_code\n",
      "\u001b[1;31m    exec(code, run_globals)\n",
      "\u001b[1;31m  File \"/usr/lib/python3/dist-packages/pip/__main__.py\", line 9, in <module>\n",
      "\u001b[1;31m    if sys.path[0] in (\"\", os.getcwd()):\n",
      "\u001b[1;31mFileNotFoundError: [Errno 2] No such file or directory. \n",
      "\u001b[1;31mView Jupyter <a href='command:jupyter.viewOutput'>log</a> for further details."
     ]
    }
   ],
   "source": [
    "dataset[dataset.isnull().any(axis=1)]"
   ]
  },
  {
   "cell_type": "code",
   "execution_count": null,
   "metadata": {
    "collapsed": false
   },
   "outputs": [
    {
     "ename": "",
     "evalue": "",
     "output_type": "error",
     "traceback": [
      "\u001b[1;31mFailed to start the Kernel. \n",
      "\u001b[1;31mreturn _run_code(code, main_globals, None,\n",
      "\u001b[1;31m  File \"/usr/lib/python3.10/runpy.py\", line 86, in _run_code\n",
      "\u001b[1;31m    exec(code, run_globals)\n",
      "\u001b[1;31m  File \"/usr/lib/python3/dist-packages/pip/__main__.py\", line 9, in <module>\n",
      "\u001b[1;31m    if sys.path[0] in (\"\", os.getcwd()):\n",
      "\u001b[1;31mFileNotFoundError: [Errno 2] No such file or directory\n",
      "\u001b[1;31mError in sys.excepthook:\n",
      "\u001b[1;31mTraceback (most recent call last):\n",
      "\u001b[1;31m  File \"/usr/lib/python3/dist-packages/apport_python_hook.py\", line 76, in apport_excepthook\n",
      "\u001b[1;31m    binary = os.path.realpath(os.path.join(os.getcwd(), sys.argv[0]))\n",
      "\u001b[1;31mFileNotFoundError: [Errno 2] No such file or directory\n",
      "\u001b[1;31m\n",
      "\u001b[1;31mOriginal exception was:\n",
      "\u001b[1;31mTraceback (most recent call last):\n",
      "\u001b[1;31m  File \"/usr/lib/python3.10/runpy.py\", line 196, in _run_module_as_main\n",
      "\u001b[1;31m    return _run_code(code, main_globals, None,\n",
      "\u001b[1;31m  File \"/usr/lib/python3.10/runpy.py\", line 86, in _run_code\n",
      "\u001b[1;31m    exec(code, run_globals)\n",
      "\u001b[1;31m  File \"/usr/lib/python3/dist-packages/pip/__main__.py\", line 9, in <module>\n",
      "\u001b[1;31m    if sys.path[0] in (\"\", os.getcwd()):\n",
      "\u001b[1;31mFileNotFoundError: [Errno 2] No such file or directory. \n",
      "\u001b[1;31mView Jupyter <a href='command:jupyter.viewOutput'>log</a> for further details."
     ]
    }
   ],
   "source": [
    "# Temos quatro classes\n",
    "dataset[\"funcao_robo\"].unique()"
   ]
  },
  {
   "cell_type": "code",
   "execution_count": null,
   "metadata": {
    "collapsed": false
   },
   "outputs": [
    {
     "ename": "",
     "evalue": "",
     "output_type": "error",
     "traceback": [
      "\u001b[1;31mFailed to start the Kernel. \n",
      "\u001b[1;31mreturn _run_code(code, main_globals, None,\n",
      "\u001b[1;31m  File \"/usr/lib/python3.10/runpy.py\", line 86, in _run_code\n",
      "\u001b[1;31m    exec(code, run_globals)\n",
      "\u001b[1;31m  File \"/usr/lib/python3/dist-packages/pip/__main__.py\", line 9, in <module>\n",
      "\u001b[1;31m    if sys.path[0] in (\"\", os.getcwd()):\n",
      "\u001b[1;31mFileNotFoundError: [Errno 2] No such file or directory\n",
      "\u001b[1;31mError in sys.excepthook:\n",
      "\u001b[1;31mTraceback (most recent call last):\n",
      "\u001b[1;31m  File \"/usr/lib/python3/dist-packages/apport_python_hook.py\", line 76, in apport_excepthook\n",
      "\u001b[1;31m    binary = os.path.realpath(os.path.join(os.getcwd(), sys.argv[0]))\n",
      "\u001b[1;31mFileNotFoundError: [Errno 2] No such file or directory\n",
      "\u001b[1;31m\n",
      "\u001b[1;31mOriginal exception was:\n",
      "\u001b[1;31mTraceback (most recent call last):\n",
      "\u001b[1;31m  File \"/usr/lib/python3.10/runpy.py\", line 196, in _run_module_as_main\n",
      "\u001b[1;31m    return _run_code(code, main_globals, None,\n",
      "\u001b[1;31m  File \"/usr/lib/python3.10/runpy.py\", line 86, in _run_code\n",
      "\u001b[1;31m    exec(code, run_globals)\n",
      "\u001b[1;31m  File \"/usr/lib/python3/dist-packages/pip/__main__.py\", line 9, in <module>\n",
      "\u001b[1;31m    if sys.path[0] in (\"\", os.getcwd()):\n",
      "\u001b[1;31mFileNotFoundError: [Errno 2] No such file or directory. \n",
      "\u001b[1;31mView Jupyter <a href='command:jupyter.viewOutput'>log</a> for further details."
     ]
    }
   ],
   "source": [
    "# Percebemos alguns dados faltantes em algumas filas aleatorias e decidimos preencher esses dados com KNNImputer\n",
    "labels = dataset[\"funcao_robo\"]\n",
    "\n",
    "na_imputer = KNNImputer(n_neighbors=3, weights=\"uniform\")\n",
    "filled_dataset = na_imputer.fit_transform(dataset.drop([\"funcao_robo\"], axis=1))\n",
    "\n",
    "dataset = pandas.DataFrame(filled_dataset)\n",
    "dataset[\"labels\"] = labels\n",
    "dataset"
   ]
  },
  {
   "cell_type": "code",
   "execution_count": null,
   "metadata": {
    "collapsed": false
   },
   "outputs": [
    {
     "ename": "",
     "evalue": "",
     "output_type": "error",
     "traceback": [
      "\u001b[1;31mFailed to start the Kernel. \n",
      "\u001b[1;31mreturn _run_code(code, main_globals, None,\n",
      "\u001b[1;31m  File \"/usr/lib/python3.10/runpy.py\", line 86, in _run_code\n",
      "\u001b[1;31m    exec(code, run_globals)\n",
      "\u001b[1;31m  File \"/usr/lib/python3/dist-packages/pip/__main__.py\", line 9, in <module>\n",
      "\u001b[1;31m    if sys.path[0] in (\"\", os.getcwd()):\n",
      "\u001b[1;31mFileNotFoundError: [Errno 2] No such file or directory\n",
      "\u001b[1;31mError in sys.excepthook:\n",
      "\u001b[1;31mTraceback (most recent call last):\n",
      "\u001b[1;31m  File \"/usr/lib/python3/dist-packages/apport_python_hook.py\", line 76, in apport_excepthook\n",
      "\u001b[1;31m    binary = os.path.realpath(os.path.join(os.getcwd(), sys.argv[0]))\n",
      "\u001b[1;31mFileNotFoundError: [Errno 2] No such file or directory\n",
      "\u001b[1;31m\n",
      "\u001b[1;31mOriginal exception was:\n",
      "\u001b[1;31mTraceback (most recent call last):\n",
      "\u001b[1;31m  File \"/usr/lib/python3.10/runpy.py\", line 196, in _run_module_as_main\n",
      "\u001b[1;31m    return _run_code(code, main_globals, None,\n",
      "\u001b[1;31m  File \"/usr/lib/python3.10/runpy.py\", line 86, in _run_code\n",
      "\u001b[1;31m    exec(code, run_globals)\n",
      "\u001b[1;31m  File \"/usr/lib/python3/dist-packages/pip/__main__.py\", line 9, in <module>\n",
      "\u001b[1;31m    if sys.path[0] in (\"\", os.getcwd()):\n",
      "\u001b[1;31mFileNotFoundError: [Errno 2] No such file or directory. \n",
      "\u001b[1;31mView Jupyter <a href='command:jupyter.viewOutput'>log</a> for further details."
     ]
    }
   ],
   "source": [
    "# Agora não temos mais dados faltantes S2\n",
    "dataset.info()"
   ]
  },
  {
   "cell_type": "code",
   "execution_count": null,
   "metadata": {
    "collapsed": false
   },
   "outputs": [
    {
     "ename": "",
     "evalue": "",
     "output_type": "error",
     "traceback": [
      "\u001b[1;31mFailed to start the Kernel. \n",
      "\u001b[1;31mreturn _run_code(code, main_globals, None,\n",
      "\u001b[1;31m  File \"/usr/lib/python3.10/runpy.py\", line 86, in _run_code\n",
      "\u001b[1;31m    exec(code, run_globals)\n",
      "\u001b[1;31m  File \"/usr/lib/python3/dist-packages/pip/__main__.py\", line 9, in <module>\n",
      "\u001b[1;31m    if sys.path[0] in (\"\", os.getcwd()):\n",
      "\u001b[1;31mFileNotFoundError: [Errno 2] No such file or directory\n",
      "\u001b[1;31mError in sys.excepthook:\n",
      "\u001b[1;31mTraceback (most recent call last):\n",
      "\u001b[1;31m  File \"/usr/lib/python3/dist-packages/apport_python_hook.py\", line 76, in apport_excepthook\n",
      "\u001b[1;31m    binary = os.path.realpath(os.path.join(os.getcwd(), sys.argv[0]))\n",
      "\u001b[1;31mFileNotFoundError: [Errno 2] No such file or directory\n",
      "\u001b[1;31m\n",
      "\u001b[1;31mOriginal exception was:\n",
      "\u001b[1;31mTraceback (most recent call last):\n",
      "\u001b[1;31m  File \"/usr/lib/python3.10/runpy.py\", line 196, in _run_module_as_main\n",
      "\u001b[1;31m    return _run_code(code, main_globals, None,\n",
      "\u001b[1;31m  File \"/usr/lib/python3.10/runpy.py\", line 86, in _run_code\n",
      "\u001b[1;31m    exec(code, run_globals)\n",
      "\u001b[1;31m  File \"/usr/lib/python3/dist-packages/pip/__main__.py\", line 9, in <module>\n",
      "\u001b[1;31m    if sys.path[0] in (\"\", os.getcwd()):\n",
      "\u001b[1;31mFileNotFoundError: [Errno 2] No such file or directory. \n",
      "\u001b[1;31mView Jupyter <a href='command:jupyter.viewOutput'>log</a> for further details."
     ]
    }
   ],
   "source": [
    "dataset.describe()\n",
    "\n",
    "# Como a Média está muito próxima do Desvio Padrão, \n",
    "# consideramos não ter outliers, ou que estão impactando pouco"
   ]
  },
  {
   "cell_type": "code",
   "execution_count": null,
   "metadata": {},
   "outputs": [
    {
     "ename": "",
     "evalue": "",
     "output_type": "error",
     "traceback": [
      "\u001b[1;31mFailed to start the Kernel. \n",
      "\u001b[1;31mreturn _run_code(code, main_globals, None,\n",
      "\u001b[1;31m  File \"/usr/lib/python3.10/runpy.py\", line 86, in _run_code\n",
      "\u001b[1;31m    exec(code, run_globals)\n",
      "\u001b[1;31m  File \"/usr/lib/python3/dist-packages/pip/__main__.py\", line 9, in <module>\n",
      "\u001b[1;31m    if sys.path[0] in (\"\", os.getcwd()):\n",
      "\u001b[1;31mFileNotFoundError: [Errno 2] No such file or directory\n",
      "\u001b[1;31mError in sys.excepthook:\n",
      "\u001b[1;31mTraceback (most recent call last):\n",
      "\u001b[1;31m  File \"/usr/lib/python3/dist-packages/apport_python_hook.py\", line 76, in apport_excepthook\n",
      "\u001b[1;31m    binary = os.path.realpath(os.path.join(os.getcwd(), sys.argv[0]))\n",
      "\u001b[1;31mFileNotFoundError: [Errno 2] No such file or directory\n",
      "\u001b[1;31m\n",
      "\u001b[1;31mOriginal exception was:\n",
      "\u001b[1;31mTraceback (most recent call last):\n",
      "\u001b[1;31m  File \"/usr/lib/python3.10/runpy.py\", line 196, in _run_module_as_main\n",
      "\u001b[1;31m    return _run_code(code, main_globals, None,\n",
      "\u001b[1;31m  File \"/usr/lib/python3.10/runpy.py\", line 86, in _run_code\n",
      "\u001b[1;31m    exec(code, run_globals)\n",
      "\u001b[1;31m  File \"/usr/lib/python3/dist-packages/pip/__main__.py\", line 9, in <module>\n",
      "\u001b[1;31m    if sys.path[0] in (\"\", os.getcwd()):\n",
      "\u001b[1;31mFileNotFoundError: [Errno 2] No such file or directory. \n",
      "\u001b[1;31mView Jupyter <a href='command:jupyter.viewOutput'>log</a> for further details."
     ]
    }
   ],
   "source": [
    "dataset_without_label = dataset.drop(columns=[\"labels\"])\n",
    "\n",
    "asdad = seaborn.boxplot(x = dataset_without_label[\"6\"])"
   ]
  },
  {
   "cell_type": "code",
   "execution_count": null,
   "metadata": {
    "collapsed": false
   },
   "outputs": [
    {
     "ename": "",
     "evalue": "",
     "output_type": "error",
     "traceback": [
      "\u001b[1;31mFailed to start the Kernel. \n",
      "\u001b[1;31mreturn _run_code(code, main_globals, None,\n",
      "\u001b[1;31m  File \"/usr/lib/python3.10/runpy.py\", line 86, in _run_code\n",
      "\u001b[1;31m    exec(code, run_globals)\n",
      "\u001b[1;31m  File \"/usr/lib/python3/dist-packages/pip/__main__.py\", line 9, in <module>\n",
      "\u001b[1;31m    if sys.path[0] in (\"\", os.getcwd()):\n",
      "\u001b[1;31mFileNotFoundError: [Errno 2] No such file or directory\n",
      "\u001b[1;31mError in sys.excepthook:\n",
      "\u001b[1;31mTraceback (most recent call last):\n",
      "\u001b[1;31m  File \"/usr/lib/python3/dist-packages/apport_python_hook.py\", line 76, in apport_excepthook\n",
      "\u001b[1;31m    binary = os.path.realpath(os.path.join(os.getcwd(), sys.argv[0]))\n",
      "\u001b[1;31mFileNotFoundError: [Errno 2] No such file or directory\n",
      "\u001b[1;31m\n",
      "\u001b[1;31mOriginal exception was:\n",
      "\u001b[1;31mTraceback (most recent call last):\n",
      "\u001b[1;31m  File \"/usr/lib/python3.10/runpy.py\", line 196, in _run_module_as_main\n",
      "\u001b[1;31m    return _run_code(code, main_globals, None,\n",
      "\u001b[1;31m  File \"/usr/lib/python3.10/runpy.py\", line 86, in _run_code\n",
      "\u001b[1;31m    exec(code, run_globals)\n",
      "\u001b[1;31m  File \"/usr/lib/python3/dist-packages/pip/__main__.py\", line 9, in <module>\n",
      "\u001b[1;31m    if sys.path[0] in (\"\", os.getcwd()):\n",
      "\u001b[1;31mFileNotFoundError: [Errno 2] No such file or directory. \n",
      "\u001b[1;31mView Jupyter <a href='command:jupyter.viewOutput'>log</a> for further details."
     ]
    }
   ],
   "source": [
    "# Nao sabemos que fazer com esses outliers, nos perdoe professor\n",
    "outliers_identifier = LocalOutlierFactor(n_neighbors=3)\n",
    "outliers = outliers_identifier.fit_predict(dataset.drop([\"labels\"], axis=1))\n",
    "\n",
    "pandas.Series(outliers).value_counts()"
   ]
  },
  {
   "cell_type": "code",
   "execution_count": null,
   "metadata": {
    "collapsed": false
   },
   "outputs": [
    {
     "ename": "",
     "evalue": "",
     "output_type": "error",
     "traceback": [
      "\u001b[1;31mFailed to start the Kernel. \n",
      "\u001b[1;31mreturn _run_code(code, main_globals, None,\n",
      "\u001b[1;31m  File \"/usr/lib/python3.10/runpy.py\", line 86, in _run_code\n",
      "\u001b[1;31m    exec(code, run_globals)\n",
      "\u001b[1;31m  File \"/usr/lib/python3/dist-packages/pip/__main__.py\", line 9, in <module>\n",
      "\u001b[1;31m    if sys.path[0] in (\"\", os.getcwd()):\n",
      "\u001b[1;31mFileNotFoundError: [Errno 2] No such file or directory\n",
      "\u001b[1;31mError in sys.excepthook:\n",
      "\u001b[1;31mTraceback (most recent call last):\n",
      "\u001b[1;31m  File \"/usr/lib/python3/dist-packages/apport_python_hook.py\", line 76, in apport_excepthook\n",
      "\u001b[1;31m    binary = os.path.realpath(os.path.join(os.getcwd(), sys.argv[0]))\n",
      "\u001b[1;31mFileNotFoundError: [Errno 2] No such file or directory\n",
      "\u001b[1;31m\n",
      "\u001b[1;31mOriginal exception was:\n",
      "\u001b[1;31mTraceback (most recent call last):\n",
      "\u001b[1;31m  File \"/usr/lib/python3.10/runpy.py\", line 196, in _run_module_as_main\n",
      "\u001b[1;31m    return _run_code(code, main_globals, None,\n",
      "\u001b[1;31m  File \"/usr/lib/python3.10/runpy.py\", line 86, in _run_code\n",
      "\u001b[1;31m    exec(code, run_globals)\n",
      "\u001b[1;31m  File \"/usr/lib/python3/dist-packages/pip/__main__.py\", line 9, in <module>\n",
      "\u001b[1;31m    if sys.path[0] in (\"\", os.getcwd()):\n",
      "\u001b[1;31mFileNotFoundError: [Errno 2] No such file or directory. \n",
      "\u001b[1;31mView Jupyter <a href='command:jupyter.viewOutput'>log</a> for further details."
     ]
    }
   ],
   "source": [
    "for i in dataset_without_label.columns:\n",
    "    dataset_without_label[i].plot.hist( legend=True )\n",
    "    pyplot.show()"
   ]
  },
  {
   "cell_type": "code",
   "execution_count": null,
   "metadata": {
    "collapsed": false
   },
   "outputs": [
    {
     "ename": "",
     "evalue": "",
     "output_type": "error",
     "traceback": [
      "\u001b[1;31mFailed to start the Kernel. \n",
      "\u001b[1;31mreturn _run_code(code, main_globals, None,\n",
      "\u001b[1;31m  File \"/usr/lib/python3.10/runpy.py\", line 86, in _run_code\n",
      "\u001b[1;31m    exec(code, run_globals)\n",
      "\u001b[1;31m  File \"/usr/lib/python3/dist-packages/pip/__main__.py\", line 9, in <module>\n",
      "\u001b[1;31m    if sys.path[0] in (\"\", os.getcwd()):\n",
      "\u001b[1;31mFileNotFoundError: [Errno 2] No such file or directory\n",
      "\u001b[1;31mError in sys.excepthook:\n",
      "\u001b[1;31mTraceback (most recent call last):\n",
      "\u001b[1;31m  File \"/usr/lib/python3/dist-packages/apport_python_hook.py\", line 76, in apport_excepthook\n",
      "\u001b[1;31m    binary = os.path.realpath(os.path.join(os.getcwd(), sys.argv[0]))\n",
      "\u001b[1;31mFileNotFoundError: [Errno 2] No such file or directory\n",
      "\u001b[1;31m\n",
      "\u001b[1;31mOriginal exception was:\n",
      "\u001b[1;31mTraceback (most recent call last):\n",
      "\u001b[1;31m  File \"/usr/lib/python3.10/runpy.py\", line 196, in _run_module_as_main\n",
      "\u001b[1;31m    return _run_code(code, main_globals, None,\n",
      "\u001b[1;31m  File \"/usr/lib/python3.10/runpy.py\", line 86, in _run_code\n",
      "\u001b[1;31m    exec(code, run_globals)\n",
      "\u001b[1;31m  File \"/usr/lib/python3/dist-packages/pip/__main__.py\", line 9, in <module>\n",
      "\u001b[1;31m    if sys.path[0] in (\"\", os.getcwd()):\n",
      "\u001b[1;31mFileNotFoundError: [Errno 2] No such file or directory. \n",
      "\u001b[1;31mView Jupyter <a href='command:jupyter.viewOutput'>log</a> for further details."
     ]
    }
   ],
   "source": [
    "X = dataset.drop([\"labels\"], axis=1)\n",
    "X.sample(10)"
   ]
  },
  {
   "cell_type": "code",
   "execution_count": null,
   "metadata": {
    "collapsed": false
   },
   "outputs": [
    {
     "ename": "",
     "evalue": "",
     "output_type": "error",
     "traceback": [
      "\u001b[1;31mFailed to start the Kernel. \n",
      "\u001b[1;31mreturn _run_code(code, main_globals, None,\n",
      "\u001b[1;31m  File \"/usr/lib/python3.10/runpy.py\", line 86, in _run_code\n",
      "\u001b[1;31m    exec(code, run_globals)\n",
      "\u001b[1;31m  File \"/usr/lib/python3/dist-packages/pip/__main__.py\", line 9, in <module>\n",
      "\u001b[1;31m    if sys.path[0] in (\"\", os.getcwd()):\n",
      "\u001b[1;31mFileNotFoundError: [Errno 2] No such file or directory\n",
      "\u001b[1;31mError in sys.excepthook:\n",
      "\u001b[1;31mTraceback (most recent call last):\n",
      "\u001b[1;31m  File \"/usr/lib/python3/dist-packages/apport_python_hook.py\", line 76, in apport_excepthook\n",
      "\u001b[1;31m    binary = os.path.realpath(os.path.join(os.getcwd(), sys.argv[0]))\n",
      "\u001b[1;31mFileNotFoundError: [Errno 2] No such file or directory\n",
      "\u001b[1;31m\n",
      "\u001b[1;31mOriginal exception was:\n",
      "\u001b[1;31mTraceback (most recent call last):\n",
      "\u001b[1;31m  File \"/usr/lib/python3.10/runpy.py\", line 196, in _run_module_as_main\n",
      "\u001b[1;31m    return _run_code(code, main_globals, None,\n",
      "\u001b[1;31m  File \"/usr/lib/python3.10/runpy.py\", line 86, in _run_code\n",
      "\u001b[1;31m    exec(code, run_globals)\n",
      "\u001b[1;31m  File \"/usr/lib/python3/dist-packages/pip/__main__.py\", line 9, in <module>\n",
      "\u001b[1;31m    if sys.path[0] in (\"\", os.getcwd()):\n",
      "\u001b[1;31mFileNotFoundError: [Errno 2] No such file or directory. \n",
      "\u001b[1;31mView Jupyter <a href='command:jupyter.viewOutput'>log</a> for further details."
     ]
    }
   ],
   "source": [
    "encoder = LabelEncoder()\n",
    "labels = encoder.fit_transform(dataset[\"labels\"])\n",
    "y = pandas.DataFrame(labels)\n",
    "y.sample(10)"
   ]
  },
  {
   "cell_type": "code",
   "execution_count": null,
   "metadata": {
    "collapsed": false
   },
   "outputs": [
    {
     "ename": "",
     "evalue": "",
     "output_type": "error",
     "traceback": [
      "\u001b[1;31mFailed to start the Kernel. \n",
      "\u001b[1;31mreturn _run_code(code, main_globals, None,\n",
      "\u001b[1;31m  File \"/usr/lib/python3.10/runpy.py\", line 86, in _run_code\n",
      "\u001b[1;31m    exec(code, run_globals)\n",
      "\u001b[1;31m  File \"/usr/lib/python3/dist-packages/pip/__main__.py\", line 9, in <module>\n",
      "\u001b[1;31m    if sys.path[0] in (\"\", os.getcwd()):\n",
      "\u001b[1;31mFileNotFoundError: [Errno 2] No such file or directory\n",
      "\u001b[1;31mError in sys.excepthook:\n",
      "\u001b[1;31mTraceback (most recent call last):\n",
      "\u001b[1;31m  File \"/usr/lib/python3/dist-packages/apport_python_hook.py\", line 76, in apport_excepthook\n",
      "\u001b[1;31m    binary = os.path.realpath(os.path.join(os.getcwd(), sys.argv[0]))\n",
      "\u001b[1;31mFileNotFoundError: [Errno 2] No such file or directory\n",
      "\u001b[1;31m\n",
      "\u001b[1;31mOriginal exception was:\n",
      "\u001b[1;31mTraceback (most recent call last):\n",
      "\u001b[1;31m  File \"/usr/lib/python3.10/runpy.py\", line 196, in _run_module_as_main\n",
      "\u001b[1;31m    return _run_code(code, main_globals, None,\n",
      "\u001b[1;31m  File \"/usr/lib/python3.10/runpy.py\", line 86, in _run_code\n",
      "\u001b[1;31m    exec(code, run_globals)\n",
      "\u001b[1;31m  File \"/usr/lib/python3/dist-packages/pip/__main__.py\", line 9, in <module>\n",
      "\u001b[1;31m    if sys.path[0] in (\"\", os.getcwd()):\n",
      "\u001b[1;31mFileNotFoundError: [Errno 2] No such file or directory. \n",
      "\u001b[1;31mView Jupyter <a href='command:jupyter.viewOutput'>log</a> for further details."
     ]
    }
   ],
   "source": [
    "X_train, X_test, y_train, y_test = train_test_split(X, y, test_size=0.3, random_state=10)"
   ]
  },
  {
   "cell_type": "code",
   "execution_count": null,
   "metadata": {
    "collapsed": false
   },
   "outputs": [
    {
     "ename": "",
     "evalue": "",
     "output_type": "error",
     "traceback": [
      "\u001b[1;31mFailed to start the Kernel. \n",
      "\u001b[1;31mreturn _run_code(code, main_globals, None,\n",
      "\u001b[1;31m  File \"/usr/lib/python3.10/runpy.py\", line 86, in _run_code\n",
      "\u001b[1;31m    exec(code, run_globals)\n",
      "\u001b[1;31m  File \"/usr/lib/python3/dist-packages/pip/__main__.py\", line 9, in <module>\n",
      "\u001b[1;31m    if sys.path[0] in (\"\", os.getcwd()):\n",
      "\u001b[1;31mFileNotFoundError: [Errno 2] No such file or directory\n",
      "\u001b[1;31mError in sys.excepthook:\n",
      "\u001b[1;31mTraceback (most recent call last):\n",
      "\u001b[1;31m  File \"/usr/lib/python3/dist-packages/apport_python_hook.py\", line 76, in apport_excepthook\n",
      "\u001b[1;31m    binary = os.path.realpath(os.path.join(os.getcwd(), sys.argv[0]))\n",
      "\u001b[1;31mFileNotFoundError: [Errno 2] No such file or directory\n",
      "\u001b[1;31m\n",
      "\u001b[1;31mOriginal exception was:\n",
      "\u001b[1;31mTraceback (most recent call last):\n",
      "\u001b[1;31m  File \"/usr/lib/python3.10/runpy.py\", line 196, in _run_module_as_main\n",
      "\u001b[1;31m    return _run_code(code, main_globals, None,\n",
      "\u001b[1;31m  File \"/usr/lib/python3.10/runpy.py\", line 86, in _run_code\n",
      "\u001b[1;31m    exec(code, run_globals)\n",
      "\u001b[1;31m  File \"/usr/lib/python3/dist-packages/pip/__main__.py\", line 9, in <module>\n",
      "\u001b[1;31m    if sys.path[0] in (\"\", os.getcwd()):\n",
      "\u001b[1;31mFileNotFoundError: [Errno 2] No such file or directory. \n",
      "\u001b[1;31mView Jupyter <a href='command:jupyter.viewOutput'>log</a> for further details."
     ]
    }
   ],
   "source": [
    "minmax_scaler = MinMaxScaler()\n",
    "X_train = pandas.DataFrame(minmax_scaler.fit_transform(X_train))\n",
    "X_test = pandas.DataFrame(minmax_scaler.transform(X_test))\n",
    "X_train.sample(10)"
   ]
  },
  {
   "cell_type": "code",
   "execution_count": null,
   "metadata": {
    "collapsed": false
   },
   "outputs": [
    {
     "ename": "",
     "evalue": "",
     "output_type": "error",
     "traceback": [
      "\u001b[1;31mFailed to start the Kernel. \n",
      "\u001b[1;31mreturn _run_code(code, main_globals, None,\n",
      "\u001b[1;31m  File \"/usr/lib/python3.10/runpy.py\", line 86, in _run_code\n",
      "\u001b[1;31m    exec(code, run_globals)\n",
      "\u001b[1;31m  File \"/usr/lib/python3/dist-packages/pip/__main__.py\", line 9, in <module>\n",
      "\u001b[1;31m    if sys.path[0] in (\"\", os.getcwd()):\n",
      "\u001b[1;31mFileNotFoundError: [Errno 2] No such file or directory\n",
      "\u001b[1;31mError in sys.excepthook:\n",
      "\u001b[1;31mTraceback (most recent call last):\n",
      "\u001b[1;31m  File \"/usr/lib/python3/dist-packages/apport_python_hook.py\", line 76, in apport_excepthook\n",
      "\u001b[1;31m    binary = os.path.realpath(os.path.join(os.getcwd(), sys.argv[0]))\n",
      "\u001b[1;31mFileNotFoundError: [Errno 2] No such file or directory\n",
      "\u001b[1;31m\n",
      "\u001b[1;31mOriginal exception was:\n",
      "\u001b[1;31mTraceback (most recent call last):\n",
      "\u001b[1;31m  File \"/usr/lib/python3.10/runpy.py\", line 196, in _run_module_as_main\n",
      "\u001b[1;31m    return _run_code(code, main_globals, None,\n",
      "\u001b[1;31m  File \"/usr/lib/python3.10/runpy.py\", line 86, in _run_code\n",
      "\u001b[1;31m    exec(code, run_globals)\n",
      "\u001b[1;31m  File \"/usr/lib/python3/dist-packages/pip/__main__.py\", line 9, in <module>\n",
      "\u001b[1;31m    if sys.path[0] in (\"\", os.getcwd()):\n",
      "\u001b[1;31mFileNotFoundError: [Errno 2] No such file or directory. \n",
      "\u001b[1;31mView Jupyter <a href='command:jupyter.viewOutput'>log</a> for further details."
     ]
    }
   ],
   "source": [
    "knn = {}\n",
    "forest = {}\n",
    "hgb = {}"
   ]
  },
  {
   "cell_type": "code",
   "execution_count": null,
   "metadata": {},
   "outputs": [
    {
     "ename": "",
     "evalue": "",
     "output_type": "error",
     "traceback": [
      "\u001b[1;31mFailed to start the Kernel. \n",
      "\u001b[1;31mreturn _run_code(code, main_globals, None,\n",
      "\u001b[1;31m  File \"/usr/lib/python3.10/runpy.py\", line 86, in _run_code\n",
      "\u001b[1;31m    exec(code, run_globals)\n",
      "\u001b[1;31m  File \"/usr/lib/python3/dist-packages/pip/__main__.py\", line 9, in <module>\n",
      "\u001b[1;31m    if sys.path[0] in (\"\", os.getcwd()):\n",
      "\u001b[1;31mFileNotFoundError: [Errno 2] No such file or directory\n",
      "\u001b[1;31mError in sys.excepthook:\n",
      "\u001b[1;31mTraceback (most recent call last):\n",
      "\u001b[1;31m  File \"/usr/lib/python3/dist-packages/apport_python_hook.py\", line 76, in apport_excepthook\n",
      "\u001b[1;31m    binary = os.path.realpath(os.path.join(os.getcwd(), sys.argv[0]))\n",
      "\u001b[1;31mFileNotFoundError: [Errno 2] No such file or directory\n",
      "\u001b[1;31m\n",
      "\u001b[1;31mOriginal exception was:\n",
      "\u001b[1;31mTraceback (most recent call last):\n",
      "\u001b[1;31m  File \"/usr/lib/python3.10/runpy.py\", line 196, in _run_module_as_main\n",
      "\u001b[1;31m    return _run_code(code, main_globals, None,\n",
      "\u001b[1;31m  File \"/usr/lib/python3.10/runpy.py\", line 86, in _run_code\n",
      "\u001b[1;31m    exec(code, run_globals)\n",
      "\u001b[1;31m  File \"/usr/lib/python3/dist-packages/pip/__main__.py\", line 9, in <module>\n",
      "\u001b[1;31m    if sys.path[0] in (\"\", os.getcwd()):\n",
      "\u001b[1;31mFileNotFoundError: [Errno 2] No such file or directory. \n",
      "\u001b[1;31mView Jupyter <a href='command:jupyter.viewOutput'>log</a> for further details."
     ]
    }
   ],
   "source": [
    "def calculate_metrics(y_test, y_pred):\n",
    "  acc = metrics.accuracy_score(y_test, y_pred)\n",
    "  prec = metrics.precision_score(y_test, y_pred, average=\"weighted\")\n",
    "  rec = metrics.recall_score(y_test, y_pred, average=\"weighted\")\n",
    "  f_one = metrics.f1_score(y_test, y_pred, average=\"weighted\")\n",
    "\n",
    "  return {\n",
    "      \"ACC\" : acc,\n",
    "      \"F1\" : f_one,\n",
    "      \"REC\" : rec,\n",
    "      \"PREC\" : prec,\n",
    "  }\n",
    "\n",
    "def fit_and_predict(model, X_train, X_test, y_train, predict_probability=False):\n",
    "  model.fit(X_train, y_train)\n",
    "  y_pred = model.predict(X_test)\n",
    "  probability = None\n",
    "\n",
    "  if predict_probability: probability = model.predict_proba(X_test)\n",
    "\n",
    "  return y_pred, probability"
   ]
  },
  {
   "cell_type": "code",
   "execution_count": null,
   "metadata": {
    "collapsed": false
   },
   "outputs": [
    {
     "ename": "",
     "evalue": "",
     "output_type": "error",
     "traceback": [
      "\u001b[1;31mFailed to start the Kernel. \n",
      "\u001b[1;31mreturn _run_code(code, main_globals, None,\n",
      "\u001b[1;31m  File \"/usr/lib/python3.10/runpy.py\", line 86, in _run_code\n",
      "\u001b[1;31m    exec(code, run_globals)\n",
      "\u001b[1;31m  File \"/usr/lib/python3/dist-packages/pip/__main__.py\", line 9, in <module>\n",
      "\u001b[1;31m    if sys.path[0] in (\"\", os.getcwd()):\n",
      "\u001b[1;31mFileNotFoundError: [Errno 2] No such file or directory\n",
      "\u001b[1;31mError in sys.excepthook:\n",
      "\u001b[1;31mTraceback (most recent call last):\n",
      "\u001b[1;31m  File \"/usr/lib/python3/dist-packages/apport_python_hook.py\", line 76, in apport_excepthook\n",
      "\u001b[1;31m    binary = os.path.realpath(os.path.join(os.getcwd(), sys.argv[0]))\n",
      "\u001b[1;31mFileNotFoundError: [Errno 2] No such file or directory\n",
      "\u001b[1;31m\n",
      "\u001b[1;31mOriginal exception was:\n",
      "\u001b[1;31mTraceback (most recent call last):\n",
      "\u001b[1;31m  File \"/usr/lib/python3.10/runpy.py\", line 196, in _run_module_as_main\n",
      "\u001b[1;31m    return _run_code(code, main_globals, None,\n",
      "\u001b[1;31m  File \"/usr/lib/python3.10/runpy.py\", line 86, in _run_code\n",
      "\u001b[1;31m    exec(code, run_globals)\n",
      "\u001b[1;31m  File \"/usr/lib/python3/dist-packages/pip/__main__.py\", line 9, in <module>\n",
      "\u001b[1;31m    if sys.path[0] in (\"\", os.getcwd()):\n",
      "\u001b[1;31mFileNotFoundError: [Errno 2] No such file or directory. \n",
      "\u001b[1;31mView Jupyter <a href='command:jupyter.viewOutput'>log</a> for further details."
     ]
    }
   ],
   "source": [
    "def knn_train_and_fit(X_train, X_test, y_train, y_test, k=0):\n",
    "\n",
    "    if k == 0:\n",
    "        k = int( (len(y_train) + len(y_test)) ** 0.5 )\n",
    "\n",
    "    knn = KNeighborsClassifier(n_neighbors=k)\n",
    "\n",
    "    y_pred, _ = fit_and_predict(knn, X_train, X_test, y_train)\n",
    "    training_metrics = calculate_metrics(y_test, y_pred)\n",
    "\n",
    "    training_metrics[\"K\"] = k\n",
    "\n",
    "    return training_metrics\n",
    "\n",
    "\n",
    "def forest_train_and_fit(X_train, X_test, y_train, y_test, estimators, depth, impurity):\n",
    "    forest = RandomForestClassifier(n_estimators=estimators,max_depth=depth,random_state=42,\n",
    "                                    verbose=0,class_weight=\"balanced\", min_impurity_decrease=impurity)\n",
    "\n",
    "    y_pred, _ = fit_and_predict(forest, X_train, X_test, y_train, True)\n",
    "    training_metrics = calculate_metrics(y_test, y_pred)\n",
    "    \n",
    "    training_metrics[\"ESTIM\"] = estimators\n",
    "    training_metrics[\"DEPTH\"] = depth\n",
    "    training_metrics[\"IMPURITY\"] = impurity\n",
    "\n",
    "    return training_metrics\n",
    "\n",
    "\n",
    "def hg_boost_train_and_fit(X_train, X_test, y_train, y_test, depth):\n",
    "    hg = HistGradientBoostingClassifier(max_depth=depth, random_state=77)\n",
    "    y_pred, _ = fit_and_predict(hg, X_train, X_test, y_train, True)\n",
    "\n",
    "    training_metrics = calculate_metrics(y_test, y_pred)\n",
    "\n",
    "    training_metrics[\"DEPTH\"] = depth\n",
    "\n",
    "    return training_metrics"
   ]
  },
  {
   "cell_type": "code",
   "execution_count": null,
   "metadata": {
    "collapsed": false
   },
   "outputs": [
    {
     "ename": "",
     "evalue": "",
     "output_type": "error",
     "traceback": [
      "\u001b[1;31mFailed to start the Kernel. \n",
      "\u001b[1;31mreturn _run_code(code, main_globals, None,\n",
      "\u001b[1;31m  File \"/usr/lib/python3.10/runpy.py\", line 86, in _run_code\n",
      "\u001b[1;31m    exec(code, run_globals)\n",
      "\u001b[1;31m  File \"/usr/lib/python3/dist-packages/pip/__main__.py\", line 9, in <module>\n",
      "\u001b[1;31m    if sys.path[0] in (\"\", os.getcwd()):\n",
      "\u001b[1;31mFileNotFoundError: [Errno 2] No such file or directory\n",
      "\u001b[1;31mError in sys.excepthook:\n",
      "\u001b[1;31mTraceback (most recent call last):\n",
      "\u001b[1;31m  File \"/usr/lib/python3/dist-packages/apport_python_hook.py\", line 76, in apport_excepthook\n",
      "\u001b[1;31m    binary = os.path.realpath(os.path.join(os.getcwd(), sys.argv[0]))\n",
      "\u001b[1;31mFileNotFoundError: [Errno 2] No such file or directory\n",
      "\u001b[1;31m\n",
      "\u001b[1;31mOriginal exception was:\n",
      "\u001b[1;31mTraceback (most recent call last):\n",
      "\u001b[1;31m  File \"/usr/lib/python3.10/runpy.py\", line 196, in _run_module_as_main\n",
      "\u001b[1;31m    return _run_code(code, main_globals, None,\n",
      "\u001b[1;31m  File \"/usr/lib/python3.10/runpy.py\", line 86, in _run_code\n",
      "\u001b[1;31m    exec(code, run_globals)\n",
      "\u001b[1;31m  File \"/usr/lib/python3/dist-packages/pip/__main__.py\", line 9, in <module>\n",
      "\u001b[1;31m    if sys.path[0] in (\"\", os.getcwd()):\n",
      "\u001b[1;31mFileNotFoundError: [Errno 2] No such file or directory. \n",
      "\u001b[1;31mView Jupyter <a href='command:jupyter.viewOutput'>log</a> for further details."
     ]
    }
   ],
   "source": [
    "knn_training = []\n",
    "for i in range(20):\n",
    "    knn_training.append(knn_train_and_fit(X_train, X_test, y_train, y_test, i))"
   ]
  },
  {
   "cell_type": "code",
   "execution_count": null,
   "metadata": {
    "collapsed": false
   },
   "outputs": [
    {
     "ename": "",
     "evalue": "",
     "output_type": "error",
     "traceback": [
      "\u001b[1;31mFailed to start the Kernel. \n",
      "\u001b[1;31mreturn _run_code(code, main_globals, None,\n",
      "\u001b[1;31m  File \"/usr/lib/python3.10/runpy.py\", line 86, in _run_code\n",
      "\u001b[1;31m    exec(code, run_globals)\n",
      "\u001b[1;31m  File \"/usr/lib/python3/dist-packages/pip/__main__.py\", line 9, in <module>\n",
      "\u001b[1;31m    if sys.path[0] in (\"\", os.getcwd()):\n",
      "\u001b[1;31mFileNotFoundError: [Errno 2] No such file or directory\n",
      "\u001b[1;31mError in sys.excepthook:\n",
      "\u001b[1;31mTraceback (most recent call last):\n",
      "\u001b[1;31m  File \"/usr/lib/python3/dist-packages/apport_python_hook.py\", line 76, in apport_excepthook\n",
      "\u001b[1;31m    binary = os.path.realpath(os.path.join(os.getcwd(), sys.argv[0]))\n",
      "\u001b[1;31mFileNotFoundError: [Errno 2] No such file or directory\n",
      "\u001b[1;31m\n",
      "\u001b[1;31mOriginal exception was:\n",
      "\u001b[1;31mTraceback (most recent call last):\n",
      "\u001b[1;31m  File \"/usr/lib/python3.10/runpy.py\", line 196, in _run_module_as_main\n",
      "\u001b[1;31m    return _run_code(code, main_globals, None,\n",
      "\u001b[1;31m  File \"/usr/lib/python3.10/runpy.py\", line 86, in _run_code\n",
      "\u001b[1;31m    exec(code, run_globals)\n",
      "\u001b[1;31m  File \"/usr/lib/python3/dist-packages/pip/__main__.py\", line 9, in <module>\n",
      "\u001b[1;31m    if sys.path[0] in (\"\", os.getcwd()):\n",
      "\u001b[1;31mFileNotFoundError: [Errno 2] No such file or directory. \n",
      "\u001b[1;31mView Jupyter <a href='command:jupyter.viewOutput'>log</a> for further details."
     ]
    }
   ],
   "source": [
    "hgb_training = []\n",
    "for i in range(1, 20):\n",
    "    hgb_training.append(hg_boost_train_and_fit(X_train, X_test, y_train, y_test, i))"
   ]
  },
  {
   "cell_type": "code",
   "execution_count": null,
   "metadata": {
    "collapsed": false
   },
   "outputs": [
    {
     "ename": "",
     "evalue": "",
     "output_type": "error",
     "traceback": [
      "\u001b[1;31mFailed to start the Kernel. \n",
      "\u001b[1;31mreturn _run_code(code, main_globals, None,\n",
      "\u001b[1;31m  File \"/usr/lib/python3.10/runpy.py\", line 86, in _run_code\n",
      "\u001b[1;31m    exec(code, run_globals)\n",
      "\u001b[1;31m  File \"/usr/lib/python3/dist-packages/pip/__main__.py\", line 9, in <module>\n",
      "\u001b[1;31m    if sys.path[0] in (\"\", os.getcwd()):\n",
      "\u001b[1;31mFileNotFoundError: [Errno 2] No such file or directory\n",
      "\u001b[1;31mError in sys.excepthook:\n",
      "\u001b[1;31mTraceback (most recent call last):\n",
      "\u001b[1;31m  File \"/usr/lib/python3/dist-packages/apport_python_hook.py\", line 76, in apport_excepthook\n",
      "\u001b[1;31m    binary = os.path.realpath(os.path.join(os.getcwd(), sys.argv[0]))\n",
      "\u001b[1;31mFileNotFoundError: [Errno 2] No such file or directory\n",
      "\u001b[1;31m\n",
      "\u001b[1;31mOriginal exception was:\n",
      "\u001b[1;31mTraceback (most recent call last):\n",
      "\u001b[1;31m  File \"/usr/lib/python3.10/runpy.py\", line 196, in _run_module_as_main\n",
      "\u001b[1;31m    return _run_code(code, main_globals, None,\n",
      "\u001b[1;31m  File \"/usr/lib/python3.10/runpy.py\", line 86, in _run_code\n",
      "\u001b[1;31m    exec(code, run_globals)\n",
      "\u001b[1;31m  File \"/usr/lib/python3/dist-packages/pip/__main__.py\", line 9, in <module>\n",
      "\u001b[1;31m    if sys.path[0] in (\"\", os.getcwd()):\n",
      "\u001b[1;31mFileNotFoundError: [Errno 2] No such file or directory. \n",
      "\u001b[1;31mView Jupyter <a href='command:jupyter.viewOutput'>log</a> for further details."
     ]
    }
   ],
   "source": [
    "forest_training = []\n",
    "for i in range(1, 100, 5):\n",
    "    forest_training.append(forest_train_and_fit(X_train, X_test, y_train, y_test, i, 5, 0.00001))"
   ]
  },
  {
   "cell_type": "code",
   "execution_count": null,
   "metadata": {
    "collapsed": false
   },
   "outputs": [
    {
     "ename": "",
     "evalue": "",
     "output_type": "error",
     "traceback": [
      "\u001b[1;31mFailed to start the Kernel. \n",
      "\u001b[1;31mreturn _run_code(code, main_globals, None,\n",
      "\u001b[1;31m  File \"/usr/lib/python3.10/runpy.py\", line 86, in _run_code\n",
      "\u001b[1;31m    exec(code, run_globals)\n",
      "\u001b[1;31m  File \"/usr/lib/python3/dist-packages/pip/__main__.py\", line 9, in <module>\n",
      "\u001b[1;31m    if sys.path[0] in (\"\", os.getcwd()):\n",
      "\u001b[1;31mFileNotFoundError: [Errno 2] No such file or directory\n",
      "\u001b[1;31mError in sys.excepthook:\n",
      "\u001b[1;31mTraceback (most recent call last):\n",
      "\u001b[1;31m  File \"/usr/lib/python3/dist-packages/apport_python_hook.py\", line 76, in apport_excepthook\n",
      "\u001b[1;31m    binary = os.path.realpath(os.path.join(os.getcwd(), sys.argv[0]))\n",
      "\u001b[1;31mFileNotFoundError: [Errno 2] No such file or directory\n",
      "\u001b[1;31m\n",
      "\u001b[1;31mOriginal exception was:\n",
      "\u001b[1;31mTraceback (most recent call last):\n",
      "\u001b[1;31m  File \"/usr/lib/python3.10/runpy.py\", line 196, in _run_module_as_main\n",
      "\u001b[1;31m    return _run_code(code, main_globals, None,\n",
      "\u001b[1;31m  File \"/usr/lib/python3.10/runpy.py\", line 86, in _run_code\n",
      "\u001b[1;31m    exec(code, run_globals)\n",
      "\u001b[1;31m  File \"/usr/lib/python3/dist-packages/pip/__main__.py\", line 9, in <module>\n",
      "\u001b[1;31m    if sys.path[0] in (\"\", os.getcwd()):\n",
      "\u001b[1;31mFileNotFoundError: [Errno 2] No such file or directory. \n",
      "\u001b[1;31mView Jupyter <a href='command:jupyter.viewOutput'>log</a> for further details."
     ]
    }
   ],
   "source": [
    "for i in range(1, 25):\n",
    "    forest_training.append(forest_train_and_fit(X_train, X_test, y_train, y_test, 41, i, 0.00001))"
   ]
  },
  {
   "cell_type": "code",
   "execution_count": null,
   "metadata": {},
   "outputs": [
    {
     "ename": "",
     "evalue": "",
     "output_type": "error",
     "traceback": [
      "\u001b[1;31mFailed to start the Kernel. \n",
      "\u001b[1;31mreturn _run_code(code, main_globals, None,\n",
      "\u001b[1;31m  File \"/usr/lib/python3.10/runpy.py\", line 86, in _run_code\n",
      "\u001b[1;31m    exec(code, run_globals)\n",
      "\u001b[1;31m  File \"/usr/lib/python3/dist-packages/pip/__main__.py\", line 9, in <module>\n",
      "\u001b[1;31m    if sys.path[0] in (\"\", os.getcwd()):\n",
      "\u001b[1;31mFileNotFoundError: [Errno 2] No such file or directory\n",
      "\u001b[1;31mError in sys.excepthook:\n",
      "\u001b[1;31mTraceback (most recent call last):\n",
      "\u001b[1;31m  File \"/usr/lib/python3/dist-packages/apport_python_hook.py\", line 76, in apport_excepthook\n",
      "\u001b[1;31m    binary = os.path.realpath(os.path.join(os.getcwd(), sys.argv[0]))\n",
      "\u001b[1;31mFileNotFoundError: [Errno 2] No such file or directory\n",
      "\u001b[1;31m\n",
      "\u001b[1;31mOriginal exception was:\n",
      "\u001b[1;31mTraceback (most recent call last):\n",
      "\u001b[1;31m  File \"/usr/lib/python3.10/runpy.py\", line 196, in _run_module_as_main\n",
      "\u001b[1;31m    return _run_code(code, main_globals, None,\n",
      "\u001b[1;31m  File \"/usr/lib/python3.10/runpy.py\", line 86, in _run_code\n",
      "\u001b[1;31m    exec(code, run_globals)\n",
      "\u001b[1;31m  File \"/usr/lib/python3/dist-packages/pip/__main__.py\", line 9, in <module>\n",
      "\u001b[1;31m    if sys.path[0] in (\"\", os.getcwd()):\n",
      "\u001b[1;31mFileNotFoundError: [Errno 2] No such file or directory. \n",
      "\u001b[1;31mView Jupyter <a href='command:jupyter.viewOutput'>log</a> for further details."
     ]
    }
   ],
   "source": [
    "def get_row_of_max_field(data: list, field: str):\n",
    "    max_field_value = 0\n",
    "    selected_row = 0\n",
    "\n",
    "    for i in range(len(data)):\n",
    "      if max_field_value == 0:\n",
    "        max_field_value = data[i][field]\n",
    "        selected_row = i\n",
    "        pass\n",
    "\n",
    "      if data[i][field] > max_field_value:\n",
    "        max_field_value = data[i][field]\n",
    "        selected_row = i\n",
    "\n",
    "    return data[selected_row]"
   ]
  },
  {
   "cell_type": "code",
   "execution_count": null,
   "metadata": {},
   "outputs": [
    {
     "ename": "",
     "evalue": "",
     "output_type": "error",
     "traceback": [
      "\u001b[1;31mFailed to start the Kernel. \n",
      "\u001b[1;31mreturn _run_code(code, main_globals, None,\n",
      "\u001b[1;31m  File \"/usr/lib/python3.10/runpy.py\", line 86, in _run_code\n",
      "\u001b[1;31m    exec(code, run_globals)\n",
      "\u001b[1;31m  File \"/usr/lib/python3/dist-packages/pip/__main__.py\", line 9, in <module>\n",
      "\u001b[1;31m    if sys.path[0] in (\"\", os.getcwd()):\n",
      "\u001b[1;31mFileNotFoundError: [Errno 2] No such file or directory\n",
      "\u001b[1;31mError in sys.excepthook:\n",
      "\u001b[1;31mTraceback (most recent call last):\n",
      "\u001b[1;31m  File \"/usr/lib/python3/dist-packages/apport_python_hook.py\", line 76, in apport_excepthook\n",
      "\u001b[1;31m    binary = os.path.realpath(os.path.join(os.getcwd(), sys.argv[0]))\n",
      "\u001b[1;31mFileNotFoundError: [Errno 2] No such file or directory\n",
      "\u001b[1;31m\n",
      "\u001b[1;31mOriginal exception was:\n",
      "\u001b[1;31mTraceback (most recent call last):\n",
      "\u001b[1;31m  File \"/usr/lib/python3.10/runpy.py\", line 196, in _run_module_as_main\n",
      "\u001b[1;31m    return _run_code(code, main_globals, None,\n",
      "\u001b[1;31m  File \"/usr/lib/python3.10/runpy.py\", line 86, in _run_code\n",
      "\u001b[1;31m    exec(code, run_globals)\n",
      "\u001b[1;31m  File \"/usr/lib/python3/dist-packages/pip/__main__.py\", line 9, in <module>\n",
      "\u001b[1;31m    if sys.path[0] in (\"\", os.getcwd()):\n",
      "\u001b[1;31mFileNotFoundError: [Errno 2] No such file or directory. \n",
      "\u001b[1;31mView Jupyter <a href='command:jupyter.viewOutput'>log</a> for further details."
     ]
    }
   ],
   "source": [
    "hgb['minmax'] = get_row_of_max_field(hgb_training, 'F1')\n",
    "forest['minmax'] = get_row_of_max_field(forest_training, 'F1')\n",
    "knn['minmax'] = get_row_of_max_field(knn_training, 'F1')"
   ]
  },
  {
   "cell_type": "code",
   "execution_count": null,
   "metadata": {},
   "outputs": [
    {
     "ename": "",
     "evalue": "",
     "output_type": "error",
     "traceback": [
      "\u001b[1;31mFailed to start the Kernel. \n",
      "\u001b[1;31mreturn _run_code(code, main_globals, None,\n",
      "\u001b[1;31m  File \"/usr/lib/python3.10/runpy.py\", line 86, in _run_code\n",
      "\u001b[1;31m    exec(code, run_globals)\n",
      "\u001b[1;31m  File \"/usr/lib/python3/dist-packages/pip/__main__.py\", line 9, in <module>\n",
      "\u001b[1;31m    if sys.path[0] in (\"\", os.getcwd()):\n",
      "\u001b[1;31mFileNotFoundError: [Errno 2] No such file or directory\n",
      "\u001b[1;31mError in sys.excepthook:\n",
      "\u001b[1;31mTraceback (most recent call last):\n",
      "\u001b[1;31m  File \"/usr/lib/python3/dist-packages/apport_python_hook.py\", line 76, in apport_excepthook\n",
      "\u001b[1;31m    binary = os.path.realpath(os.path.join(os.getcwd(), sys.argv[0]))\n",
      "\u001b[1;31mFileNotFoundError: [Errno 2] No such file or directory\n",
      "\u001b[1;31m\n",
      "\u001b[1;31mOriginal exception was:\n",
      "\u001b[1;31mTraceback (most recent call last):\n",
      "\u001b[1;31m  File \"/usr/lib/python3.10/runpy.py\", line 196, in _run_module_as_main\n",
      "\u001b[1;31m    return _run_code(code, main_globals, None,\n",
      "\u001b[1;31m  File \"/usr/lib/python3.10/runpy.py\", line 86, in _run_code\n",
      "\u001b[1;31m    exec(code, run_globals)\n",
      "\u001b[1;31m  File \"/usr/lib/python3/dist-packages/pip/__main__.py\", line 9, in <module>\n",
      "\u001b[1;31m    if sys.path[0] in (\"\", os.getcwd()):\n",
      "\u001b[1;31mFileNotFoundError: [Errno 2] No such file or directory. \n",
      "\u001b[1;31mView Jupyter <a href='command:jupyter.viewOutput'>log</a> for further details."
     ]
    }
   ],
   "source": [
    "all_trained = {\n",
    "    'knn' : knn,\n",
    "    'forest' : forest,\n",
    "    'hgb' : hgb,\n",
    "}"
   ]
  },
  {
   "cell_type": "code",
   "execution_count": null,
   "metadata": {},
   "outputs": [
    {
     "ename": "",
     "evalue": "",
     "output_type": "error",
     "traceback": [
      "\u001b[1;31mFailed to start the Kernel. \n",
      "\u001b[1;31mreturn _run_code(code, main_globals, None,\n",
      "\u001b[1;31m  File \"/usr/lib/python3.10/runpy.py\", line 86, in _run_code\n",
      "\u001b[1;31m    exec(code, run_globals)\n",
      "\u001b[1;31m  File \"/usr/lib/python3/dist-packages/pip/__main__.py\", line 9, in <module>\n",
      "\u001b[1;31m    if sys.path[0] in (\"\", os.getcwd()):\n",
      "\u001b[1;31mFileNotFoundError: [Errno 2] No such file or directory\n",
      "\u001b[1;31mError in sys.excepthook:\n",
      "\u001b[1;31mTraceback (most recent call last):\n",
      "\u001b[1;31m  File \"/usr/lib/python3/dist-packages/apport_python_hook.py\", line 76, in apport_excepthook\n",
      "\u001b[1;31m    binary = os.path.realpath(os.path.join(os.getcwd(), sys.argv[0]))\n",
      "\u001b[1;31mFileNotFoundError: [Errno 2] No such file or directory\n",
      "\u001b[1;31m\n",
      "\u001b[1;31mOriginal exception was:\n",
      "\u001b[1;31mTraceback (most recent call last):\n",
      "\u001b[1;31m  File \"/usr/lib/python3.10/runpy.py\", line 196, in _run_module_as_main\n",
      "\u001b[1;31m    return _run_code(code, main_globals, None,\n",
      "\u001b[1;31m  File \"/usr/lib/python3.10/runpy.py\", line 86, in _run_code\n",
      "\u001b[1;31m    exec(code, run_globals)\n",
      "\u001b[1;31m  File \"/usr/lib/python3/dist-packages/pip/__main__.py\", line 9, in <module>\n",
      "\u001b[1;31m    if sys.path[0] in (\"\", os.getcwd()):\n",
      "\u001b[1;31mFileNotFoundError: [Errno 2] No such file or directory. \n",
      "\u001b[1;31mView Jupyter <a href='command:jupyter.viewOutput'>log</a> for further details."
     ]
    }
   ],
   "source": [
    "all_trained"
   ]
  },
  {
   "cell_type": "code",
   "execution_count": null,
   "metadata": {},
   "outputs": [
    {
     "ename": "",
     "evalue": "",
     "output_type": "error",
     "traceback": [
      "\u001b[1;31mFailed to start the Kernel. \n",
      "\u001b[1;31mreturn _run_code(code, main_globals, None,\n",
      "\u001b[1;31m  File \"/usr/lib/python3.10/runpy.py\", line 86, in _run_code\n",
      "\u001b[1;31m    exec(code, run_globals)\n",
      "\u001b[1;31m  File \"/usr/lib/python3/dist-packages/pip/__main__.py\", line 9, in <module>\n",
      "\u001b[1;31m    if sys.path[0] in (\"\", os.getcwd()):\n",
      "\u001b[1;31mFileNotFoundError: [Errno 2] No such file or directory\n",
      "\u001b[1;31mError in sys.excepthook:\n",
      "\u001b[1;31mTraceback (most recent call last):\n",
      "\u001b[1;31m  File \"/usr/lib/python3/dist-packages/apport_python_hook.py\", line 76, in apport_excepthook\n",
      "\u001b[1;31m    binary = os.path.realpath(os.path.join(os.getcwd(), sys.argv[0]))\n",
      "\u001b[1;31mFileNotFoundError: [Errno 2] No such file or directory\n",
      "\u001b[1;31m\n",
      "\u001b[1;31mOriginal exception was:\n",
      "\u001b[1;31mTraceback (most recent call last):\n",
      "\u001b[1;31m  File \"/usr/lib/python3.10/runpy.py\", line 196, in _run_module_as_main\n",
      "\u001b[1;31m    return _run_code(code, main_globals, None,\n",
      "\u001b[1;31m  File \"/usr/lib/python3.10/runpy.py\", line 86, in _run_code\n",
      "\u001b[1;31m    exec(code, run_globals)\n",
      "\u001b[1;31m  File \"/usr/lib/python3/dist-packages/pip/__main__.py\", line 9, in <module>\n",
      "\u001b[1;31m    if sys.path[0] in (\"\", os.getcwd()):\n",
      "\u001b[1;31mFileNotFoundError: [Errno 2] No such file or directory. \n",
      "\u001b[1;31mView Jupyter <a href='command:jupyter.viewOutput'>log</a> for further details."
     ]
    }
   ],
   "source": [
    "fOne = []\n",
    "acc = []\n",
    "rec = []\n",
    "prec = []\n",
    "\n",
    "for i in all_trained:\n",
    "  fOne.append(all_trained[i]['minmax']['F1'])\n",
    "  acc.append(all_trained[i]['minmax']['ACC'])\n",
    "  rec.append(all_trained[i]['minmax']['REC'])\n",
    "  prec.append(all_trained[i]['minmax']['PREC'])"
   ]
  },
  {
   "cell_type": "code",
   "execution_count": null,
   "metadata": {},
   "outputs": [
    {
     "ename": "",
     "evalue": "",
     "output_type": "error",
     "traceback": [
      "\u001b[1;31mFailed to start the Kernel. \n",
      "\u001b[1;31mreturn _run_code(code, main_globals, None,\n",
      "\u001b[1;31m  File \"/usr/lib/python3.10/runpy.py\", line 86, in _run_code\n",
      "\u001b[1;31m    exec(code, run_globals)\n",
      "\u001b[1;31m  File \"/usr/lib/python3/dist-packages/pip/__main__.py\", line 9, in <module>\n",
      "\u001b[1;31m    if sys.path[0] in (\"\", os.getcwd()):\n",
      "\u001b[1;31mFileNotFoundError: [Errno 2] No such file or directory\n",
      "\u001b[1;31mError in sys.excepthook:\n",
      "\u001b[1;31mTraceback (most recent call last):\n",
      "\u001b[1;31m  File \"/usr/lib/python3/dist-packages/apport_python_hook.py\", line 76, in apport_excepthook\n",
      "\u001b[1;31m    binary = os.path.realpath(os.path.join(os.getcwd(), sys.argv[0]))\n",
      "\u001b[1;31mFileNotFoundError: [Errno 2] No such file or directory\n",
      "\u001b[1;31m\n",
      "\u001b[1;31mOriginal exception was:\n",
      "\u001b[1;31mTraceback (most recent call last):\n",
      "\u001b[1;31m  File \"/usr/lib/python3.10/runpy.py\", line 196, in _run_module_as_main\n",
      "\u001b[1;31m    return _run_code(code, main_globals, None,\n",
      "\u001b[1;31m  File \"/usr/lib/python3.10/runpy.py\", line 86, in _run_code\n",
      "\u001b[1;31m    exec(code, run_globals)\n",
      "\u001b[1;31m  File \"/usr/lib/python3/dist-packages/pip/__main__.py\", line 9, in <module>\n",
      "\u001b[1;31m    if sys.path[0] in (\"\", os.getcwd()):\n",
      "\u001b[1;31mFileNotFoundError: [Errno 2] No such file or directory. \n",
      "\u001b[1;31mView Jupyter <a href='command:jupyter.viewOutput'>log</a> for further details."
     ]
    }
   ],
   "source": [
    "modelNames = ['K-Nearest Neightbors', 'Random Forest', 'HGBoost']"
   ]
  },
  {
   "cell_type": "code",
   "execution_count": null,
   "metadata": {},
   "outputs": [
    {
     "ename": "",
     "evalue": "",
     "output_type": "error",
     "traceback": [
      "\u001b[1;31mFailed to start the Kernel. \n",
      "\u001b[1;31mreturn _run_code(code, main_globals, None,\n",
      "\u001b[1;31m  File \"/usr/lib/python3.10/runpy.py\", line 86, in _run_code\n",
      "\u001b[1;31m    exec(code, run_globals)\n",
      "\u001b[1;31m  File \"/usr/lib/python3/dist-packages/pip/__main__.py\", line 9, in <module>\n",
      "\u001b[1;31m    if sys.path[0] in (\"\", os.getcwd()):\n",
      "\u001b[1;31mFileNotFoundError: [Errno 2] No such file or directory\n",
      "\u001b[1;31mError in sys.excepthook:\n",
      "\u001b[1;31mTraceback (most recent call last):\n",
      "\u001b[1;31m  File \"/usr/lib/python3/dist-packages/apport_python_hook.py\", line 76, in apport_excepthook\n",
      "\u001b[1;31m    binary = os.path.realpath(os.path.join(os.getcwd(), sys.argv[0]))\n",
      "\u001b[1;31mFileNotFoundError: [Errno 2] No such file or directory\n",
      "\u001b[1;31m\n",
      "\u001b[1;31mOriginal exception was:\n",
      "\u001b[1;31mTraceback (most recent call last):\n",
      "\u001b[1;31m  File \"/usr/lib/python3.10/runpy.py\", line 196, in _run_module_as_main\n",
      "\u001b[1;31m    return _run_code(code, main_globals, None,\n",
      "\u001b[1;31m  File \"/usr/lib/python3.10/runpy.py\", line 86, in _run_code\n",
      "\u001b[1;31m    exec(code, run_globals)\n",
      "\u001b[1;31m  File \"/usr/lib/python3/dist-packages/pip/__main__.py\", line 9, in <module>\n",
      "\u001b[1;31m    if sys.path[0] in (\"\", os.getcwd()):\n",
      "\u001b[1;31mFileNotFoundError: [Errno 2] No such file or directory. \n",
      "\u001b[1;31mView Jupyter <a href='command:jupyter.viewOutput'>log</a> for further details."
     ]
    }
   ],
   "source": [
    "th = list(range(1, 4))\n",
    "fig, ax = pyplot.subplots(figsize=(15, 7))\n",
    "ax.plot(modelNames, acc, label='Acuracy')\n",
    "ax.plot(modelNames, fOne, label='F1 Score')\n",
    "ax.plot(modelNames, rec, label='Recall')\n",
    "ax.plot(modelNames, prec, label='Precision')\n",
    "ax.set_xlabel('Models')\n",
    "ax.set_ylabel('Percentage %')\n",
    "ax.set_title(\"Metrics for Models\")\n",
    "ax.legend()"
   ]
  },
  {
   "cell_type": "code",
   "execution_count": null,
   "metadata": {
    "collapsed": false
   },
   "outputs": [
    {
     "ename": "",
     "evalue": "",
     "output_type": "error",
     "traceback": [
      "\u001b[1;31mFailed to start the Kernel. \n",
      "\u001b[1;31mreturn _run_code(code, main_globals, None,\n",
      "\u001b[1;31m  File \"/usr/lib/python3.10/runpy.py\", line 86, in _run_code\n",
      "\u001b[1;31m    exec(code, run_globals)\n",
      "\u001b[1;31m  File \"/usr/lib/python3/dist-packages/pip/__main__.py\", line 9, in <module>\n",
      "\u001b[1;31m    if sys.path[0] in (\"\", os.getcwd()):\n",
      "\u001b[1;31mFileNotFoundError: [Errno 2] No such file or directory\n",
      "\u001b[1;31mError in sys.excepthook:\n",
      "\u001b[1;31mTraceback (most recent call last):\n",
      "\u001b[1;31m  File \"/usr/lib/python3/dist-packages/apport_python_hook.py\", line 76, in apport_excepthook\n",
      "\u001b[1;31m    binary = os.path.realpath(os.path.join(os.getcwd(), sys.argv[0]))\n",
      "\u001b[1;31mFileNotFoundError: [Errno 2] No such file or directory\n",
      "\u001b[1;31m\n",
      "\u001b[1;31mOriginal exception was:\n",
      "\u001b[1;31mTraceback (most recent call last):\n",
      "\u001b[1;31m  File \"/usr/lib/python3.10/runpy.py\", line 196, in _run_module_as_main\n",
      "\u001b[1;31m    return _run_code(code, main_globals, None,\n",
      "\u001b[1;31m  File \"/usr/lib/python3.10/runpy.py\", line 86, in _run_code\n",
      "\u001b[1;31m    exec(code, run_globals)\n",
      "\u001b[1;31m  File \"/usr/lib/python3/dist-packages/pip/__main__.py\", line 9, in <module>\n",
      "\u001b[1;31m    if sys.path[0] in (\"\", os.getcwd()):\n",
      "\u001b[1;31mFileNotFoundError: [Errno 2] No such file or directory. \n",
      "\u001b[1;31mView Jupyter <a href='command:jupyter.viewOutput'>log</a> for further details."
     ]
    }
   ],
   "source": [
    "best_model = all_trained[\"hgb\"]"
   ]
  },
  {
   "cell_type": "code",
   "execution_count": null,
   "metadata": {},
   "outputs": [
    {
     "ename": "",
     "evalue": "",
     "output_type": "error",
     "traceback": [
      "\u001b[1;31mFailed to start the Kernel. \n",
      "\u001b[1;31mreturn _run_code(code, main_globals, None,\n",
      "\u001b[1;31m  File \"/usr/lib/python3.10/runpy.py\", line 86, in _run_code\n",
      "\u001b[1;31m    exec(code, run_globals)\n",
      "\u001b[1;31m  File \"/usr/lib/python3/dist-packages/pip/__main__.py\", line 9, in <module>\n",
      "\u001b[1;31m    if sys.path[0] in (\"\", os.getcwd()):\n",
      "\u001b[1;31mFileNotFoundError: [Errno 2] No such file or directory\n",
      "\u001b[1;31mError in sys.excepthook:\n",
      "\u001b[1;31mTraceback (most recent call last):\n",
      "\u001b[1;31m  File \"/usr/lib/python3/dist-packages/apport_python_hook.py\", line 76, in apport_excepthook\n",
      "\u001b[1;31m    binary = os.path.realpath(os.path.join(os.getcwd(), sys.argv[0]))\n",
      "\u001b[1;31mFileNotFoundError: [Errno 2] No such file or directory\n",
      "\u001b[1;31m\n",
      "\u001b[1;31mOriginal exception was:\n",
      "\u001b[1;31mTraceback (most recent call last):\n",
      "\u001b[1;31m  File \"/usr/lib/python3.10/runpy.py\", line 196, in _run_module_as_main\n",
      "\u001b[1;31m    return _run_code(code, main_globals, None,\n",
      "\u001b[1;31m  File \"/usr/lib/python3.10/runpy.py\", line 86, in _run_code\n",
      "\u001b[1;31m    exec(code, run_globals)\n",
      "\u001b[1;31m  File \"/usr/lib/python3/dist-packages/pip/__main__.py\", line 9, in <module>\n",
      "\u001b[1;31m    if sys.path[0] in (\"\", os.getcwd()):\n",
      "\u001b[1;31mFileNotFoundError: [Errno 2] No such file or directory. \n",
      "\u001b[1;31mView Jupyter <a href='command:jupyter.viewOutput'>log</a> for further details."
     ]
    }
   ],
   "source": [
    "fig, ax = pyplot.subplots(figsize=(15, 7))\n",
    "values = [best_model['REC'], best_model['PREC'], best_model['F1'], best_model['ACC'], best_model['AUC']]\n",
    "xlocs = [0.2, 1.2, 2.2, 3.2, 4.2]\n",
    "colors = ['#DCC48E','#EAEFD3', '#B3C0A4', '#505168', '#27233A']\n",
    "categories = ['Recall', 'Precision', 'F1 Score', 'Acuracy']\n",
    "ax.bar(categories, values, color = colors);\n",
    "ax.set_title(\"Metrics Best Model - HGBoost\", fontsize=20)\n",
    "ax.set_ylabel('Percentage %')\n",
    "ax.set_xlabel('Metrics')\n",
    "for i, v in enumerate(values):\n",
    "    pyplot.text(xlocs[i] - 0.25, v + 0.01, str(round(v, 2)))"
   ]
  }
 ],
 "metadata": {
  "kernelspec": {
   "display_name": "Python 3",
   "language": "python",
   "name": "python3"
  },
  "language_info": {
   "codemirror_mode": {
    "name": "ipython",
    "version": 2
   },
   "file_extension": ".py",
   "mimetype": "text/x-python",
   "name": "python",
   "nbconvert_exporter": "python",
   "pygments_lexer": "ipython2",
   "version": "2.7.6"
  }
 },
 "nbformat": 4,
 "nbformat_minor": 0
}
