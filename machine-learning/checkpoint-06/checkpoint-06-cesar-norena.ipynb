{
 "cells": [
  {
   "cell_type": "markdown",
   "metadata": {
    "id": "ivr8kGTC7E7G"
   },
   "source": [
    "FIAP \n",
    "\n",
    "# Checkpoint 06\n",
    "\n",
    "Faça o exercício abaixo <font color=\"red\">em grupos de até 4 pessoas</font>, para praticar o uso de `sistemas de recomendação`. Utilize os conceitos vistos em aula, e consulte documentações na internet. Em caso de dúvidas, contate o Prof. Michel.\n",
    "\n",
    "**Entrega**: 28/outubro/2022, via Teams - IMPORTANTE: renomeie o notebook incluindo seu nome! \n",
    "\n",
    "\n",
    "## Apresentação do trabalho\n",
    "\n",
    "Neste checkpoint vamos criar um `sistema de recomendação`. Um sistema de recomendação raramente é constituído por apenas uma forma de atribuir produtos aos usuários, mas uma combinação de estratégias distintas para permitir maior alcance de usuários impactados, mais itens sendo explorados e também gerar diversidade nas recomendações. \n",
    "\n",
    "As principais estratégias são: \n",
    "\n",
    "- Regras de associação\n",
    "- Filtragem colaborativa\n",
    "- Filtragem por conteúdo\n",
    "- Popularidade\n",
    "- Jornada do usuário e outras relativas ao problema de negócio\n",
    "\n",
    "<font color=\"CC0099\">Seu desafio neste trabalho é responder a seguinte questão: _Dado um usuário, quais itens posso recomendar?_</font>. Espero que vocês implementem **2 estratégias distintas** para as recomendações. Podem usar aquelas da lista acima ou outras que acharem pertinente (criatividade!).\n",
    "\n",
    "**Dataset**: vamos usar o dataset de [Recomendações de Filmes](https://www.kaggle.com/rounakbanik/the-movies-dataset). Existem diversos no Kaggle, mas este possui uma volumetria e features interessantes!\n",
    "\n",
    "Vejam a descrição dos dados abaixo. Vocês não são obrigados a usarem todas as informações! Sejam criativos! Mais informações podem ser encontradas no Kaggle:\n",
    "\n",
    "- `movies_metadata.csv`: The main Movies Metadata file. Contains information on 45,000 movies featured in the Full MovieLens dataset. Features include posters, backdrops, budget, revenue, release dates, languages, production countries and companies.\n",
    "\n",
    "- `keywords.csv`: Contains the movie plot keywords for our MovieLens movies. Available in the form of a stringified JSON Object.\n",
    "\n",
    "- `credits.csv`: Consists of Cast and Crew Information for all our movies. Available in the form of a stringified JSON Object.\n",
    "\n",
    "- `links.csv`: The file that contains the TMDB and IMDB IDs of all the movies featured in the Full MovieLens dataset.\n",
    "\n",
    "- `links_small.csv`: Contains the TMDB and IMDB IDs of a small subset of 9,000 movies of the Full Dataset.\n",
    "\n",
    "- `ratings_small.csv`: The subset of 100,000 ratings from 700 users on 9,000 movies.\n",
    "\n",
    "**Critérios de avaliação**: A correção do checkpoint será feita mediante os seguintes critérios:\n",
    "- completude do projeto\n",
    "- emprego adequado dos conceitos vistos em sala\n",
    "- criatividade para compor recomendações diversificadas \n"
   ]
  },
  {
   "cell_type": "markdown",
   "source": [
    "# Participantes do grupo\n",
    "\n",
    "- Cesar Norena Pachon - RM95093\n",
    "- Eduardo Matos da Silva - RM92877\n",
    "- Matias Cornelsen Herklotz - RM94199\n",
    "- Icaro Figaro Araujo - RM93571"
   ],
   "metadata": {
    "collapsed": false
   }
  },
  {
   "cell_type": "code",
   "execution_count": 1176,
   "outputs": [],
   "source": [
    "import json\n",
    "\n",
    "import pandas\n",
    "from apyori import apriori"
   ],
   "metadata": {
    "collapsed": false
   }
  },
  {
   "cell_type": "code",
   "execution_count": 1177,
   "outputs": [
    {
     "name": "stdout",
     "output_type": "stream",
     "text": [
      "<class 'pandas.core.frame.DataFrame'>\n",
      "RangeIndex: 45466 entries, 0 to 45465\n",
      "Data columns (total 24 columns):\n",
      " #   Column                 Non-Null Count  Dtype  \n",
      "---  ------                 --------------  -----  \n",
      " 0   adult                  45466 non-null  object \n",
      " 1   belongs_to_collection  4494 non-null   object \n",
      " 2   budget                 45466 non-null  object \n",
      " 3   genres                 45466 non-null  object \n",
      " 4   homepage               7782 non-null   object \n",
      " 5   id                     45466 non-null  object \n",
      " 6   imdb_id                45449 non-null  object \n",
      " 7   original_language      45455 non-null  object \n",
      " 8   original_title         45466 non-null  object \n",
      " 9   overview               44512 non-null  object \n",
      " 10  popularity             45461 non-null  object \n",
      " 11  poster_path            45080 non-null  object \n",
      " 12  production_companies   45463 non-null  object \n",
      " 13  production_countries   45463 non-null  object \n",
      " 14  release_date           45379 non-null  object \n",
      " 15  revenue                45460 non-null  float64\n",
      " 16  runtime                45203 non-null  float64\n",
      " 17  spoken_languages       45460 non-null  object \n",
      " 18  status                 45379 non-null  object \n",
      " 19  tagline                20412 non-null  object \n",
      " 20  title                  45460 non-null  object \n",
      " 21  video                  45460 non-null  object \n",
      " 22  vote_average           45460 non-null  float64\n",
      " 23  vote_count             45460 non-null  float64\n",
      "dtypes: float64(4), object(20)\n",
      "memory usage: 8.3+ MB\n"
     ]
    },
    {
     "name": "stderr",
     "output_type": "stream",
     "text": [
      "/var/folders/5x/yzshlnrx1kn6kmfp8bz1pvd80000gn/T/ipykernel_24067/1215038427.py:1: DtypeWarning: Columns (10) have mixed types. Specify dtype option on import or set low_memory=False.\n",
      "  movies = pandas.read_csv(\"datasets/movies_metadata.csv\")\n"
     ]
    }
   ],
   "source": [
    "movies = pandas.read_csv(\"datasets/movies_metadata.csv\")\n",
    "movies.info()"
   ],
   "metadata": {
    "collapsed": false
   }
  },
  {
   "cell_type": "code",
   "execution_count": 1178,
   "outputs": [
    {
     "data": {
      "text/plain": "       adult                              belongs_to_collection    budget  \\\n8325   False                                                NaN         0   \n14873  False                                                NaN  25000000   \n42126  False                                                NaN         0   \n30764  False                                                NaN         0   \n432    False                                                NaN         0   \n29104  False                                                NaN         0   \n39391  False                                                NaN        75   \n5811   False                                                NaN         0   \n30305  False                                                NaN   3600000   \n7127   False  {'id': 201930, 'name': 'Blacula Collection', '...    500000   \n\n                                                  genres  \\\n8325   [{'id': 18, 'name': 'Drama'}, {'id': 28, 'name...   \n14873  [{'id': 18, 'name': 'Drama'}, {'id': 10749, 'n...   \n42126  [{'id': 18, 'name': 'Drama'}, {'id': 53, 'name...   \n30764                    [{'id': 37, 'name': 'Western'}]   \n432    [{'id': 28, 'name': 'Action'}, {'id': 35, 'nam...   \n29104  [{'id': 28, 'name': 'Action'}, {'id': 35, 'nam...   \n39391                [{'id': 99, 'name': 'Documentary'}]   \n5811   [{'id': 28, 'name': 'Action'}, {'id': 35, 'nam...   \n30305  [{'id': 35, 'name': 'Comedy'}, {'id': 27, 'nam...   \n7127   [{'id': 27, 'name': 'Horror'}, {'id': 53, 'nam...   \n\n                                    homepage      id    imdb_id  \\\n8325                                     NaN   27899  tt0021079   \n14873                                    NaN   22971  tt0989757   \n42126                                    NaN   92940  tt0107810   \n30764                                    NaN   61594  tt0068657   \n432                                      NaN   26261  tt0109480   \n29104                                    NaN   53435  tt0079520   \n39391        http://www.pondhockeymovie.com/  209645  tt1254969   \n5811                                     NaN   10856  tt0220580   \n30305  http://www.paranormalwhacktivity.com/  217787  tt1757831   \n7127                                     NaN   30566  tt0068284   \n\n      original_language                             original_title  \\\n8325                 en                              Little Caesar   \n14873                en                                  Dear John   \n42126                en  Perry Mason: The Case of the Wicked Wives   \n30764                it                           Il grande duello   \n432                  en                          Cops & Robbersons   \n29104                en                  A Man, a Woman and a Bank   \n39391                en                                Pond Hockey   \n5811                 es                                    Intacto   \n30305                en                     Paranormal Whacktivity   \n7127                 en                                    Blacula   \n\n                                                overview  ... release_date  \\\n8325   A small-time hood shoots his way to the top, b...  ...   1931-01-09   \n14873  Sergeant John Tyree is home on a 2 week leave ...  ...   2010-02-04   \n42126  Anthony Caruso, an old friend of Perry Mason, ...  ...   1993-12-17   \n30764  A grizzled ex-sheriff helps a man framed for m...  ...   1972-12-29   \n432    Hard-as-nails cop Jake Stone moves in with the...  ...   1994-04-15   \n29104  Two novice thieves are plotting to rob a bank ...  ...   1979-09-28   \n39391  The pond. This is where hockey was born-under ...  ...   2008-08-12   \n5811   An enigmatic tale of four people whose lives a...  ...   2001-11-06   \n30305  A sexy and hilarious spoof about a couple who ...  ...   2013-07-24   \n7127   An 18th century African prince is turned into ...  ...   1972-08-25   \n\n           revenue runtime                                   spoken_languages  \\\n8325           0.0    79.0           [{'iso_639_1': 'en', 'name': 'English'}]   \n14873  114977104.0   115.0           [{'iso_639_1': 'en', 'name': 'English'}]   \n42126          0.0    96.0           [{'iso_639_1': 'en', 'name': 'English'}]   \n30764          0.0    98.0  [{'iso_639_1': 'en', 'name': 'English'}, {'iso...   \n432            0.0    93.0  [{'iso_639_1': 'en', 'name': 'English'}, {'iso...   \n29104          0.0   100.0           [{'iso_639_1': 'en', 'name': 'English'}]   \n39391          0.0    82.0           [{'iso_639_1': 'en', 'name': 'English'}]   \n5811           0.0   108.0  [{'iso_639_1': 'en', 'name': 'English'}, {'iso...   \n30305          0.0    89.0                                                 []   \n7127           0.0    93.0           [{'iso_639_1': 'en', 'name': 'English'}]   \n\n         status                                            tagline  \\\n8325   Released          The Power-Mad Monarch of the Murder Mobs!   \n14873  Released  Love brought them together. Will fate tear the...   \n42126  Released                                                NaN   \n30764  Released  A one man Judge, Jury and Executioner who turn...   \n432    Released                                                NaN   \n29104  Released  The two least likely bank robbers in the known...   \n39391  Released  The pond. This is where hockey was born-under ...   \n5811   Released     Some are born with luck. Others gamble for it.   \n30305  Released                                                NaN   \n7127   Released                 Blacula! - Dracula's Soul Brother!   \n\n                                           title  video vote_average  \\\n8325                               Little Caesar  False          6.9   \n14873                                  Dear John  False          6.6   \n42126  Perry Mason: The Case of the Wicked Wives  False          7.0   \n30764                             The Grand Duel  False          5.8   \n432                            Cops & Robbersons  False          5.0   \n29104                  A Man, a Woman and a Bank  False          6.3   \n39391                                Pond Hockey  False          0.0   \n5811                                     Intacto  False          6.7   \n30305                     Paranormal Whacktivity  False          3.3   \n7127                                     Blacula  False          5.7   \n\n      vote_count  \n8325        63.0  \n14873     1302.0  \n42126        1.0  \n30764       22.0  \n432         36.0  \n29104        4.0  \n39391        0.0  \n5811        48.0  \n30305       16.0  \n7127        41.0  \n\n[10 rows x 24 columns]",
      "text/html": "<div>\n<style scoped>\n    .dataframe tbody tr th:only-of-type {\n        vertical-align: middle;\n    }\n\n    .dataframe tbody tr th {\n        vertical-align: top;\n    }\n\n    .dataframe thead th {\n        text-align: right;\n    }\n</style>\n<table border=\"1\" class=\"dataframe\">\n  <thead>\n    <tr style=\"text-align: right;\">\n      <th></th>\n      <th>adult</th>\n      <th>belongs_to_collection</th>\n      <th>budget</th>\n      <th>genres</th>\n      <th>homepage</th>\n      <th>id</th>\n      <th>imdb_id</th>\n      <th>original_language</th>\n      <th>original_title</th>\n      <th>overview</th>\n      <th>...</th>\n      <th>release_date</th>\n      <th>revenue</th>\n      <th>runtime</th>\n      <th>spoken_languages</th>\n      <th>status</th>\n      <th>tagline</th>\n      <th>title</th>\n      <th>video</th>\n      <th>vote_average</th>\n      <th>vote_count</th>\n    </tr>\n  </thead>\n  <tbody>\n    <tr>\n      <th>8325</th>\n      <td>False</td>\n      <td>NaN</td>\n      <td>0</td>\n      <td>[{'id': 18, 'name': 'Drama'}, {'id': 28, 'name...</td>\n      <td>NaN</td>\n      <td>27899</td>\n      <td>tt0021079</td>\n      <td>en</td>\n      <td>Little Caesar</td>\n      <td>A small-time hood shoots his way to the top, b...</td>\n      <td>...</td>\n      <td>1931-01-09</td>\n      <td>0.0</td>\n      <td>79.0</td>\n      <td>[{'iso_639_1': 'en', 'name': 'English'}]</td>\n      <td>Released</td>\n      <td>The Power-Mad Monarch of the Murder Mobs!</td>\n      <td>Little Caesar</td>\n      <td>False</td>\n      <td>6.9</td>\n      <td>63.0</td>\n    </tr>\n    <tr>\n      <th>14873</th>\n      <td>False</td>\n      <td>NaN</td>\n      <td>25000000</td>\n      <td>[{'id': 18, 'name': 'Drama'}, {'id': 10749, 'n...</td>\n      <td>NaN</td>\n      <td>22971</td>\n      <td>tt0989757</td>\n      <td>en</td>\n      <td>Dear John</td>\n      <td>Sergeant John Tyree is home on a 2 week leave ...</td>\n      <td>...</td>\n      <td>2010-02-04</td>\n      <td>114977104.0</td>\n      <td>115.0</td>\n      <td>[{'iso_639_1': 'en', 'name': 'English'}]</td>\n      <td>Released</td>\n      <td>Love brought them together. Will fate tear the...</td>\n      <td>Dear John</td>\n      <td>False</td>\n      <td>6.6</td>\n      <td>1302.0</td>\n    </tr>\n    <tr>\n      <th>42126</th>\n      <td>False</td>\n      <td>NaN</td>\n      <td>0</td>\n      <td>[{'id': 18, 'name': 'Drama'}, {'id': 53, 'name...</td>\n      <td>NaN</td>\n      <td>92940</td>\n      <td>tt0107810</td>\n      <td>en</td>\n      <td>Perry Mason: The Case of the Wicked Wives</td>\n      <td>Anthony Caruso, an old friend of Perry Mason, ...</td>\n      <td>...</td>\n      <td>1993-12-17</td>\n      <td>0.0</td>\n      <td>96.0</td>\n      <td>[{'iso_639_1': 'en', 'name': 'English'}]</td>\n      <td>Released</td>\n      <td>NaN</td>\n      <td>Perry Mason: The Case of the Wicked Wives</td>\n      <td>False</td>\n      <td>7.0</td>\n      <td>1.0</td>\n    </tr>\n    <tr>\n      <th>30764</th>\n      <td>False</td>\n      <td>NaN</td>\n      <td>0</td>\n      <td>[{'id': 37, 'name': 'Western'}]</td>\n      <td>NaN</td>\n      <td>61594</td>\n      <td>tt0068657</td>\n      <td>it</td>\n      <td>Il grande duello</td>\n      <td>A grizzled ex-sheriff helps a man framed for m...</td>\n      <td>...</td>\n      <td>1972-12-29</td>\n      <td>0.0</td>\n      <td>98.0</td>\n      <td>[{'iso_639_1': 'en', 'name': 'English'}, {'iso...</td>\n      <td>Released</td>\n      <td>A one man Judge, Jury and Executioner who turn...</td>\n      <td>The Grand Duel</td>\n      <td>False</td>\n      <td>5.8</td>\n      <td>22.0</td>\n    </tr>\n    <tr>\n      <th>432</th>\n      <td>False</td>\n      <td>NaN</td>\n      <td>0</td>\n      <td>[{'id': 28, 'name': 'Action'}, {'id': 35, 'nam...</td>\n      <td>NaN</td>\n      <td>26261</td>\n      <td>tt0109480</td>\n      <td>en</td>\n      <td>Cops &amp; Robbersons</td>\n      <td>Hard-as-nails cop Jake Stone moves in with the...</td>\n      <td>...</td>\n      <td>1994-04-15</td>\n      <td>0.0</td>\n      <td>93.0</td>\n      <td>[{'iso_639_1': 'en', 'name': 'English'}, {'iso...</td>\n      <td>Released</td>\n      <td>NaN</td>\n      <td>Cops &amp; Robbersons</td>\n      <td>False</td>\n      <td>5.0</td>\n      <td>36.0</td>\n    </tr>\n    <tr>\n      <th>29104</th>\n      <td>False</td>\n      <td>NaN</td>\n      <td>0</td>\n      <td>[{'id': 28, 'name': 'Action'}, {'id': 35, 'nam...</td>\n      <td>NaN</td>\n      <td>53435</td>\n      <td>tt0079520</td>\n      <td>en</td>\n      <td>A Man, a Woman and a Bank</td>\n      <td>Two novice thieves are plotting to rob a bank ...</td>\n      <td>...</td>\n      <td>1979-09-28</td>\n      <td>0.0</td>\n      <td>100.0</td>\n      <td>[{'iso_639_1': 'en', 'name': 'English'}]</td>\n      <td>Released</td>\n      <td>The two least likely bank robbers in the known...</td>\n      <td>A Man, a Woman and a Bank</td>\n      <td>False</td>\n      <td>6.3</td>\n      <td>4.0</td>\n    </tr>\n    <tr>\n      <th>39391</th>\n      <td>False</td>\n      <td>NaN</td>\n      <td>75</td>\n      <td>[{'id': 99, 'name': 'Documentary'}]</td>\n      <td>http://www.pondhockeymovie.com/</td>\n      <td>209645</td>\n      <td>tt1254969</td>\n      <td>en</td>\n      <td>Pond Hockey</td>\n      <td>The pond. This is where hockey was born-under ...</td>\n      <td>...</td>\n      <td>2008-08-12</td>\n      <td>0.0</td>\n      <td>82.0</td>\n      <td>[{'iso_639_1': 'en', 'name': 'English'}]</td>\n      <td>Released</td>\n      <td>The pond. This is where hockey was born-under ...</td>\n      <td>Pond Hockey</td>\n      <td>False</td>\n      <td>0.0</td>\n      <td>0.0</td>\n    </tr>\n    <tr>\n      <th>5811</th>\n      <td>False</td>\n      <td>NaN</td>\n      <td>0</td>\n      <td>[{'id': 28, 'name': 'Action'}, {'id': 35, 'nam...</td>\n      <td>NaN</td>\n      <td>10856</td>\n      <td>tt0220580</td>\n      <td>es</td>\n      <td>Intacto</td>\n      <td>An enigmatic tale of four people whose lives a...</td>\n      <td>...</td>\n      <td>2001-11-06</td>\n      <td>0.0</td>\n      <td>108.0</td>\n      <td>[{'iso_639_1': 'en', 'name': 'English'}, {'iso...</td>\n      <td>Released</td>\n      <td>Some are born with luck. Others gamble for it.</td>\n      <td>Intacto</td>\n      <td>False</td>\n      <td>6.7</td>\n      <td>48.0</td>\n    </tr>\n    <tr>\n      <th>30305</th>\n      <td>False</td>\n      <td>NaN</td>\n      <td>3600000</td>\n      <td>[{'id': 35, 'name': 'Comedy'}, {'id': 27, 'nam...</td>\n      <td>http://www.paranormalwhacktivity.com/</td>\n      <td>217787</td>\n      <td>tt1757831</td>\n      <td>en</td>\n      <td>Paranormal Whacktivity</td>\n      <td>A sexy and hilarious spoof about a couple who ...</td>\n      <td>...</td>\n      <td>2013-07-24</td>\n      <td>0.0</td>\n      <td>89.0</td>\n      <td>[]</td>\n      <td>Released</td>\n      <td>NaN</td>\n      <td>Paranormal Whacktivity</td>\n      <td>False</td>\n      <td>3.3</td>\n      <td>16.0</td>\n    </tr>\n    <tr>\n      <th>7127</th>\n      <td>False</td>\n      <td>{'id': 201930, 'name': 'Blacula Collection', '...</td>\n      <td>500000</td>\n      <td>[{'id': 27, 'name': 'Horror'}, {'id': 53, 'nam...</td>\n      <td>NaN</td>\n      <td>30566</td>\n      <td>tt0068284</td>\n      <td>en</td>\n      <td>Blacula</td>\n      <td>An 18th century African prince is turned into ...</td>\n      <td>...</td>\n      <td>1972-08-25</td>\n      <td>0.0</td>\n      <td>93.0</td>\n      <td>[{'iso_639_1': 'en', 'name': 'English'}]</td>\n      <td>Released</td>\n      <td>Blacula! - Dracula's Soul Brother!</td>\n      <td>Blacula</td>\n      <td>False</td>\n      <td>5.7</td>\n      <td>41.0</td>\n    </tr>\n  </tbody>\n</table>\n<p>10 rows × 24 columns</p>\n</div>"
     },
     "execution_count": 1178,
     "metadata": {},
     "output_type": "execute_result"
    }
   ],
   "source": [
    "movies.sample(10)"
   ],
   "metadata": {
    "collapsed": false
   }
  },
  {
   "cell_type": "code",
   "execution_count": 1179,
   "outputs": [],
   "source": [
    "# Fix number columns\n",
    "\n",
    "def to_numeric(dataset, column, errors=\"coerce\"):\n",
    "    dataset[column] = pandas.to_numeric(dataset[column], errors)\n",
    "\n",
    "\n",
    "to_numeric(movies, \"popularity\")\n",
    "to_numeric(movies, \"budget\")"
   ],
   "metadata": {
    "collapsed": false
   }
  },
  {
   "cell_type": "code",
   "execution_count": 1180,
   "outputs": [
    {
     "data": {
      "text/plain": "             budget    popularity       revenue       runtime  vote_average  \\\ncount  4.546300e+04  45460.000000  4.546000e+04  45203.000000  45460.000000   \nmean   4.224579e+06      2.921478  1.120935e+07     94.128199      5.618207   \nstd    1.742413e+07      6.005414  6.433225e+07     38.407810      1.924216   \nmin    0.000000e+00      0.000000  0.000000e+00      0.000000      0.000000   \n25%    0.000000e+00      0.385948  0.000000e+00     85.000000      5.000000   \n50%    0.000000e+00      1.127685  0.000000e+00     95.000000      6.000000   \n75%    0.000000e+00      3.678902  0.000000e+00    107.000000      6.800000   \nmax    3.800000e+08    547.488298  2.787965e+09   1256.000000     10.000000   \n\n         vote_count  \ncount  45460.000000  \nmean     109.897338  \nstd      491.310374  \nmin        0.000000  \n25%        3.000000  \n50%       10.000000  \n75%       34.000000  \nmax    14075.000000  ",
      "text/html": "<div>\n<style scoped>\n    .dataframe tbody tr th:only-of-type {\n        vertical-align: middle;\n    }\n\n    .dataframe tbody tr th {\n        vertical-align: top;\n    }\n\n    .dataframe thead th {\n        text-align: right;\n    }\n</style>\n<table border=\"1\" class=\"dataframe\">\n  <thead>\n    <tr style=\"text-align: right;\">\n      <th></th>\n      <th>budget</th>\n      <th>popularity</th>\n      <th>revenue</th>\n      <th>runtime</th>\n      <th>vote_average</th>\n      <th>vote_count</th>\n    </tr>\n  </thead>\n  <tbody>\n    <tr>\n      <th>count</th>\n      <td>4.546300e+04</td>\n      <td>45460.000000</td>\n      <td>4.546000e+04</td>\n      <td>45203.000000</td>\n      <td>45460.000000</td>\n      <td>45460.000000</td>\n    </tr>\n    <tr>\n      <th>mean</th>\n      <td>4.224579e+06</td>\n      <td>2.921478</td>\n      <td>1.120935e+07</td>\n      <td>94.128199</td>\n      <td>5.618207</td>\n      <td>109.897338</td>\n    </tr>\n    <tr>\n      <th>std</th>\n      <td>1.742413e+07</td>\n      <td>6.005414</td>\n      <td>6.433225e+07</td>\n      <td>38.407810</td>\n      <td>1.924216</td>\n      <td>491.310374</td>\n    </tr>\n    <tr>\n      <th>min</th>\n      <td>0.000000e+00</td>\n      <td>0.000000</td>\n      <td>0.000000e+00</td>\n      <td>0.000000</td>\n      <td>0.000000</td>\n      <td>0.000000</td>\n    </tr>\n    <tr>\n      <th>25%</th>\n      <td>0.000000e+00</td>\n      <td>0.385948</td>\n      <td>0.000000e+00</td>\n      <td>85.000000</td>\n      <td>5.000000</td>\n      <td>3.000000</td>\n    </tr>\n    <tr>\n      <th>50%</th>\n      <td>0.000000e+00</td>\n      <td>1.127685</td>\n      <td>0.000000e+00</td>\n      <td>95.000000</td>\n      <td>6.000000</td>\n      <td>10.000000</td>\n    </tr>\n    <tr>\n      <th>75%</th>\n      <td>0.000000e+00</td>\n      <td>3.678902</td>\n      <td>0.000000e+00</td>\n      <td>107.000000</td>\n      <td>6.800000</td>\n      <td>34.000000</td>\n    </tr>\n    <tr>\n      <th>max</th>\n      <td>3.800000e+08</td>\n      <td>547.488298</td>\n      <td>2.787965e+09</td>\n      <td>1256.000000</td>\n      <td>10.000000</td>\n      <td>14075.000000</td>\n    </tr>\n  </tbody>\n</table>\n</div>"
     },
     "execution_count": 1180,
     "metadata": {},
     "output_type": "execute_result"
    }
   ],
   "source": [
    "movies.describe()"
   ],
   "metadata": {
    "collapsed": false
   }
  },
  {
   "cell_type": "code",
   "execution_count": 1181,
   "outputs": [
    {
     "data": {
      "text/plain": "          id                                   name\n12        28                                 action\n3         12                              adventure\n0         16                              animation\n62872   2883                                aniplex\n62874   7760                              brosta tv\n44572  11176                   carousel productions\n1         35                                 comedy\n13        80                                  crime\n190       99                            documentary\n9         18                                  drama\n2      10751                                 family\n4         14                                fantasy\n138    10769                                foreign\n62873   7759                                gohands\n36        36                                history\n32        27                                 horror\n62875   7761  mardock scramble production committee\n158    10402                                  music\n82      9648                                mystery\n74039  17161                          odyssey media\n74040  18012                     pulser productions\n74041  18013                            rogue state\n6      10749                                romance\n63       878                        science fiction\n62876  33751                       sentai filmworks\n738    10770                               tv movie\n44574  29812       telescene film group productions\n74042  23822                             the cartel\n15        53                               thriller\n44573  11602              vision view entertainment\n105    10752                                    war\n486       37                                western",
      "text/html": "<div>\n<style scoped>\n    .dataframe tbody tr th:only-of-type {\n        vertical-align: middle;\n    }\n\n    .dataframe tbody tr th {\n        vertical-align: top;\n    }\n\n    .dataframe thead th {\n        text-align: right;\n    }\n</style>\n<table border=\"1\" class=\"dataframe\">\n  <thead>\n    <tr style=\"text-align: right;\">\n      <th></th>\n      <th>id</th>\n      <th>name</th>\n    </tr>\n  </thead>\n  <tbody>\n    <tr>\n      <th>12</th>\n      <td>28</td>\n      <td>action</td>\n    </tr>\n    <tr>\n      <th>3</th>\n      <td>12</td>\n      <td>adventure</td>\n    </tr>\n    <tr>\n      <th>0</th>\n      <td>16</td>\n      <td>animation</td>\n    </tr>\n    <tr>\n      <th>62872</th>\n      <td>2883</td>\n      <td>aniplex</td>\n    </tr>\n    <tr>\n      <th>62874</th>\n      <td>7760</td>\n      <td>brosta tv</td>\n    </tr>\n    <tr>\n      <th>44572</th>\n      <td>11176</td>\n      <td>carousel productions</td>\n    </tr>\n    <tr>\n      <th>1</th>\n      <td>35</td>\n      <td>comedy</td>\n    </tr>\n    <tr>\n      <th>13</th>\n      <td>80</td>\n      <td>crime</td>\n    </tr>\n    <tr>\n      <th>190</th>\n      <td>99</td>\n      <td>documentary</td>\n    </tr>\n    <tr>\n      <th>9</th>\n      <td>18</td>\n      <td>drama</td>\n    </tr>\n    <tr>\n      <th>2</th>\n      <td>10751</td>\n      <td>family</td>\n    </tr>\n    <tr>\n      <th>4</th>\n      <td>14</td>\n      <td>fantasy</td>\n    </tr>\n    <tr>\n      <th>138</th>\n      <td>10769</td>\n      <td>foreign</td>\n    </tr>\n    <tr>\n      <th>62873</th>\n      <td>7759</td>\n      <td>gohands</td>\n    </tr>\n    <tr>\n      <th>36</th>\n      <td>36</td>\n      <td>history</td>\n    </tr>\n    <tr>\n      <th>32</th>\n      <td>27</td>\n      <td>horror</td>\n    </tr>\n    <tr>\n      <th>62875</th>\n      <td>7761</td>\n      <td>mardock scramble production committee</td>\n    </tr>\n    <tr>\n      <th>158</th>\n      <td>10402</td>\n      <td>music</td>\n    </tr>\n    <tr>\n      <th>82</th>\n      <td>9648</td>\n      <td>mystery</td>\n    </tr>\n    <tr>\n      <th>74039</th>\n      <td>17161</td>\n      <td>odyssey media</td>\n    </tr>\n    <tr>\n      <th>74040</th>\n      <td>18012</td>\n      <td>pulser productions</td>\n    </tr>\n    <tr>\n      <th>74041</th>\n      <td>18013</td>\n      <td>rogue state</td>\n    </tr>\n    <tr>\n      <th>6</th>\n      <td>10749</td>\n      <td>romance</td>\n    </tr>\n    <tr>\n      <th>63</th>\n      <td>878</td>\n      <td>science fiction</td>\n    </tr>\n    <tr>\n      <th>62876</th>\n      <td>33751</td>\n      <td>sentai filmworks</td>\n    </tr>\n    <tr>\n      <th>738</th>\n      <td>10770</td>\n      <td>tv movie</td>\n    </tr>\n    <tr>\n      <th>44574</th>\n      <td>29812</td>\n      <td>telescene film group productions</td>\n    </tr>\n    <tr>\n      <th>74042</th>\n      <td>23822</td>\n      <td>the cartel</td>\n    </tr>\n    <tr>\n      <th>15</th>\n      <td>53</td>\n      <td>thriller</td>\n    </tr>\n    <tr>\n      <th>44573</th>\n      <td>11602</td>\n      <td>vision view entertainment</td>\n    </tr>\n    <tr>\n      <th>105</th>\n      <td>10752</td>\n      <td>war</td>\n    </tr>\n    <tr>\n      <th>486</th>\n      <td>37</td>\n      <td>western</td>\n    </tr>\n  </tbody>\n</table>\n</div>"
     },
     "execution_count": 1181,
     "metadata": {},
     "output_type": "execute_result"
    }
   ],
   "source": [
    "# Single quotes cause an error when reading as JSON value\n",
    "movies[\"genres\"] = movies[\"genres\"].apply(lambda e: e.replace(\"'\", '\"'))\n",
    "\n",
    "categories = movies[\"genres\"].apply(json.loads).values.tolist()\n",
    "categories = [category for c in categories for category in c]\n",
    "categories = pandas.DataFrame.from_dict(categories).drop_duplicates().sort_values([\"name\"])\n",
    "\n",
    "categories[\"name\"] = categories[\"name\"].str.lower()\n",
    "\n",
    "categories"
   ],
   "metadata": {
    "collapsed": false
   }
  },
  {
   "cell_type": "code",
   "execution_count": 1182,
   "outputs": [
    {
     "name": "stdout",
     "output_type": "stream",
     "text": [
      "<class 'pandas.core.frame.DataFrame'>\n",
      "RangeIndex: 26024289 entries, 0 to 26024288\n",
      "Data columns (total 4 columns):\n",
      " #   Column     Dtype  \n",
      "---  ------     -----  \n",
      " 0   userId     int64  \n",
      " 1   movieId    int64  \n",
      " 2   rating     float64\n",
      " 3   timestamp  int64  \n",
      "dtypes: float64(1), int64(3)\n",
      "memory usage: 794.2 MB\n"
     ]
    }
   ],
   "source": [
    "# ratings = pandas.read_csv(\"datasets/ratings_small.csv\")\n",
    "ratings = pandas.read_csv(\"datasets/ratings.csv\")\n",
    "ratings.info()"
   ],
   "metadata": {
    "collapsed": false
   }
  },
  {
   "cell_type": "code",
   "execution_count": 1183,
   "outputs": [
    {
     "data": {
      "text/plain": "          userId  movieId  rating   timestamp\n13985776  145350      266     4.0   840786276\n25366851  264071     2586     3.0  1048688407\n23125252  240069      160     4.0   833129020\n21379116  222057   136469     4.5  1474915196\n14561702  151317     2371     4.0  1126761413\n2015262    20962     1356     4.0   952662978\n23796715  247060    58559     5.0  1379379180\n24293131  252318      260     4.0   865603017\n13146583  136599    74868     2.5  1300916834\n14023104  145698      413     2.5  1068701052",
      "text/html": "<div>\n<style scoped>\n    .dataframe tbody tr th:only-of-type {\n        vertical-align: middle;\n    }\n\n    .dataframe tbody tr th {\n        vertical-align: top;\n    }\n\n    .dataframe thead th {\n        text-align: right;\n    }\n</style>\n<table border=\"1\" class=\"dataframe\">\n  <thead>\n    <tr style=\"text-align: right;\">\n      <th></th>\n      <th>userId</th>\n      <th>movieId</th>\n      <th>rating</th>\n      <th>timestamp</th>\n    </tr>\n  </thead>\n  <tbody>\n    <tr>\n      <th>13985776</th>\n      <td>145350</td>\n      <td>266</td>\n      <td>4.0</td>\n      <td>840786276</td>\n    </tr>\n    <tr>\n      <th>25366851</th>\n      <td>264071</td>\n      <td>2586</td>\n      <td>3.0</td>\n      <td>1048688407</td>\n    </tr>\n    <tr>\n      <th>23125252</th>\n      <td>240069</td>\n      <td>160</td>\n      <td>4.0</td>\n      <td>833129020</td>\n    </tr>\n    <tr>\n      <th>21379116</th>\n      <td>222057</td>\n      <td>136469</td>\n      <td>4.5</td>\n      <td>1474915196</td>\n    </tr>\n    <tr>\n      <th>14561702</th>\n      <td>151317</td>\n      <td>2371</td>\n      <td>4.0</td>\n      <td>1126761413</td>\n    </tr>\n    <tr>\n      <th>2015262</th>\n      <td>20962</td>\n      <td>1356</td>\n      <td>4.0</td>\n      <td>952662978</td>\n    </tr>\n    <tr>\n      <th>23796715</th>\n      <td>247060</td>\n      <td>58559</td>\n      <td>5.0</td>\n      <td>1379379180</td>\n    </tr>\n    <tr>\n      <th>24293131</th>\n      <td>252318</td>\n      <td>260</td>\n      <td>4.0</td>\n      <td>865603017</td>\n    </tr>\n    <tr>\n      <th>13146583</th>\n      <td>136599</td>\n      <td>74868</td>\n      <td>2.5</td>\n      <td>1300916834</td>\n    </tr>\n    <tr>\n      <th>14023104</th>\n      <td>145698</td>\n      <td>413</td>\n      <td>2.5</td>\n      <td>1068701052</td>\n    </tr>\n  </tbody>\n</table>\n</div>"
     },
     "execution_count": 1183,
     "metadata": {},
     "output_type": "execute_result"
    }
   ],
   "source": [
    "ratings.sample(10)"
   ],
   "metadata": {
    "collapsed": false
   }
  },
  {
   "cell_type": "code",
   "execution_count": 1184,
   "outputs": [
    {
     "data": {
      "text/plain": "             userId       movieId        rating     timestamp\ncount  2.602429e+07  2.602429e+07  2.602429e+07  2.602429e+07\nmean   1.350371e+05  1.584911e+04  3.528090e+00  1.171258e+09\nstd    7.817620e+04  3.108526e+04  1.065443e+00  2.052889e+08\nmin    1.000000e+00  1.000000e+00  5.000000e-01  7.896520e+08\n25%    6.716400e+04  1.073000e+03  3.000000e+00  9.907545e+08\n50%    1.351630e+05  2.583000e+03  3.500000e+00  1.151716e+09\n75%    2.026930e+05  6.503000e+03  4.000000e+00  1.357578e+09\nmax    2.708960e+05  1.762750e+05  5.000000e+00  1.501830e+09",
      "text/html": "<div>\n<style scoped>\n    .dataframe tbody tr th:only-of-type {\n        vertical-align: middle;\n    }\n\n    .dataframe tbody tr th {\n        vertical-align: top;\n    }\n\n    .dataframe thead th {\n        text-align: right;\n    }\n</style>\n<table border=\"1\" class=\"dataframe\">\n  <thead>\n    <tr style=\"text-align: right;\">\n      <th></th>\n      <th>userId</th>\n      <th>movieId</th>\n      <th>rating</th>\n      <th>timestamp</th>\n    </tr>\n  </thead>\n  <tbody>\n    <tr>\n      <th>count</th>\n      <td>2.602429e+07</td>\n      <td>2.602429e+07</td>\n      <td>2.602429e+07</td>\n      <td>2.602429e+07</td>\n    </tr>\n    <tr>\n      <th>mean</th>\n      <td>1.350371e+05</td>\n      <td>1.584911e+04</td>\n      <td>3.528090e+00</td>\n      <td>1.171258e+09</td>\n    </tr>\n    <tr>\n      <th>std</th>\n      <td>7.817620e+04</td>\n      <td>3.108526e+04</td>\n      <td>1.065443e+00</td>\n      <td>2.052889e+08</td>\n    </tr>\n    <tr>\n      <th>min</th>\n      <td>1.000000e+00</td>\n      <td>1.000000e+00</td>\n      <td>5.000000e-01</td>\n      <td>7.896520e+08</td>\n    </tr>\n    <tr>\n      <th>25%</th>\n      <td>6.716400e+04</td>\n      <td>1.073000e+03</td>\n      <td>3.000000e+00</td>\n      <td>9.907545e+08</td>\n    </tr>\n    <tr>\n      <th>50%</th>\n      <td>1.351630e+05</td>\n      <td>2.583000e+03</td>\n      <td>3.500000e+00</td>\n      <td>1.151716e+09</td>\n    </tr>\n    <tr>\n      <th>75%</th>\n      <td>2.026930e+05</td>\n      <td>6.503000e+03</td>\n      <td>4.000000e+00</td>\n      <td>1.357578e+09</td>\n    </tr>\n    <tr>\n      <th>max</th>\n      <td>2.708960e+05</td>\n      <td>1.762750e+05</td>\n      <td>5.000000e+00</td>\n      <td>1.501830e+09</td>\n    </tr>\n  </tbody>\n</table>\n</div>"
     },
     "execution_count": 1184,
     "metadata": {},
     "output_type": "execute_result"
    }
   ],
   "source": [
    "ratings.describe()"
   ],
   "metadata": {
    "collapsed": false
   }
  },
  {
   "cell_type": "code",
   "execution_count": 1185,
   "outputs": [
    {
     "data": {
      "text/plain": "<Figure size 640x480 with 1 Axes>",
      "image/png": "[encoded data removed]"
     },
     "metadata": {},
     "output_type": "display_data"
    }
   ],
   "source": [
    "ratings[\"rating\"].plot.hist();"
   ],
   "metadata": {
    "collapsed": false
   }
  },
  {
   "cell_type": "code",
   "execution_count": 1186,
   "outputs": [
    {
     "name": "stdout",
     "output_type": "stream",
     "text": [
      "<class 'pandas.core.frame.DataFrame'>\n",
      "Int64Index: 5982940 entries, 1 to 26024287\n",
      "Data columns (total 4 columns):\n",
      " #   Column     Dtype  \n",
      "---  ------     -----  \n",
      " 0   userId     int64  \n",
      " 1   movieId    int64  \n",
      " 2   rating     float64\n",
      " 3   timestamp  int64  \n",
      "dtypes: float64(1), int64(3)\n",
      "memory usage: 228.2 MB\n"
     ]
    }
   ],
   "source": [
    "good_ratings = ratings[ratings[\"rating\"] >= 4.5]\n",
    "good_ratings.info()"
   ],
   "metadata": {
    "collapsed": false
   }
  },
  {
   "cell_type": "code",
   "execution_count": 1187,
   "outputs": [
    {
     "data": {
      "text/plain": "        userId                                            movieId\n0            1  [147, 858, 1221, 1246, 2762, 2918, 4878, 5577,...\n1            2                                        [339, 1356]\n2            4         [1097, 1221, 2023, 2396, 2762, 3114, 3408]\n3            5  [541, 750, 858, 908, 1193, 1201, 1204, 1230, 1...\n4            6                                             [2628]\n...        ...                                                ...\n248157  270892  [260, 296, 318, 364, 858, 1172, 1196, 1198, 20...\n248158  270893  [47, 50, 110, 318, 431, 527, 593, 733, 750, 91...\n248159  270894  [593, 608, 1090, 1193, 1214, 1387, 2288, 2571,...\n248160  270895      [150, 318, 344, 356, 357, 454, 527, 590, 597]\n248161  270896  [1, 32, 47, 50, 110, 111, 293, 296, 318, 356, ...\n\n[248162 rows x 2 columns]",
      "text/html": "<div>\n<style scoped>\n    .dataframe tbody tr th:only-of-type {\n        vertical-align: middle;\n    }\n\n    .dataframe tbody tr th {\n        vertical-align: top;\n    }\n\n    .dataframe thead th {\n        text-align: right;\n    }\n</style>\n<table border=\"1\" class=\"dataframe\">\n  <thead>\n    <tr style=\"text-align: right;\">\n      <th></th>\n      <th>userId</th>\n      <th>movieId</th>\n    </tr>\n  </thead>\n  <tbody>\n    <tr>\n      <th>0</th>\n      <td>1</td>\n      <td>[147, 858, 1221, 1246, 2762, 2918, 4878, 5577,...</td>\n    </tr>\n    <tr>\n      <th>1</th>\n      <td>2</td>\n      <td>[339, 1356]</td>\n    </tr>\n    <tr>\n      <th>2</th>\n      <td>4</td>\n      <td>[1097, 1221, 2023, 2396, 2762, 3114, 3408]</td>\n    </tr>\n    <tr>\n      <th>3</th>\n      <td>5</td>\n      <td>[541, 750, 858, 908, 1193, 1201, 1204, 1230, 1...</td>\n    </tr>\n    <tr>\n      <th>4</th>\n      <td>6</td>\n      <td>[2628]</td>\n    </tr>\n    <tr>\n      <th>...</th>\n      <td>...</td>\n      <td>...</td>\n    </tr>\n    <tr>\n      <th>248157</th>\n      <td>270892</td>\n      <td>[260, 296, 318, 364, 858, 1172, 1196, 1198, 20...</td>\n    </tr>\n    <tr>\n      <th>248158</th>\n      <td>270893</td>\n      <td>[47, 50, 110, 318, 431, 527, 593, 733, 750, 91...</td>\n    </tr>\n    <tr>\n      <th>248159</th>\n      <td>270894</td>\n      <td>[593, 608, 1090, 1193, 1214, 1387, 2288, 2571,...</td>\n    </tr>\n    <tr>\n      <th>248160</th>\n      <td>270895</td>\n      <td>[150, 318, 344, 356, 357, 454, 527, 590, 597]</td>\n    </tr>\n    <tr>\n      <th>248161</th>\n      <td>270896</td>\n      <td>[1, 32, 47, 50, 110, 111, 293, 296, 318, 356, ...</td>\n    </tr>\n  </tbody>\n</table>\n<p>248162 rows × 2 columns</p>\n</div>"
     },
     "execution_count": 1187,
     "metadata": {},
     "output_type": "execute_result"
    }
   ],
   "source": [
    "good_movies_by_user = good_ratings[[\"userId\", \"movieId\"]].groupby(\"userId\")[\"movieId\"].apply(list)\n",
    "good_movies_by_user = pandas.DataFrame(good_movies_by_user).reset_index()\n",
    "good_movies_by_user"
   ],
   "metadata": {
    "collapsed": false
   }
  },
  {
   "cell_type": "code",
   "execution_count": 1188,
   "outputs": [
    {
     "data": {
      "text/plain": "count    248162.000000\nmean         24.109009\nstd          43.396655\nmin           1.000000\n25%           4.000000\n50%           9.000000\n75%          27.000000\nmax        1938.000000\nName: movieId, dtype: float64"
     },
     "execution_count": 1188,
     "metadata": {},
     "output_type": "execute_result"
    }
   ],
   "source": [
    "# Basic statics about users count of ratings\n",
    "good_movies_by_user[\"movieId\"].apply(len).describe()"
   ],
   "metadata": {
    "collapsed": false
   }
  },
  {
   "cell_type": "code",
   "execution_count": 1189,
   "outputs": [],
   "source": [
    "recommendation_rules = list(apriori(good_movies_by_user[\"movieId\"]))"
   ],
   "metadata": {
    "collapsed": false
   }
  },
  {
   "cell_type": "code",
   "execution_count": 1190,
   "outputs": [],
   "source": [
    "def pretty_recommendation(e):\n",
    "    return {\n",
    "        \"movieId\": [x for x in e.items],\n",
    "        \"support\": e.support,\n",
    "        \"confidence\": e[2][0].confidence\n",
    "    }"
   ],
   "metadata": {
    "collapsed": false
   }
  },
  {
   "cell_type": "code",
   "execution_count": 1191,
   "outputs": [
    {
     "data": {
      "text/plain": "   movieId   support  confidence\n4    [318]  0.235644    0.235644\n3    [296]  0.187789    0.187789\n5    [356]  0.161656    0.161656\n11  [2571]  0.160008    0.160008\n7    [593]  0.155487    0.155487\n2    [260]  0.152509    0.152509\n6    [527]  0.149140    0.149140\n8    [858]  0.140094    0.140094\n13  [2959]  0.135129    0.135129\n0     [50]  0.132506    0.132506\n9   [1196]  0.122198    0.122198\n14  [4993]  0.117887    0.117887\n12  [2858]  0.112620    0.112620\n1    [110]  0.111331    0.111331\n10  [1198]  0.109932    0.109932\n16  [7153]  0.109352    0.109352\n15  [5952]  0.104162    0.104162",
      "text/html": "<div>\n<style scoped>\n    .dataframe tbody tr th:only-of-type {\n        vertical-align: middle;\n    }\n\n    .dataframe tbody tr th {\n        vertical-align: top;\n    }\n\n    .dataframe thead th {\n        text-align: right;\n    }\n</style>\n<table border=\"1\" class=\"dataframe\">\n  <thead>\n    <tr style=\"text-align: right;\">\n      <th></th>\n      <th>movieId</th>\n      <th>support</th>\n      <th>confidence</th>\n    </tr>\n  </thead>\n  <tbody>\n    <tr>\n      <th>4</th>\n      <td>[318]</td>\n      <td>0.235644</td>\n      <td>0.235644</td>\n    </tr>\n    <tr>\n      <th>3</th>\n      <td>[296]</td>\n      <td>0.187789</td>\n      <td>0.187789</td>\n    </tr>\n    <tr>\n      <th>5</th>\n      <td>[356]</td>\n      <td>0.161656</td>\n      <td>0.161656</td>\n    </tr>\n    <tr>\n      <th>11</th>\n      <td>[2571]</td>\n      <td>0.160008</td>\n      <td>0.160008</td>\n    </tr>\n    <tr>\n      <th>7</th>\n      <td>[593]</td>\n      <td>0.155487</td>\n      <td>0.155487</td>\n    </tr>\n    <tr>\n      <th>2</th>\n      <td>[260]</td>\n      <td>0.152509</td>\n      <td>0.152509</td>\n    </tr>\n    <tr>\n      <th>6</th>\n      <td>[527]</td>\n      <td>0.149140</td>\n      <td>0.149140</td>\n    </tr>\n    <tr>\n      <th>8</th>\n      <td>[858]</td>\n      <td>0.140094</td>\n      <td>0.140094</td>\n    </tr>\n    <tr>\n      <th>13</th>\n      <td>[2959]</td>\n      <td>0.135129</td>\n      <td>0.135129</td>\n    </tr>\n    <tr>\n      <th>0</th>\n      <td>[50]</td>\n      <td>0.132506</td>\n      <td>0.132506</td>\n    </tr>\n    <tr>\n      <th>9</th>\n      <td>[1196]</td>\n      <td>0.122198</td>\n      <td>0.122198</td>\n    </tr>\n    <tr>\n      <th>14</th>\n      <td>[4993]</td>\n      <td>0.117887</td>\n      <td>0.117887</td>\n    </tr>\n    <tr>\n      <th>12</th>\n      <td>[2858]</td>\n      <td>0.112620</td>\n      <td>0.112620</td>\n    </tr>\n    <tr>\n      <th>1</th>\n      <td>[110]</td>\n      <td>0.111331</td>\n      <td>0.111331</td>\n    </tr>\n    <tr>\n      <th>10</th>\n      <td>[1198]</td>\n      <td>0.109932</td>\n      <td>0.109932</td>\n    </tr>\n    <tr>\n      <th>16</th>\n      <td>[7153]</td>\n      <td>0.109352</td>\n      <td>0.109352</td>\n    </tr>\n    <tr>\n      <th>15</th>\n      <td>[5952]</td>\n      <td>0.104162</td>\n      <td>0.104162</td>\n    </tr>\n  </tbody>\n</table>\n</div>"
     },
     "execution_count": 1191,
     "metadata": {},
     "output_type": "execute_result"
    }
   ],
   "source": [
    "recommendations = map(lambda e: pretty_recommendation(e), recommendation_rules)\n",
    "recommendations = pandas.DataFrame(recommendations).sort_values(by=[\"support\", \"confidence\"], ascending=False)\n",
    "recommendations"
   ],
   "metadata": {
    "collapsed": false
   }
  },
  {
   "cell_type": "code",
   "execution_count": 1192,
   "outputs": [],
   "source": [
    "def get_recommendation_list(index, _recommendations=recommendations):\n",
    "    return _recommendations.iloc[[index]][\"movieId\"].iloc[0]"
   ],
   "metadata": {
    "collapsed": false
   }
  },
  {
   "cell_type": "code",
   "execution_count": 1193,
   "outputs": [],
   "source": [
    "def find_movies_by(id_list, _movies=movies):\n",
    "    result = pandas.DataFrame()\n",
    "    for _id in id_list:\n",
    "        movie = _movies[_movies[\"id\"] == str(_id)]\n",
    "        if not movie.empty:\n",
    "            result = pandas.concat([result, movie])\n",
    "    return result"
   ],
   "metadata": {
    "collapsed": false
   }
  },
  {
   "cell_type": "code",
   "execution_count": 1194,
   "outputs": [
    {
     "data": {
      "text/plain": "       id                     title\n4020  318  The Million Dollar Hotel",
      "text/html": "<div>\n<style scoped>\n    .dataframe tbody tr th:only-of-type {\n        vertical-align: middle;\n    }\n\n    .dataframe tbody tr th {\n        vertical-align: top;\n    }\n\n    .dataframe thead th {\n        text-align: right;\n    }\n</style>\n<table border=\"1\" class=\"dataframe\">\n  <thead>\n    <tr style=\"text-align: right;\">\n      <th></th>\n      <th>id</th>\n      <th>title</th>\n    </tr>\n  </thead>\n  <tbody>\n    <tr>\n      <th>4020</th>\n      <td>318</td>\n      <td>The Million Dollar Hotel</td>\n    </tr>\n  </tbody>\n</table>\n</div>"
     },
     "execution_count": 1194,
     "metadata": {},
     "output_type": "execute_result"
    }
   ],
   "source": [
    "r_list = get_recommendation_list(0)\n",
    "find_movies_by(r_list)[[\"id\", \"title\"]]"
   ],
   "metadata": {
    "collapsed": false
   }
  },
  {
   "cell_type": "code",
   "execution_count": 1195,
   "outputs": [
    {
     "data": {
      "text/plain": "       id                               title\n6388  296  Terminator 3: Rise of the Machines",
      "text/html": "<div>\n<style scoped>\n    .dataframe tbody tr th:only-of-type {\n        vertical-align: middle;\n    }\n\n    .dataframe tbody tr th {\n        vertical-align: top;\n    }\n\n    .dataframe thead th {\n        text-align: right;\n    }\n</style>\n<table border=\"1\" class=\"dataframe\">\n  <thead>\n    <tr style=\"text-align: right;\">\n      <th></th>\n      <th>id</th>\n      <th>title</th>\n    </tr>\n  </thead>\n  <tbody>\n    <tr>\n      <th>6388</th>\n      <td>296</td>\n      <td>Terminator 3: Rise of the Machines</td>\n    </tr>\n  </tbody>\n</table>\n</div>"
     },
     "execution_count": 1195,
     "metadata": {},
     "output_type": "execute_result"
    }
   ],
   "source": [
    "r_list = get_recommendation_list(1)\n",
    "find_movies_by(r_list)[[\"id\", \"title\"]]"
   ],
   "metadata": {
    "collapsed": false
   }
  },
  {
   "cell_type": "code",
   "execution_count": 1196,
   "outputs": [
    {
     "data": {
      "text/plain": "       id    title\n3382  593  Solaris",
      "text/html": "<div>\n<style scoped>\n    .dataframe tbody tr th:only-of-type {\n        vertical-align: middle;\n    }\n\n    .dataframe tbody tr th {\n        vertical-align: top;\n    }\n\n    .dataframe thead th {\n        text-align: right;\n    }\n</style>\n<table border=\"1\" class=\"dataframe\">\n  <thead>\n    <tr style=\"text-align: right;\">\n      <th></th>\n      <th>id</th>\n      <th>title</th>\n    </tr>\n  </thead>\n  <tbody>\n    <tr>\n      <th>3382</th>\n      <td>593</td>\n      <td>Solaris</td>\n    </tr>\n  </tbody>\n</table>\n</div>"
     },
     "execution_count": 1196,
     "metadata": {},
     "output_type": "execute_result"
    }
   ],
   "source": [
    "r_list = get_recommendation_list(4)\n",
    "find_movies_by(r_list)[[\"id\", \"title\"]]"
   ],
   "metadata": {
    "collapsed": false
   }
  },
  {
   "cell_type": "code",
   "execution_count": 1196,
   "outputs": [],
   "source": [],
   "metadata": {
    "collapsed": false
   }
  }
 ],
 "metadata": {
  "kernelspec": {
   "display_name": "Python 3",
   "language": "python",
   "name": "python3"
  },
  "language_info": {
   "codemirror_mode": {
    "name": "ipython",
    "version": 3
   },
   "file_extension": ".py",
   "mimetype": "text/x-python",
   "name": "python",
   "nbconvert_exporter": "python",
   "pygments_lexer": "ipython3",
   "version": "3.7.3"
  },
  "colab": {
   "provenance": []
  }
 },
 "nbformat": 4,
 "nbformat_minor": 0
}
