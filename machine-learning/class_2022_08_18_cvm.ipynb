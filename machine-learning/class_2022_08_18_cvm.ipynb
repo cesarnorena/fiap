{
 "cells": [
  {
   "cell_type": "code",
   "execution_count": 11,
   "metadata": {
    "collapsed": true,
    "pycharm": {
     "name": "#%%\n"
    }
   },
   "outputs": [],
   "source": [
    "import pandas\n",
    "from matplotlib import pyplot\n",
    "from pandas import DataFrame\n",
    "from sklearn.datasets import load_breast_cancer\n",
    "from sklearn.decomposition import PCA\n",
    "from sklearn.preprocessing import StandardScaler\n",
    "from sklearn.model_selection import train_test_split\n",
    "from sklearn import svm\n",
    "from sklearn import metrics"
   ]
  },
  {
   "cell_type": "code",
   "execution_count": 4,
   "outputs": [
    {
     "data": {
      "text/plain": "     mean radius  mean texture  mean perimeter  mean area  mean smoothness  \\\n246        13.20         17.43           84.13      541.6          0.07215   \n450        11.87         21.54           76.83      432.0          0.06613   \n445        11.99         24.89           77.61      441.3          0.10300   \n443        10.57         18.32           66.82      340.9          0.08142   \n135        12.77         22.47           81.72      506.3          0.09055   \n511        14.81         14.70           94.66      680.7          0.08472   \n436        12.87         19.54           82.67      509.2          0.09136   \n336        12.99         14.23           84.08      514.3          0.09462   \n47         13.17         18.66           85.98      534.6          0.11580   \n559        11.51         23.93           74.52      403.5          0.09261   \n\n     mean compactness  mean concavity  mean concave points  mean symmetry  \\\n246           0.04524         0.04336              0.01105         0.1487   \n450           0.10640         0.08777              0.02386         0.1349   \n445           0.09218         0.05441              0.04274         0.1820   \n443           0.04462         0.01993              0.01111         0.2372   \n135           0.05761         0.04711              0.02704         0.1585   \n511           0.05016         0.03416              0.02541         0.1659   \n436           0.07883         0.01797              0.02090         0.1861   \n336           0.09965         0.03738              0.02098         0.1652   \n47            0.12310         0.12260              0.07340         0.2128   \n559           0.10210         0.11120              0.04105         0.1388   \n\n     mean fractal dimension  ...  worst texture  worst perimeter  worst area  \\\n246                 0.05635  ...          27.82            88.28       602.0   \n450                 0.06612  ...          28.18            83.51       507.2   \n445                 0.06850  ...          30.36            84.48       513.9   \n443                 0.05768  ...          23.31            69.35       366.3   \n135                 0.06065  ...          33.37            92.04       653.6   \n511                 0.05348  ...          17.58           101.70       760.2   \n436                 0.06347  ...          24.38            95.14       626.9   \n336                 0.07238  ...          16.91            87.38       576.0   \n47                  0.06777  ...          27.95           102.80       759.4   \n559                 0.06570  ...          37.16            82.28       474.2   \n\n     worst smoothness  worst compactness  worst concavity  \\\n246           0.11010            0.15080          0.22980   \n450           0.09457            0.33990          0.32180   \n445           0.13110            0.18220          0.16090   \n443           0.09794            0.06542          0.03986   \n135           0.14190            0.15230          0.21770   \n511           0.11390            0.10110          0.11010   \n436           0.12140            0.16520          0.07127   \n336           0.11420            0.19750          0.14500   \n47            0.17860            0.41660          0.50060   \n559           0.12980            0.25170          0.36300   \n\n     worst concave points  worst symmetry  worst fractal dimension  label  \n246               0.04970          0.2767                  0.07198      1  \n450               0.08750          0.2305                  0.09952      1  \n445               0.12020          0.2599                  0.08251      1  \n443               0.02222          0.2699                  0.06736      1  \n135               0.09331          0.2829                  0.08067      0  \n511               0.07955          0.2334                  0.06142      1  \n436               0.06384          0.3313                  0.07735      1  \n336               0.05850          0.2432                  0.10090      1  \n47                0.20880          0.3900                  0.11790      0  \n559               0.09653          0.2112                  0.08732      1  \n\n[10 rows x 31 columns]",
      "text/html": "<div>\n<style scoped>\n    .dataframe tbody tr th:only-of-type {\n        vertical-align: middle;\n    }\n\n    .dataframe tbody tr th {\n        vertical-align: top;\n    }\n\n    .dataframe thead th {\n        text-align: right;\n    }\n</style>\n<table border=\"1\" class=\"dataframe\">\n  <thead>\n    <tr style=\"text-align: right;\">\n      <th></th>\n      <th>mean radius</th>\n      <th>mean texture</th>\n      <th>mean perimeter</th>\n      <th>mean area</th>\n      <th>mean smoothness</th>\n      <th>mean compactness</th>\n      <th>mean concavity</th>\n      <th>mean concave points</th>\n      <th>mean symmetry</th>\n      <th>mean fractal dimension</th>\n      <th>...</th>\n      <th>worst texture</th>\n      <th>worst perimeter</th>\n      <th>worst area</th>\n      <th>worst smoothness</th>\n      <th>worst compactness</th>\n      <th>worst concavity</th>\n      <th>worst concave points</th>\n      <th>worst symmetry</th>\n      <th>worst fractal dimension</th>\n      <th>label</th>\n    </tr>\n  </thead>\n  <tbody>\n    <tr>\n      <th>246</th>\n      <td>13.20</td>\n      <td>17.43</td>\n      <td>84.13</td>\n      <td>541.6</td>\n      <td>0.07215</td>\n      <td>0.04524</td>\n      <td>0.04336</td>\n      <td>0.01105</td>\n      <td>0.1487</td>\n      <td>0.05635</td>\n      <td>...</td>\n      <td>27.82</td>\n      <td>88.28</td>\n      <td>602.0</td>\n      <td>0.11010</td>\n      <td>0.15080</td>\n      <td>0.22980</td>\n      <td>0.04970</td>\n      <td>0.2767</td>\n      <td>0.07198</td>\n      <td>1</td>\n    </tr>\n    <tr>\n      <th>450</th>\n      <td>11.87</td>\n      <td>21.54</td>\n      <td>76.83</td>\n      <td>432.0</td>\n      <td>0.06613</td>\n      <td>0.10640</td>\n      <td>0.08777</td>\n      <td>0.02386</td>\n      <td>0.1349</td>\n      <td>0.06612</td>\n      <td>...</td>\n      <td>28.18</td>\n      <td>83.51</td>\n      <td>507.2</td>\n      <td>0.09457</td>\n      <td>0.33990</td>\n      <td>0.32180</td>\n      <td>0.08750</td>\n      <td>0.2305</td>\n      <td>0.09952</td>\n      <td>1</td>\n    </tr>\n    <tr>\n      <th>445</th>\n      <td>11.99</td>\n      <td>24.89</td>\n      <td>77.61</td>\n      <td>441.3</td>\n      <td>0.10300</td>\n      <td>0.09218</td>\n      <td>0.05441</td>\n      <td>0.04274</td>\n      <td>0.1820</td>\n      <td>0.06850</td>\n      <td>...</td>\n      <td>30.36</td>\n      <td>84.48</td>\n      <td>513.9</td>\n      <td>0.13110</td>\n      <td>0.18220</td>\n      <td>0.16090</td>\n      <td>0.12020</td>\n      <td>0.2599</td>\n      <td>0.08251</td>\n      <td>1</td>\n    </tr>\n    <tr>\n      <th>443</th>\n      <td>10.57</td>\n      <td>18.32</td>\n      <td>66.82</td>\n      <td>340.9</td>\n      <td>0.08142</td>\n      <td>0.04462</td>\n      <td>0.01993</td>\n      <td>0.01111</td>\n      <td>0.2372</td>\n      <td>0.05768</td>\n      <td>...</td>\n      <td>23.31</td>\n      <td>69.35</td>\n      <td>366.3</td>\n      <td>0.09794</td>\n      <td>0.06542</td>\n      <td>0.03986</td>\n      <td>0.02222</td>\n      <td>0.2699</td>\n      <td>0.06736</td>\n      <td>1</td>\n    </tr>\n    <tr>\n      <th>135</th>\n      <td>12.77</td>\n      <td>22.47</td>\n      <td>81.72</td>\n      <td>506.3</td>\n      <td>0.09055</td>\n      <td>0.05761</td>\n      <td>0.04711</td>\n      <td>0.02704</td>\n      <td>0.1585</td>\n      <td>0.06065</td>\n      <td>...</td>\n      <td>33.37</td>\n      <td>92.04</td>\n      <td>653.6</td>\n      <td>0.14190</td>\n      <td>0.15230</td>\n      <td>0.21770</td>\n      <td>0.09331</td>\n      <td>0.2829</td>\n      <td>0.08067</td>\n      <td>0</td>\n    </tr>\n    <tr>\n      <th>511</th>\n      <td>14.81</td>\n      <td>14.70</td>\n      <td>94.66</td>\n      <td>680.7</td>\n      <td>0.08472</td>\n      <td>0.05016</td>\n      <td>0.03416</td>\n      <td>0.02541</td>\n      <td>0.1659</td>\n      <td>0.05348</td>\n      <td>...</td>\n      <td>17.58</td>\n      <td>101.70</td>\n      <td>760.2</td>\n      <td>0.11390</td>\n      <td>0.10110</td>\n      <td>0.11010</td>\n      <td>0.07955</td>\n      <td>0.2334</td>\n      <td>0.06142</td>\n      <td>1</td>\n    </tr>\n    <tr>\n      <th>436</th>\n      <td>12.87</td>\n      <td>19.54</td>\n      <td>82.67</td>\n      <td>509.2</td>\n      <td>0.09136</td>\n      <td>0.07883</td>\n      <td>0.01797</td>\n      <td>0.02090</td>\n      <td>0.1861</td>\n      <td>0.06347</td>\n      <td>...</td>\n      <td>24.38</td>\n      <td>95.14</td>\n      <td>626.9</td>\n      <td>0.12140</td>\n      <td>0.16520</td>\n      <td>0.07127</td>\n      <td>0.06384</td>\n      <td>0.3313</td>\n      <td>0.07735</td>\n      <td>1</td>\n    </tr>\n    <tr>\n      <th>336</th>\n      <td>12.99</td>\n      <td>14.23</td>\n      <td>84.08</td>\n      <td>514.3</td>\n      <td>0.09462</td>\n      <td>0.09965</td>\n      <td>0.03738</td>\n      <td>0.02098</td>\n      <td>0.1652</td>\n      <td>0.07238</td>\n      <td>...</td>\n      <td>16.91</td>\n      <td>87.38</td>\n      <td>576.0</td>\n      <td>0.11420</td>\n      <td>0.19750</td>\n      <td>0.14500</td>\n      <td>0.05850</td>\n      <td>0.2432</td>\n      <td>0.10090</td>\n      <td>1</td>\n    </tr>\n    <tr>\n      <th>47</th>\n      <td>13.17</td>\n      <td>18.66</td>\n      <td>85.98</td>\n      <td>534.6</td>\n      <td>0.11580</td>\n      <td>0.12310</td>\n      <td>0.12260</td>\n      <td>0.07340</td>\n      <td>0.2128</td>\n      <td>0.06777</td>\n      <td>...</td>\n      <td>27.95</td>\n      <td>102.80</td>\n      <td>759.4</td>\n      <td>0.17860</td>\n      <td>0.41660</td>\n      <td>0.50060</td>\n      <td>0.20880</td>\n      <td>0.3900</td>\n      <td>0.11790</td>\n      <td>0</td>\n    </tr>\n    <tr>\n      <th>559</th>\n      <td>11.51</td>\n      <td>23.93</td>\n      <td>74.52</td>\n      <td>403.5</td>\n      <td>0.09261</td>\n      <td>0.10210</td>\n      <td>0.11120</td>\n      <td>0.04105</td>\n      <td>0.1388</td>\n      <td>0.06570</td>\n      <td>...</td>\n      <td>37.16</td>\n      <td>82.28</td>\n      <td>474.2</td>\n      <td>0.12980</td>\n      <td>0.25170</td>\n      <td>0.36300</td>\n      <td>0.09653</td>\n      <td>0.2112</td>\n      <td>0.08732</td>\n      <td>1</td>\n    </tr>\n  </tbody>\n</table>\n<p>10 rows × 31 columns</p>\n</div>"
     },
     "execution_count": 4,
     "metadata": {},
     "output_type": "execute_result"
    }
   ],
   "source": [
    "breast = load_breast_cancer()\n",
    "\n",
    "x = DataFrame(breast[\"data\"], columns=breast[\"feature_names\"])\n",
    "y = pandas.DataFrame(breast[\"target\"], columns=[\"label\"])\n",
    "\n",
    "dataset = x.join(y)\n",
    "dataset.sample(10)"
   ],
   "metadata": {
    "collapsed": false,
    "pycharm": {
     "name": "#%%\n"
    }
   }
  },
  {
   "cell_type": "code",
   "execution_count": 8,
   "outputs": [],
   "source": [
    "x = dataset.drop(columns=\"label\")\n",
    "y = dataset[\"label\"]\n",
    "\n",
    "x_train, x_test, y_train, y_test = train_test_split(x, y, test_size=0.3, random_state=101)"
   ],
   "metadata": {
    "collapsed": false,
    "pycharm": {
     "name": "#%%\n"
    }
   }
  },
  {
   "cell_type": "code",
   "execution_count": 9,
   "outputs": [],
   "source": [
    "scaler = StandardScaler()\n",
    "x_train = scaler.fit_transform(x_train)\n",
    "x_test = scaler.transform(x_test)"
   ],
   "metadata": {
    "collapsed": false,
    "pycharm": {
     "name": "#%%\n"
    }
   }
  },
  {
   "cell_type": "code",
   "execution_count": 10,
   "outputs": [],
   "source": [
    "model = svm.SVC()\n",
    "model.fit(x_train, y_train)\n",
    "y_pred = model.predict(x_test)"
   ],
   "metadata": {
    "collapsed": false,
    "pycharm": {
     "name": "#%%\n"
    }
   }
  },
  {
   "cell_type": "code",
   "execution_count": 12,
   "outputs": [
    {
     "name": "stdout",
     "output_type": "stream",
     "text": [
      "Accuracy:  0.9824561403508771\n"
     ]
    }
   ],
   "source": [
    "print(\"Accuracy: \", metrics.accuracy_score(y_test, y_pred))"
   ],
   "metadata": {
    "collapsed": false,
    "pycharm": {
     "name": "#%%\n"
    }
   }
  },
  {
   "cell_type": "code",
   "execution_count": 15,
   "outputs": [
    {
     "data": {
      "text/plain": "array([[ 64,   2],\n       [  1, 104]])"
     },
     "execution_count": 15,
     "metadata": {},
     "output_type": "execute_result"
    }
   ],
   "source": [
    "metrics.confusion_matrix(y_test, y_pred)"
   ],
   "metadata": {
    "collapsed": false,
    "pycharm": {
     "name": "#%%\n"
    }
   }
  },
  {
   "cell_type": "code",
   "execution_count": null,
   "outputs": [],
   "source": [],
   "metadata": {
    "collapsed": false,
    "pycharm": {
     "name": "#%%\n"
    }
   }
  }
 ],
 "metadata": {
  "kernelspec": {
   "display_name": "Python 3",
   "language": "python",
   "name": "python3"
  },
  "language_info": {
   "codemirror_mode": {
    "name": "ipython",
    "version": 2
   },
   "file_extension": ".py",
   "mimetype": "text/x-python",
   "name": "python",
   "nbconvert_exporter": "python",
   "pygments_lexer": "ipython2",
   "version": "2.7.6"
  }
 },
 "nbformat": 4,
 "nbformat_minor": 0
}