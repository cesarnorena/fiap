{
 "cells": [
  {
   "cell_type": "code",
   "execution_count": 1,
   "metadata": {
    "collapsed": true,
    "pycharm": {
     "name": "#%%\n"
    }
   },
   "outputs": [],
   "source": [
    "import pandas\n",
    "from pandas import DataFrame\n",
    "import numpy\n",
    "from matplotlib import pyplot\n",
    "from sklearn.datasets import load_breast_cancer"
   ]
  },
  {
   "cell_type": "code",
   "execution_count": 19,
   "outputs": [
    {
     "data": {
      "text/plain": "     mean radius  mean texture  mean perimeter  mean area  mean smoothness  \\\n192        9.720         18.22           60.73      288.1          0.06950   \n462       14.400         26.99           92.25      646.1          0.06995   \n79        12.860         18.00           83.19      506.3          0.09934   \n152        9.731         15.34           63.78      300.2          0.10720   \n554       12.880         28.92           82.50      514.3          0.08123   \n524        9.847         15.68           63.00      293.2          0.09492   \n545       13.620         23.23           87.19      573.2          0.09246   \n481       13.900         19.24           88.73      602.9          0.07991   \n115       11.930         21.53           76.53      438.6          0.09768   \n312       12.760         13.37           82.29      504.1          0.08794   \n\n     mean compactness  mean concavity  mean concave points  mean symmetry  \\\n192           0.02344         0.00000              0.00000         0.1653   \n462           0.05223         0.03476              0.01737         0.1707   \n79            0.09546         0.03889              0.02315         0.1718   \n152           0.15990         0.41080              0.07857         0.2548   \n554           0.05824         0.06195              0.02343         0.1566   \n524           0.08419         0.02330              0.02416         0.1387   \n545           0.06747         0.02974              0.02443         0.1664   \n481           0.05326         0.02995              0.02070         0.1579   \n115           0.07849         0.03328              0.02008         0.1688   \n312           0.07948         0.04052              0.02548         0.1601   \n\n     mean fractal dimension  ...  worst texture  worst perimeter  worst area  \\\n192                 0.06447  ...          20.83            62.25       303.8   \n462                 0.05433  ...          31.98           100.40       734.6   \n79                  0.05997  ...          24.82            91.88       622.1   \n152                 0.09296  ...          19.49            71.04       380.5   \n554                 0.05708  ...          35.74            88.84       595.7   \n524                 0.06891  ...          22.99            74.32       376.5   \n545                 0.05801  ...          29.09            97.58       729.8   \n481                 0.05594  ...          26.42           104.40       830.5   \n115                 0.06194  ...          26.15            87.54       583.0   \n312                 0.06140  ...          16.40            92.04       618.8   \n\n     worst smoothness  worst compactness  worst concavity  \\\n192           0.07117            0.02729          0.00000   \n462           0.10170            0.14600          0.14720   \n79            0.12890            0.21410          0.17310   \n152           0.12920            0.27720          0.82160   \n554           0.12270            0.16200          0.24390   \n524           0.14190            0.22430          0.08434   \n545           0.12160            0.15170          0.10490   \n481           0.10640            0.14150          0.16730   \n115           0.15000            0.23990          0.15030   \n312           0.11940            0.22080          0.17690   \n\n     worst concave points  worst symmetry  worst fractal dimension  label  \n192               0.00000          0.1909                  0.06559      1  \n462               0.05563          0.2345                  0.06464      1  \n79                0.07926          0.2779                  0.07918      1  \n152               0.15710          0.3108                  0.12590      1  \n554               0.06493          0.2372                  0.07242      1  \n524               0.06528          0.2502                  0.09209      1  \n545               0.07174          0.2642                  0.06953      1  \n481               0.08150          0.2356                  0.07603      1  \n115               0.07247          0.2438                  0.08541      1  \n312               0.08411          0.2564                  0.08253      1  \n\n[10 rows x 31 columns]",
      "text/html": "<div>\n<style scoped>\n    .dataframe tbody tr th:only-of-type {\n        vertical-align: middle;\n    }\n\n    .dataframe tbody tr th {\n        vertical-align: top;\n    }\n\n    .dataframe thead th {\n        text-align: right;\n    }\n</style>\n<table border=\"1\" class=\"dataframe\">\n  <thead>\n    <tr style=\"text-align: right;\">\n      <th></th>\n      <th>mean radius</th>\n      <th>mean texture</th>\n      <th>mean perimeter</th>\n      <th>mean area</th>\n      <th>mean smoothness</th>\n      <th>mean compactness</th>\n      <th>mean concavity</th>\n      <th>mean concave points</th>\n      <th>mean symmetry</th>\n      <th>mean fractal dimension</th>\n      <th>...</th>\n      <th>worst texture</th>\n      <th>worst perimeter</th>\n      <th>worst area</th>\n      <th>worst smoothness</th>\n      <th>worst compactness</th>\n      <th>worst concavity</th>\n      <th>worst concave points</th>\n      <th>worst symmetry</th>\n      <th>worst fractal dimension</th>\n      <th>label</th>\n    </tr>\n  </thead>\n  <tbody>\n    <tr>\n      <th>192</th>\n      <td>9.720</td>\n      <td>18.22</td>\n      <td>60.73</td>\n      <td>288.1</td>\n      <td>0.06950</td>\n      <td>0.02344</td>\n      <td>0.00000</td>\n      <td>0.00000</td>\n      <td>0.1653</td>\n      <td>0.06447</td>\n      <td>...</td>\n      <td>20.83</td>\n      <td>62.25</td>\n      <td>303.8</td>\n      <td>0.07117</td>\n      <td>0.02729</td>\n      <td>0.00000</td>\n      <td>0.00000</td>\n      <td>0.1909</td>\n      <td>0.06559</td>\n      <td>1</td>\n    </tr>\n    <tr>\n      <th>462</th>\n      <td>14.400</td>\n      <td>26.99</td>\n      <td>92.25</td>\n      <td>646.1</td>\n      <td>0.06995</td>\n      <td>0.05223</td>\n      <td>0.03476</td>\n      <td>0.01737</td>\n      <td>0.1707</td>\n      <td>0.05433</td>\n      <td>...</td>\n      <td>31.98</td>\n      <td>100.40</td>\n      <td>734.6</td>\n      <td>0.10170</td>\n      <td>0.14600</td>\n      <td>0.14720</td>\n      <td>0.05563</td>\n      <td>0.2345</td>\n      <td>0.06464</td>\n      <td>1</td>\n    </tr>\n    <tr>\n      <th>79</th>\n      <td>12.860</td>\n      <td>18.00</td>\n      <td>83.19</td>\n      <td>506.3</td>\n      <td>0.09934</td>\n      <td>0.09546</td>\n      <td>0.03889</td>\n      <td>0.02315</td>\n      <td>0.1718</td>\n      <td>0.05997</td>\n      <td>...</td>\n      <td>24.82</td>\n      <td>91.88</td>\n      <td>622.1</td>\n      <td>0.12890</td>\n      <td>0.21410</td>\n      <td>0.17310</td>\n      <td>0.07926</td>\n      <td>0.2779</td>\n      <td>0.07918</td>\n      <td>1</td>\n    </tr>\n    <tr>\n      <th>152</th>\n      <td>9.731</td>\n      <td>15.34</td>\n      <td>63.78</td>\n      <td>300.2</td>\n      <td>0.10720</td>\n      <td>0.15990</td>\n      <td>0.41080</td>\n      <td>0.07857</td>\n      <td>0.2548</td>\n      <td>0.09296</td>\n      <td>...</td>\n      <td>19.49</td>\n      <td>71.04</td>\n      <td>380.5</td>\n      <td>0.12920</td>\n      <td>0.27720</td>\n      <td>0.82160</td>\n      <td>0.15710</td>\n      <td>0.3108</td>\n      <td>0.12590</td>\n      <td>1</td>\n    </tr>\n    <tr>\n      <th>554</th>\n      <td>12.880</td>\n      <td>28.92</td>\n      <td>82.50</td>\n      <td>514.3</td>\n      <td>0.08123</td>\n      <td>0.05824</td>\n      <td>0.06195</td>\n      <td>0.02343</td>\n      <td>0.1566</td>\n      <td>0.05708</td>\n      <td>...</td>\n      <td>35.74</td>\n      <td>88.84</td>\n      <td>595.7</td>\n      <td>0.12270</td>\n      <td>0.16200</td>\n      <td>0.24390</td>\n      <td>0.06493</td>\n      <td>0.2372</td>\n      <td>0.07242</td>\n      <td>1</td>\n    </tr>\n    <tr>\n      <th>524</th>\n      <td>9.847</td>\n      <td>15.68</td>\n      <td>63.00</td>\n      <td>293.2</td>\n      <td>0.09492</td>\n      <td>0.08419</td>\n      <td>0.02330</td>\n      <td>0.02416</td>\n      <td>0.1387</td>\n      <td>0.06891</td>\n      <td>...</td>\n      <td>22.99</td>\n      <td>74.32</td>\n      <td>376.5</td>\n      <td>0.14190</td>\n      <td>0.22430</td>\n      <td>0.08434</td>\n      <td>0.06528</td>\n      <td>0.2502</td>\n      <td>0.09209</td>\n      <td>1</td>\n    </tr>\n    <tr>\n      <th>545</th>\n      <td>13.620</td>\n      <td>23.23</td>\n      <td>87.19</td>\n      <td>573.2</td>\n      <td>0.09246</td>\n      <td>0.06747</td>\n      <td>0.02974</td>\n      <td>0.02443</td>\n      <td>0.1664</td>\n      <td>0.05801</td>\n      <td>...</td>\n      <td>29.09</td>\n      <td>97.58</td>\n      <td>729.8</td>\n      <td>0.12160</td>\n      <td>0.15170</td>\n      <td>0.10490</td>\n      <td>0.07174</td>\n      <td>0.2642</td>\n      <td>0.06953</td>\n      <td>1</td>\n    </tr>\n    <tr>\n      <th>481</th>\n      <td>13.900</td>\n      <td>19.24</td>\n      <td>88.73</td>\n      <td>602.9</td>\n      <td>0.07991</td>\n      <td>0.05326</td>\n      <td>0.02995</td>\n      <td>0.02070</td>\n      <td>0.1579</td>\n      <td>0.05594</td>\n      <td>...</td>\n      <td>26.42</td>\n      <td>104.40</td>\n      <td>830.5</td>\n      <td>0.10640</td>\n      <td>0.14150</td>\n      <td>0.16730</td>\n      <td>0.08150</td>\n      <td>0.2356</td>\n      <td>0.07603</td>\n      <td>1</td>\n    </tr>\n    <tr>\n      <th>115</th>\n      <td>11.930</td>\n      <td>21.53</td>\n      <td>76.53</td>\n      <td>438.6</td>\n      <td>0.09768</td>\n      <td>0.07849</td>\n      <td>0.03328</td>\n      <td>0.02008</td>\n      <td>0.1688</td>\n      <td>0.06194</td>\n      <td>...</td>\n      <td>26.15</td>\n      <td>87.54</td>\n      <td>583.0</td>\n      <td>0.15000</td>\n      <td>0.23990</td>\n      <td>0.15030</td>\n      <td>0.07247</td>\n      <td>0.2438</td>\n      <td>0.08541</td>\n      <td>1</td>\n    </tr>\n    <tr>\n      <th>312</th>\n      <td>12.760</td>\n      <td>13.37</td>\n      <td>82.29</td>\n      <td>504.1</td>\n      <td>0.08794</td>\n      <td>0.07948</td>\n      <td>0.04052</td>\n      <td>0.02548</td>\n      <td>0.1601</td>\n      <td>0.06140</td>\n      <td>...</td>\n      <td>16.40</td>\n      <td>92.04</td>\n      <td>618.8</td>\n      <td>0.11940</td>\n      <td>0.22080</td>\n      <td>0.17690</td>\n      <td>0.08411</td>\n      <td>0.2564</td>\n      <td>0.08253</td>\n      <td>1</td>\n    </tr>\n  </tbody>\n</table>\n<p>10 rows × 31 columns</p>\n</div>"
     },
     "execution_count": 19,
     "metadata": {},
     "output_type": "execute_result"
    }
   ],
   "source": [
    "breast = load_breast_cancer()\n",
    "\n",
    "x = DataFrame(breast[\"data\"], columns=breast[\"feature_names\"]).sample(10)\n",
    "y = pandas.DataFrame(breast[\"target\"], columns=[\"label\"])\n",
    "\n",
    "dataset = x.join(y)\n",
    "dataset"
   ],
   "metadata": {
    "collapsed": false,
    "pycharm": {
     "name": "#%%\n"
    }
   }
  },
  {
   "cell_type": "code",
   "execution_count": null,
   "outputs": [],
   "source": [],
   "metadata": {
    "collapsed": false,
    "pycharm": {
     "name": "#%%\n"
    }
   }
  }
 ],
 "metadata": {
  "kernelspec": {
   "display_name": "Python 3",
   "language": "python",
   "name": "python3"
  },
  "language_info": {
   "codemirror_mode": {
    "name": "ipython",
    "version": 2
   },
   "file_extension": ".py",
   "mimetype": "text/x-python",
   "name": "python",
   "nbconvert_exporter": "python",
   "pygments_lexer": "ipython2",
   "version": "2.7.6"
  }
 },
 "nbformat": 4,
 "nbformat_minor": 0
}