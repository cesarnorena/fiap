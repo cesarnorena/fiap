{
 "nbformat": 4,
 "nbformat_minor": 0,
 "metadata": {
  "colab": {
   "name": "YOLO v4 - Criando um dataset.ipynb",
   "provenance": [],
   "collapsed_sections": []
  },
  "kernelspec": {
   "name": "python3",
   "display_name": "Python 3"
  },
  "accelerator": "GPU",
  "gpuClass": "standard"
 },
 "cells": [
  {
   "cell_type": "markdown",
   "metadata": {
    "id": "gvnZra8OXj8U",
    "pycharm": {
     "name": "#%% md\n"
    }
   },
   "source": [
    "# YOLOv4 - Como criar sua própria base de imagens"
   ]
  },
  {
   "cell_type": "markdown",
   "metadata": {
    "id": "W3mr1n76gN-1",
    "pycharm": {
     "name": "#%% md\n"
    }
   },
   "source": [
    "O nosso conjunto de imagens customizado para fazer o treinamento com o YOLO deve conter:\n",
    "\n",
    "* Imagens dos objetos que queremos reconhecer, já catalogadas (com os arquivos annotation)\n",
    "* Arquivos obj.data e obj.names \n",
    "* Arquivo .cfg customizado\n",
    "* Arquivo train.txt (test.txt é opcional)"
   ]
  },
  {
   "cell_type": "markdown",
   "metadata": {
    "id": "6N5AYMarjtZ_",
    "pycharm": {
     "name": "#%% md\n"
    }
   },
   "source": [
    "Há duas maneiras principais para reunir as imagens\n",
    "* Baixar de um dataset ou repositório como o Open Images Dataset, um dataset da Google que disponibiliza imagens para mais de 600 classes diferentes.\n",
    "A maneira mais prática atualmente para baixar as imagens do Open Images Dataset é usar a ferramenta [OIDv4 Toolkit](https://github.com/EscVM/OIDv4_ToolKit). \n",
    "* A segunda maneira consiste em baixar manualmente as imagens do objeto e catalogá-las utilizando alguma ferramenta de anotação (annotation tool) para obter os txt com as anotações. Esse é um processo manual e que pode ser bastante demorado, portanto recomendamos verificar se a classe escolhida não está no Dataset do Google. Se você não encontrou no Open Images Dataset o objeto que deseja detectar então é necessário baixar manualmente. Por ser um método mais demorado e cansativo nós recomendamos fazer somente caso não tiver outra maneira de conseguir facilmente baixar essa imagens."
   ]
  },
  {
   "cell_type": "markdown",
   "metadata": {
    "id": "R_lNQfvXcXEl",
    "pycharm": {
     "name": "#%% md\n"
    }
   },
   "source": [
    "# Coletando e catalogando as imagens do objeto para treinamento"
   ]
  },
  {
   "cell_type": "markdown",
   "metadata": {
    "id": "PS0oGeB4X59W",
    "pycharm": {
     "name": "#%% md\n"
    }
   },
   "source": [
    "## Etapa 1 - Clonando o repositório da ferramenta"
   ]
  },
  {
   "cell_type": "code",
   "metadata": {
    "id": "UyucoO5z9hM5",
    "outputId": "8ccbf8a4-cb06-430a-e87a-41179bba3641",
    "colab": {
     "base_uri": "https://localhost:8080/"
    },
    "pycharm": {
     "name": "#%%\n"
    }
   },
   "source": [
    "!git clone https://github.com/EscVM/OIDv4_ToolKit.git"
   ],
   "execution_count": 1,
   "outputs": [
    {
     "name": "stdout",
     "output_type": "stream",
     "text": [
      "fatal: destination path 'OIDv4_ToolKit' already exists and is not an empty directory.\r\n"
     ]
    }
   ]
  },
  {
   "cell_type": "markdown",
   "metadata": {
    "id": "0HGydJaEYTdj",
    "pycharm": {
     "name": "#%% md\n"
    }
   },
   "source": [
    "## Etapa 2 - Acessando o diretório da ferramenta "
   ]
  },
  {
   "cell_type": "code",
   "metadata": {
    "id": "4CcU-d44RShN",
    "outputId": "e7f2ea89-dca2-4996-e80e-803f5863d62b",
    "colab": {
     "base_uri": "https://localhost:8080/"
    },
    "pycharm": {
     "name": "#%%\n"
    }
   },
   "source": [
    "!ls"
   ],
   "execution_count": 1,
   "outputs": [
    {
     "name": "stdout",
     "output_type": "stream",
     "text": [
      "Introduction_nlp_spa_cy.ipynb          last_class.ipynb\r\n",
      "\u001B[1m\u001B[36mOIDv4_ToolKit\u001B[m\u001B[m                          link\r\n",
      "README.md                              \u001B[1m\u001B[36msignature_detection\u001B[m\u001B[m\r\n",
      "\u001B[1m\u001B[36mcheckpoint-01\u001B[m\u001B[m                          \u001B[1m\u001B[36msprint-01\u001B[m\u001B[m\r\n",
      "class_2022_08_24_image_detection.ipynb \u001B[1m\u001B[36mtreinamento_yolo\u001B[m\u001B[m\r\n",
      "\u001B[1m\u001B[36mdatasets\u001B[m\u001B[m                               \u001B[1m\u001B[36mweb\u001B[m\u001B[m\r\n",
      "issue_table.csv                        word_classification_v1.ipynb\r\n",
      "issue_table_v2.csv                     word_classification_v2.ipynb\r\n"
     ]
    }
   ]
  },
  {
   "cell_type": "markdown",
   "metadata": {
    "id": "FWLutEtfYrrh",
    "pycharm": {
     "name": "#%% md\n"
    }
   },
   "source": [
    "## Etapa 3 - Instalando todas as bibliotecas necessárias"
   ]
  },
  {
   "cell_type": "code",
   "metadata": {
    "id": "uUtMalvNRcF3",
    "outputId": "e2d64c99-1ce6-4651-9454-e5a9e5176e80",
    "colab": {
     "base_uri": "https://localhost:8080/"
    },
    "pycharm": {
     "name": "#%%\n"
    }
   },
   "source": [
    "!pip3 install -r OIDv4_ToolKit/requirements.txt"
   ],
   "execution_count": 2,
   "outputs": [
    {
     "name": "stdout",
     "output_type": "stream",
     "text": [
      "\u001B[33mDEPRECATION: Configuring installation scheme with distutils config files is deprecated and will no longer work in the near future. If you are using a Homebrew or Linuxbrew Python, please see discussion at https://github.com/Homebrew/homebrew-core/issues/76621\u001B[0m\u001B[33m\r\n",
      "\u001B[0mLooking in indexes: https://pypi.org/simple, https://pypi.ifoodcorp.com.br\r\n",
      "Requirement already satisfied: pandas in /usr/local/lib/python3.9/site-packages (from -r OIDv4_ToolKit/requirements.txt (line 1)) (1.4.3)\r\n",
      "Requirement already satisfied: numpy in /usr/local/lib/python3.9/site-packages (from -r OIDv4_ToolKit/requirements.txt (line 2)) (1.23.1)\r\n",
      "Requirement already satisfied: awscli in /usr/local/lib/python3.9/site-packages (from -r OIDv4_ToolKit/requirements.txt (line 3)) (1.25.60)\r\n",
      "Requirement already satisfied: urllib3 in /usr/local/lib/python3.9/site-packages (from -r OIDv4_ToolKit/requirements.txt (line 5)) (1.26.11)\r\n",
      "Requirement already satisfied: tqdm in /usr/local/lib/python3.9/site-packages (from -r OIDv4_ToolKit/requirements.txt (line 7)) (4.64.0)\r\n",
      "Requirement already satisfied: opencv-python in /usr/local/lib/python3.9/site-packages (from -r OIDv4_ToolKit/requirements.txt (line 9)) (4.6.0.66)\r\n",
      "Requirement already satisfied: pytz>=2020.1 in /usr/local/lib/python3.9/site-packages (from pandas->-r OIDv4_ToolKit/requirements.txt (line 1)) (2022.2.1)\r\n",
      "Requirement already satisfied: python-dateutil>=2.8.1 in /usr/local/lib/python3.9/site-packages (from pandas->-r OIDv4_ToolKit/requirements.txt (line 1)) (2.8.2)\r\n",
      "Requirement already satisfied: botocore==1.27.59 in /usr/local/lib/python3.9/site-packages (from awscli->-r OIDv4_ToolKit/requirements.txt (line 3)) (1.27.59)\r\n",
      "Requirement already satisfied: rsa<4.8,>=3.1.2 in /usr/local/lib/python3.9/site-packages (from awscli->-r OIDv4_ToolKit/requirements.txt (line 3)) (4.7.2)\r\n",
      "Requirement already satisfied: PyYAML<5.5,>=3.10 in /usr/local/lib/python3.9/site-packages (from awscli->-r OIDv4_ToolKit/requirements.txt (line 3)) (5.4.1)\r\n",
      "Requirement already satisfied: docutils<0.17,>=0.10 in /usr/local/lib/python3.9/site-packages (from awscli->-r OIDv4_ToolKit/requirements.txt (line 3)) (0.16)\r\n",
      "Requirement already satisfied: colorama<0.4.5,>=0.2.5 in /usr/local/lib/python3.9/site-packages (from awscli->-r OIDv4_ToolKit/requirements.txt (line 3)) (0.4.4)\r\n",
      "Requirement already satisfied: s3transfer<0.7.0,>=0.6.0 in /Users/cesarnorena/Library/Python/3.9/lib/python/site-packages (from awscli->-r OIDv4_ToolKit/requirements.txt (line 3)) (0.6.0)\r\n",
      "Requirement already satisfied: jmespath<2.0.0,>=0.7.1 in /Users/cesarnorena/Library/Python/3.9/lib/python/site-packages (from botocore==1.27.59->awscli->-r OIDv4_ToolKit/requirements.txt (line 3)) (0.10.0)\r\n",
      "Requirement already satisfied: six>=1.5 in /usr/local/lib/python3.9/site-packages (from python-dateutil>=2.8.1->pandas->-r OIDv4_ToolKit/requirements.txt (line 1)) (1.16.0)\r\n",
      "Requirement already satisfied: pyasn1>=0.1.3 in /usr/local/lib/python3.9/site-packages (from rsa<4.8,>=3.1.2->awscli->-r OIDv4_ToolKit/requirements.txt (line 3)) (0.4.8)\r\n",
      "\u001B[33mDEPRECATION: Configuring installation scheme with distutils config files is deprecated and will no longer work in the near future. If you are using a Homebrew or Linuxbrew Python, please see discussion at https://github.com/Homebrew/homebrew-core/issues/76621\u001B[0m\u001B[33m\r\n",
      "\u001B[0m"
     ]
    }
   ]
  },
  {
   "cell_type": "markdown",
   "metadata": {
    "id": "At8ek4zlZIyT",
    "pycharm": {
     "name": "#%% md\n"
    }
   },
   "source": [
    "## Etapa 4 - Fazendo o download das imagens"
   ]
  },
  {
   "cell_type": "markdown",
   "metadata": {
    "id": "DmGzBS8P2je8",
    "pycharm": {
     "name": "#%% md\n"
    }
   },
   "source": [
    "### Conjunto de imagens de Treinamento\n",
    "\n",
    "- https://storage.googleapis.com/openimages/web/index.html"
   ]
  },
  {
   "cell_type": "code",
   "metadata": {
    "id": "5M5F3fWDSGzj",
    "outputId": "e0cf6356-8e6e-4dc7-ee35-62b2e60c0509",
    "colab": {
     "base_uri": "https://localhost:8080/"
    },
    "pycharm": {
     "name": "#%%\n"
    }
   },
   "source": [
    "!python3 OIDv4_ToolKit/main.py downloader --classes Car Bicycle Motorcycle --type_csv train --limit 100 --multiclasses 1"
   ],
   "execution_count": 6,
   "outputs": [
    {
     "name": "stdout",
     "output_type": "stream",
     "text": [
      "\u001B[92m\r\n",
      "\t\t   ___   _____  ______            _    _    \r\n",
      "\t\t .'   `.|_   _||_   _ `.         | |  | |   \r\n",
      "\t\t/  .-.  \\ | |    | | `. \\ _   __ | |__| |_  \r\n",
      "\t\t| |   | | | |    | |  | |[ \\ [  ]|____   _| \r\n",
      "\t\t\\  `-'  /_| |_  _| |_.' / \\ \\/ /     _| |_  \r\n",
      "\t\t `.___.'|_____||______.'   \\__/     |_____|\r\n",
      "\t\u001B[0m\r\n",
      "\u001B[92m\r\n",
      "             _____                    _                 _             \r\n",
      "            (____ \\                  | |               | |            \r\n",
      "             _   \\ \\ ___  _ _ _ ____ | | ___   ____  _ | | ____  ____ \r\n",
      "            | |   | / _ \\| | | |  _ \\| |/ _ \\ / _  |/ || |/ _  )/ ___)\r\n",
      "            | |__/ / |_| | | | | | | | | |_| ( ( | ( (_| ( (/ /| |    \r\n",
      "            |_____/ \\___/ \\____|_| |_|_|\\___/ \\_||_|\\____|\\____)_|    \r\n",
      "                                                          \r\n",
      "        \u001B[0m\r\n",
      "    [INFO] | Downloading ['Car', 'Bicycle', 'Motorcycle'] together.\u001B[0m\r\n",
      "\u001B[91m   [ERROR] | Missing the class-descriptions-boxable.csv file.\u001B[0m\r\n",
      "\u001B[94m[DOWNLOAD] | Do you want to download the missing file? [Y/n] \u001B[0m^C\r\n",
      "Traceback (most recent call last):\r\n",
      "  File \"/Users/cesarnorena/Repos/fiap/cyber-security/OIDv4_ToolKit/main.py\", line 37, in <module>\r\n",
      "    bounding_boxes_images(args, DEFAULT_OID_DIR)\r\n",
      "  File \"/Users/cesarnorena/Repos/fiap/cyber-security/OIDv4_ToolKit/modules/bounding_boxes.py\", line 101, in bounding_boxes_images\r\n",
      "    error_csv(name_file_class, csv_dir, args.yes)\r\n",
      "  File \"/Users/cesarnorena/Repos/fiap/cyber-security/OIDv4_ToolKit/modules/csv_downloader.py\", line 38, in error_csv\r\n",
      "    ans = input(bc.OKBLUE + \"Do you want to download the missing file? [Y/n] \" + bc.ENDC)\r\n",
      "KeyboardInterrupt\r\n"
     ]
    }
   ]
  },
  {
   "cell_type": "markdown",
   "metadata": {
    "id": "kPx2xPlW24IX",
    "pycharm": {
     "name": "#%% md\n"
    }
   },
   "source": [
    "### Conjunto de imagens de Validação"
   ]
  },
  {
   "cell_type": "code",
   "metadata": {
    "id": "pxkMKV4JZ-mW",
    "outputId": "cd6d24af-f411-4727-fdb3-468de7cbd82a",
    "colab": {
     "base_uri": "https://localhost:8080/"
    },
    "pycharm": {
     "name": "#%%\n"
    }
   },
   "source": [
    "!python3 OIDv4_ToolKit/main.py downloader --classes Car Bicycle Motorcycle --type_csv test --limit 100 --multiclasses 1"
   ],
   "execution_count": null,
   "outputs": [
    {
     "output_type": "stream",
     "name": "stdout",
     "text": [
      "\u001B[92m\n",
      "\t\t   ___   _____  ______            _    _    \n",
      "\t\t .'   `.|_   _||_   _ `.         | |  | |   \n",
      "\t\t/  .-.  \\ | |    | | `. \\ _   __ | |__| |_  \n",
      "\t\t| |   | | | |    | |  | |[ \\ [  ]|____   _| \n",
      "\t\t\\  `-'  /_| |_  _| |_.' / \\ \\/ /     _| |_  \n",
      "\t\t `.___.'|_____||______.'   \\__/     |_____|\n",
      "\t\u001B[0m\n",
      "\u001B[92m\n",
      "             _____                    _                 _             \n",
      "            (____ \\                  | |               | |            \n",
      "             _   \\ \\ ___  _ _ _ ____ | | ___   ____  _ | | ____  ____ \n",
      "            | |   | / _ \\| | | |  _ \\| |/ _ \\ / _  |/ || |/ _  )/ ___)\n",
      "            | |__/ / |_| | | | | | | | | |_| ( ( | ( (_| ( (/ /| |    \n",
      "            |_____/ \\___/ \\____|_| |_|_|\\___/ \\_||_|\\____|\\____)_|    \n",
      "                                                          \n",
      "        \u001B[0m\n",
      "    [INFO] | Downloading ['Apple', 'Coffee cup', 'Horse'] together.\u001B[0m\n",
      "\u001B[91m   [ERROR] | Missing the test-annotations-bbox.csv file.\u001B[0m\n",
      "\u001B[94m[DOWNLOAD] | Do you want to download the missing file? [Y/n] \u001B[0mY\n",
      "...100%, 49 MB, 88138 KB/s, 0 seconds passed\n",
      "\u001B[94m[DOWNLOAD] | File test-annotations-bbox.csv downloaded into OID/csv_folder/test-annotations-bbox.csv.\u001B[0m\n",
      "\n",
      "\u001B[95mApple\u001B[0m\n",
      "    [INFO] | Downloading test images.\u001B[0m\n",
      "    [INFO] | [INFO] Found 144 online images for test.\u001B[0m\n",
      "    [INFO] | Limiting to 100 images.\u001B[0m\n",
      "    [INFO] | Download of 100 images in test.\u001B[0m\n",
      "100% 100/100 [00:37<00:00,  2.63it/s]\n",
      "    [INFO] | Done!\u001B[0m\n",
      "    [INFO] | Creating labels for Apple of test.\u001B[0m\n",
      "    [INFO] | Labels creation completed.\u001B[0m\n",
      "\n",
      "\u001B[95mCoffee cup\u001B[0m\n",
      "    [INFO] | Downloading test images.\u001B[0m\n",
      "    [INFO] | [INFO] Found 409 online images for test.\u001B[0m\n",
      "    [INFO] | Limiting to 100 images.\u001B[0m\n",
      "    [INFO] | Download of 100 images in test.\u001B[0m\n",
      "100% 100/100 [00:38<00:00,  2.62it/s]\n",
      "    [INFO] | Done!\u001B[0m\n",
      "    [INFO] | Creating labels for Coffee cup of test.\u001B[0m\n",
      "    [INFO] | Labels creation completed.\u001B[0m\n",
      "\n",
      "\u001B[95mHorse\u001B[0m\n",
      "    [INFO] | Downloading test images.\u001B[0m\n",
      "    [INFO] | [INFO] Found 794 online images for test.\u001B[0m\n",
      "    [INFO] | Limiting to 100 images.\u001B[0m\n",
      "    [INFO] | Download of 100 images in test.\u001B[0m\n",
      "100% 100/100 [00:38<00:00,  2.62it/s]\n",
      "    [INFO] | Done!\u001B[0m\n",
      "    [INFO] | Creating labels for Horse of test.\u001B[0m\n",
      "    [INFO] | Labels creation completed.\u001B[0m\n"
     ]
    }
   ]
  },
  {
   "cell_type": "markdown",
   "metadata": {
    "id": "qV818C8StBBB",
    "pycharm": {
     "name": "#%% md\n"
    }
   },
   "source": [
    "## Etapa 5 - Convertendo os arquivos de anotação"
   ]
  },
  {
   "cell_type": "markdown",
   "metadata": {
    "id": "INFDGAt7u2GX",
    "pycharm": {
     "name": "#%% md\n"
    }
   },
   "source": [
    "### 1. Colocar as classes no arquivo classes.txt"
   ]
  },
  {
   "cell_type": "code",
   "metadata": {
    "id": "9GWaBFIqegFC",
    "outputId": "6ba13581-c433-483a-bd22-790e071f54ea",
    "colab": {
     "base_uri": "https://localhost:8080/"
    },
    "pycharm": {
     "name": "#%%\n"
    }
   },
   "source": [
    "!cat OIDv4_ToolKit/classes.txt"
   ],
   "execution_count": 3,
   "outputs": [
    {
     "name": "stdout",
     "output_type": "stream",
     "text": [
      "Car\r\n",
      "Bicycle\r\n",
      "Motorcycle\r\n"
     ]
    }
   ]
  },
  {
   "cell_type": "code",
   "metadata": {
    "id": "fw8RPcn5euoA",
    "pycharm": {
     "name": "#%%\n"
    }
   },
   "source": [
    "!echo -e 'Car\\nBicycle\\nMotorcycle' > OIDv4_ToolKit/classes.txt"
   ],
   "execution_count": 4,
   "outputs": []
  },
  {
   "cell_type": "markdown",
   "metadata": {
    "id": "s2JDmfEbuOHH",
    "pycharm": {
     "name": "#%% md\n"
    }
   },
   "source": [
    "### 2. Baixar o arquivo converter_annotations.py e adicione-o ao diretório"
   ]
  },
  {
   "cell_type": "code",
   "metadata": {
    "id": "lG-n37GKf4Pp",
    "outputId": "af35086b-c0f6-4880-d172-98d4b7fef327",
    "colab": {
     "base_uri": "https://localhost:8080/"
    },
    "pycharm": {
     "name": "#%%\n"
    }
   },
   "source": [
    "!ls treinamento_yolo/"
   ],
   "execution_count": 6,
   "outputs": [
    {
     "name": "stdout",
     "output_type": "stream",
     "text": [
      "converter_annotations.py gerar_test.py            gerar_train.py\r\n"
     ]
    }
   ]
  },
  {
   "cell_type": "markdown",
   "metadata": {
    "id": "ll5d8wUOuklN",
    "pycharm": {
     "name": "#%% md\n"
    }
   },
   "source": [
    "### 3. Executar o arquivo de conversão\n",
    "\n"
   ]
  },
  {
   "cell_type": "code",
   "metadata": {
    "id": "-sSdpqGCiMkE",
    "outputId": "27ac1a68-95b4-4858-9b13-47844acb2a13",
    "colab": {
     "base_uri": "https://localhost:8080/"
    },
    "pycharm": {
     "name": "#%%\n"
    }
   },
   "source": [
    "!python3 treinamento_yolo/converter_annotations.py"
   ],
   "execution_count": 22,
   "outputs": [
    {
     "name": "stdout",
     "output_type": "stream",
     "text": [
      "Subdiretorio atual: train\r\n",
      "Convertendo os annotations para a classe:  Car_Bicycle_Motorcycle\r\n",
      "100%|█████████████████████████████████████████| 100/100 [00:03<00:00, 32.38it/s]\r\n"
     ]
    }
   ]
  },
  {
   "cell_type": "markdown",
   "metadata": {
    "id": "917MlTGGfEOj",
    "pycharm": {
     "name": "#%% md\n"
    }
   },
   "source": [
    "## Etapa 6 - Compactar o dataset "
   ]
  },
  {
   "cell_type": "code",
   "metadata": {
    "id": "Nm4AOqNajiJ9",
    "outputId": "e641fcd6-7556-4bc6-a154-13bcfdd36bd2",
    "colab": {
     "base_uri": "https://localhost:8080/"
    },
    "pycharm": {
     "name": "#%%\n"
    }
   },
   "source": [
    "cd OID/Dataset/train/"
   ],
   "execution_count": null,
   "outputs": [
    {
     "output_type": "stream",
     "name": "stdout",
     "text": [
      "/content/OIDv4_ToolKit/OID/Dataset/train\n"
     ]
    }
   ]
  },
  {
   "cell_type": "code",
   "metadata": {
    "id": "8R744ykEj2HY",
    "outputId": "f0e86ee9-3060-4aa8-adf3-b9f44e7e8179",
    "colab": {
     "base_uri": "https://localhost:8080/"
    },
    "pycharm": {
     "name": "#%%\n"
    }
   },
   "source": [
    "ls"
   ],
   "execution_count": null,
   "outputs": [
    {
     "output_type": "stream",
     "name": "stdout",
     "text": [
      "\u001B[0m\u001B[01;34m'Apple_Coffee cup_Horse'\u001B[0m/\n"
     ]
    }
   ]
  },
  {
   "cell_type": "code",
   "metadata": {
    "id": "YDBpEyQDj5o2",
    "outputId": "34247942-1147-4dc6-d004-ca13d00d1a73",
    "colab": {
     "base_uri": "https://localhost:8080/"
    },
    "pycharm": {
     "name": "#%%\n"
    }
   },
   "source": [
    "!zip -r ../../../obj.zip obj -x obj/Label/*"
   ],
   "execution_count": null,
   "outputs": [
    {
     "output_type": "stream",
     "name": "stdout",
     "text": [
      "\tzip warning: name not matched: obj\n",
      "\n",
      "zip error: Nothing to do! (../../../obj.zip)\n"
     ]
    }
   ]
  },
  {
   "cell_type": "code",
   "metadata": {
    "id": "xksgbTt8kouv",
    "outputId": "61b19601-1cf8-43c9-a885-c3a2ed03f249",
    "colab": {
     "base_uri": "https://localhost:8080/"
    },
    "pycharm": {
     "name": "#%%\n"
    }
   },
   "source": [
    "ls"
   ],
   "execution_count": null,
   "outputs": [
    {
     "output_type": "stream",
     "name": "stdout",
     "text": [
      "\u001B[0m\u001B[01;34m'Apple_Coffee cup_Horse'\u001B[0m/\n"
     ]
    }
   ]
  },
  {
   "cell_type": "code",
   "metadata": {
    "id": "sn3CGKV5k07h",
    "outputId": "235dfaa4-c1e7-435e-ec80-0f8f18f0e659",
    "colab": {
     "base_uri": "https://localhost:8080/"
    },
    "pycharm": {
     "name": "#%%\n"
    }
   },
   "source": [
    "cd ../../../../"
   ],
   "execution_count": null,
   "outputs": [
    {
     "output_type": "stream",
     "name": "stdout",
     "text": [
      "/content\n"
     ]
    }
   ]
  },
  {
   "cell_type": "code",
   "metadata": {
    "id": "WZWa1gL3k48c",
    "outputId": "ba78fa3a-4e9e-4ac6-8c07-f86fbd13f0b1",
    "colab": {
     "base_uri": "https://localhost:8080/"
    },
    "pycharm": {
     "name": "#%%\n"
    }
   },
   "source": [
    "ls"
   ],
   "execution_count": null,
   "outputs": [
    {
     "output_type": "stream",
     "name": "stdout",
     "text": [
      "\u001B[0m\u001B[01;34mgdrive\u001B[0m/  \u001B[01;34m__MACOSX\u001B[0m/  \u001B[01;34mOIDv4_ToolKit\u001B[0m/  \u001B[01;34msample_data\u001B[0m/  \u001B[01;34mTreinamentoYOLO\u001B[0m/\n"
     ]
    }
   ]
  },
  {
   "cell_type": "code",
   "metadata": {
    "id": "oqcY9-5LlMid",
    "outputId": "20ba6a77-0ee0-40ad-a860-c36ffb8f0b08",
    "colab": {
     "base_uri": "https://localhost:8080/"
    },
    "pycharm": {
     "name": "#%%\n"
    }
   },
   "source": [
    "cd OIDv4_ToolKit/"
   ],
   "execution_count": null,
   "outputs": [
    {
     "output_type": "stream",
     "name": "stdout",
     "text": [
      "/content/OIDv4_ToolKit\n"
     ]
    }
   ]
  },
  {
   "cell_type": "code",
   "metadata": {
    "id": "gb4YFh1tk_Xn",
    "colab": {
     "base_uri": "https://localhost:8080/"
    },
    "outputId": "8cefaab1-467e-4384-eca6-39ebe7cf6781",
    "pycharm": {
     "name": "#%%\n"
    }
   },
   "source": [
    "!cp ./obj.zip /content/gdrive/My\\ Drive/Cursos\\ -\\ recursos/YOLO/recursos"
   ],
   "execution_count": null,
   "outputs": [
    {
     "output_type": "stream",
     "name": "stdout",
     "text": [
      "cp: cannot stat './obj.zip': No such file or directory\n"
     ]
    }
   ]
  },
  {
   "cell_type": "code",
   "metadata": {
    "id": "Gz2Ov2vooUDC",
    "outputId": "7f8458c7-782a-42f6-bb45-0c15f92f4d4c",
    "colab": {
     "base_uri": "https://localhost:8080/"
    },
    "pycharm": {
     "name": "#%%\n"
    }
   },
   "source": [
    "ls"
   ],
   "execution_count": null,
   "outputs": [
    {
     "output_type": "stream",
     "name": "stdout",
     "text": [
      "classes.txt               \u001B[0m\u001B[01;34mimages\u001B[0m/  main.py   \u001B[01;34mOID\u001B[0m/       requirements.txt\n",
      "converter_annotations.py  LICENSE  \u001B[01;34mmodules\u001B[0m/  README.md\n"
     ]
    }
   ]
  },
  {
   "cell_type": "code",
   "metadata": {
    "id": "hB4oiSPOoa1Q",
    "outputId": "20bf25b7-ef5f-416d-b886-4fb6d0efca05",
    "colab": {
     "base_uri": "https://localhost:8080/"
    },
    "pycharm": {
     "name": "#%%\n"
    }
   },
   "source": [
    "!zip -r ../../../../valid.zip valid -x valid/Label/*"
   ],
   "execution_count": null,
   "outputs": [
    {
     "output_type": "stream",
     "name": "stdout",
     "text": [
      "\tzip warning: name not matched: valid\n",
      "\n",
      "zip error: Nothing to do! (../../../../valid.zip)\n"
     ]
    }
   ]
  },
  {
   "cell_type": "code",
   "metadata": {
    "id": "rJh_W0Gho4tM",
    "outputId": "42d74a3c-58d8-4b39-db4f-fb8356fef6c7",
    "colab": {
     "base_uri": "https://localhost:8080/"
    },
    "pycharm": {
     "name": "#%%\n"
    }
   },
   "source": [
    "cd /content/"
   ],
   "execution_count": null,
   "outputs": [
    {
     "output_type": "stream",
     "name": "stdout",
     "text": [
      "/content\n"
     ]
    }
   ]
  },
  {
   "cell_type": "code",
   "metadata": {
    "id": "smj22rvso12t",
    "outputId": "5849d03c-7a7b-40da-f80f-f6828b1f8d37",
    "colab": {
     "base_uri": "https://localhost:8080/"
    },
    "pycharm": {
     "name": "#%%\n"
    }
   },
   "source": [
    "ls"
   ],
   "execution_count": null,
   "outputs": [
    {
     "output_type": "stream",
     "name": "stdout",
     "text": [
      "\u001B[0m\u001B[01;34mgdrive\u001B[0m/  \u001B[01;34m__MACOSX\u001B[0m/  \u001B[01;34mOIDv4_ToolKit\u001B[0m/  \u001B[01;34msample_data\u001B[0m/  \u001B[01;34mTreinamentoYOLO\u001B[0m/\n"
     ]
    }
   ]
  },
  {
   "cell_type": "code",
   "metadata": {
    "id": "vAwf5nqpoxlW",
    "colab": {
     "base_uri": "https://localhost:8080/"
    },
    "outputId": "78a8de2c-8afd-4116-b55e-8eff91129285",
    "pycharm": {
     "name": "#%%\n"
    }
   },
   "source": [
    "!cp ./valid.zip /content/gdrive/My\\ Drive/Cursos\\ -\\ recursos/YOLO/recursos"
   ],
   "execution_count": null,
   "outputs": [
    {
     "output_type": "stream",
     "name": "stdout",
     "text": [
      "cp: cannot stat './valid.zip': No such file or directory\n"
     ]
    }
   ]
  },
  {
   "cell_type": "markdown",
   "metadata": {
    "id": "ve4pgC1vcF7i",
    "pycharm": {
     "name": "#%% md\n"
    }
   },
   "source": [
    "# Editando os arquivos de configuração necessários para o treinamento"
   ]
  },
  {
   "cell_type": "code",
   "metadata": {
    "id": "Ev1W2p-spOsb",
    "outputId": "14406976-5c94-4117-bf83-20adc9c48df8",
    "colab": {
     "base_uri": "https://localhost:8080/"
    },
    "pycharm": {
     "name": "#%%\n"
    }
   },
   "source": [
    "ls"
   ],
   "execution_count": null,
   "outputs": [
    {
     "output_type": "stream",
     "name": "stdout",
     "text": [
      "\u001B[0m\u001B[01;34mgdrive\u001B[0m/  \u001B[01;34m__MACOSX\u001B[0m/  \u001B[01;34mOIDv4_ToolKit\u001B[0m/  \u001B[01;34msample_data\u001B[0m/  \u001B[01;34mTreinamentoYOLO\u001B[0m/\n"
     ]
    }
   ]
  },
  {
   "cell_type": "code",
   "metadata": {
    "id": "9em6-_YZpThh",
    "outputId": "1e18003b-82a2-4062-c40c-adadef63170f",
    "colab": {
     "base_uri": "https://localhost:8080/",
     "height": 35
    },
    "pycharm": {
     "name": "#%%\n"
    }
   },
   "source": [
    "pwd"
   ],
   "execution_count": null,
   "outputs": [
    {
     "output_type": "execute_result",
     "data": {
      "text/plain": [
       "'/content'"
      ],
      "application/vnd.google.colaboratory.intrinsic+json": {
       "type": "string"
      }
     },
     "metadata": {},
     "execution_count": 29
    }
   ]
  },
  {
   "cell_type": "code",
   "metadata": {
    "id": "rbnfuDs_pJNM",
    "outputId": "997a24b4-ed82-452a-9e6a-f1fcff04f0f6",
    "colab": {
     "base_uri": "https://localhost:8080/"
    },
    "pycharm": {
     "name": "#%%\n"
    }
   },
   "source": [
    "!git clone https://github.com/AlexeyAB/darknet"
   ],
   "execution_count": null,
   "outputs": [
    {
     "output_type": "stream",
     "name": "stdout",
     "text": [
      "Cloning into 'darknet'...\n",
      "remote: Enumerating objects: 15490, done.\u001B[K\n",
      "remote: Counting objects: 100% (30/30), done.\u001B[K\n",
      "remote: Compressing objects: 100% (20/20), done.\u001B[K\n",
      "remote: Total 15490 (delta 10), reused 18 (delta 8), pack-reused 15460\u001B[K\n",
      "Receiving objects: 100% (15490/15490), 14.10 MiB | 24.15 MiB/s, done.\n",
      "Resolving deltas: 100% (10395/10395), done.\n"
     ]
    }
   ]
  },
  {
   "cell_type": "code",
   "metadata": {
    "id": "IE2svmd-pdfM",
    "outputId": "53c9730f-3078-482c-c826-2772ba5b4cda",
    "colab": {
     "base_uri": "https://localhost:8080/"
    },
    "pycharm": {
     "name": "#%%\n"
    }
   },
   "source": [
    "cd darknet/"
   ],
   "execution_count": null,
   "outputs": [
    {
     "output_type": "stream",
     "name": "stdout",
     "text": [
      "/content/darknet\n"
     ]
    }
   ]
  },
  {
   "cell_type": "code",
   "metadata": {
    "id": "Phk6aTrwphBy",
    "outputId": "5a329f8c-ddc3-478f-de94-8fc236cd8a73",
    "colab": {
     "base_uri": "https://localhost:8080/"
    },
    "pycharm": {
     "name": "#%%\n"
    }
   },
   "source": [
    "!make"
   ],
   "execution_count": null,
   "outputs": [
    {
     "output_type": "stream",
     "name": "stdout",
     "text": [
      "mkdir -p ./obj/\n",
      "mkdir -p backup\n",
      "chmod +x *.sh\n",
      "g++ -std=c++11 -std=c++11 -Iinclude/ -I3rdparty/stb/include -Wall -Wfatal-errors -Wno-unused-result -Wno-unknown-pragmas -fPIC -Ofast -c ./src/image_opencv.cpp -o obj/image_opencv.o\n",
      "g++ -std=c++11 -std=c++11 -Iinclude/ -I3rdparty/stb/include -Wall -Wfatal-errors -Wno-unused-result -Wno-unknown-pragmas -fPIC -Ofast -c ./src/http_stream.cpp -o obj/http_stream.o\n",
      "\u001B[01m\u001B[K./src/http_stream.cpp:\u001B[m\u001B[K In member function ‘\u001B[01m\u001B[Kbool JSON_sender::write(const char*)\u001B[m\u001B[K’:\n",
      "\u001B[01m\u001B[K./src/http_stream.cpp:253:21:\u001B[m\u001B[K \u001B[01;35m\u001B[Kwarning: \u001B[m\u001B[Kunused variable ‘\u001B[01m\u001B[Kn\u001B[m\u001B[K’ [\u001B[01;35m\u001B[K-Wunused-variable\u001B[m\u001B[K]\n",
      "                 int \u001B[01;35m\u001B[Kn\u001B[m\u001B[K = _write(client, outputbuf, outlen);\n",
      "                     \u001B[01;35m\u001B[K^\u001B[m\u001B[K\n",
      "\u001B[01m\u001B[K./src/http_stream.cpp:\u001B[m\u001B[K In function ‘\u001B[01m\u001B[Kvoid set_track_id(detection*, int, float, float, float, int, int, int)\u001B[m\u001B[K’:\n",
      "\u001B[01m\u001B[K./src/http_stream.cpp:867:27:\u001B[m\u001B[K \u001B[01;35m\u001B[Kwarning: \u001B[m\u001B[Kcomparison between signed and unsigned integer expressions [\u001B[01;35m\u001B[K-Wsign-compare\u001B[m\u001B[K]\n",
      "         for (int i = 0; \u001B[01;35m\u001B[Ki < v.size()\u001B[m\u001B[K; ++i) {\n",
      "                         \u001B[01;35m\u001B[K~~^~~~~~~~~~\u001B[m\u001B[K\n",
      "\u001B[01m\u001B[K./src/http_stream.cpp:875:33:\u001B[m\u001B[K \u001B[01;35m\u001B[Kwarning: \u001B[m\u001B[Kcomparison between signed and unsigned integer expressions [\u001B[01;35m\u001B[K-Wsign-compare\u001B[m\u001B[K]\n",
      "     for (int old_id = 0; \u001B[01;35m\u001B[Kold_id < old_dets.size()\u001B[m\u001B[K; ++old_id) {\n",
      "                          \u001B[01;35m\u001B[K~~~~~~~^~~~~~~~~~~~~~~~~\u001B[m\u001B[K\n",
      "\u001B[01m\u001B[K./src/http_stream.cpp:894:31:\u001B[m\u001B[K \u001B[01;35m\u001B[Kwarning: \u001B[m\u001B[Kcomparison between signed and unsigned integer expressions [\u001B[01;35m\u001B[K-Wsign-compare\u001B[m\u001B[K]\n",
      "     for (int index = 0; \u001B[01;35m\u001B[Kindex < new_dets_num*old_dets.size()\u001B[m\u001B[K; ++index) {\n",
      "                         \u001B[01;35m\u001B[K~~~~~~^~~~~~~~~~~~~~~~~~~~~~~~~~~~~~\u001B[m\u001B[K\n",
      "\u001B[01m\u001B[K./src/http_stream.cpp:930:28:\u001B[m\u001B[K \u001B[01;35m\u001B[Kwarning: \u001B[m\u001B[Kcomparison between signed and unsigned integer expressions [\u001B[01;35m\u001B[K-Wsign-compare\u001B[m\u001B[K]\n",
      "     if (\u001B[01;35m\u001B[Kold_dets_dq.size() > deque_size\u001B[m\u001B[K) old_dets_dq.pop_front();\n",
      "         \u001B[01;35m\u001B[K~~~~~~~~~~~~~~~~~~~^~~~~~~~~~~~\u001B[m\u001B[K\n",
      "gcc -Iinclude/ -I3rdparty/stb/include -Wall -Wfatal-errors -Wno-unused-result -Wno-unknown-pragmas -fPIC -Ofast -c ./src/gemm.c -o obj/gemm.o\n",
      "\u001B[01m\u001B[K./src/gemm.c:\u001B[m\u001B[K In function ‘\u001B[01m\u001B[Kconvolution_2d\u001B[m\u001B[K’:\n",
      "\u001B[01m\u001B[K./src/gemm.c:2044:15:\u001B[m\u001B[K \u001B[01;35m\u001B[Kwarning: \u001B[m\u001B[Kunused variable ‘\u001B[01m\u001B[Kout_w\u001B[m\u001B[K’ [\u001B[01;35m\u001B[K-Wunused-variable\u001B[m\u001B[K]\n",
      "     const int \u001B[01;35m\u001B[Kout_w\u001B[m\u001B[K = (w + 2 * pad - ksize) / stride + 1;    // output_width=input_width for stride=1 and pad=1\n",
      "               \u001B[01;35m\u001B[K^~~~~\u001B[m\u001B[K\n",
      "\u001B[01m\u001B[K./src/gemm.c:2043:15:\u001B[m\u001B[K \u001B[01;35m\u001B[Kwarning: \u001B[m\u001B[Kunused variable ‘\u001B[01m\u001B[Kout_h\u001B[m\u001B[K’ [\u001B[01;35m\u001B[K-Wunused-variable\u001B[m\u001B[K]\n",
      "     const int \u001B[01;35m\u001B[Kout_h\u001B[m\u001B[K = (h + 2 * pad - ksize) / stride + 1;    // output_height=input_height for stride=1 and pad=1\n",
      "               \u001B[01;35m\u001B[K^~~~~\u001B[m\u001B[K\n",
      "gcc -Iinclude/ -I3rdparty/stb/include -Wall -Wfatal-errors -Wno-unused-result -Wno-unknown-pragmas -fPIC -Ofast -c ./src/utils.c -o obj/utils.o\n",
      "\u001B[01m\u001B[K./src/utils.c:\u001B[m\u001B[K In function ‘\u001B[01m\u001B[Kcustom_hash\u001B[m\u001B[K’:\n",
      "\u001B[01m\u001B[K./src/utils.c:1061:12:\u001B[m\u001B[K \u001B[01;35m\u001B[Kwarning: \u001B[m\u001B[Ksuggest parentheses around assignment used as truth value [\u001B[01;35m\u001B[K-Wparentheses\u001B[m\u001B[K]\n",
      "     while (\u001B[01;35m\u001B[Kc\u001B[m\u001B[K = *str++)\n",
      "            \u001B[01;35m\u001B[K^\u001B[m\u001B[K\n",
      "gcc -Iinclude/ -I3rdparty/stb/include -Wall -Wfatal-errors -Wno-unused-result -Wno-unknown-pragmas -fPIC -Ofast -c ./src/dark_cuda.c -o obj/dark_cuda.o\n",
      "gcc -Iinclude/ -I3rdparty/stb/include -Wall -Wfatal-errors -Wno-unused-result -Wno-unknown-pragmas -fPIC -Ofast -c ./src/convolutional_layer.c -o obj/convolutional_layer.o\n",
      "\u001B[01m\u001B[K./src/convolutional_layer.c:\u001B[m\u001B[K In function ‘\u001B[01m\u001B[Kresize_convolutional_layer\u001B[m\u001B[K’:\n",
      "\u001B[01m\u001B[K./src/convolutional_layer.c:898:9:\u001B[m\u001B[K \u001B[01;35m\u001B[Kwarning: \u001B[m\u001B[Kunused variable ‘\u001B[01m\u001B[Kold_h\u001B[m\u001B[K’ [\u001B[01;35m\u001B[K-Wunused-variable\u001B[m\u001B[K]\n",
      "     int \u001B[01;35m\u001B[Kold_h\u001B[m\u001B[K = l->h;\n",
      "         \u001B[01;35m\u001B[K^~~~~\u001B[m\u001B[K\n",
      "\u001B[01m\u001B[K./src/convolutional_layer.c:897:9:\u001B[m\u001B[K \u001B[01;35m\u001B[Kwarning: \u001B[m\u001B[Kunused variable ‘\u001B[01m\u001B[Kold_w\u001B[m\u001B[K’ [\u001B[01;35m\u001B[K-Wunused-variable\u001B[m\u001B[K]\n",
      "     int \u001B[01;35m\u001B[Kold_w\u001B[m\u001B[K = l->w;\n",
      "         \u001B[01;35m\u001B[K^~~~~\u001B[m\u001B[K\n",
      "\u001B[01m\u001B[K./src/convolutional_layer.c:\u001B[m\u001B[K In function ‘\u001B[01m\u001B[Kforward_convolutional_layer\u001B[m\u001B[K’:\n",
      "\u001B[01m\u001B[K./src/convolutional_layer.c:1342:32:\u001B[m\u001B[K \u001B[01;35m\u001B[Kwarning: \u001B[m\u001B[Kunused variable ‘\u001B[01m\u001B[Kt_intput_size\u001B[m\u001B[K’ [\u001B[01;35m\u001B[K-Wunused-variable\u001B[m\u001B[K]\n",
      "                         size_t \u001B[01;35m\u001B[Kt_intput_size\u001B[m\u001B[K = binary_transpose_align_input(k, n, state.workspace, &l.t_bit_input, ldb_align, l.bit_align);\n",
      "                                \u001B[01;35m\u001B[K^~~~~~~~~~~~~\u001B[m\u001B[K\n",
      "gcc -Iinclude/ -I3rdparty/stb/include -Wall -Wfatal-errors -Wno-unused-result -Wno-unknown-pragmas -fPIC -Ofast -c ./src/list.c -o obj/list.o\n",
      "gcc -Iinclude/ -I3rdparty/stb/include -Wall -Wfatal-errors -Wno-unused-result -Wno-unknown-pragmas -fPIC -Ofast -c ./src/image.c -o obj/image.o\n",
      "gcc -Iinclude/ -I3rdparty/stb/include -Wall -Wfatal-errors -Wno-unused-result -Wno-unknown-pragmas -fPIC -Ofast -c ./src/activations.c -o obj/activations.o\n",
      "\u001B[01m\u001B[K./src/activations.c:\u001B[m\u001B[K In function ‘\u001B[01m\u001B[Kactivate\u001B[m\u001B[K’:\n",
      "\u001B[01m\u001B[K./src/activations.c:79:5:\u001B[m\u001B[K \u001B[01;35m\u001B[Kwarning: \u001B[m\u001B[Kenumeration value ‘\u001B[01m\u001B[KRELU6\u001B[m\u001B[K’ not handled in switch [\u001B[01;35m\u001B[K-Wswitch\u001B[m\u001B[K]\n",
      "     \u001B[01;35m\u001B[Kswitch\u001B[m\u001B[K(a){\n",
      "     \u001B[01;35m\u001B[K^~~~~~\u001B[m\u001B[K\n",
      "\u001B[01m\u001B[K./src/activations.c:79:5:\u001B[m\u001B[K \u001B[01;35m\u001B[Kwarning: \u001B[m\u001B[Kenumeration value ‘\u001B[01m\u001B[KSWISH\u001B[m\u001B[K’ not handled in switch [\u001B[01;35m\u001B[K-Wswitch\u001B[m\u001B[K]\n",
      "\u001B[01m\u001B[K./src/activations.c:79:5:\u001B[m\u001B[K \u001B[01;35m\u001B[Kwarning: \u001B[m\u001B[Kenumeration value ‘\u001B[01m\u001B[KMISH\u001B[m\u001B[K’ not handled in switch [\u001B[01;35m\u001B[K-Wswitch\u001B[m\u001B[K]\n",
      "\u001B[01m\u001B[K./src/activations.c:79:5:\u001B[m\u001B[K \u001B[01;35m\u001B[Kwarning: \u001B[m\u001B[Kenumeration value ‘\u001B[01m\u001B[KHARD_MISH\u001B[m\u001B[K’ not handled in switch [\u001B[01;35m\u001B[K-Wswitch\u001B[m\u001B[K]\n",
      "\u001B[01m\u001B[K./src/activations.c:79:5:\u001B[m\u001B[K \u001B[01;35m\u001B[Kwarning: \u001B[m\u001B[Kenumeration value ‘\u001B[01m\u001B[KNORM_CHAN\u001B[m\u001B[K’ not handled in switch [\u001B[01;35m\u001B[K-Wswitch\u001B[m\u001B[K]\n",
      "\u001B[01m\u001B[K./src/activations.c:79:5:\u001B[m\u001B[K \u001B[01;35m\u001B[Kwarning: \u001B[m\u001B[Kenumeration value ‘\u001B[01m\u001B[KNORM_CHAN_SOFTMAX\u001B[m\u001B[K’ not handled in switch [\u001B[01;35m\u001B[K-Wswitch\u001B[m\u001B[K]\n",
      "\u001B[01m\u001B[K./src/activations.c:79:5:\u001B[m\u001B[K \u001B[01;35m\u001B[Kwarning: \u001B[m\u001B[Kenumeration value ‘\u001B[01m\u001B[KNORM_CHAN_SOFTMAX_MAXVAL\u001B[m\u001B[K’ not handled in switch [\u001B[01;35m\u001B[K-Wswitch\u001B[m\u001B[K]\n",
      "\u001B[01m\u001B[K./src/activations.c:\u001B[m\u001B[K In function ‘\u001B[01m\u001B[Kgradient\u001B[m\u001B[K’:\n",
      "\u001B[01m\u001B[K./src/activations.c:310:5:\u001B[m\u001B[K \u001B[01;35m\u001B[Kwarning: \u001B[m\u001B[Kenumeration value ‘\u001B[01m\u001B[KSWISH\u001B[m\u001B[K’ not handled in switch [\u001B[01;35m\u001B[K-Wswitch\u001B[m\u001B[K]\n",
      "     \u001B[01;35m\u001B[Kswitch\u001B[m\u001B[K(a){\n",
      "     \u001B[01;35m\u001B[K^~~~~~\u001B[m\u001B[K\n",
      "\u001B[01m\u001B[K./src/activations.c:310:5:\u001B[m\u001B[K \u001B[01;35m\u001B[Kwarning: \u001B[m\u001B[Kenumeration value ‘\u001B[01m\u001B[KMISH\u001B[m\u001B[K’ not handled in switch [\u001B[01;35m\u001B[K-Wswitch\u001B[m\u001B[K]\n",
      "\u001B[01m\u001B[K./src/activations.c:310:5:\u001B[m\u001B[K \u001B[01;35m\u001B[Kwarning: \u001B[m\u001B[Kenumeration value ‘\u001B[01m\u001B[KHARD_MISH\u001B[m\u001B[K’ not handled in switch [\u001B[01;35m\u001B[K-Wswitch\u001B[m\u001B[K]\n",
      "gcc -Iinclude/ -I3rdparty/stb/include -Wall -Wfatal-errors -Wno-unused-result -Wno-unknown-pragmas -fPIC -Ofast -c ./src/im2col.c -o obj/im2col.o\n",
      "gcc -Iinclude/ -I3rdparty/stb/include -Wall -Wfatal-errors -Wno-unused-result -Wno-unknown-pragmas -fPIC -Ofast -c ./src/col2im.c -o obj/col2im.o\n",
      "gcc -Iinclude/ -I3rdparty/stb/include -Wall -Wfatal-errors -Wno-unused-result -Wno-unknown-pragmas -fPIC -Ofast -c ./src/blas.c -o obj/blas.o\n",
      "\u001B[01m\u001B[K./src/blas.c:\u001B[m\u001B[K In function ‘\u001B[01m\u001B[Kbackward_shortcut_multilayer_cpu\u001B[m\u001B[K’:\n",
      "\u001B[01m\u001B[K./src/blas.c:207:21:\u001B[m\u001B[K \u001B[01;35m\u001B[Kwarning: \u001B[m\u001B[Kunused variable ‘\u001B[01m\u001B[Kout_index\u001B[m\u001B[K’ [\u001B[01;35m\u001B[K-Wunused-variable\u001B[m\u001B[K]\n",
      "                 int \u001B[01;35m\u001B[Kout_index\u001B[m\u001B[K = id;\n",
      "                     \u001B[01;35m\u001B[K^~~~~~~~~\u001B[m\u001B[K\n",
      "\u001B[01m\u001B[K./src/blas.c:\u001B[m\u001B[K In function ‘\u001B[01m\u001B[Kfind_sim\u001B[m\u001B[K’:\n",
      "\u001B[01m\u001B[K./src/blas.c:597:59:\u001B[m\u001B[K \u001B[01;35m\u001B[Kwarning: \u001B[m\u001B[Kformat ‘\u001B[01m\u001B[K%d\u001B[m\u001B[K’ expects argument of type ‘\u001B[01m\u001B[Kint\u001B[m\u001B[K’, but argument 2 has type ‘\u001B[01m\u001B[Ksize_t {aka long unsigned int}\u001B[m\u001B[K’ [\u001B[01;35m\u001B[K-Wformat=\u001B[m\u001B[K]\n",
      "         printf(\" Error: find_sim(): sim isn't found: i = \u001B[01;35m\u001B[K%d\u001B[m\u001B[K, j = %d, z = %d \\n\", i, j, z);\n",
      "                                                          \u001B[01;35m\u001B[K~^\u001B[m\u001B[K\n",
      "                                                          \u001B[32m\u001B[K%ld\u001B[m\u001B[K\n",
      "\u001B[01m\u001B[K./src/blas.c:597:67:\u001B[m\u001B[K \u001B[01;35m\u001B[Kwarning: \u001B[m\u001B[Kformat ‘\u001B[01m\u001B[K%d\u001B[m\u001B[K’ expects argument of type ‘\u001B[01m\u001B[Kint\u001B[m\u001B[K’, but argument 3 has type ‘\u001B[01m\u001B[Ksize_t {aka long unsigned int}\u001B[m\u001B[K’ [\u001B[01;35m\u001B[K-Wformat=\u001B[m\u001B[K]\n",
      "         printf(\" Error: find_sim(): sim isn't found: i = %d, j = \u001B[01;35m\u001B[K%d\u001B[m\u001B[K, z = %d \\n\", i, j, z);\n",
      "                                                                  \u001B[01;35m\u001B[K~^\u001B[m\u001B[K\n",
      "                                                                  \u001B[32m\u001B[K%ld\u001B[m\u001B[K\n",
      "\u001B[01m\u001B[K./src/blas.c:597:75:\u001B[m\u001B[K \u001B[01;35m\u001B[Kwarning: \u001B[m\u001B[Kformat ‘\u001B[01m\u001B[K%d\u001B[m\u001B[K’ expects argument of type ‘\u001B[01m\u001B[Kint\u001B[m\u001B[K’, but argument 4 has type ‘\u001B[01m\u001B[Ksize_t {aka long unsigned int}\u001B[m\u001B[K’ [\u001B[01;35m\u001B[K-Wformat=\u001B[m\u001B[K]\n",
      "         printf(\" Error: find_sim(): sim isn't found: i = %d, j = %d, z = \u001B[01;35m\u001B[K%d\u001B[m\u001B[K \\n\", i, j, z);\n",
      "                                                                          \u001B[01;35m\u001B[K~^\u001B[m\u001B[K\n",
      "                                                                          \u001B[32m\u001B[K%ld\u001B[m\u001B[K\n",
      "\u001B[01m\u001B[K./src/blas.c:\u001B[m\u001B[K In function ‘\u001B[01m\u001B[Kfind_P_constrastive\u001B[m\u001B[K’:\n",
      "\u001B[01m\u001B[K./src/blas.c:611:68:\u001B[m\u001B[K \u001B[01;35m\u001B[Kwarning: \u001B[m\u001B[Kformat ‘\u001B[01m\u001B[K%d\u001B[m\u001B[K’ expects argument of type ‘\u001B[01m\u001B[Kint\u001B[m\u001B[K’, but argument 2 has type ‘\u001B[01m\u001B[Ksize_t {aka long unsigned int}\u001B[m\u001B[K’ [\u001B[01;35m\u001B[K-Wformat=\u001B[m\u001B[K]\n",
      "         printf(\" Error: find_P_constrastive(): P isn't found: i = \u001B[01;35m\u001B[K%d\u001B[m\u001B[K, j = %d, z = %d \\n\", i, j, z);\n",
      "                                                                   \u001B[01;35m\u001B[K~^\u001B[m\u001B[K\n",
      "                                                                   \u001B[32m\u001B[K%ld\u001B[m\u001B[K\n",
      "\u001B[01m\u001B[K./src/blas.c:611:76:\u001B[m\u001B[K \u001B[01;35m\u001B[Kwarning: \u001B[m\u001B[Kformat ‘\u001B[01m\u001B[K%d\u001B[m\u001B[K’ expects argument of type ‘\u001B[01m\u001B[Kint\u001B[m\u001B[K’, but argument 3 has type ‘\u001B[01m\u001B[Ksize_t {aka long unsigned int}\u001B[m\u001B[K’ [\u001B[01;35m\u001B[K-Wformat=\u001B[m\u001B[K]\n",
      "         printf(\" Error: find_P_constrastive(): P isn't found: i = %d, j = \u001B[01;35m\u001B[K%d\u001B[m\u001B[K, z = %d \\n\", i, j, z);\n",
      "                                                                           \u001B[01;35m\u001B[K~^\u001B[m\u001B[K\n",
      "                                                                           \u001B[32m\u001B[K%ld\u001B[m\u001B[K\n",
      "\u001B[01m\u001B[K./src/blas.c:611:84:\u001B[m\u001B[K \u001B[01;35m\u001B[Kwarning: \u001B[m\u001B[Kformat ‘\u001B[01m\u001B[K%d\u001B[m\u001B[K’ expects argument of type ‘\u001B[01m\u001B[Kint\u001B[m\u001B[K’, but argument 4 has type ‘\u001B[01m\u001B[Ksize_t {aka long unsigned int}\u001B[m\u001B[K’ [\u001B[01;35m\u001B[K-Wformat=\u001B[m\u001B[K]\n",
      "         printf(\" Error: find_P_constrastive(): P isn't found: i = %d, j = %d, z = \u001B[01;35m\u001B[K%d\u001B[m\u001B[K \\n\", i, j, z);\n",
      "                                                                                   \u001B[01;35m\u001B[K~^\u001B[m\u001B[K\n",
      "                                                                                   \u001B[32m\u001B[K%ld\u001B[m\u001B[K\n",
      "\u001B[01m\u001B[K./src/blas.c:\u001B[m\u001B[K In function ‘\u001B[01m\u001B[KP_constrastive_f\u001B[m\u001B[K’:\n",
      "\u001B[01m\u001B[K./src/blas.c:651:79:\u001B[m\u001B[K \u001B[01;35m\u001B[Kwarning: \u001B[m\u001B[Kformat ‘\u001B[01m\u001B[K%d\u001B[m\u001B[K’ expects argument of type ‘\u001B[01m\u001B[Kint\u001B[m\u001B[K’, but argument 3 has type ‘\u001B[01m\u001B[Ksize_t {aka long unsigned int}\u001B[m\u001B[K’ [\u001B[01;35m\u001B[K-Wformat=\u001B[m\u001B[K]\n",
      "         fprintf(stderr, \" Error: in P_constrastive must be i != l, while i = \u001B[01;35m\u001B[K%d\u001B[m\u001B[K, l = %d \\n\", i, l);\n",
      "                                                                              \u001B[01;35m\u001B[K~^\u001B[m\u001B[K\n",
      "                                                                              \u001B[32m\u001B[K%ld\u001B[m\u001B[K\n",
      "\u001B[01m\u001B[K./src/blas.c:651:87:\u001B[m\u001B[K \u001B[01;35m\u001B[Kwarning: \u001B[m\u001B[Kformat ‘\u001B[01m\u001B[K%d\u001B[m\u001B[K’ expects argument of type ‘\u001B[01m\u001B[Kint\u001B[m\u001B[K’, but argument 4 has type ‘\u001B[01m\u001B[Ksize_t {aka long unsigned int}\u001B[m\u001B[K’ [\u001B[01;35m\u001B[K-Wformat=\u001B[m\u001B[K]\n",
      "         fprintf(stderr, \" Error: in P_constrastive must be i != l, while i = %d, l = \u001B[01;35m\u001B[K%d\u001B[m\u001B[K \\n\", i, l);\n",
      "                                                                                      \u001B[01;35m\u001B[K~^\u001B[m\u001B[K\n",
      "                                                                                      \u001B[32m\u001B[K%ld\u001B[m\u001B[K\n",
      "\u001B[01m\u001B[K./src/blas.c:\u001B[m\u001B[K In function ‘\u001B[01m\u001B[KP_constrastive\u001B[m\u001B[K’:\n",
      "\u001B[01m\u001B[K./src/blas.c:785:79:\u001B[m\u001B[K \u001B[01;35m\u001B[Kwarning: \u001B[m\u001B[Kformat ‘\u001B[01m\u001B[K%d\u001B[m\u001B[K’ expects argument of type ‘\u001B[01m\u001B[Kint\u001B[m\u001B[K’, but argument 3 has type ‘\u001B[01m\u001B[Ksize_t {aka long unsigned int}\u001B[m\u001B[K’ [\u001B[01;35m\u001B[K-Wformat=\u001B[m\u001B[K]\n",
      "         fprintf(stderr, \" Error: in P_constrastive must be i != l, while i = \u001B[01;35m\u001B[K%d\u001B[m\u001B[K, l = %d \\n\", i, l);\n",
      "                                                                              \u001B[01;35m\u001B[K~^\u001B[m\u001B[K\n",
      "                                                                              \u001B[32m\u001B[K%ld\u001B[m\u001B[K\n",
      "\u001B[01m\u001B[K./src/blas.c:785:87:\u001B[m\u001B[K \u001B[01;35m\u001B[Kwarning: \u001B[m\u001B[Kformat ‘\u001B[01m\u001B[K%d\u001B[m\u001B[K’ expects argument of type ‘\u001B[01m\u001B[Kint\u001B[m\u001B[K’, but argument 4 has type ‘\u001B[01m\u001B[Ksize_t {aka long unsigned int}\u001B[m\u001B[K’ [\u001B[01;35m\u001B[K-Wformat=\u001B[m\u001B[K]\n",
      "         fprintf(stderr, \" Error: in P_constrastive must be i != l, while i = %d, l = \u001B[01;35m\u001B[K%d\u001B[m\u001B[K \\n\", i, l);\n",
      "                                                                                      \u001B[01;35m\u001B[K~^\u001B[m\u001B[K\n",
      "                                                                                      \u001B[32m\u001B[K%ld\u001B[m\u001B[K\n",
      "gcc -Iinclude/ -I3rdparty/stb/include -Wall -Wfatal-errors -Wno-unused-result -Wno-unknown-pragmas -fPIC -Ofast -c ./src/crop_layer.c -o obj/crop_layer.o\n",
      "gcc -Iinclude/ -I3rdparty/stb/include -Wall -Wfatal-errors -Wno-unused-result -Wno-unknown-pragmas -fPIC -Ofast -c ./src/dropout_layer.c -o obj/dropout_layer.o\n",
      "gcc -Iinclude/ -I3rdparty/stb/include -Wall -Wfatal-errors -Wno-unused-result -Wno-unknown-pragmas -fPIC -Ofast -c ./src/maxpool_layer.c -o obj/maxpool_layer.o\n",
      "gcc -Iinclude/ -I3rdparty/stb/include -Wall -Wfatal-errors -Wno-unused-result -Wno-unknown-pragmas -fPIC -Ofast -c ./src/softmax_layer.c -o obj/softmax_layer.o\n",
      "\u001B[01m\u001B[K./src/softmax_layer.c:\u001B[m\u001B[K In function ‘\u001B[01m\u001B[Kmake_contrastive_layer\u001B[m\u001B[K’:\n",
      "\u001B[01m\u001B[K./src/softmax_layer.c:203:101:\u001B[m\u001B[K \u001B[01;35m\u001B[Kwarning: \u001B[m\u001B[Kformat ‘\u001B[01m\u001B[K%d\u001B[m\u001B[K’ expects argument of type ‘\u001B[01m\u001B[Kint\u001B[m\u001B[K’, but argument 9 has type ‘\u001B[01m\u001B[Ksize_t {aka const long unsigned int}\u001B[m\u001B[K’ [\u001B[01;35m\u001B[K-Wformat=\u001B[m\u001B[K]\n",
      "     fprintf(stderr, \"contrastive %4d x%4d x%4d x emb_size %4d x batch: %4d  classes = %4d, step = \u001B[01;35m\u001B[K%4d\u001B[m\u001B[K \\n\", w, h, l.n, l.embedding_size, batch, l.classes, step);\n",
      "                                                                                                   \u001B[01;35m\u001B[K~~^\u001B[m\u001B[K\n",
      "                                                                                                   \u001B[32m\u001B[K%4ld\u001B[m\u001B[K\n",
      "\u001B[01m\u001B[K./src/softmax_layer.c:\u001B[m\u001B[K In function ‘\u001B[01m\u001B[Kforward_contrastive_layer\u001B[m\u001B[K’:\n",
      "\u001B[01m\u001B[K./src/softmax_layer.c:244:27:\u001B[m\u001B[K \u001B[01;35m\u001B[Kwarning: \u001B[m\u001B[Kvariable ‘\u001B[01m\u001B[Kmax_truth\u001B[m\u001B[K’ set but not used [\u001B[01;35m\u001B[K-Wunused-but-set-variable\u001B[m\u001B[K]\n",
      "                     float \u001B[01;35m\u001B[Kmax_truth\u001B[m\u001B[K = 0;\n",
      "                           \u001B[01;35m\u001B[K^~~~~~~~~\u001B[m\u001B[K\n",
      "gcc -Iinclude/ -I3rdparty/stb/include -Wall -Wfatal-errors -Wno-unused-result -Wno-unknown-pragmas -fPIC -Ofast -c ./src/data.c -o obj/data.o\n",
      "\u001B[01m\u001B[K./src/data.c:\u001B[m\u001B[K In function ‘\u001B[01m\u001B[Kload_data_detection\u001B[m\u001B[K’:\n",
      "\u001B[01m\u001B[K./src/data.c:1409:43:\u001B[m\u001B[K \u001B[01;35m\u001B[Kwarning: \u001B[m\u001B[Kvariable ‘\u001B[01m\u001B[Kr_scale\u001B[m\u001B[K’ set but not used [\u001B[01;35m\u001B[K-Wunused-but-set-variable\u001B[m\u001B[K]\n",
      "     float r1 = 0, r2 = 0, r3 = 0, r4 = 0, \u001B[01;35m\u001B[Kr_scale\u001B[m\u001B[K;\n",
      "                                           \u001B[01;35m\u001B[K^~~~~~~\u001B[m\u001B[K\n",
      "gcc -Iinclude/ -I3rdparty/stb/include -Wall -Wfatal-errors -Wno-unused-result -Wno-unknown-pragmas -fPIC -Ofast -c ./src/matrix.c -o obj/matrix.o\n",
      "gcc -Iinclude/ -I3rdparty/stb/include -Wall -Wfatal-errors -Wno-unused-result -Wno-unknown-pragmas -fPIC -Ofast -c ./src/network.c -o obj/network.o\n",
      "\u001B[01m\u001B[K./src/network.c:\u001B[m\u001B[K In function ‘\u001B[01m\u001B[Ktrain_network_waitkey\u001B[m\u001B[K’:\n",
      "\u001B[01m\u001B[K./src/network.c:435:13:\u001B[m\u001B[K \u001B[01;35m\u001B[Kwarning: \u001B[m\u001B[Kunused variable ‘\u001B[01m\u001B[Kema_period\u001B[m\u001B[K’ [\u001B[01;35m\u001B[K-Wunused-variable\u001B[m\u001B[K]\n",
      "         int \u001B[01;35m\u001B[Kema_period\u001B[m\u001B[K = (net.max_batches - ema_start_point - 1000) * (1.0 - net.ema_alpha);\n",
      "             \u001B[01;35m\u001B[K^~~~~~~~~~\u001B[m\u001B[K\n",
      "At top level:\n",
      "\u001B[01m\u001B[K./src/network.c:1269:14:\u001B[m\u001B[K \u001B[01;35m\u001B[Kwarning: \u001B[m\u001B[K‘\u001B[01m\u001B[Krelu\u001B[m\u001B[K’ defined but not used [\u001B[01;35m\u001B[K-Wunused-function\u001B[m\u001B[K]\n",
      " static float \u001B[01;35m\u001B[Krelu\u001B[m\u001B[K(float src) {\n",
      "              \u001B[01;35m\u001B[K^~~~\u001B[m\u001B[K\n",
      "gcc -Iinclude/ -I3rdparty/stb/include -Wall -Wfatal-errors -Wno-unused-result -Wno-unknown-pragmas -fPIC -Ofast -c ./src/connected_layer.c -o obj/connected_layer.o\n",
      "gcc -Iinclude/ -I3rdparty/stb/include -Wall -Wfatal-errors -Wno-unused-result -Wno-unknown-pragmas -fPIC -Ofast -c ./src/cost_layer.c -o obj/cost_layer.o\n",
      "gcc -Iinclude/ -I3rdparty/stb/include -Wall -Wfatal-errors -Wno-unused-result -Wno-unknown-pragmas -fPIC -Ofast -c ./src/parser.c -o obj/parser.o\n",
      "\u001B[01m\u001B[K./src/parser.c:\u001B[m\u001B[K In function ‘\u001B[01m\u001B[Ksave_implicit_weights\u001B[m\u001B[K’:\n",
      "\u001B[01m\u001B[K./src/parser.c:1909:9:\u001B[m\u001B[K \u001B[01;35m\u001B[Kwarning: \u001B[m\u001B[Kunused variable ‘\u001B[01m\u001B[Ki\u001B[m\u001B[K’ [\u001B[01;35m\u001B[K-Wunused-variable\u001B[m\u001B[K]\n",
      "     int \u001B[01;35m\u001B[Ki\u001B[m\u001B[K;\n",
      "         \u001B[01;35m\u001B[K^\u001B[m\u001B[K\n",
      "\u001B[01m\u001B[K./src/parser.c:\u001B[m\u001B[K In function ‘\u001B[01m\u001B[Kget_classes_multipliers\u001B[m\u001B[K’:\n",
      "\u001B[01m\u001B[K./src/parser.c:438:29:\u001B[m\u001B[K \u001B[01;35m\u001B[Kwarning: \u001B[m\u001B[Kargument 1 range [18446744071562067968, 18446744073709551615] exceeds maximum object size 9223372036854775807 [\u001B[01;35m\u001B[K-Walloc-size-larger-than=\u001B[m\u001B[K]\n",
      "         \u001B[01;35m\u001B[Kclasses_multipliers = (float *)calloc(classes_counters, sizeof(float))\u001B[m\u001B[K;\n",
      "         \u001B[01;35m\u001B[K~~~~~~~~~~~~~~~~~~~~^~~~~~~~~~~~~~~~~~~~~~~~~~~~~~~~~~~~~~~~~~~~~~~~~~\u001B[m\u001B[K\n",
      "In file included from \u001B[01m\u001B[K./src/parser.c:3:0\u001B[m\u001B[K:\n",
      "\u001B[01m\u001B[K/usr/include/stdlib.h:541:14:\u001B[m\u001B[K \u001B[01;36m\u001B[Knote: \u001B[m\u001B[Kin a call to allocation function ‘\u001B[01m\u001B[Kcalloc\u001B[m\u001B[K’ declared here\n",
      " extern void *\u001B[01;36m\u001B[Kcalloc\u001B[m\u001B[K (size_t __nmemb, size_t __size)\n",
      "              \u001B[01;36m\u001B[K^~~~~~\u001B[m\u001B[K\n",
      "gcc -Iinclude/ -I3rdparty/stb/include -Wall -Wfatal-errors -Wno-unused-result -Wno-unknown-pragmas -fPIC -Ofast -c ./src/option_list.c -o obj/option_list.o\n",
      "gcc -Iinclude/ -I3rdparty/stb/include -Wall -Wfatal-errors -Wno-unused-result -Wno-unknown-pragmas -fPIC -Ofast -c ./src/darknet.c -o obj/darknet.o\n",
      "gcc -Iinclude/ -I3rdparty/stb/include -Wall -Wfatal-errors -Wno-unused-result -Wno-unknown-pragmas -fPIC -Ofast -c ./src/detection_layer.c -o obj/detection_layer.o\n",
      "gcc -Iinclude/ -I3rdparty/stb/include -Wall -Wfatal-errors -Wno-unused-result -Wno-unknown-pragmas -fPIC -Ofast -c ./src/captcha.c -o obj/captcha.o\n",
      "gcc -Iinclude/ -I3rdparty/stb/include -Wall -Wfatal-errors -Wno-unused-result -Wno-unknown-pragmas -fPIC -Ofast -c ./src/route_layer.c -o obj/route_layer.o\n",
      "gcc -Iinclude/ -I3rdparty/stb/include -Wall -Wfatal-errors -Wno-unused-result -Wno-unknown-pragmas -fPIC -Ofast -c ./src/writing.c -o obj/writing.o\n",
      "gcc -Iinclude/ -I3rdparty/stb/include -Wall -Wfatal-errors -Wno-unused-result -Wno-unknown-pragmas -fPIC -Ofast -c ./src/box.c -o obj/box.o\n",
      "\u001B[01m\u001B[K./src/box.c:\u001B[m\u001B[K In function ‘\u001B[01m\u001B[Kbox_iou_kind\u001B[m\u001B[K’:\n",
      "\u001B[01m\u001B[K./src/box.c:154:5:\u001B[m\u001B[K \u001B[01;35m\u001B[Kwarning: \u001B[m\u001B[Kenumeration value ‘\u001B[01m\u001B[KMSE\u001B[m\u001B[K’ not handled in switch [\u001B[01;35m\u001B[K-Wswitch\u001B[m\u001B[K]\n",
      "     \u001B[01;35m\u001B[Kswitch\u001B[m\u001B[K(iou_kind) {\n",
      "     \u001B[01;35m\u001B[K^~~~~~\u001B[m\u001B[K\n",
      "\u001B[01m\u001B[K./src/box.c:\u001B[m\u001B[K In function ‘\u001B[01m\u001B[Kdiounms_sort\u001B[m\u001B[K’:\n",
      "\u001B[01m\u001B[K./src/box.c:898:27:\u001B[m\u001B[K \u001B[01;35m\u001B[Kwarning: \u001B[m\u001B[Kunused variable ‘\u001B[01m\u001B[Kbeta_prob\u001B[m\u001B[K’ [\u001B[01;35m\u001B[K-Wunused-variable\u001B[m\u001B[K]\n",
      "                     float \u001B[01;35m\u001B[Kbeta_prob\u001B[m\u001B[K = pow(dets[j].prob[k], 2) / sum_prob;\n",
      "                           \u001B[01;35m\u001B[K^~~~~~~~~\u001B[m\u001B[K\n",
      "\u001B[01m\u001B[K./src/box.c:897:27:\u001B[m\u001B[K \u001B[01;35m\u001B[Kwarning: \u001B[m\u001B[Kunused variable ‘\u001B[01m\u001B[Kalpha_prob\u001B[m\u001B[K’ [\u001B[01;35m\u001B[K-Wunused-variable\u001B[m\u001B[K]\n",
      "                     float \u001B[01;35m\u001B[Kalpha_prob\u001B[m\u001B[K = pow(dets[i].prob[k], 2) / sum_prob;\n",
      "                           \u001B[01;35m\u001B[K^~~~~~~~~~\u001B[m\u001B[K\n",
      "gcc -Iinclude/ -I3rdparty/stb/include -Wall -Wfatal-errors -Wno-unused-result -Wno-unknown-pragmas -fPIC -Ofast -c ./src/nightmare.c -o obj/nightmare.o\n",
      "gcc -Iinclude/ -I3rdparty/stb/include -Wall -Wfatal-errors -Wno-unused-result -Wno-unknown-pragmas -fPIC -Ofast -c ./src/normalization_layer.c -o obj/normalization_layer.o\n",
      "gcc -Iinclude/ -I3rdparty/stb/include -Wall -Wfatal-errors -Wno-unused-result -Wno-unknown-pragmas -fPIC -Ofast -c ./src/avgpool_layer.c -o obj/avgpool_layer.o\n",
      "gcc -Iinclude/ -I3rdparty/stb/include -Wall -Wfatal-errors -Wno-unused-result -Wno-unknown-pragmas -fPIC -Ofast -c ./src/coco.c -o obj/coco.o\n",
      "\u001B[01m\u001B[K./src/coco.c:\u001B[m\u001B[K In function ‘\u001B[01m\u001B[Kvalidate_coco_recall\u001B[m\u001B[K’:\n",
      "\u001B[01m\u001B[K./src/coco.c:248:11:\u001B[m\u001B[K \u001B[01;35m\u001B[Kwarning: \u001B[m\u001B[Kunused variable ‘\u001B[01m\u001B[Kbase\u001B[m\u001B[K’ [\u001B[01;35m\u001B[K-Wunused-variable\u001B[m\u001B[K]\n",
      "     char *\u001B[01;35m\u001B[Kbase\u001B[m\u001B[K = \"results/comp4_det_test_\";\n",
      "           \u001B[01;35m\u001B[K^~~~\u001B[m\u001B[K\n",
      "gcc -Iinclude/ -I3rdparty/stb/include -Wall -Wfatal-errors -Wno-unused-result -Wno-unknown-pragmas -fPIC -Ofast -c ./src/dice.c -o obj/dice.o\n",
      "gcc -Iinclude/ -I3rdparty/stb/include -Wall -Wfatal-errors -Wno-unused-result -Wno-unknown-pragmas -fPIC -Ofast -c ./src/yolo.c -o obj/yolo.o\n",
      "gcc -Iinclude/ -I3rdparty/stb/include -Wall -Wfatal-errors -Wno-unused-result -Wno-unknown-pragmas -fPIC -Ofast -c ./src/detector.c -o obj/detector.o\n",
      "\u001B[01m\u001B[K./src/detector.c:\u001B[m\u001B[K In function ‘\u001B[01m\u001B[Ktrain_detector\u001B[m\u001B[K’:\n",
      "\u001B[01m\u001B[K./src/detector.c:395:72:\u001B[m\u001B[K \u001B[01;35m\u001B[Kwarning: \u001B[m\u001B[Ksuggest parentheses around ‘\u001B[01m\u001B[K&&\u001B[m\u001B[K’ within ‘\u001B[01m\u001B[K||\u001B[m\u001B[K’ [\u001B[01;35m\u001B[K-Wparentheses\u001B[m\u001B[K]\n",
      "             \u001B[01;35m\u001B[K(iteration >= (iter_save + 1000) || iteration % 1000 == 0) && net.max_batches < 10000\u001B[m\u001B[K)\n",
      "             \u001B[01;35m\u001B[K~~~~~~~~~~~~~~~~~~~~~~~~~~~~~~~~~~~~~~~~~~~~~~~~~~~~~~~~~~~^~~~~~~~~~~~~~~~~~~~~~~~~~\u001B[m\u001B[K\n",
      "\u001B[01m\u001B[K./src/detector.c:328:13:\u001B[m\u001B[K \u001B[01;35m\u001B[Kwarning: \u001B[m\u001B[Kvariable ‘\u001B[01m\u001B[Kdraw_precision\u001B[m\u001B[K’ set but not used [\u001B[01;35m\u001B[K-Wunused-but-set-variable\u001B[m\u001B[K]\n",
      "         int \u001B[01;35m\u001B[Kdraw_precision\u001B[m\u001B[K = 0;\n",
      "             \u001B[01;35m\u001B[K^~~~~~~~~~~~~~\u001B[m\u001B[K\n",
      "\u001B[01m\u001B[K./src/detector.c:67:11:\u001B[m\u001B[K \u001B[01;35m\u001B[Kwarning: \u001B[m\u001B[Kunused variable ‘\u001B[01m\u001B[Kavg_contrastive_acc\u001B[m\u001B[K’ [\u001B[01;35m\u001B[K-Wunused-variable\u001B[m\u001B[K]\n",
      "     float \u001B[01;35m\u001B[Kavg_contrastive_acc\u001B[m\u001B[K = 0;\n",
      "           \u001B[01;35m\u001B[K^~~~~~~~~~~~~~~~~~~\u001B[m\u001B[K\n",
      "\u001B[01m\u001B[K./src/detector.c:\u001B[m\u001B[K In function ‘\u001B[01m\u001B[Keliminate_bdd\u001B[m\u001B[K’:\n",
      "\u001B[01m\u001B[K./src/detector.c:588:21:\u001B[m\u001B[K \u001B[01;35m\u001B[Kwarning: \u001B[m\u001B[Kstatement with no effect [\u001B[01;35m\u001B[K-Wunused-value\u001B[m\u001B[K]\n",
      "                     \u001B[01;35m\u001B[Kfor\u001B[m\u001B[K (k; buf[k + n] != '\\0'; k++)\n",
      "                     \u001B[01;35m\u001B[K^~~\u001B[m\u001B[K\n",
      "\u001B[01m\u001B[K./src/detector.c:\u001B[m\u001B[K In function ‘\u001B[01m\u001B[Kvalidate_detector\u001B[m\u001B[K’:\n",
      "\u001B[01m\u001B[K./src/detector.c:709:13:\u001B[m\u001B[K \u001B[01;35m\u001B[Kwarning: \u001B[m\u001B[Kunused variable ‘\u001B[01m\u001B[Kmkd2\u001B[m\u001B[K’ [\u001B[01;35m\u001B[K-Wunused-variable\u001B[m\u001B[K]\n",
      "         int \u001B[01;35m\u001B[Kmkd2\u001B[m\u001B[K = make_directory(buff2, 0777);\n",
      "             \u001B[01;35m\u001B[K^~~~\u001B[m\u001B[K\n",
      "\u001B[01m\u001B[K./src/detector.c:707:13:\u001B[m\u001B[K \u001B[01;35m\u001B[Kwarning: \u001B[m\u001B[Kunused variable ‘\u001B[01m\u001B[Kmkd\u001B[m\u001B[K’ [\u001B[01;35m\u001B[K-Wunused-variable\u001B[m\u001B[K]\n",
      "         int \u001B[01;35m\u001B[Kmkd\u001B[m\u001B[K = make_directory(buff, 0777);\n",
      "             \u001B[01;35m\u001B[K^~~\u001B[m\u001B[K\n",
      "\u001B[01m\u001B[K./src/detector.c:\u001B[m\u001B[K In function ‘\u001B[01m\u001B[Kvalidate_detector_map\u001B[m\u001B[K’:\n",
      "\u001B[01m\u001B[K./src/detector.c:1326:24:\u001B[m\u001B[K \u001B[01;35m\u001B[Kwarning: \u001B[m\u001B[Kvariable ‘\u001B[01m\u001B[Kcur_prob\u001B[m\u001B[K’ set but not used [\u001B[01;35m\u001B[K-Wunused-but-set-variable\u001B[m\u001B[K]\n",
      "                 double \u001B[01;35m\u001B[Kcur_prob\u001B[m\u001B[K = 0;\n",
      "                        \u001B[01;35m\u001B[K^~~~~~~~\u001B[m\u001B[K\n",
      "\u001B[01m\u001B[K./src/detector.c:1347:15:\u001B[m\u001B[K \u001B[01;35m\u001B[Kwarning: \u001B[m\u001B[Kunused variable ‘\u001B[01m\u001B[Kclass_recall\u001B[m\u001B[K’ [\u001B[01;35m\u001B[K-Wunused-variable\u001B[m\u001B[K]\n",
      "         float \u001B[01;35m\u001B[Kclass_recall\u001B[m\u001B[K = (float)tp_for_thresh_per_class[i] / ((float)tp_for_thresh_per_class[i] + (float)(truth_classes_count[i] - tp_for_thresh_per_class[i]));\n",
      "               \u001B[01;35m\u001B[K^~~~~~~~~~~~\u001B[m\u001B[K\n",
      "\u001B[01m\u001B[K./src/detector.c:1346:15:\u001B[m\u001B[K \u001B[01;35m\u001B[Kwarning: \u001B[m\u001B[Kunused variable ‘\u001B[01m\u001B[Kclass_precision\u001B[m\u001B[K’ [\u001B[01;35m\u001B[K-Wunused-variable\u001B[m\u001B[K]\n",
      "         float \u001B[01;35m\u001B[Kclass_precision\u001B[m\u001B[K = (float)tp_for_thresh_per_class[i] / ((float)tp_for_thresh_per_class[i] + (float)fp_for_thresh_per_class[i]);\n",
      "               \u001B[01;35m\u001B[K^~~~~~~~~~~~~~~\u001B[m\u001B[K\n",
      "At top level:\n",
      "\u001B[01m\u001B[K./src/detector.c:461:12:\u001B[m\u001B[K \u001B[01;35m\u001B[Kwarning: \u001B[m\u001B[K‘\u001B[01m\u001B[Kget_coco_image_id\u001B[m\u001B[K’ defined but not used [\u001B[01;35m\u001B[K-Wunused-function\u001B[m\u001B[K]\n",
      " static int \u001B[01;35m\u001B[Kget_coco_image_id\u001B[m\u001B[K(char *filename)\n",
      "            \u001B[01;35m\u001B[K^~~~~~~~~~~~~~~~~\u001B[m\u001B[K\n",
      "gcc -Iinclude/ -I3rdparty/stb/include -Wall -Wfatal-errors -Wno-unused-result -Wno-unknown-pragmas -fPIC -Ofast -c ./src/layer.c -o obj/layer.o\n",
      "gcc -Iinclude/ -I3rdparty/stb/include -Wall -Wfatal-errors -Wno-unused-result -Wno-unknown-pragmas -fPIC -Ofast -c ./src/compare.c -o obj/compare.o\n",
      "gcc -Iinclude/ -I3rdparty/stb/include -Wall -Wfatal-errors -Wno-unused-result -Wno-unknown-pragmas -fPIC -Ofast -c ./src/classifier.c -o obj/classifier.o\n",
      "\u001B[01m\u001B[K./src/classifier.c:\u001B[m\u001B[K In function ‘\u001B[01m\u001B[Ktrain_classifier\u001B[m\u001B[K’:\n",
      "\u001B[01m\u001B[K./src/classifier.c:190:13:\u001B[m\u001B[K \u001B[01;35m\u001B[Kwarning: \u001B[m\u001B[Kvariable ‘\u001B[01m\u001B[Kdraw_precision\u001B[m\u001B[K’ set but not used [\u001B[01;35m\u001B[K-Wunused-but-set-variable\u001B[m\u001B[K]\n",
      "         int \u001B[01;35m\u001B[Kdraw_precision\u001B[m\u001B[K = 0;\n",
      "             \u001B[01;35m\u001B[K^~~~~~~~~~~~~~\u001B[m\u001B[K\n",
      "\u001B[01m\u001B[K./src/classifier.c:146:9:\u001B[m\u001B[K \u001B[01;35m\u001B[Kwarning: \u001B[m\u001B[Kunused variable ‘\u001B[01m\u001B[Kcount\u001B[m\u001B[K’ [\u001B[01;35m\u001B[K-Wunused-variable\u001B[m\u001B[K]\n",
      "     int \u001B[01;35m\u001B[Kcount\u001B[m\u001B[K = 0;\n",
      "         \u001B[01;35m\u001B[K^~~~~\u001B[m\u001B[K\n",
      "\u001B[01m\u001B[K./src/classifier.c:35:11:\u001B[m\u001B[K \u001B[01;35m\u001B[Kwarning: \u001B[m\u001B[Kunused variable ‘\u001B[01m\u001B[Kavg_contrastive_acc\u001B[m\u001B[K’ [\u001B[01;35m\u001B[K-Wunused-variable\u001B[m\u001B[K]\n",
      "     float \u001B[01;35m\u001B[Kavg_contrastive_acc\u001B[m\u001B[K = 0;\n",
      "           \u001B[01;35m\u001B[K^~~~~~~~~~~~~~~~~~~\u001B[m\u001B[K\n",
      "\u001B[01m\u001B[K./src/classifier.c:\u001B[m\u001B[K In function ‘\u001B[01m\u001B[Kpredict_classifier\u001B[m\u001B[K’:\n",
      "\u001B[01m\u001B[K./src/classifier.c:855:13:\u001B[m\u001B[K \u001B[01;35m\u001B[Kwarning: \u001B[m\u001B[Kunused variable ‘\u001B[01m\u001B[Ktime\u001B[m\u001B[K’ [\u001B[01;35m\u001B[K-Wunused-variable\u001B[m\u001B[K]\n",
      "     clock_t \u001B[01;35m\u001B[Ktime\u001B[m\u001B[K;\n",
      "             \u001B[01;35m\u001B[K^~~~\u001B[m\u001B[K\n",
      "gcc -Iinclude/ -I3rdparty/stb/include -Wall -Wfatal-errors -Wno-unused-result -Wno-unknown-pragmas -fPIC -Ofast -c ./src/local_layer.c -o obj/local_layer.o\n",
      "gcc -Iinclude/ -I3rdparty/stb/include -Wall -Wfatal-errors -Wno-unused-result -Wno-unknown-pragmas -fPIC -Ofast -c ./src/swag.c -o obj/swag.o\n",
      "gcc -Iinclude/ -I3rdparty/stb/include -Wall -Wfatal-errors -Wno-unused-result -Wno-unknown-pragmas -fPIC -Ofast -c ./src/shortcut_layer.c -o obj/shortcut_layer.o\n",
      "\u001B[01m\u001B[K./src/shortcut_layer.c:\u001B[m\u001B[K In function ‘\u001B[01m\u001B[Kmake_shortcut_layer\u001B[m\u001B[K’:\n",
      "\u001B[01m\u001B[K./src/shortcut_layer.c:55:15:\u001B[m\u001B[K \u001B[01;35m\u001B[Kwarning: \u001B[m\u001B[Kunused variable ‘\u001B[01m\u001B[Kscale\u001B[m\u001B[K’ [\u001B[01;35m\u001B[K-Wunused-variable\u001B[m\u001B[K]\n",
      "         float \u001B[01;35m\u001B[Kscale\u001B[m\u001B[K = sqrt(2. / l.nweights);\n",
      "               \u001B[01;35m\u001B[K^~~~~\u001B[m\u001B[K\n",
      "gcc -Iinclude/ -I3rdparty/stb/include -Wall -Wfatal-errors -Wno-unused-result -Wno-unknown-pragmas -fPIC -Ofast -c ./src/representation_layer.c -o obj/representation_layer.o\n",
      "gcc -Iinclude/ -I3rdparty/stb/include -Wall -Wfatal-errors -Wno-unused-result -Wno-unknown-pragmas -fPIC -Ofast -c ./src/activation_layer.c -o obj/activation_layer.o\n",
      "gcc -Iinclude/ -I3rdparty/stb/include -Wall -Wfatal-errors -Wno-unused-result -Wno-unknown-pragmas -fPIC -Ofast -c ./src/rnn_layer.c -o obj/rnn_layer.o\n",
      "gcc -Iinclude/ -I3rdparty/stb/include -Wall -Wfatal-errors -Wno-unused-result -Wno-unknown-pragmas -fPIC -Ofast -c ./src/gru_layer.c -o obj/gru_layer.o\n",
      "gcc -Iinclude/ -I3rdparty/stb/include -Wall -Wfatal-errors -Wno-unused-result -Wno-unknown-pragmas -fPIC -Ofast -c ./src/rnn.c -o obj/rnn.o\n",
      "gcc -Iinclude/ -I3rdparty/stb/include -Wall -Wfatal-errors -Wno-unused-result -Wno-unknown-pragmas -fPIC -Ofast -c ./src/rnn_vid.c -o obj/rnn_vid.o\n",
      "gcc -Iinclude/ -I3rdparty/stb/include -Wall -Wfatal-errors -Wno-unused-result -Wno-unknown-pragmas -fPIC -Ofast -c ./src/crnn_layer.c -o obj/crnn_layer.o\n",
      "gcc -Iinclude/ -I3rdparty/stb/include -Wall -Wfatal-errors -Wno-unused-result -Wno-unknown-pragmas -fPIC -Ofast -c ./src/demo.c -o obj/demo.o\n",
      "gcc -Iinclude/ -I3rdparty/stb/include -Wall -Wfatal-errors -Wno-unused-result -Wno-unknown-pragmas -fPIC -Ofast -c ./src/tag.c -o obj/tag.o\n",
      "gcc -Iinclude/ -I3rdparty/stb/include -Wall -Wfatal-errors -Wno-unused-result -Wno-unknown-pragmas -fPIC -Ofast -c ./src/cifar.c -o obj/cifar.o\n",
      "gcc -Iinclude/ -I3rdparty/stb/include -Wall -Wfatal-errors -Wno-unused-result -Wno-unknown-pragmas -fPIC -Ofast -c ./src/go.c -o obj/go.o\n",
      "gcc -Iinclude/ -I3rdparty/stb/include -Wall -Wfatal-errors -Wno-unused-result -Wno-unknown-pragmas -fPIC -Ofast -c ./src/batchnorm_layer.c -o obj/batchnorm_layer.o\n",
      "gcc -Iinclude/ -I3rdparty/stb/include -Wall -Wfatal-errors -Wno-unused-result -Wno-unknown-pragmas -fPIC -Ofast -c ./src/art.c -o obj/art.o\n",
      "gcc -Iinclude/ -I3rdparty/stb/include -Wall -Wfatal-errors -Wno-unused-result -Wno-unknown-pragmas -fPIC -Ofast -c ./src/region_layer.c -o obj/region_layer.o\n",
      "gcc -Iinclude/ -I3rdparty/stb/include -Wall -Wfatal-errors -Wno-unused-result -Wno-unknown-pragmas -fPIC -Ofast -c ./src/reorg_layer.c -o obj/reorg_layer.o\n",
      "gcc -Iinclude/ -I3rdparty/stb/include -Wall -Wfatal-errors -Wno-unused-result -Wno-unknown-pragmas -fPIC -Ofast -c ./src/reorg_old_layer.c -o obj/reorg_old_layer.o\n",
      "gcc -Iinclude/ -I3rdparty/stb/include -Wall -Wfatal-errors -Wno-unused-result -Wno-unknown-pragmas -fPIC -Ofast -c ./src/super.c -o obj/super.o\n",
      "gcc -Iinclude/ -I3rdparty/stb/include -Wall -Wfatal-errors -Wno-unused-result -Wno-unknown-pragmas -fPIC -Ofast -c ./src/voxel.c -o obj/voxel.o\n",
      "gcc -Iinclude/ -I3rdparty/stb/include -Wall -Wfatal-errors -Wno-unused-result -Wno-unknown-pragmas -fPIC -Ofast -c ./src/tree.c -o obj/tree.o\n",
      "gcc -Iinclude/ -I3rdparty/stb/include -Wall -Wfatal-errors -Wno-unused-result -Wno-unknown-pragmas -fPIC -Ofast -c ./src/yolo_layer.c -o obj/yolo_layer.o\n",
      "\u001B[01m\u001B[K./src/yolo_layer.c:\u001B[m\u001B[K In function ‘\u001B[01m\u001B[Kprocess_batch\u001B[m\u001B[K’:\n",
      "\u001B[01m\u001B[K./src/yolo_layer.c:426:25:\u001B[m\u001B[K \u001B[01;35m\u001B[Kwarning: \u001B[m\u001B[Kvariable ‘\u001B[01m\u001B[Kbest_match_t\u001B[m\u001B[K’ set but not used [\u001B[01;35m\u001B[K-Wunused-but-set-variable\u001B[m\u001B[K]\n",
      "                     int \u001B[01;35m\u001B[Kbest_match_t\u001B[m\u001B[K = 0;\n",
      "                         \u001B[01;35m\u001B[K^~~~~~~~~~~~\u001B[m\u001B[K\n",
      "\u001B[01m\u001B[K./src/yolo_layer.c:\u001B[m\u001B[K In function ‘\u001B[01m\u001B[Kforward_yolo_layer\u001B[m\u001B[K’:\n",
      "\u001B[01m\u001B[K./src/yolo_layer.c:707:11:\u001B[m\u001B[K \u001B[01;35m\u001B[Kwarning: \u001B[m\u001B[Kunused variable ‘\u001B[01m\u001B[Kavg_anyobj\u001B[m\u001B[K’ [\u001B[01;35m\u001B[K-Wunused-variable\u001B[m\u001B[K]\n",
      "     float \u001B[01;35m\u001B[Kavg_anyobj\u001B[m\u001B[K = 0;\n",
      "           \u001B[01;35m\u001B[K^~~~~~~~~~\u001B[m\u001B[K\n",
      "\u001B[01m\u001B[K./src/yolo_layer.c:706:11:\u001B[m\u001B[K \u001B[01;35m\u001B[Kwarning: \u001B[m\u001B[Kunused variable ‘\u001B[01m\u001B[Kavg_obj\u001B[m\u001B[K’ [\u001B[01;35m\u001B[K-Wunused-variable\u001B[m\u001B[K]\n",
      "     float \u001B[01;35m\u001B[Kavg_obj\u001B[m\u001B[K = 0;\n",
      "           \u001B[01;35m\u001B[K^~~~~~~\u001B[m\u001B[K\n",
      "\u001B[01m\u001B[K./src/yolo_layer.c:705:11:\u001B[m\u001B[K \u001B[01;35m\u001B[Kwarning: \u001B[m\u001B[Kunused variable ‘\u001B[01m\u001B[Kavg_cat\u001B[m\u001B[K’ [\u001B[01;35m\u001B[K-Wunused-variable\u001B[m\u001B[K]\n",
      "     float \u001B[01;35m\u001B[Kavg_cat\u001B[m\u001B[K = 0;\n",
      "           \u001B[01;35m\u001B[K^~~~~~~\u001B[m\u001B[K\n",
      "\u001B[01m\u001B[K./src/yolo_layer.c:704:11:\u001B[m\u001B[K \u001B[01;35m\u001B[Kwarning: \u001B[m\u001B[Kunused variable ‘\u001B[01m\u001B[Krecall75\u001B[m\u001B[K’ [\u001B[01;35m\u001B[K-Wunused-variable\u001B[m\u001B[K]\n",
      "     float \u001B[01;35m\u001B[Krecall75\u001B[m\u001B[K = 0;\n",
      "           \u001B[01;35m\u001B[K^~~~~~~~\u001B[m\u001B[K\n",
      "\u001B[01m\u001B[K./src/yolo_layer.c:703:11:\u001B[m\u001B[K \u001B[01;35m\u001B[Kwarning: \u001B[m\u001B[Kunused variable ‘\u001B[01m\u001B[Krecall\u001B[m\u001B[K’ [\u001B[01;35m\u001B[K-Wunused-variable\u001B[m\u001B[K]\n",
      "     float \u001B[01;35m\u001B[Krecall\u001B[m\u001B[K = 0;\n",
      "           \u001B[01;35m\u001B[K^~~~~~\u001B[m\u001B[K\n",
      "\u001B[01m\u001B[K./src/yolo_layer.c:702:11:\u001B[m\u001B[K \u001B[01;35m\u001B[Kwarning: \u001B[m\u001B[Kunused variable ‘\u001B[01m\u001B[Ktot_ciou_loss\u001B[m\u001B[K’ [\u001B[01;35m\u001B[K-Wunused-variable\u001B[m\u001B[K]\n",
      "     float \u001B[01;35m\u001B[Ktot_ciou_loss\u001B[m\u001B[K = 0;\n",
      "           \u001B[01;35m\u001B[K^~~~~~~~~~~~~\u001B[m\u001B[K\n",
      "\u001B[01m\u001B[K./src/yolo_layer.c:701:11:\u001B[m\u001B[K \u001B[01;35m\u001B[Kwarning: \u001B[m\u001B[Kunused variable ‘\u001B[01m\u001B[Ktot_diou_loss\u001B[m\u001B[K’ [\u001B[01;35m\u001B[K-Wunused-variable\u001B[m\u001B[K]\n",
      "     float \u001B[01;35m\u001B[Ktot_diou_loss\u001B[m\u001B[K = 0;\n",
      "           \u001B[01;35m\u001B[K^~~~~~~~~~~~~\u001B[m\u001B[K\n",
      "\u001B[01m\u001B[K./src/yolo_layer.c:698:11:\u001B[m\u001B[K \u001B[01;35m\u001B[Kwarning: \u001B[m\u001B[Kunused variable ‘\u001B[01m\u001B[Ktot_ciou\u001B[m\u001B[K’ [\u001B[01;35m\u001B[K-Wunused-variable\u001B[m\u001B[K]\n",
      "     float \u001B[01;35m\u001B[Ktot_ciou\u001B[m\u001B[K = 0;\n",
      "           \u001B[01;35m\u001B[K^~~~~~~~\u001B[m\u001B[K\n",
      "\u001B[01m\u001B[K./src/yolo_layer.c:697:11:\u001B[m\u001B[K \u001B[01;35m\u001B[Kwarning: \u001B[m\u001B[Kunused variable ‘\u001B[01m\u001B[Ktot_diou\u001B[m\u001B[K’ [\u001B[01;35m\u001B[K-Wunused-variable\u001B[m\u001B[K]\n",
      "     float \u001B[01;35m\u001B[Ktot_diou\u001B[m\u001B[K = 0;\n",
      "           \u001B[01;35m\u001B[K^~~~~~~~\u001B[m\u001B[K\n",
      "\u001B[01m\u001B[K./src/yolo_layer.c:696:11:\u001B[m\u001B[K \u001B[01;35m\u001B[Kwarning: \u001B[m\u001B[Kunused variable ‘\u001B[01m\u001B[Ktot_giou\u001B[m\u001B[K’ [\u001B[01;35m\u001B[K-Wunused-variable\u001B[m\u001B[K]\n",
      "     float \u001B[01;35m\u001B[Ktot_giou\u001B[m\u001B[K = 0;\n",
      "           \u001B[01;35m\u001B[K^~~~~~~~\u001B[m\u001B[K\n",
      "gcc -Iinclude/ -I3rdparty/stb/include -Wall -Wfatal-errors -Wno-unused-result -Wno-unknown-pragmas -fPIC -Ofast -c ./src/gaussian_yolo_layer.c -o obj/gaussian_yolo_layer.o\n",
      "gcc -Iinclude/ -I3rdparty/stb/include -Wall -Wfatal-errors -Wno-unused-result -Wno-unknown-pragmas -fPIC -Ofast -c ./src/upsample_layer.c -o obj/upsample_layer.o\n",
      "gcc -Iinclude/ -I3rdparty/stb/include -Wall -Wfatal-errors -Wno-unused-result -Wno-unknown-pragmas -fPIC -Ofast -c ./src/lstm_layer.c -o obj/lstm_layer.o\n",
      "gcc -Iinclude/ -I3rdparty/stb/include -Wall -Wfatal-errors -Wno-unused-result -Wno-unknown-pragmas -fPIC -Ofast -c ./src/conv_lstm_layer.c -o obj/conv_lstm_layer.o\n",
      "gcc -Iinclude/ -I3rdparty/stb/include -Wall -Wfatal-errors -Wno-unused-result -Wno-unknown-pragmas -fPIC -Ofast -c ./src/scale_channels_layer.c -o obj/scale_channels_layer.o\n",
      "gcc -Iinclude/ -I3rdparty/stb/include -Wall -Wfatal-errors -Wno-unused-result -Wno-unknown-pragmas -fPIC -Ofast -c ./src/sam_layer.c -o obj/sam_layer.o\n",
      "g++ -std=c++11 -std=c++11 -Iinclude/ -I3rdparty/stb/include -Wall -Wfatal-errors -Wno-unused-result -Wno-unknown-pragmas -fPIC -Ofast obj/image_opencv.o obj/http_stream.o obj/gemm.o obj/utils.o obj/dark_cuda.o obj/convolutional_layer.o obj/list.o obj/image.o obj/activations.o obj/im2col.o obj/col2im.o obj/blas.o obj/crop_layer.o obj/dropout_layer.o obj/maxpool_layer.o obj/softmax_layer.o obj/data.o obj/matrix.o obj/network.o obj/connected_layer.o obj/cost_layer.o obj/parser.o obj/option_list.o obj/darknet.o obj/detection_layer.o obj/captcha.o obj/route_layer.o obj/writing.o obj/box.o obj/nightmare.o obj/normalization_layer.o obj/avgpool_layer.o obj/coco.o obj/dice.o obj/yolo.o obj/detector.o obj/layer.o obj/compare.o obj/classifier.o obj/local_layer.o obj/swag.o obj/shortcut_layer.o obj/representation_layer.o obj/activation_layer.o obj/rnn_layer.o obj/gru_layer.o obj/rnn.o obj/rnn_vid.o obj/crnn_layer.o obj/demo.o obj/tag.o obj/cifar.o obj/go.o obj/batchnorm_layer.o obj/art.o obj/region_layer.o obj/reorg_layer.o obj/reorg_old_layer.o obj/super.o obj/voxel.o obj/tree.o obj/yolo_layer.o obj/gaussian_yolo_layer.o obj/upsample_layer.o obj/lstm_layer.o obj/conv_lstm_layer.o obj/scale_channels_layer.o obj/sam_layer.o -o darknet -lm -pthread\n"
     ]
    }
   ]
  },
  {
   "cell_type": "markdown",
   "metadata": {
    "id": "nC4Jn6i7gEjm",
    "pycharm": {
     "name": "#%% md\n"
    }
   },
   "source": [
    "## Etapa 7 - Definindo os arquivos de configuração"
   ]
  },
  {
   "cell_type": "markdown",
   "metadata": {
    "id": "fVOROvtWzU4y",
    "pycharm": {
     "name": "#%% md\n"
    }
   },
   "source": [
    "### Modificações no .cfg"
   ]
  },
  {
   "cell_type": "code",
   "metadata": {
    "id": "ul3L4aAjrAdF",
    "pycharm": {
     "name": "#%%\n"
    }
   },
   "source": [
    "!cp cfg/yolov4.cfg /content/gdrive/My\\ Drive/Cursos\\ -\\ recursos/YOLO/recursos/yolov4_custom.cfg"
   ],
   "execution_count": null,
   "outputs": []
  },
  {
   "cell_type": "markdown",
   "metadata": {
    "id": "1CaFZnKGGw9s",
    "pycharm": {
     "name": "#%% md\n"
    }
   },
   "source": [
    "### Modificações no obj.names e obj.data"
   ]
  },
  {
   "cell_type": "code",
   "metadata": {
    "id": "KKnURn0DtIqX",
    "pycharm": {
     "name": "#%%\n"
    }
   },
   "source": [
    "!touch obj.names\n",
    "!touch obj.data"
   ],
   "execution_count": null,
   "outputs": []
  },
  {
   "cell_type": "code",
   "metadata": {
    "id": "Als3-ZzVtXmX",
    "pycharm": {
     "name": "#%%\n"
    }
   },
   "source": [
    "!cp obj.names /content/gdrive/My\\ Drive/Cursos\\ -\\ recursos/YOLO/recursos/obj.names\n",
    "!cp obj.data /content/gdrive/My\\ Drive/Cursos\\ -\\ recursos/YOLO/recursos/obj.data"
   ],
   "execution_count": null,
   "outputs": []
  },
  {
   "cell_type": "markdown",
   "metadata": {
    "id": "xQkErxsnvNJ3",
    "pycharm": {
     "name": "#%% md\n"
    }
   },
   "source": [
    "## Etapa 8 - Gerando o arquivo train.txt e test.txt"
   ]
  },
  {
   "cell_type": "code",
   "metadata": {
    "id": "74tRE2tquzgc",
    "outputId": "bfc26ce7-1529-4af8-9bde-99ca01cc493b",
    "colab": {
     "base_uri": "https://localhost:8080/",
     "height": 35
    },
    "pycharm": {
     "name": "#%%\n"
    }
   },
   "source": [
    "pwd"
   ],
   "execution_count": null,
   "outputs": [
    {
     "output_type": "execute_result",
     "data": {
      "text/plain": [
       "'/content/darknet'"
      ],
      "application/vnd.google.colaboratory.intrinsic+json": {
       "type": "string"
      }
     },
     "metadata": {},
     "execution_count": 36
    }
   ]
  },
  {
   "cell_type": "code",
   "metadata": {
    "id": "ROkyKD9eu5O8",
    "outputId": "9acf207e-be7f-48a5-e080-264a141b8a23",
    "colab": {
     "base_uri": "https://localhost:8080/"
    },
    "pycharm": {
     "name": "#%%\n"
    }
   },
   "source": [
    "cd .."
   ],
   "execution_count": null,
   "outputs": [
    {
     "output_type": "stream",
     "name": "stdout",
     "text": [
      "/content\n"
     ]
    }
   ]
  },
  {
   "cell_type": "code",
   "metadata": {
    "id": "3X_Kn9mTu8vH",
    "outputId": "7241f7f7-a5f3-4ad8-a7d5-b7c13d588f5b",
    "colab": {
     "base_uri": "https://localhost:8080/"
    },
    "pycharm": {
     "name": "#%%\n"
    }
   },
   "source": [
    "cd OIDv4_ToolKit/"
   ],
   "execution_count": null,
   "outputs": [
    {
     "output_type": "stream",
     "name": "stdout",
     "text": [
      "/content/OIDv4_ToolKit\n"
     ]
    }
   ]
  },
  {
   "cell_type": "code",
   "metadata": {
    "id": "tzL3aAwbunDw",
    "outputId": "5ba25bfe-cf90-4f75-fd3e-a1236dea3d74",
    "colab": {
     "base_uri": "https://localhost:8080/"
    },
    "pycharm": {
     "name": "#%%\n"
    }
   },
   "source": [
    "!unzip obj.zip -d ./data"
   ],
   "execution_count": null,
   "outputs": [
    {
     "output_type": "stream",
     "name": "stdout",
     "text": [
      "unzip:  cannot find or open obj.zip, obj.zip.zip or obj.zip.ZIP.\n"
     ]
    }
   ]
  },
  {
   "cell_type": "code",
   "metadata": {
    "id": "6oJwot7hvaO5",
    "outputId": "6fd41d89-215f-4309-8f99-c19d804076fd",
    "colab": {
     "base_uri": "https://localhost:8080/"
    },
    "pycharm": {
     "name": "#%%\n"
    }
   },
   "source": [
    "!unzip /content/valid.zip -d ./data"
   ],
   "execution_count": null,
   "outputs": [
    {
     "output_type": "stream",
     "name": "stdout",
     "text": [
      "unzip:  cannot find or open /content/valid.zip, /content/valid.zip.zip or /content/valid.zip.ZIP.\n"
     ]
    }
   ]
  },
  {
   "cell_type": "code",
   "metadata": {
    "id": "wEgxphvav0Nr",
    "outputId": "befdb62f-c3aa-4f48-e603-734a013abbc8",
    "colab": {
     "base_uri": "https://localhost:8080/",
     "height": 35
    },
    "pycharm": {
     "name": "#%%\n"
    }
   },
   "source": [
    "pwd"
   ],
   "execution_count": null,
   "outputs": [
    {
     "output_type": "execute_result",
     "data": {
      "text/plain": [
       "'/content/OIDv4_ToolKit'"
      ],
      "application/vnd.google.colaboratory.intrinsic+json": {
       "type": "string"
      }
     },
     "metadata": {},
     "execution_count": 41
    }
   ]
  },
  {
   "cell_type": "code",
   "metadata": {
    "id": "wzC1QX1RvoUE",
    "colab": {
     "base_uri": "https://localhost:8080/"
    },
    "outputId": "a038913e-e082-4095-c634-d2a3620541f2",
    "pycharm": {
     "name": "#%%\n"
    }
   },
   "source": [
    "!python /content/TreinamentoYOLO/gerar_train.py"
   ],
   "execution_count": null,
   "outputs": [
    {
     "output_type": "stream",
     "name": "stdout",
     "text": [
      "Traceback (most recent call last):\n",
      "  File \"/content/TreinamentoYOLO/gerar_train.py\", line 5, in <module>\n",
      "    os.chdir(os.path.join(\"data\", \"obj\"))\n",
      "FileNotFoundError: [Errno 2] No such file or directory: 'data/obj'\n"
     ]
    }
   ]
  },
  {
   "cell_type": "code",
   "metadata": {
    "id": "eB6cmSv3wVh_",
    "colab": {
     "base_uri": "https://localhost:8080/"
    },
    "outputId": "7165b54f-56f6-4208-f0fc-4d2c2d8bec1f",
    "pycharm": {
     "name": "#%%\n"
    }
   },
   "source": [
    "!python /content/TreinamentoYOLO/gerar_test.py"
   ],
   "execution_count": null,
   "outputs": [
    {
     "output_type": "stream",
     "name": "stdout",
     "text": [
      "Traceback (most recent call last):\n",
      "  File \"/content/TreinamentoYOLO/gerar_test.py\", line 5, in <module>\n",
      "    os.chdir(os.path.join(\"data\", \"valid\"))\n",
      "FileNotFoundError: [Errno 2] No such file or directory: 'data/valid'\n"
     ]
    }
   ]
  },
  {
   "cell_type": "code",
   "metadata": {
    "id": "2MqXbdOjwqBH",
    "outputId": "585723f9-87cd-4659-dfff-27cd245d4f18",
    "colab": {
     "base_uri": "https://localhost:8080/"
    },
    "pycharm": {
     "name": "#%%\n"
    }
   },
   "source": [
    "cd data"
   ],
   "execution_count": null,
   "outputs": [
    {
     "output_type": "stream",
     "name": "stdout",
     "text": [
      "[Errno 2] No such file or directory: 'data'\n",
      "/content/OIDv4_ToolKit\n"
     ]
    }
   ]
  },
  {
   "cell_type": "code",
   "metadata": {
    "id": "0iRc_RE2wl0Z",
    "outputId": "85778b55-7022-43b3-c2b8-636e86366ea4",
    "colab": {
     "base_uri": "https://localhost:8080/",
     "height": 35
    },
    "pycharm": {
     "name": "#%%\n"
    }
   },
   "source": [
    "pwd"
   ],
   "execution_count": null,
   "outputs": [
    {
     "output_type": "execute_result",
     "data": {
      "text/plain": [
       "'/content/OIDv4_ToolKit'"
      ],
      "application/vnd.google.colaboratory.intrinsic+json": {
       "type": "string"
      }
     },
     "metadata": {},
     "execution_count": 45
    }
   ]
  },
  {
   "cell_type": "code",
   "metadata": {
    "id": "oDCbphzGwceC",
    "colab": {
     "base_uri": "https://localhost:8080/"
    },
    "outputId": "f327d83d-e5d4-448a-ca6c-0f915c41d322",
    "pycharm": {
     "name": "#%%\n"
    }
   },
   "source": [
    "!cp train.txt /content/gdrive/My\\ Drive/Cursos\\ -\\ recursos/YOLO/recursos/train.txt"
   ],
   "execution_count": null,
   "outputs": [
    {
     "output_type": "stream",
     "name": "stdout",
     "text": [
      "cp: cannot stat 'train.txt': No such file or directory\n"
     ]
    }
   ]
  },
  {
   "cell_type": "code",
   "metadata": {
    "id": "gdO9qHhRwu9T",
    "colab": {
     "base_uri": "https://localhost:8080/"
    },
    "outputId": "456519e4-1376-4ff7-e614-9291d402e79b",
    "pycharm": {
     "name": "#%%\n"
    }
   },
   "source": [
    "!cp test.txt /content/gdrive/My\\ Drive/Cursos\\ -\\ recursos/YOLO/recursos/test.txt"
   ],
   "execution_count": null,
   "outputs": [
    {
     "output_type": "stream",
     "name": "stdout",
     "text": [
      "cp: cannot stat 'test.txt': No such file or directory\n"
     ]
    }
   ]
  }
 ]
}