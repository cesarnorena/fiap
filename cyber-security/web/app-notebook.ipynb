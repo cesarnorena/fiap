{
 "cells": [
  {
   "cell_type": "code",
   "execution_count": 66,
   "outputs": [
    {
     "name": "stderr",
     "output_type": "stream",
     "text": [
      "UsageError: Line magic function `%` not found.\n"
     ]
    }
   ],
   "source": [
    "%%writefile classifier.py\n",
    "\n",
    "from fuzzywuzzy import process as validator\n",
    "\n",
    "issues = [\n",
    "    \"erro\",\n",
    "    \"problema\",\n",
    "    \"problemas\",\n",
    "    \"pessimo\",\n",
    "    \"dor\",\n",
    "    \"ruim\",\n",
    "    \"pior\",\n",
    "    \"horrivel\",\n",
    "    \"lixo\",\n",
    "    \"trava\",\n",
    "    \"sacanagem\",\n",
    "    \"instabilidade\",\n",
    "    \"raiva\",\n",
    "    \"tentando\",\n",
    "    \"incorreto\",\n",
    "    \"incorretos\",\n",
    "    \"nao aceita\",\n",
    "    \"nao possui\",\n",
    "    \"nao permiti\",\n",
    "    \"nao funciona\",\n",
    "    \"nao consigo\",\n",
    "    \"nao mostra\",\n",
    "    \"nao informa\",\n",
    "    \"nao passou o cartao\",\n",
    "    \"nao obtive resposta\",\n",
    "    \"nao tem suporte\",\n",
    "    \"app fraco\",\n",
    "    \"app horrivel\",\n",
    "    \"reclame aqui\",\n",
    "    \"fora do ar\",\n",
    "]\n",
    "\n",
    "\n",
    "def match(text, text_list=issues):\n",
    "    match_list = validator.extract(text, text_list)\n",
    "\n",
    "    for word, score in match_list:\n",
    "        if score >= 55:\n",
    "            return True\n",
    "\n",
    "    return False"
   ],
   "metadata": {
    "collapsed": false,
    "pycharm": {
     "name": "#%%\n"
    }
   }
  },
  {
   "cell_type": "code",
   "execution_count": 65,
   "outputs": [
    {
     "name": "stdout",
     "output_type": "stream",
     "text": [
      "Overwriting app.py\n"
     ]
    }
   ],
   "source": [
    "% % writefile app.py\n",
    "\n",
    "import streamlit as web\n",
    "from classifier import match, issues\n",
    "\n",
    "\n",
    "def main():\n",
    "    web.title(\"App store comment's classifier\")\n",
    "    text_input = web.text_input(\"Enter issue:\")\n",
    "\n",
    "    if web.button(\"validate\"):\n",
    "        if match(text_input.lower(), issues):\n",
    "            web.error(\"Is an issue 😔!\")\n",
    "        else:\n",
    "            web.success(\"Not an issue 😬!\")\n",
    "\n",
    "\n",
    "if __name__ == '__main__':\n",
    "    main()"
   ],
   "metadata": {
    "collapsed": false,
    "pycharm": {
     "name": "#%%\n"
    }
   }
  },
  {
   "cell_type": "code",
   "execution_count": 61,
   "outputs": [
    {
     "name": "stdout",
     "output_type": "stream",
     "text": [
      "\u001B[0m\r\n",
      "\u001B[34m\u001B[1m  You can now view your Streamlit app in your browser.\u001B[0m\r\n",
      "\u001B[0m\r\n",
      "\u001B[34m  Local URL: \u001B[0m\u001B[1mhttp://localhost:8501\u001B[0m\r\n",
      "\u001B[34m  Network URL: \u001B[0m\u001B[1mhttp://172.16.54.122:8501\u001B[0m\r\n",
      "\u001B[0m\r\n",
      "/usr/local/lib/python3.9/site-packages/fuzzywuzzy/fuzz.py:11: UserWarning: Using slow pure-python SequenceMatcher. Install python-Levenshtein to remove this warning\r\n",
      "  warnings.warn('Using slow pure-python SequenceMatcher. Install python-Levenshtein to remove this warning')\r\n",
      "^C\r\n",
      "\u001B[34m  Stopping...\u001B[0m\r\n"
     ]
    }
   ],
   "source": [
    "!streamlit run app.py"
   ],
   "metadata": {
    "collapsed": false,
    "pycharm": {
     "name": "#%%\n"
    }
   }
  },
  {
   "cell_type": "code",
   "execution_count": null,
   "outputs": [],
   "source": [],
   "metadata": {
    "collapsed": false,
    "pycharm": {
     "name": "#%%\n"
    }
   }
  }
 ],
 "metadata": {
  "kernelspec": {
   "display_name": "Python 3",
   "language": "python",
   "name": "python3"
  },
  "language_info": {
   "codemirror_mode": {
    "name": "ipython",
    "version": 2
   },
   "file_extension": ".py",
   "mimetype": "text/x-python",
   "name": "python",
   "nbconvert_exporter": "python",
   "pygments_lexer": "ipython2",
   "version": "2.7.6"
  }
 },
 "nbformat": 4,
 "nbformat_minor": 0
}