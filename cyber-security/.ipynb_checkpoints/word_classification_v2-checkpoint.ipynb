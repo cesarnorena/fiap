{
 "cells": [
  {
   "cell_type": "code",
   "execution_count": 5,
   "id": "9a02e6d3",
   "metadata": {},
   "outputs": [],
   "source": [
    "# !pip install fuzzywuzzy[speedup]\n",
    "\n",
    "from fuzzywuzzy import process"
   ]
  },
  {
   "cell_type": "code",
   "execution_count": 6,
   "id": "274d94a8",
   "metadata": {},
   "outputs": [],
   "source": [
    "issues = [\n",
    "  \"erro\",\n",
    "  \"problema\",\n",
    "  \"problemas\",\n",
    "  \"pessimo\",\n",
    "  \"dor\",\n",
    "  \"ruim\",\n",
    "  \"pior\",\n",
    "  \"horrivel\",\n",
    "  \"lixo\",\n",
    "  \"trava\",\n",
    "  \"sacanagem\",\n",
    "  \"instabilidade\",\n",
    "  \"raiva\",\n",
    "  \"tentando\",\n",
    "  \"incorreto\",\n",
    "  \"incorretos\",\n",
    "  \"nao aceita\",\n",
    "  \"nao possui\",\n",
    "  \"nao permiti\",\n",
    "  \"nao funciona\",\n",
    "  \"nao consigo\",\n",
    "  \"nao mostra\",\n",
    "  \"nao informa\",\n",
    "  \"nao passou o cartao\",\n",
    "  \"nao obtive resposta\",\n",
    "  \"nao tem suporte\",\n",
    "  \"app fraco\",\n",
    "  \"app horrivel\",\n",
    "  \"reclame aqui\",\n",
    "  \"fora do ar\",\n",
    "]"
   ]
  },
  {
   "cell_type": "code",
   "execution_count": 10,
   "id": "a4b502b5",
   "metadata": {},
   "outputs": [
    {
     "name": "stdout",
     "output_type": "stream",
     "text": [
      "Review: cachorro\n"
     ]
    },
    {
     "data": {
      "text/plain": [
       "[('erro', 68),\n",
       " ('dor', 60),\n",
       " ('incorreto', 59),\n",
       " ('incorretos', 56),\n",
       " ('horrivel', 50)]"
      ]
     },
     "execution_count": 10,
     "metadata": {},
     "output_type": "execute_result"
    }
   ],
   "source": [
    "review = input(\"Review: \")\n",
    "\n",
    "process.extract(review, issues)"
   ]
  },
  {
   "cell_type": "code",
   "execution_count": 9,
   "id": "63b1108e",
   "metadata": {},
   "outputs": [
    {
     "name": "stdout",
     "output_type": "stream",
     "text": [
      "Review: cachorro\n"
     ]
    },
    {
     "data": {
      "text/plain": [
       "True"
      ]
     },
     "execution_count": 9,
     "metadata": {},
     "output_type": "execute_result"
    }
   ],
   "source": [
    "review = input(\"Review: \")\n",
    "\n",
    "def match(text, text_list):\n",
    "  match_list = process.extract(text, text_list)\n",
    "\n",
    "  for e in match_list:\n",
    "    if(e[1] >= 55):\n",
    "      return True\n",
    "  \n",
    "  return False\n",
    "\n",
    "match(review, issues)"
   ]
  },
  {
   "cell_type": "code",
   "execution_count": null,
   "id": "87760d11",
   "metadata": {},
   "outputs": [],
   "source": []
  }
 ],
 "metadata": {
  "kernelspec": {
   "display_name": "Python 3 (ipykernel)",
   "language": "python",
   "name": "python3"
  },
  "language_info": {
   "codemirror_mode": {
    "name": "ipython",
    "version": 3
   },
   "file_extension": ".py",
   "mimetype": "text/x-python",
   "name": "python",
   "nbconvert_exporter": "python",
   "pygments_lexer": "ipython3",
   "version": "3.9.10"
  }
 },
 "nbformat": 4,
 "nbformat_minor": 5
}
