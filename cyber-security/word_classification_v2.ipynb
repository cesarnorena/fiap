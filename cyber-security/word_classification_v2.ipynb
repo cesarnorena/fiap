{
 "cells": [
  {
   "cell_type": "code",
   "execution_count": 3,
   "id": "9a02e6d3",
   "metadata": {},
   "outputs": [
    {
     "name": "stderr",
     "output_type": "stream",
     "text": [
      "/usr/local/lib/python3.9/site-packages/fuzzywuzzy/fuzz.py:11: UserWarning: Using slow pure-python SequenceMatcher. Install python-Levenshtein to remove this warning\n",
      "  warnings.warn('Using slow pure-python SequenceMatcher. Install python-Levenshtein to remove this warning')\n"
     ]
    }
   ],
   "source": [
    "from fuzzywuzzy import process\n",
    "import pandas"
   ]
  },
  {
   "cell_type": "code",
   "execution_count": 4,
   "id": "274d94a8",
   "metadata": {},
   "outputs": [],
   "source": [
    "issues = [\n",
    "    \"erro\",\n",
    "    \"problema\",\n",
    "    \"problemas\",\n",
    "    \"pessimo\",\n",
    "    \"dor\",\n",
    "    \"ruim\",\n",
    "    \"pior\",\n",
    "    \"horrivel\",\n",
    "    \"lixo\",\n",
    "    \"trava\",\n",
    "    \"sacanagem\",\n",
    "    \"instabilidade\",\n",
    "    \"raiva\",\n",
    "    \"tentando\",\n",
    "    \"incorreto\",\n",
    "    \"incorretos\",\n",
    "    \"nao aceita\",\n",
    "    \"nao possui\",\n",
    "    \"nao permiti\",\n",
    "    \"nao funciona\",\n",
    "    \"nao consigo\",\n",
    "    \"nao mostra\",\n",
    "    \"nao informa\",\n",
    "    \"nao passou o cartao\",\n",
    "    \"nao obtive resposta\",\n",
    "    \"nao tem suporte\",\n",
    "    \"app fraco\",\n",
    "    \"app horrivel\",\n",
    "    \"reclame aqui\",\n",
    "    \"fora do ar\",\n",
    "]"
   ]
  },
  {
   "cell_type": "code",
   "execution_count": 5,
   "id": "a4b502b5",
   "metadata": {},
   "outputs": [
    {
     "data": {
      "text/plain": "[('nao aceita', 54),\n ('nao passou o cartao', 54),\n ('erro', 44),\n ('problema', 40),\n ('incorretos', 40)]"
     },
     "execution_count": 5,
     "metadata": {},
     "output_type": "execute_result"
    }
   ],
   "source": [
    "review = input(\"Review: \")\n",
    "\n",
    "process.extract(review, issues)"
   ]
  },
  {
   "cell_type": "code",
   "execution_count": 1,
   "id": "63b1108e",
   "metadata": {},
   "outputs": [
    {
     "ename": "NameError",
     "evalue": "name 'issues' is not defined",
     "output_type": "error",
     "traceback": [
      "\u001B[0;31m---------------------------------------------------------------------------\u001B[0m",
      "\u001B[0;31mNameError\u001B[0m                                 Traceback (most recent call last)",
      "Input \u001B[0;32mIn [1]\u001B[0m, in \u001B[0;36m<cell line: 14>\u001B[0;34m()\u001B[0m\n\u001B[1;32m      9\u001B[0m             \u001B[38;5;28;01mreturn\u001B[39;00m \u001B[38;5;28;01mTrue\u001B[39;00m\n\u001B[1;32m     11\u001B[0m     \u001B[38;5;28;01mreturn\u001B[39;00m \u001B[38;5;28;01mFalse\u001B[39;00m\n\u001B[0;32m---> 14\u001B[0m \u001B[38;5;28;01mmatch\u001B[39;00m(review, \u001B[43missues\u001B[49m)\n",
      "\u001B[0;31mNameError\u001B[0m: name 'issues' is not defined"
     ]
    }
   ],
   "source": [
    "review = input(\"Review: \")\n",
    "\n",
    "\n",
    "def match(text, text_list):\n",
    "    match_list = process.extract(text, text_list)\n",
    "\n",
    "    for word, score in match_list:\n",
    "        if score >= 55:\n",
    "            return True\n",
    "\n",
    "    return False\n",
    "\n",
    "\n",
    "match(review, issues)"
   ]
  },
  {
   "cell_type": "code",
   "execution_count": null,
   "id": "87760d11",
   "metadata": {},
   "outputs": [],
   "source": [
    "csv_file = pandas.read_csv('issue_table.csv', index_col=0, names=[\"#\", \"phrase\", \"real\", \"class_v1\", \"class_v2\"])[1:32]\n",
    "csv_file"
   ]
  },
  {
   "cell_type": "code",
   "execution_count": null,
   "metadata": {
    "collapsed": false,
    "pycharm": {
     "name": "#%%\n"
    }
   },
   "outputs": [],
   "source": [
    "match_list = []\n",
    "for phrase in csv_file.phrase:\n",
    "    did_match = match(phrase, issues)\n",
    "    match_list.append(\"yes\" if did_match else \"no\")\n",
    "match_list"
   ]
  },
  {
   "cell_type": "code",
   "execution_count": null,
   "metadata": {
    "collapsed": false,
    "pycharm": {
     "name": "#%%\n"
    }
   },
   "outputs": [],
   "source": [
    "csv_file.class_v2 = match_list\n",
    "csv_file"
   ]
  },
  {
   "cell_type": "code",
   "execution_count": null,
   "metadata": {
    "collapsed": false,
    "pycharm": {
     "name": "#%%\n"
    }
   },
   "outputs": [],
   "source": [
    "csv_file.to_csv(\"issue_table_v2.csv\")"
   ]
  }
 ],
 "metadata": {
  "kernelspec": {
   "display_name": "Python 3 (ipykernel)",
   "language": "python",
   "name": "python3"
  },
  "language_info": {
   "codemirror_mode": {
    "name": "ipython",
    "version": 3
   },
   "file_extension": ".py",
   "mimetype": "text/x-python",
   "name": "python",
   "nbconvert_exporter": "python",
   "pygments_lexer": "ipython3",
   "version": "3.9.10"
  }
 },
 "nbformat": 4,
 "nbformat_minor": 5
}