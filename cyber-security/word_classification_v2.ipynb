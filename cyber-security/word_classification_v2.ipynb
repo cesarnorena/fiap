{
 "cells": [
  {
   "cell_type": "code",
   "execution_count": 32,
   "id": "9a02e6d3",
   "metadata": {},
   "outputs": [],
   "source": [
    "from fuzzywuzzy import process\n",
    "import pandas"
   ]
  },
  {
   "cell_type": "code",
   "execution_count": 33,
   "id": "274d94a8",
   "metadata": {},
   "outputs": [],
   "source": [
    "issues = [\n",
    "    \"erro\",\n",
    "    \"problema\",\n",
    "    \"problemas\",\n",
    "    \"pessimo\",\n",
    "    \"dor\",\n",
    "    \"ruim\",\n",
    "    \"pior\",\n",
    "    \"horrivel\",\n",
    "    \"lixo\",\n",
    "    \"trava\",\n",
    "    \"sacanagem\",\n",
    "    \"instabilidade\",\n",
    "    \"raiva\",\n",
    "    \"tentando\",\n",
    "    \"incorreto\",\n",
    "    \"incorretos\",\n",
    "    \"nao aceita\",\n",
    "    \"nao possui\",\n",
    "    \"nao permiti\",\n",
    "    \"nao funciona\",\n",
    "    \"nao consigo\",\n",
    "    \"nao mostra\",\n",
    "    \"nao informa\",\n",
    "    \"nao passou o cartao\",\n",
    "    \"nao obtive resposta\",\n",
    "    \"nao tem suporte\",\n",
    "    \"app fraco\",\n",
    "    \"app horrivel\",\n",
    "    \"reclame aqui\",\n",
    "    \"fora do ar\",\n",
    "]"
   ]
  },
  {
   "cell_type": "code",
   "execution_count": 34,
   "id": "a4b502b5",
   "metadata": {},
   "outputs": [
    {
     "name": "stderr",
     "output_type": "stream",
     "text": [
      "WARNING:root:Applied processor reduces input query to empty string, all comparisons will have score 0. [Query: '']\n"
     ]
    },
    {
     "data": {
      "text/plain": "[('erro', 0), ('problema', 0), ('problemas', 0), ('pessimo', 0), ('dor', 0)]"
     },
     "execution_count": 34,
     "metadata": {},
     "output_type": "execute_result"
    }
   ],
   "source": [
    "review = input(\"Review: \")\n",
    "\n",
    "process.extract(review, issues)"
   ]
  },
  {
   "cell_type": "code",
   "execution_count": 35,
   "id": "63b1108e",
   "metadata": {},
   "outputs": [
    {
     "name": "stderr",
     "output_type": "stream",
     "text": [
      "WARNING:root:Applied processor reduces input query to empty string, all comparisons will have score 0. [Query: '']\n"
     ]
    },
    {
     "data": {
      "text/plain": "False"
     },
     "execution_count": 35,
     "metadata": {},
     "output_type": "execute_result"
    }
   ],
   "source": [
    "review = input(\"Review: \")\n",
    "\n",
    "\n",
    "def match(text, text_list):\n",
    "    match_list = process.extract(text, text_list)\n",
    "\n",
    "    for e in match_list:\n",
    "        if e[1] >= 55:\n",
    "            return True\n",
    "\n",
    "    return False\n",
    "\n",
    "\n",
    "match(review, issues)"
   ]
  },
  {
   "cell_type": "markdown",
   "source": [],
   "metadata": {
    "collapsed": false
   }
  },
  {
   "cell_type": "code",
   "execution_count": 36,
   "id": "87760d11",
   "metadata": {},
   "outputs": [
    {
     "data": {
      "text/plain": "                                    phrase real class_v1 class_v2\n#                                                                \n1                  nossa q app bostakkkkkk  yes       no      NaN\n2                 nossa muito bom nota dez   no       no      NaN\n3                        ta travando muito  yes      yes      NaN\n4    depois da atualizacao ficou uma bomba  yes       no      NaN\n5       aplicativo fecha sozinho no iphone  yes       no      NaN\n6                          como que compra   no       no      NaN\n7            texto nao ta formatado no app  yes       no      NaN\n8                        como que fechaaaa  yes       no      NaN\n9                         francisco correa   no       no      NaN\n10                   versao 1.7 muito lixo  yes      yes      NaN\n11  motoboy nao entregou minha coca nota 0  yes       no      NaN\n12              app fez o pedido duplicado  yes       no      NaN\n13                   app cobrou duas vezes  yes       no      NaN\n14                        site muito lento  yes       no      NaN\n15            site nao carregas as imagens  yes       no      NaN\n16                 nao consigo fazer login  yes      yes      NaN\n17                como que troca a senhaaa  yes       no      NaN\n18                    meu app ta em chines  yes       no      NaN\n19                         gosto de batata   no       no      NaN\n20                       app muito bom slc   no       no      NaN\n21             vou travar o zap do meu pai   no      yes      NaN\n22                     vo invadi esse site   no       no      NaN\n23                           ta travandooo  yes      yes      NaN\n24    parou de travar depois que atualizei   no      yes      NaN\n25                               app bomba  yes       no      NaN\n26               nao consigo upar na nuvem  yes      yes      NaN\n27           codigo feito por um chimpanze  yes       no      NaN\n28         dev codou com a bunda isso aqui  yes       no      NaN\n29                         super mal feito  yes       no      NaN\n30            empresa so pensa em dinheiro  yes       no      NaN\n31                                magnatas  yes       no      NaN",
      "text/html": "<div>\n<style scoped>\n    .dataframe tbody tr th:only-of-type {\n        vertical-align: middle;\n    }\n\n    .dataframe tbody tr th {\n        vertical-align: top;\n    }\n\n    .dataframe thead th {\n        text-align: right;\n    }\n</style>\n<table border=\"1\" class=\"dataframe\">\n  <thead>\n    <tr style=\"text-align: right;\">\n      <th></th>\n      <th>phrase</th>\n      <th>real</th>\n      <th>class_v1</th>\n      <th>class_v2</th>\n    </tr>\n    <tr>\n      <th>#</th>\n      <th></th>\n      <th></th>\n      <th></th>\n      <th></th>\n    </tr>\n  </thead>\n  <tbody>\n    <tr>\n      <th>1</th>\n      <td>nossa q app bostakkkkkk</td>\n      <td>yes</td>\n      <td>no</td>\n      <td>NaN</td>\n    </tr>\n    <tr>\n      <th>2</th>\n      <td>nossa muito bom nota dez</td>\n      <td>no</td>\n      <td>no</td>\n      <td>NaN</td>\n    </tr>\n    <tr>\n      <th>3</th>\n      <td>ta travando muito</td>\n      <td>yes</td>\n      <td>yes</td>\n      <td>NaN</td>\n    </tr>\n    <tr>\n      <th>4</th>\n      <td>depois da atualizacao ficou uma bomba</td>\n      <td>yes</td>\n      <td>no</td>\n      <td>NaN</td>\n    </tr>\n    <tr>\n      <th>5</th>\n      <td>aplicativo fecha sozinho no iphone</td>\n      <td>yes</td>\n      <td>no</td>\n      <td>NaN</td>\n    </tr>\n    <tr>\n      <th>6</th>\n      <td>como que compra</td>\n      <td>no</td>\n      <td>no</td>\n      <td>NaN</td>\n    </tr>\n    <tr>\n      <th>7</th>\n      <td>texto nao ta formatado no app</td>\n      <td>yes</td>\n      <td>no</td>\n      <td>NaN</td>\n    </tr>\n    <tr>\n      <th>8</th>\n      <td>como que fechaaaa</td>\n      <td>yes</td>\n      <td>no</td>\n      <td>NaN</td>\n    </tr>\n    <tr>\n      <th>9</th>\n      <td>francisco correa</td>\n      <td>no</td>\n      <td>no</td>\n      <td>NaN</td>\n    </tr>\n    <tr>\n      <th>10</th>\n      <td>versao 1.7 muito lixo</td>\n      <td>yes</td>\n      <td>yes</td>\n      <td>NaN</td>\n    </tr>\n    <tr>\n      <th>11</th>\n      <td>motoboy nao entregou minha coca nota 0</td>\n      <td>yes</td>\n      <td>no</td>\n      <td>NaN</td>\n    </tr>\n    <tr>\n      <th>12</th>\n      <td>app fez o pedido duplicado</td>\n      <td>yes</td>\n      <td>no</td>\n      <td>NaN</td>\n    </tr>\n    <tr>\n      <th>13</th>\n      <td>app cobrou duas vezes</td>\n      <td>yes</td>\n      <td>no</td>\n      <td>NaN</td>\n    </tr>\n    <tr>\n      <th>14</th>\n      <td>site muito lento</td>\n      <td>yes</td>\n      <td>no</td>\n      <td>NaN</td>\n    </tr>\n    <tr>\n      <th>15</th>\n      <td>site nao carregas as imagens</td>\n      <td>yes</td>\n      <td>no</td>\n      <td>NaN</td>\n    </tr>\n    <tr>\n      <th>16</th>\n      <td>nao consigo fazer login</td>\n      <td>yes</td>\n      <td>yes</td>\n      <td>NaN</td>\n    </tr>\n    <tr>\n      <th>17</th>\n      <td>como que troca a senhaaa</td>\n      <td>yes</td>\n      <td>no</td>\n      <td>NaN</td>\n    </tr>\n    <tr>\n      <th>18</th>\n      <td>meu app ta em chines</td>\n      <td>yes</td>\n      <td>no</td>\n      <td>NaN</td>\n    </tr>\n    <tr>\n      <th>19</th>\n      <td>gosto de batata</td>\n      <td>no</td>\n      <td>no</td>\n      <td>NaN</td>\n    </tr>\n    <tr>\n      <th>20</th>\n      <td>app muito bom slc</td>\n      <td>no</td>\n      <td>no</td>\n      <td>NaN</td>\n    </tr>\n    <tr>\n      <th>21</th>\n      <td>vou travar o zap do meu pai</td>\n      <td>no</td>\n      <td>yes</td>\n      <td>NaN</td>\n    </tr>\n    <tr>\n      <th>22</th>\n      <td>vo invadi esse site</td>\n      <td>no</td>\n      <td>no</td>\n      <td>NaN</td>\n    </tr>\n    <tr>\n      <th>23</th>\n      <td>ta travandooo</td>\n      <td>yes</td>\n      <td>yes</td>\n      <td>NaN</td>\n    </tr>\n    <tr>\n      <th>24</th>\n      <td>parou de travar depois que atualizei</td>\n      <td>no</td>\n      <td>yes</td>\n      <td>NaN</td>\n    </tr>\n    <tr>\n      <th>25</th>\n      <td>app bomba</td>\n      <td>yes</td>\n      <td>no</td>\n      <td>NaN</td>\n    </tr>\n    <tr>\n      <th>26</th>\n      <td>nao consigo upar na nuvem</td>\n      <td>yes</td>\n      <td>yes</td>\n      <td>NaN</td>\n    </tr>\n    <tr>\n      <th>27</th>\n      <td>codigo feito por um chimpanze</td>\n      <td>yes</td>\n      <td>no</td>\n      <td>NaN</td>\n    </tr>\n    <tr>\n      <th>28</th>\n      <td>dev codou com a bunda isso aqui</td>\n      <td>yes</td>\n      <td>no</td>\n      <td>NaN</td>\n    </tr>\n    <tr>\n      <th>29</th>\n      <td>super mal feito</td>\n      <td>yes</td>\n      <td>no</td>\n      <td>NaN</td>\n    </tr>\n    <tr>\n      <th>30</th>\n      <td>empresa so pensa em dinheiro</td>\n      <td>yes</td>\n      <td>no</td>\n      <td>NaN</td>\n    </tr>\n    <tr>\n      <th>31</th>\n      <td>magnatas</td>\n      <td>yes</td>\n      <td>no</td>\n      <td>NaN</td>\n    </tr>\n  </tbody>\n</table>\n</div>"
     },
     "execution_count": 36,
     "metadata": {},
     "output_type": "execute_result"
    }
   ],
   "source": [
    "csv_file = pandas.read_csv('issue_table.csv', index_col=0, names=[\"#\", \"phrase\", \"real\", \"class_v1\", \"class_v2\"])[1:32]\n",
    "csv_file"
   ]
  },
  {
   "cell_type": "code",
   "execution_count": 37,
   "outputs": [
    {
     "data": {
      "text/plain": "['yes',\n 'no',\n 'yes',\n 'no',\n 'no',\n 'no',\n 'yes',\n 'no',\n 'yes',\n 'yes',\n 'yes',\n 'yes',\n 'yes',\n 'yes',\n 'yes',\n 'yes',\n 'no',\n 'yes',\n 'no',\n 'yes',\n 'yes',\n 'no',\n 'yes',\n 'yes',\n 'yes',\n 'yes',\n 'yes',\n 'yes',\n 'yes',\n 'yes',\n 'no']"
     },
     "execution_count": 37,
     "metadata": {},
     "output_type": "execute_result"
    }
   ],
   "source": [
    "match_list = []\n",
    "for phrase in csv_file.phrase:\n",
    "    did_match = match(phrase, issues)\n",
    "    match_list.append(\"yes\" if did_match else \"no\")\n",
    "match_list"
   ],
   "metadata": {
    "collapsed": false,
    "pycharm": {
     "name": "#%%\n"
    }
   }
  },
  {
   "cell_type": "code",
   "execution_count": 40,
   "outputs": [
    {
     "data": {
      "text/plain": "                                    phrase real class_v1 class_v2\n#                                                                \n1                  nossa q app bostakkkkkk  yes       no      yes\n2                 nossa muito bom nota dez   no       no       no\n3                        ta travando muito  yes      yes      yes\n4    depois da atualizacao ficou uma bomba  yes       no       no\n5       aplicativo fecha sozinho no iphone  yes       no       no\n6                          como que compra   no       no       no\n7            texto nao ta formatado no app  yes       no      yes\n8                        como que fechaaaa  yes       no       no\n9                         francisco correa   no       no      yes\n10                   versao 1.7 muito lixo  yes      yes      yes\n11  motoboy nao entregou minha coca nota 0  yes       no      yes\n12              app fez o pedido duplicado  yes       no      yes\n13                   app cobrou duas vezes  yes       no      yes\n14                        site muito lento  yes       no      yes\n15            site nao carregas as imagens  yes       no      yes\n16                 nao consigo fazer login  yes      yes      yes\n17                como que troca a senhaaa  yes       no       no\n18                    meu app ta em chines  yes       no      yes\n19                         gosto de batata   no       no       no\n20                       app muito bom slc   no       no      yes\n21             vou travar o zap do meu pai   no      yes      yes\n22                     vo invadi esse site   no       no       no\n23                           ta travandooo  yes      yes      yes\n24    parou de travar depois que atualizei   no      yes      yes\n25                               app bomba  yes       no      yes\n26               nao consigo upar na nuvem  yes      yes      yes\n27           codigo feito por um chimpanze  yes       no      yes\n28         dev codou com a bunda isso aqui  yes       no      yes\n29                         super mal feito  yes       no      yes\n30            empresa so pensa em dinheiro  yes       no      yes\n31                                magnatas  yes       no       no",
      "text/html": "<div>\n<style scoped>\n    .dataframe tbody tr th:only-of-type {\n        vertical-align: middle;\n    }\n\n    .dataframe tbody tr th {\n        vertical-align: top;\n    }\n\n    .dataframe thead th {\n        text-align: right;\n    }\n</style>\n<table border=\"1\" class=\"dataframe\">\n  <thead>\n    <tr style=\"text-align: right;\">\n      <th></th>\n      <th>phrase</th>\n      <th>real</th>\n      <th>class_v1</th>\n      <th>class_v2</th>\n    </tr>\n    <tr>\n      <th>#</th>\n      <th></th>\n      <th></th>\n      <th></th>\n      <th></th>\n    </tr>\n  </thead>\n  <tbody>\n    <tr>\n      <th>1</th>\n      <td>nossa q app bostakkkkkk</td>\n      <td>yes</td>\n      <td>no</td>\n      <td>yes</td>\n    </tr>\n    <tr>\n      <th>2</th>\n      <td>nossa muito bom nota dez</td>\n      <td>no</td>\n      <td>no</td>\n      <td>no</td>\n    </tr>\n    <tr>\n      <th>3</th>\n      <td>ta travando muito</td>\n      <td>yes</td>\n      <td>yes</td>\n      <td>yes</td>\n    </tr>\n    <tr>\n      <th>4</th>\n      <td>depois da atualizacao ficou uma bomba</td>\n      <td>yes</td>\n      <td>no</td>\n      <td>no</td>\n    </tr>\n    <tr>\n      <th>5</th>\n      <td>aplicativo fecha sozinho no iphone</td>\n      <td>yes</td>\n      <td>no</td>\n      <td>no</td>\n    </tr>\n    <tr>\n      <th>6</th>\n      <td>como que compra</td>\n      <td>no</td>\n      <td>no</td>\n      <td>no</td>\n    </tr>\n    <tr>\n      <th>7</th>\n      <td>texto nao ta formatado no app</td>\n      <td>yes</td>\n      <td>no</td>\n      <td>yes</td>\n    </tr>\n    <tr>\n      <th>8</th>\n      <td>como que fechaaaa</td>\n      <td>yes</td>\n      <td>no</td>\n      <td>no</td>\n    </tr>\n    <tr>\n      <th>9</th>\n      <td>francisco correa</td>\n      <td>no</td>\n      <td>no</td>\n      <td>yes</td>\n    </tr>\n    <tr>\n      <th>10</th>\n      <td>versao 1.7 muito lixo</td>\n      <td>yes</td>\n      <td>yes</td>\n      <td>yes</td>\n    </tr>\n    <tr>\n      <th>11</th>\n      <td>motoboy nao entregou minha coca nota 0</td>\n      <td>yes</td>\n      <td>no</td>\n      <td>yes</td>\n    </tr>\n    <tr>\n      <th>12</th>\n      <td>app fez o pedido duplicado</td>\n      <td>yes</td>\n      <td>no</td>\n      <td>yes</td>\n    </tr>\n    <tr>\n      <th>13</th>\n      <td>app cobrou duas vezes</td>\n      <td>yes</td>\n      <td>no</td>\n      <td>yes</td>\n    </tr>\n    <tr>\n      <th>14</th>\n      <td>site muito lento</td>\n      <td>yes</td>\n      <td>no</td>\n      <td>yes</td>\n    </tr>\n    <tr>\n      <th>15</th>\n      <td>site nao carregas as imagens</td>\n      <td>yes</td>\n      <td>no</td>\n      <td>yes</td>\n    </tr>\n    <tr>\n      <th>16</th>\n      <td>nao consigo fazer login</td>\n      <td>yes</td>\n      <td>yes</td>\n      <td>yes</td>\n    </tr>\n    <tr>\n      <th>17</th>\n      <td>como que troca a senhaaa</td>\n      <td>yes</td>\n      <td>no</td>\n      <td>no</td>\n    </tr>\n    <tr>\n      <th>18</th>\n      <td>meu app ta em chines</td>\n      <td>yes</td>\n      <td>no</td>\n      <td>yes</td>\n    </tr>\n    <tr>\n      <th>19</th>\n      <td>gosto de batata</td>\n      <td>no</td>\n      <td>no</td>\n      <td>no</td>\n    </tr>\n    <tr>\n      <th>20</th>\n      <td>app muito bom slc</td>\n      <td>no</td>\n      <td>no</td>\n      <td>yes</td>\n    </tr>\n    <tr>\n      <th>21</th>\n      <td>vou travar o zap do meu pai</td>\n      <td>no</td>\n      <td>yes</td>\n      <td>yes</td>\n    </tr>\n    <tr>\n      <th>22</th>\n      <td>vo invadi esse site</td>\n      <td>no</td>\n      <td>no</td>\n      <td>no</td>\n    </tr>\n    <tr>\n      <th>23</th>\n      <td>ta travandooo</td>\n      <td>yes</td>\n      <td>yes</td>\n      <td>yes</td>\n    </tr>\n    <tr>\n      <th>24</th>\n      <td>parou de travar depois que atualizei</td>\n      <td>no</td>\n      <td>yes</td>\n      <td>yes</td>\n    </tr>\n    <tr>\n      <th>25</th>\n      <td>app bomba</td>\n      <td>yes</td>\n      <td>no</td>\n      <td>yes</td>\n    </tr>\n    <tr>\n      <th>26</th>\n      <td>nao consigo upar na nuvem</td>\n      <td>yes</td>\n      <td>yes</td>\n      <td>yes</td>\n    </tr>\n    <tr>\n      <th>27</th>\n      <td>codigo feito por um chimpanze</td>\n      <td>yes</td>\n      <td>no</td>\n      <td>yes</td>\n    </tr>\n    <tr>\n      <th>28</th>\n      <td>dev codou com a bunda isso aqui</td>\n      <td>yes</td>\n      <td>no</td>\n      <td>yes</td>\n    </tr>\n    <tr>\n      <th>29</th>\n      <td>super mal feito</td>\n      <td>yes</td>\n      <td>no</td>\n      <td>yes</td>\n    </tr>\n    <tr>\n      <th>30</th>\n      <td>empresa so pensa em dinheiro</td>\n      <td>yes</td>\n      <td>no</td>\n      <td>yes</td>\n    </tr>\n    <tr>\n      <th>31</th>\n      <td>magnatas</td>\n      <td>yes</td>\n      <td>no</td>\n      <td>no</td>\n    </tr>\n  </tbody>\n</table>\n</div>"
     },
     "execution_count": 40,
     "metadata": {},
     "output_type": "execute_result"
    }
   ],
   "source": [
    "csv_file.class_v2 = match_list\n",
    "csv_file"
   ],
   "metadata": {
    "collapsed": false,
    "pycharm": {
     "name": "#%%\n"
    }
   }
  },
  {
   "cell_type": "code",
   "execution_count": 41,
   "outputs": [],
   "source": [
    "csv_file.to_csv(\"issue_table_v2.csv\")"
   ],
   "metadata": {
    "collapsed": false,
    "pycharm": {
     "name": "#%%\n"
    }
   }
  },
  {
   "cell_type": "code",
   "execution_count": 39,
   "outputs": [],
   "source": [],
   "metadata": {
    "collapsed": false,
    "pycharm": {
     "name": "#%%\n"
    }
   }
  }
 ],
 "metadata": {
  "kernelspec": {
   "display_name": "Python 3 (ipykernel)",
   "language": "python",
   "name": "python3"
  },
  "language_info": {
   "codemirror_mode": {
    "name": "ipython",
    "version": 3
   },
   "file_extension": ".py",
   "mimetype": "text/x-python",
   "name": "python",
   "nbconvert_exporter": "python",
   "pygments_lexer": "ipython3",
   "version": "3.9.10"
  }
 },
 "nbformat": 4,
 "nbformat_minor": 5
}