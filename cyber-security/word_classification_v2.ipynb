{
 "cells": [
  {
   "cell_type": "code",
   "execution_count": null,
   "id": "9a02e6d3",
   "metadata": {},
   "outputs": [],
   "source": [
    "from fuzzywuzzy import process\n",
    "import pandas"
   ]
  },
  {
   "cell_type": "code",
   "execution_count": null,
   "id": "274d94a8",
   "metadata": {},
   "outputs": [],
   "source": [
    "issues = [\n",
    "    \"erro\",\n",
    "    \"problema\",\n",
    "    \"problemas\",\n",
    "    \"pessimo\",\n",
    "    \"dor\",\n",
    "    \"ruim\",\n",
    "    \"pior\",\n",
    "    \"horrivel\",\n",
    "    \"lixo\",\n",
    "    \"trava\",\n",
    "    \"sacanagem\",\n",
    "    \"instabilidade\",\n",
    "    \"raiva\",\n",
    "    \"tentando\",\n",
    "    \"incorreto\",\n",
    "    \"incorretos\",\n",
    "    \"nao aceita\",\n",
    "    \"nao possui\",\n",
    "    \"nao permiti\",\n",
    "    \"nao funciona\",\n",
    "    \"nao consigo\",\n",
    "    \"nao mostra\",\n",
    "    \"nao informa\",\n",
    "    \"nao passou o cartao\",\n",
    "    \"nao obtive resposta\",\n",
    "    \"nao tem suporte\",\n",
    "    \"app fraco\",\n",
    "    \"app horrivel\",\n",
    "    \"reclame aqui\",\n",
    "    \"fora do ar\",\n",
    "]"
   ]
  },
  {
   "cell_type": "code",
   "execution_count": null,
   "id": "a4b502b5",
   "metadata": {},
   "outputs": [],
   "source": [
    "review = input(\"Review: \")\n",
    "\n",
    "process.extract(review, issues)"
   ]
  },
  {
   "cell_type": "code",
   "execution_count": null,
   "id": "63b1108e",
   "metadata": {},
   "outputs": [],
   "source": [
    "review = input(\"Review: \")\n",
    "\n",
    "\n",
    "def match(text, text_list):\n",
    "    match_list = process.extract(text, text_list)\n",
    "\n",
    "    for e in match_list:\n",
    "        if e[1] >= 55:\n",
    "            return True\n",
    "\n",
    "    return False\n",
    "\n",
    "\n",
    "match(review, issues)"
   ]
  },
  {
   "cell_type": "code",
   "execution_count": null,
   "id": "87760d11",
   "metadata": {},
   "outputs": [],
   "source": [
    "csv_file = pandas.read_csv('issue_table.csv', index_col=0, names=[\"#\", \"phrase\", \"real\", \"class_v1\", \"class_v2\"])[1:32]\n",
    "csv_file"
   ]
  },
  {
   "cell_type": "code",
   "execution_count": null,
   "metadata": {
    "collapsed": false,
    "pycharm": {
     "name": "#%%\n"
    }
   },
   "outputs": [],
   "source": [
    "match_list = []\n",
    "for phrase in csv_file.phrase:\n",
    "    did_match = match(phrase, issues)\n",
    "    match_list.append(\"yes\" if did_match else \"no\")\n",
    "match_list"
   ]
  },
  {
   "cell_type": "code",
   "execution_count": null,
   "metadata": {
    "collapsed": false,
    "pycharm": {
     "name": "#%%\n"
    }
   },
   "outputs": [],
   "source": [
    "csv_file.class_v2 = match_list\n",
    "csv_file"
   ]
  },
  {
   "cell_type": "code",
   "execution_count": null,
   "metadata": {
    "collapsed": false,
    "pycharm": {
     "name": "#%%\n"
    }
   },
   "outputs": [],
   "source": [
    "csv_file.to_csv(\"issue_table_v2.csv\")"
   ]
  }
 ],
 "metadata": {
  "kernelspec": {
   "display_name": "Python 3 (ipykernel)",
   "language": "python",
   "name": "python3"
  },
  "language_info": {
   "codemirror_mode": {
    "name": "ipython",
    "version": 3
   },
   "file_extension": ".py",
   "mimetype": "text/x-python",
   "name": "python",
   "nbconvert_exporter": "python",
   "pygments_lexer": "ipython3",
   "version": "3.9.10"
  }
 },
 "nbformat": 4,
 "nbformat_minor": 5
}
