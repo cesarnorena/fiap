{
 "cells": [
  {
   "cell_type": "code",
   "execution_count": 1,
   "id": "51238606",
   "metadata": {},
   "outputs": [],
   "source": [
    "import re"
   ]
  },
  {
   "cell_type": "code",
   "execution_count": 1,
   "id": "410e46db",
   "metadata": {},
   "outputs": [],
   "source": [
    "issues = [\n",
    "  \"erro\",\n",
    "  \"problema\",\n",
    "  \"problemas\",\n",
    "  \"pessimo\",\n",
    "  \"dor\",\n",
    "  \"ruim\",\n",
    "  \"pior\",\n",
    "  \"horrivel\",\n",
    "  \"lixo\",\n",
    "  \"trava\",\n",
    "  \"sacanagem\",\n",
    "  \"instabilidade\",\n",
    "  \"raiva\",\n",
    "  \"tentando\",\n",
    "  \"incorreto\",\n",
    "  \"incorretos\",\n",
    "  \"nao aceita\",\n",
    "  \"nao possui\",\n",
    "  \"nao permiti\",\n",
    "  \"nao funciona\",\n",
    "  \"nao consigo\",\n",
    "  \"nao mostra\",\n",
    "  \"nao informa\",\n",
    "  \"nao passou o cartao\",\n",
    "  \"nao obtive resposta\",\n",
    "  \"nao tem suporte\",\n",
    "  \"app fraco\",\n",
    "  \"app horrivel\",\n",
    "  \"reclame aqui\",\n",
    "  \"fora do ar\",\n",
    "]"
   ]
  },
  {
   "cell_type": "code",
   "execution_count": 2,
   "id": "e5fe3473",
   "metadata": {},
   "outputs": [
    {
     "data": {
      "text/plain": "'(?i)(erro)|(problema)|(problemas)|(pessimo)|(dor)|(ruim)|(pior)|(horrivel)|(lixo)|(trava)|(sacanagem)|(instabilidade)|(raiva)|(tentando)|(incorreto)|(incorretos)|(nao aceita)|(nao possui)|(nao permiti)|(nao funciona)|(nao consigo)|(nao mostra)|(nao informa)|(nao passou o cartao)|(nao obtive resposta)|(nao tem suporte)|(app fraco)|(app horrivel)|(reclame aqui)|(fora do ar)'"
     },
     "execution_count": 2,
     "metadata": {},
     "output_type": "execute_result"
    }
   ],
   "source": [
    "issue_regex = \"(?i)\" # Case Insesitive\n",
    "\n",
    "for issue in issues:\n",
    "  issue_regex += f\"({issue})|\"\n",
    "\n",
    "# Remove last pipe (|)\n",
    "issue_regex = issue_regex[:-1]\n",
    "\n",
    "issue_regex"
   ]
  },
  {
   "cell_type": "code",
   "execution_count": 6,
   "id": "ef7f02f3",
   "metadata": {
    "pycharm": {
     "name": "#%%\n"
    }
   },
   "outputs": [
    {
     "name": "stdout",
     "output_type": "stream",
     "text": [
      "Review without issues\n"
     ]
    }
   ],
   "source": [
    "text = input(\"Review: \")\n",
    "\n",
    "if re.search(issue_regex, text):\n",
    "  print(\"Review with issues\")\n",
    "else:\n",
    "  print(\"Review without issues\")"
   ]
  },
  {
   "cell_type": "code",
   "execution_count": null,
   "outputs": [],
   "source": [],
   "metadata": {
    "collapsed": false,
    "pycharm": {
     "name": "#%%\n"
    }
   }
  }
 ],
 "metadata": {
  "kernelspec": {
   "display_name": "Python 3 (ipykernel)",
   "language": "python",
   "name": "python3"
  },
  "language_info": {
   "codemirror_mode": {
    "name": "ipython",
    "version": 3
   },
   "file_extension": ".py",
   "mimetype": "text/x-python",
   "name": "python",
   "nbconvert_exporter": "python",
   "pygments_lexer": "ipython3",
   "version": "3.9.10"
  }
 },
 "nbformat": 4,
 "nbformat_minor": 5
}