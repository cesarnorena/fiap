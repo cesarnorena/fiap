{
 "cells": [
  {
   "cell_type": "markdown",
   "metadata": {
    "id": "2zJ4a5PfpwVs"
   },
   "source": [
    "FIAP - Redes Neurais Artificiais, Deep Learning e Algoritmos Genéticos \n",
    "\n",
    "# Aula 07 - Redes Perceptron com Sklearn\n",
    "\n",
    "Vamos utilizar o [Iris dataset](https://archive.ics.uci.edu/ml/datasets/iris) para modelar Redes Neruais baseadas no Perceptron"
   ]
  },
  {
   "cell_type": "code",
   "execution_count": 7,
   "metadata": {
    "executionInfo": {
     "elapsed": 1846,
     "status": "ok",
     "timestamp": 1603760217335,
     "user": {
      "displayName": "Thais Rodrigues Neubauer",
      "photoUrl": "https://lh3.googleusercontent.com/a-/AOh14GgmOUNQ0X3l6ckfa9x5ujB2P5C0QQqglAl44VHZNw=s64",
      "userId": "03562214994457129962"
     },
     "user_tz": 180
    },
    "id": "IyCP5bxeig04"
   },
   "outputs": [
    {
     "ename": "ModuleNotFoundError",
     "evalue": "No module named 'seaborn'",
     "output_type": "error",
     "traceback": [
      "\u001B[0;31m---------------------------------------------------------------------------\u001B[0m",
      "\u001B[0;31mModuleNotFoundError\u001B[0m                       Traceback (most recent call last)",
      "Input \u001B[0;32mIn [7]\u001B[0m, in \u001B[0;36m<cell line: 7>\u001B[0;34m()\u001B[0m\n\u001B[1;32m      5\u001B[0m \u001B[38;5;66;03m# Bibliotecas de Data Science\u001B[39;00m\n\u001B[1;32m      6\u001B[0m \u001B[38;5;28;01mimport\u001B[39;00m \u001B[38;5;21;01mpandas\u001B[39;00m \u001B[38;5;28;01mas\u001B[39;00m \u001B[38;5;21;01mpd\u001B[39;00m\n\u001B[0;32m----> 7\u001B[0m \u001B[38;5;28;01mimport\u001B[39;00m \u001B[38;5;21;01mseaborn\u001B[39;00m \u001B[38;5;28;01mas\u001B[39;00m \u001B[38;5;21;01msns\u001B[39;00m \n\u001B[1;32m      9\u001B[0m \u001B[38;5;66;03m# Separação dos dados\u001B[39;00m\n\u001B[1;32m     10\u001B[0m \u001B[38;5;28;01mfrom\u001B[39;00m \u001B[38;5;21;01msklearn\u001B[39;00m\u001B[38;5;21;01m.\u001B[39;00m\u001B[38;5;21;01mmodel_selection\u001B[39;00m \u001B[38;5;28;01mimport\u001B[39;00m train_test_split\n",
      "\u001B[0;31mModuleNotFoundError\u001B[0m: No module named 'seaborn'"
     ]
    }
   ],
   "source": [
    "# Apenas para evitar warnings \n",
    "import warnings\n",
    "\n",
    "warnings.filterwarnings('ignore')\n",
    "\n",
    "# Bibliotecas de Data Science\n",
    "import pandas as pd\n",
    "import seaborn as sns\n",
    "\n",
    "# Separação dos dados\n",
    "\n",
    "# Modelos a serem utilizados\n",
    "\n",
    "# Métricas de avaliação"
   ]
  },
  {
   "cell_type": "markdown",
   "metadata": {
    "id": "j_U-ATvMiaoG"
   },
   "source": [
    "## Lendo o dataset\n",
    "\n",
    "Como se trata de um dataset MUITO famoso em Ciência de Dados, o próprio sklearn já possui os dados salvos"
   ]
  },
  {
   "cell_type": "code",
   "execution_count": 28,
   "metadata": {
    "colab": {
     "base_uri": "https://localhost:8080/",
     "height": 204
    },
    "executionInfo": {
     "elapsed": 1803,
     "status": "ok",
     "timestamp": 1603719907877,
     "user": {
      "displayName": "Thais Rodrigues Neubauer",
      "photoUrl": "https://lh3.googleusercontent.com/a-/AOh14GgmOUNQ0X3l6ckfa9x5ujB2P5C0QQqglAl44VHZNw=s64",
      "userId": "03562214994457129962"
     },
     "user_tz": 180
    },
    "id": "PRiN_EnHU1jE",
    "outputId": "4c766ceb-4159-4424-a3d4-eeb59d051aba"
   },
   "outputs": [
    {
     "data": {
      "text/plain": "{'data': array([[5.1, 3.5, 1.4, 0.2],\n        [4.9, 3. , 1.4, 0.2],\n        [4.7, 3.2, 1.3, 0.2],\n        [4.6, 3.1, 1.5, 0.2],\n        [5. , 3.6, 1.4, 0.2],\n        [5.4, 3.9, 1.7, 0.4],\n        [4.6, 3.4, 1.4, 0.3],\n        [5. , 3.4, 1.5, 0.2],\n        [4.4, 2.9, 1.4, 0.2],\n        [4.9, 3.1, 1.5, 0.1],\n        [5.4, 3.7, 1.5, 0.2],\n        [4.8, 3.4, 1.6, 0.2],\n        [4.8, 3. , 1.4, 0.1],\n        [4.3, 3. , 1.1, 0.1],\n        [5.8, 4. , 1.2, 0.2],\n        [5.7, 4.4, 1.5, 0.4],\n        [5.4, 3.9, 1.3, 0.4],\n        [5.1, 3.5, 1.4, 0.3],\n        [5.7, 3.8, 1.7, 0.3],\n        [5.1, 3.8, 1.5, 0.3],\n        [5.4, 3.4, 1.7, 0.2],\n        [5.1, 3.7, 1.5, 0.4],\n        [4.6, 3.6, 1. , 0.2],\n        [5.1, 3.3, 1.7, 0.5],\n        [4.8, 3.4, 1.9, 0.2],\n        [5. , 3. , 1.6, 0.2],\n        [5. , 3.4, 1.6, 0.4],\n        [5.2, 3.5, 1.5, 0.2],\n        [5.2, 3.4, 1.4, 0.2],\n        [4.7, 3.2, 1.6, 0.2],\n        [4.8, 3.1, 1.6, 0.2],\n        [5.4, 3.4, 1.5, 0.4],\n        [5.2, 4.1, 1.5, 0.1],\n        [5.5, 4.2, 1.4, 0.2],\n        [4.9, 3.1, 1.5, 0.2],\n        [5. , 3.2, 1.2, 0.2],\n        [5.5, 3.5, 1.3, 0.2],\n        [4.9, 3.6, 1.4, 0.1],\n        [4.4, 3. , 1.3, 0.2],\n        [5.1, 3.4, 1.5, 0.2],\n        [5. , 3.5, 1.3, 0.3],\n        [4.5, 2.3, 1.3, 0.3],\n        [4.4, 3.2, 1.3, 0.2],\n        [5. , 3.5, 1.6, 0.6],\n        [5.1, 3.8, 1.9, 0.4],\n        [4.8, 3. , 1.4, 0.3],\n        [5.1, 3.8, 1.6, 0.2],\n        [4.6, 3.2, 1.4, 0.2],\n        [5.3, 3.7, 1.5, 0.2],\n        [5. , 3.3, 1.4, 0.2],\n        [7. , 3.2, 4.7, 1.4],\n        [6.4, 3.2, 4.5, 1.5],\n        [6.9, 3.1, 4.9, 1.5],\n        [5.5, 2.3, 4. , 1.3],\n        [6.5, 2.8, 4.6, 1.5],\n        [5.7, 2.8, 4.5, 1.3],\n        [6.3, 3.3, 4.7, 1.6],\n        [4.9, 2.4, 3.3, 1. ],\n        [6.6, 2.9, 4.6, 1.3],\n        [5.2, 2.7, 3.9, 1.4],\n        [5. , 2. , 3.5, 1. ],\n        [5.9, 3. , 4.2, 1.5],\n        [6. , 2.2, 4. , 1. ],\n        [6.1, 2.9, 4.7, 1.4],\n        [5.6, 2.9, 3.6, 1.3],\n        [6.7, 3.1, 4.4, 1.4],\n        [5.6, 3. , 4.5, 1.5],\n        [5.8, 2.7, 4.1, 1. ],\n        [6.2, 2.2, 4.5, 1.5],\n        [5.6, 2.5, 3.9, 1.1],\n        [5.9, 3.2, 4.8, 1.8],\n        [6.1, 2.8, 4. , 1.3],\n        [6.3, 2.5, 4.9, 1.5],\n        [6.1, 2.8, 4.7, 1.2],\n        [6.4, 2.9, 4.3, 1.3],\n        [6.6, 3. , 4.4, 1.4],\n        [6.8, 2.8, 4.8, 1.4],\n        [6.7, 3. , 5. , 1.7],\n        [6. , 2.9, 4.5, 1.5],\n        [5.7, 2.6, 3.5, 1. ],\n        [5.5, 2.4, 3.8, 1.1],\n        [5.5, 2.4, 3.7, 1. ],\n        [5.8, 2.7, 3.9, 1.2],\n        [6. , 2.7, 5.1, 1.6],\n        [5.4, 3. , 4.5, 1.5],\n        [6. , 3.4, 4.5, 1.6],\n        [6.7, 3.1, 4.7, 1.5],\n        [6.3, 2.3, 4.4, 1.3],\n        [5.6, 3. , 4.1, 1.3],\n        [5.5, 2.5, 4. , 1.3],\n        [5.5, 2.6, 4.4, 1.2],\n        [6.1, 3. , 4.6, 1.4],\n        [5.8, 2.6, 4. , 1.2],\n        [5. , 2.3, 3.3, 1. ],\n        [5.6, 2.7, 4.2, 1.3],\n        [5.7, 3. , 4.2, 1.2],\n        [5.7, 2.9, 4.2, 1.3],\n        [6.2, 2.9, 4.3, 1.3],\n        [5.1, 2.5, 3. , 1.1],\n        [5.7, 2.8, 4.1, 1.3],\n        [6.3, 3.3, 6. , 2.5],\n        [5.8, 2.7, 5.1, 1.9],\n        [7.1, 3. , 5.9, 2.1],\n        [6.3, 2.9, 5.6, 1.8],\n        [6.5, 3. , 5.8, 2.2],\n        [7.6, 3. , 6.6, 2.1],\n        [4.9, 2.5, 4.5, 1.7],\n        [7.3, 2.9, 6.3, 1.8],\n        [6.7, 2.5, 5.8, 1.8],\n        [7.2, 3.6, 6.1, 2.5],\n        [6.5, 3.2, 5.1, 2. ],\n        [6.4, 2.7, 5.3, 1.9],\n        [6.8, 3. , 5.5, 2.1],\n        [5.7, 2.5, 5. , 2. ],\n        [5.8, 2.8, 5.1, 2.4],\n        [6.4, 3.2, 5.3, 2.3],\n        [6.5, 3. , 5.5, 1.8],\n        [7.7, 3.8, 6.7, 2.2],\n        [7.7, 2.6, 6.9, 2.3],\n        [6. , 2.2, 5. , 1.5],\n        [6.9, 3.2, 5.7, 2.3],\n        [5.6, 2.8, 4.9, 2. ],\n        [7.7, 2.8, 6.7, 2. ],\n        [6.3, 2.7, 4.9, 1.8],\n        [6.7, 3.3, 5.7, 2.1],\n        [7.2, 3.2, 6. , 1.8],\n        [6.2, 2.8, 4.8, 1.8],\n        [6.1, 3. , 4.9, 1.8],\n        [6.4, 2.8, 5.6, 2.1],\n        [7.2, 3. , 5.8, 1.6],\n        [7.4, 2.8, 6.1, 1.9],\n        [7.9, 3.8, 6.4, 2. ],\n        [6.4, 2.8, 5.6, 2.2],\n        [6.3, 2.8, 5.1, 1.5],\n        [6.1, 2.6, 5.6, 1.4],\n        [7.7, 3. , 6.1, 2.3],\n        [6.3, 3.4, 5.6, 2.4],\n        [6.4, 3.1, 5.5, 1.8],\n        [6. , 3. , 4.8, 1.8],\n        [6.9, 3.1, 5.4, 2.1],\n        [6.7, 3.1, 5.6, 2.4],\n        [6.9, 3.1, 5.1, 2.3],\n        [5.8, 2.7, 5.1, 1.9],\n        [6.8, 3.2, 5.9, 2.3],\n        [6.7, 3.3, 5.7, 2.5],\n        [6.7, 3. , 5.2, 2.3],\n        [6.3, 2.5, 5. , 1.9],\n        [6.5, 3. , 5.2, 2. ],\n        [6.2, 3.4, 5.4, 2.3],\n        [5.9, 3. , 5.1, 1.8]]),\n 'target': array([0, 0, 0, 0, 0, 0, 0, 0, 0, 0, 0, 0, 0, 0, 0, 0, 0, 0, 0, 0, 0, 0,\n        0, 0, 0, 0, 0, 0, 0, 0, 0, 0, 0, 0, 0, 0, 0, 0, 0, 0, 0, 0, 0, 0,\n        0, 0, 0, 0, 0, 0, 1, 1, 1, 1, 1, 1, 1, 1, 1, 1, 1, 1, 1, 1, 1, 1,\n        1, 1, 1, 1, 1, 1, 1, 1, 1, 1, 1, 1, 1, 1, 1, 1, 1, 1, 1, 1, 1, 1,\n        1, 1, 1, 1, 1, 1, 1, 1, 1, 1, 1, 1, 2, 2, 2, 2, 2, 2, 2, 2, 2, 2,\n        2, 2, 2, 2, 2, 2, 2, 2, 2, 2, 2, 2, 2, 2, 2, 2, 2, 2, 2, 2, 2, 2,\n        2, 2, 2, 2, 2, 2, 2, 2, 2, 2, 2, 2, 2, 2, 2, 2, 2, 2]),\n 'frame': None,\n 'target_names': array(['setosa', 'versicolor', 'virginica'], dtype='<U10'),\n 'DESCR': '.. _iris_dataset:\\n\\nIris plants dataset\\n--------------------\\n\\n**Data Set Characteristics:**\\n\\n    :Number of Instances: 150 (50 in each of three classes)\\n    :Number of Attributes: 4 numeric, predictive attributes and the class\\n    :Attribute Information:\\n        - sepal length in cm\\n        - sepal width in cm\\n        - petal length in cm\\n        - petal width in cm\\n        - class:\\n                - Iris-Setosa\\n                - Iris-Versicolour\\n                - Iris-Virginica\\n                \\n    :Summary Statistics:\\n\\n    ============== ==== ==== ======= ===== ====================\\n                    Min  Max   Mean    SD   Class Correlation\\n    ============== ==== ==== ======= ===== ====================\\n    sepal length:   4.3  7.9   5.84   0.83    0.7826\\n    sepal width:    2.0  4.4   3.05   0.43   -0.4194\\n    petal length:   1.0  6.9   3.76   1.76    0.9490  (high!)\\n    petal width:    0.1  2.5   1.20   0.76    0.9565  (high!)\\n    ============== ==== ==== ======= ===== ====================\\n\\n    :Missing Attribute Values: None\\n    :Class Distribution: 33.3% for each of 3 classes.\\n    :Creator: R.A. Fisher\\n    :Donor: Michael Marshall (MARSHALL%PLU@io.arc.nasa.gov)\\n    :Date: July, 1988\\n\\nThe famous Iris database, first used by Sir R.A. Fisher. The dataset is taken\\nfrom Fisher\\'s paper. Note that it\\'s the same as in R, but not as in the UCI\\nMachine Learning Repository, which has two wrong data points.\\n\\nThis is perhaps the best known database to be found in the\\npattern recognition literature.  Fisher\\'s paper is a classic in the field and\\nis referenced frequently to this day.  (See Duda & Hart, for example.)  The\\ndata set contains 3 classes of 50 instances each, where each class refers to a\\ntype of iris plant.  One class is linearly separable from the other 2; the\\nlatter are NOT linearly separable from each other.\\n\\n.. topic:: References\\n\\n   - Fisher, R.A. \"The use of multiple measurements in taxonomic problems\"\\n     Annual Eugenics, 7, Part II, 179-188 (1936); also in \"Contributions to\\n     Mathematical Statistics\" (John Wiley, NY, 1950).\\n   - Duda, R.O., & Hart, P.E. (1973) Pattern Classification and Scene Analysis.\\n     (Q327.D83) John Wiley & Sons.  ISBN 0-471-22361-1.  See page 218.\\n   - Dasarathy, B.V. (1980) \"Nosing Around the Neighborhood: A New System\\n     Structure and Classification Rule for Recognition in Partially Exposed\\n     Environments\".  IEEE Transactions on Pattern Analysis and Machine\\n     Intelligence, Vol. PAMI-2, No. 1, 67-71.\\n   - Gates, G.W. (1972) \"The Reduced Nearest Neighbor Rule\".  IEEE Transactions\\n     on Information Theory, May 1972, 431-433.\\n   - See also: 1988 MLC Proceedings, 54-64.  Cheeseman et al\"s AUTOCLASS II\\n     conceptual clustering system finds 3 classes in the data.\\n   - Many, many more ...',\n 'feature_names': ['sepal length (cm)',\n  'sepal width (cm)',\n  'petal length (cm)',\n  'petal width (cm)'],\n 'filename': 'iris.csv',\n 'data_module': 'sklearn.datasets.data'}"
     },
     "execution_count": 28,
     "metadata": {},
     "output_type": "execute_result"
    }
   ],
   "source": [
    "from sklearn.datasets import load_iris\n",
    "from sklearn.model_selection import train_test_split\n",
    "from sklearn.linear_model import Perceptron\n",
    "from sklearn.metrics import accuracy_score\n",
    "\n",
    "iris = load_iris()\n",
    "iris"
   ]
  },
  {
   "cell_type": "code",
   "execution_count": 3,
   "metadata": {},
   "outputs": [
    {
     "data": {
      "text/plain": "array(['setosa', 'versicolor', 'virginica'], dtype='<U10')"
     },
     "execution_count": 3,
     "metadata": {},
     "output_type": "execute_result"
    }
   ],
   "source": [
    "# Podemos fuçar em parâmetros prontos do dataset, por exemplo, o nome das classes\n",
    "iris.target_names"
   ]
  },
  {
   "cell_type": "code",
   "execution_count": 11,
   "metadata": {},
   "outputs": [],
   "source": [
    "# Transformando em Dataframe Pandas: \n",
    "#   - os dados são iris.data\n",
    "#   - as colunas são os nomes das características\n",
    "data = pd.DataFrame(iris.data, columns=iris.feature_names)\n",
    "data[\"class\"] = iris.target"
   ]
  },
  {
   "cell_type": "code",
   "execution_count": 12,
   "metadata": {
    "colab": {
     "base_uri": "https://localhost:8080/",
     "height": 34
    },
    "executionInfo": {
     "elapsed": 1759,
     "status": "ok",
     "timestamp": 1603719907878,
     "user": {
      "displayName": "Thais Rodrigues Neubauer",
      "photoUrl": "https://lh3.googleusercontent.com/a-/AOh14GgmOUNQ0X3l6ckfa9x5ujB2P5C0QQqglAl44VHZNw=s64",
      "userId": "03562214994457129962"
     },
     "user_tz": 180
    },
    "id": "tDpZtundrsns",
    "outputId": "8d695808-78c8-48fd-ae7e-7cec4d44ae36"
   },
   "outputs": [
    {
     "data": {
      "text/plain": "     sepal length (cm)  sepal width (cm)  petal length (cm)  petal width (cm)  \\\n0                  5.1               3.5                1.4               0.2   \n1                  4.9               3.0                1.4               0.2   \n2                  4.7               3.2                1.3               0.2   \n3                  4.6               3.1                1.5               0.2   \n4                  5.0               3.6                1.4               0.2   \n..                 ...               ...                ...               ...   \n145                6.7               3.0                5.2               2.3   \n146                6.3               2.5                5.0               1.9   \n147                6.5               3.0                5.2               2.0   \n148                6.2               3.4                5.4               2.3   \n149                5.9               3.0                5.1               1.8   \n\n     class  \n0        0  \n1        0  \n2        0  \n3        0  \n4        0  \n..     ...  \n145      2  \n146      2  \n147      2  \n148      2  \n149      2  \n\n[150 rows x 5 columns]",
      "text/html": "<div>\n<style scoped>\n    .dataframe tbody tr th:only-of-type {\n        vertical-align: middle;\n    }\n\n    .dataframe tbody tr th {\n        vertical-align: top;\n    }\n\n    .dataframe thead th {\n        text-align: right;\n    }\n</style>\n<table border=\"1\" class=\"dataframe\">\n  <thead>\n    <tr style=\"text-align: right;\">\n      <th></th>\n      <th>sepal length (cm)</th>\n      <th>sepal width (cm)</th>\n      <th>petal length (cm)</th>\n      <th>petal width (cm)</th>\n      <th>class</th>\n    </tr>\n  </thead>\n  <tbody>\n    <tr>\n      <th>0</th>\n      <td>5.1</td>\n      <td>3.5</td>\n      <td>1.4</td>\n      <td>0.2</td>\n      <td>0</td>\n    </tr>\n    <tr>\n      <th>1</th>\n      <td>4.9</td>\n      <td>3.0</td>\n      <td>1.4</td>\n      <td>0.2</td>\n      <td>0</td>\n    </tr>\n    <tr>\n      <th>2</th>\n      <td>4.7</td>\n      <td>3.2</td>\n      <td>1.3</td>\n      <td>0.2</td>\n      <td>0</td>\n    </tr>\n    <tr>\n      <th>3</th>\n      <td>4.6</td>\n      <td>3.1</td>\n      <td>1.5</td>\n      <td>0.2</td>\n      <td>0</td>\n    </tr>\n    <tr>\n      <th>4</th>\n      <td>5.0</td>\n      <td>3.6</td>\n      <td>1.4</td>\n      <td>0.2</td>\n      <td>0</td>\n    </tr>\n    <tr>\n      <th>...</th>\n      <td>...</td>\n      <td>...</td>\n      <td>...</td>\n      <td>...</td>\n      <td>...</td>\n    </tr>\n    <tr>\n      <th>145</th>\n      <td>6.7</td>\n      <td>3.0</td>\n      <td>5.2</td>\n      <td>2.3</td>\n      <td>2</td>\n    </tr>\n    <tr>\n      <th>146</th>\n      <td>6.3</td>\n      <td>2.5</td>\n      <td>5.0</td>\n      <td>1.9</td>\n      <td>2</td>\n    </tr>\n    <tr>\n      <th>147</th>\n      <td>6.5</td>\n      <td>3.0</td>\n      <td>5.2</td>\n      <td>2.0</td>\n      <td>2</td>\n    </tr>\n    <tr>\n      <th>148</th>\n      <td>6.2</td>\n      <td>3.4</td>\n      <td>5.4</td>\n      <td>2.3</td>\n      <td>2</td>\n    </tr>\n    <tr>\n      <th>149</th>\n      <td>5.9</td>\n      <td>3.0</td>\n      <td>5.1</td>\n      <td>1.8</td>\n      <td>2</td>\n    </tr>\n  </tbody>\n</table>\n<p>150 rows × 5 columns</p>\n</div>"
     },
     "execution_count": 12,
     "metadata": {},
     "output_type": "execute_result"
    }
   ],
   "source": [
    "data"
   ]
  },
  {
   "cell_type": "markdown",
   "metadata": {},
   "source": [
    "## Dividindo os dados em TREINO e TESTE"
   ]
  },
  {
   "cell_type": "code",
   "execution_count": 13,
   "metadata": {},
   "outputs": [],
   "source": [
    "X = data.drop(columns=[\"class\"])\n",
    "y = data[\"class\"]\n",
    "\n",
    "X_train, X_test, y_train, y_test = train_test_split(X, y, test_size=0.2, random_state=42)"
   ]
  },
  {
   "cell_type": "markdown",
   "metadata": {
    "id": "4IYJwPZR15bP"
   },
   "source": [
    "## Perceptron\n",
    "\n",
    "Vamos começar trabalhando com uma rede bem básica: o Perceptron"
   ]
  },
  {
   "cell_type": "code",
   "execution_count": 18,
   "metadata": {},
   "outputs": [
    {
     "data": {
      "text/plain": "Perceptron(random_state=42)"
     },
     "execution_count": 18,
     "metadata": {},
     "output_type": "execute_result"
    }
   ],
   "source": [
    "# Cria um perceptron e o treina (com o fit())\n",
    "perceptron = Perceptron(random_state=42)\n",
    "perceptron.fit(X_train, y_train)"
   ]
  },
  {
   "cell_type": "code",
   "execution_count": 19,
   "metadata": {},
   "outputs": [],
   "source": [
    "# Salva as predições do TESTE na variável y_pred\n",
    "y_pred = perceptron.predict(X_test)"
   ]
  },
  {
   "cell_type": "code",
   "execution_count": 20,
   "metadata": {},
   "outputs": [
    {
     "data": {
      "text/plain": "array([1, 0, 1, 1, 1, 0, 1, 1, 1, 1, 1, 0, 0, 0, 0, 1, 1, 1, 1, 1, 0, 1,\n       0, 1, 1, 1, 1, 1, 0, 0])"
     },
     "execution_count": 20,
     "metadata": {},
     "output_type": "execute_result"
    }
   ],
   "source": [
    "y_pred"
   ]
  },
  {
   "cell_type": "code",
   "execution_count": 31,
   "metadata": {},
   "outputs": [
    {
     "data": {
      "text/plain": "0.6333333333333333"
     },
     "execution_count": 31,
     "metadata": {},
     "output_type": "execute_result"
    }
   ],
   "source": [
    "# Calcula a acurácia deste perceptron, por meio dos valores preditos para o teste\n",
    "# e os valores reais \n",
    "accuracy_score(y_test, y_pred)"
   ]
  },
  {
   "cell_type": "code",
   "execution_count": 23,
   "metadata": {},
   "outputs": [
    {
     "data": {
      "text/plain": "array([[  3. ,   7.9, -12.5,  -5.2],\n       [ 15.9, -33.3,   6.1, -24.9],\n       [-27.6, -24.9,  27.8,  27.4]])"
     },
     "execution_count": 23,
     "metadata": {},
     "output_type": "execute_result"
    }
   ],
   "source": [
    "# Estes são os pesos já treinados, sendo 3 classes (linhas) e 4 colunas (features)\n",
    "perceptron.coef_"
   ]
  },
  {
   "cell_type": "code",
   "execution_count": 24,
   "metadata": {},
   "outputs": [
    {
     "data": {
      "text/plain": "array([  2.,  14., -13.])"
     },
     "execution_count": 24,
     "metadata": {},
     "output_type": "execute_result"
    }
   ],
   "source": [
    "# Estes são os bias do perceptron\n",
    "perceptron.intercept_"
   ]
  },
  {
   "cell_type": "code",
   "execution_count": 33,
   "metadata": {},
   "outputs": [
    {
     "data": {
      "text/plain": "<sklearn.metrics._plot.confusion_matrix.ConfusionMatrixDisplay at 0x12b307d30>"
     },
     "execution_count": 33,
     "metadata": {},
     "output_type": "execute_result"
    },
    {
     "data": {
      "text/plain": "<Figure size 432x288 with 2 Axes>",
      "image/png": "[encoded data removed]"
     },
     "metadata": {
      "needs_background": "light"
     },
     "output_type": "display_data"
    }
   ],
   "source": [
    "# Matriz de confusão do perceptron\n",
    "from sklearn.metrics import plot_confusion_matrix\n",
    "\n",
    "plot_confusion_matrix(perceptron, X_test, y_test, cmap=\"Blues\")"
   ]
  },
  {
   "cell_type": "markdown",
   "metadata": {},
   "source": [
    "## Uma análise do resultado do Perceptron\n",
    "\n",
    "Resultado não foi muito bom ne? Mas faz sentido porque esse tipo de rede resolve bem problemas LINEARMENTE SEPARÁVEIS. Será que é o caso deste dataset? "
   ]
  },
  {
   "cell_type": "code",
   "execution_count": 34,
   "metadata": {
    "id": "l2fijjx96kqF"
   },
   "outputs": [
    {
     "ename": "NameError",
     "evalue": "name 'sns' is not defined",
     "output_type": "error",
     "traceback": [
      "\u001B[0;31m---------------------------------------------------------------------------\u001B[0m",
      "\u001B[0;31mNameError\u001B[0m                                 Traceback (most recent call last)",
      "Input \u001B[0;32mIn [34]\u001B[0m, in \u001B[0;36m<cell line: 1>\u001B[0;34m()\u001B[0m\n\u001B[0;32m----> 1\u001B[0m \u001B[43msns\u001B[49m\u001B[38;5;241m.\u001B[39mpairplot(data\u001B[38;5;241m=\u001B[39mdata, \u001B[38;5;28mvars\u001B[39m\u001B[38;5;241m=\u001B[39m(\u001B[38;5;124m'\u001B[39m\u001B[38;5;124msepal length (cm)\u001B[39m\u001B[38;5;124m'\u001B[39m,\n\u001B[1;32m      2\u001B[0m                               \u001B[38;5;124m'\u001B[39m\u001B[38;5;124msepal width (cm)\u001B[39m\u001B[38;5;124m'\u001B[39m,\n\u001B[1;32m      3\u001B[0m                               \u001B[38;5;124m'\u001B[39m\u001B[38;5;124mpetal length (cm)\u001B[39m\u001B[38;5;124m'\u001B[39m,\n\u001B[1;32m      4\u001B[0m                               \u001B[38;5;124m'\u001B[39m\u001B[38;5;124mpetal width (cm)\u001B[39m\u001B[38;5;124m'\u001B[39m),\n\u001B[1;32m      5\u001B[0m              hue\u001B[38;5;241m=\u001B[39m\u001B[38;5;124m'\u001B[39m\u001B[38;5;124mclass\u001B[39m\u001B[38;5;124m'\u001B[39m)\n",
      "\u001B[0;31mNameError\u001B[0m: name 'sns' is not defined"
     ]
    }
   ],
   "source": [
    "sns.pairplot(data=data, vars=('sepal length (cm)',\n",
    "                              'sepal width (cm)',\n",
    "                              'petal length (cm)',\n",
    "                              'petal width (cm)'),\n",
    "             hue='class');"
   ]
  },
  {
   "cell_type": "markdown",
   "metadata": {
    "id": "mqv0wN4Q3maW"
   },
   "source": [
    "## Multi-layer Perceptron (MLP)\n",
    "\n",
    "Veja [aqui](https://scikit-learn.org/stable/modules/generated/sklearn.neural_network.MLPClassifier.html#sklearn.neural_network.MLPClassifier) todos os parâmetros e seus significados.\n",
    "\n",
    "Vamos começar com a arquitetura mais simples: \n",
    "\n",
    "![Arquitetura inicial](https://miro.medium.com/max/381/1*Pff-9bCGTqE6iMW2sBSTmw.png)"
   ]
  },
  {
   "cell_type": "code",
   "metadata": {
    "executionInfo": {
     "elapsed": 2054,
     "status": "ok",
     "timestamp": 1603719908378,
     "user": {
      "displayName": "Thais Rodrigues Neubauer",
      "photoUrl": "https://lh3.googleusercontent.com/a-/AOh14GgmOUNQ0X3l6ckfa9x5ujB2P5C0QQqglAl44VHZNw=s64",
      "userId": "03562214994457129962"
     },
     "user_tz": 180
    },
    "id": "npR4pO0v3lcg",
    "pycharm": {
     "name": "#%%\n"
    }
   },
   "source": [
    "#Arquitetura\n",
    "from sklearn.neural_network import MLPClassifier\n",
    "\n",
    "mlp = MLPClassifier(hidden_layer_sizes=(5,), random_state=1, verbose=True, max_iter=50)\n",
    "mlp.fit(X_train, y_train)\n",
    "plot_confusion_matrix(mlp, X_test, y_test, cmap=\"Blues\")"
   ],
   "execution_count": 36,
   "outputs": [
    {
     "name": "stdout",
     "output_type": "stream",
     "text": [
      "Iteration 1, loss = 2.08037493\n",
      "Iteration 2, loss = 2.06532354\n",
      "Iteration 3, loss = 2.05033268\n",
      "Iteration 4, loss = 2.03525767\n",
      "Iteration 5, loss = 2.02015639\n",
      "Iteration 6, loss = 2.00505941\n",
      "Iteration 7, loss = 1.99005943\n",
      "Iteration 8, loss = 1.97508232\n",
      "Iteration 9, loss = 1.96009013\n",
      "Iteration 10, loss = 1.94520369\n",
      "Iteration 11, loss = 1.93042694\n",
      "Iteration 12, loss = 1.91568140\n",
      "Iteration 13, loss = 1.90103579\n",
      "Iteration 14, loss = 1.88631849\n",
      "Iteration 15, loss = 1.87144170\n",
      "Iteration 16, loss = 1.85650081\n",
      "Iteration 17, loss = 1.84135841\n",
      "Iteration 18, loss = 1.82623030\n",
      "Iteration 19, loss = 1.81102525\n",
      "Iteration 20, loss = 1.79576661\n",
      "Iteration 21, loss = 1.78057518\n",
      "Iteration 22, loss = 1.76543617\n",
      "Iteration 23, loss = 1.75043564\n",
      "Iteration 24, loss = 1.73557174\n",
      "Iteration 25, loss = 1.72086287\n",
      "Iteration 26, loss = 1.70630537\n",
      "Iteration 27, loss = 1.69190475\n",
      "Iteration 28, loss = 1.67767132\n",
      "Iteration 29, loss = 1.66362040\n",
      "Iteration 30, loss = 1.64973531\n",
      "Iteration 31, loss = 1.63601784\n",
      "Iteration 32, loss = 1.62247059\n",
      "Iteration 33, loss = 1.60909586\n",
      "Iteration 34, loss = 1.59589564\n",
      "Iteration 35, loss = 1.58287165\n",
      "Iteration 36, loss = 1.57002533\n",
      "Iteration 37, loss = 1.55735786\n",
      "Iteration 38, loss = 1.54487021\n",
      "Iteration 39, loss = 1.53256308\n",
      "Iteration 40, loss = 1.52043698\n",
      "Iteration 41, loss = 1.50849222\n",
      "Iteration 42, loss = 1.49674699\n",
      "Iteration 43, loss = 1.48518586\n",
      "Iteration 44, loss = 1.47380763\n",
      "Iteration 45, loss = 1.46261180\n",
      "Iteration 46, loss = 1.45159775\n",
      "Iteration 47, loss = 1.44076475\n",
      "Iteration 48, loss = 1.43011198\n",
      "Iteration 49, loss = 1.41963855\n",
      "Iteration 50, loss = 1.40934348\n"
     ]
    },
    {
     "data": {
      "text/plain": "<sklearn.metrics._plot.confusion_matrix.ConfusionMatrixDisplay at 0x12bcdc8b0>"
     },
     "execution_count": 36,
     "metadata": {},
     "output_type": "execute_result"
    },
    {
     "data": {
      "text/plain": "<Figure size 432x288 with 2 Axes>",
      "image/png": "[encoded data removed]"
     },
     "metadata": {
      "needs_background": "light"
     },
     "output_type": "display_data"
    }
   ]
  },
  {
   "cell_type": "markdown",
   "metadata": {
    "id": "l2S_xrof6zE1"
   },
   "source": [
    "### Ajustando parâmetros...\n",
    "\n",
    "Comparando os diferentes resultados alcançados com a alteração de parâmetros, fica clara (mais uma vez) a **importância de ajustar esses parâmetros**."
   ]
  },
  {
   "cell_type": "code",
   "execution_count": 37,
   "metadata": {
    "colab": {
     "base_uri": "https://localhost:8080/",
     "height": 279
    },
    "executionInfo": {
     "elapsed": 2172,
     "status": "ok",
     "timestamp": 1603719908674,
     "user": {
      "displayName": "Thais Rodrigues Neubauer",
      "photoUrl": "https://lh3.googleusercontent.com/a-/AOh14GgmOUNQ0X3l6ckfa9x5ujB2P5C0QQqglAl44VHZNw=s64",
      "userId": "03562214994457129962"
     },
     "user_tz": 180
    },
    "id": "3jm47-Hv4vgI",
    "outputId": "99783647-72c1-4e73-bc52-0fb4c90b58de"
   },
   "outputs": [
    {
     "name": "stdout",
     "output_type": "stream",
     "text": [
      "Iteration 1, loss = 1.16409179\n",
      "Iteration 2, loss = 1.16252612\n",
      "Iteration 3, loss = 1.16097184\n",
      "Iteration 4, loss = 1.15942920\n",
      "Iteration 5, loss = 1.15789845\n",
      "Iteration 6, loss = 1.15637980\n",
      "Iteration 7, loss = 1.15487347\n",
      "Iteration 8, loss = 1.15337967\n",
      "Iteration 9, loss = 1.15189858\n",
      "Iteration 10, loss = 1.15043038\n",
      "Iteration 11, loss = 1.14897523\n",
      "Iteration 12, loss = 1.14753329\n",
      "Iteration 13, loss = 1.14610469\n",
      "Iteration 14, loss = 1.14468955\n",
      "Iteration 15, loss = 1.14328798\n",
      "Iteration 16, loss = 1.14190006\n",
      "Iteration 17, loss = 1.14052588\n",
      "Iteration 18, loss = 1.13916547\n",
      "Iteration 19, loss = 1.13781889\n",
      "Iteration 20, loss = 1.13648615\n",
      "Iteration 21, loss = 1.13516725\n",
      "Iteration 22, loss = 1.13386217\n",
      "Iteration 23, loss = 1.13257087\n",
      "Iteration 24, loss = 1.13129328\n",
      "Iteration 25, loss = 1.13002932\n",
      "Iteration 26, loss = 1.12877888\n",
      "Iteration 27, loss = 1.12754182\n",
      "Iteration 28, loss = 1.12631800\n",
      "Iteration 29, loss = 1.12510722\n",
      "Iteration 30, loss = 1.12390928\n",
      "Iteration 31, loss = 1.12272394\n",
      "Iteration 32, loss = 1.12155096\n",
      "Iteration 33, loss = 1.12039004\n",
      "Iteration 34, loss = 1.11924087\n",
      "Iteration 35, loss = 1.11810314\n",
      "Iteration 36, loss = 1.11697648\n",
      "Iteration 37, loss = 1.11586054\n",
      "Iteration 38, loss = 1.11475492\n",
      "Iteration 39, loss = 1.11365923\n",
      "Iteration 40, loss = 1.11257306\n",
      "Iteration 41, loss = 1.11149599\n",
      "Iteration 42, loss = 1.11042762\n",
      "Iteration 43, loss = 1.10936753\n",
      "Iteration 44, loss = 1.10831530\n",
      "Iteration 45, loss = 1.10727054\n",
      "Iteration 46, loss = 1.10623285\n",
      "Iteration 47, loss = 1.10520186\n",
      "Iteration 48, loss = 1.10417722\n",
      "Iteration 49, loss = 1.10315856\n",
      "Iteration 50, loss = 1.10214558\n"
     ]
    },
    {
     "data": {
      "text/plain": "<sklearn.metrics._plot.confusion_matrix.ConfusionMatrixDisplay at 0x12a89bee0>"
     },
     "execution_count": 37,
     "metadata": {},
     "output_type": "execute_result"
    },
    {
     "data": {
      "text/plain": "<Figure size 432x288 with 2 Axes>",
      "image/png": "[encoded data removed]"
     },
     "metadata": {
      "needs_background": "light"
     },
     "output_type": "display_data"
    }
   ],
   "source": [
    "#Alterando a função de ativação...\n",
    "mlp = MLPClassifier(\n",
    "    hidden_layer_sizes=(5,),\n",
    "    random_state=1,\n",
    "    verbose=True,\n",
    "    max_iter=50,\n",
    "    activation=\"logistic\"\n",
    ")\n",
    "\n",
    "mlp.fit(X_train, y_train)\n",
    "plot_confusion_matrix(mlp, X_test, y_test, cmap=\"Blues\")"
   ]
  },
  {
   "cell_type": "code",
   "execution_count": 45,
   "metadata": {
    "colab": {
     "base_uri": "https://localhost:8080/",
     "height": 279
    },
    "executionInfo": {
     "elapsed": 2391,
     "status": "ok",
     "timestamp": 1603719908939,
     "user": {
      "displayName": "Thais Rodrigues Neubauer",
      "photoUrl": "https://lh3.googleusercontent.com/a-/AOh14GgmOUNQ0X3l6ckfa9x5ujB2P5C0QQqglAl44VHZNw=s64",
      "userId": "03562214994457129962"
     },
     "user_tz": 180
    },
    "id": "PzG1eDxw5fKh",
    "outputId": "a463bd7f-de5d-4104-a16e-041cc15e9784"
   },
   "outputs": [
    {
     "data": {
      "text/plain": "<sklearn.metrics._plot.confusion_matrix.ConfusionMatrixDisplay at 0x12c276220>"
     },
     "execution_count": 45,
     "metadata": {},
     "output_type": "execute_result"
    },
    {
     "data": {
      "text/plain": "<Figure size 432x288 with 2 Axes>",
      "image/png": "[encoded data removed]"
     },
     "metadata": {
      "needs_background": "light"
     },
     "output_type": "display_data"
    }
   ],
   "source": [
    "#Alterando o solver para o que a própria documentação aconselha para datasets menores\n",
    "#Alterando a função de ativação...\n",
    "mlp = MLPClassifier(\n",
    "    hidden_layer_sizes=5,\n",
    "    random_state=1,\n",
    "    solver=\"lbfgs\",\n",
    "    activation=\"logistic\"\n",
    ")\n",
    "\n",
    "mlp.fit(X_train, y_train)\n",
    "plot_confusion_matrix(mlp, X_test, y_test, cmap=\"Blues\")"
   ]
  },
  {
   "cell_type": "code",
   "execution_count": 41,
   "metadata": {
    "colab": {
     "base_uri": "https://localhost:8080/",
     "height": 279
    },
    "executionInfo": {
     "elapsed": 2696,
     "status": "ok",
     "timestamp": 1603719909276,
     "user": {
      "displayName": "Thais Rodrigues Neubauer",
      "photoUrl": "https://lh3.googleusercontent.com/a-/AOh14GgmOUNQ0X3l6ckfa9x5ujB2P5C0QQqglAl44VHZNw=s64",
      "userId": "03562214994457129962"
     },
     "user_tz": 180
    },
    "id": "dnL19VrBIX68",
    "outputId": "ac3d14ff-99b4-41c8-eeb9-c39ecedc723a"
   },
   "outputs": [
    {
     "data": {
      "text/plain": "<sklearn.metrics._plot.confusion_matrix.ConfusionMatrixDisplay at 0x12be632b0>"
     },
     "execution_count": 41,
     "metadata": {},
     "output_type": "execute_result"
    },
    {
     "data": {
      "text/plain": "<Figure size 432x288 with 2 Axes>",
      "image/png": "[encoded data removed]"
     },
     "metadata": {
      "needs_background": "light"
     },
     "output_type": "display_data"
    }
   ],
   "source": [
    "#Testando outra arquitetura...\n",
    "mlp = MLPClassifier(\n",
    "    hidden_layer_sizes=(5, 3),\n",
    "    random_state=1,\n",
    "    solver=\"lbfgs\",\n",
    ")\n",
    "\n",
    "mlp.fit(X_train, y_train)\n",
    "plot_confusion_matrix(mlp, X_test, y_test, cmap=\"Blues\")"
   ]
  },
  {
   "cell_type": "markdown",
   "metadata": {
    "id": "qa4FWggn8vSu"
   },
   "source": [
    "### Pesos da rede"
   ]
  },
  {
   "cell_type": "code",
   "execution_count": null,
   "metadata": {
    "colab": {
     "base_uri": "https://localhost:8080/",
     "height": 306
    },
    "executionInfo": {
     "elapsed": 3291,
     "status": "ok",
     "timestamp": 1603719909998,
     "user": {
      "displayName": "Thais Rodrigues Neubauer",
      "photoUrl": "https://lh3.googleusercontent.com/a-/AOh14GgmOUNQ0X3l6ckfa9x5ujB2P5C0QQqglAl44VHZNw=s64",
      "userId": "03562214994457129962"
     },
     "user_tz": 180
    },
    "id": "HNhifDZ28zZm",
    "outputId": "351fc851-7410-4ed4-f89f-fe4897e0ecbc"
   },
   "outputs": [],
   "source": [
    "print(\"pesos entre a camada de ENTRADA (4 neurônios) e a 1ª CAMADA OCULTA (5 neurônios):\")\n",
    "print(mlp.coefs_[0])\n",
    "print(\"\\npesos entre 1ª CAMADA OCULTA (5 neurônios) e a 2ª CAMADA OCULTA (3 neurônios):\")\n",
    "print(mlp.coefs_[1])\n",
    "print(\"\\npesos entre 2ª CAMADA OCULTA (3 neurônios) e camada de SAÍDA (3 neurônios):\")\n",
    "print(mlp.coefs_[2])"
   ]
  },
  {
   "cell_type": "code",
   "execution_count": null,
   "metadata": {
    "executionInfo": {
     "elapsed": 395946,
     "status": "ok",
     "timestamp": 1603720302863,
     "user": {
      "displayName": "Thais Rodrigues Neubauer",
      "photoUrl": "https://lh3.googleusercontent.com/a-/AOh14GgmOUNQ0X3l6ckfa9x5ujB2P5C0QQqglAl44VHZNw=s64",
      "userId": "03562214994457129962"
     },
     "user_tz": 180
    },
    "id": "yobVJSkyGUt2"
   },
   "outputs": [],
   "source": []
  }
 ],
 "metadata": {
  "colab": {
   "authorship_tag": "ABX9TyN12bunyGzaTi3b+wuO9iLQ",
   "collapsed_sections": [],
   "name": "Perceptron",
   "provenance": []
  },
  "kernelspec": {
   "display_name": "Python 3",
   "language": "python",
   "name": "python3"
  },
  "language_info": {
   "codemirror_mode": {
    "name": "ipython",
    "version": 3
   },
   "file_extension": ".py",
   "mimetype": "text/x-python",
   "name": "python",
   "nbconvert_exporter": "python",
   "pygments_lexer": "ipython3",
   "version": "3.7.3"
  }
 },
 "nbformat": 4,
 "nbformat_minor": 1
}