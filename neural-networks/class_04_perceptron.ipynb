{
 "cells": [
  {
   "cell_type": "markdown",
   "metadata": {},
   "source": [
    "FIAP - Redes Neurais Artificiais, Deep Learning e Algoritmos Genéticos \n",
    "\n",
    "# Aula 04 - Treinamento do Perceptron\n",
    "\n",
    "Lembrando do que vimos na matéria de _Machine Learning_, quando desenvolvemos modelos preditivos temos 2 fases: \n",
    "- **treinamento** : construção do modelo\n",
    "- **teste** : uso do modelo construído\n",
    "\n",
    "Na última aula, nós usamos uma rede \"pronta\" para predizer se uma faculdade era uma boa escolha ou não (modelo de classificação) ou prever um score de cada faculdade para criar um ranking (modelo de regressão).\n",
    "\n",
    "Note que os pesos já foram fornecidos, ou seja, o modelo já estava \"treinado\": \n",
    "\n",
    "```python\n",
    "pesos = [ 0.10, 0.05, 0.05, 0.2, 0.25, 0.3, 0.05 ]\n",
    "```\n",
    "\n",
    "Mas e se os pesos não fossem dados? Como poderíamos encontrar os melhores pesos para o problema? Daí surge o **treinamento dos modelos**, ou seja, encontrar os pesos adequados para modelar o problema. "
   ]
  },
  {
   "cell_type": "markdown",
   "metadata": {},
   "source": [
    "## Treinamento do Perceptron \n",
    "\n",
    "Aprendendo os melhores pesos para modelar o problema. \n",
    "\n",
    "\n",
    "... passos do algoritmo\n"
   ]
  },
  {
   "cell_type": "code",
   "execution_count": 2,
   "metadata": {},
   "outputs": [],
   "source": [
    "import numpy"
   ]
  },
  {
   "cell_type": "code",
   "execution_count": 5,
   "metadata": {},
   "outputs": [],
   "source": [
    "inputs = numpy.array([\n",
    "    [0, 0],\n",
    "    [0, 1],\n",
    "    [1, 0],\n",
    "    [1, 1],\n",
    "])\n",
    "outputs = numpy.array([0, 0, 0, 1])\n",
    "weights = numpy.array([0.0, 0.0])\n",
    "learning_rate = 0.1"
   ]
  },
  {
   "cell_type": "code",
   "execution_count": 13,
   "metadata": {},
   "outputs": [
    {
     "name": "stdout",
     "output_type": "stream",
     "text": [
      "Total errors: 0\n"
     ]
    }
   ],
   "source": [
    "def is_active(neuron):\n",
    "    return 1 if neuron >= 1 else 0\n",
    "\n",
    "\n",
    "def calculate_neuron(_inputs, _weights, b=0):\n",
    "    neuron = _inputs.dot(_weights) + b\n",
    "    return is_active(neuron)\n",
    "\n",
    "\n",
    "def train_network(_inputs, _weights):\n",
    "    total = 1\n",
    "    while total != 0:\n",
    "        total = 0\n",
    "        for i, _ in enumerate(_inputs):\n",
    "            neuron = calculate_neuron(_inputs[i], _weights)\n",
    "            # error could be 0, 1 or -1. 0 means it does not have error\n",
    "            error = outputs[i] - neuron\n",
    "            total = total + error\n",
    "\n",
    "            for j, _ in enumerate(_weights):\n",
    "                _weights[j] = _weights[j] + (_inputs[i][j] * error * learning_rate)\n",
    "\n",
    "        print(f\"Total errors: {total}\")\n",
    "\n",
    "\n",
    "train_network(inputs, weights)"
   ]
  },
  {
   "cell_type": "code",
   "execution_count": null,
   "outputs": [],
   "source": [],
   "metadata": {
    "collapsed": false,
    "pycharm": {
     "name": "#%%\n"
    }
   }
  },
  {
   "cell_type": "markdown",
   "metadata": {},
   "source": [
    "## Para casa\n",
    "\n",
    "Altere os valores dos pesos iniciais e da taxa de aprendizagem e observe o impacto no treinamento da rede. \n",
    "\n",
    "Note que eventualmente você pode chegar em uma configuração que a rede não converge para os pesos adequados (ou seja, o laço `while` continua a rodar infinitamente. Se isso ocorrer, pare a execução no botão STOP (interrupt the kernel), ou vá em Kernel > Restart. "
   ]
  },
  {
   "cell_type": "code",
   "execution_count": null,
   "metadata": {},
   "outputs": [],
   "source": []
  }
 ],
 "metadata": {
  "kernelspec": {
   "display_name": "Python 3",
   "language": "python",
   "name": "python3"
  },
  "language_info": {
   "codemirror_mode": {
    "name": "ipython",
    "version": 3
   },
   "file_extension": ".py",
   "mimetype": "text/x-python",
   "name": "python",
   "nbconvert_exporter": "python",
   "pygments_lexer": "ipython3",
   "version": "3.7.3"
  }
 },
 "nbformat": 4,
 "nbformat_minor": 4
}