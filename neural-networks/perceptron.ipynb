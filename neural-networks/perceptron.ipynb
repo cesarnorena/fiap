{
 "cells": [
  {
   "cell_type": "markdown",
   "id": "8d52aa15",
   "metadata": {},
   "source": [
    "## Simple implementation of Perceptron algorithm"
   ]
  },
  {
   "cell_type": "code",
   "execution_count": 75,
   "id": "00311f04",
   "metadata": {},
   "outputs": [],
   "source": [
    "import numpy as np"
   ]
  },
  {
   "cell_type": "code",
   "execution_count": 76,
   "id": "7a95702b",
   "metadata": {},
   "outputs": [],
   "source": [
    "inputs = [1, 2, 3]\n",
    "weights = [0.1, 0.2, 0.3]\n",
    "bias = 0"
   ]
  },
  {
   "cell_type": "code",
   "execution_count": 77,
   "id": "506fbd24",
   "metadata": {},
   "outputs": [],
   "source": [
    "def degree(u):\n",
    "    return 1 if u >= 0 else 0"
   ]
  },
  {
   "cell_type": "code",
   "execution_count": 78,
   "id": "a5f8eca1",
   "metadata": {},
   "outputs": [],
   "source": [
    "def weigh(i, w, b):\n",
    "    return np.dot(i, w) + b"
   ]
  },
  {
   "cell_type": "code",
   "execution_count": 79,
   "id": "040222ec",
   "metadata": {},
   "outputs": [],
   "source": [
    "def weigh(i, w, b):\n",
    "    u = 0\n",
    "    for e in range(0, len(i)):\n",
    "        u += i[e] * w[e]\n",
    "    return u + b"
   ]
  },
  {
   "cell_type": "code",
   "execution_count": 80,
   "id": "089f69d3",
   "metadata": {},
   "outputs": [
    {
     "name": "stdout",
     "output_type": "stream",
     "text": [
      "Weight: 1.4\n",
      "Ouput: 1\n"
     ]
    }
   ],
   "source": [
    "u = weigh(inputs, weights, bias)\n",
    "print(f\"Weight: {u}\")\n",
    "print(f\"Ouput: {degree(u)}\")"
   ]
  }
 ],
 "metadata": {
  "kernelspec": {
   "display_name": "Python 3 (ipykernel)",
   "language": "python",
   "name": "python3"
  },
  "language_info": {
   "codemirror_mode": {
    "name": "ipython",
    "version": 3
   },
   "file_extension": ".py",
   "mimetype": "text/x-python",
   "name": "python",
   "nbconvert_exporter": "python",
   "pygments_lexer": "ipython3",
   "version": "3.9.10"
  }
 },
 "nbformat": 4,
 "nbformat_minor": 5
}
