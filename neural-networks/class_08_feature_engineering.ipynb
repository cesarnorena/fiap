{
 "cells": [
  {
   "cell_type": "markdown",
   "metadata": {
    "pycharm": {
     "name": "#%% md\n"
    }
   },
   "source": [
    "# Aula 08 - Feature Engineering"
   ]
  },
  {
   "cell_type": "code",
   "execution_count": 61,
   "metadata": {
    "pycharm": {
     "name": "#%%\n"
    }
   },
   "outputs": [],
   "source": [
    "import pandas as pd\n",
    "import numpy as np\n",
    "\n",
    "from sklearn.preprocessing import StandardScaler\n",
    "from sklearn.preprocessing import LabelEncoder\n",
    "from sklearn.preprocessing import MinMaxScaler\n",
    "\n",
    "from sklearn.model_selection import train_test_split"
   ]
  },
  {
   "cell_type": "code",
   "execution_count": 36,
   "metadata": {
    "pycharm": {
     "name": "#%%\n"
    }
   },
   "outputs": [
    {
     "data": {
      "text/plain": "   Country   Age   Salary Grade Purchased\n0   France  44.0  72000.0   1st        No\n1    Spain  27.0  48000.0   1st       Yes\n2  Germany  30.0  54000.0   3th        No\n3    Spain  38.0  61000.0   1st        No\n4  Germany  40.0      NaN   2nd       Yes\n5   France  35.0  58000.0   2nd       Yes\n6    Spain   NaN  52000.0   1st        No\n7   France  48.0  79000.0   3th       Yes\n8  Germany  50.0  83000.0   2nd        No\n9   France  37.0  67000.0   3th       Yes",
      "text/html": "<div>\n<style scoped>\n    .dataframe tbody tr th:only-of-type {\n        vertical-align: middle;\n    }\n\n    .dataframe tbody tr th {\n        vertical-align: top;\n    }\n\n    .dataframe thead th {\n        text-align: right;\n    }\n</style>\n<table border=\"1\" class=\"dataframe\">\n  <thead>\n    <tr style=\"text-align: right;\">\n      <th></th>\n      <th>Country</th>\n      <th>Age</th>\n      <th>Salary</th>\n      <th>Grade</th>\n      <th>Purchased</th>\n    </tr>\n  </thead>\n  <tbody>\n    <tr>\n      <th>0</th>\n      <td>France</td>\n      <td>44.0</td>\n      <td>72000.0</td>\n      <td>1st</td>\n      <td>No</td>\n    </tr>\n    <tr>\n      <th>1</th>\n      <td>Spain</td>\n      <td>27.0</td>\n      <td>48000.0</td>\n      <td>1st</td>\n      <td>Yes</td>\n    </tr>\n    <tr>\n      <th>2</th>\n      <td>Germany</td>\n      <td>30.0</td>\n      <td>54000.0</td>\n      <td>3th</td>\n      <td>No</td>\n    </tr>\n    <tr>\n      <th>3</th>\n      <td>Spain</td>\n      <td>38.0</td>\n      <td>61000.0</td>\n      <td>1st</td>\n      <td>No</td>\n    </tr>\n    <tr>\n      <th>4</th>\n      <td>Germany</td>\n      <td>40.0</td>\n      <td>NaN</td>\n      <td>2nd</td>\n      <td>Yes</td>\n    </tr>\n    <tr>\n      <th>5</th>\n      <td>France</td>\n      <td>35.0</td>\n      <td>58000.0</td>\n      <td>2nd</td>\n      <td>Yes</td>\n    </tr>\n    <tr>\n      <th>6</th>\n      <td>Spain</td>\n      <td>NaN</td>\n      <td>52000.0</td>\n      <td>1st</td>\n      <td>No</td>\n    </tr>\n    <tr>\n      <th>7</th>\n      <td>France</td>\n      <td>48.0</td>\n      <td>79000.0</td>\n      <td>3th</td>\n      <td>Yes</td>\n    </tr>\n    <tr>\n      <th>8</th>\n      <td>Germany</td>\n      <td>50.0</td>\n      <td>83000.0</td>\n      <td>2nd</td>\n      <td>No</td>\n    </tr>\n    <tr>\n      <th>9</th>\n      <td>France</td>\n      <td>37.0</td>\n      <td>67000.0</td>\n      <td>3th</td>\n      <td>Yes</td>\n    </tr>\n  </tbody>\n</table>\n</div>"
     },
     "execution_count": 36,
     "metadata": {},
     "output_type": "execute_result"
    }
   ],
   "source": [
    "# Lendo os dados\n",
    "df = pd.read_csv(\"datasets/exemplos_limpeza_dados.csv\")\n",
    "df"
   ]
  },
  {
   "cell_type": "code",
   "execution_count": 37,
   "metadata": {
    "pycharm": {
     "name": "#%%\n"
    }
   },
   "outputs": [
    {
     "name": "stdout",
     "output_type": "stream",
     "text": [
      "<class 'pandas.core.frame.DataFrame'>\n",
      "RangeIndex: 10 entries, 0 to 9\n",
      "Data columns (total 5 columns):\n",
      " #   Column     Non-Null Count  Dtype  \n",
      "---  ------     --------------  -----  \n",
      " 0   Country    10 non-null     object \n",
      " 1   Age        9 non-null      float64\n",
      " 2   Salary     9 non-null      float64\n",
      " 3   Grade      10 non-null     object \n",
      " 4   Purchased  10 non-null     object \n",
      "dtypes: float64(2), object(3)\n",
      "memory usage: 528.0+ bytes\n"
     ]
    }
   ],
   "source": [
    "# Mostrando análises dos dados existentes: variáveis, tipos, quantidades, etc\n",
    "df.info()"
   ]
  },
  {
   "cell_type": "code",
   "execution_count": 38,
   "metadata": {
    "pycharm": {
     "name": "#%%\n"
    }
   },
   "outputs": [
    {
     "data": {
      "text/plain": "   Country   Age   Salary Grade Purchased\n0   France  44.0  72000.0   1st        No\n1    Spain  27.0  48000.0   1st       Yes\n2  Germany  30.0  54000.0   3th        No\n3    Spain  38.0  61000.0   1st        No\n4  Germany  40.0      NaN   2nd       Yes\n5   France  35.0  58000.0   2nd       Yes\n6    Spain   NaN  52000.0   1st        No\n7   France  48.0  79000.0   3th       Yes\n8  Germany  50.0  83000.0   2nd        No\n9   France  37.0  67000.0   3th       Yes",
      "text/html": "<div>\n<style scoped>\n    .dataframe tbody tr th:only-of-type {\n        vertical-align: middle;\n    }\n\n    .dataframe tbody tr th {\n        vertical-align: top;\n    }\n\n    .dataframe thead th {\n        text-align: right;\n    }\n</style>\n<table border=\"1\" class=\"dataframe\">\n  <thead>\n    <tr style=\"text-align: right;\">\n      <th></th>\n      <th>Country</th>\n      <th>Age</th>\n      <th>Salary</th>\n      <th>Grade</th>\n      <th>Purchased</th>\n    </tr>\n  </thead>\n  <tbody>\n    <tr>\n      <th>0</th>\n      <td>France</td>\n      <td>44.0</td>\n      <td>72000.0</td>\n      <td>1st</td>\n      <td>No</td>\n    </tr>\n    <tr>\n      <th>1</th>\n      <td>Spain</td>\n      <td>27.0</td>\n      <td>48000.0</td>\n      <td>1st</td>\n      <td>Yes</td>\n    </tr>\n    <tr>\n      <th>2</th>\n      <td>Germany</td>\n      <td>30.0</td>\n      <td>54000.0</td>\n      <td>3th</td>\n      <td>No</td>\n    </tr>\n    <tr>\n      <th>3</th>\n      <td>Spain</td>\n      <td>38.0</td>\n      <td>61000.0</td>\n      <td>1st</td>\n      <td>No</td>\n    </tr>\n    <tr>\n      <th>4</th>\n      <td>Germany</td>\n      <td>40.0</td>\n      <td>NaN</td>\n      <td>2nd</td>\n      <td>Yes</td>\n    </tr>\n    <tr>\n      <th>5</th>\n      <td>France</td>\n      <td>35.0</td>\n      <td>58000.0</td>\n      <td>2nd</td>\n      <td>Yes</td>\n    </tr>\n    <tr>\n      <th>6</th>\n      <td>Spain</td>\n      <td>NaN</td>\n      <td>52000.0</td>\n      <td>1st</td>\n      <td>No</td>\n    </tr>\n    <tr>\n      <th>7</th>\n      <td>France</td>\n      <td>48.0</td>\n      <td>79000.0</td>\n      <td>3th</td>\n      <td>Yes</td>\n    </tr>\n    <tr>\n      <th>8</th>\n      <td>Germany</td>\n      <td>50.0</td>\n      <td>83000.0</td>\n      <td>2nd</td>\n      <td>No</td>\n    </tr>\n    <tr>\n      <th>9</th>\n      <td>France</td>\n      <td>37.0</td>\n      <td>67000.0</td>\n      <td>3th</td>\n      <td>Yes</td>\n    </tr>\n  </tbody>\n</table>\n</div>"
     },
     "execution_count": 38,
     "metadata": {},
     "output_type": "execute_result"
    }
   ],
   "source": [
    "# Removendo dados duplicados, mas neste caso não temos nenhum\n",
    "df.drop_duplicates(inplace=True)\n",
    "df"
   ]
  },
  {
   "cell_type": "code",
   "execution_count": 39,
   "metadata": {
    "pycharm": {
     "name": "#%%\n"
    }
   },
   "outputs": [],
   "source": [
    "# Para comparação: \n",
    "#    Removendo dados faltantes. \n",
    "#    Toda linha que possui um dado ausente, é removida\n",
    "#    Coloquei em outro dataframe para não impactar nossa limpeza já inicializada\n",
    "df2 = pd.read_csv(\"datasets/exemplos_limpeza_dados.csv\")"
   ]
  },
  {
   "cell_type": "code",
   "execution_count": 40,
   "metadata": {
    "pycharm": {
     "name": "#%%\n"
    }
   },
   "outputs": [
    {
     "data": {
      "text/plain": "   Country   Age   Salary Grade Purchased\n0   France  44.0  72000.0   1st        No\n1    Spain  27.0  48000.0   1st       Yes\n2  Germany  30.0  54000.0   3th        No\n3    Spain  38.0  61000.0   1st        No\n5   France  35.0  58000.0   2nd       Yes\n7   France  48.0  79000.0   3th       Yes\n8  Germany  50.0  83000.0   2nd        No\n9   France  37.0  67000.0   3th       Yes",
      "text/html": "<div>\n<style scoped>\n    .dataframe tbody tr th:only-of-type {\n        vertical-align: middle;\n    }\n\n    .dataframe tbody tr th {\n        vertical-align: top;\n    }\n\n    .dataframe thead th {\n        text-align: right;\n    }\n</style>\n<table border=\"1\" class=\"dataframe\">\n  <thead>\n    <tr style=\"text-align: right;\">\n      <th></th>\n      <th>Country</th>\n      <th>Age</th>\n      <th>Salary</th>\n      <th>Grade</th>\n      <th>Purchased</th>\n    </tr>\n  </thead>\n  <tbody>\n    <tr>\n      <th>0</th>\n      <td>France</td>\n      <td>44.0</td>\n      <td>72000.0</td>\n      <td>1st</td>\n      <td>No</td>\n    </tr>\n    <tr>\n      <th>1</th>\n      <td>Spain</td>\n      <td>27.0</td>\n      <td>48000.0</td>\n      <td>1st</td>\n      <td>Yes</td>\n    </tr>\n    <tr>\n      <th>2</th>\n      <td>Germany</td>\n      <td>30.0</td>\n      <td>54000.0</td>\n      <td>3th</td>\n      <td>No</td>\n    </tr>\n    <tr>\n      <th>3</th>\n      <td>Spain</td>\n      <td>38.0</td>\n      <td>61000.0</td>\n      <td>1st</td>\n      <td>No</td>\n    </tr>\n    <tr>\n      <th>5</th>\n      <td>France</td>\n      <td>35.0</td>\n      <td>58000.0</td>\n      <td>2nd</td>\n      <td>Yes</td>\n    </tr>\n    <tr>\n      <th>7</th>\n      <td>France</td>\n      <td>48.0</td>\n      <td>79000.0</td>\n      <td>3th</td>\n      <td>Yes</td>\n    </tr>\n    <tr>\n      <th>8</th>\n      <td>Germany</td>\n      <td>50.0</td>\n      <td>83000.0</td>\n      <td>2nd</td>\n      <td>No</td>\n    </tr>\n    <tr>\n      <th>9</th>\n      <td>France</td>\n      <td>37.0</td>\n      <td>67000.0</td>\n      <td>3th</td>\n      <td>Yes</td>\n    </tr>\n  </tbody>\n</table>\n</div>"
     },
     "execution_count": 40,
     "metadata": {},
     "output_type": "execute_result"
    }
   ],
   "source": [
    "df2.dropna(inplace=True)\n",
    "df2"
   ]
  },
  {
   "cell_type": "code",
   "execution_count": 41,
   "outputs": [
    {
     "data": {
      "text/plain": "             Age        Salary\ncount   8.000000      8.000000\nmean   38.625000  65250.000000\nstd     8.210403  12232.859729\nmin    27.000000  48000.000000\n25%    33.750000  57000.000000\n50%    37.500000  64000.000000\n75%    45.000000  73750.000000\nmax    50.000000  83000.000000",
      "text/html": "<div>\n<style scoped>\n    .dataframe tbody tr th:only-of-type {\n        vertical-align: middle;\n    }\n\n    .dataframe tbody tr th {\n        vertical-align: top;\n    }\n\n    .dataframe thead th {\n        text-align: right;\n    }\n</style>\n<table border=\"1\" class=\"dataframe\">\n  <thead>\n    <tr style=\"text-align: right;\">\n      <th></th>\n      <th>Age</th>\n      <th>Salary</th>\n    </tr>\n  </thead>\n  <tbody>\n    <tr>\n      <th>count</th>\n      <td>8.000000</td>\n      <td>8.000000</td>\n    </tr>\n    <tr>\n      <th>mean</th>\n      <td>38.625000</td>\n      <td>65250.000000</td>\n    </tr>\n    <tr>\n      <th>std</th>\n      <td>8.210403</td>\n      <td>12232.859729</td>\n    </tr>\n    <tr>\n      <th>min</th>\n      <td>27.000000</td>\n      <td>48000.000000</td>\n    </tr>\n    <tr>\n      <th>25%</th>\n      <td>33.750000</td>\n      <td>57000.000000</td>\n    </tr>\n    <tr>\n      <th>50%</th>\n      <td>37.500000</td>\n      <td>64000.000000</td>\n    </tr>\n    <tr>\n      <th>75%</th>\n      <td>45.000000</td>\n      <td>73750.000000</td>\n    </tr>\n    <tr>\n      <th>max</th>\n      <td>50.000000</td>\n      <td>83000.000000</td>\n    </tr>\n  </tbody>\n</table>\n</div>"
     },
     "execution_count": 41,
     "metadata": {},
     "output_type": "execute_result"
    }
   ],
   "source": [
    "df2.describe()"
   ],
   "metadata": {
    "collapsed": false,
    "pycharm": {
     "name": "#%%\n"
    }
   }
  },
  {
   "cell_type": "code",
   "execution_count": 42,
   "metadata": {
    "pycharm": {
     "name": "#%%\n"
    }
   },
   "outputs": [
    {
     "data": {
      "text/plain": "   Country        Age   Salary Grade Purchased\n0   France  44.000000  72000.0   1st        No\n1    Spain  27.000000  48000.0   1st       Yes\n2  Germany  30.000000  54000.0   3th        No\n3    Spain  38.000000  61000.0   1st        No\n4  Germany  40.000000      NaN   2nd       Yes\n5   France  35.000000  58000.0   2nd       Yes\n6    Spain  38.777778  52000.0   1st        No\n7   France  48.000000  79000.0   3th       Yes\n8  Germany  50.000000  83000.0   2nd        No\n9   France  37.000000  67000.0   3th       Yes",
      "text/html": "<div>\n<style scoped>\n    .dataframe tbody tr th:only-of-type {\n        vertical-align: middle;\n    }\n\n    .dataframe tbody tr th {\n        vertical-align: top;\n    }\n\n    .dataframe thead th {\n        text-align: right;\n    }\n</style>\n<table border=\"1\" class=\"dataframe\">\n  <thead>\n    <tr style=\"text-align: right;\">\n      <th></th>\n      <th>Country</th>\n      <th>Age</th>\n      <th>Salary</th>\n      <th>Grade</th>\n      <th>Purchased</th>\n    </tr>\n  </thead>\n  <tbody>\n    <tr>\n      <th>0</th>\n      <td>France</td>\n      <td>44.000000</td>\n      <td>72000.0</td>\n      <td>1st</td>\n      <td>No</td>\n    </tr>\n    <tr>\n      <th>1</th>\n      <td>Spain</td>\n      <td>27.000000</td>\n      <td>48000.0</td>\n      <td>1st</td>\n      <td>Yes</td>\n    </tr>\n    <tr>\n      <th>2</th>\n      <td>Germany</td>\n      <td>30.000000</td>\n      <td>54000.0</td>\n      <td>3th</td>\n      <td>No</td>\n    </tr>\n    <tr>\n      <th>3</th>\n      <td>Spain</td>\n      <td>38.000000</td>\n      <td>61000.0</td>\n      <td>1st</td>\n      <td>No</td>\n    </tr>\n    <tr>\n      <th>4</th>\n      <td>Germany</td>\n      <td>40.000000</td>\n      <td>NaN</td>\n      <td>2nd</td>\n      <td>Yes</td>\n    </tr>\n    <tr>\n      <th>5</th>\n      <td>France</td>\n      <td>35.000000</td>\n      <td>58000.0</td>\n      <td>2nd</td>\n      <td>Yes</td>\n    </tr>\n    <tr>\n      <th>6</th>\n      <td>Spain</td>\n      <td>38.777778</td>\n      <td>52000.0</td>\n      <td>1st</td>\n      <td>No</td>\n    </tr>\n    <tr>\n      <th>7</th>\n      <td>France</td>\n      <td>48.000000</td>\n      <td>79000.0</td>\n      <td>3th</td>\n      <td>Yes</td>\n    </tr>\n    <tr>\n      <th>8</th>\n      <td>Germany</td>\n      <td>50.000000</td>\n      <td>83000.0</td>\n      <td>2nd</td>\n      <td>No</td>\n    </tr>\n    <tr>\n      <th>9</th>\n      <td>France</td>\n      <td>37.000000</td>\n      <td>67000.0</td>\n      <td>3th</td>\n      <td>Yes</td>\n    </tr>\n  </tbody>\n</table>\n</div>"
     },
     "execution_count": 42,
     "metadata": {},
     "output_type": "execute_result"
    }
   ],
   "source": [
    "# Completando a coluna AGE com a média\n",
    "df[\"Age\"].fillna(df[\"Age\"].mean(), inplace=True)\n",
    "df"
   ]
  },
  {
   "cell_type": "code",
   "execution_count": 43,
   "metadata": {
    "pycharm": {
     "name": "#%%\n"
    }
   },
   "outputs": [
    {
     "data": {
      "text/plain": "   Country        Age   Salary Grade Purchased\n0   France  44.000000  72000.0   1st        No\n1    Spain  27.000000  48000.0   1st       Yes\n2  Germany  30.000000  54000.0   3th        No\n3    Spain  38.000000  61000.0   1st        No\n4  Germany  40.000000  61000.0   2nd       Yes\n5   France  35.000000  58000.0   2nd       Yes\n6    Spain  38.777778  52000.0   1st        No\n7   France  48.000000  79000.0   3th       Yes\n8  Germany  50.000000  83000.0   2nd        No\n9   France  37.000000  67000.0   3th       Yes",
      "text/html": "<div>\n<style scoped>\n    .dataframe tbody tr th:only-of-type {\n        vertical-align: middle;\n    }\n\n    .dataframe tbody tr th {\n        vertical-align: top;\n    }\n\n    .dataframe thead th {\n        text-align: right;\n    }\n</style>\n<table border=\"1\" class=\"dataframe\">\n  <thead>\n    <tr style=\"text-align: right;\">\n      <th></th>\n      <th>Country</th>\n      <th>Age</th>\n      <th>Salary</th>\n      <th>Grade</th>\n      <th>Purchased</th>\n    </tr>\n  </thead>\n  <tbody>\n    <tr>\n      <th>0</th>\n      <td>France</td>\n      <td>44.000000</td>\n      <td>72000.0</td>\n      <td>1st</td>\n      <td>No</td>\n    </tr>\n    <tr>\n      <th>1</th>\n      <td>Spain</td>\n      <td>27.000000</td>\n      <td>48000.0</td>\n      <td>1st</td>\n      <td>Yes</td>\n    </tr>\n    <tr>\n      <th>2</th>\n      <td>Germany</td>\n      <td>30.000000</td>\n      <td>54000.0</td>\n      <td>3th</td>\n      <td>No</td>\n    </tr>\n    <tr>\n      <th>3</th>\n      <td>Spain</td>\n      <td>38.000000</td>\n      <td>61000.0</td>\n      <td>1st</td>\n      <td>No</td>\n    </tr>\n    <tr>\n      <th>4</th>\n      <td>Germany</td>\n      <td>40.000000</td>\n      <td>61000.0</td>\n      <td>2nd</td>\n      <td>Yes</td>\n    </tr>\n    <tr>\n      <th>5</th>\n      <td>France</td>\n      <td>35.000000</td>\n      <td>58000.0</td>\n      <td>2nd</td>\n      <td>Yes</td>\n    </tr>\n    <tr>\n      <th>6</th>\n      <td>Spain</td>\n      <td>38.777778</td>\n      <td>52000.0</td>\n      <td>1st</td>\n      <td>No</td>\n    </tr>\n    <tr>\n      <th>7</th>\n      <td>France</td>\n      <td>48.000000</td>\n      <td>79000.0</td>\n      <td>3th</td>\n      <td>Yes</td>\n    </tr>\n    <tr>\n      <th>8</th>\n      <td>Germany</td>\n      <td>50.000000</td>\n      <td>83000.0</td>\n      <td>2nd</td>\n      <td>No</td>\n    </tr>\n    <tr>\n      <th>9</th>\n      <td>France</td>\n      <td>37.000000</td>\n      <td>67000.0</td>\n      <td>3th</td>\n      <td>Yes</td>\n    </tr>\n  </tbody>\n</table>\n</div>"
     },
     "execution_count": 43,
     "metadata": {},
     "output_type": "execute_result"
    }
   ],
   "source": [
    "# Completando a coluna SALARY com a mediana\n",
    "df[\"Salary\"].fillna(df[\"Salary\"].median(), inplace=True)\n",
    "df"
   ]
  },
  {
   "cell_type": "code",
   "execution_count": 44,
   "metadata": {
    "pycharm": {
     "name": "#%%\n"
    }
   },
   "outputs": [
    {
     "data": {
      "text/plain": "34.59259259259259"
     },
     "execution_count": 44,
     "metadata": {},
     "output_type": "execute_result"
    }
   ],
   "source": [
    "# Obtendo a idade média das pessoas que moram na Espanha\n",
    "df[df[\"Country\"] == \"Spain\"][\"Age\"].mean()"
   ]
  },
  {
   "cell_type": "code",
   "execution_count": 45,
   "metadata": {
    "pycharm": {
     "name": "#%%\n"
    }
   },
   "outputs": [],
   "source": [
    "# Alterando dados com LabelEncoder, sendo que nós definimos os dados numéricos que devem ocorrer, via dicionário\n",
    "dicionario = {\n",
    "    \"1st\": 9,\n",
    "    \"2nd\": 99,\n",
    "    \"3th\": 999,\n",
    "}"
   ]
  },
  {
   "cell_type": "code",
   "execution_count": 46,
   "metadata": {
    "pycharm": {
     "name": "#%%\n"
    }
   },
   "outputs": [
    {
     "data": {
      "text/plain": "   Country        Age   Salary Grade Purchased  Grade 1\n0   France  44.000000  72000.0   1st        No        9\n1    Spain  27.000000  48000.0   1st       Yes        9\n2  Germany  30.000000  54000.0   3th        No      999\n3    Spain  38.000000  61000.0   1st        No        9\n4  Germany  40.000000  61000.0   2nd       Yes       99\n5   France  35.000000  58000.0   2nd       Yes       99\n6    Spain  38.777778  52000.0   1st        No        9\n7   France  48.000000  79000.0   3th       Yes      999\n8  Germany  50.000000  83000.0   2nd        No       99\n9   France  37.000000  67000.0   3th       Yes      999",
      "text/html": "<div>\n<style scoped>\n    .dataframe tbody tr th:only-of-type {\n        vertical-align: middle;\n    }\n\n    .dataframe tbody tr th {\n        vertical-align: top;\n    }\n\n    .dataframe thead th {\n        text-align: right;\n    }\n</style>\n<table border=\"1\" class=\"dataframe\">\n  <thead>\n    <tr style=\"text-align: right;\">\n      <th></th>\n      <th>Country</th>\n      <th>Age</th>\n      <th>Salary</th>\n      <th>Grade</th>\n      <th>Purchased</th>\n      <th>Grade 1</th>\n    </tr>\n  </thead>\n  <tbody>\n    <tr>\n      <th>0</th>\n      <td>France</td>\n      <td>44.000000</td>\n      <td>72000.0</td>\n      <td>1st</td>\n      <td>No</td>\n      <td>9</td>\n    </tr>\n    <tr>\n      <th>1</th>\n      <td>Spain</td>\n      <td>27.000000</td>\n      <td>48000.0</td>\n      <td>1st</td>\n      <td>Yes</td>\n      <td>9</td>\n    </tr>\n    <tr>\n      <th>2</th>\n      <td>Germany</td>\n      <td>30.000000</td>\n      <td>54000.0</td>\n      <td>3th</td>\n      <td>No</td>\n      <td>999</td>\n    </tr>\n    <tr>\n      <th>3</th>\n      <td>Spain</td>\n      <td>38.000000</td>\n      <td>61000.0</td>\n      <td>1st</td>\n      <td>No</td>\n      <td>9</td>\n    </tr>\n    <tr>\n      <th>4</th>\n      <td>Germany</td>\n      <td>40.000000</td>\n      <td>61000.0</td>\n      <td>2nd</td>\n      <td>Yes</td>\n      <td>99</td>\n    </tr>\n    <tr>\n      <th>5</th>\n      <td>France</td>\n      <td>35.000000</td>\n      <td>58000.0</td>\n      <td>2nd</td>\n      <td>Yes</td>\n      <td>99</td>\n    </tr>\n    <tr>\n      <th>6</th>\n      <td>Spain</td>\n      <td>38.777778</td>\n      <td>52000.0</td>\n      <td>1st</td>\n      <td>No</td>\n      <td>9</td>\n    </tr>\n    <tr>\n      <th>7</th>\n      <td>France</td>\n      <td>48.000000</td>\n      <td>79000.0</td>\n      <td>3th</td>\n      <td>Yes</td>\n      <td>999</td>\n    </tr>\n    <tr>\n      <th>8</th>\n      <td>Germany</td>\n      <td>50.000000</td>\n      <td>83000.0</td>\n      <td>2nd</td>\n      <td>No</td>\n      <td>99</td>\n    </tr>\n    <tr>\n      <th>9</th>\n      <td>France</td>\n      <td>37.000000</td>\n      <td>67000.0</td>\n      <td>3th</td>\n      <td>Yes</td>\n      <td>999</td>\n    </tr>\n  </tbody>\n</table>\n</div>"
     },
     "execution_count": 46,
     "metadata": {},
     "output_type": "execute_result"
    }
   ],
   "source": [
    "# Aplique na coluna Grade o dicionário criado, salvando na Grade 1\n",
    "def new_grade(x):\n",
    "    return dicionario[x]\n",
    "\n",
    "\n",
    "df[\"Grade 1\"] = df[\"Grade\"].apply(new_grade)\n",
    "df"
   ]
  },
  {
   "cell_type": "code",
   "execution_count": 47,
   "metadata": {
    "pycharm": {
     "name": "#%%\n"
    }
   },
   "outputs": [
    {
     "data": {
      "text/plain": "   Country        Age   Salary Grade Purchased  Grade 1  Grade_encoder\n0   France  44.000000  72000.0   1st        No        9              0\n1    Spain  27.000000  48000.0   1st       Yes        9              0\n2  Germany  30.000000  54000.0   3th        No      999              2\n3    Spain  38.000000  61000.0   1st        No        9              0\n4  Germany  40.000000  61000.0   2nd       Yes       99              1\n5   France  35.000000  58000.0   2nd       Yes       99              1\n6    Spain  38.777778  52000.0   1st        No        9              0\n7   France  48.000000  79000.0   3th       Yes      999              2\n8  Germany  50.000000  83000.0   2nd        No       99              1\n9   France  37.000000  67000.0   3th       Yes      999              2",
      "text/html": "<div>\n<style scoped>\n    .dataframe tbody tr th:only-of-type {\n        vertical-align: middle;\n    }\n\n    .dataframe tbody tr th {\n        vertical-align: top;\n    }\n\n    .dataframe thead th {\n        text-align: right;\n    }\n</style>\n<table border=\"1\" class=\"dataframe\">\n  <thead>\n    <tr style=\"text-align: right;\">\n      <th></th>\n      <th>Country</th>\n      <th>Age</th>\n      <th>Salary</th>\n      <th>Grade</th>\n      <th>Purchased</th>\n      <th>Grade 1</th>\n      <th>Grade_encoder</th>\n    </tr>\n  </thead>\n  <tbody>\n    <tr>\n      <th>0</th>\n      <td>France</td>\n      <td>44.000000</td>\n      <td>72000.0</td>\n      <td>1st</td>\n      <td>No</td>\n      <td>9</td>\n      <td>0</td>\n    </tr>\n    <tr>\n      <th>1</th>\n      <td>Spain</td>\n      <td>27.000000</td>\n      <td>48000.0</td>\n      <td>1st</td>\n      <td>Yes</td>\n      <td>9</td>\n      <td>0</td>\n    </tr>\n    <tr>\n      <th>2</th>\n      <td>Germany</td>\n      <td>30.000000</td>\n      <td>54000.0</td>\n      <td>3th</td>\n      <td>No</td>\n      <td>999</td>\n      <td>2</td>\n    </tr>\n    <tr>\n      <th>3</th>\n      <td>Spain</td>\n      <td>38.000000</td>\n      <td>61000.0</td>\n      <td>1st</td>\n      <td>No</td>\n      <td>9</td>\n      <td>0</td>\n    </tr>\n    <tr>\n      <th>4</th>\n      <td>Germany</td>\n      <td>40.000000</td>\n      <td>61000.0</td>\n      <td>2nd</td>\n      <td>Yes</td>\n      <td>99</td>\n      <td>1</td>\n    </tr>\n    <tr>\n      <th>5</th>\n      <td>France</td>\n      <td>35.000000</td>\n      <td>58000.0</td>\n      <td>2nd</td>\n      <td>Yes</td>\n      <td>99</td>\n      <td>1</td>\n    </tr>\n    <tr>\n      <th>6</th>\n      <td>Spain</td>\n      <td>38.777778</td>\n      <td>52000.0</td>\n      <td>1st</td>\n      <td>No</td>\n      <td>9</td>\n      <td>0</td>\n    </tr>\n    <tr>\n      <th>7</th>\n      <td>France</td>\n      <td>48.000000</td>\n      <td>79000.0</td>\n      <td>3th</td>\n      <td>Yes</td>\n      <td>999</td>\n      <td>2</td>\n    </tr>\n    <tr>\n      <th>8</th>\n      <td>Germany</td>\n      <td>50.000000</td>\n      <td>83000.0</td>\n      <td>2nd</td>\n      <td>No</td>\n      <td>99</td>\n      <td>1</td>\n    </tr>\n    <tr>\n      <th>9</th>\n      <td>France</td>\n      <td>37.000000</td>\n      <td>67000.0</td>\n      <td>3th</td>\n      <td>Yes</td>\n      <td>999</td>\n      <td>2</td>\n    </tr>\n  </tbody>\n</table>\n</div>"
     },
     "execution_count": 47,
     "metadata": {},
     "output_type": "execute_result"
    }
   ],
   "source": [
    "# Usando o label encoder tradicional\n",
    "le = LabelEncoder()\n",
    "df[\"Grade_encoder\"] = le.fit_transform(df[\"Grade\"])\n",
    "df"
   ]
  },
  {
   "cell_type": "code",
   "execution_count": 48,
   "metadata": {
    "pycharm": {
     "name": "#%%\n"
    }
   },
   "outputs": [
    {
     "data": {
      "text/plain": "['1st', '2nd', '3th']"
     },
     "execution_count": 48,
     "metadata": {},
     "output_type": "execute_result"
    }
   ],
   "source": [
    "sorted(df[\"Grade\"].unique())"
   ]
  },
  {
   "cell_type": "code",
   "execution_count": 49,
   "metadata": {
    "pycharm": {
     "name": "#%%\n"
    }
   },
   "outputs": [
    {
     "data": {
      "text/plain": "   Country        Age   Salary Grade Purchased  Grade 1  Grade_encoder  \\\n0   France  44.000000  72000.0   1st        No        9              0   \n1    Spain  27.000000  48000.0   1st       Yes        9              0   \n2  Germany  30.000000  54000.0   3th        No      999              2   \n3    Spain  38.000000  61000.0   1st        No        9              0   \n4  Germany  40.000000  61000.0   2nd       Yes       99              1   \n5   France  35.000000  58000.0   2nd       Yes       99              1   \n6    Spain  38.777778  52000.0   1st        No        9              0   \n7   France  48.000000  79000.0   3th       Yes      999              2   \n8  Germany  50.000000  83000.0   2nd        No       99              1   \n9   France  37.000000  67000.0   3th       Yes      999              2   \n\n   Purchased_encoder  \n0                  0  \n1                  1  \n2                  0  \n3                  0  \n4                  1  \n5                  1  \n6                  0  \n7                  1  \n8                  0  \n9                  1  ",
      "text/html": "<div>\n<style scoped>\n    .dataframe tbody tr th:only-of-type {\n        vertical-align: middle;\n    }\n\n    .dataframe tbody tr th {\n        vertical-align: top;\n    }\n\n    .dataframe thead th {\n        text-align: right;\n    }\n</style>\n<table border=\"1\" class=\"dataframe\">\n  <thead>\n    <tr style=\"text-align: right;\">\n      <th></th>\n      <th>Country</th>\n      <th>Age</th>\n      <th>Salary</th>\n      <th>Grade</th>\n      <th>Purchased</th>\n      <th>Grade 1</th>\n      <th>Grade_encoder</th>\n      <th>Purchased_encoder</th>\n    </tr>\n  </thead>\n  <tbody>\n    <tr>\n      <th>0</th>\n      <td>France</td>\n      <td>44.000000</td>\n      <td>72000.0</td>\n      <td>1st</td>\n      <td>No</td>\n      <td>9</td>\n      <td>0</td>\n      <td>0</td>\n    </tr>\n    <tr>\n      <th>1</th>\n      <td>Spain</td>\n      <td>27.000000</td>\n      <td>48000.0</td>\n      <td>1st</td>\n      <td>Yes</td>\n      <td>9</td>\n      <td>0</td>\n      <td>1</td>\n    </tr>\n    <tr>\n      <th>2</th>\n      <td>Germany</td>\n      <td>30.000000</td>\n      <td>54000.0</td>\n      <td>3th</td>\n      <td>No</td>\n      <td>999</td>\n      <td>2</td>\n      <td>0</td>\n    </tr>\n    <tr>\n      <th>3</th>\n      <td>Spain</td>\n      <td>38.000000</td>\n      <td>61000.0</td>\n      <td>1st</td>\n      <td>No</td>\n      <td>9</td>\n      <td>0</td>\n      <td>0</td>\n    </tr>\n    <tr>\n      <th>4</th>\n      <td>Germany</td>\n      <td>40.000000</td>\n      <td>61000.0</td>\n      <td>2nd</td>\n      <td>Yes</td>\n      <td>99</td>\n      <td>1</td>\n      <td>1</td>\n    </tr>\n    <tr>\n      <th>5</th>\n      <td>France</td>\n      <td>35.000000</td>\n      <td>58000.0</td>\n      <td>2nd</td>\n      <td>Yes</td>\n      <td>99</td>\n      <td>1</td>\n      <td>1</td>\n    </tr>\n    <tr>\n      <th>6</th>\n      <td>Spain</td>\n      <td>38.777778</td>\n      <td>52000.0</td>\n      <td>1st</td>\n      <td>No</td>\n      <td>9</td>\n      <td>0</td>\n      <td>0</td>\n    </tr>\n    <tr>\n      <th>7</th>\n      <td>France</td>\n      <td>48.000000</td>\n      <td>79000.0</td>\n      <td>3th</td>\n      <td>Yes</td>\n      <td>999</td>\n      <td>2</td>\n      <td>1</td>\n    </tr>\n    <tr>\n      <th>8</th>\n      <td>Germany</td>\n      <td>50.000000</td>\n      <td>83000.0</td>\n      <td>2nd</td>\n      <td>No</td>\n      <td>99</td>\n      <td>1</td>\n      <td>0</td>\n    </tr>\n    <tr>\n      <th>9</th>\n      <td>France</td>\n      <td>37.000000</td>\n      <td>67000.0</td>\n      <td>3th</td>\n      <td>Yes</td>\n      <td>999</td>\n      <td>2</td>\n      <td>1</td>\n    </tr>\n  </tbody>\n</table>\n</div>"
     },
     "execution_count": 49,
     "metadata": {},
     "output_type": "execute_result"
    }
   ],
   "source": [
    "# Mesma coisa, mas com a coluna Purchased\n",
    "df[\"Purchased_encoder\"] = le.fit_transform((df[\"Purchased\"]))\n",
    "df"
   ]
  },
  {
   "cell_type": "code",
   "execution_count": 50,
   "metadata": {
    "pycharm": {
     "name": "#%%\n"
    }
   },
   "outputs": [
    {
     "data": {
      "text/plain": "   France  Germany  Spain\n0       1        0      0\n1       0        0      1\n2       0        1      0\n3       0        0      1\n4       0        1      0\n5       1        0      0\n6       0        0      1\n7       1        0      0\n8       0        1      0\n9       1        0      0",
      "text/html": "<div>\n<style scoped>\n    .dataframe tbody tr th:only-of-type {\n        vertical-align: middle;\n    }\n\n    .dataframe tbody tr th {\n        vertical-align: top;\n    }\n\n    .dataframe thead th {\n        text-align: right;\n    }\n</style>\n<table border=\"1\" class=\"dataframe\">\n  <thead>\n    <tr style=\"text-align: right;\">\n      <th></th>\n      <th>France</th>\n      <th>Germany</th>\n      <th>Spain</th>\n    </tr>\n  </thead>\n  <tbody>\n    <tr>\n      <th>0</th>\n      <td>1</td>\n      <td>0</td>\n      <td>0</td>\n    </tr>\n    <tr>\n      <th>1</th>\n      <td>0</td>\n      <td>0</td>\n      <td>1</td>\n    </tr>\n    <tr>\n      <th>2</th>\n      <td>0</td>\n      <td>1</td>\n      <td>0</td>\n    </tr>\n    <tr>\n      <th>3</th>\n      <td>0</td>\n      <td>0</td>\n      <td>1</td>\n    </tr>\n    <tr>\n      <th>4</th>\n      <td>0</td>\n      <td>1</td>\n      <td>0</td>\n    </tr>\n    <tr>\n      <th>5</th>\n      <td>1</td>\n      <td>0</td>\n      <td>0</td>\n    </tr>\n    <tr>\n      <th>6</th>\n      <td>0</td>\n      <td>0</td>\n      <td>1</td>\n    </tr>\n    <tr>\n      <th>7</th>\n      <td>1</td>\n      <td>0</td>\n      <td>0</td>\n    </tr>\n    <tr>\n      <th>8</th>\n      <td>0</td>\n      <td>1</td>\n      <td>0</td>\n    </tr>\n    <tr>\n      <th>9</th>\n      <td>1</td>\n      <td>0</td>\n      <td>0</td>\n    </tr>\n  </tbody>\n</table>\n</div>"
     },
     "execution_count": 50,
     "metadata": {},
     "output_type": "execute_result"
    }
   ],
   "source": [
    "# Criando OneHotEncoder com o dummies do Pandas, salvando no dataframe \"aux\"\n",
    "aux = pd.get_dummies(df[\"Country\"])\n",
    "aux"
   ]
  },
  {
   "cell_type": "code",
   "execution_count": 51,
   "metadata": {
    "pycharm": {
     "name": "#%%\n"
    }
   },
   "outputs": [
    {
     "data": {
      "text/plain": "   Country        Age   Salary Grade Purchased  Grade 1  Grade_encoder  \\\n0   France  44.000000  72000.0   1st        No        9              0   \n1    Spain  27.000000  48000.0   1st       Yes        9              0   \n2  Germany  30.000000  54000.0   3th        No      999              2   \n3    Spain  38.000000  61000.0   1st        No        9              0   \n4  Germany  40.000000  61000.0   2nd       Yes       99              1   \n5   France  35.000000  58000.0   2nd       Yes       99              1   \n6    Spain  38.777778  52000.0   1st        No        9              0   \n7   France  48.000000  79000.0   3th       Yes      999              2   \n8  Germany  50.000000  83000.0   2nd        No       99              1   \n9   France  37.000000  67000.0   3th       Yes      999              2   \n\n   Purchased_encoder  France  Germany  Spain  \n0                  0       1        0      0  \n1                  1       0        0      1  \n2                  0       0        1      0  \n3                  0       0        0      1  \n4                  1       0        1      0  \n5                  1       1        0      0  \n6                  0       0        0      1  \n7                  1       1        0      0  \n8                  0       0        1      0  \n9                  1       1        0      0  ",
      "text/html": "<div>\n<style scoped>\n    .dataframe tbody tr th:only-of-type {\n        vertical-align: middle;\n    }\n\n    .dataframe tbody tr th {\n        vertical-align: top;\n    }\n\n    .dataframe thead th {\n        text-align: right;\n    }\n</style>\n<table border=\"1\" class=\"dataframe\">\n  <thead>\n    <tr style=\"text-align: right;\">\n      <th></th>\n      <th>Country</th>\n      <th>Age</th>\n      <th>Salary</th>\n      <th>Grade</th>\n      <th>Purchased</th>\n      <th>Grade 1</th>\n      <th>Grade_encoder</th>\n      <th>Purchased_encoder</th>\n      <th>France</th>\n      <th>Germany</th>\n      <th>Spain</th>\n    </tr>\n  </thead>\n  <tbody>\n    <tr>\n      <th>0</th>\n      <td>France</td>\n      <td>44.000000</td>\n      <td>72000.0</td>\n      <td>1st</td>\n      <td>No</td>\n      <td>9</td>\n      <td>0</td>\n      <td>0</td>\n      <td>1</td>\n      <td>0</td>\n      <td>0</td>\n    </tr>\n    <tr>\n      <th>1</th>\n      <td>Spain</td>\n      <td>27.000000</td>\n      <td>48000.0</td>\n      <td>1st</td>\n      <td>Yes</td>\n      <td>9</td>\n      <td>0</td>\n      <td>1</td>\n      <td>0</td>\n      <td>0</td>\n      <td>1</td>\n    </tr>\n    <tr>\n      <th>2</th>\n      <td>Germany</td>\n      <td>30.000000</td>\n      <td>54000.0</td>\n      <td>3th</td>\n      <td>No</td>\n      <td>999</td>\n      <td>2</td>\n      <td>0</td>\n      <td>0</td>\n      <td>1</td>\n      <td>0</td>\n    </tr>\n    <tr>\n      <th>3</th>\n      <td>Spain</td>\n      <td>38.000000</td>\n      <td>61000.0</td>\n      <td>1st</td>\n      <td>No</td>\n      <td>9</td>\n      <td>0</td>\n      <td>0</td>\n      <td>0</td>\n      <td>0</td>\n      <td>1</td>\n    </tr>\n    <tr>\n      <th>4</th>\n      <td>Germany</td>\n      <td>40.000000</td>\n      <td>61000.0</td>\n      <td>2nd</td>\n      <td>Yes</td>\n      <td>99</td>\n      <td>1</td>\n      <td>1</td>\n      <td>0</td>\n      <td>1</td>\n      <td>0</td>\n    </tr>\n    <tr>\n      <th>5</th>\n      <td>France</td>\n      <td>35.000000</td>\n      <td>58000.0</td>\n      <td>2nd</td>\n      <td>Yes</td>\n      <td>99</td>\n      <td>1</td>\n      <td>1</td>\n      <td>1</td>\n      <td>0</td>\n      <td>0</td>\n    </tr>\n    <tr>\n      <th>6</th>\n      <td>Spain</td>\n      <td>38.777778</td>\n      <td>52000.0</td>\n      <td>1st</td>\n      <td>No</td>\n      <td>9</td>\n      <td>0</td>\n      <td>0</td>\n      <td>0</td>\n      <td>0</td>\n      <td>1</td>\n    </tr>\n    <tr>\n      <th>7</th>\n      <td>France</td>\n      <td>48.000000</td>\n      <td>79000.0</td>\n      <td>3th</td>\n      <td>Yes</td>\n      <td>999</td>\n      <td>2</td>\n      <td>1</td>\n      <td>1</td>\n      <td>0</td>\n      <td>0</td>\n    </tr>\n    <tr>\n      <th>8</th>\n      <td>Germany</td>\n      <td>50.000000</td>\n      <td>83000.0</td>\n      <td>2nd</td>\n      <td>No</td>\n      <td>99</td>\n      <td>1</td>\n      <td>0</td>\n      <td>0</td>\n      <td>1</td>\n      <td>0</td>\n    </tr>\n    <tr>\n      <th>9</th>\n      <td>France</td>\n      <td>37.000000</td>\n      <td>67000.0</td>\n      <td>3th</td>\n      <td>Yes</td>\n      <td>999</td>\n      <td>2</td>\n      <td>1</td>\n      <td>1</td>\n      <td>0</td>\n      <td>0</td>\n    </tr>\n  </tbody>\n</table>\n</div>"
     },
     "execution_count": 51,
     "metadata": {},
     "output_type": "execute_result"
    }
   ],
   "source": [
    "# Criando o dataframe \"final\", que é a concatenação linha a linha dos dataframes df e aux\n",
    "final = pd.concat([df, aux], axis=1)\n",
    "final"
   ]
  },
  {
   "cell_type": "code",
   "execution_count": 52,
   "metadata": {
    "pycharm": {
     "name": "#%%\n"
    }
   },
   "outputs": [
    {
     "data": {
      "text/plain": "         Age   Salary  Grade_encoder  Purchased_encoder  France  Germany  \\\n0  44.000000  72000.0              0                  0       1        0   \n1  27.000000  48000.0              0                  1       0        0   \n2  30.000000  54000.0              2                  0       0        1   \n3  38.000000  61000.0              0                  0       0        0   \n4  40.000000  61000.0              1                  1       0        1   \n5  35.000000  58000.0              1                  1       1        0   \n6  38.777778  52000.0              0                  0       0        0   \n7  48.000000  79000.0              2                  1       1        0   \n8  50.000000  83000.0              1                  0       0        1   \n9  37.000000  67000.0              2                  1       1        0   \n\n   Spain  \n0      0  \n1      1  \n2      0  \n3      1  \n4      0  \n5      0  \n6      1  \n7      0  \n8      0  \n9      0  ",
      "text/html": "<div>\n<style scoped>\n    .dataframe tbody tr th:only-of-type {\n        vertical-align: middle;\n    }\n\n    .dataframe tbody tr th {\n        vertical-align: top;\n    }\n\n    .dataframe thead th {\n        text-align: right;\n    }\n</style>\n<table border=\"1\" class=\"dataframe\">\n  <thead>\n    <tr style=\"text-align: right;\">\n      <th></th>\n      <th>Age</th>\n      <th>Salary</th>\n      <th>Grade_encoder</th>\n      <th>Purchased_encoder</th>\n      <th>France</th>\n      <th>Germany</th>\n      <th>Spain</th>\n    </tr>\n  </thead>\n  <tbody>\n    <tr>\n      <th>0</th>\n      <td>44.000000</td>\n      <td>72000.0</td>\n      <td>0</td>\n      <td>0</td>\n      <td>1</td>\n      <td>0</td>\n      <td>0</td>\n    </tr>\n    <tr>\n      <th>1</th>\n      <td>27.000000</td>\n      <td>48000.0</td>\n      <td>0</td>\n      <td>1</td>\n      <td>0</td>\n      <td>0</td>\n      <td>1</td>\n    </tr>\n    <tr>\n      <th>2</th>\n      <td>30.000000</td>\n      <td>54000.0</td>\n      <td>2</td>\n      <td>0</td>\n      <td>0</td>\n      <td>1</td>\n      <td>0</td>\n    </tr>\n    <tr>\n      <th>3</th>\n      <td>38.000000</td>\n      <td>61000.0</td>\n      <td>0</td>\n      <td>0</td>\n      <td>0</td>\n      <td>0</td>\n      <td>1</td>\n    </tr>\n    <tr>\n      <th>4</th>\n      <td>40.000000</td>\n      <td>61000.0</td>\n      <td>1</td>\n      <td>1</td>\n      <td>0</td>\n      <td>1</td>\n      <td>0</td>\n    </tr>\n    <tr>\n      <th>5</th>\n      <td>35.000000</td>\n      <td>58000.0</td>\n      <td>1</td>\n      <td>1</td>\n      <td>1</td>\n      <td>0</td>\n      <td>0</td>\n    </tr>\n    <tr>\n      <th>6</th>\n      <td>38.777778</td>\n      <td>52000.0</td>\n      <td>0</td>\n      <td>0</td>\n      <td>0</td>\n      <td>0</td>\n      <td>1</td>\n    </tr>\n    <tr>\n      <th>7</th>\n      <td>48.000000</td>\n      <td>79000.0</td>\n      <td>2</td>\n      <td>1</td>\n      <td>1</td>\n      <td>0</td>\n      <td>0</td>\n    </tr>\n    <tr>\n      <th>8</th>\n      <td>50.000000</td>\n      <td>83000.0</td>\n      <td>1</td>\n      <td>0</td>\n      <td>0</td>\n      <td>1</td>\n      <td>0</td>\n    </tr>\n    <tr>\n      <th>9</th>\n      <td>37.000000</td>\n      <td>67000.0</td>\n      <td>2</td>\n      <td>1</td>\n      <td>1</td>\n      <td>0</td>\n      <td>0</td>\n    </tr>\n  </tbody>\n</table>\n</div>"
     },
     "execution_count": 52,
     "metadata": {},
     "output_type": "execute_result"
    }
   ],
   "source": [
    "# Limpando o datraframe final \n",
    "final.drop(columns=[\"Country\", \"Grade\", \"Grade 1\", \"Purchased\"], inplace=True)\n",
    "final"
   ]
  },
  {
   "cell_type": "code",
   "execution_count": 53,
   "metadata": {
    "pycharm": {
     "name": "#%%\n"
    }
   },
   "outputs": [],
   "source": [
    "# Agora vamos transformar os dados numéricos. Para isso, temos que colocar os dados numa mesma escala, \n",
    "# observando a distribuição dos dados de TREINO e aplicando tal transformação nos dados de TESTE\n",
    "X = final.drop(columns=[\"Purchased_encoder\"])\n",
    "y = final[\"Purchased_encoder\"]\n",
    "\n",
    "# Separa DAODS e LABELS em treino e teste\n",
    "X_train, X_test, y_train, y_test = train_test_split(X, y, test_size=0.2, random_state=42)"
   ]
  },
  {
   "cell_type": "code",
   "execution_count": 54,
   "metadata": {
    "pycharm": {
     "name": "#%%\n"
    }
   },
   "outputs": [
    {
     "data": {
      "text/plain": "array([[-0.7529426 , -0.58321184,  0.        ,  1.        , -0.57735027,\n        -0.57735027],\n       [ 1.00845381,  1.04978132, -1.15470054,  1.        , -0.57735027,\n        -0.57735027],\n       [ 1.79129666,  1.8662779 ,  1.15470054,  1.        , -0.57735027,\n        -0.57735027],\n       [-1.73149616, -1.04978132,  1.15470054, -1.        ,  1.73205081,\n        -0.57735027],\n       [-0.36152118,  0.46656947,  1.15470054,  1.        , -0.57735027,\n        -0.57735027],\n       [ 0.22561096, -0.23328474,  0.        , -1.        ,  1.73205081,\n        -0.57735027],\n       [-0.16581046, -0.23328474, -1.15470054, -1.        , -0.57735027,\n         1.73205081],\n       [-0.01359102, -1.28306606, -1.15470054, -1.        , -0.57735027,\n         1.73205081]])"
     },
     "execution_count": 54,
     "metadata": {},
     "output_type": "execute_result"
    }
   ],
   "source": [
    "# Cria um standardscaler para padronização dos dados (Z score)\n",
    "scaler = StandardScaler()\n",
    "\n",
    "# descobre o ajuste (fit) e o aplica nos dados de treino (transform)\n",
    "X_train_scaled = scaler.fit_transform(X_train)\n",
    "X_train_scaled"
   ]
  },
  {
   "cell_type": "code",
   "execution_count": 57,
   "metadata": {
    "pycharm": {
     "name": "#%%\n"
    }
   },
   "outputs": [
    {
     "data": {
      "text/plain": "array([[ 2.18271808,  2.33284737,  0.        , -1.        ,  1.73205081,\n        -0.57735027],\n       [-2.3186283 , -1.74963553, -1.15470054, -1.        , -0.57735027,\n         1.73205081]])"
     },
     "execution_count": 57,
     "metadata": {},
     "output_type": "execute_result"
    }
   ],
   "source": [
    "# Agora aplique a mesma transformação nos dados de teste\n",
    "X_test_scaled = scaler.transform(X_test)\n",
    "X_test_scaled"
   ]
  },
  {
   "cell_type": "code",
   "execution_count": 58,
   "metadata": {
    "pycharm": {
     "name": "#%%\n"
    }
   },
   "outputs": [],
   "source": [
    "# Quais são as colunas dos dados de treino?\n"
   ]
  },
  {
   "cell_type": "code",
   "execution_count": 59,
   "metadata": {
    "pycharm": {
     "name": "#%%\n"
    }
   },
   "outputs": [
    {
     "data": {
      "text/plain": "        Age    Salary  Grade_encoder  France   Germany     Spain\n0 -0.752943 -0.583212       0.000000     1.0 -0.577350 -0.577350\n1  1.008454  1.049781      -1.154701     1.0 -0.577350 -0.577350\n2  1.791297  1.866278       1.154701     1.0 -0.577350 -0.577350\n3 -1.731496 -1.049781       1.154701    -1.0  1.732051 -0.577350\n4 -0.361521  0.466569       1.154701     1.0 -0.577350 -0.577350\n5  0.225611 -0.233285       0.000000    -1.0  1.732051 -0.577350\n6 -0.165810 -0.233285      -1.154701    -1.0 -0.577350  1.732051\n7 -0.013591 -1.283066      -1.154701    -1.0 -0.577350  1.732051",
      "text/html": "<div>\n<style scoped>\n    .dataframe tbody tr th:only-of-type {\n        vertical-align: middle;\n    }\n\n    .dataframe tbody tr th {\n        vertical-align: top;\n    }\n\n    .dataframe thead th {\n        text-align: right;\n    }\n</style>\n<table border=\"1\" class=\"dataframe\">\n  <thead>\n    <tr style=\"text-align: right;\">\n      <th></th>\n      <th>Age</th>\n      <th>Salary</th>\n      <th>Grade_encoder</th>\n      <th>France</th>\n      <th>Germany</th>\n      <th>Spain</th>\n    </tr>\n  </thead>\n  <tbody>\n    <tr>\n      <th>0</th>\n      <td>-0.752943</td>\n      <td>-0.583212</td>\n      <td>0.000000</td>\n      <td>1.0</td>\n      <td>-0.577350</td>\n      <td>-0.577350</td>\n    </tr>\n    <tr>\n      <th>1</th>\n      <td>1.008454</td>\n      <td>1.049781</td>\n      <td>-1.154701</td>\n      <td>1.0</td>\n      <td>-0.577350</td>\n      <td>-0.577350</td>\n    </tr>\n    <tr>\n      <th>2</th>\n      <td>1.791297</td>\n      <td>1.866278</td>\n      <td>1.154701</td>\n      <td>1.0</td>\n      <td>-0.577350</td>\n      <td>-0.577350</td>\n    </tr>\n    <tr>\n      <th>3</th>\n      <td>-1.731496</td>\n      <td>-1.049781</td>\n      <td>1.154701</td>\n      <td>-1.0</td>\n      <td>1.732051</td>\n      <td>-0.577350</td>\n    </tr>\n    <tr>\n      <th>4</th>\n      <td>-0.361521</td>\n      <td>0.466569</td>\n      <td>1.154701</td>\n      <td>1.0</td>\n      <td>-0.577350</td>\n      <td>-0.577350</td>\n    </tr>\n    <tr>\n      <th>5</th>\n      <td>0.225611</td>\n      <td>-0.233285</td>\n      <td>0.000000</td>\n      <td>-1.0</td>\n      <td>1.732051</td>\n      <td>-0.577350</td>\n    </tr>\n    <tr>\n      <th>6</th>\n      <td>-0.165810</td>\n      <td>-0.233285</td>\n      <td>-1.154701</td>\n      <td>-1.0</td>\n      <td>-0.577350</td>\n      <td>1.732051</td>\n    </tr>\n    <tr>\n      <th>7</th>\n      <td>-0.013591</td>\n      <td>-1.283066</td>\n      <td>-1.154701</td>\n      <td>-1.0</td>\n      <td>-0.577350</td>\n      <td>1.732051</td>\n    </tr>\n  </tbody>\n</table>\n</div>"
     },
     "execution_count": 59,
     "metadata": {},
     "output_type": "execute_result"
    }
   ],
   "source": [
    "# Cria um dataframe com os dados do treino escalados\n",
    "pd.DataFrame(X_train_scaled, columns=X_train.columns)"
   ]
  },
  {
   "cell_type": "code",
   "execution_count": 62,
   "outputs": [
    {
     "data": {
      "text/plain": "        Age    Salary  Grade_encoder  France  Germany  Spain\n0  0.277778  0.222222            0.5     1.0      0.0    0.0\n1  0.777778  0.740741            0.0     1.0      0.0    0.0\n2  1.000000  1.000000            1.0     1.0      0.0    0.0\n3  0.000000  0.074074            1.0     0.0      1.0    0.0\n4  0.388889  0.555556            1.0     1.0      0.0    0.0\n5  0.555556  0.333333            0.5     0.0      1.0    0.0\n6  0.444444  0.333333            0.0     0.0      0.0    1.0\n7  0.487654  0.000000            0.0     0.0      0.0    1.0",
      "text/html": "<div>\n<style scoped>\n    .dataframe tbody tr th:only-of-type {\n        vertical-align: middle;\n    }\n\n    .dataframe tbody tr th {\n        vertical-align: top;\n    }\n\n    .dataframe thead th {\n        text-align: right;\n    }\n</style>\n<table border=\"1\" class=\"dataframe\">\n  <thead>\n    <tr style=\"text-align: right;\">\n      <th></th>\n      <th>Age</th>\n      <th>Salary</th>\n      <th>Grade_encoder</th>\n      <th>France</th>\n      <th>Germany</th>\n      <th>Spain</th>\n    </tr>\n  </thead>\n  <tbody>\n    <tr>\n      <th>0</th>\n      <td>0.277778</td>\n      <td>0.222222</td>\n      <td>0.5</td>\n      <td>1.0</td>\n      <td>0.0</td>\n      <td>0.0</td>\n    </tr>\n    <tr>\n      <th>1</th>\n      <td>0.777778</td>\n      <td>0.740741</td>\n      <td>0.0</td>\n      <td>1.0</td>\n      <td>0.0</td>\n      <td>0.0</td>\n    </tr>\n    <tr>\n      <th>2</th>\n      <td>1.000000</td>\n      <td>1.000000</td>\n      <td>1.0</td>\n      <td>1.0</td>\n      <td>0.0</td>\n      <td>0.0</td>\n    </tr>\n    <tr>\n      <th>3</th>\n      <td>0.000000</td>\n      <td>0.074074</td>\n      <td>1.0</td>\n      <td>0.0</td>\n      <td>1.0</td>\n      <td>0.0</td>\n    </tr>\n    <tr>\n      <th>4</th>\n      <td>0.388889</td>\n      <td>0.555556</td>\n      <td>1.0</td>\n      <td>1.0</td>\n      <td>0.0</td>\n      <td>0.0</td>\n    </tr>\n    <tr>\n      <th>5</th>\n      <td>0.555556</td>\n      <td>0.333333</td>\n      <td>0.5</td>\n      <td>0.0</td>\n      <td>1.0</td>\n      <td>0.0</td>\n    </tr>\n    <tr>\n      <th>6</th>\n      <td>0.444444</td>\n      <td>0.333333</td>\n      <td>0.0</td>\n      <td>0.0</td>\n      <td>0.0</td>\n      <td>1.0</td>\n    </tr>\n    <tr>\n      <th>7</th>\n      <td>0.487654</td>\n      <td>0.000000</td>\n      <td>0.0</td>\n      <td>0.0</td>\n      <td>0.0</td>\n      <td>1.0</td>\n    </tr>\n  </tbody>\n</table>\n</div>"
     },
     "execution_count": 62,
     "metadata": {},
     "output_type": "execute_result"
    }
   ],
   "source": [
    "minmax = MinMaxScaler()\n",
    "\n",
    "X_train_minmax = minmax.fit_transform(X_train)\n",
    "X_test_minmax = minmax.transform(X_test)\n",
    "\n",
    "pd.DataFrame(X_train_minmax, columns=X_train.columns)"
   ],
   "metadata": {
    "collapsed": false,
    "pycharm": {
     "name": "#%%\n"
    }
   }
  },
  {
   "cell_type": "code",
   "execution_count": null,
   "outputs": [],
   "source": [],
   "metadata": {
    "collapsed": false,
    "pycharm": {
     "name": "#%%\n"
    }
   }
  }
 ],
 "metadata": {
  "kernelspec": {
   "display_name": "Python 3",
   "language": "python",
   "name": "python3"
  },
  "language_info": {
   "codemirror_mode": {
    "name": "ipython",
    "version": 3
   },
   "file_extension": ".py",
   "mimetype": "text/x-python",
   "name": "python",
   "nbconvert_exporter": "python",
   "pygments_lexer": "ipython3",
   "version": "3.7.3"
  }
 },
 "nbformat": 4,
 "nbformat_minor": 4
}