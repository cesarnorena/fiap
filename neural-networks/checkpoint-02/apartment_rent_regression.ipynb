{
 "cells": [
  {
   "cell_type": "markdown",
   "source": [
    "# RM - Checkpoint 01/02\n",
    "\n",
    "Matias\n",
    "César\n",
    "Eduardo\n",
    "Icaro"
   ],
   "metadata": {
    "collapsed": false,
    "pycharm": {
     "name": "#%% md\n"
    }
   }
  },
  {
   "cell_type": "code",
   "execution_count": 377,
   "outputs": [],
   "source": [
    "import pandas as pd\n",
    "from sklearn import metrics\n",
    "from sklearn.ensemble import RandomForestRegressor\n",
    "from sklearn.model_selection import train_test_split\n",
    "from sklearn.neighbors import KNeighborsRegressor\n",
    "from sklearn.neural_network import MLPRegressor\n",
    "from sklearn.preprocessing import MinMaxScaler\n",
    "from sklearn.preprocessing import OneHotEncoder\n",
    "from sklearn.preprocessing import StandardScaler\n",
    "from xgboost import XGBRegressor"
   ],
   "metadata": {
    "collapsed": false,
    "pycharm": {
     "name": "#%%\n"
    }
   }
  },
  {
   "cell_type": "code",
   "execution_count": 378,
   "outputs": [
    {
     "data": {
      "text/plain": "        Price  Condo  Size  Rooms  Toilets  Suites  Parking  Elevator  \\\n0         930    220    47      2        2       1        1         0   \n1        1000    148    45      2        2       1        1         0   \n2        1000    100    48      2        2       1        1         0   \n3        1000    200    48      2        2       1        1         0   \n4        1300    410    55      2        2       1        1         1   \n...       ...    ...   ...    ...      ...     ...      ...       ...   \n13635  265000    420    51      2        1       0        1         0   \n13636  545000    630    74      3        2       1        2         0   \n13637  515000   1100   114      3        3       1        1         0   \n13638  345000     48    39      1        2       1        1         0   \n13639  161987      0    44      2        1       0        1         0   \n\n       Furnished  Swimming Pool  New                 District  \\\n0              0              0    0    Artur Alvim/São Paulo   \n1              0              0    0    Artur Alvim/São Paulo   \n2              0              0    0    Artur Alvim/São Paulo   \n3              0              0    0    Artur Alvim/São Paulo   \n4              0              0    0    Artur Alvim/São Paulo   \n...          ...            ...  ...                      ...   \n13635          0              0    0      Jabaquara/São Paulo   \n13636          0              1    0      Jabaquara/São Paulo   \n13637          0              1    0      Jabaquara/São Paulo   \n13638          1              1    0      Jabaquara/São Paulo   \n13639          0              0    0  Jardim Ângela/São Paulo   \n\n      Negotiation Type Property Type   Latitude  Longitude  \n0                 rent     apartment -23.543138 -46.479486  \n1                 rent     apartment -23.550239 -46.480718  \n2                 rent     apartment -23.542818 -46.485665  \n3                 rent     apartment -23.547171 -46.483014  \n4                 rent     apartment -23.525025 -46.482436  \n...                ...           ...        ...        ...  \n13635             sale     apartment -23.653004 -46.635463  \n13636             sale     apartment -23.648930 -46.641982  \n13637             sale     apartment -23.649693 -46.649783  \n13638             sale     apartment -23.652060 -46.637046  \n13639             sale     apartment -23.613391 -46.523109  \n\n[13640 rows x 16 columns]",
      "text/html": "<div>\n<style scoped>\n    .dataframe tbody tr th:only-of-type {\n        vertical-align: middle;\n    }\n\n    .dataframe tbody tr th {\n        vertical-align: top;\n    }\n\n    .dataframe thead th {\n        text-align: right;\n    }\n</style>\n<table border=\"1\" class=\"dataframe\">\n  <thead>\n    <tr style=\"text-align: right;\">\n      <th></th>\n      <th>Price</th>\n      <th>Condo</th>\n      <th>Size</th>\n      <th>Rooms</th>\n      <th>Toilets</th>\n      <th>Suites</th>\n      <th>Parking</th>\n      <th>Elevator</th>\n      <th>Furnished</th>\n      <th>Swimming Pool</th>\n      <th>New</th>\n      <th>District</th>\n      <th>Negotiation Type</th>\n      <th>Property Type</th>\n      <th>Latitude</th>\n      <th>Longitude</th>\n    </tr>\n  </thead>\n  <tbody>\n    <tr>\n      <th>0</th>\n      <td>930</td>\n      <td>220</td>\n      <td>47</td>\n      <td>2</td>\n      <td>2</td>\n      <td>1</td>\n      <td>1</td>\n      <td>0</td>\n      <td>0</td>\n      <td>0</td>\n      <td>0</td>\n      <td>Artur Alvim/São Paulo</td>\n      <td>rent</td>\n      <td>apartment</td>\n      <td>-23.543138</td>\n      <td>-46.479486</td>\n    </tr>\n    <tr>\n      <th>1</th>\n      <td>1000</td>\n      <td>148</td>\n      <td>45</td>\n      <td>2</td>\n      <td>2</td>\n      <td>1</td>\n      <td>1</td>\n      <td>0</td>\n      <td>0</td>\n      <td>0</td>\n      <td>0</td>\n      <td>Artur Alvim/São Paulo</td>\n      <td>rent</td>\n      <td>apartment</td>\n      <td>-23.550239</td>\n      <td>-46.480718</td>\n    </tr>\n    <tr>\n      <th>2</th>\n      <td>1000</td>\n      <td>100</td>\n      <td>48</td>\n      <td>2</td>\n      <td>2</td>\n      <td>1</td>\n      <td>1</td>\n      <td>0</td>\n      <td>0</td>\n      <td>0</td>\n      <td>0</td>\n      <td>Artur Alvim/São Paulo</td>\n      <td>rent</td>\n      <td>apartment</td>\n      <td>-23.542818</td>\n      <td>-46.485665</td>\n    </tr>\n    <tr>\n      <th>3</th>\n      <td>1000</td>\n      <td>200</td>\n      <td>48</td>\n      <td>2</td>\n      <td>2</td>\n      <td>1</td>\n      <td>1</td>\n      <td>0</td>\n      <td>0</td>\n      <td>0</td>\n      <td>0</td>\n      <td>Artur Alvim/São Paulo</td>\n      <td>rent</td>\n      <td>apartment</td>\n      <td>-23.547171</td>\n      <td>-46.483014</td>\n    </tr>\n    <tr>\n      <th>4</th>\n      <td>1300</td>\n      <td>410</td>\n      <td>55</td>\n      <td>2</td>\n      <td>2</td>\n      <td>1</td>\n      <td>1</td>\n      <td>1</td>\n      <td>0</td>\n      <td>0</td>\n      <td>0</td>\n      <td>Artur Alvim/São Paulo</td>\n      <td>rent</td>\n      <td>apartment</td>\n      <td>-23.525025</td>\n      <td>-46.482436</td>\n    </tr>\n    <tr>\n      <th>...</th>\n      <td>...</td>\n      <td>...</td>\n      <td>...</td>\n      <td>...</td>\n      <td>...</td>\n      <td>...</td>\n      <td>...</td>\n      <td>...</td>\n      <td>...</td>\n      <td>...</td>\n      <td>...</td>\n      <td>...</td>\n      <td>...</td>\n      <td>...</td>\n      <td>...</td>\n      <td>...</td>\n    </tr>\n    <tr>\n      <th>13635</th>\n      <td>265000</td>\n      <td>420</td>\n      <td>51</td>\n      <td>2</td>\n      <td>1</td>\n      <td>0</td>\n      <td>1</td>\n      <td>0</td>\n      <td>0</td>\n      <td>0</td>\n      <td>0</td>\n      <td>Jabaquara/São Paulo</td>\n      <td>sale</td>\n      <td>apartment</td>\n      <td>-23.653004</td>\n      <td>-46.635463</td>\n    </tr>\n    <tr>\n      <th>13636</th>\n      <td>545000</td>\n      <td>630</td>\n      <td>74</td>\n      <td>3</td>\n      <td>2</td>\n      <td>1</td>\n      <td>2</td>\n      <td>0</td>\n      <td>0</td>\n      <td>1</td>\n      <td>0</td>\n      <td>Jabaquara/São Paulo</td>\n      <td>sale</td>\n      <td>apartment</td>\n      <td>-23.648930</td>\n      <td>-46.641982</td>\n    </tr>\n    <tr>\n      <th>13637</th>\n      <td>515000</td>\n      <td>1100</td>\n      <td>114</td>\n      <td>3</td>\n      <td>3</td>\n      <td>1</td>\n      <td>1</td>\n      <td>0</td>\n      <td>0</td>\n      <td>1</td>\n      <td>0</td>\n      <td>Jabaquara/São Paulo</td>\n      <td>sale</td>\n      <td>apartment</td>\n      <td>-23.649693</td>\n      <td>-46.649783</td>\n    </tr>\n    <tr>\n      <th>13638</th>\n      <td>345000</td>\n      <td>48</td>\n      <td>39</td>\n      <td>1</td>\n      <td>2</td>\n      <td>1</td>\n      <td>1</td>\n      <td>0</td>\n      <td>1</td>\n      <td>1</td>\n      <td>0</td>\n      <td>Jabaquara/São Paulo</td>\n      <td>sale</td>\n      <td>apartment</td>\n      <td>-23.652060</td>\n      <td>-46.637046</td>\n    </tr>\n    <tr>\n      <th>13639</th>\n      <td>161987</td>\n      <td>0</td>\n      <td>44</td>\n      <td>2</td>\n      <td>1</td>\n      <td>0</td>\n      <td>1</td>\n      <td>0</td>\n      <td>0</td>\n      <td>0</td>\n      <td>0</td>\n      <td>Jardim Ângela/São Paulo</td>\n      <td>sale</td>\n      <td>apartment</td>\n      <td>-23.613391</td>\n      <td>-46.523109</td>\n    </tr>\n  </tbody>\n</table>\n<p>13640 rows × 16 columns</p>\n</div>"
     },
     "execution_count": 378,
     "metadata": {},
     "output_type": "execute_result"
    }
   ],
   "source": [
    "df = pd.read_csv('https://tinyurl.com/alugueis-sp-df')\n",
    "df"
   ],
   "metadata": {
    "pycharm": {
     "name": "#%%\n"
    },
    "id": "TvrZompH_WZb"
   }
  },
  {
   "cell_type": "code",
   "execution_count": 379,
   "outputs": [
    {
     "data": {
      "text/plain": "array(['rent', 'sale'], dtype=object)"
     },
     "execution_count": 379,
     "metadata": {},
     "output_type": "execute_result"
    }
   ],
   "source": [
    "df[\"Negotiation Type\"].unique()"
   ],
   "metadata": {
    "pycharm": {
     "name": "#%%\n"
    },
    "colab": {
     "base_uri": "https://localhost:8080/"
    },
    "id": "75eYwHDD_WZd",
    "outputId": "ad8b134c-4965-43e1-ac77-a80ac680893f"
   }
  },
  {
   "cell_type": "code",
   "execution_count": 380,
   "outputs": [],
   "source": [
    "# Filtramos o data frame para tirar alugueis\n",
    "sales_df = df.copy()[df[\"Negotiation Type\"] == \"sale\"]"
   ],
   "metadata": {
    "collapsed": false,
    "pycharm": {
     "name": "#%%\n"
    }
   }
  },
  {
   "cell_type": "code",
   "execution_count": 381,
   "outputs": [
    {
     "data": {
      "text/plain": "                   0          1\n0        Artur Alvim  São Paulo\n1        Artur Alvim  São Paulo\n2        Artur Alvim  São Paulo\n3        Artur Alvim  São Paulo\n4        Artur Alvim  São Paulo\n...              ...        ...\n13635      Jabaquara  São Paulo\n13636      Jabaquara  São Paulo\n13637      Jabaquara  São Paulo\n13638      Jabaquara  São Paulo\n13639  Jardim Ângela  São Paulo\n\n[13640 rows x 2 columns]",
      "text/html": "<div>\n<style scoped>\n    .dataframe tbody tr th:only-of-type {\n        vertical-align: middle;\n    }\n\n    .dataframe tbody tr th {\n        vertical-align: top;\n    }\n\n    .dataframe thead th {\n        text-align: right;\n    }\n</style>\n<table border=\"1\" class=\"dataframe\">\n  <thead>\n    <tr style=\"text-align: right;\">\n      <th></th>\n      <th>0</th>\n      <th>1</th>\n    </tr>\n  </thead>\n  <tbody>\n    <tr>\n      <th>0</th>\n      <td>Artur Alvim</td>\n      <td>São Paulo</td>\n    </tr>\n    <tr>\n      <th>1</th>\n      <td>Artur Alvim</td>\n      <td>São Paulo</td>\n    </tr>\n    <tr>\n      <th>2</th>\n      <td>Artur Alvim</td>\n      <td>São Paulo</td>\n    </tr>\n    <tr>\n      <th>3</th>\n      <td>Artur Alvim</td>\n      <td>São Paulo</td>\n    </tr>\n    <tr>\n      <th>4</th>\n      <td>Artur Alvim</td>\n      <td>São Paulo</td>\n    </tr>\n    <tr>\n      <th>...</th>\n      <td>...</td>\n      <td>...</td>\n    </tr>\n    <tr>\n      <th>13635</th>\n      <td>Jabaquara</td>\n      <td>São Paulo</td>\n    </tr>\n    <tr>\n      <th>13636</th>\n      <td>Jabaquara</td>\n      <td>São Paulo</td>\n    </tr>\n    <tr>\n      <th>13637</th>\n      <td>Jabaquara</td>\n      <td>São Paulo</td>\n    </tr>\n    <tr>\n      <th>13638</th>\n      <td>Jabaquara</td>\n      <td>São Paulo</td>\n    </tr>\n    <tr>\n      <th>13639</th>\n      <td>Jardim Ângela</td>\n      <td>São Paulo</td>\n    </tr>\n  </tbody>\n</table>\n<p>13640 rows × 2 columns</p>\n</div>"
     },
     "execution_count": 381,
     "metadata": {},
     "output_type": "execute_result"
    }
   ],
   "source": [
    "# Dividimos o District por região e cidade\n",
    "region_df = df['District'].str.split('/', expand=True)\n",
    "region_df"
   ],
   "metadata": {
    "pycharm": {
     "name": "#%%\n"
    },
    "colab": {
     "base_uri": "https://localhost:8080/",
     "height": 424
    },
    "id": "ItoGtXPI_WZf",
    "outputId": "97804fa9-82ce-40c3-ba6c-e2ea0d47b551"
   }
  },
  {
   "cell_type": "code",
   "execution_count": 382,
   "outputs": [
    {
     "data": {
      "text/plain": "array(['apartment'], dtype=object)"
     },
     "execution_count": 382,
     "metadata": {},
     "output_type": "execute_result"
    }
   ],
   "source": [
    "sales_df[\"Property Type\"].unique()"
   ],
   "metadata": {
    "pycharm": {
     "name": "#%%\n"
    },
    "colab": {
     "base_uri": "https://localhost:8080/"
    },
    "id": "aubH8Xi3_WZg",
    "outputId": "9e007ecf-1aea-4e1c-8c22-7f3d5d5ba67f"
   }
  },
  {
   "cell_type": "code",
   "execution_count": 383,
   "outputs": [],
   "source": [
    "# Tiramos do data frame Negotiation Type e Property Type\n",
    "sales_df.drop(columns=[\"Negotiation Type\", \"Property Type\"], inplace=True)"
   ],
   "metadata": {
    "pycharm": {
     "name": "#%%\n"
    },
    "colab": {
     "base_uri": "https://localhost:8080/"
    },
    "id": "dEhrQAq0_WZh",
    "outputId": "52f7d932-619f-4bfd-8ebd-7b633315c18b"
   }
  },
  {
   "cell_type": "code",
   "execution_count": 384,
   "outputs": [],
   "source": [
    "sales_df.drop(columns=[\"District\"], inplace=True)"
   ],
   "metadata": {
    "collapsed": false,
    "pycharm": {
     "name": "#%%\n"
    }
   }
  },
  {
   "cell_type": "code",
   "execution_count": 385,
   "outputs": [
    {
     "data": {
      "text/plain": "         Price  Condo  Size  Rooms  Toilets  Suites  Parking  Elevator  \\\n4901    732600   1000    74      1        2       1        2         1   \n4902   1990000   2400   164      4        5       2        3         1   \n4903    720000    700    70      2        2       1        1         1   \n4904   1680000   1580   155      3        5       3        2         1   \n4905   1200000    900    56      2        2       1        2         0   \n...        ...    ...   ...    ...      ...     ...      ...       ...   \n13635   265000    420    51      2        1       0        1         0   \n13636   545000    630    74      3        2       1        2         0   \n13637   515000   1100   114      3        3       1        1         0   \n13638   345000     48    39      1        2       1        1         0   \n13639   161987      0    44      2        1       0        1         0   \n\n       Furnished  Swimming Pool  New   Latitude  Longitude              0  \\\n4901           0              1    0 -23.552129 -46.692244  Vila Madalena   \n4902           1              1    0 -23.551613 -46.699106  Vila Madalena   \n4903           0              1    1 -23.547687 -46.692594  Vila Madalena   \n4904           0              1    0 -23.552590 -46.691104  Vila Madalena   \n4905           1              1    0 -23.553087 -46.697890  Vila Madalena   \n...          ...            ...  ...        ...        ...            ...   \n13635          0              0    0 -23.653004 -46.635463      Jabaquara   \n13636          0              1    0 -23.648930 -46.641982      Jabaquara   \n13637          0              1    0 -23.649693 -46.649783      Jabaquara   \n13638          1              1    0 -23.652060 -46.637046      Jabaquara   \n13639          0              0    0 -23.613391 -46.523109  Jardim Ângela   \n\n               1  \n4901   São Paulo  \n4902   São Paulo  \n4903   São Paulo  \n4904   São Paulo  \n4905   São Paulo  \n...          ...  \n13635  São Paulo  \n13636  São Paulo  \n13637  São Paulo  \n13638  São Paulo  \n13639  São Paulo  \n\n[6412 rows x 15 columns]",
      "text/html": "<div>\n<style scoped>\n    .dataframe tbody tr th:only-of-type {\n        vertical-align: middle;\n    }\n\n    .dataframe tbody tr th {\n        vertical-align: top;\n    }\n\n    .dataframe thead th {\n        text-align: right;\n    }\n</style>\n<table border=\"1\" class=\"dataframe\">\n  <thead>\n    <tr style=\"text-align: right;\">\n      <th></th>\n      <th>Price</th>\n      <th>Condo</th>\n      <th>Size</th>\n      <th>Rooms</th>\n      <th>Toilets</th>\n      <th>Suites</th>\n      <th>Parking</th>\n      <th>Elevator</th>\n      <th>Furnished</th>\n      <th>Swimming Pool</th>\n      <th>New</th>\n      <th>Latitude</th>\n      <th>Longitude</th>\n      <th>0</th>\n      <th>1</th>\n    </tr>\n  </thead>\n  <tbody>\n    <tr>\n      <th>4901</th>\n      <td>732600</td>\n      <td>1000</td>\n      <td>74</td>\n      <td>1</td>\n      <td>2</td>\n      <td>1</td>\n      <td>2</td>\n      <td>1</td>\n      <td>0</td>\n      <td>1</td>\n      <td>0</td>\n      <td>-23.552129</td>\n      <td>-46.692244</td>\n      <td>Vila Madalena</td>\n      <td>São Paulo</td>\n    </tr>\n    <tr>\n      <th>4902</th>\n      <td>1990000</td>\n      <td>2400</td>\n      <td>164</td>\n      <td>4</td>\n      <td>5</td>\n      <td>2</td>\n      <td>3</td>\n      <td>1</td>\n      <td>1</td>\n      <td>1</td>\n      <td>0</td>\n      <td>-23.551613</td>\n      <td>-46.699106</td>\n      <td>Vila Madalena</td>\n      <td>São Paulo</td>\n    </tr>\n    <tr>\n      <th>4903</th>\n      <td>720000</td>\n      <td>700</td>\n      <td>70</td>\n      <td>2</td>\n      <td>2</td>\n      <td>1</td>\n      <td>1</td>\n      <td>1</td>\n      <td>0</td>\n      <td>1</td>\n      <td>1</td>\n      <td>-23.547687</td>\n      <td>-46.692594</td>\n      <td>Vila Madalena</td>\n      <td>São Paulo</td>\n    </tr>\n    <tr>\n      <th>4904</th>\n      <td>1680000</td>\n      <td>1580</td>\n      <td>155</td>\n      <td>3</td>\n      <td>5</td>\n      <td>3</td>\n      <td>2</td>\n      <td>1</td>\n      <td>0</td>\n      <td>1</td>\n      <td>0</td>\n      <td>-23.552590</td>\n      <td>-46.691104</td>\n      <td>Vila Madalena</td>\n      <td>São Paulo</td>\n    </tr>\n    <tr>\n      <th>4905</th>\n      <td>1200000</td>\n      <td>900</td>\n      <td>56</td>\n      <td>2</td>\n      <td>2</td>\n      <td>1</td>\n      <td>2</td>\n      <td>0</td>\n      <td>1</td>\n      <td>1</td>\n      <td>0</td>\n      <td>-23.553087</td>\n      <td>-46.697890</td>\n      <td>Vila Madalena</td>\n      <td>São Paulo</td>\n    </tr>\n    <tr>\n      <th>...</th>\n      <td>...</td>\n      <td>...</td>\n      <td>...</td>\n      <td>...</td>\n      <td>...</td>\n      <td>...</td>\n      <td>...</td>\n      <td>...</td>\n      <td>...</td>\n      <td>...</td>\n      <td>...</td>\n      <td>...</td>\n      <td>...</td>\n      <td>...</td>\n      <td>...</td>\n    </tr>\n    <tr>\n      <th>13635</th>\n      <td>265000</td>\n      <td>420</td>\n      <td>51</td>\n      <td>2</td>\n      <td>1</td>\n      <td>0</td>\n      <td>1</td>\n      <td>0</td>\n      <td>0</td>\n      <td>0</td>\n      <td>0</td>\n      <td>-23.653004</td>\n      <td>-46.635463</td>\n      <td>Jabaquara</td>\n      <td>São Paulo</td>\n    </tr>\n    <tr>\n      <th>13636</th>\n      <td>545000</td>\n      <td>630</td>\n      <td>74</td>\n      <td>3</td>\n      <td>2</td>\n      <td>1</td>\n      <td>2</td>\n      <td>0</td>\n      <td>0</td>\n      <td>1</td>\n      <td>0</td>\n      <td>-23.648930</td>\n      <td>-46.641982</td>\n      <td>Jabaquara</td>\n      <td>São Paulo</td>\n    </tr>\n    <tr>\n      <th>13637</th>\n      <td>515000</td>\n      <td>1100</td>\n      <td>114</td>\n      <td>3</td>\n      <td>3</td>\n      <td>1</td>\n      <td>1</td>\n      <td>0</td>\n      <td>0</td>\n      <td>1</td>\n      <td>0</td>\n      <td>-23.649693</td>\n      <td>-46.649783</td>\n      <td>Jabaquara</td>\n      <td>São Paulo</td>\n    </tr>\n    <tr>\n      <th>13638</th>\n      <td>345000</td>\n      <td>48</td>\n      <td>39</td>\n      <td>1</td>\n      <td>2</td>\n      <td>1</td>\n      <td>1</td>\n      <td>0</td>\n      <td>1</td>\n      <td>1</td>\n      <td>0</td>\n      <td>-23.652060</td>\n      <td>-46.637046</td>\n      <td>Jabaquara</td>\n      <td>São Paulo</td>\n    </tr>\n    <tr>\n      <th>13639</th>\n      <td>161987</td>\n      <td>0</td>\n      <td>44</td>\n      <td>2</td>\n      <td>1</td>\n      <td>0</td>\n      <td>1</td>\n      <td>0</td>\n      <td>0</td>\n      <td>0</td>\n      <td>0</td>\n      <td>-23.613391</td>\n      <td>-46.523109</td>\n      <td>Jardim Ângela</td>\n      <td>São Paulo</td>\n    </tr>\n  </tbody>\n</table>\n<p>6412 rows × 15 columns</p>\n</div>"
     },
     "execution_count": 385,
     "metadata": {},
     "output_type": "execute_result"
    }
   ],
   "source": [
    "clean_df = pd.concat([sales_df, region_df], axis=1, join=\"inner\")\n",
    "clean_df"
   ],
   "metadata": {
    "pycharm": {
     "name": "#%%\n"
    },
    "colab": {
     "base_uri": "https://localhost:8080/",
     "height": 424
    },
    "id": "PY4Q8pMr_WZj",
    "outputId": "698d7454-d44b-4688-a590-780e5e57ae55"
   }
  },
  {
   "cell_type": "code",
   "execution_count": 386,
   "outputs": [
    {
     "data": {
      "text/plain": "         Price  Condo  Size  Rooms  Toilets  Suites  Parking  Elevator  \\\n4901    732600   1000    74      1        2       1        2         1   \n4902   1990000   2400   164      4        5       2        3         1   \n4903    720000    700    70      2        2       1        1         1   \n4904   1680000   1580   155      3        5       3        2         1   \n4905   1200000    900    56      2        2       1        2         0   \n...        ...    ...   ...    ...      ...     ...      ...       ...   \n13635   265000    420    51      2        1       0        1         0   \n13636   545000    630    74      3        2       1        2         0   \n13637   515000   1100   114      3        3       1        1         0   \n13638   345000     48    39      1        2       1        1         0   \n13639   161987      0    44      2        1       0        1         0   \n\n       Furnished  Swimming Pool  New   Latitude  Longitude       District  \\\n4901           0              1    0 -23.552129 -46.692244  Vila Madalena   \n4902           1              1    0 -23.551613 -46.699106  Vila Madalena   \n4903           0              1    1 -23.547687 -46.692594  Vila Madalena   \n4904           0              1    0 -23.552590 -46.691104  Vila Madalena   \n4905           1              1    0 -23.553087 -46.697890  Vila Madalena   \n...          ...            ...  ...        ...        ...            ...   \n13635          0              0    0 -23.653004 -46.635463      Jabaquara   \n13636          0              1    0 -23.648930 -46.641982      Jabaquara   \n13637          0              1    0 -23.649693 -46.649783      Jabaquara   \n13638          1              1    0 -23.652060 -46.637046      Jabaquara   \n13639          0              0    0 -23.613391 -46.523109  Jardim Ângela   \n\n            City  \n4901   São Paulo  \n4902   São Paulo  \n4903   São Paulo  \n4904   São Paulo  \n4905   São Paulo  \n...          ...  \n13635  São Paulo  \n13636  São Paulo  \n13637  São Paulo  \n13638  São Paulo  \n13639  São Paulo  \n\n[6412 rows x 15 columns]",
      "text/html": "<div>\n<style scoped>\n    .dataframe tbody tr th:only-of-type {\n        vertical-align: middle;\n    }\n\n    .dataframe tbody tr th {\n        vertical-align: top;\n    }\n\n    .dataframe thead th {\n        text-align: right;\n    }\n</style>\n<table border=\"1\" class=\"dataframe\">\n  <thead>\n    <tr style=\"text-align: right;\">\n      <th></th>\n      <th>Price</th>\n      <th>Condo</th>\n      <th>Size</th>\n      <th>Rooms</th>\n      <th>Toilets</th>\n      <th>Suites</th>\n      <th>Parking</th>\n      <th>Elevator</th>\n      <th>Furnished</th>\n      <th>Swimming Pool</th>\n      <th>New</th>\n      <th>Latitude</th>\n      <th>Longitude</th>\n      <th>District</th>\n      <th>City</th>\n    </tr>\n  </thead>\n  <tbody>\n    <tr>\n      <th>4901</th>\n      <td>732600</td>\n      <td>1000</td>\n      <td>74</td>\n      <td>1</td>\n      <td>2</td>\n      <td>1</td>\n      <td>2</td>\n      <td>1</td>\n      <td>0</td>\n      <td>1</td>\n      <td>0</td>\n      <td>-23.552129</td>\n      <td>-46.692244</td>\n      <td>Vila Madalena</td>\n      <td>São Paulo</td>\n    </tr>\n    <tr>\n      <th>4902</th>\n      <td>1990000</td>\n      <td>2400</td>\n      <td>164</td>\n      <td>4</td>\n      <td>5</td>\n      <td>2</td>\n      <td>3</td>\n      <td>1</td>\n      <td>1</td>\n      <td>1</td>\n      <td>0</td>\n      <td>-23.551613</td>\n      <td>-46.699106</td>\n      <td>Vila Madalena</td>\n      <td>São Paulo</td>\n    </tr>\n    <tr>\n      <th>4903</th>\n      <td>720000</td>\n      <td>700</td>\n      <td>70</td>\n      <td>2</td>\n      <td>2</td>\n      <td>1</td>\n      <td>1</td>\n      <td>1</td>\n      <td>0</td>\n      <td>1</td>\n      <td>1</td>\n      <td>-23.547687</td>\n      <td>-46.692594</td>\n      <td>Vila Madalena</td>\n      <td>São Paulo</td>\n    </tr>\n    <tr>\n      <th>4904</th>\n      <td>1680000</td>\n      <td>1580</td>\n      <td>155</td>\n      <td>3</td>\n      <td>5</td>\n      <td>3</td>\n      <td>2</td>\n      <td>1</td>\n      <td>0</td>\n      <td>1</td>\n      <td>0</td>\n      <td>-23.552590</td>\n      <td>-46.691104</td>\n      <td>Vila Madalena</td>\n      <td>São Paulo</td>\n    </tr>\n    <tr>\n      <th>4905</th>\n      <td>1200000</td>\n      <td>900</td>\n      <td>56</td>\n      <td>2</td>\n      <td>2</td>\n      <td>1</td>\n      <td>2</td>\n      <td>0</td>\n      <td>1</td>\n      <td>1</td>\n      <td>0</td>\n      <td>-23.553087</td>\n      <td>-46.697890</td>\n      <td>Vila Madalena</td>\n      <td>São Paulo</td>\n    </tr>\n    <tr>\n      <th>...</th>\n      <td>...</td>\n      <td>...</td>\n      <td>...</td>\n      <td>...</td>\n      <td>...</td>\n      <td>...</td>\n      <td>...</td>\n      <td>...</td>\n      <td>...</td>\n      <td>...</td>\n      <td>...</td>\n      <td>...</td>\n      <td>...</td>\n      <td>...</td>\n      <td>...</td>\n    </tr>\n    <tr>\n      <th>13635</th>\n      <td>265000</td>\n      <td>420</td>\n      <td>51</td>\n      <td>2</td>\n      <td>1</td>\n      <td>0</td>\n      <td>1</td>\n      <td>0</td>\n      <td>0</td>\n      <td>0</td>\n      <td>0</td>\n      <td>-23.653004</td>\n      <td>-46.635463</td>\n      <td>Jabaquara</td>\n      <td>São Paulo</td>\n    </tr>\n    <tr>\n      <th>13636</th>\n      <td>545000</td>\n      <td>630</td>\n      <td>74</td>\n      <td>3</td>\n      <td>2</td>\n      <td>1</td>\n      <td>2</td>\n      <td>0</td>\n      <td>0</td>\n      <td>1</td>\n      <td>0</td>\n      <td>-23.648930</td>\n      <td>-46.641982</td>\n      <td>Jabaquara</td>\n      <td>São Paulo</td>\n    </tr>\n    <tr>\n      <th>13637</th>\n      <td>515000</td>\n      <td>1100</td>\n      <td>114</td>\n      <td>3</td>\n      <td>3</td>\n      <td>1</td>\n      <td>1</td>\n      <td>0</td>\n      <td>0</td>\n      <td>1</td>\n      <td>0</td>\n      <td>-23.649693</td>\n      <td>-46.649783</td>\n      <td>Jabaquara</td>\n      <td>São Paulo</td>\n    </tr>\n    <tr>\n      <th>13638</th>\n      <td>345000</td>\n      <td>48</td>\n      <td>39</td>\n      <td>1</td>\n      <td>2</td>\n      <td>1</td>\n      <td>1</td>\n      <td>0</td>\n      <td>1</td>\n      <td>1</td>\n      <td>0</td>\n      <td>-23.652060</td>\n      <td>-46.637046</td>\n      <td>Jabaquara</td>\n      <td>São Paulo</td>\n    </tr>\n    <tr>\n      <th>13639</th>\n      <td>161987</td>\n      <td>0</td>\n      <td>44</td>\n      <td>2</td>\n      <td>1</td>\n      <td>0</td>\n      <td>1</td>\n      <td>0</td>\n      <td>0</td>\n      <td>0</td>\n      <td>0</td>\n      <td>-23.613391</td>\n      <td>-46.523109</td>\n      <td>Jardim Ângela</td>\n      <td>São Paulo</td>\n    </tr>\n  </tbody>\n</table>\n<p>6412 rows × 15 columns</p>\n</div>"
     },
     "execution_count": 386,
     "metadata": {},
     "output_type": "execute_result"
    }
   ],
   "source": [
    "clean_df.rename(columns={0: 'District', 1: 'City'}, inplace=True)\n",
    "clean_df"
   ],
   "metadata": {
    "pycharm": {
     "name": "#%%\n"
    },
    "colab": {
     "base_uri": "https://localhost:8080/",
     "height": 424
    },
    "id": "2CLyECsK_WZk",
    "outputId": "5739badb-1f84-4ae3-cc8f-babc1bbed61e"
   }
  },
  {
   "cell_type": "code",
   "execution_count": 387,
   "outputs": [
    {
     "data": {
      "text/plain": "array(['São Paulo'], dtype=object)"
     },
     "execution_count": 387,
     "metadata": {},
     "output_type": "execute_result"
    }
   ],
   "source": [
    "clean_df[\"City\"].unique()"
   ],
   "metadata": {
    "pycharm": {
     "name": "#%%\n"
    },
    "colab": {
     "base_uri": "https://localhost:8080/"
    },
    "id": "je_-N3vJ_WZk",
    "outputId": "ff1d8058-f204-4254-96c3-e2364381ff33"
   }
  },
  {
   "cell_type": "code",
   "execution_count": 388,
   "outputs": [],
   "source": [
    "clean_df.drop(columns=[\"City\"], inplace=True)"
   ],
   "metadata": {
    "pycharm": {
     "name": "#%%\n"
    },
    "colab": {
     "base_uri": "https://localhost:8080/",
     "height": 424
    },
    "id": "o0guh09O_WZl",
    "outputId": "c51a5e97-ad5b-433d-e6e4-b5d6cbf3f83c"
   }
  },
  {
   "cell_type": "code",
   "execution_count": 389,
   "outputs": [],
   "source": [
    "clean_df.drop(columns=[\"Latitude\", \"Longitude\"], inplace=True)"
   ],
   "metadata": {
    "collapsed": false,
    "pycharm": {
     "name": "#%%\n"
    }
   }
  },
  {
   "cell_type": "code",
   "execution_count": 390,
   "outputs": [
    {
     "name": "stdout",
     "output_type": "stream",
     "text": [
      "<class 'pandas.core.frame.DataFrame'>\n",
      "Int64Index: 6412 entries, 4901 to 13639\n",
      "Data columns (total 12 columns):\n",
      " #   Column         Non-Null Count  Dtype \n",
      "---  ------         --------------  ----- \n",
      " 0   Price          6412 non-null   int64 \n",
      " 1   Condo          6412 non-null   int64 \n",
      " 2   Size           6412 non-null   int64 \n",
      " 3   Rooms          6412 non-null   int64 \n",
      " 4   Toilets        6412 non-null   int64 \n",
      " 5   Suites         6412 non-null   int64 \n",
      " 6   Parking        6412 non-null   int64 \n",
      " 7   Elevator       6412 non-null   int64 \n",
      " 8   Furnished      6412 non-null   int64 \n",
      " 9   Swimming Pool  6412 non-null   int64 \n",
      " 10  New            6412 non-null   int64 \n",
      " 11  District       6412 non-null   object\n",
      "dtypes: int64(11), object(1)\n",
      "memory usage: 651.2+ KB\n"
     ]
    }
   ],
   "source": [
    "clean_df.info()"
   ],
   "metadata": {
    "collapsed": false,
    "pycharm": {
     "name": "#%%\n"
    }
   }
  },
  {
   "cell_type": "code",
   "execution_count": 391,
   "outputs": [
    {
     "data": {
      "text/plain": "array(['Vila Madalena', 'Mooca', 'Brooklin', 'Vila Olimpia',\n       'Barra Funda', 'Bela Vista', 'Bom Retiro', 'Brás', 'Consolação',\n       'Liberdade', 'Pari', 'República', 'Santa Cecília', 'Sé',\n       'Casa Verde', 'Jaçanã', 'Mandaqui', 'Santana', 'Tremembé',\n       'Tucuruvi', 'Vila Guilherme', 'Vila Maria', 'Medeiros',\n       'Água Rasa', 'Aricanduva', 'Artur Alvim', 'Belém', 'Cangaíba',\n       'Carrão', 'Cidade Líder', 'Cidade Tiradentes',\n       'Ermelino Matarazzo', 'Guaianazes', 'Iguatemi', 'Itaim Paulista',\n       'Itaquera', 'Jardim Helena', 'José Bonifácio', 'Lajeado',\n       'Parque do Carmo', 'Penha', 'Ponte Rasa', 'Sapopemba', 'São Lucas',\n       'São Mateus', 'São Miguel', 'São Rafael', 'Tatuapé', 'Vila Curuçá',\n       'Vila Formosa', 'Vila Jacuí', 'Vila Matilde', 'Vila Prudente',\n       'Cambuci', 'Campo Belo', 'Campo Grande', 'Campo Limpo',\n       'Capão Redondo', 'Cidade Ademar', 'Cidade Dutra', 'Cursino',\n       'Grajaú', 'Ipiranga', 'Itaim Bibi', 'Jabaquara', 'Jardim Ângela',\n       'Jardim Paulista', 'Jardim São Luis', 'Moema', 'Morumbi',\n       'Pedreira', 'Sacomã', 'Santo Amaro', 'Saúde', 'Socorro',\n       'Vila Andrade', 'Vila Mariana', 'Vila Sônia', 'Alto de Pinheiros',\n       'Anhanguera', 'Brasilândia', 'Butantã', 'Cachoeirinha',\n       'Freguesia do Ó', 'Jaguaré', 'Jaraguá', 'Lapa', 'Limão',\n       'Perdizes', 'Perus', 'Pinheiros', 'Pirituba', 'Raposo Tavares',\n       'Rio Pequeno', 'São Domingos', 'Vila Leopoldina'], dtype=object)"
     },
     "execution_count": 391,
     "metadata": {},
     "output_type": "execute_result"
    }
   ],
   "source": [
    "clean_df[\"District\"].unique()"
   ],
   "metadata": {
    "pycharm": {
     "name": "#%%\n"
    },
    "colab": {
     "base_uri": "https://localhost:8080/"
    },
    "id": "Xn_-SS0x_WZl",
    "outputId": "aa62cd81-0084-47a8-f9b4-c5ec9923f4f4"
   }
  },
  {
   "cell_type": "code",
   "execution_count": 392,
   "outputs": [
    {
     "data": {
      "text/plain": "       Alto de Pinheiros  Anhanguera  Aricanduva  Artur Alvim  Barra Funda  \\\n4901                   0           0           0            0            0   \n4902                   0           0           0            0            0   \n4903                   0           0           0            0            0   \n4904                   0           0           0            0            0   \n4905                   0           0           0            0            0   \n...                  ...         ...         ...          ...          ...   \n13635                  0           0           0            0            0   \n13636                  0           0           0            0            0   \n13637                  0           0           0            0            0   \n13638                  0           0           0            0            0   \n13639                  0           0           0            0            0   \n\n       Bela Vista  Belém  Bom Retiro  Brasilândia  Brooklin  ...  Vila Jacuí  \\\n4901            0      0           0            0         0  ...           0   \n4902            0      0           0            0         0  ...           0   \n4903            0      0           0            0         0  ...           0   \n4904            0      0           0            0         0  ...           0   \n4905            0      0           0            0         0  ...           0   \n...           ...    ...         ...          ...       ...  ...         ...   \n13635           0      0           0            0         0  ...           0   \n13636           0      0           0            0         0  ...           0   \n13637           0      0           0            0         0  ...           0   \n13638           0      0           0            0         0  ...           0   \n13639           0      0           0            0         0  ...           0   \n\n       Vila Leopoldina  Vila Madalena  Vila Maria  Vila Mariana  Vila Matilde  \\\n4901                 0              1           0             0             0   \n4902                 0              1           0             0             0   \n4903                 0              1           0             0             0   \n4904                 0              1           0             0             0   \n4905                 0              1           0             0             0   \n...                ...            ...         ...           ...           ...   \n13635                0              0           0             0             0   \n13636                0              0           0             0             0   \n13637                0              0           0             0             0   \n13638                0              0           0             0             0   \n13639                0              0           0             0             0   \n\n       Vila Olimpia  Vila Prudente  Vila Sônia  Água Rasa  \n4901              0              0           0          0  \n4902              0              0           0          0  \n4903              0              0           0          0  \n4904              0              0           0          0  \n4905              0              0           0          0  \n...             ...            ...         ...        ...  \n13635             0              0           0          0  \n13636             0              0           0          0  \n13637             0              0           0          0  \n13638             0              0           0          0  \n13639             0              0           0          0  \n\n[6412 rows x 96 columns]",
      "text/html": "<div>\n<style scoped>\n    .dataframe tbody tr th:only-of-type {\n        vertical-align: middle;\n    }\n\n    .dataframe tbody tr th {\n        vertical-align: top;\n    }\n\n    .dataframe thead th {\n        text-align: right;\n    }\n</style>\n<table border=\"1\" class=\"dataframe\">\n  <thead>\n    <tr style=\"text-align: right;\">\n      <th></th>\n      <th>Alto de Pinheiros</th>\n      <th>Anhanguera</th>\n      <th>Aricanduva</th>\n      <th>Artur Alvim</th>\n      <th>Barra Funda</th>\n      <th>Bela Vista</th>\n      <th>Belém</th>\n      <th>Bom Retiro</th>\n      <th>Brasilândia</th>\n      <th>Brooklin</th>\n      <th>...</th>\n      <th>Vila Jacuí</th>\n      <th>Vila Leopoldina</th>\n      <th>Vila Madalena</th>\n      <th>Vila Maria</th>\n      <th>Vila Mariana</th>\n      <th>Vila Matilde</th>\n      <th>Vila Olimpia</th>\n      <th>Vila Prudente</th>\n      <th>Vila Sônia</th>\n      <th>Água Rasa</th>\n    </tr>\n  </thead>\n  <tbody>\n    <tr>\n      <th>4901</th>\n      <td>0</td>\n      <td>0</td>\n      <td>0</td>\n      <td>0</td>\n      <td>0</td>\n      <td>0</td>\n      <td>0</td>\n      <td>0</td>\n      <td>0</td>\n      <td>0</td>\n      <td>...</td>\n      <td>0</td>\n      <td>0</td>\n      <td>1</td>\n      <td>0</td>\n      <td>0</td>\n      <td>0</td>\n      <td>0</td>\n      <td>0</td>\n      <td>0</td>\n      <td>0</td>\n    </tr>\n    <tr>\n      <th>4902</th>\n      <td>0</td>\n      <td>0</td>\n      <td>0</td>\n      <td>0</td>\n      <td>0</td>\n      <td>0</td>\n      <td>0</td>\n      <td>0</td>\n      <td>0</td>\n      <td>0</td>\n      <td>...</td>\n      <td>0</td>\n      <td>0</td>\n      <td>1</td>\n      <td>0</td>\n      <td>0</td>\n      <td>0</td>\n      <td>0</td>\n      <td>0</td>\n      <td>0</td>\n      <td>0</td>\n    </tr>\n    <tr>\n      <th>4903</th>\n      <td>0</td>\n      <td>0</td>\n      <td>0</td>\n      <td>0</td>\n      <td>0</td>\n      <td>0</td>\n      <td>0</td>\n      <td>0</td>\n      <td>0</td>\n      <td>0</td>\n      <td>...</td>\n      <td>0</td>\n      <td>0</td>\n      <td>1</td>\n      <td>0</td>\n      <td>0</td>\n      <td>0</td>\n      <td>0</td>\n      <td>0</td>\n      <td>0</td>\n      <td>0</td>\n    </tr>\n    <tr>\n      <th>4904</th>\n      <td>0</td>\n      <td>0</td>\n      <td>0</td>\n      <td>0</td>\n      <td>0</td>\n      <td>0</td>\n      <td>0</td>\n      <td>0</td>\n      <td>0</td>\n      <td>0</td>\n      <td>...</td>\n      <td>0</td>\n      <td>0</td>\n      <td>1</td>\n      <td>0</td>\n      <td>0</td>\n      <td>0</td>\n      <td>0</td>\n      <td>0</td>\n      <td>0</td>\n      <td>0</td>\n    </tr>\n    <tr>\n      <th>4905</th>\n      <td>0</td>\n      <td>0</td>\n      <td>0</td>\n      <td>0</td>\n      <td>0</td>\n      <td>0</td>\n      <td>0</td>\n      <td>0</td>\n      <td>0</td>\n      <td>0</td>\n      <td>...</td>\n      <td>0</td>\n      <td>0</td>\n      <td>1</td>\n      <td>0</td>\n      <td>0</td>\n      <td>0</td>\n      <td>0</td>\n      <td>0</td>\n      <td>0</td>\n      <td>0</td>\n    </tr>\n    <tr>\n      <th>...</th>\n      <td>...</td>\n      <td>...</td>\n      <td>...</td>\n      <td>...</td>\n      <td>...</td>\n      <td>...</td>\n      <td>...</td>\n      <td>...</td>\n      <td>...</td>\n      <td>...</td>\n      <td>...</td>\n      <td>...</td>\n      <td>...</td>\n      <td>...</td>\n      <td>...</td>\n      <td>...</td>\n      <td>...</td>\n      <td>...</td>\n      <td>...</td>\n      <td>...</td>\n      <td>...</td>\n    </tr>\n    <tr>\n      <th>13635</th>\n      <td>0</td>\n      <td>0</td>\n      <td>0</td>\n      <td>0</td>\n      <td>0</td>\n      <td>0</td>\n      <td>0</td>\n      <td>0</td>\n      <td>0</td>\n      <td>0</td>\n      <td>...</td>\n      <td>0</td>\n      <td>0</td>\n      <td>0</td>\n      <td>0</td>\n      <td>0</td>\n      <td>0</td>\n      <td>0</td>\n      <td>0</td>\n      <td>0</td>\n      <td>0</td>\n    </tr>\n    <tr>\n      <th>13636</th>\n      <td>0</td>\n      <td>0</td>\n      <td>0</td>\n      <td>0</td>\n      <td>0</td>\n      <td>0</td>\n      <td>0</td>\n      <td>0</td>\n      <td>0</td>\n      <td>0</td>\n      <td>...</td>\n      <td>0</td>\n      <td>0</td>\n      <td>0</td>\n      <td>0</td>\n      <td>0</td>\n      <td>0</td>\n      <td>0</td>\n      <td>0</td>\n      <td>0</td>\n      <td>0</td>\n    </tr>\n    <tr>\n      <th>13637</th>\n      <td>0</td>\n      <td>0</td>\n      <td>0</td>\n      <td>0</td>\n      <td>0</td>\n      <td>0</td>\n      <td>0</td>\n      <td>0</td>\n      <td>0</td>\n      <td>0</td>\n      <td>...</td>\n      <td>0</td>\n      <td>0</td>\n      <td>0</td>\n      <td>0</td>\n      <td>0</td>\n      <td>0</td>\n      <td>0</td>\n      <td>0</td>\n      <td>0</td>\n      <td>0</td>\n    </tr>\n    <tr>\n      <th>13638</th>\n      <td>0</td>\n      <td>0</td>\n      <td>0</td>\n      <td>0</td>\n      <td>0</td>\n      <td>0</td>\n      <td>0</td>\n      <td>0</td>\n      <td>0</td>\n      <td>0</td>\n      <td>...</td>\n      <td>0</td>\n      <td>0</td>\n      <td>0</td>\n      <td>0</td>\n      <td>0</td>\n      <td>0</td>\n      <td>0</td>\n      <td>0</td>\n      <td>0</td>\n      <td>0</td>\n    </tr>\n    <tr>\n      <th>13639</th>\n      <td>0</td>\n      <td>0</td>\n      <td>0</td>\n      <td>0</td>\n      <td>0</td>\n      <td>0</td>\n      <td>0</td>\n      <td>0</td>\n      <td>0</td>\n      <td>0</td>\n      <td>...</td>\n      <td>0</td>\n      <td>0</td>\n      <td>0</td>\n      <td>0</td>\n      <td>0</td>\n      <td>0</td>\n      <td>0</td>\n      <td>0</td>\n      <td>0</td>\n      <td>0</td>\n    </tr>\n  </tbody>\n</table>\n<p>6412 rows × 96 columns</p>\n</div>"
     },
     "execution_count": 392,
     "metadata": {},
     "output_type": "execute_result"
    }
   ],
   "source": [
    "district_dummies = pd.get_dummies(clean_df[\"District\"])\n",
    "district_dummies"
   ],
   "metadata": {
    "pycharm": {
     "name": "#%%\n"
    },
    "colab": {
     "base_uri": "https://localhost:8080/",
     "height": 485
    },
    "id": "BaDmmWpR_WZm",
    "outputId": "cdd28235-a388-4b84-f2df-593473e14de4"
   }
  },
  {
   "cell_type": "code",
   "execution_count": 393,
   "outputs": [
    {
     "ename": "ValueError",
     "evalue": "X does not contain any features, but OneHotEncoder is expecting 1 features",
     "output_type": "error",
     "traceback": [
      "\u001B[0;31m---------------------------------------------------------------------------\u001B[0m",
      "\u001B[0;31mTypeError\u001B[0m                                 Traceback (most recent call last)",
      "File \u001B[0;32m/usr/local/lib/python3.9/site-packages/sklearn/base.py:377\u001B[0m, in \u001B[0;36mBaseEstimator._check_n_features\u001B[0;34m(self, X, reset)\u001B[0m\n\u001B[1;32m    376\u001B[0m \u001B[38;5;28;01mtry\u001B[39;00m:\n\u001B[0;32m--> 377\u001B[0m     n_features \u001B[38;5;241m=\u001B[39m \u001B[43m_num_features\u001B[49m\u001B[43m(\u001B[49m\u001B[43mX\u001B[49m\u001B[43m)\u001B[49m\n\u001B[1;32m    378\u001B[0m \u001B[38;5;28;01mexcept\u001B[39;00m \u001B[38;5;167;01mTypeError\u001B[39;00m \u001B[38;5;28;01mas\u001B[39;00m e:\n",
      "File \u001B[0;32m/usr/local/lib/python3.9/site-packages/sklearn/utils/validation.py:235\u001B[0m, in \u001B[0;36m_num_features\u001B[0;34m(X)\u001B[0m\n\u001B[1;32m    234\u001B[0m     message \u001B[38;5;241m+\u001B[39m\u001B[38;5;241m=\u001B[39m \u001B[38;5;124mf\u001B[39m\u001B[38;5;124m\"\u001B[39m\u001B[38;5;124m with shape \u001B[39m\u001B[38;5;132;01m{\u001B[39;00mX\u001B[38;5;241m.\u001B[39mshape\u001B[38;5;132;01m}\u001B[39;00m\u001B[38;5;124m\"\u001B[39m\n\u001B[0;32m--> 235\u001B[0m     \u001B[38;5;28;01mraise\u001B[39;00m \u001B[38;5;167;01mTypeError\u001B[39;00m(message)\n\u001B[1;32m    236\u001B[0m \u001B[38;5;28;01mreturn\u001B[39;00m X\u001B[38;5;241m.\u001B[39mshape[\u001B[38;5;241m1\u001B[39m]\n",
      "\u001B[0;31mTypeError\u001B[0m: Unable to find the number of features from X of type pandas.core.series.Series with shape (6412,)",
      "\nThe above exception was the direct cause of the following exception:\n",
      "\u001B[0;31mValueError\u001B[0m                                Traceback (most recent call last)",
      "Input \u001B[0;32mIn [393]\u001B[0m, in \u001B[0;36m<cell line: 7>\u001B[0;34m()\u001B[0m\n\u001B[1;32m      3\u001B[0m enc \u001B[38;5;241m=\u001B[39m OneHotEncoder(handle_unknown\u001B[38;5;241m=\u001B[39m\u001B[38;5;124m'\u001B[39m\u001B[38;5;124mignore\u001B[39m\u001B[38;5;124m'\u001B[39m)\n\u001B[1;32m      5\u001B[0m enc\u001B[38;5;241m.\u001B[39mfit(clean_df[\u001B[38;5;124m\"\u001B[39m\u001B[38;5;124mDistrict\u001B[39m\u001B[38;5;124m\"\u001B[39m]\u001B[38;5;241m.\u001B[39mto_numpy()\u001B[38;5;241m.\u001B[39mreshape(\u001B[38;5;241m-\u001B[39m\u001B[38;5;241m1\u001B[39m, \u001B[38;5;241m1\u001B[39m))\n\u001B[0;32m----> 7\u001B[0m \u001B[43menc\u001B[49m\u001B[38;5;241;43m.\u001B[39;49m\u001B[43mtransform\u001B[49m\u001B[43m(\u001B[49m\u001B[43mclean_df\u001B[49m\u001B[43m[\u001B[49m\u001B[38;5;124;43m\"\u001B[39;49m\u001B[38;5;124;43mDistrict\u001B[39;49m\u001B[38;5;124;43m\"\u001B[39;49m\u001B[43m]\u001B[49m\u001B[43m)\u001B[49m\n",
      "File \u001B[0;32m/usr/local/lib/python3.9/site-packages/sklearn/preprocessing/_encoders.py:509\u001B[0m, in \u001B[0;36mOneHotEncoder.transform\u001B[0;34m(self, X)\u001B[0m\n\u001B[1;32m    507\u001B[0m \u001B[38;5;66;03m# validation of X happens in _check_X called by _transform\u001B[39;00m\n\u001B[1;32m    508\u001B[0m warn_on_unknown \u001B[38;5;241m=\u001B[39m \u001B[38;5;28mself\u001B[39m\u001B[38;5;241m.\u001B[39mhandle_unknown \u001B[38;5;241m==\u001B[39m \u001B[38;5;124m\"\u001B[39m\u001B[38;5;124mignore\u001B[39m\u001B[38;5;124m\"\u001B[39m \u001B[38;5;129;01mand\u001B[39;00m \u001B[38;5;28mself\u001B[39m\u001B[38;5;241m.\u001B[39mdrop \u001B[38;5;129;01mis\u001B[39;00m \u001B[38;5;129;01mnot\u001B[39;00m \u001B[38;5;28;01mNone\u001B[39;00m\n\u001B[0;32m--> 509\u001B[0m X_int, X_mask \u001B[38;5;241m=\u001B[39m \u001B[38;5;28;43mself\u001B[39;49m\u001B[38;5;241;43m.\u001B[39;49m\u001B[43m_transform\u001B[49m\u001B[43m(\u001B[49m\n\u001B[1;32m    510\u001B[0m \u001B[43m    \u001B[49m\u001B[43mX\u001B[49m\u001B[43m,\u001B[49m\n\u001B[1;32m    511\u001B[0m \u001B[43m    \u001B[49m\u001B[43mhandle_unknown\u001B[49m\u001B[38;5;241;43m=\u001B[39;49m\u001B[38;5;28;43mself\u001B[39;49m\u001B[38;5;241;43m.\u001B[39;49m\u001B[43mhandle_unknown\u001B[49m\u001B[43m,\u001B[49m\n\u001B[1;32m    512\u001B[0m \u001B[43m    \u001B[49m\u001B[43mforce_all_finite\u001B[49m\u001B[38;5;241;43m=\u001B[39;49m\u001B[38;5;124;43m\"\u001B[39;49m\u001B[38;5;124;43mallow-nan\u001B[39;49m\u001B[38;5;124;43m\"\u001B[39;49m\u001B[43m,\u001B[49m\n\u001B[1;32m    513\u001B[0m \u001B[43m    \u001B[49m\u001B[43mwarn_on_unknown\u001B[49m\u001B[38;5;241;43m=\u001B[39;49m\u001B[43mwarn_on_unknown\u001B[49m\u001B[43m,\u001B[49m\n\u001B[1;32m    514\u001B[0m \u001B[43m\u001B[49m\u001B[43m)\u001B[49m\n\u001B[1;32m    516\u001B[0m n_samples, n_features \u001B[38;5;241m=\u001B[39m X_int\u001B[38;5;241m.\u001B[39mshape\n\u001B[1;32m    518\u001B[0m \u001B[38;5;28;01mif\u001B[39;00m \u001B[38;5;28mself\u001B[39m\u001B[38;5;241m.\u001B[39mdrop_idx_ \u001B[38;5;129;01mis\u001B[39;00m \u001B[38;5;129;01mnot\u001B[39;00m \u001B[38;5;28;01mNone\u001B[39;00m:\n",
      "File \u001B[0;32m/usr/local/lib/python3.9/site-packages/sklearn/preprocessing/_encoders.py:123\u001B[0m, in \u001B[0;36m_BaseEncoder._transform\u001B[0;34m(self, X, handle_unknown, force_all_finite, warn_on_unknown)\u001B[0m\n\u001B[1;32m    119\u001B[0m \u001B[38;5;28;01mdef\u001B[39;00m \u001B[38;5;21m_transform\u001B[39m(\n\u001B[1;32m    120\u001B[0m     \u001B[38;5;28mself\u001B[39m, X, handle_unknown\u001B[38;5;241m=\u001B[39m\u001B[38;5;124m\"\u001B[39m\u001B[38;5;124merror\u001B[39m\u001B[38;5;124m\"\u001B[39m, force_all_finite\u001B[38;5;241m=\u001B[39m\u001B[38;5;28;01mTrue\u001B[39;00m, warn_on_unknown\u001B[38;5;241m=\u001B[39m\u001B[38;5;28;01mFalse\u001B[39;00m\n\u001B[1;32m    121\u001B[0m ):\n\u001B[1;32m    122\u001B[0m     \u001B[38;5;28mself\u001B[39m\u001B[38;5;241m.\u001B[39m_check_feature_names(X, reset\u001B[38;5;241m=\u001B[39m\u001B[38;5;28;01mFalse\u001B[39;00m)\n\u001B[0;32m--> 123\u001B[0m     \u001B[38;5;28;43mself\u001B[39;49m\u001B[38;5;241;43m.\u001B[39;49m\u001B[43m_check_n_features\u001B[49m\u001B[43m(\u001B[49m\u001B[43mX\u001B[49m\u001B[43m,\u001B[49m\u001B[43m \u001B[49m\u001B[43mreset\u001B[49m\u001B[38;5;241;43m=\u001B[39;49m\u001B[38;5;28;43;01mFalse\u001B[39;49;00m\u001B[43m)\u001B[49m\n\u001B[1;32m    124\u001B[0m     X_list, n_samples, n_features \u001B[38;5;241m=\u001B[39m \u001B[38;5;28mself\u001B[39m\u001B[38;5;241m.\u001B[39m_check_X(\n\u001B[1;32m    125\u001B[0m         X, force_all_finite\u001B[38;5;241m=\u001B[39mforce_all_finite\n\u001B[1;32m    126\u001B[0m     )\n\u001B[1;32m    128\u001B[0m     X_int \u001B[38;5;241m=\u001B[39m np\u001B[38;5;241m.\u001B[39mzeros((n_samples, n_features), dtype\u001B[38;5;241m=\u001B[39m\u001B[38;5;28mint\u001B[39m)\n",
      "File \u001B[0;32m/usr/local/lib/python3.9/site-packages/sklearn/base.py:380\u001B[0m, in \u001B[0;36mBaseEstimator._check_n_features\u001B[0;34m(self, X, reset)\u001B[0m\n\u001B[1;32m    378\u001B[0m \u001B[38;5;28;01mexcept\u001B[39;00m \u001B[38;5;167;01mTypeError\u001B[39;00m \u001B[38;5;28;01mas\u001B[39;00m e:\n\u001B[1;32m    379\u001B[0m     \u001B[38;5;28;01mif\u001B[39;00m \u001B[38;5;129;01mnot\u001B[39;00m reset \u001B[38;5;129;01mand\u001B[39;00m \u001B[38;5;28mhasattr\u001B[39m(\u001B[38;5;28mself\u001B[39m, \u001B[38;5;124m\"\u001B[39m\u001B[38;5;124mn_features_in_\u001B[39m\u001B[38;5;124m\"\u001B[39m):\n\u001B[0;32m--> 380\u001B[0m         \u001B[38;5;28;01mraise\u001B[39;00m \u001B[38;5;167;01mValueError\u001B[39;00m(\n\u001B[1;32m    381\u001B[0m             \u001B[38;5;124m\"\u001B[39m\u001B[38;5;124mX does not contain any features, but \u001B[39m\u001B[38;5;124m\"\u001B[39m\n\u001B[1;32m    382\u001B[0m             \u001B[38;5;124mf\u001B[39m\u001B[38;5;124m\"\u001B[39m\u001B[38;5;132;01m{\u001B[39;00m\u001B[38;5;28mself\u001B[39m\u001B[38;5;241m.\u001B[39m\u001B[38;5;18m__class__\u001B[39m\u001B[38;5;241m.\u001B[39m\u001B[38;5;18m__name__\u001B[39m\u001B[38;5;132;01m}\u001B[39;00m\u001B[38;5;124m is expecting \u001B[39m\u001B[38;5;124m\"\u001B[39m\n\u001B[1;32m    383\u001B[0m             \u001B[38;5;124mf\u001B[39m\u001B[38;5;124m\"\u001B[39m\u001B[38;5;132;01m{\u001B[39;00m\u001B[38;5;28mself\u001B[39m\u001B[38;5;241m.\u001B[39mn_features_in_\u001B[38;5;132;01m}\u001B[39;00m\u001B[38;5;124m features\u001B[39m\u001B[38;5;124m\"\u001B[39m\n\u001B[1;32m    384\u001B[0m         ) \u001B[38;5;28;01mfrom\u001B[39;00m \u001B[38;5;21;01me\u001B[39;00m\n\u001B[1;32m    385\u001B[0m     \u001B[38;5;66;03m# If the number of features is not defined and reset=True,\u001B[39;00m\n\u001B[1;32m    386\u001B[0m     \u001B[38;5;66;03m# then we skip this check\u001B[39;00m\n\u001B[1;32m    387\u001B[0m     \u001B[38;5;28;01mreturn\u001B[39;00m\n",
      "\u001B[0;31mValueError\u001B[0m: X does not contain any features, but OneHotEncoder is expecting 1 features"
     ]
    }
   ],
   "source": [
    "# WIP\n",
    "\n",
    "enc = OneHotEncoder(handle_unknown='ignore')\n",
    "\n",
    "enc.fit(clean_df[\"District\"].to_numpy().reshape(-1, 1))\n",
    "\n",
    "enc.transform(clean_df[\"District\"])"
   ],
   "metadata": {
    "collapsed": false,
    "pycharm": {
     "name": "#%%\n"
    }
   }
  },
  {
   "cell_type": "code",
   "execution_count": 394,
   "outputs": [
    {
     "data": {
      "text/plain": "         Price  Condo  Size  Rooms  Toilets  Suites  Parking  Elevator  \\\n4901    732600   1000    74      1        2       1        2         1   \n4902   1990000   2400   164      4        5       2        3         1   \n4903    720000    700    70      2        2       1        1         1   \n4904   1680000   1580   155      3        5       3        2         1   \n4905   1200000    900    56      2        2       1        2         0   \n...        ...    ...   ...    ...      ...     ...      ...       ...   \n13635   265000    420    51      2        1       0        1         0   \n13636   545000    630    74      3        2       1        2         0   \n13637   515000   1100   114      3        3       1        1         0   \n13638   345000     48    39      1        2       1        1         0   \n13639   161987      0    44      2        1       0        1         0   \n\n       Furnished  Swimming Pool  New  \n4901           0              1    0  \n4902           1              1    0  \n4903           0              1    1  \n4904           0              1    0  \n4905           1              1    0  \n...          ...            ...  ...  \n13635          0              0    0  \n13636          0              1    0  \n13637          0              1    0  \n13638          1              1    0  \n13639          0              0    0  \n\n[6412 rows x 11 columns]",
      "text/html": "<div>\n<style scoped>\n    .dataframe tbody tr th:only-of-type {\n        vertical-align: middle;\n    }\n\n    .dataframe tbody tr th {\n        vertical-align: top;\n    }\n\n    .dataframe thead th {\n        text-align: right;\n    }\n</style>\n<table border=\"1\" class=\"dataframe\">\n  <thead>\n    <tr style=\"text-align: right;\">\n      <th></th>\n      <th>Price</th>\n      <th>Condo</th>\n      <th>Size</th>\n      <th>Rooms</th>\n      <th>Toilets</th>\n      <th>Suites</th>\n      <th>Parking</th>\n      <th>Elevator</th>\n      <th>Furnished</th>\n      <th>Swimming Pool</th>\n      <th>New</th>\n    </tr>\n  </thead>\n  <tbody>\n    <tr>\n      <th>4901</th>\n      <td>732600</td>\n      <td>1000</td>\n      <td>74</td>\n      <td>1</td>\n      <td>2</td>\n      <td>1</td>\n      <td>2</td>\n      <td>1</td>\n      <td>0</td>\n      <td>1</td>\n      <td>0</td>\n    </tr>\n    <tr>\n      <th>4902</th>\n      <td>1990000</td>\n      <td>2400</td>\n      <td>164</td>\n      <td>4</td>\n      <td>5</td>\n      <td>2</td>\n      <td>3</td>\n      <td>1</td>\n      <td>1</td>\n      <td>1</td>\n      <td>0</td>\n    </tr>\n    <tr>\n      <th>4903</th>\n      <td>720000</td>\n      <td>700</td>\n      <td>70</td>\n      <td>2</td>\n      <td>2</td>\n      <td>1</td>\n      <td>1</td>\n      <td>1</td>\n      <td>0</td>\n      <td>1</td>\n      <td>1</td>\n    </tr>\n    <tr>\n      <th>4904</th>\n      <td>1680000</td>\n      <td>1580</td>\n      <td>155</td>\n      <td>3</td>\n      <td>5</td>\n      <td>3</td>\n      <td>2</td>\n      <td>1</td>\n      <td>0</td>\n      <td>1</td>\n      <td>0</td>\n    </tr>\n    <tr>\n      <th>4905</th>\n      <td>1200000</td>\n      <td>900</td>\n      <td>56</td>\n      <td>2</td>\n      <td>2</td>\n      <td>1</td>\n      <td>2</td>\n      <td>0</td>\n      <td>1</td>\n      <td>1</td>\n      <td>0</td>\n    </tr>\n    <tr>\n      <th>...</th>\n      <td>...</td>\n      <td>...</td>\n      <td>...</td>\n      <td>...</td>\n      <td>...</td>\n      <td>...</td>\n      <td>...</td>\n      <td>...</td>\n      <td>...</td>\n      <td>...</td>\n      <td>...</td>\n    </tr>\n    <tr>\n      <th>13635</th>\n      <td>265000</td>\n      <td>420</td>\n      <td>51</td>\n      <td>2</td>\n      <td>1</td>\n      <td>0</td>\n      <td>1</td>\n      <td>0</td>\n      <td>0</td>\n      <td>0</td>\n      <td>0</td>\n    </tr>\n    <tr>\n      <th>13636</th>\n      <td>545000</td>\n      <td>630</td>\n      <td>74</td>\n      <td>3</td>\n      <td>2</td>\n      <td>1</td>\n      <td>2</td>\n      <td>0</td>\n      <td>0</td>\n      <td>1</td>\n      <td>0</td>\n    </tr>\n    <tr>\n      <th>13637</th>\n      <td>515000</td>\n      <td>1100</td>\n      <td>114</td>\n      <td>3</td>\n      <td>3</td>\n      <td>1</td>\n      <td>1</td>\n      <td>0</td>\n      <td>0</td>\n      <td>1</td>\n      <td>0</td>\n    </tr>\n    <tr>\n      <th>13638</th>\n      <td>345000</td>\n      <td>48</td>\n      <td>39</td>\n      <td>1</td>\n      <td>2</td>\n      <td>1</td>\n      <td>1</td>\n      <td>0</td>\n      <td>1</td>\n      <td>1</td>\n      <td>0</td>\n    </tr>\n    <tr>\n      <th>13639</th>\n      <td>161987</td>\n      <td>0</td>\n      <td>44</td>\n      <td>2</td>\n      <td>1</td>\n      <td>0</td>\n      <td>1</td>\n      <td>0</td>\n      <td>0</td>\n      <td>0</td>\n      <td>0</td>\n    </tr>\n  </tbody>\n</table>\n<p>6412 rows × 11 columns</p>\n</div>"
     },
     "execution_count": 394,
     "metadata": {},
     "output_type": "execute_result"
    }
   ],
   "source": [
    "districtless_df = clean_df.drop(columns=[\"District\"])\n",
    "districtless_df"
   ],
   "metadata": {
    "pycharm": {
     "name": "#%%\n"
    },
    "colab": {
     "base_uri": "https://localhost:8080/",
     "height": 424
    },
    "id": "o1khylws_WZn",
    "outputId": "0fb4624c-7939-4df4-f37e-3948c21353fb"
   }
  },
  {
   "cell_type": "code",
   "execution_count": 395,
   "outputs": [
    {
     "data": {
      "text/plain": "         Price  Condo  Size  Rooms  Toilets  Suites  Parking  Elevator  \\\n4901    732600   1000    74      1        2       1        2         1   \n4902   1990000   2400   164      4        5       2        3         1   \n4903    720000    700    70      2        2       1        1         1   \n4904   1680000   1580   155      3        5       3        2         1   \n4905   1200000    900    56      2        2       1        2         0   \n...        ...    ...   ...    ...      ...     ...      ...       ...   \n13635   265000    420    51      2        1       0        1         0   \n13636   545000    630    74      3        2       1        2         0   \n13637   515000   1100   114      3        3       1        1         0   \n13638   345000     48    39      1        2       1        1         0   \n13639   161987      0    44      2        1       0        1         0   \n\n       Furnished  Swimming Pool  ...  Vila Jacuí  Vila Leopoldina  \\\n4901           0              1  ...           0                0   \n4902           1              1  ...           0                0   \n4903           0              1  ...           0                0   \n4904           0              1  ...           0                0   \n4905           1              1  ...           0                0   \n...          ...            ...  ...         ...              ...   \n13635          0              0  ...           0                0   \n13636          0              1  ...           0                0   \n13637          0              1  ...           0                0   \n13638          1              1  ...           0                0   \n13639          0              0  ...           0                0   \n\n       Vila Madalena  Vila Maria  Vila Mariana  Vila Matilde  Vila Olimpia  \\\n4901               1           0             0             0             0   \n4902               1           0             0             0             0   \n4903               1           0             0             0             0   \n4904               1           0             0             0             0   \n4905               1           0             0             0             0   \n...              ...         ...           ...           ...           ...   \n13635              0           0             0             0             0   \n13636              0           0             0             0             0   \n13637              0           0             0             0             0   \n13638              0           0             0             0             0   \n13639              0           0             0             0             0   \n\n       Vila Prudente  Vila Sônia  Água Rasa  \n4901               0           0          0  \n4902               0           0          0  \n4903               0           0          0  \n4904               0           0          0  \n4905               0           0          0  \n...              ...         ...        ...  \n13635              0           0          0  \n13636              0           0          0  \n13637              0           0          0  \n13638              0           0          0  \n13639              0           0          0  \n\n[6412 rows x 107 columns]",
      "text/html": "<div>\n<style scoped>\n    .dataframe tbody tr th:only-of-type {\n        vertical-align: middle;\n    }\n\n    .dataframe tbody tr th {\n        vertical-align: top;\n    }\n\n    .dataframe thead th {\n        text-align: right;\n    }\n</style>\n<table border=\"1\" class=\"dataframe\">\n  <thead>\n    <tr style=\"text-align: right;\">\n      <th></th>\n      <th>Price</th>\n      <th>Condo</th>\n      <th>Size</th>\n      <th>Rooms</th>\n      <th>Toilets</th>\n      <th>Suites</th>\n      <th>Parking</th>\n      <th>Elevator</th>\n      <th>Furnished</th>\n      <th>Swimming Pool</th>\n      <th>...</th>\n      <th>Vila Jacuí</th>\n      <th>Vila Leopoldina</th>\n      <th>Vila Madalena</th>\n      <th>Vila Maria</th>\n      <th>Vila Mariana</th>\n      <th>Vila Matilde</th>\n      <th>Vila Olimpia</th>\n      <th>Vila Prudente</th>\n      <th>Vila Sônia</th>\n      <th>Água Rasa</th>\n    </tr>\n  </thead>\n  <tbody>\n    <tr>\n      <th>4901</th>\n      <td>732600</td>\n      <td>1000</td>\n      <td>74</td>\n      <td>1</td>\n      <td>2</td>\n      <td>1</td>\n      <td>2</td>\n      <td>1</td>\n      <td>0</td>\n      <td>1</td>\n      <td>...</td>\n      <td>0</td>\n      <td>0</td>\n      <td>1</td>\n      <td>0</td>\n      <td>0</td>\n      <td>0</td>\n      <td>0</td>\n      <td>0</td>\n      <td>0</td>\n      <td>0</td>\n    </tr>\n    <tr>\n      <th>4902</th>\n      <td>1990000</td>\n      <td>2400</td>\n      <td>164</td>\n      <td>4</td>\n      <td>5</td>\n      <td>2</td>\n      <td>3</td>\n      <td>1</td>\n      <td>1</td>\n      <td>1</td>\n      <td>...</td>\n      <td>0</td>\n      <td>0</td>\n      <td>1</td>\n      <td>0</td>\n      <td>0</td>\n      <td>0</td>\n      <td>0</td>\n      <td>0</td>\n      <td>0</td>\n      <td>0</td>\n    </tr>\n    <tr>\n      <th>4903</th>\n      <td>720000</td>\n      <td>700</td>\n      <td>70</td>\n      <td>2</td>\n      <td>2</td>\n      <td>1</td>\n      <td>1</td>\n      <td>1</td>\n      <td>0</td>\n      <td>1</td>\n      <td>...</td>\n      <td>0</td>\n      <td>0</td>\n      <td>1</td>\n      <td>0</td>\n      <td>0</td>\n      <td>0</td>\n      <td>0</td>\n      <td>0</td>\n      <td>0</td>\n      <td>0</td>\n    </tr>\n    <tr>\n      <th>4904</th>\n      <td>1680000</td>\n      <td>1580</td>\n      <td>155</td>\n      <td>3</td>\n      <td>5</td>\n      <td>3</td>\n      <td>2</td>\n      <td>1</td>\n      <td>0</td>\n      <td>1</td>\n      <td>...</td>\n      <td>0</td>\n      <td>0</td>\n      <td>1</td>\n      <td>0</td>\n      <td>0</td>\n      <td>0</td>\n      <td>0</td>\n      <td>0</td>\n      <td>0</td>\n      <td>0</td>\n    </tr>\n    <tr>\n      <th>4905</th>\n      <td>1200000</td>\n      <td>900</td>\n      <td>56</td>\n      <td>2</td>\n      <td>2</td>\n      <td>1</td>\n      <td>2</td>\n      <td>0</td>\n      <td>1</td>\n      <td>1</td>\n      <td>...</td>\n      <td>0</td>\n      <td>0</td>\n      <td>1</td>\n      <td>0</td>\n      <td>0</td>\n      <td>0</td>\n      <td>0</td>\n      <td>0</td>\n      <td>0</td>\n      <td>0</td>\n    </tr>\n    <tr>\n      <th>...</th>\n      <td>...</td>\n      <td>...</td>\n      <td>...</td>\n      <td>...</td>\n      <td>...</td>\n      <td>...</td>\n      <td>...</td>\n      <td>...</td>\n      <td>...</td>\n      <td>...</td>\n      <td>...</td>\n      <td>...</td>\n      <td>...</td>\n      <td>...</td>\n      <td>...</td>\n      <td>...</td>\n      <td>...</td>\n      <td>...</td>\n      <td>...</td>\n      <td>...</td>\n      <td>...</td>\n    </tr>\n    <tr>\n      <th>13635</th>\n      <td>265000</td>\n      <td>420</td>\n      <td>51</td>\n      <td>2</td>\n      <td>1</td>\n      <td>0</td>\n      <td>1</td>\n      <td>0</td>\n      <td>0</td>\n      <td>0</td>\n      <td>...</td>\n      <td>0</td>\n      <td>0</td>\n      <td>0</td>\n      <td>0</td>\n      <td>0</td>\n      <td>0</td>\n      <td>0</td>\n      <td>0</td>\n      <td>0</td>\n      <td>0</td>\n    </tr>\n    <tr>\n      <th>13636</th>\n      <td>545000</td>\n      <td>630</td>\n      <td>74</td>\n      <td>3</td>\n      <td>2</td>\n      <td>1</td>\n      <td>2</td>\n      <td>0</td>\n      <td>0</td>\n      <td>1</td>\n      <td>...</td>\n      <td>0</td>\n      <td>0</td>\n      <td>0</td>\n      <td>0</td>\n      <td>0</td>\n      <td>0</td>\n      <td>0</td>\n      <td>0</td>\n      <td>0</td>\n      <td>0</td>\n    </tr>\n    <tr>\n      <th>13637</th>\n      <td>515000</td>\n      <td>1100</td>\n      <td>114</td>\n      <td>3</td>\n      <td>3</td>\n      <td>1</td>\n      <td>1</td>\n      <td>0</td>\n      <td>0</td>\n      <td>1</td>\n      <td>...</td>\n      <td>0</td>\n      <td>0</td>\n      <td>0</td>\n      <td>0</td>\n      <td>0</td>\n      <td>0</td>\n      <td>0</td>\n      <td>0</td>\n      <td>0</td>\n      <td>0</td>\n    </tr>\n    <tr>\n      <th>13638</th>\n      <td>345000</td>\n      <td>48</td>\n      <td>39</td>\n      <td>1</td>\n      <td>2</td>\n      <td>1</td>\n      <td>1</td>\n      <td>0</td>\n      <td>1</td>\n      <td>1</td>\n      <td>...</td>\n      <td>0</td>\n      <td>0</td>\n      <td>0</td>\n      <td>0</td>\n      <td>0</td>\n      <td>0</td>\n      <td>0</td>\n      <td>0</td>\n      <td>0</td>\n      <td>0</td>\n    </tr>\n    <tr>\n      <th>13639</th>\n      <td>161987</td>\n      <td>0</td>\n      <td>44</td>\n      <td>2</td>\n      <td>1</td>\n      <td>0</td>\n      <td>1</td>\n      <td>0</td>\n      <td>0</td>\n      <td>0</td>\n      <td>...</td>\n      <td>0</td>\n      <td>0</td>\n      <td>0</td>\n      <td>0</td>\n      <td>0</td>\n      <td>0</td>\n      <td>0</td>\n      <td>0</td>\n      <td>0</td>\n      <td>0</td>\n    </tr>\n  </tbody>\n</table>\n<p>6412 rows × 107 columns</p>\n</div>"
     },
     "execution_count": 395,
     "metadata": {},
     "output_type": "execute_result"
    }
   ],
   "source": [
    "complete_df = pd.concat([districtless_df, district_dummies], axis=1)\n",
    "complete_df"
   ],
   "metadata": {
    "collapsed": false,
    "pycharm": {
     "name": "#%%\n"
    }
   }
  },
  {
   "cell_type": "code",
   "execution_count": 396,
   "outputs": [],
   "source": [
    "x = complete_df.drop(columns=[\"Price\", \"Condo\"])\n",
    "y = complete_df[\"Price\"]\n",
    "\n",
    "x_train, x_test, y_train, y_test = train_test_split(x, y, test_size=0.2, random_state=22)"
   ],
   "metadata": {
    "collapsed": false,
    "pycharm": {
     "name": "#%%\n"
    }
   }
  },
  {
   "cell_type": "code",
   "execution_count": 397,
   "outputs": [
    {
     "name": "stdout",
     "output_type": "stream",
     "text": [
      "5129\n",
      "1283\n"
     ]
    }
   ],
   "source": [
    "print(len(x_train))\n",
    "print(len(x_test))"
   ],
   "metadata": {
    "collapsed": false,
    "pycharm": {
     "name": "#%%\n"
    }
   }
  },
  {
   "cell_type": "code",
   "execution_count": null,
   "outputs": [],
   "source": [
    "minmax = MinMaxScaler()\n",
    "\n",
    "x_train_minmax = minmax.fit_transform(x_train)\n",
    "x_test_minmax = minmax.transform(x_test)"
   ],
   "metadata": {
    "pycharm": {
     "name": "#%%\n",
     "is_executing": true
    },
    "colab": {
     "base_uri": "https://localhost:8080/"
    },
    "id": "T8RC3iUq_WZp",
    "outputId": "cfc6b7f7-488e-4cbd-95f1-0c6962d727eb"
   }
  },
  {
   "cell_type": "code",
   "execution_count": null,
   "outputs": [],
   "source": [
    "scaler = StandardScaler()\n",
    "\n",
    "x_train_scaled = scaler.fit_transform(x_train)\n",
    "x_test_scaled = scaler.transform(x_test)"
   ],
   "metadata": {
    "pycharm": {
     "name": "#%%\n",
     "is_executing": true
    },
    "colab": {
     "base_uri": "https://localhost:8080/"
    },
    "id": "znwHTvrl_WZq",
    "outputId": "0d8e03d6-c901-4e4e-836d-9660b1c4f4d0"
   }
  },
  {
   "cell_type": "code",
   "execution_count": 400,
   "outputs": [],
   "source": [
    "def metrics_printer(y_test, y_pred):\n",
    "    r2 = metrics.r2_score(y_test, y_pred)\n",
    "    print(\"R2: \", round(r2, 4))"
   ],
   "metadata": {
    "pycharm": {
     "name": "#%%\n"
    },
    "id": "qQOeMYXG_WZq"
   }
  },
  {
   "cell_type": "code",
   "execution_count": 401,
   "outputs": [],
   "source": [
    "def build_knn(x_train, x_test, y_train, y_test, k=0):\n",
    "    if k == 0:\n",
    "        k = int((len(y_train) + len(y_test)) ** 0.5)\n",
    "\n",
    "    knn = KNeighborsRegressor(n_neighbors=k)\n",
    "\n",
    "    knn.fit(x_train, y_train)\n",
    "\n",
    "    y_pred = knn.predict(x_test)\n",
    "\n",
    "    print(\"k:\", k)\n",
    "    metrics_printer(y_test, y_pred)\n",
    "\n",
    "    return knn"
   ],
   "metadata": {
    "pycharm": {
     "name": "#%%\n"
    },
    "id": "lGgYtqZg_WZr"
   }
  },
  {
   "cell_type": "code",
   "execution_count": 402,
   "outputs": [
    {
     "name": "stdout",
     "output_type": "stream",
     "text": [
      "k: 80\n",
      "R2:  0.5404\n",
      "\n",
      "k: 1\n",
      "R2:  0.784\n",
      "\n",
      "k: 2\n",
      "R2:  0.8192\n",
      "\n",
      "k: 3\n",
      "R2:  0.8159\n",
      "\n",
      "k: 4\n",
      "R2:  0.826\n",
      "\n",
      "k: 5\n",
      "R2:  0.8254\n",
      "\n",
      "k: 6\n",
      "R2:  0.8127\n",
      "\n",
      "k: 7\n",
      "R2:  0.8023\n",
      "\n",
      "k: 8\n",
      "R2:  0.7989\n",
      "\n",
      "k: 9\n",
      "R2:  0.795\n",
      "\n",
      "k: 10\n",
      "R2:  0.7854\n",
      "\n",
      "k: 11\n",
      "R2:  0.7809\n",
      "\n",
      "k: 12\n",
      "R2:  0.7713\n",
      "\n",
      "k: 13\n",
      "R2:  0.7639\n",
      "\n",
      "k: 14\n",
      "R2:  0.7534\n",
      "\n",
      "k: 15\n",
      "R2:  0.7411\n",
      "\n",
      "k: 16\n",
      "R2:  0.726\n",
      "\n",
      "k: 17\n",
      "R2:  0.7241\n",
      "\n",
      "k: 18\n",
      "R2:  0.7197\n",
      "\n",
      "k: 19\n",
      "R2:  0.7126\n",
      "\n"
     ]
    }
   ],
   "source": [
    "for i in range(0, 20, 1):\n",
    "    build_knn(x_train_scaled, x_test_scaled, y_train, y_test, k=i)\n",
    "    print()"
   ],
   "metadata": {
    "pycharm": {
     "name": "#%%\n"
    },
    "colab": {
     "base_uri": "https://localhost:8080/"
    },
    "id": "d_y1q5pu_WZs",
    "outputId": "1a39e2df-ec7f-489f-f909-f8cdeed3c868"
   }
  },
  {
   "cell_type": "code",
   "execution_count": 403,
   "outputs": [],
   "source": [
    "def build_forest(x_train, x_test, y_train, y_test, trees):\n",
    "    floresta = RandomForestRegressor(n_estimators=trees, random_state=22)\n",
    "    floresta.fit(x_train, y_train)\n",
    "\n",
    "    y_pred = floresta.predict(x_test)\n",
    "\n",
    "    print(f\"Trees: {trees}\")\n",
    "    metrics_printer(y_test, y_pred)\n",
    "\n",
    "    return floresta"
   ],
   "metadata": {
    "pycharm": {
     "name": "#%%\n"
    },
    "id": "kqX5mBu2_WZs"
   }
  },
  {
   "cell_type": "code",
   "execution_count": 404,
   "outputs": [
    {
     "name": "stdout",
     "output_type": "stream",
     "text": [
      "Trees: 1\n",
      "R2:  0.7797\n",
      "\n",
      "Trees: 3\n",
      "R2:  0.8511\n",
      "\n",
      "Trees: 5\n",
      "R2:  0.8762\n",
      "\n",
      "Trees: 7\n",
      "R2:  0.8854\n",
      "\n",
      "Trees: 9\n",
      "R2:  0.8896\n",
      "\n",
      "Trees: 11\n",
      "R2:  0.8897\n",
      "\n",
      "Trees: 13\n",
      "R2:  0.8886\n",
      "\n",
      "Trees: 15\n",
      "R2:  0.8914\n",
      "\n",
      "Trees: 17\n",
      "R2:  0.8916\n",
      "\n",
      "Trees: 19\n",
      "R2:  0.8932\n",
      "\n",
      "Trees: 21\n",
      "R2:  0.8941\n",
      "\n",
      "Trees: 23\n",
      "R2:  0.8941\n",
      "\n",
      "Trees: 25\n",
      "R2:  0.8961\n",
      "\n",
      "Trees: 27\n",
      "R2:  0.8937\n",
      "\n",
      "Trees: 29\n",
      "R2:  0.893\n",
      "\n"
     ]
    }
   ],
   "source": [
    "for i in range(1, 30, 2):\n",
    "    build_forest(x_train_scaled, x_test_scaled, y_train, y_test, trees=i)\n",
    "    print()"
   ],
   "metadata": {
    "pycharm": {
     "name": "#%%\n"
    },
    "colab": {
     "base_uri": "https://localhost:8080/"
    },
    "id": "O9bUXDim_WZt",
    "outputId": "84627c77-219e-4b23-a028-33c317dd31b0"
   }
  },
  {
   "cell_type": "code",
   "execution_count": 405,
   "outputs": [],
   "source": [
    "def build_mlp(x_train, x_test, y_train, y_test, layers, iterations=200, solver=\"lbfgs\"):\n",
    "    mlp = MLPRegressor(hidden_layer_sizes=layers, max_iter=iterations, solver=solver, random_state=2)\n",
    "    mlp.fit(x_train, y_train)\n",
    "\n",
    "    y_pred = mlp.predict(x_test)\n",
    "\n",
    "    print(f\"Hidden layers: {layers}, Iterations: {iterations}\")\n",
    "    metrics_printer(y_test, y_pred)\n",
    "\n",
    "    return mlp"
   ],
   "metadata": {
    "pycharm": {
     "name": "#%%\n"
    },
    "id": "uEPptjy5_WZt"
   }
  },
  {
   "cell_type": "code",
   "execution_count": 406,
   "outputs": [
    {
     "name": "stderr",
     "output_type": "stream",
     "text": [
      "/usr/local/lib/python3.9/site-packages/sklearn/neural_network/_multilayer_perceptron.py:549: ConvergenceWarning: lbfgs failed to converge (status=1):\n",
      "STOP: TOTAL NO. of ITERATIONS REACHED LIMIT.\n",
      "\n",
      "Increase the number of iterations (max_iter) or scale the data as shown in:\n",
      "    https://scikit-learn.org/stable/modules/preprocessing.html\n",
      "  self.n_iter_ = _check_optimize_result(\"lbfgs\", opt_res, self.max_iter)\n"
     ]
    },
    {
     "name": "stdout",
     "output_type": "stream",
     "text": [
      "Hidden layers: (4,), Iterations: 1000\n",
      "R2:  0.872\n",
      "\n",
      "Hidden layers: (4, 2), Iterations: 1000\n",
      "R2:  0.8686\n"
     ]
    },
    {
     "data": {
      "text/plain": "MLPRegressor(hidden_layer_sizes=(4, 2), max_iter=1000, random_state=2,\n             solver='lbfgs')"
     },
     "execution_count": 406,
     "metadata": {},
     "output_type": "execute_result"
    }
   ],
   "source": [
    "build_mlp(x_train_scaled, x_test_scaled, y_train, y_test, (4,), 1000)\n",
    "print()\n",
    "build_mlp(x_train_scaled, x_test_scaled, y_train, y_test, (4, 2), 1000)"
   ],
   "metadata": {
    "pycharm": {
     "name": "#%%\n"
    },
    "colab": {
     "base_uri": "https://localhost:8080/"
    },
    "id": "lfUoHxVa_WZu",
    "outputId": "a6c048ad-2d07-405e-d80f-a4532f209d61"
   }
  },
  {
   "cell_type": "code",
   "source": [
    "def build_xgboost(x_train, x_test, y_train, y_test, estimators, depth):\n",
    "    xgb = XGBRegressor(n_estimators=estimators,\n",
    "                       max_depth=depth,\n",
    "                       booster='gbtree',\n",
    "                       learning_rate=0.01,\n",
    "                       verbosity=0,\n",
    "                       silent=True)\n",
    "    xgb.fit(x_train, y_train, eval_set=[(x_train, y_train)])\n",
    "\n",
    "    y_pred = xgb.predict(x_test)\n",
    "\n",
    "    metrics_printer(y_test, y_pred)\n",
    "\n",
    "    return model"
   ],
   "metadata": {
    "id": "Oc12WqIIFPHj",
    "pycharm": {
     "name": "#%%\n"
    }
   },
   "execution_count": 407,
   "outputs": []
  },
  {
   "cell_type": "code",
   "source": [
    "build_xgboost(x_train_scaled, x_test_scaled, y_train, y_test, 300, 200)\n",
    "# R2:  0.8673"
   ],
   "metadata": {
    "colab": {
     "base_uri": "https://localhost:8080/"
    },
    "id": "QtzvlwudHXS7",
    "outputId": "09ea5f9e-d6ff-4664-bc6f-0b4462a9eebb",
    "pycharm": {
     "name": "#%%\n",
     "is_executing": true
    }
   },
   "execution_count": null,
   "outputs": []
  },
  {
   "cell_type": "code",
   "source": [
    "build_xgboost(x_train_scaled, x_test_scaled, y_train, y_test, 500, 300)\n",
    "# R2:  0.8708"
   ],
   "metadata": {
    "colab": {
     "base_uri": "https://localhost:8080/"
    },
    "id": "xQcmLUPHJpn8",
    "outputId": "0655d656-5f5b-4368-8d21-2af434bb42bc",
    "pycharm": {
     "name": "#%%\n",
     "is_executing": true
    }
   },
   "execution_count": null,
   "outputs": []
  },
  {
   "cell_type": "code",
   "execution_count": null,
   "outputs": [],
   "source": [
    "build_xgboost(x_train, x_test, y_train, y_test, 500, 300)\n",
    "# R2:  0.8708"
   ],
   "metadata": {
    "collapsed": false,
    "pycharm": {
     "name": "#%%\n",
     "is_executing": true
    }
   }
  },
  {
   "cell_type": "markdown",
   "source": [
    "## Melhor modelo foi a Floresta"
   ],
   "metadata": {
    "collapsed": false,
    "pycharm": {
     "name": "#%% md\n"
    }
   }
  },
  {
   "cell_type": "code",
   "execution_count": 408,
   "outputs": [
    {
     "name": "stdout",
     "output_type": "stream",
     "text": [
      "Trees: 25\n",
      "R2:  0.8961\n"
     ]
    }
   ],
   "source": [
    "model = build_forest(x_train_scaled, x_test_scaled, y_train, y_test, 25)"
   ],
   "metadata": {
    "collapsed": false,
    "pycharm": {
     "name": "#%%\n"
    }
   }
  },
  {
   "cell_type": "code",
   "execution_count": 409,
   "outputs": [],
   "source": [
    "empty_df = pd.DataFrame([[0] * complete_df.columns.size], columns=complete_df.columns)\n",
    "empty_df.to_csv(\"empty_df\")"
   ],
   "metadata": {
    "collapsed": false,
    "pycharm": {
     "name": "#%%\n"
    }
   }
  },
  {
   "cell_type": "code",
   "execution_count": 410,
   "outputs": [
    {
     "data": {
      "text/plain": "     Price    Condo  Size  Rooms  Toilets  Suites  Parking  Elevator  \\\n0   329000  500.000    48      2        1       0        1         1   \n1   890000    1.251   114      1        2       1        1         1   \n2  1780000    2.000   200      3        4       4        3         1   \n3   279900    0.000    50      2        2       0        0         1   \n4   610900    0.000    64      2        2       0        0         1   \n5   580000  540.000    36      1        1       1        1         1   \n6   420000  355.000    73      1        1       0        1         1   \n7   180000  350.000    34      1        1       0        0         1   \n\n   Furnished  Swimming Pool  ...  Vila Jacuí  Vila Leopoldina  Vila Madalena  \\\n0          1              1  ...           0                0              0   \n1          1              0  ...           0                0              0   \n2          1              1  ...           0                0              0   \n3          0              0  ...           0                0              0   \n4          0              1  ...           0                0              0   \n5          0              1  ...           0                0              0   \n6          0              0  ...           0                0              0   \n7          0              0  ...           0                0              0   \n\n   Vila Maria  Vila Mariana  Vila Matilde  Vila Olimpia  Vila Prudente  \\\n0           0             0             0             0              0   \n1           0             0             0             0              0   \n2           0             0             0             0              0   \n3           0             0             0             0              0   \n4           0             0             0             0              0   \n5           0             0             0             0              0   \n6           0             0             0             0              0   \n7           0             0             0             0              0   \n\n   Vila Sônia  Água Rasa  \n0           0          0  \n1           0          0  \n2           0          0  \n3           0          0  \n4           0          0  \n5           0          0  \n6           0          0  \n7           0          0  \n\n[8 rows x 107 columns]",
      "text/html": "<div>\n<style scoped>\n    .dataframe tbody tr th:only-of-type {\n        vertical-align: middle;\n    }\n\n    .dataframe tbody tr th {\n        vertical-align: top;\n    }\n\n    .dataframe thead th {\n        text-align: right;\n    }\n</style>\n<table border=\"1\" class=\"dataframe\">\n  <thead>\n    <tr style=\"text-align: right;\">\n      <th></th>\n      <th>Price</th>\n      <th>Condo</th>\n      <th>Size</th>\n      <th>Rooms</th>\n      <th>Toilets</th>\n      <th>Suites</th>\n      <th>Parking</th>\n      <th>Elevator</th>\n      <th>Furnished</th>\n      <th>Swimming Pool</th>\n      <th>...</th>\n      <th>Vila Jacuí</th>\n      <th>Vila Leopoldina</th>\n      <th>Vila Madalena</th>\n      <th>Vila Maria</th>\n      <th>Vila Mariana</th>\n      <th>Vila Matilde</th>\n      <th>Vila Olimpia</th>\n      <th>Vila Prudente</th>\n      <th>Vila Sônia</th>\n      <th>Água Rasa</th>\n    </tr>\n  </thead>\n  <tbody>\n    <tr>\n      <th>0</th>\n      <td>329000</td>\n      <td>500.000</td>\n      <td>48</td>\n      <td>2</td>\n      <td>1</td>\n      <td>0</td>\n      <td>1</td>\n      <td>1</td>\n      <td>1</td>\n      <td>1</td>\n      <td>...</td>\n      <td>0</td>\n      <td>0</td>\n      <td>0</td>\n      <td>0</td>\n      <td>0</td>\n      <td>0</td>\n      <td>0</td>\n      <td>0</td>\n      <td>0</td>\n      <td>0</td>\n    </tr>\n    <tr>\n      <th>1</th>\n      <td>890000</td>\n      <td>1.251</td>\n      <td>114</td>\n      <td>1</td>\n      <td>2</td>\n      <td>1</td>\n      <td>1</td>\n      <td>1</td>\n      <td>1</td>\n      <td>0</td>\n      <td>...</td>\n      <td>0</td>\n      <td>0</td>\n      <td>0</td>\n      <td>0</td>\n      <td>0</td>\n      <td>0</td>\n      <td>0</td>\n      <td>0</td>\n      <td>0</td>\n      <td>0</td>\n    </tr>\n    <tr>\n      <th>2</th>\n      <td>1780000</td>\n      <td>2.000</td>\n      <td>200</td>\n      <td>3</td>\n      <td>4</td>\n      <td>4</td>\n      <td>3</td>\n      <td>1</td>\n      <td>1</td>\n      <td>1</td>\n      <td>...</td>\n      <td>0</td>\n      <td>0</td>\n      <td>0</td>\n      <td>0</td>\n      <td>0</td>\n      <td>0</td>\n      <td>0</td>\n      <td>0</td>\n      <td>0</td>\n      <td>0</td>\n    </tr>\n    <tr>\n      <th>3</th>\n      <td>279900</td>\n      <td>0.000</td>\n      <td>50</td>\n      <td>2</td>\n      <td>2</td>\n      <td>0</td>\n      <td>0</td>\n      <td>1</td>\n      <td>0</td>\n      <td>0</td>\n      <td>...</td>\n      <td>0</td>\n      <td>0</td>\n      <td>0</td>\n      <td>0</td>\n      <td>0</td>\n      <td>0</td>\n      <td>0</td>\n      <td>0</td>\n      <td>0</td>\n      <td>0</td>\n    </tr>\n    <tr>\n      <th>4</th>\n      <td>610900</td>\n      <td>0.000</td>\n      <td>64</td>\n      <td>2</td>\n      <td>2</td>\n      <td>0</td>\n      <td>0</td>\n      <td>1</td>\n      <td>0</td>\n      <td>1</td>\n      <td>...</td>\n      <td>0</td>\n      <td>0</td>\n      <td>0</td>\n      <td>0</td>\n      <td>0</td>\n      <td>0</td>\n      <td>0</td>\n      <td>0</td>\n      <td>0</td>\n      <td>0</td>\n    </tr>\n    <tr>\n      <th>5</th>\n      <td>580000</td>\n      <td>540.000</td>\n      <td>36</td>\n      <td>1</td>\n      <td>1</td>\n      <td>1</td>\n      <td>1</td>\n      <td>1</td>\n      <td>0</td>\n      <td>1</td>\n      <td>...</td>\n      <td>0</td>\n      <td>0</td>\n      <td>0</td>\n      <td>0</td>\n      <td>0</td>\n      <td>0</td>\n      <td>0</td>\n      <td>0</td>\n      <td>0</td>\n      <td>0</td>\n    </tr>\n    <tr>\n      <th>6</th>\n      <td>420000</td>\n      <td>355.000</td>\n      <td>73</td>\n      <td>1</td>\n      <td>1</td>\n      <td>0</td>\n      <td>1</td>\n      <td>1</td>\n      <td>0</td>\n      <td>0</td>\n      <td>...</td>\n      <td>0</td>\n      <td>0</td>\n      <td>0</td>\n      <td>0</td>\n      <td>0</td>\n      <td>0</td>\n      <td>0</td>\n      <td>0</td>\n      <td>0</td>\n      <td>0</td>\n    </tr>\n    <tr>\n      <th>7</th>\n      <td>180000</td>\n      <td>350.000</td>\n      <td>34</td>\n      <td>1</td>\n      <td>1</td>\n      <td>0</td>\n      <td>0</td>\n      <td>1</td>\n      <td>0</td>\n      <td>0</td>\n      <td>...</td>\n      <td>0</td>\n      <td>0</td>\n      <td>0</td>\n      <td>0</td>\n      <td>0</td>\n      <td>0</td>\n      <td>0</td>\n      <td>0</td>\n      <td>0</td>\n      <td>0</td>\n    </tr>\n  </tbody>\n</table>\n<p>8 rows × 107 columns</p>\n</div>"
     },
     "execution_count": 410,
     "metadata": {},
     "output_type": "execute_result"
    }
   ],
   "source": [
    "# Dados reais\n",
    "website_df = pd.read_csv(\"website_aparmets_data_set.csv\")\n",
    "website_df"
   ],
   "metadata": {
    "collapsed": false,
    "pycharm": {
     "name": "#%%\n"
    }
   }
  },
  {
   "cell_type": "code",
   "execution_count": 411,
   "outputs": [
    {
     "data": {
      "text/plain": "0     329000\n1     890000\n2    1780000\n3     279900\n4     610900\n5     580000\n6     420000\n7     180000\nName: Price, dtype: int64"
     },
     "execution_count": 411,
     "metadata": {},
     "output_type": "execute_result"
    }
   ],
   "source": [
    "x2 = website_df.drop([\"Price\", \"Condo\"], axis=1)\n",
    "y2 = website_df[\"Price\"]\n",
    "\n",
    "y2"
   ],
   "metadata": {
    "collapsed": false,
    "pycharm": {
     "name": "#%%\n"
    }
   }
  },
  {
   "cell_type": "code",
   "execution_count": 412,
   "outputs": [
    {
     "data": {
      "text/plain": "array([[-0.602865  , -0.45117872, -1.13983626, -1.21176668, -0.43113758,\n         1.19279842,  2.781663  ,  0.9195803 , -0.18402212, -0.12181843,\n        -0.07408859, -0.11151613, -0.11504727, -0.14101301, -0.14666172,\n        -0.13514748, -0.14941251, -0.07797959, -0.14244449, -0.14315528,\n        -0.07137956, -0.07137956, -0.11591411, -0.08865715, -0.10411328,\n        -0.10694665, -0.11240879, -0.08289046, -0.11240879, -0.15609576,\n        -0.11240879, -0.09616822, -0.11329476, -0.0919488 , -0.13288615,\n        -0.09408134, -0.11240879, -0.06563393, -0.07797959, -0.10879639,\n        -0.05593995, -0.09719547, -0.10879639, -0.08047153, -0.11329476,\n        -0.10601024, -0.07797959, -0.06256725, -0.08047153, -0.10411328,\n        -0.07923511, -0.07408859, -0.13589348, -0.08289046, -0.08289046,\n        -0.07408859, -0.13737421, -0.06711561, -0.13364388, -0.08753332,\n        -0.14526846, -0.13439763, -0.07274642, -0.09821237, -0.11151613,\n        -0.07540739, -0.09821237, -0.12507424, -0.06998656, -0.12345642,\n        -0.07137956, -0.0919488 , -0.07274642, -0.13589348, -0.06711561,\n        -0.07540739, -0.1366357 , -0.1012041 , -0.1012041 , -0.10315229,\n        -0.0852426 , -0.06411863, -0.07274642, -0.11151613, -0.11762962,\n        -0.07408859, -0.07670402, -0.11061662, -0.1078753 , -0.08865715,\n        -0.09821237, -0.08289046, -0.11762962, -0.11762962, -0.10879639,\n        -0.08639533, -0.07408859, -0.08168971, -0.11504727, -0.08407452,\n        -0.09616822, -0.07670402, -0.12015944, -0.07137956, -0.10506585],\n       [ 0.71308962, -1.85196303, -0.0386458 ,  0.09393738, -0.43113758,\n         1.19279842,  2.781663  , -1.08745262, -0.18402212, -0.12181843,\n        -0.07408859, -0.11151613, -0.11504727, -0.14101301, -0.14666172,\n        -0.13514748, -0.14941251, -0.07797959, -0.14244449, -0.14315528,\n        -0.07137956, -0.07137956, -0.11591411, -0.08865715, -0.10411328,\n        -0.10694665, -0.11240879, -0.08289046, -0.11240879, -0.15609576,\n        -0.11240879, -0.09616822, -0.11329476, -0.0919488 , -0.13288615,\n        -0.09408134, -0.11240879, -0.06563393, -0.07797959, -0.10879639,\n        -0.05593995, -0.09719547, -0.10879639, -0.08047153, -0.11329476,\n        -0.10601024, -0.07797959, -0.06256725, -0.08047153, -0.10411328,\n        -0.07923511, -0.07408859, -0.13589348, -0.08289046, -0.08289046,\n        -0.07408859, -0.13737421, -0.06711561, -0.13364388, -0.08753332,\n        -0.14526846, -0.13439763, -0.07274642, -0.09821237, -0.11151613,\n        -0.07540739, -0.09821237, -0.12507424, -0.06998656, -0.12345642,\n        -0.07137956, -0.0919488 , -0.07274642, -0.13589348, -0.06711561,\n        -0.07540739,  7.31873143, -0.1012041 , -0.1012041 , -0.10315229,\n        -0.0852426 , -0.06411863, -0.07274642, -0.11151613, -0.11762962,\n        -0.07408859, -0.07670402, -0.11061662, -0.1078753 , -0.08865715,\n        -0.09821237, -0.08289046, -0.11762962, -0.11762962, -0.10879639,\n        -0.08639533, -0.07408859, -0.08168971, -0.11504727, -0.08407452,\n        -0.09616822, -0.07670402, -0.12015944, -0.07137956, -0.10506585],\n       [ 2.42781837,  0.94960558,  2.16373513,  4.01104955,  2.24113392,\n         1.19279842,  2.781663  ,  0.9195803 , -0.18402212, -0.12181843,\n        -0.07408859, -0.11151613, -0.11504727, -0.14101301, -0.14666172,\n        -0.13514748, -0.14941251, -0.07797959, -0.14244449, -0.14315528,\n        -0.07137956, -0.07137956, -0.11591411, -0.08865715, -0.10411328,\n        -0.10694665, -0.11240879, -0.08289046, -0.11240879, -0.15609576,\n        -0.11240879, -0.09616822, -0.11329476, -0.0919488 , -0.13288615,\n        -0.09408134, -0.11240879, -0.06563393, -0.07797959, -0.10879639,\n        -0.05593995, -0.09719547, -0.10879639, -0.08047153, -0.11329476,\n        -0.10601024, -0.07797959, -0.06256725, -0.08047153, -0.10411328,\n        -0.07923511, -0.07408859, -0.13589348, -0.08289046, -0.08289046,\n        -0.07408859, -0.13737421, -0.06711561, -0.13364388, -0.08753332,\n        -0.14526846, -0.13439763, -0.07274642, -0.09821237, -0.11151613,\n        -0.07540739, -0.09821237, -0.12507424, -0.06998656, -0.12345642,\n        -0.07137956, -0.0919488 , -0.07274642, -0.13589348, -0.06711561,\n        -0.07540739, -0.1366357 , -0.1012041 , -0.1012041 , -0.10315229,\n        -0.0852426 , -0.06411863, -0.07274642, -0.11151613, -0.11762962,\n        -0.07408859, -0.07670402, -0.11061662, -0.1078753 , -0.08865715,\n        -0.09821237, 12.06411444, -0.11762962, -0.11762962, -0.10879639,\n        -0.08639533, -0.07408859, -0.08168971, -0.11504727, -0.08407452,\n        -0.09616822, -0.07670402, -0.12015944, -0.07137956, -0.10506585],\n       [-0.56298759, -0.45117872, -0.0386458 , -1.21176668, -1.76727334,\n         1.19279842, -0.35949718, -1.08745262,  5.43412936, -0.12181843,\n        -0.07408859, -0.11151613, -0.11504727, -0.14101301, -0.14666172,\n        -0.13514748, -0.14941251, -0.07797959, -0.14244449, -0.14315528,\n        -0.07137956, -0.07137956, -0.11591411, -0.08865715, -0.10411328,\n        -0.10694665, -0.11240879, -0.08289046, -0.11240879, -0.15609576,\n        -0.11240879, -0.09616822, -0.11329476, -0.0919488 , -0.13288615,\n        -0.09408134, -0.11240879, -0.06563393, -0.07797959, -0.10879639,\n        -0.05593995, -0.09719547, -0.10879639, -0.08047153, -0.11329476,\n        -0.10601024, -0.07797959, -0.06256725, -0.08047153, -0.10411328,\n        -0.07923511, -0.07408859, -0.13589348, -0.08289046, -0.08289046,\n        -0.07408859, -0.13737421, -0.06711561, -0.13364388, -0.08753332,\n        -0.14526846, -0.13439763, -0.07274642, -0.09821237, -0.11151613,\n        -0.07540739, -0.09821237, -0.12507424, -0.06998656, -0.12345642,\n        -0.07137956, -0.0919488 , -0.07274642, -0.13589348, -0.06711561,\n        -0.07540739, -0.1366357 , -0.1012041 , -0.1012041 , -0.10315229,\n        -0.0852426 , -0.06411863, -0.07274642, -0.11151613, -0.11762962,\n        -0.07408859, -0.07670402, -0.11061662, -0.1078753 , -0.08865715,\n        -0.09821237, -0.08289046, -0.11762962, -0.11762962, -0.10879639,\n        -0.08639533, -0.07408859, -0.08168971, -0.11504727, -0.08407452,\n        -0.09616822, -0.07670402, -0.12015944, -0.07137956, -0.10506585],\n       [-0.2838457 , -0.45117872, -0.0386458 , -1.21176668, -1.76727334,\n         1.19279842, -0.35949718,  0.9195803 ,  5.43412936, -0.12181843,\n        -0.07408859, -0.11151613, -0.11504727, -0.14101301, -0.14666172,\n        -0.13514748, -0.14941251, -0.07797959, -0.14244449, -0.14315528,\n        -0.07137956, -0.07137956, -0.11591411, -0.08865715, -0.10411328,\n        -0.10694665, -0.11240879, -0.08289046, -0.11240879, -0.15609576,\n        -0.11240879, -0.09616822, -0.11329476, -0.0919488 , -0.13288615,\n        -0.09408134, -0.11240879, -0.06563393, -0.07797959, -0.10879639,\n        -0.05593995, -0.09719547, -0.10879639, -0.08047153, -0.11329476,\n        -0.10601024, -0.07797959, -0.06256725, -0.08047153, -0.10411328,\n        -0.07923511, -0.07408859, -0.13589348, -0.08289046, -0.08289046,\n        -0.07408859, -0.13737421, -0.06711561, -0.13364388, -0.08753332,\n        -0.14526846, -0.13439763, -0.07274642, -0.09821237, -0.11151613,\n        -0.07540739, -0.09821237, -0.12507424, -0.06998656, -0.12345642,\n        -0.07137956, -0.0919488 , -0.07274642, -0.13589348, -0.06711561,\n        -0.07540739, -0.1366357 , -0.1012041 , -0.1012041 , -0.10315229,\n        -0.0852426 , -0.06411863, -0.07274642, -0.11151613, -0.11762962,\n        -0.07408859, -0.07670402, -0.11061662, -0.1078753 , -0.08865715,\n        -0.09821237, -0.08289046, -0.11762962, -0.11762962, -0.10879639,\n        -0.08639533, -0.07408859, -0.08168971, -0.11504727, -0.08407452,\n        -0.09616822, -0.07670402, -0.12015944, -0.07137956, -0.10506585],\n       [-0.84212948, -1.85196303, -1.13983626,  0.09393738, -0.43113758,\n         1.19279842, -0.35949718,  0.9195803 , -0.18402212, -0.12181843,\n        -0.07408859, -0.11151613, -0.11504727, -0.14101301, -0.14666172,\n        -0.13514748, -0.14941251, -0.07797959, -0.14244449, -0.14315528,\n        -0.07137956, -0.07137956, -0.11591411, -0.08865715, -0.10411328,\n        -0.10694665, -0.11240879, -0.08289046, -0.11240879, -0.15609576,\n        -0.11240879, -0.09616822, -0.11329476, -0.0919488 , -0.13288615,\n        -0.09408134, -0.11240879, -0.06563393, -0.07797959, -0.10879639,\n        -0.05593995, -0.09719547, -0.10879639, -0.08047153, -0.11329476,\n        -0.10601024, -0.07797959, -0.06256725, -0.08047153, -0.10411328,\n        -0.07923511, -0.07408859, -0.13589348, -0.08289046, -0.08289046,\n        -0.07408859, -0.13737421, -0.06711561, -0.13364388, -0.08753332,\n        -0.14526846, -0.13439763, -0.07274642, -0.09821237, -0.11151613,\n        -0.07540739, -0.09821237, -0.12507424, -0.06998656, -0.12345642,\n        -0.07137956, -0.0919488 , -0.07274642, -0.13589348, -0.06711561,\n        -0.07540739,  7.31873143, -0.1012041 , -0.1012041 , -0.10315229,\n        -0.0852426 , -0.06411863, -0.07274642, -0.11151613, -0.11762962,\n        -0.07408859, -0.07670402, -0.11061662, -0.1078753 , -0.08865715,\n        -0.09821237, -0.08289046, -0.11762962, -0.11762962, -0.10879639,\n        -0.08639533, -0.07408859, -0.08168971, -0.11504727, -0.08407452,\n        -0.09616822, -0.07670402, -0.12015944, -0.07137956, -0.10506585],\n       [-0.10439734, -1.85196303, -1.13983626, -1.21176668, -0.43113758,\n         1.19279842, -0.35949718, -1.08745262, -0.18402212, -0.12181843,\n        -0.07408859, -0.11151613, -0.11504727, -0.14101301, -0.14666172,\n        -0.13514748, -0.14941251, -0.07797959, -0.14244449, -0.14315528,\n        -0.07137956, -0.07137956, -0.11591411, -0.08865715, -0.10411328,\n        -0.10694665, -0.11240879, -0.08289046, -0.11240879, -0.15609576,\n        -0.11240879, -0.09616822, -0.11329476, -0.0919488 , -0.13288615,\n        -0.09408134, -0.11240879, -0.06563393, -0.07797959, -0.10879639,\n        -0.05593995, -0.09719547, -0.10879639, -0.08047153, -0.11329476,\n        -0.10601024, -0.07797959, -0.06256725, -0.08047153, -0.10411328,\n        -0.07923511, -0.07408859, -0.13589348, -0.08289046, -0.08289046,\n        -0.07408859, -0.13737421, -0.06711561, -0.13364388, -0.08753332,\n        -0.14526846, -0.13439763, -0.07274642, -0.09821237, -0.11151613,\n        -0.07540739, -0.09821237, -0.12507424, -0.06998656, -0.12345642,\n        -0.07137956, -0.0919488 , -0.07274642, -0.13589348, -0.06711561,\n        -0.07540739,  7.31873143, -0.1012041 , -0.1012041 , -0.10315229,\n        -0.0852426 , -0.06411863, -0.07274642, -0.11151613, -0.11762962,\n        -0.07408859, -0.07670402, -0.11061662, -0.1078753 , -0.08865715,\n        -0.09821237, -0.08289046, -0.11762962, -0.11762962, -0.10879639,\n        -0.08639533, -0.07408859, -0.08168971, -0.11504727, -0.08407452,\n        -0.09616822, -0.07670402, -0.12015944, -0.07137956, -0.10506585],\n       [-0.88200689, -1.85196303, -1.13983626, -1.21176668, -1.76727334,\n         1.19279842, -0.35949718, -1.08745262, -0.18402212, -0.12181843,\n        -0.07408859, -0.11151613, -0.11504727, -0.14101301, -0.14666172,\n        -0.13514748, -0.14941251, -0.07797959, -0.14244449, -0.14315528,\n        -0.07137956, -0.07137956, -0.11591411, -0.08865715, -0.10411328,\n        -0.10694665, -0.11240879, -0.08289046, -0.11240879, -0.15609576,\n        -0.11240879, -0.09616822, -0.11329476, -0.0919488 , -0.13288615,\n        -0.09408134, -0.11240879, -0.06563393, -0.07797959, -0.10879639,\n        -0.05593995, -0.09719547, -0.10879639, -0.08047153, -0.11329476,\n        -0.10601024, -0.07797959, -0.06256725, -0.08047153, -0.10411328,\n        -0.07923511, -0.07408859, -0.13589348, -0.08289046, -0.08289046,\n        -0.07408859, -0.13737421, -0.06711561, -0.13364388, -0.08753332,\n        -0.14526846, -0.13439763, -0.07274642, -0.09821237, -0.11151613,\n        -0.07540739, -0.09821237, -0.12507424, -0.06998656, -0.12345642,\n        -0.07137956, -0.0919488 , -0.07274642, -0.13589348, -0.06711561,\n        -0.07540739,  7.31873143, -0.1012041 , -0.1012041 , -0.10315229,\n        -0.0852426 , -0.06411863, -0.07274642, -0.11151613, -0.11762962,\n        -0.07408859, -0.07670402, -0.11061662, -0.1078753 , -0.08865715,\n        -0.09821237, -0.08289046, -0.11762962, -0.11762962, -0.10879639,\n        -0.08639533, -0.07408859, -0.08168971, -0.11504727, -0.08407452,\n        -0.09616822, -0.07670402, -0.12015944, -0.07137956, -0.10506585]])"
     },
     "execution_count": 412,
     "metadata": {},
     "output_type": "execute_result"
    }
   ],
   "source": [
    "x2_scaled = scaler.transform(x2)\n",
    "x2_scaled"
   ],
   "metadata": {
    "collapsed": false,
    "pycharm": {
     "name": "#%%\n"
    }
   }
  },
  {
   "cell_type": "code",
   "execution_count": 413,
   "outputs": [],
   "source": [
    "predicted = model.predict(x2_scaled)"
   ],
   "metadata": {
    "collapsed": false,
    "pycharm": {
     "name": "#%%\n"
    }
   }
  },
  {
   "cell_type": "code",
   "execution_count": 414,
   "outputs": [
    {
     "name": "stdout",
     "output_type": "stream",
     "text": [
      "R2:  0.8465\n"
     ]
    }
   ],
   "source": [
    "metrics_printer(y2, predicted)\n",
    "# R2:  0.8465"
   ],
   "metadata": {
    "collapsed": false,
    "pycharm": {
     "name": "#%%\n"
    }
   }
  },
  {
   "cell_type": "code",
   "execution_count": null,
   "outputs": [],
   "source": [],
   "metadata": {
    "collapsed": false,
    "pycharm": {
     "name": "#%%\n"
    }
   }
  }
 ],
 "metadata": {
  "kernelspec": {
   "display_name": "Python 3",
   "language": "python",
   "name": "python3"
  },
  "language_info": {
   "codemirror_mode": {
    "name": "ipython",
    "version": 2
   },
   "file_extension": ".py",
   "mimetype": "text/x-python",
   "name": "python",
   "nbconvert_exporter": "python",
   "pygments_lexer": "ipython2",
   "version": "2.7.6"
  },
  "colab": {
   "name": "apartment_rent_regression.ipynb",
   "provenance": [],
   "collapsed_sections": []
  }
 },
 "nbformat": 4,
 "nbformat_minor": 0
}