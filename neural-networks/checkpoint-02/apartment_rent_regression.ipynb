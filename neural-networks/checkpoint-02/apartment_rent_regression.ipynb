{
 "cells": [
  {
   "cell_type": "code",
   "execution_count": 209,
   "metadata": {
    "collapsed": true,
    "pycharm": {
     "name": "#%%\n"
    }
   },
   "outputs": [],
   "source": [
    "import pandas as pd\n",
    "from sklearn import metrics\n",
    "from sklearn.ensemble import RandomForestRegressor\n",
    "from sklearn.model_selection import train_test_split\n",
    "from sklearn.neighbors import KNeighborsRegressor\n",
    "from sklearn.neural_network import MLPRegressor\n",
    "from sklearn.preprocessing import MinMaxScaler\n",
    "from sklearn.preprocessing import StandardScaler"
   ]
  },
  {
   "cell_type": "code",
   "execution_count": 114,
   "outputs": [],
   "source": [
    "df = pd.read_csv('https://tinyurl.com/alugueis-sp-df')"
   ],
   "metadata": {
    "collapsed": false,
    "pycharm": {
     "name": "#%%\n"
    }
   }
  },
  {
   "cell_type": "code",
   "execution_count": 115,
   "outputs": [
    {
     "data": {
      "text/plain": "        Price  Condo  Size  Rooms  Toilets  Suites  Parking  Elevator  \\\n0         930    220    47      2        2       1        1         0   \n1        1000    148    45      2        2       1        1         0   \n2        1000    100    48      2        2       1        1         0   \n3        1000    200    48      2        2       1        1         0   \n4        1300    410    55      2        2       1        1         1   \n...       ...    ...   ...    ...      ...     ...      ...       ...   \n13635  265000    420    51      2        1       0        1         0   \n13636  545000    630    74      3        2       1        2         0   \n13637  515000   1100   114      3        3       1        1         0   \n13638  345000     48    39      1        2       1        1         0   \n13639  161987      0    44      2        1       0        1         0   \n\n       Furnished  Swimming Pool  New                 District  \\\n0              0              0    0    Artur Alvim/São Paulo   \n1              0              0    0    Artur Alvim/São Paulo   \n2              0              0    0    Artur Alvim/São Paulo   \n3              0              0    0    Artur Alvim/São Paulo   \n4              0              0    0    Artur Alvim/São Paulo   \n...          ...            ...  ...                      ...   \n13635          0              0    0      Jabaquara/São Paulo   \n13636          0              1    0      Jabaquara/São Paulo   \n13637          0              1    0      Jabaquara/São Paulo   \n13638          1              1    0      Jabaquara/São Paulo   \n13639          0              0    0  Jardim Ângela/São Paulo   \n\n      Negotiation Type Property Type   Latitude  Longitude  \n0                 rent     apartment -23.543138 -46.479486  \n1                 rent     apartment -23.550239 -46.480718  \n2                 rent     apartment -23.542818 -46.485665  \n3                 rent     apartment -23.547171 -46.483014  \n4                 rent     apartment -23.525025 -46.482436  \n...                ...           ...        ...        ...  \n13635             sale     apartment -23.653004 -46.635463  \n13636             sale     apartment -23.648930 -46.641982  \n13637             sale     apartment -23.649693 -46.649783  \n13638             sale     apartment -23.652060 -46.637046  \n13639             sale     apartment -23.613391 -46.523109  \n\n[13640 rows x 16 columns]",
      "text/html": "<div>\n<style scoped>\n    .dataframe tbody tr th:only-of-type {\n        vertical-align: middle;\n    }\n\n    .dataframe tbody tr th {\n        vertical-align: top;\n    }\n\n    .dataframe thead th {\n        text-align: right;\n    }\n</style>\n<table border=\"1\" class=\"dataframe\">\n  <thead>\n    <tr style=\"text-align: right;\">\n      <th></th>\n      <th>Price</th>\n      <th>Condo</th>\n      <th>Size</th>\n      <th>Rooms</th>\n      <th>Toilets</th>\n      <th>Suites</th>\n      <th>Parking</th>\n      <th>Elevator</th>\n      <th>Furnished</th>\n      <th>Swimming Pool</th>\n      <th>New</th>\n      <th>District</th>\n      <th>Negotiation Type</th>\n      <th>Property Type</th>\n      <th>Latitude</th>\n      <th>Longitude</th>\n    </tr>\n  </thead>\n  <tbody>\n    <tr>\n      <th>0</th>\n      <td>930</td>\n      <td>220</td>\n      <td>47</td>\n      <td>2</td>\n      <td>2</td>\n      <td>1</td>\n      <td>1</td>\n      <td>0</td>\n      <td>0</td>\n      <td>0</td>\n      <td>0</td>\n      <td>Artur Alvim/São Paulo</td>\n      <td>rent</td>\n      <td>apartment</td>\n      <td>-23.543138</td>\n      <td>-46.479486</td>\n    </tr>\n    <tr>\n      <th>1</th>\n      <td>1000</td>\n      <td>148</td>\n      <td>45</td>\n      <td>2</td>\n      <td>2</td>\n      <td>1</td>\n      <td>1</td>\n      <td>0</td>\n      <td>0</td>\n      <td>0</td>\n      <td>0</td>\n      <td>Artur Alvim/São Paulo</td>\n      <td>rent</td>\n      <td>apartment</td>\n      <td>-23.550239</td>\n      <td>-46.480718</td>\n    </tr>\n    <tr>\n      <th>2</th>\n      <td>1000</td>\n      <td>100</td>\n      <td>48</td>\n      <td>2</td>\n      <td>2</td>\n      <td>1</td>\n      <td>1</td>\n      <td>0</td>\n      <td>0</td>\n      <td>0</td>\n      <td>0</td>\n      <td>Artur Alvim/São Paulo</td>\n      <td>rent</td>\n      <td>apartment</td>\n      <td>-23.542818</td>\n      <td>-46.485665</td>\n    </tr>\n    <tr>\n      <th>3</th>\n      <td>1000</td>\n      <td>200</td>\n      <td>48</td>\n      <td>2</td>\n      <td>2</td>\n      <td>1</td>\n      <td>1</td>\n      <td>0</td>\n      <td>0</td>\n      <td>0</td>\n      <td>0</td>\n      <td>Artur Alvim/São Paulo</td>\n      <td>rent</td>\n      <td>apartment</td>\n      <td>-23.547171</td>\n      <td>-46.483014</td>\n    </tr>\n    <tr>\n      <th>4</th>\n      <td>1300</td>\n      <td>410</td>\n      <td>55</td>\n      <td>2</td>\n      <td>2</td>\n      <td>1</td>\n      <td>1</td>\n      <td>1</td>\n      <td>0</td>\n      <td>0</td>\n      <td>0</td>\n      <td>Artur Alvim/São Paulo</td>\n      <td>rent</td>\n      <td>apartment</td>\n      <td>-23.525025</td>\n      <td>-46.482436</td>\n    </tr>\n    <tr>\n      <th>...</th>\n      <td>...</td>\n      <td>...</td>\n      <td>...</td>\n      <td>...</td>\n      <td>...</td>\n      <td>...</td>\n      <td>...</td>\n      <td>...</td>\n      <td>...</td>\n      <td>...</td>\n      <td>...</td>\n      <td>...</td>\n      <td>...</td>\n      <td>...</td>\n      <td>...</td>\n      <td>...</td>\n    </tr>\n    <tr>\n      <th>13635</th>\n      <td>265000</td>\n      <td>420</td>\n      <td>51</td>\n      <td>2</td>\n      <td>1</td>\n      <td>0</td>\n      <td>1</td>\n      <td>0</td>\n      <td>0</td>\n      <td>0</td>\n      <td>0</td>\n      <td>Jabaquara/São Paulo</td>\n      <td>sale</td>\n      <td>apartment</td>\n      <td>-23.653004</td>\n      <td>-46.635463</td>\n    </tr>\n    <tr>\n      <th>13636</th>\n      <td>545000</td>\n      <td>630</td>\n      <td>74</td>\n      <td>3</td>\n      <td>2</td>\n      <td>1</td>\n      <td>2</td>\n      <td>0</td>\n      <td>0</td>\n      <td>1</td>\n      <td>0</td>\n      <td>Jabaquara/São Paulo</td>\n      <td>sale</td>\n      <td>apartment</td>\n      <td>-23.648930</td>\n      <td>-46.641982</td>\n    </tr>\n    <tr>\n      <th>13637</th>\n      <td>515000</td>\n      <td>1100</td>\n      <td>114</td>\n      <td>3</td>\n      <td>3</td>\n      <td>1</td>\n      <td>1</td>\n      <td>0</td>\n      <td>0</td>\n      <td>1</td>\n      <td>0</td>\n      <td>Jabaquara/São Paulo</td>\n      <td>sale</td>\n      <td>apartment</td>\n      <td>-23.649693</td>\n      <td>-46.649783</td>\n    </tr>\n    <tr>\n      <th>13638</th>\n      <td>345000</td>\n      <td>48</td>\n      <td>39</td>\n      <td>1</td>\n      <td>2</td>\n      <td>1</td>\n      <td>1</td>\n      <td>0</td>\n      <td>1</td>\n      <td>1</td>\n      <td>0</td>\n      <td>Jabaquara/São Paulo</td>\n      <td>sale</td>\n      <td>apartment</td>\n      <td>-23.652060</td>\n      <td>-46.637046</td>\n    </tr>\n    <tr>\n      <th>13639</th>\n      <td>161987</td>\n      <td>0</td>\n      <td>44</td>\n      <td>2</td>\n      <td>1</td>\n      <td>0</td>\n      <td>1</td>\n      <td>0</td>\n      <td>0</td>\n      <td>0</td>\n      <td>0</td>\n      <td>Jardim Ângela/São Paulo</td>\n      <td>sale</td>\n      <td>apartment</td>\n      <td>-23.613391</td>\n      <td>-46.523109</td>\n    </tr>\n  </tbody>\n</table>\n<p>13640 rows × 16 columns</p>\n</div>"
     },
     "execution_count": 115,
     "metadata": {},
     "output_type": "execute_result"
    }
   ],
   "source": [
    "df"
   ],
   "metadata": {
    "collapsed": false,
    "pycharm": {
     "name": "#%%\n"
    }
   }
  },
  {
   "cell_type": "code",
   "execution_count": 116,
   "outputs": [
    {
     "data": {
      "text/plain": "array(['rent', 'sale'], dtype=object)"
     },
     "execution_count": 116,
     "metadata": {},
     "output_type": "execute_result"
    }
   ],
   "source": [
    "df[\"Negotiation Type\"].unique()"
   ],
   "metadata": {
    "collapsed": false,
    "pycharm": {
     "name": "#%%\n"
    }
   }
  },
  {
   "cell_type": "code",
   "execution_count": 117,
   "outputs": [],
   "source": [
    "sales_df = df[df[\"Negotiation Type\"] == \"sale\"]"
   ],
   "metadata": {
    "collapsed": false,
    "pycharm": {
     "name": "#%%\n"
    }
   }
  },
  {
   "cell_type": "code",
   "execution_count": 118,
   "outputs": [
    {
     "data": {
      "text/plain": "         Price  Condo  Size  Rooms  Toilets  Suites  Parking  Elevator  \\\n4901    732600   1000    74      1        2       1        2         1   \n4902   1990000   2400   164      4        5       2        3         1   \n4903    720000    700    70      2        2       1        1         1   \n4904   1680000   1580   155      3        5       3        2         1   \n4905   1200000    900    56      2        2       1        2         0   \n...        ...    ...   ...    ...      ...     ...      ...       ...   \n13635   265000    420    51      2        1       0        1         0   \n13636   545000    630    74      3        2       1        2         0   \n13637   515000   1100   114      3        3       1        1         0   \n13638   345000     48    39      1        2       1        1         0   \n13639   161987      0    44      2        1       0        1         0   \n\n       Furnished  Swimming Pool  New                 District  \\\n4901           0              1    0  Vila Madalena/São Paulo   \n4902           1              1    0  Vila Madalena/São Paulo   \n4903           0              1    1  Vila Madalena/São Paulo   \n4904           0              1    0  Vila Madalena/São Paulo   \n4905           1              1    0  Vila Madalena/São Paulo   \n...          ...            ...  ...                      ...   \n13635          0              0    0      Jabaquara/São Paulo   \n13636          0              1    0      Jabaquara/São Paulo   \n13637          0              1    0      Jabaquara/São Paulo   \n13638          1              1    0      Jabaquara/São Paulo   \n13639          0              0    0  Jardim Ângela/São Paulo   \n\n      Negotiation Type Property Type   Latitude  Longitude  \n4901              sale     apartment -23.552129 -46.692244  \n4902              sale     apartment -23.551613 -46.699106  \n4903              sale     apartment -23.547687 -46.692594  \n4904              sale     apartment -23.552590 -46.691104  \n4905              sale     apartment -23.553087 -46.697890  \n...                ...           ...        ...        ...  \n13635             sale     apartment -23.653004 -46.635463  \n13636             sale     apartment -23.648930 -46.641982  \n13637             sale     apartment -23.649693 -46.649783  \n13638             sale     apartment -23.652060 -46.637046  \n13639             sale     apartment -23.613391 -46.523109  \n\n[6412 rows x 16 columns]",
      "text/html": "<div>\n<style scoped>\n    .dataframe tbody tr th:only-of-type {\n        vertical-align: middle;\n    }\n\n    .dataframe tbody tr th {\n        vertical-align: top;\n    }\n\n    .dataframe thead th {\n        text-align: right;\n    }\n</style>\n<table border=\"1\" class=\"dataframe\">\n  <thead>\n    <tr style=\"text-align: right;\">\n      <th></th>\n      <th>Price</th>\n      <th>Condo</th>\n      <th>Size</th>\n      <th>Rooms</th>\n      <th>Toilets</th>\n      <th>Suites</th>\n      <th>Parking</th>\n      <th>Elevator</th>\n      <th>Furnished</th>\n      <th>Swimming Pool</th>\n      <th>New</th>\n      <th>District</th>\n      <th>Negotiation Type</th>\n      <th>Property Type</th>\n      <th>Latitude</th>\n      <th>Longitude</th>\n    </tr>\n  </thead>\n  <tbody>\n    <tr>\n      <th>4901</th>\n      <td>732600</td>\n      <td>1000</td>\n      <td>74</td>\n      <td>1</td>\n      <td>2</td>\n      <td>1</td>\n      <td>2</td>\n      <td>1</td>\n      <td>0</td>\n      <td>1</td>\n      <td>0</td>\n      <td>Vila Madalena/São Paulo</td>\n      <td>sale</td>\n      <td>apartment</td>\n      <td>-23.552129</td>\n      <td>-46.692244</td>\n    </tr>\n    <tr>\n      <th>4902</th>\n      <td>1990000</td>\n      <td>2400</td>\n      <td>164</td>\n      <td>4</td>\n      <td>5</td>\n      <td>2</td>\n      <td>3</td>\n      <td>1</td>\n      <td>1</td>\n      <td>1</td>\n      <td>0</td>\n      <td>Vila Madalena/São Paulo</td>\n      <td>sale</td>\n      <td>apartment</td>\n      <td>-23.551613</td>\n      <td>-46.699106</td>\n    </tr>\n    <tr>\n      <th>4903</th>\n      <td>720000</td>\n      <td>700</td>\n      <td>70</td>\n      <td>2</td>\n      <td>2</td>\n      <td>1</td>\n      <td>1</td>\n      <td>1</td>\n      <td>0</td>\n      <td>1</td>\n      <td>1</td>\n      <td>Vila Madalena/São Paulo</td>\n      <td>sale</td>\n      <td>apartment</td>\n      <td>-23.547687</td>\n      <td>-46.692594</td>\n    </tr>\n    <tr>\n      <th>4904</th>\n      <td>1680000</td>\n      <td>1580</td>\n      <td>155</td>\n      <td>3</td>\n      <td>5</td>\n      <td>3</td>\n      <td>2</td>\n      <td>1</td>\n      <td>0</td>\n      <td>1</td>\n      <td>0</td>\n      <td>Vila Madalena/São Paulo</td>\n      <td>sale</td>\n      <td>apartment</td>\n      <td>-23.552590</td>\n      <td>-46.691104</td>\n    </tr>\n    <tr>\n      <th>4905</th>\n      <td>1200000</td>\n      <td>900</td>\n      <td>56</td>\n      <td>2</td>\n      <td>2</td>\n      <td>1</td>\n      <td>2</td>\n      <td>0</td>\n      <td>1</td>\n      <td>1</td>\n      <td>0</td>\n      <td>Vila Madalena/São Paulo</td>\n      <td>sale</td>\n      <td>apartment</td>\n      <td>-23.553087</td>\n      <td>-46.697890</td>\n    </tr>\n    <tr>\n      <th>...</th>\n      <td>...</td>\n      <td>...</td>\n      <td>...</td>\n      <td>...</td>\n      <td>...</td>\n      <td>...</td>\n      <td>...</td>\n      <td>...</td>\n      <td>...</td>\n      <td>...</td>\n      <td>...</td>\n      <td>...</td>\n      <td>...</td>\n      <td>...</td>\n      <td>...</td>\n      <td>...</td>\n    </tr>\n    <tr>\n      <th>13635</th>\n      <td>265000</td>\n      <td>420</td>\n      <td>51</td>\n      <td>2</td>\n      <td>1</td>\n      <td>0</td>\n      <td>1</td>\n      <td>0</td>\n      <td>0</td>\n      <td>0</td>\n      <td>0</td>\n      <td>Jabaquara/São Paulo</td>\n      <td>sale</td>\n      <td>apartment</td>\n      <td>-23.653004</td>\n      <td>-46.635463</td>\n    </tr>\n    <tr>\n      <th>13636</th>\n      <td>545000</td>\n      <td>630</td>\n      <td>74</td>\n      <td>3</td>\n      <td>2</td>\n      <td>1</td>\n      <td>2</td>\n      <td>0</td>\n      <td>0</td>\n      <td>1</td>\n      <td>0</td>\n      <td>Jabaquara/São Paulo</td>\n      <td>sale</td>\n      <td>apartment</td>\n      <td>-23.648930</td>\n      <td>-46.641982</td>\n    </tr>\n    <tr>\n      <th>13637</th>\n      <td>515000</td>\n      <td>1100</td>\n      <td>114</td>\n      <td>3</td>\n      <td>3</td>\n      <td>1</td>\n      <td>1</td>\n      <td>0</td>\n      <td>0</td>\n      <td>1</td>\n      <td>0</td>\n      <td>Jabaquara/São Paulo</td>\n      <td>sale</td>\n      <td>apartment</td>\n      <td>-23.649693</td>\n      <td>-46.649783</td>\n    </tr>\n    <tr>\n      <th>13638</th>\n      <td>345000</td>\n      <td>48</td>\n      <td>39</td>\n      <td>1</td>\n      <td>2</td>\n      <td>1</td>\n      <td>1</td>\n      <td>0</td>\n      <td>1</td>\n      <td>1</td>\n      <td>0</td>\n      <td>Jabaquara/São Paulo</td>\n      <td>sale</td>\n      <td>apartment</td>\n      <td>-23.652060</td>\n      <td>-46.637046</td>\n    </tr>\n    <tr>\n      <th>13639</th>\n      <td>161987</td>\n      <td>0</td>\n      <td>44</td>\n      <td>2</td>\n      <td>1</td>\n      <td>0</td>\n      <td>1</td>\n      <td>0</td>\n      <td>0</td>\n      <td>0</td>\n      <td>0</td>\n      <td>Jardim Ângela/São Paulo</td>\n      <td>sale</td>\n      <td>apartment</td>\n      <td>-23.613391</td>\n      <td>-46.523109</td>\n    </tr>\n  </tbody>\n</table>\n<p>6412 rows × 16 columns</p>\n</div>"
     },
     "execution_count": 118,
     "metadata": {},
     "output_type": "execute_result"
    }
   ],
   "source": [
    "sales_df"
   ],
   "metadata": {
    "collapsed": false,
    "pycharm": {
     "name": "#%%\n"
    }
   }
  },
  {
   "cell_type": "code",
   "execution_count": 119,
   "outputs": [
    {
     "data": {
      "text/plain": "                   0          1\n0        Artur Alvim  São Paulo\n1        Artur Alvim  São Paulo\n2        Artur Alvim  São Paulo\n3        Artur Alvim  São Paulo\n4        Artur Alvim  São Paulo\n...              ...        ...\n13635      Jabaquara  São Paulo\n13636      Jabaquara  São Paulo\n13637      Jabaquara  São Paulo\n13638      Jabaquara  São Paulo\n13639  Jardim Ângela  São Paulo\n\n[13640 rows x 2 columns]",
      "text/html": "<div>\n<style scoped>\n    .dataframe tbody tr th:only-of-type {\n        vertical-align: middle;\n    }\n\n    .dataframe tbody tr th {\n        vertical-align: top;\n    }\n\n    .dataframe thead th {\n        text-align: right;\n    }\n</style>\n<table border=\"1\" class=\"dataframe\">\n  <thead>\n    <tr style=\"text-align: right;\">\n      <th></th>\n      <th>0</th>\n      <th>1</th>\n    </tr>\n  </thead>\n  <tbody>\n    <tr>\n      <th>0</th>\n      <td>Artur Alvim</td>\n      <td>São Paulo</td>\n    </tr>\n    <tr>\n      <th>1</th>\n      <td>Artur Alvim</td>\n      <td>São Paulo</td>\n    </tr>\n    <tr>\n      <th>2</th>\n      <td>Artur Alvim</td>\n      <td>São Paulo</td>\n    </tr>\n    <tr>\n      <th>3</th>\n      <td>Artur Alvim</td>\n      <td>São Paulo</td>\n    </tr>\n    <tr>\n      <th>4</th>\n      <td>Artur Alvim</td>\n      <td>São Paulo</td>\n    </tr>\n    <tr>\n      <th>...</th>\n      <td>...</td>\n      <td>...</td>\n    </tr>\n    <tr>\n      <th>13635</th>\n      <td>Jabaquara</td>\n      <td>São Paulo</td>\n    </tr>\n    <tr>\n      <th>13636</th>\n      <td>Jabaquara</td>\n      <td>São Paulo</td>\n    </tr>\n    <tr>\n      <th>13637</th>\n      <td>Jabaquara</td>\n      <td>São Paulo</td>\n    </tr>\n    <tr>\n      <th>13638</th>\n      <td>Jabaquara</td>\n      <td>São Paulo</td>\n    </tr>\n    <tr>\n      <th>13639</th>\n      <td>Jardim Ângela</td>\n      <td>São Paulo</td>\n    </tr>\n  </tbody>\n</table>\n<p>13640 rows × 2 columns</p>\n</div>"
     },
     "execution_count": 119,
     "metadata": {},
     "output_type": "execute_result"
    }
   ],
   "source": [
    "region_df = df['District'].str.split('/', expand=True)\n",
    "region_df"
   ],
   "metadata": {
    "collapsed": false,
    "pycharm": {
     "name": "#%%\n"
    }
   }
  },
  {
   "cell_type": "code",
   "execution_count": 120,
   "outputs": [
    {
     "data": {
      "text/plain": "array(['sale'], dtype=object)"
     },
     "execution_count": 120,
     "metadata": {},
     "output_type": "execute_result"
    }
   ],
   "source": [
    "sales_df[\"Negotiation Type\"].unique()"
   ],
   "metadata": {
    "collapsed": false,
    "pycharm": {
     "name": "#%%\n"
    }
   }
  },
  {
   "cell_type": "code",
   "execution_count": 121,
   "outputs": [
    {
     "data": {
      "text/plain": "array(['apartment'], dtype=object)"
     },
     "execution_count": 121,
     "metadata": {},
     "output_type": "execute_result"
    }
   ],
   "source": [
    "sales_df[\"Property Type\"].unique()"
   ],
   "metadata": {
    "collapsed": false,
    "pycharm": {
     "name": "#%%\n"
    }
   }
  },
  {
   "cell_type": "code",
   "execution_count": 122,
   "outputs": [
    {
     "name": "stderr",
     "output_type": "stream",
     "text": [
      "/var/folders/tf/pbrpvms96898w6bwjlhbg8lw0000gp/T/ipykernel_22204/2951421488.py:1: SettingWithCopyWarning: \n",
      "A value is trying to be set on a copy of a slice from a DataFrame\n",
      "\n",
      "See the caveats in the documentation: https://pandas.pydata.org/pandas-docs/stable/user_guide/indexing.html#returning-a-view-versus-a-copy\n",
      "  sales_df.drop(columns=[\"Negotiation Type\", \"Property Type\"], inplace=True)\n"
     ]
    }
   ],
   "source": [
    "sales_df.drop(columns=[\"Negotiation Type\", \"Property Type\"], inplace=True)"
   ],
   "metadata": {
    "collapsed": false,
    "pycharm": {
     "name": "#%%\n"
    }
   }
  },
  {
   "cell_type": "code",
   "execution_count": 123,
   "outputs": [
    {
     "data": {
      "text/plain": "         Price  Condo  Size  Rooms  Toilets  Suites  Parking  Elevator  \\\n4901    732600   1000    74      1        2       1        2         1   \n4902   1990000   2400   164      4        5       2        3         1   \n4903    720000    700    70      2        2       1        1         1   \n4904   1680000   1580   155      3        5       3        2         1   \n4905   1200000    900    56      2        2       1        2         0   \n...        ...    ...   ...    ...      ...     ...      ...       ...   \n13635   265000    420    51      2        1       0        1         0   \n13636   545000    630    74      3        2       1        2         0   \n13637   515000   1100   114      3        3       1        1         0   \n13638   345000     48    39      1        2       1        1         0   \n13639   161987      0    44      2        1       0        1         0   \n\n       Furnished  Swimming Pool  New                 District   Latitude  \\\n4901           0              1    0  Vila Madalena/São Paulo -23.552129   \n4902           1              1    0  Vila Madalena/São Paulo -23.551613   \n4903           0              1    1  Vila Madalena/São Paulo -23.547687   \n4904           0              1    0  Vila Madalena/São Paulo -23.552590   \n4905           1              1    0  Vila Madalena/São Paulo -23.553087   \n...          ...            ...  ...                      ...        ...   \n13635          0              0    0      Jabaquara/São Paulo -23.653004   \n13636          0              1    0      Jabaquara/São Paulo -23.648930   \n13637          0              1    0      Jabaquara/São Paulo -23.649693   \n13638          1              1    0      Jabaquara/São Paulo -23.652060   \n13639          0              0    0  Jardim Ângela/São Paulo -23.613391   \n\n       Longitude  \n4901  -46.692244  \n4902  -46.699106  \n4903  -46.692594  \n4904  -46.691104  \n4905  -46.697890  \n...          ...  \n13635 -46.635463  \n13636 -46.641982  \n13637 -46.649783  \n13638 -46.637046  \n13639 -46.523109  \n\n[6412 rows x 14 columns]",
      "text/html": "<div>\n<style scoped>\n    .dataframe tbody tr th:only-of-type {\n        vertical-align: middle;\n    }\n\n    .dataframe tbody tr th {\n        vertical-align: top;\n    }\n\n    .dataframe thead th {\n        text-align: right;\n    }\n</style>\n<table border=\"1\" class=\"dataframe\">\n  <thead>\n    <tr style=\"text-align: right;\">\n      <th></th>\n      <th>Price</th>\n      <th>Condo</th>\n      <th>Size</th>\n      <th>Rooms</th>\n      <th>Toilets</th>\n      <th>Suites</th>\n      <th>Parking</th>\n      <th>Elevator</th>\n      <th>Furnished</th>\n      <th>Swimming Pool</th>\n      <th>New</th>\n      <th>District</th>\n      <th>Latitude</th>\n      <th>Longitude</th>\n    </tr>\n  </thead>\n  <tbody>\n    <tr>\n      <th>4901</th>\n      <td>732600</td>\n      <td>1000</td>\n      <td>74</td>\n      <td>1</td>\n      <td>2</td>\n      <td>1</td>\n      <td>2</td>\n      <td>1</td>\n      <td>0</td>\n      <td>1</td>\n      <td>0</td>\n      <td>Vila Madalena/São Paulo</td>\n      <td>-23.552129</td>\n      <td>-46.692244</td>\n    </tr>\n    <tr>\n      <th>4902</th>\n      <td>1990000</td>\n      <td>2400</td>\n      <td>164</td>\n      <td>4</td>\n      <td>5</td>\n      <td>2</td>\n      <td>3</td>\n      <td>1</td>\n      <td>1</td>\n      <td>1</td>\n      <td>0</td>\n      <td>Vila Madalena/São Paulo</td>\n      <td>-23.551613</td>\n      <td>-46.699106</td>\n    </tr>\n    <tr>\n      <th>4903</th>\n      <td>720000</td>\n      <td>700</td>\n      <td>70</td>\n      <td>2</td>\n      <td>2</td>\n      <td>1</td>\n      <td>1</td>\n      <td>1</td>\n      <td>0</td>\n      <td>1</td>\n      <td>1</td>\n      <td>Vila Madalena/São Paulo</td>\n      <td>-23.547687</td>\n      <td>-46.692594</td>\n    </tr>\n    <tr>\n      <th>4904</th>\n      <td>1680000</td>\n      <td>1580</td>\n      <td>155</td>\n      <td>3</td>\n      <td>5</td>\n      <td>3</td>\n      <td>2</td>\n      <td>1</td>\n      <td>0</td>\n      <td>1</td>\n      <td>0</td>\n      <td>Vila Madalena/São Paulo</td>\n      <td>-23.552590</td>\n      <td>-46.691104</td>\n    </tr>\n    <tr>\n      <th>4905</th>\n      <td>1200000</td>\n      <td>900</td>\n      <td>56</td>\n      <td>2</td>\n      <td>2</td>\n      <td>1</td>\n      <td>2</td>\n      <td>0</td>\n      <td>1</td>\n      <td>1</td>\n      <td>0</td>\n      <td>Vila Madalena/São Paulo</td>\n      <td>-23.553087</td>\n      <td>-46.697890</td>\n    </tr>\n    <tr>\n      <th>...</th>\n      <td>...</td>\n      <td>...</td>\n      <td>...</td>\n      <td>...</td>\n      <td>...</td>\n      <td>...</td>\n      <td>...</td>\n      <td>...</td>\n      <td>...</td>\n      <td>...</td>\n      <td>...</td>\n      <td>...</td>\n      <td>...</td>\n      <td>...</td>\n    </tr>\n    <tr>\n      <th>13635</th>\n      <td>265000</td>\n      <td>420</td>\n      <td>51</td>\n      <td>2</td>\n      <td>1</td>\n      <td>0</td>\n      <td>1</td>\n      <td>0</td>\n      <td>0</td>\n      <td>0</td>\n      <td>0</td>\n      <td>Jabaquara/São Paulo</td>\n      <td>-23.653004</td>\n      <td>-46.635463</td>\n    </tr>\n    <tr>\n      <th>13636</th>\n      <td>545000</td>\n      <td>630</td>\n      <td>74</td>\n      <td>3</td>\n      <td>2</td>\n      <td>1</td>\n      <td>2</td>\n      <td>0</td>\n      <td>0</td>\n      <td>1</td>\n      <td>0</td>\n      <td>Jabaquara/São Paulo</td>\n      <td>-23.648930</td>\n      <td>-46.641982</td>\n    </tr>\n    <tr>\n      <th>13637</th>\n      <td>515000</td>\n      <td>1100</td>\n      <td>114</td>\n      <td>3</td>\n      <td>3</td>\n      <td>1</td>\n      <td>1</td>\n      <td>0</td>\n      <td>0</td>\n      <td>1</td>\n      <td>0</td>\n      <td>Jabaquara/São Paulo</td>\n      <td>-23.649693</td>\n      <td>-46.649783</td>\n    </tr>\n    <tr>\n      <th>13638</th>\n      <td>345000</td>\n      <td>48</td>\n      <td>39</td>\n      <td>1</td>\n      <td>2</td>\n      <td>1</td>\n      <td>1</td>\n      <td>0</td>\n      <td>1</td>\n      <td>1</td>\n      <td>0</td>\n      <td>Jabaquara/São Paulo</td>\n      <td>-23.652060</td>\n      <td>-46.637046</td>\n    </tr>\n    <tr>\n      <th>13639</th>\n      <td>161987</td>\n      <td>0</td>\n      <td>44</td>\n      <td>2</td>\n      <td>1</td>\n      <td>0</td>\n      <td>1</td>\n      <td>0</td>\n      <td>0</td>\n      <td>0</td>\n      <td>0</td>\n      <td>Jardim Ângela/São Paulo</td>\n      <td>-23.613391</td>\n      <td>-46.523109</td>\n    </tr>\n  </tbody>\n</table>\n<p>6412 rows × 14 columns</p>\n</div>"
     },
     "execution_count": 123,
     "metadata": {},
     "output_type": "execute_result"
    }
   ],
   "source": [
    "sales_df"
   ],
   "metadata": {
    "collapsed": false,
    "pycharm": {
     "name": "#%%\n"
    }
   }
  },
  {
   "cell_type": "code",
   "execution_count": 124,
   "outputs": [
    {
     "name": "stderr",
     "output_type": "stream",
     "text": [
      "/var/folders/tf/pbrpvms96898w6bwjlhbg8lw0000gp/T/ipykernel_22204/2913302406.py:1: SettingWithCopyWarning: \n",
      "A value is trying to be set on a copy of a slice from a DataFrame\n",
      "\n",
      "See the caveats in the documentation: https://pandas.pydata.org/pandas-docs/stable/user_guide/indexing.html#returning-a-view-versus-a-copy\n",
      "  sales_df.drop(columns=[\"District\", \"Latitude\", \"Longitude\"], inplace=True)\n"
     ]
    },
    {
     "data": {
      "text/plain": "         Price  Condo  Size  Rooms  Toilets  Suites  Parking  Elevator  \\\n4901    732600   1000    74      1        2       1        2         1   \n4902   1990000   2400   164      4        5       2        3         1   \n4903    720000    700    70      2        2       1        1         1   \n4904   1680000   1580   155      3        5       3        2         1   \n4905   1200000    900    56      2        2       1        2         0   \n...        ...    ...   ...    ...      ...     ...      ...       ...   \n13635   265000    420    51      2        1       0        1         0   \n13636   545000    630    74      3        2       1        2         0   \n13637   515000   1100   114      3        3       1        1         0   \n13638   345000     48    39      1        2       1        1         0   \n13639   161987      0    44      2        1       0        1         0   \n\n       Furnished  Swimming Pool  New  \n4901           0              1    0  \n4902           1              1    0  \n4903           0              1    1  \n4904           0              1    0  \n4905           1              1    0  \n...          ...            ...  ...  \n13635          0              0    0  \n13636          0              1    0  \n13637          0              1    0  \n13638          1              1    0  \n13639          0              0    0  \n\n[6412 rows x 11 columns]",
      "text/html": "<div>\n<style scoped>\n    .dataframe tbody tr th:only-of-type {\n        vertical-align: middle;\n    }\n\n    .dataframe tbody tr th {\n        vertical-align: top;\n    }\n\n    .dataframe thead th {\n        text-align: right;\n    }\n</style>\n<table border=\"1\" class=\"dataframe\">\n  <thead>\n    <tr style=\"text-align: right;\">\n      <th></th>\n      <th>Price</th>\n      <th>Condo</th>\n      <th>Size</th>\n      <th>Rooms</th>\n      <th>Toilets</th>\n      <th>Suites</th>\n      <th>Parking</th>\n      <th>Elevator</th>\n      <th>Furnished</th>\n      <th>Swimming Pool</th>\n      <th>New</th>\n    </tr>\n  </thead>\n  <tbody>\n    <tr>\n      <th>4901</th>\n      <td>732600</td>\n      <td>1000</td>\n      <td>74</td>\n      <td>1</td>\n      <td>2</td>\n      <td>1</td>\n      <td>2</td>\n      <td>1</td>\n      <td>0</td>\n      <td>1</td>\n      <td>0</td>\n    </tr>\n    <tr>\n      <th>4902</th>\n      <td>1990000</td>\n      <td>2400</td>\n      <td>164</td>\n      <td>4</td>\n      <td>5</td>\n      <td>2</td>\n      <td>3</td>\n      <td>1</td>\n      <td>1</td>\n      <td>1</td>\n      <td>0</td>\n    </tr>\n    <tr>\n      <th>4903</th>\n      <td>720000</td>\n      <td>700</td>\n      <td>70</td>\n      <td>2</td>\n      <td>2</td>\n      <td>1</td>\n      <td>1</td>\n      <td>1</td>\n      <td>0</td>\n      <td>1</td>\n      <td>1</td>\n    </tr>\n    <tr>\n      <th>4904</th>\n      <td>1680000</td>\n      <td>1580</td>\n      <td>155</td>\n      <td>3</td>\n      <td>5</td>\n      <td>3</td>\n      <td>2</td>\n      <td>1</td>\n      <td>0</td>\n      <td>1</td>\n      <td>0</td>\n    </tr>\n    <tr>\n      <th>4905</th>\n      <td>1200000</td>\n      <td>900</td>\n      <td>56</td>\n      <td>2</td>\n      <td>2</td>\n      <td>1</td>\n      <td>2</td>\n      <td>0</td>\n      <td>1</td>\n      <td>1</td>\n      <td>0</td>\n    </tr>\n    <tr>\n      <th>...</th>\n      <td>...</td>\n      <td>...</td>\n      <td>...</td>\n      <td>...</td>\n      <td>...</td>\n      <td>...</td>\n      <td>...</td>\n      <td>...</td>\n      <td>...</td>\n      <td>...</td>\n      <td>...</td>\n    </tr>\n    <tr>\n      <th>13635</th>\n      <td>265000</td>\n      <td>420</td>\n      <td>51</td>\n      <td>2</td>\n      <td>1</td>\n      <td>0</td>\n      <td>1</td>\n      <td>0</td>\n      <td>0</td>\n      <td>0</td>\n      <td>0</td>\n    </tr>\n    <tr>\n      <th>13636</th>\n      <td>545000</td>\n      <td>630</td>\n      <td>74</td>\n      <td>3</td>\n      <td>2</td>\n      <td>1</td>\n      <td>2</td>\n      <td>0</td>\n      <td>0</td>\n      <td>1</td>\n      <td>0</td>\n    </tr>\n    <tr>\n      <th>13637</th>\n      <td>515000</td>\n      <td>1100</td>\n      <td>114</td>\n      <td>3</td>\n      <td>3</td>\n      <td>1</td>\n      <td>1</td>\n      <td>0</td>\n      <td>0</td>\n      <td>1</td>\n      <td>0</td>\n    </tr>\n    <tr>\n      <th>13638</th>\n      <td>345000</td>\n      <td>48</td>\n      <td>39</td>\n      <td>1</td>\n      <td>2</td>\n      <td>1</td>\n      <td>1</td>\n      <td>0</td>\n      <td>1</td>\n      <td>1</td>\n      <td>0</td>\n    </tr>\n    <tr>\n      <th>13639</th>\n      <td>161987</td>\n      <td>0</td>\n      <td>44</td>\n      <td>2</td>\n      <td>1</td>\n      <td>0</td>\n      <td>1</td>\n      <td>0</td>\n      <td>0</td>\n      <td>0</td>\n      <td>0</td>\n    </tr>\n  </tbody>\n</table>\n<p>6412 rows × 11 columns</p>\n</div>"
     },
     "execution_count": 124,
     "metadata": {},
     "output_type": "execute_result"
    }
   ],
   "source": [
    "sales_df.drop(columns=[\"District\", \"Latitude\", \"Longitude\"], inplace=True)\n",
    "sales_df"
   ],
   "metadata": {
    "collapsed": false,
    "pycharm": {
     "name": "#%%\n"
    }
   }
  },
  {
   "cell_type": "code",
   "execution_count": 126,
   "outputs": [
    {
     "data": {
      "text/plain": "         Price  Condo  Size  Rooms  Toilets  Suites  Parking  Elevator  \\\n4901    732600   1000    74      1        2       1        2         1   \n4902   1990000   2400   164      4        5       2        3         1   \n4903    720000    700    70      2        2       1        1         1   \n4904   1680000   1580   155      3        5       3        2         1   \n4905   1200000    900    56      2        2       1        2         0   \n...        ...    ...   ...    ...      ...     ...      ...       ...   \n13635   265000    420    51      2        1       0        1         0   \n13636   545000    630    74      3        2       1        2         0   \n13637   515000   1100   114      3        3       1        1         0   \n13638   345000     48    39      1        2       1        1         0   \n13639   161987      0    44      2        1       0        1         0   \n\n       Furnished  Swimming Pool  New              0          1  \n4901           0              1    0  Vila Madalena  São Paulo  \n4902           1              1    0  Vila Madalena  São Paulo  \n4903           0              1    1  Vila Madalena  São Paulo  \n4904           0              1    0  Vila Madalena  São Paulo  \n4905           1              1    0  Vila Madalena  São Paulo  \n...          ...            ...  ...            ...        ...  \n13635          0              0    0      Jabaquara  São Paulo  \n13636          0              1    0      Jabaquara  São Paulo  \n13637          0              1    0      Jabaquara  São Paulo  \n13638          1              1    0      Jabaquara  São Paulo  \n13639          0              0    0  Jardim Ângela  São Paulo  \n\n[6412 rows x 13 columns]",
      "text/html": "<div>\n<style scoped>\n    .dataframe tbody tr th:only-of-type {\n        vertical-align: middle;\n    }\n\n    .dataframe tbody tr th {\n        vertical-align: top;\n    }\n\n    .dataframe thead th {\n        text-align: right;\n    }\n</style>\n<table border=\"1\" class=\"dataframe\">\n  <thead>\n    <tr style=\"text-align: right;\">\n      <th></th>\n      <th>Price</th>\n      <th>Condo</th>\n      <th>Size</th>\n      <th>Rooms</th>\n      <th>Toilets</th>\n      <th>Suites</th>\n      <th>Parking</th>\n      <th>Elevator</th>\n      <th>Furnished</th>\n      <th>Swimming Pool</th>\n      <th>New</th>\n      <th>0</th>\n      <th>1</th>\n    </tr>\n  </thead>\n  <tbody>\n    <tr>\n      <th>4901</th>\n      <td>732600</td>\n      <td>1000</td>\n      <td>74</td>\n      <td>1</td>\n      <td>2</td>\n      <td>1</td>\n      <td>2</td>\n      <td>1</td>\n      <td>0</td>\n      <td>1</td>\n      <td>0</td>\n      <td>Vila Madalena</td>\n      <td>São Paulo</td>\n    </tr>\n    <tr>\n      <th>4902</th>\n      <td>1990000</td>\n      <td>2400</td>\n      <td>164</td>\n      <td>4</td>\n      <td>5</td>\n      <td>2</td>\n      <td>3</td>\n      <td>1</td>\n      <td>1</td>\n      <td>1</td>\n      <td>0</td>\n      <td>Vila Madalena</td>\n      <td>São Paulo</td>\n    </tr>\n    <tr>\n      <th>4903</th>\n      <td>720000</td>\n      <td>700</td>\n      <td>70</td>\n      <td>2</td>\n      <td>2</td>\n      <td>1</td>\n      <td>1</td>\n      <td>1</td>\n      <td>0</td>\n      <td>1</td>\n      <td>1</td>\n      <td>Vila Madalena</td>\n      <td>São Paulo</td>\n    </tr>\n    <tr>\n      <th>4904</th>\n      <td>1680000</td>\n      <td>1580</td>\n      <td>155</td>\n      <td>3</td>\n      <td>5</td>\n      <td>3</td>\n      <td>2</td>\n      <td>1</td>\n      <td>0</td>\n      <td>1</td>\n      <td>0</td>\n      <td>Vila Madalena</td>\n      <td>São Paulo</td>\n    </tr>\n    <tr>\n      <th>4905</th>\n      <td>1200000</td>\n      <td>900</td>\n      <td>56</td>\n      <td>2</td>\n      <td>2</td>\n      <td>1</td>\n      <td>2</td>\n      <td>0</td>\n      <td>1</td>\n      <td>1</td>\n      <td>0</td>\n      <td>Vila Madalena</td>\n      <td>São Paulo</td>\n    </tr>\n    <tr>\n      <th>...</th>\n      <td>...</td>\n      <td>...</td>\n      <td>...</td>\n      <td>...</td>\n      <td>...</td>\n      <td>...</td>\n      <td>...</td>\n      <td>...</td>\n      <td>...</td>\n      <td>...</td>\n      <td>...</td>\n      <td>...</td>\n      <td>...</td>\n    </tr>\n    <tr>\n      <th>13635</th>\n      <td>265000</td>\n      <td>420</td>\n      <td>51</td>\n      <td>2</td>\n      <td>1</td>\n      <td>0</td>\n      <td>1</td>\n      <td>0</td>\n      <td>0</td>\n      <td>0</td>\n      <td>0</td>\n      <td>Jabaquara</td>\n      <td>São Paulo</td>\n    </tr>\n    <tr>\n      <th>13636</th>\n      <td>545000</td>\n      <td>630</td>\n      <td>74</td>\n      <td>3</td>\n      <td>2</td>\n      <td>1</td>\n      <td>2</td>\n      <td>0</td>\n      <td>0</td>\n      <td>1</td>\n      <td>0</td>\n      <td>Jabaquara</td>\n      <td>São Paulo</td>\n    </tr>\n    <tr>\n      <th>13637</th>\n      <td>515000</td>\n      <td>1100</td>\n      <td>114</td>\n      <td>3</td>\n      <td>3</td>\n      <td>1</td>\n      <td>1</td>\n      <td>0</td>\n      <td>0</td>\n      <td>1</td>\n      <td>0</td>\n      <td>Jabaquara</td>\n      <td>São Paulo</td>\n    </tr>\n    <tr>\n      <th>13638</th>\n      <td>345000</td>\n      <td>48</td>\n      <td>39</td>\n      <td>1</td>\n      <td>2</td>\n      <td>1</td>\n      <td>1</td>\n      <td>0</td>\n      <td>1</td>\n      <td>1</td>\n      <td>0</td>\n      <td>Jabaquara</td>\n      <td>São Paulo</td>\n    </tr>\n    <tr>\n      <th>13639</th>\n      <td>161987</td>\n      <td>0</td>\n      <td>44</td>\n      <td>2</td>\n      <td>1</td>\n      <td>0</td>\n      <td>1</td>\n      <td>0</td>\n      <td>0</td>\n      <td>0</td>\n      <td>0</td>\n      <td>Jardim Ângela</td>\n      <td>São Paulo</td>\n    </tr>\n  </tbody>\n</table>\n<p>6412 rows × 13 columns</p>\n</div>"
     },
     "execution_count": 126,
     "metadata": {},
     "output_type": "execute_result"
    }
   ],
   "source": [
    "final_df = pd.concat([sales_df, region_df], axis=1, join=\"inner\")\n",
    "final_df"
   ],
   "metadata": {
    "collapsed": false,
    "pycharm": {
     "name": "#%%\n"
    }
   }
  },
  {
   "cell_type": "code",
   "execution_count": 127,
   "outputs": [
    {
     "name": "stdout",
     "output_type": "stream",
     "text": [
      "<class 'pandas.core.frame.DataFrame'>\n",
      "Int64Index: 6412 entries, 4901 to 13639\n",
      "Data columns (total 13 columns):\n",
      " #   Column         Non-Null Count  Dtype \n",
      "---  ------         --------------  ----- \n",
      " 0   Price          6412 non-null   int64 \n",
      " 1   Condo          6412 non-null   int64 \n",
      " 2   Size           6412 non-null   int64 \n",
      " 3   Rooms          6412 non-null   int64 \n",
      " 4   Toilets        6412 non-null   int64 \n",
      " 5   Suites         6412 non-null   int64 \n",
      " 6   Parking        6412 non-null   int64 \n",
      " 7   Elevator       6412 non-null   int64 \n",
      " 8   Furnished      6412 non-null   int64 \n",
      " 9   Swimming Pool  6412 non-null   int64 \n",
      " 10  New            6412 non-null   int64 \n",
      " 11  0              6412 non-null   object\n",
      " 12  1              6412 non-null   object\n",
      "dtypes: int64(11), object(2)\n",
      "memory usage: 701.3+ KB\n"
     ]
    }
   ],
   "source": [
    "final_df.info()"
   ],
   "metadata": {
    "collapsed": false,
    "pycharm": {
     "name": "#%%\n"
    }
   }
  },
  {
   "cell_type": "code",
   "execution_count": 128,
   "outputs": [
    {
     "data": {
      "text/plain": "         Price  Condo  Size  Rooms  Toilets  Suites  Parking  Elevator  \\\n4901    732600   1000    74      1        2       1        2         1   \n4902   1990000   2400   164      4        5       2        3         1   \n4903    720000    700    70      2        2       1        1         1   \n4904   1680000   1580   155      3        5       3        2         1   \n4905   1200000    900    56      2        2       1        2         0   \n...        ...    ...   ...    ...      ...     ...      ...       ...   \n13635   265000    420    51      2        1       0        1         0   \n13636   545000    630    74      3        2       1        2         0   \n13637   515000   1100   114      3        3       1        1         0   \n13638   345000     48    39      1        2       1        1         0   \n13639   161987      0    44      2        1       0        1         0   \n\n       Furnished  Swimming Pool  New       District       City  \n4901           0              1    0  Vila Madalena  São Paulo  \n4902           1              1    0  Vila Madalena  São Paulo  \n4903           0              1    1  Vila Madalena  São Paulo  \n4904           0              1    0  Vila Madalena  São Paulo  \n4905           1              1    0  Vila Madalena  São Paulo  \n...          ...            ...  ...            ...        ...  \n13635          0              0    0      Jabaquara  São Paulo  \n13636          0              1    0      Jabaquara  São Paulo  \n13637          0              1    0      Jabaquara  São Paulo  \n13638          1              1    0      Jabaquara  São Paulo  \n13639          0              0    0  Jardim Ângela  São Paulo  \n\n[6412 rows x 13 columns]",
      "text/html": "<div>\n<style scoped>\n    .dataframe tbody tr th:only-of-type {\n        vertical-align: middle;\n    }\n\n    .dataframe tbody tr th {\n        vertical-align: top;\n    }\n\n    .dataframe thead th {\n        text-align: right;\n    }\n</style>\n<table border=\"1\" class=\"dataframe\">\n  <thead>\n    <tr style=\"text-align: right;\">\n      <th></th>\n      <th>Price</th>\n      <th>Condo</th>\n      <th>Size</th>\n      <th>Rooms</th>\n      <th>Toilets</th>\n      <th>Suites</th>\n      <th>Parking</th>\n      <th>Elevator</th>\n      <th>Furnished</th>\n      <th>Swimming Pool</th>\n      <th>New</th>\n      <th>District</th>\n      <th>City</th>\n    </tr>\n  </thead>\n  <tbody>\n    <tr>\n      <th>4901</th>\n      <td>732600</td>\n      <td>1000</td>\n      <td>74</td>\n      <td>1</td>\n      <td>2</td>\n      <td>1</td>\n      <td>2</td>\n      <td>1</td>\n      <td>0</td>\n      <td>1</td>\n      <td>0</td>\n      <td>Vila Madalena</td>\n      <td>São Paulo</td>\n    </tr>\n    <tr>\n      <th>4902</th>\n      <td>1990000</td>\n      <td>2400</td>\n      <td>164</td>\n      <td>4</td>\n      <td>5</td>\n      <td>2</td>\n      <td>3</td>\n      <td>1</td>\n      <td>1</td>\n      <td>1</td>\n      <td>0</td>\n      <td>Vila Madalena</td>\n      <td>São Paulo</td>\n    </tr>\n    <tr>\n      <th>4903</th>\n      <td>720000</td>\n      <td>700</td>\n      <td>70</td>\n      <td>2</td>\n      <td>2</td>\n      <td>1</td>\n      <td>1</td>\n      <td>1</td>\n      <td>0</td>\n      <td>1</td>\n      <td>1</td>\n      <td>Vila Madalena</td>\n      <td>São Paulo</td>\n    </tr>\n    <tr>\n      <th>4904</th>\n      <td>1680000</td>\n      <td>1580</td>\n      <td>155</td>\n      <td>3</td>\n      <td>5</td>\n      <td>3</td>\n      <td>2</td>\n      <td>1</td>\n      <td>0</td>\n      <td>1</td>\n      <td>0</td>\n      <td>Vila Madalena</td>\n      <td>São Paulo</td>\n    </tr>\n    <tr>\n      <th>4905</th>\n      <td>1200000</td>\n      <td>900</td>\n      <td>56</td>\n      <td>2</td>\n      <td>2</td>\n      <td>1</td>\n      <td>2</td>\n      <td>0</td>\n      <td>1</td>\n      <td>1</td>\n      <td>0</td>\n      <td>Vila Madalena</td>\n      <td>São Paulo</td>\n    </tr>\n    <tr>\n      <th>...</th>\n      <td>...</td>\n      <td>...</td>\n      <td>...</td>\n      <td>...</td>\n      <td>...</td>\n      <td>...</td>\n      <td>...</td>\n      <td>...</td>\n      <td>...</td>\n      <td>...</td>\n      <td>...</td>\n      <td>...</td>\n      <td>...</td>\n    </tr>\n    <tr>\n      <th>13635</th>\n      <td>265000</td>\n      <td>420</td>\n      <td>51</td>\n      <td>2</td>\n      <td>1</td>\n      <td>0</td>\n      <td>1</td>\n      <td>0</td>\n      <td>0</td>\n      <td>0</td>\n      <td>0</td>\n      <td>Jabaquara</td>\n      <td>São Paulo</td>\n    </tr>\n    <tr>\n      <th>13636</th>\n      <td>545000</td>\n      <td>630</td>\n      <td>74</td>\n      <td>3</td>\n      <td>2</td>\n      <td>1</td>\n      <td>2</td>\n      <td>0</td>\n      <td>0</td>\n      <td>1</td>\n      <td>0</td>\n      <td>Jabaquara</td>\n      <td>São Paulo</td>\n    </tr>\n    <tr>\n      <th>13637</th>\n      <td>515000</td>\n      <td>1100</td>\n      <td>114</td>\n      <td>3</td>\n      <td>3</td>\n      <td>1</td>\n      <td>1</td>\n      <td>0</td>\n      <td>0</td>\n      <td>1</td>\n      <td>0</td>\n      <td>Jabaquara</td>\n      <td>São Paulo</td>\n    </tr>\n    <tr>\n      <th>13638</th>\n      <td>345000</td>\n      <td>48</td>\n      <td>39</td>\n      <td>1</td>\n      <td>2</td>\n      <td>1</td>\n      <td>1</td>\n      <td>0</td>\n      <td>1</td>\n      <td>1</td>\n      <td>0</td>\n      <td>Jabaquara</td>\n      <td>São Paulo</td>\n    </tr>\n    <tr>\n      <th>13639</th>\n      <td>161987</td>\n      <td>0</td>\n      <td>44</td>\n      <td>2</td>\n      <td>1</td>\n      <td>0</td>\n      <td>1</td>\n      <td>0</td>\n      <td>0</td>\n      <td>0</td>\n      <td>0</td>\n      <td>Jardim Ângela</td>\n      <td>São Paulo</td>\n    </tr>\n  </tbody>\n</table>\n<p>6412 rows × 13 columns</p>\n</div>"
     },
     "execution_count": 128,
     "metadata": {},
     "output_type": "execute_result"
    }
   ],
   "source": [
    "final_df.rename(columns={0: 'District', 1: 'City'}, inplace=True)\n",
    "final_df"
   ],
   "metadata": {
    "collapsed": false,
    "pycharm": {
     "name": "#%%\n"
    }
   }
  },
  {
   "cell_type": "code",
   "execution_count": 129,
   "outputs": [
    {
     "data": {
      "text/plain": "array(['São Paulo'], dtype=object)"
     },
     "execution_count": 129,
     "metadata": {},
     "output_type": "execute_result"
    }
   ],
   "source": [
    "final_df[\"City\"].unique()"
   ],
   "metadata": {
    "collapsed": false,
    "pycharm": {
     "name": "#%%\n"
    }
   }
  },
  {
   "cell_type": "code",
   "execution_count": 130,
   "outputs": [
    {
     "data": {
      "text/plain": "         Price  Condo  Size  Rooms  Toilets  Suites  Parking  Elevator  \\\n4901    732600   1000    74      1        2       1        2         1   \n4902   1990000   2400   164      4        5       2        3         1   \n4903    720000    700    70      2        2       1        1         1   \n4904   1680000   1580   155      3        5       3        2         1   \n4905   1200000    900    56      2        2       1        2         0   \n...        ...    ...   ...    ...      ...     ...      ...       ...   \n13635   265000    420    51      2        1       0        1         0   \n13636   545000    630    74      3        2       1        2         0   \n13637   515000   1100   114      3        3       1        1         0   \n13638   345000     48    39      1        2       1        1         0   \n13639   161987      0    44      2        1       0        1         0   \n\n       Furnished  Swimming Pool  New       District  \n4901           0              1    0  Vila Madalena  \n4902           1              1    0  Vila Madalena  \n4903           0              1    1  Vila Madalena  \n4904           0              1    0  Vila Madalena  \n4905           1              1    0  Vila Madalena  \n...          ...            ...  ...            ...  \n13635          0              0    0      Jabaquara  \n13636          0              1    0      Jabaquara  \n13637          0              1    0      Jabaquara  \n13638          1              1    0      Jabaquara  \n13639          0              0    0  Jardim Ângela  \n\n[6412 rows x 12 columns]",
      "text/html": "<div>\n<style scoped>\n    .dataframe tbody tr th:only-of-type {\n        vertical-align: middle;\n    }\n\n    .dataframe tbody tr th {\n        vertical-align: top;\n    }\n\n    .dataframe thead th {\n        text-align: right;\n    }\n</style>\n<table border=\"1\" class=\"dataframe\">\n  <thead>\n    <tr style=\"text-align: right;\">\n      <th></th>\n      <th>Price</th>\n      <th>Condo</th>\n      <th>Size</th>\n      <th>Rooms</th>\n      <th>Toilets</th>\n      <th>Suites</th>\n      <th>Parking</th>\n      <th>Elevator</th>\n      <th>Furnished</th>\n      <th>Swimming Pool</th>\n      <th>New</th>\n      <th>District</th>\n    </tr>\n  </thead>\n  <tbody>\n    <tr>\n      <th>4901</th>\n      <td>732600</td>\n      <td>1000</td>\n      <td>74</td>\n      <td>1</td>\n      <td>2</td>\n      <td>1</td>\n      <td>2</td>\n      <td>1</td>\n      <td>0</td>\n      <td>1</td>\n      <td>0</td>\n      <td>Vila Madalena</td>\n    </tr>\n    <tr>\n      <th>4902</th>\n      <td>1990000</td>\n      <td>2400</td>\n      <td>164</td>\n      <td>4</td>\n      <td>5</td>\n      <td>2</td>\n      <td>3</td>\n      <td>1</td>\n      <td>1</td>\n      <td>1</td>\n      <td>0</td>\n      <td>Vila Madalena</td>\n    </tr>\n    <tr>\n      <th>4903</th>\n      <td>720000</td>\n      <td>700</td>\n      <td>70</td>\n      <td>2</td>\n      <td>2</td>\n      <td>1</td>\n      <td>1</td>\n      <td>1</td>\n      <td>0</td>\n      <td>1</td>\n      <td>1</td>\n      <td>Vila Madalena</td>\n    </tr>\n    <tr>\n      <th>4904</th>\n      <td>1680000</td>\n      <td>1580</td>\n      <td>155</td>\n      <td>3</td>\n      <td>5</td>\n      <td>3</td>\n      <td>2</td>\n      <td>1</td>\n      <td>0</td>\n      <td>1</td>\n      <td>0</td>\n      <td>Vila Madalena</td>\n    </tr>\n    <tr>\n      <th>4905</th>\n      <td>1200000</td>\n      <td>900</td>\n      <td>56</td>\n      <td>2</td>\n      <td>2</td>\n      <td>1</td>\n      <td>2</td>\n      <td>0</td>\n      <td>1</td>\n      <td>1</td>\n      <td>0</td>\n      <td>Vila Madalena</td>\n    </tr>\n    <tr>\n      <th>...</th>\n      <td>...</td>\n      <td>...</td>\n      <td>...</td>\n      <td>...</td>\n      <td>...</td>\n      <td>...</td>\n      <td>...</td>\n      <td>...</td>\n      <td>...</td>\n      <td>...</td>\n      <td>...</td>\n      <td>...</td>\n    </tr>\n    <tr>\n      <th>13635</th>\n      <td>265000</td>\n      <td>420</td>\n      <td>51</td>\n      <td>2</td>\n      <td>1</td>\n      <td>0</td>\n      <td>1</td>\n      <td>0</td>\n      <td>0</td>\n      <td>0</td>\n      <td>0</td>\n      <td>Jabaquara</td>\n    </tr>\n    <tr>\n      <th>13636</th>\n      <td>545000</td>\n      <td>630</td>\n      <td>74</td>\n      <td>3</td>\n      <td>2</td>\n      <td>1</td>\n      <td>2</td>\n      <td>0</td>\n      <td>0</td>\n      <td>1</td>\n      <td>0</td>\n      <td>Jabaquara</td>\n    </tr>\n    <tr>\n      <th>13637</th>\n      <td>515000</td>\n      <td>1100</td>\n      <td>114</td>\n      <td>3</td>\n      <td>3</td>\n      <td>1</td>\n      <td>1</td>\n      <td>0</td>\n      <td>0</td>\n      <td>1</td>\n      <td>0</td>\n      <td>Jabaquara</td>\n    </tr>\n    <tr>\n      <th>13638</th>\n      <td>345000</td>\n      <td>48</td>\n      <td>39</td>\n      <td>1</td>\n      <td>2</td>\n      <td>1</td>\n      <td>1</td>\n      <td>0</td>\n      <td>1</td>\n      <td>1</td>\n      <td>0</td>\n      <td>Jabaquara</td>\n    </tr>\n    <tr>\n      <th>13639</th>\n      <td>161987</td>\n      <td>0</td>\n      <td>44</td>\n      <td>2</td>\n      <td>1</td>\n      <td>0</td>\n      <td>1</td>\n      <td>0</td>\n      <td>0</td>\n      <td>0</td>\n      <td>0</td>\n      <td>Jardim Ângela</td>\n    </tr>\n  </tbody>\n</table>\n<p>6412 rows × 12 columns</p>\n</div>"
     },
     "execution_count": 130,
     "metadata": {},
     "output_type": "execute_result"
    }
   ],
   "source": [
    "final_df.drop(columns=[\"City\"], inplace=True)\n",
    "final_df"
   ],
   "metadata": {
    "collapsed": false,
    "pycharm": {
     "name": "#%%\n"
    }
   }
  },
  {
   "cell_type": "code",
   "execution_count": 131,
   "outputs": [
    {
     "data": {
      "text/plain": "array(['Vila Madalena', 'Mooca', 'Brooklin', 'Vila Olimpia',\n       'Barra Funda', 'Bela Vista', 'Bom Retiro', 'Brás', 'Consolação',\n       'Liberdade', 'Pari', 'República', 'Santa Cecília', 'Sé',\n       'Casa Verde', 'Jaçanã', 'Mandaqui', 'Santana', 'Tremembé',\n       'Tucuruvi', 'Vila Guilherme', 'Vila Maria', 'Medeiros',\n       'Água Rasa', 'Aricanduva', 'Artur Alvim', 'Belém', 'Cangaíba',\n       'Carrão', 'Cidade Líder', 'Cidade Tiradentes',\n       'Ermelino Matarazzo', 'Guaianazes', 'Iguatemi', 'Itaim Paulista',\n       'Itaquera', 'Jardim Helena', 'José Bonifácio', 'Lajeado',\n       'Parque do Carmo', 'Penha', 'Ponte Rasa', 'Sapopemba', 'São Lucas',\n       'São Mateus', 'São Miguel', 'São Rafael', 'Tatuapé', 'Vila Curuçá',\n       'Vila Formosa', 'Vila Jacuí', 'Vila Matilde', 'Vila Prudente',\n       'Cambuci', 'Campo Belo', 'Campo Grande', 'Campo Limpo',\n       'Capão Redondo', 'Cidade Ademar', 'Cidade Dutra', 'Cursino',\n       'Grajaú', 'Ipiranga', 'Itaim Bibi', 'Jabaquara', 'Jardim Ângela',\n       'Jardim Paulista', 'Jardim São Luis', 'Moema', 'Morumbi',\n       'Pedreira', 'Sacomã', 'Santo Amaro', 'Saúde', 'Socorro',\n       'Vila Andrade', 'Vila Mariana', 'Vila Sônia', 'Alto de Pinheiros',\n       'Anhanguera', 'Brasilândia', 'Butantã', 'Cachoeirinha',\n       'Freguesia do Ó', 'Jaguaré', 'Jaraguá', 'Lapa', 'Limão',\n       'Perdizes', 'Perus', 'Pinheiros', 'Pirituba', 'Raposo Tavares',\n       'Rio Pequeno', 'São Domingos', 'Vila Leopoldina'], dtype=object)"
     },
     "execution_count": 131,
     "metadata": {},
     "output_type": "execute_result"
    }
   ],
   "source": [
    "final_df[\"District\"].unique()"
   ],
   "metadata": {
    "collapsed": false,
    "pycharm": {
     "name": "#%%\n"
    }
   }
  },
  {
   "cell_type": "code",
   "execution_count": 132,
   "outputs": [
    {
     "data": {
      "text/plain": "       Alto de Pinheiros  Anhanguera  Aricanduva  Artur Alvim  Barra Funda  \\\n4901                   0           0           0            0            0   \n4902                   0           0           0            0            0   \n4903                   0           0           0            0            0   \n4904                   0           0           0            0            0   \n4905                   0           0           0            0            0   \n...                  ...         ...         ...          ...          ...   \n13635                  0           0           0            0            0   \n13636                  0           0           0            0            0   \n13637                  0           0           0            0            0   \n13638                  0           0           0            0            0   \n13639                  0           0           0            0            0   \n\n       Bela Vista  Belém  Bom Retiro  Brasilândia  Brooklin  ...  Vila Jacuí  \\\n4901            0      0           0            0         0  ...           0   \n4902            0      0           0            0         0  ...           0   \n4903            0      0           0            0         0  ...           0   \n4904            0      0           0            0         0  ...           0   \n4905            0      0           0            0         0  ...           0   \n...           ...    ...         ...          ...       ...  ...         ...   \n13635           0      0           0            0         0  ...           0   \n13636           0      0           0            0         0  ...           0   \n13637           0      0           0            0         0  ...           0   \n13638           0      0           0            0         0  ...           0   \n13639           0      0           0            0         0  ...           0   \n\n       Vila Leopoldina  Vila Madalena  Vila Maria  Vila Mariana  Vila Matilde  \\\n4901                 0              1           0             0             0   \n4902                 0              1           0             0             0   \n4903                 0              1           0             0             0   \n4904                 0              1           0             0             0   \n4905                 0              1           0             0             0   \n...                ...            ...         ...           ...           ...   \n13635                0              0           0             0             0   \n13636                0              0           0             0             0   \n13637                0              0           0             0             0   \n13638                0              0           0             0             0   \n13639                0              0           0             0             0   \n\n       Vila Olimpia  Vila Prudente  Vila Sônia  Água Rasa  \n4901              0              0           0          0  \n4902              0              0           0          0  \n4903              0              0           0          0  \n4904              0              0           0          0  \n4905              0              0           0          0  \n...             ...            ...         ...        ...  \n13635             0              0           0          0  \n13636             0              0           0          0  \n13637             0              0           0          0  \n13638             0              0           0          0  \n13639             0              0           0          0  \n\n[6412 rows x 96 columns]",
      "text/html": "<div>\n<style scoped>\n    .dataframe tbody tr th:only-of-type {\n        vertical-align: middle;\n    }\n\n    .dataframe tbody tr th {\n        vertical-align: top;\n    }\n\n    .dataframe thead th {\n        text-align: right;\n    }\n</style>\n<table border=\"1\" class=\"dataframe\">\n  <thead>\n    <tr style=\"text-align: right;\">\n      <th></th>\n      <th>Alto de Pinheiros</th>\n      <th>Anhanguera</th>\n      <th>Aricanduva</th>\n      <th>Artur Alvim</th>\n      <th>Barra Funda</th>\n      <th>Bela Vista</th>\n      <th>Belém</th>\n      <th>Bom Retiro</th>\n      <th>Brasilândia</th>\n      <th>Brooklin</th>\n      <th>...</th>\n      <th>Vila Jacuí</th>\n      <th>Vila Leopoldina</th>\n      <th>Vila Madalena</th>\n      <th>Vila Maria</th>\n      <th>Vila Mariana</th>\n      <th>Vila Matilde</th>\n      <th>Vila Olimpia</th>\n      <th>Vila Prudente</th>\n      <th>Vila Sônia</th>\n      <th>Água Rasa</th>\n    </tr>\n  </thead>\n  <tbody>\n    <tr>\n      <th>4901</th>\n      <td>0</td>\n      <td>0</td>\n      <td>0</td>\n      <td>0</td>\n      <td>0</td>\n      <td>0</td>\n      <td>0</td>\n      <td>0</td>\n      <td>0</td>\n      <td>0</td>\n      <td>...</td>\n      <td>0</td>\n      <td>0</td>\n      <td>1</td>\n      <td>0</td>\n      <td>0</td>\n      <td>0</td>\n      <td>0</td>\n      <td>0</td>\n      <td>0</td>\n      <td>0</td>\n    </tr>\n    <tr>\n      <th>4902</th>\n      <td>0</td>\n      <td>0</td>\n      <td>0</td>\n      <td>0</td>\n      <td>0</td>\n      <td>0</td>\n      <td>0</td>\n      <td>0</td>\n      <td>0</td>\n      <td>0</td>\n      <td>...</td>\n      <td>0</td>\n      <td>0</td>\n      <td>1</td>\n      <td>0</td>\n      <td>0</td>\n      <td>0</td>\n      <td>0</td>\n      <td>0</td>\n      <td>0</td>\n      <td>0</td>\n    </tr>\n    <tr>\n      <th>4903</th>\n      <td>0</td>\n      <td>0</td>\n      <td>0</td>\n      <td>0</td>\n      <td>0</td>\n      <td>0</td>\n      <td>0</td>\n      <td>0</td>\n      <td>0</td>\n      <td>0</td>\n      <td>...</td>\n      <td>0</td>\n      <td>0</td>\n      <td>1</td>\n      <td>0</td>\n      <td>0</td>\n      <td>0</td>\n      <td>0</td>\n      <td>0</td>\n      <td>0</td>\n      <td>0</td>\n    </tr>\n    <tr>\n      <th>4904</th>\n      <td>0</td>\n      <td>0</td>\n      <td>0</td>\n      <td>0</td>\n      <td>0</td>\n      <td>0</td>\n      <td>0</td>\n      <td>0</td>\n      <td>0</td>\n      <td>0</td>\n      <td>...</td>\n      <td>0</td>\n      <td>0</td>\n      <td>1</td>\n      <td>0</td>\n      <td>0</td>\n      <td>0</td>\n      <td>0</td>\n      <td>0</td>\n      <td>0</td>\n      <td>0</td>\n    </tr>\n    <tr>\n      <th>4905</th>\n      <td>0</td>\n      <td>0</td>\n      <td>0</td>\n      <td>0</td>\n      <td>0</td>\n      <td>0</td>\n      <td>0</td>\n      <td>0</td>\n      <td>0</td>\n      <td>0</td>\n      <td>...</td>\n      <td>0</td>\n      <td>0</td>\n      <td>1</td>\n      <td>0</td>\n      <td>0</td>\n      <td>0</td>\n      <td>0</td>\n      <td>0</td>\n      <td>0</td>\n      <td>0</td>\n    </tr>\n    <tr>\n      <th>...</th>\n      <td>...</td>\n      <td>...</td>\n      <td>...</td>\n      <td>...</td>\n      <td>...</td>\n      <td>...</td>\n      <td>...</td>\n      <td>...</td>\n      <td>...</td>\n      <td>...</td>\n      <td>...</td>\n      <td>...</td>\n      <td>...</td>\n      <td>...</td>\n      <td>...</td>\n      <td>...</td>\n      <td>...</td>\n      <td>...</td>\n      <td>...</td>\n      <td>...</td>\n      <td>...</td>\n    </tr>\n    <tr>\n      <th>13635</th>\n      <td>0</td>\n      <td>0</td>\n      <td>0</td>\n      <td>0</td>\n      <td>0</td>\n      <td>0</td>\n      <td>0</td>\n      <td>0</td>\n      <td>0</td>\n      <td>0</td>\n      <td>...</td>\n      <td>0</td>\n      <td>0</td>\n      <td>0</td>\n      <td>0</td>\n      <td>0</td>\n      <td>0</td>\n      <td>0</td>\n      <td>0</td>\n      <td>0</td>\n      <td>0</td>\n    </tr>\n    <tr>\n      <th>13636</th>\n      <td>0</td>\n      <td>0</td>\n      <td>0</td>\n      <td>0</td>\n      <td>0</td>\n      <td>0</td>\n      <td>0</td>\n      <td>0</td>\n      <td>0</td>\n      <td>0</td>\n      <td>...</td>\n      <td>0</td>\n      <td>0</td>\n      <td>0</td>\n      <td>0</td>\n      <td>0</td>\n      <td>0</td>\n      <td>0</td>\n      <td>0</td>\n      <td>0</td>\n      <td>0</td>\n    </tr>\n    <tr>\n      <th>13637</th>\n      <td>0</td>\n      <td>0</td>\n      <td>0</td>\n      <td>0</td>\n      <td>0</td>\n      <td>0</td>\n      <td>0</td>\n      <td>0</td>\n      <td>0</td>\n      <td>0</td>\n      <td>...</td>\n      <td>0</td>\n      <td>0</td>\n      <td>0</td>\n      <td>0</td>\n      <td>0</td>\n      <td>0</td>\n      <td>0</td>\n      <td>0</td>\n      <td>0</td>\n      <td>0</td>\n    </tr>\n    <tr>\n      <th>13638</th>\n      <td>0</td>\n      <td>0</td>\n      <td>0</td>\n      <td>0</td>\n      <td>0</td>\n      <td>0</td>\n      <td>0</td>\n      <td>0</td>\n      <td>0</td>\n      <td>0</td>\n      <td>...</td>\n      <td>0</td>\n      <td>0</td>\n      <td>0</td>\n      <td>0</td>\n      <td>0</td>\n      <td>0</td>\n      <td>0</td>\n      <td>0</td>\n      <td>0</td>\n      <td>0</td>\n    </tr>\n    <tr>\n      <th>13639</th>\n      <td>0</td>\n      <td>0</td>\n      <td>0</td>\n      <td>0</td>\n      <td>0</td>\n      <td>0</td>\n      <td>0</td>\n      <td>0</td>\n      <td>0</td>\n      <td>0</td>\n      <td>...</td>\n      <td>0</td>\n      <td>0</td>\n      <td>0</td>\n      <td>0</td>\n      <td>0</td>\n      <td>0</td>\n      <td>0</td>\n      <td>0</td>\n      <td>0</td>\n      <td>0</td>\n    </tr>\n  </tbody>\n</table>\n<p>6412 rows × 96 columns</p>\n</div>"
     },
     "execution_count": 132,
     "metadata": {},
     "output_type": "execute_result"
    }
   ],
   "source": [
    "district_dummies = pd.get_dummies(final_df[\"District\"])\n",
    "district_dummies"
   ],
   "metadata": {
    "collapsed": false,
    "pycharm": {
     "name": "#%%\n"
    }
   }
  },
  {
   "cell_type": "code",
   "execution_count": 133,
   "outputs": [
    {
     "data": {
      "text/plain": "         Price  Condo  Size  Rooms  Toilets  Suites  Parking  Elevator  \\\n4901    732600   1000    74      1        2       1        2         1   \n4902   1990000   2400   164      4        5       2        3         1   \n4903    720000    700    70      2        2       1        1         1   \n4904   1680000   1580   155      3        5       3        2         1   \n4905   1200000    900    56      2        2       1        2         0   \n...        ...    ...   ...    ...      ...     ...      ...       ...   \n13635   265000    420    51      2        1       0        1         0   \n13636   545000    630    74      3        2       1        2         0   \n13637   515000   1100   114      3        3       1        1         0   \n13638   345000     48    39      1        2       1        1         0   \n13639   161987      0    44      2        1       0        1         0   \n\n       Furnished  Swimming Pool  New       District  \n4901           0              1    0  Vila Madalena  \n4902           1              1    0  Vila Madalena  \n4903           0              1    1  Vila Madalena  \n4904           0              1    0  Vila Madalena  \n4905           1              1    0  Vila Madalena  \n...          ...            ...  ...            ...  \n13635          0              0    0      Jabaquara  \n13636          0              1    0      Jabaquara  \n13637          0              1    0      Jabaquara  \n13638          1              1    0      Jabaquara  \n13639          0              0    0  Jardim Ângela  \n\n[6412 rows x 12 columns]",
      "text/html": "<div>\n<style scoped>\n    .dataframe tbody tr th:only-of-type {\n        vertical-align: middle;\n    }\n\n    .dataframe tbody tr th {\n        vertical-align: top;\n    }\n\n    .dataframe thead th {\n        text-align: right;\n    }\n</style>\n<table border=\"1\" class=\"dataframe\">\n  <thead>\n    <tr style=\"text-align: right;\">\n      <th></th>\n      <th>Price</th>\n      <th>Condo</th>\n      <th>Size</th>\n      <th>Rooms</th>\n      <th>Toilets</th>\n      <th>Suites</th>\n      <th>Parking</th>\n      <th>Elevator</th>\n      <th>Furnished</th>\n      <th>Swimming Pool</th>\n      <th>New</th>\n      <th>District</th>\n    </tr>\n  </thead>\n  <tbody>\n    <tr>\n      <th>4901</th>\n      <td>732600</td>\n      <td>1000</td>\n      <td>74</td>\n      <td>1</td>\n      <td>2</td>\n      <td>1</td>\n      <td>2</td>\n      <td>1</td>\n      <td>0</td>\n      <td>1</td>\n      <td>0</td>\n      <td>Vila Madalena</td>\n    </tr>\n    <tr>\n      <th>4902</th>\n      <td>1990000</td>\n      <td>2400</td>\n      <td>164</td>\n      <td>4</td>\n      <td>5</td>\n      <td>2</td>\n      <td>3</td>\n      <td>1</td>\n      <td>1</td>\n      <td>1</td>\n      <td>0</td>\n      <td>Vila Madalena</td>\n    </tr>\n    <tr>\n      <th>4903</th>\n      <td>720000</td>\n      <td>700</td>\n      <td>70</td>\n      <td>2</td>\n      <td>2</td>\n      <td>1</td>\n      <td>1</td>\n      <td>1</td>\n      <td>0</td>\n      <td>1</td>\n      <td>1</td>\n      <td>Vila Madalena</td>\n    </tr>\n    <tr>\n      <th>4904</th>\n      <td>1680000</td>\n      <td>1580</td>\n      <td>155</td>\n      <td>3</td>\n      <td>5</td>\n      <td>3</td>\n      <td>2</td>\n      <td>1</td>\n      <td>0</td>\n      <td>1</td>\n      <td>0</td>\n      <td>Vila Madalena</td>\n    </tr>\n    <tr>\n      <th>4905</th>\n      <td>1200000</td>\n      <td>900</td>\n      <td>56</td>\n      <td>2</td>\n      <td>2</td>\n      <td>1</td>\n      <td>2</td>\n      <td>0</td>\n      <td>1</td>\n      <td>1</td>\n      <td>0</td>\n      <td>Vila Madalena</td>\n    </tr>\n    <tr>\n      <th>...</th>\n      <td>...</td>\n      <td>...</td>\n      <td>...</td>\n      <td>...</td>\n      <td>...</td>\n      <td>...</td>\n      <td>...</td>\n      <td>...</td>\n      <td>...</td>\n      <td>...</td>\n      <td>...</td>\n      <td>...</td>\n    </tr>\n    <tr>\n      <th>13635</th>\n      <td>265000</td>\n      <td>420</td>\n      <td>51</td>\n      <td>2</td>\n      <td>1</td>\n      <td>0</td>\n      <td>1</td>\n      <td>0</td>\n      <td>0</td>\n      <td>0</td>\n      <td>0</td>\n      <td>Jabaquara</td>\n    </tr>\n    <tr>\n      <th>13636</th>\n      <td>545000</td>\n      <td>630</td>\n      <td>74</td>\n      <td>3</td>\n      <td>2</td>\n      <td>1</td>\n      <td>2</td>\n      <td>0</td>\n      <td>0</td>\n      <td>1</td>\n      <td>0</td>\n      <td>Jabaquara</td>\n    </tr>\n    <tr>\n      <th>13637</th>\n      <td>515000</td>\n      <td>1100</td>\n      <td>114</td>\n      <td>3</td>\n      <td>3</td>\n      <td>1</td>\n      <td>1</td>\n      <td>0</td>\n      <td>0</td>\n      <td>1</td>\n      <td>0</td>\n      <td>Jabaquara</td>\n    </tr>\n    <tr>\n      <th>13638</th>\n      <td>345000</td>\n      <td>48</td>\n      <td>39</td>\n      <td>1</td>\n      <td>2</td>\n      <td>1</td>\n      <td>1</td>\n      <td>0</td>\n      <td>1</td>\n      <td>1</td>\n      <td>0</td>\n      <td>Jabaquara</td>\n    </tr>\n    <tr>\n      <th>13639</th>\n      <td>161987</td>\n      <td>0</td>\n      <td>44</td>\n      <td>2</td>\n      <td>1</td>\n      <td>0</td>\n      <td>1</td>\n      <td>0</td>\n      <td>0</td>\n      <td>0</td>\n      <td>0</td>\n      <td>Jardim Ângela</td>\n    </tr>\n  </tbody>\n</table>\n<p>6412 rows × 12 columns</p>\n</div>"
     },
     "execution_count": 133,
     "metadata": {},
     "output_type": "execute_result"
    }
   ],
   "source": [
    "final_df"
   ],
   "metadata": {
    "collapsed": false,
    "pycharm": {
     "name": "#%%\n"
    }
   }
  },
  {
   "cell_type": "code",
   "execution_count": 134,
   "outputs": [
    {
     "data": {
      "text/plain": "         Price  Condo  Size  Rooms  Toilets  Suites  Parking  Elevator  \\\n4901    732600   1000    74      1        2       1        2         1   \n4902   1990000   2400   164      4        5       2        3         1   \n4903    720000    700    70      2        2       1        1         1   \n4904   1680000   1580   155      3        5       3        2         1   \n4905   1200000    900    56      2        2       1        2         0   \n...        ...    ...   ...    ...      ...     ...      ...       ...   \n13635   265000    420    51      2        1       0        1         0   \n13636   545000    630    74      3        2       1        2         0   \n13637   515000   1100   114      3        3       1        1         0   \n13638   345000     48    39      1        2       1        1         0   \n13639   161987      0    44      2        1       0        1         0   \n\n       Furnished  Swimming Pool  New  \n4901           0              1    0  \n4902           1              1    0  \n4903           0              1    1  \n4904           0              1    0  \n4905           1              1    0  \n...          ...            ...  ...  \n13635          0              0    0  \n13636          0              1    0  \n13637          0              1    0  \n13638          1              1    0  \n13639          0              0    0  \n\n[6412 rows x 11 columns]",
      "text/html": "<div>\n<style scoped>\n    .dataframe tbody tr th:only-of-type {\n        vertical-align: middle;\n    }\n\n    .dataframe tbody tr th {\n        vertical-align: top;\n    }\n\n    .dataframe thead th {\n        text-align: right;\n    }\n</style>\n<table border=\"1\" class=\"dataframe\">\n  <thead>\n    <tr style=\"text-align: right;\">\n      <th></th>\n      <th>Price</th>\n      <th>Condo</th>\n      <th>Size</th>\n      <th>Rooms</th>\n      <th>Toilets</th>\n      <th>Suites</th>\n      <th>Parking</th>\n      <th>Elevator</th>\n      <th>Furnished</th>\n      <th>Swimming Pool</th>\n      <th>New</th>\n    </tr>\n  </thead>\n  <tbody>\n    <tr>\n      <th>4901</th>\n      <td>732600</td>\n      <td>1000</td>\n      <td>74</td>\n      <td>1</td>\n      <td>2</td>\n      <td>1</td>\n      <td>2</td>\n      <td>1</td>\n      <td>0</td>\n      <td>1</td>\n      <td>0</td>\n    </tr>\n    <tr>\n      <th>4902</th>\n      <td>1990000</td>\n      <td>2400</td>\n      <td>164</td>\n      <td>4</td>\n      <td>5</td>\n      <td>2</td>\n      <td>3</td>\n      <td>1</td>\n      <td>1</td>\n      <td>1</td>\n      <td>0</td>\n    </tr>\n    <tr>\n      <th>4903</th>\n      <td>720000</td>\n      <td>700</td>\n      <td>70</td>\n      <td>2</td>\n      <td>2</td>\n      <td>1</td>\n      <td>1</td>\n      <td>1</td>\n      <td>0</td>\n      <td>1</td>\n      <td>1</td>\n    </tr>\n    <tr>\n      <th>4904</th>\n      <td>1680000</td>\n      <td>1580</td>\n      <td>155</td>\n      <td>3</td>\n      <td>5</td>\n      <td>3</td>\n      <td>2</td>\n      <td>1</td>\n      <td>0</td>\n      <td>1</td>\n      <td>0</td>\n    </tr>\n    <tr>\n      <th>4905</th>\n      <td>1200000</td>\n      <td>900</td>\n      <td>56</td>\n      <td>2</td>\n      <td>2</td>\n      <td>1</td>\n      <td>2</td>\n      <td>0</td>\n      <td>1</td>\n      <td>1</td>\n      <td>0</td>\n    </tr>\n    <tr>\n      <th>...</th>\n      <td>...</td>\n      <td>...</td>\n      <td>...</td>\n      <td>...</td>\n      <td>...</td>\n      <td>...</td>\n      <td>...</td>\n      <td>...</td>\n      <td>...</td>\n      <td>...</td>\n      <td>...</td>\n    </tr>\n    <tr>\n      <th>13635</th>\n      <td>265000</td>\n      <td>420</td>\n      <td>51</td>\n      <td>2</td>\n      <td>1</td>\n      <td>0</td>\n      <td>1</td>\n      <td>0</td>\n      <td>0</td>\n      <td>0</td>\n      <td>0</td>\n    </tr>\n    <tr>\n      <th>13636</th>\n      <td>545000</td>\n      <td>630</td>\n      <td>74</td>\n      <td>3</td>\n      <td>2</td>\n      <td>1</td>\n      <td>2</td>\n      <td>0</td>\n      <td>0</td>\n      <td>1</td>\n      <td>0</td>\n    </tr>\n    <tr>\n      <th>13637</th>\n      <td>515000</td>\n      <td>1100</td>\n      <td>114</td>\n      <td>3</td>\n      <td>3</td>\n      <td>1</td>\n      <td>1</td>\n      <td>0</td>\n      <td>0</td>\n      <td>1</td>\n      <td>0</td>\n    </tr>\n    <tr>\n      <th>13638</th>\n      <td>345000</td>\n      <td>48</td>\n      <td>39</td>\n      <td>1</td>\n      <td>2</td>\n      <td>1</td>\n      <td>1</td>\n      <td>0</td>\n      <td>1</td>\n      <td>1</td>\n      <td>0</td>\n    </tr>\n    <tr>\n      <th>13639</th>\n      <td>161987</td>\n      <td>0</td>\n      <td>44</td>\n      <td>2</td>\n      <td>1</td>\n      <td>0</td>\n      <td>1</td>\n      <td>0</td>\n      <td>0</td>\n      <td>0</td>\n      <td>0</td>\n    </tr>\n  </tbody>\n</table>\n<p>6412 rows × 11 columns</p>\n</div>"
     },
     "execution_count": 134,
     "metadata": {},
     "output_type": "execute_result"
    }
   ],
   "source": [
    "districtless_df = final_df.drop(columns=[\"District\"])\n",
    "districtless_df"
   ],
   "metadata": {
    "collapsed": false,
    "pycharm": {
     "name": "#%%\n"
    }
   }
  },
  {
   "cell_type": "code",
   "execution_count": 135,
   "outputs": [],
   "source": [
    "original_df = final_df"
   ],
   "metadata": {
    "collapsed": false,
    "pycharm": {
     "name": "#%%\n"
    }
   }
  },
  {
   "cell_type": "code",
   "execution_count": 136,
   "outputs": [
    {
     "data": {
      "text/plain": "         Price  Condo  Size  Rooms  Toilets  Suites  Parking  Elevator  \\\n4901    732600   1000    74      1        2       1        2         1   \n4902   1990000   2400   164      4        5       2        3         1   \n4903    720000    700    70      2        2       1        1         1   \n4904   1680000   1580   155      3        5       3        2         1   \n4905   1200000    900    56      2        2       1        2         0   \n...        ...    ...   ...    ...      ...     ...      ...       ...   \n13635   265000    420    51      2        1       0        1         0   \n13636   545000    630    74      3        2       1        2         0   \n13637   515000   1100   114      3        3       1        1         0   \n13638   345000     48    39      1        2       1        1         0   \n13639   161987      0    44      2        1       0        1         0   \n\n       Furnished  Swimming Pool  ...  Vila Jacuí  Vila Leopoldina  \\\n4901           0              1  ...           0                0   \n4902           1              1  ...           0                0   \n4903           0              1  ...           0                0   \n4904           0              1  ...           0                0   \n4905           1              1  ...           0                0   \n...          ...            ...  ...         ...              ...   \n13635          0              0  ...           0                0   \n13636          0              1  ...           0                0   \n13637          0              1  ...           0                0   \n13638          1              1  ...           0                0   \n13639          0              0  ...           0                0   \n\n       Vila Madalena  Vila Maria  Vila Mariana  Vila Matilde  Vila Olimpia  \\\n4901               1           0             0             0             0   \n4902               1           0             0             0             0   \n4903               1           0             0             0             0   \n4904               1           0             0             0             0   \n4905               1           0             0             0             0   \n...              ...         ...           ...           ...           ...   \n13635              0           0             0             0             0   \n13636              0           0             0             0             0   \n13637              0           0             0             0             0   \n13638              0           0             0             0             0   \n13639              0           0             0             0             0   \n\n       Vila Prudente  Vila Sônia  Água Rasa  \n4901               0           0          0  \n4902               0           0          0  \n4903               0           0          0  \n4904               0           0          0  \n4905               0           0          0  \n...              ...         ...        ...  \n13635              0           0          0  \n13636              0           0          0  \n13637              0           0          0  \n13638              0           0          0  \n13639              0           0          0  \n\n[6412 rows x 107 columns]",
      "text/html": "<div>\n<style scoped>\n    .dataframe tbody tr th:only-of-type {\n        vertical-align: middle;\n    }\n\n    .dataframe tbody tr th {\n        vertical-align: top;\n    }\n\n    .dataframe thead th {\n        text-align: right;\n    }\n</style>\n<table border=\"1\" class=\"dataframe\">\n  <thead>\n    <tr style=\"text-align: right;\">\n      <th></th>\n      <th>Price</th>\n      <th>Condo</th>\n      <th>Size</th>\n      <th>Rooms</th>\n      <th>Toilets</th>\n      <th>Suites</th>\n      <th>Parking</th>\n      <th>Elevator</th>\n      <th>Furnished</th>\n      <th>Swimming Pool</th>\n      <th>...</th>\n      <th>Vila Jacuí</th>\n      <th>Vila Leopoldina</th>\n      <th>Vila Madalena</th>\n      <th>Vila Maria</th>\n      <th>Vila Mariana</th>\n      <th>Vila Matilde</th>\n      <th>Vila Olimpia</th>\n      <th>Vila Prudente</th>\n      <th>Vila Sônia</th>\n      <th>Água Rasa</th>\n    </tr>\n  </thead>\n  <tbody>\n    <tr>\n      <th>4901</th>\n      <td>732600</td>\n      <td>1000</td>\n      <td>74</td>\n      <td>1</td>\n      <td>2</td>\n      <td>1</td>\n      <td>2</td>\n      <td>1</td>\n      <td>0</td>\n      <td>1</td>\n      <td>...</td>\n      <td>0</td>\n      <td>0</td>\n      <td>1</td>\n      <td>0</td>\n      <td>0</td>\n      <td>0</td>\n      <td>0</td>\n      <td>0</td>\n      <td>0</td>\n      <td>0</td>\n    </tr>\n    <tr>\n      <th>4902</th>\n      <td>1990000</td>\n      <td>2400</td>\n      <td>164</td>\n      <td>4</td>\n      <td>5</td>\n      <td>2</td>\n      <td>3</td>\n      <td>1</td>\n      <td>1</td>\n      <td>1</td>\n      <td>...</td>\n      <td>0</td>\n      <td>0</td>\n      <td>1</td>\n      <td>0</td>\n      <td>0</td>\n      <td>0</td>\n      <td>0</td>\n      <td>0</td>\n      <td>0</td>\n      <td>0</td>\n    </tr>\n    <tr>\n      <th>4903</th>\n      <td>720000</td>\n      <td>700</td>\n      <td>70</td>\n      <td>2</td>\n      <td>2</td>\n      <td>1</td>\n      <td>1</td>\n      <td>1</td>\n      <td>0</td>\n      <td>1</td>\n      <td>...</td>\n      <td>0</td>\n      <td>0</td>\n      <td>1</td>\n      <td>0</td>\n      <td>0</td>\n      <td>0</td>\n      <td>0</td>\n      <td>0</td>\n      <td>0</td>\n      <td>0</td>\n    </tr>\n    <tr>\n      <th>4904</th>\n      <td>1680000</td>\n      <td>1580</td>\n      <td>155</td>\n      <td>3</td>\n      <td>5</td>\n      <td>3</td>\n      <td>2</td>\n      <td>1</td>\n      <td>0</td>\n      <td>1</td>\n      <td>...</td>\n      <td>0</td>\n      <td>0</td>\n      <td>1</td>\n      <td>0</td>\n      <td>0</td>\n      <td>0</td>\n      <td>0</td>\n      <td>0</td>\n      <td>0</td>\n      <td>0</td>\n    </tr>\n    <tr>\n      <th>4905</th>\n      <td>1200000</td>\n      <td>900</td>\n      <td>56</td>\n      <td>2</td>\n      <td>2</td>\n      <td>1</td>\n      <td>2</td>\n      <td>0</td>\n      <td>1</td>\n      <td>1</td>\n      <td>...</td>\n      <td>0</td>\n      <td>0</td>\n      <td>1</td>\n      <td>0</td>\n      <td>0</td>\n      <td>0</td>\n      <td>0</td>\n      <td>0</td>\n      <td>0</td>\n      <td>0</td>\n    </tr>\n    <tr>\n      <th>...</th>\n      <td>...</td>\n      <td>...</td>\n      <td>...</td>\n      <td>...</td>\n      <td>...</td>\n      <td>...</td>\n      <td>...</td>\n      <td>...</td>\n      <td>...</td>\n      <td>...</td>\n      <td>...</td>\n      <td>...</td>\n      <td>...</td>\n      <td>...</td>\n      <td>...</td>\n      <td>...</td>\n      <td>...</td>\n      <td>...</td>\n      <td>...</td>\n      <td>...</td>\n      <td>...</td>\n    </tr>\n    <tr>\n      <th>13635</th>\n      <td>265000</td>\n      <td>420</td>\n      <td>51</td>\n      <td>2</td>\n      <td>1</td>\n      <td>0</td>\n      <td>1</td>\n      <td>0</td>\n      <td>0</td>\n      <td>0</td>\n      <td>...</td>\n      <td>0</td>\n      <td>0</td>\n      <td>0</td>\n      <td>0</td>\n      <td>0</td>\n      <td>0</td>\n      <td>0</td>\n      <td>0</td>\n      <td>0</td>\n      <td>0</td>\n    </tr>\n    <tr>\n      <th>13636</th>\n      <td>545000</td>\n      <td>630</td>\n      <td>74</td>\n      <td>3</td>\n      <td>2</td>\n      <td>1</td>\n      <td>2</td>\n      <td>0</td>\n      <td>0</td>\n      <td>1</td>\n      <td>...</td>\n      <td>0</td>\n      <td>0</td>\n      <td>0</td>\n      <td>0</td>\n      <td>0</td>\n      <td>0</td>\n      <td>0</td>\n      <td>0</td>\n      <td>0</td>\n      <td>0</td>\n    </tr>\n    <tr>\n      <th>13637</th>\n      <td>515000</td>\n      <td>1100</td>\n      <td>114</td>\n      <td>3</td>\n      <td>3</td>\n      <td>1</td>\n      <td>1</td>\n      <td>0</td>\n      <td>0</td>\n      <td>1</td>\n      <td>...</td>\n      <td>0</td>\n      <td>0</td>\n      <td>0</td>\n      <td>0</td>\n      <td>0</td>\n      <td>0</td>\n      <td>0</td>\n      <td>0</td>\n      <td>0</td>\n      <td>0</td>\n    </tr>\n    <tr>\n      <th>13638</th>\n      <td>345000</td>\n      <td>48</td>\n      <td>39</td>\n      <td>1</td>\n      <td>2</td>\n      <td>1</td>\n      <td>1</td>\n      <td>0</td>\n      <td>1</td>\n      <td>1</td>\n      <td>...</td>\n      <td>0</td>\n      <td>0</td>\n      <td>0</td>\n      <td>0</td>\n      <td>0</td>\n      <td>0</td>\n      <td>0</td>\n      <td>0</td>\n      <td>0</td>\n      <td>0</td>\n    </tr>\n    <tr>\n      <th>13639</th>\n      <td>161987</td>\n      <td>0</td>\n      <td>44</td>\n      <td>2</td>\n      <td>1</td>\n      <td>0</td>\n      <td>1</td>\n      <td>0</td>\n      <td>0</td>\n      <td>0</td>\n      <td>...</td>\n      <td>0</td>\n      <td>0</td>\n      <td>0</td>\n      <td>0</td>\n      <td>0</td>\n      <td>0</td>\n      <td>0</td>\n      <td>0</td>\n      <td>0</td>\n      <td>0</td>\n    </tr>\n  </tbody>\n</table>\n<p>6412 rows × 107 columns</p>\n</div>"
     },
     "execution_count": 136,
     "metadata": {},
     "output_type": "execute_result"
    }
   ],
   "source": [
    "complete_df = pd.concat([districtless_df, district_dummies], axis=1)\n",
    "complete_df"
   ],
   "metadata": {
    "collapsed": false,
    "pycharm": {
     "name": "#%%\n"
    }
   }
  },
  {
   "cell_type": "code",
   "execution_count": 227,
   "outputs": [],
   "source": [
    "# x = districtless_df.drop(columns=[\"Price\"])\n",
    "# y = districtless_df[\"Price\"]\n",
    "\n",
    "x = complete_df.drop(columns=[\"Price\", \"Condo\"])\n",
    "y = complete_df[\"Price\"]\n",
    "\n",
    "x_train, x_test, y_train, y_test = train_test_split(x, y, test_size=0.2, random_state=22)"
   ],
   "metadata": {
    "collapsed": false,
    "pycharm": {
     "name": "#%%\n"
    }
   }
  },
  {
   "cell_type": "code",
   "execution_count": 228,
   "outputs": [
    {
     "data": {
      "text/plain": "       Size  Rooms  Toilets  Suites  Parking  Elevator  Furnished  \\\n4901     74      1        2       1        2         1          0   \n4902    164      4        5       2        3         1          1   \n4903     70      2        2       1        1         1          0   \n4904    155      3        5       3        2         1          0   \n4905     56      2        2       1        2         0          1   \n...     ...    ...      ...     ...      ...       ...        ...   \n13635    51      2        1       0        1         0          0   \n13636    74      3        2       1        2         0          0   \n13637   114      3        3       1        1         0          0   \n13638    39      1        2       1        1         0          1   \n13639    44      2        1       0        1         0          0   \n\n       Swimming Pool  New  Alto de Pinheiros  ...  Vila Jacuí  \\\n4901               1    0                  0  ...           0   \n4902               1    0                  0  ...           0   \n4903               1    1                  0  ...           0   \n4904               1    0                  0  ...           0   \n4905               1    0                  0  ...           0   \n...              ...  ...                ...  ...         ...   \n13635              0    0                  0  ...           0   \n13636              1    0                  0  ...           0   \n13637              1    0                  0  ...           0   \n13638              1    0                  0  ...           0   \n13639              0    0                  0  ...           0   \n\n       Vila Leopoldina  Vila Madalena  Vila Maria  Vila Mariana  Vila Matilde  \\\n4901                 0              1           0             0             0   \n4902                 0              1           0             0             0   \n4903                 0              1           0             0             0   \n4904                 0              1           0             0             0   \n4905                 0              1           0             0             0   \n...                ...            ...         ...           ...           ...   \n13635                0              0           0             0             0   \n13636                0              0           0             0             0   \n13637                0              0           0             0             0   \n13638                0              0           0             0             0   \n13639                0              0           0             0             0   \n\n       Vila Olimpia  Vila Prudente  Vila Sônia  Água Rasa  \n4901              0              0           0          0  \n4902              0              0           0          0  \n4903              0              0           0          0  \n4904              0              0           0          0  \n4905              0              0           0          0  \n...             ...            ...         ...        ...  \n13635             0              0           0          0  \n13636             0              0           0          0  \n13637             0              0           0          0  \n13638             0              0           0          0  \n13639             0              0           0          0  \n\n[6412 rows x 105 columns]",
      "text/html": "<div>\n<style scoped>\n    .dataframe tbody tr th:only-of-type {\n        vertical-align: middle;\n    }\n\n    .dataframe tbody tr th {\n        vertical-align: top;\n    }\n\n    .dataframe thead th {\n        text-align: right;\n    }\n</style>\n<table border=\"1\" class=\"dataframe\">\n  <thead>\n    <tr style=\"text-align: right;\">\n      <th></th>\n      <th>Size</th>\n      <th>Rooms</th>\n      <th>Toilets</th>\n      <th>Suites</th>\n      <th>Parking</th>\n      <th>Elevator</th>\n      <th>Furnished</th>\n      <th>Swimming Pool</th>\n      <th>New</th>\n      <th>Alto de Pinheiros</th>\n      <th>...</th>\n      <th>Vila Jacuí</th>\n      <th>Vila Leopoldina</th>\n      <th>Vila Madalena</th>\n      <th>Vila Maria</th>\n      <th>Vila Mariana</th>\n      <th>Vila Matilde</th>\n      <th>Vila Olimpia</th>\n      <th>Vila Prudente</th>\n      <th>Vila Sônia</th>\n      <th>Água Rasa</th>\n    </tr>\n  </thead>\n  <tbody>\n    <tr>\n      <th>4901</th>\n      <td>74</td>\n      <td>1</td>\n      <td>2</td>\n      <td>1</td>\n      <td>2</td>\n      <td>1</td>\n      <td>0</td>\n      <td>1</td>\n      <td>0</td>\n      <td>0</td>\n      <td>...</td>\n      <td>0</td>\n      <td>0</td>\n      <td>1</td>\n      <td>0</td>\n      <td>0</td>\n      <td>0</td>\n      <td>0</td>\n      <td>0</td>\n      <td>0</td>\n      <td>0</td>\n    </tr>\n    <tr>\n      <th>4902</th>\n      <td>164</td>\n      <td>4</td>\n      <td>5</td>\n      <td>2</td>\n      <td>3</td>\n      <td>1</td>\n      <td>1</td>\n      <td>1</td>\n      <td>0</td>\n      <td>0</td>\n      <td>...</td>\n      <td>0</td>\n      <td>0</td>\n      <td>1</td>\n      <td>0</td>\n      <td>0</td>\n      <td>0</td>\n      <td>0</td>\n      <td>0</td>\n      <td>0</td>\n      <td>0</td>\n    </tr>\n    <tr>\n      <th>4903</th>\n      <td>70</td>\n      <td>2</td>\n      <td>2</td>\n      <td>1</td>\n      <td>1</td>\n      <td>1</td>\n      <td>0</td>\n      <td>1</td>\n      <td>1</td>\n      <td>0</td>\n      <td>...</td>\n      <td>0</td>\n      <td>0</td>\n      <td>1</td>\n      <td>0</td>\n      <td>0</td>\n      <td>0</td>\n      <td>0</td>\n      <td>0</td>\n      <td>0</td>\n      <td>0</td>\n    </tr>\n    <tr>\n      <th>4904</th>\n      <td>155</td>\n      <td>3</td>\n      <td>5</td>\n      <td>3</td>\n      <td>2</td>\n      <td>1</td>\n      <td>0</td>\n      <td>1</td>\n      <td>0</td>\n      <td>0</td>\n      <td>...</td>\n      <td>0</td>\n      <td>0</td>\n      <td>1</td>\n      <td>0</td>\n      <td>0</td>\n      <td>0</td>\n      <td>0</td>\n      <td>0</td>\n      <td>0</td>\n      <td>0</td>\n    </tr>\n    <tr>\n      <th>4905</th>\n      <td>56</td>\n      <td>2</td>\n      <td>2</td>\n      <td>1</td>\n      <td>2</td>\n      <td>0</td>\n      <td>1</td>\n      <td>1</td>\n      <td>0</td>\n      <td>0</td>\n      <td>...</td>\n      <td>0</td>\n      <td>0</td>\n      <td>1</td>\n      <td>0</td>\n      <td>0</td>\n      <td>0</td>\n      <td>0</td>\n      <td>0</td>\n      <td>0</td>\n      <td>0</td>\n    </tr>\n    <tr>\n      <th>...</th>\n      <td>...</td>\n      <td>...</td>\n      <td>...</td>\n      <td>...</td>\n      <td>...</td>\n      <td>...</td>\n      <td>...</td>\n      <td>...</td>\n      <td>...</td>\n      <td>...</td>\n      <td>...</td>\n      <td>...</td>\n      <td>...</td>\n      <td>...</td>\n      <td>...</td>\n      <td>...</td>\n      <td>...</td>\n      <td>...</td>\n      <td>...</td>\n      <td>...</td>\n      <td>...</td>\n    </tr>\n    <tr>\n      <th>13635</th>\n      <td>51</td>\n      <td>2</td>\n      <td>1</td>\n      <td>0</td>\n      <td>1</td>\n      <td>0</td>\n      <td>0</td>\n      <td>0</td>\n      <td>0</td>\n      <td>0</td>\n      <td>...</td>\n      <td>0</td>\n      <td>0</td>\n      <td>0</td>\n      <td>0</td>\n      <td>0</td>\n      <td>0</td>\n      <td>0</td>\n      <td>0</td>\n      <td>0</td>\n      <td>0</td>\n    </tr>\n    <tr>\n      <th>13636</th>\n      <td>74</td>\n      <td>3</td>\n      <td>2</td>\n      <td>1</td>\n      <td>2</td>\n      <td>0</td>\n      <td>0</td>\n      <td>1</td>\n      <td>0</td>\n      <td>0</td>\n      <td>...</td>\n      <td>0</td>\n      <td>0</td>\n      <td>0</td>\n      <td>0</td>\n      <td>0</td>\n      <td>0</td>\n      <td>0</td>\n      <td>0</td>\n      <td>0</td>\n      <td>0</td>\n    </tr>\n    <tr>\n      <th>13637</th>\n      <td>114</td>\n      <td>3</td>\n      <td>3</td>\n      <td>1</td>\n      <td>1</td>\n      <td>0</td>\n      <td>0</td>\n      <td>1</td>\n      <td>0</td>\n      <td>0</td>\n      <td>...</td>\n      <td>0</td>\n      <td>0</td>\n      <td>0</td>\n      <td>0</td>\n      <td>0</td>\n      <td>0</td>\n      <td>0</td>\n      <td>0</td>\n      <td>0</td>\n      <td>0</td>\n    </tr>\n    <tr>\n      <th>13638</th>\n      <td>39</td>\n      <td>1</td>\n      <td>2</td>\n      <td>1</td>\n      <td>1</td>\n      <td>0</td>\n      <td>1</td>\n      <td>1</td>\n      <td>0</td>\n      <td>0</td>\n      <td>...</td>\n      <td>0</td>\n      <td>0</td>\n      <td>0</td>\n      <td>0</td>\n      <td>0</td>\n      <td>0</td>\n      <td>0</td>\n      <td>0</td>\n      <td>0</td>\n      <td>0</td>\n    </tr>\n    <tr>\n      <th>13639</th>\n      <td>44</td>\n      <td>2</td>\n      <td>1</td>\n      <td>0</td>\n      <td>1</td>\n      <td>0</td>\n      <td>0</td>\n      <td>0</td>\n      <td>0</td>\n      <td>0</td>\n      <td>...</td>\n      <td>0</td>\n      <td>0</td>\n      <td>0</td>\n      <td>0</td>\n      <td>0</td>\n      <td>0</td>\n      <td>0</td>\n      <td>0</td>\n      <td>0</td>\n      <td>0</td>\n    </tr>\n  </tbody>\n</table>\n<p>6412 rows × 105 columns</p>\n</div>"
     },
     "execution_count": 228,
     "metadata": {},
     "output_type": "execute_result"
    }
   ],
   "source": [
    "x"
   ],
   "metadata": {
    "collapsed": false,
    "pycharm": {
     "name": "#%%\n"
    }
   }
  },
  {
   "cell_type": "code",
   "execution_count": 229,
   "outputs": [
    {
     "data": {
      "text/plain": "4901      732600\n4902     1990000\n4903      720000\n4904     1680000\n4905     1200000\n          ...   \n13635     265000\n13636     545000\n13637     515000\n13638     345000\n13639     161987\nName: Price, Length: 6412, dtype: int64"
     },
     "execution_count": 229,
     "metadata": {},
     "output_type": "execute_result"
    }
   ],
   "source": [
    "y"
   ],
   "metadata": {
    "collapsed": false,
    "pycharm": {
     "name": "#%%\n"
    }
   }
  },
  {
   "cell_type": "code",
   "execution_count": 230,
   "outputs": [
    {
     "name": "stdout",
     "output_type": "stream",
     "text": [
      "5129\n",
      "1283\n"
     ]
    }
   ],
   "source": [
    "print(len(x_train))\n",
    "print(len(x_test))"
   ],
   "metadata": {
    "collapsed": false,
    "pycharm": {
     "name": "#%%\n"
    }
   }
  },
  {
   "cell_type": "code",
   "execution_count": 245,
   "outputs": [
    {
     "data": {
      "text/plain": "array([[0.26949153, 0.4       , 0.5       , ..., 0.        , 0.        ,\n        0.        ],\n       [0.        , 0.        , 0.        , ..., 1.        , 0.        ,\n        0.        ],\n       [0.02711864, 0.2       , 0.        , ..., 0.        , 0.        ,\n        0.        ],\n       ...,\n       [0.61525424, 0.4       , 0.5       , ..., 0.        , 0.        ,\n        0.        ],\n       [0.06779661, 0.4       , 0.        , ..., 0.        , 0.        ,\n        0.        ],\n       [0.06779661, 0.2       , 0.16666667, ..., 0.        , 0.        ,\n        0.        ]])"
     },
     "execution_count": 245,
     "metadata": {},
     "output_type": "execute_result"
    }
   ],
   "source": [
    "minmax = MinMaxScaler()\n",
    "\n",
    "x_train_scaled = minmax.fit_transform(x_train)\n",
    "x_test_scaled = minmax.transform(x_test)\n",
    "\n",
    "x_train_scaled"
   ],
   "metadata": {
    "collapsed": false,
    "pycharm": {
     "name": "#%%\n"
    }
   }
  },
  {
   "cell_type": "code",
   "execution_count": 246,
   "outputs": [
    {
     "data": {
      "text/plain": "array([[ 2.2084926 ,  0.94960558,  2.16373513, ..., -0.12015944,\n        -0.07137956, -0.10506585],\n       [-0.96176171, -1.85196303, -1.13983626, ...,  8.32227577,\n        -0.07137956, -0.10506585],\n       [-0.64274241, -0.45117872, -1.13983626, ..., -0.12015944,\n        -0.07137956, -0.10506585],\n       ...,\n       [ 6.2759887 ,  0.94960558,  2.16373513, ..., -0.12015944,\n        -0.07137956, -0.10506585],\n       [-0.16421346,  0.94960558, -1.13983626, ..., -0.12015944,\n        -0.07137956, -0.10506585],\n       [-0.16421346, -0.45117872, -0.0386458 , ..., -0.12015944,\n        -0.07137956, -0.10506585]])"
     },
     "execution_count": 246,
     "metadata": {},
     "output_type": "execute_result"
    }
   ],
   "source": [
    "scaler = StandardScaler()\n",
    "\n",
    "x_train_scaled = scaler.fit_transform(x_train)\n",
    "x_test_scaled = scaler.transform(x_test)\n",
    "\n",
    "x_train_scaled"
   ],
   "metadata": {
    "collapsed": false,
    "pycharm": {
     "name": "#%%\n"
    }
   }
  },
  {
   "cell_type": "code",
   "execution_count": 233,
   "outputs": [
    {
     "data": {
      "text/plain": "       Size  Rooms  Toilets  Suites  Parking  Elevator  Furnished  \\\n11629   189      3        4       3        2         0          0   \n13343    30      1        1       0        1         0          0   \n11953    46      2        1       0        1         0          1   \n8943    156      3        2       1        2         0          1   \n6333     40      2        2       1        1         1          0   \n...     ...    ...      ...     ...      ...       ...        ...   \n12706    98      2        1       0        1         0          0   \n5544     90      3        2       1        1         0          0   \n12136   393      3        4       0        1         0          0   \n13504    70      3        1       0        1         0          0   \n8121     70      2        2       1        1         1          0   \n\n       Swimming Pool  New  Alto de Pinheiros  ...  Vila Jacuí  \\\n11629              0    0                  0  ...           0   \n13343              0    0                  0  ...           0   \n11953              0    0                  0  ...           0   \n8943               0    0                  1  ...           0   \n6333               0    0                  0  ...           0   \n...              ...  ...                ...  ...         ...   \n12706              0    0                  0  ...           0   \n5544               0    0                  0  ...           0   \n12136              0    0                  0  ...           0   \n13504              1    0                  0  ...           0   \n8121               0    0                  0  ...           0   \n\n       Vila Leopoldina  Vila Madalena  Vila Maria  Vila Mariana  Vila Matilde  \\\n11629                0              0           0             0             0   \n13343                0              0           0             0             0   \n11953                0              0           0             0             0   \n8943                 0              0           0             0             0   \n6333                 0              0           0             0             0   \n...                ...            ...         ...           ...           ...   \n12706                0              0           0             0             0   \n5544                 0              0           0             0             0   \n12136                0              0           0             0             0   \n13504                0              0           0             0             0   \n8121                 0              0           0             0             0   \n\n       Vila Olimpia  Vila Prudente  Vila Sônia  Água Rasa  \n11629             0              0           0          0  \n13343             0              1           0          0  \n11953             0              0           0          0  \n8943              0              0           0          0  \n6333              0              0           0          0  \n...             ...            ...         ...        ...  \n12706             0              0           0          0  \n5544              0              0           0          0  \n12136             0              0           0          0  \n13504             0              0           0          0  \n8121              0              0           0          0  \n\n[5129 rows x 105 columns]",
      "text/html": "<div>\n<style scoped>\n    .dataframe tbody tr th:only-of-type {\n        vertical-align: middle;\n    }\n\n    .dataframe tbody tr th {\n        vertical-align: top;\n    }\n\n    .dataframe thead th {\n        text-align: right;\n    }\n</style>\n<table border=\"1\" class=\"dataframe\">\n  <thead>\n    <tr style=\"text-align: right;\">\n      <th></th>\n      <th>Size</th>\n      <th>Rooms</th>\n      <th>Toilets</th>\n      <th>Suites</th>\n      <th>Parking</th>\n      <th>Elevator</th>\n      <th>Furnished</th>\n      <th>Swimming Pool</th>\n      <th>New</th>\n      <th>Alto de Pinheiros</th>\n      <th>...</th>\n      <th>Vila Jacuí</th>\n      <th>Vila Leopoldina</th>\n      <th>Vila Madalena</th>\n      <th>Vila Maria</th>\n      <th>Vila Mariana</th>\n      <th>Vila Matilde</th>\n      <th>Vila Olimpia</th>\n      <th>Vila Prudente</th>\n      <th>Vila Sônia</th>\n      <th>Água Rasa</th>\n    </tr>\n  </thead>\n  <tbody>\n    <tr>\n      <th>11629</th>\n      <td>189</td>\n      <td>3</td>\n      <td>4</td>\n      <td>3</td>\n      <td>2</td>\n      <td>0</td>\n      <td>0</td>\n      <td>0</td>\n      <td>0</td>\n      <td>0</td>\n      <td>...</td>\n      <td>0</td>\n      <td>0</td>\n      <td>0</td>\n      <td>0</td>\n      <td>0</td>\n      <td>0</td>\n      <td>0</td>\n      <td>0</td>\n      <td>0</td>\n      <td>0</td>\n    </tr>\n    <tr>\n      <th>13343</th>\n      <td>30</td>\n      <td>1</td>\n      <td>1</td>\n      <td>0</td>\n      <td>1</td>\n      <td>0</td>\n      <td>0</td>\n      <td>0</td>\n      <td>0</td>\n      <td>0</td>\n      <td>...</td>\n      <td>0</td>\n      <td>0</td>\n      <td>0</td>\n      <td>0</td>\n      <td>0</td>\n      <td>0</td>\n      <td>0</td>\n      <td>1</td>\n      <td>0</td>\n      <td>0</td>\n    </tr>\n    <tr>\n      <th>11953</th>\n      <td>46</td>\n      <td>2</td>\n      <td>1</td>\n      <td>0</td>\n      <td>1</td>\n      <td>0</td>\n      <td>1</td>\n      <td>0</td>\n      <td>0</td>\n      <td>0</td>\n      <td>...</td>\n      <td>0</td>\n      <td>0</td>\n      <td>0</td>\n      <td>0</td>\n      <td>0</td>\n      <td>0</td>\n      <td>0</td>\n      <td>0</td>\n      <td>0</td>\n      <td>0</td>\n    </tr>\n    <tr>\n      <th>8943</th>\n      <td>156</td>\n      <td>3</td>\n      <td>2</td>\n      <td>1</td>\n      <td>2</td>\n      <td>0</td>\n      <td>1</td>\n      <td>0</td>\n      <td>0</td>\n      <td>1</td>\n      <td>...</td>\n      <td>0</td>\n      <td>0</td>\n      <td>0</td>\n      <td>0</td>\n      <td>0</td>\n      <td>0</td>\n      <td>0</td>\n      <td>0</td>\n      <td>0</td>\n      <td>0</td>\n    </tr>\n    <tr>\n      <th>6333</th>\n      <td>40</td>\n      <td>2</td>\n      <td>2</td>\n      <td>1</td>\n      <td>1</td>\n      <td>1</td>\n      <td>0</td>\n      <td>0</td>\n      <td>0</td>\n      <td>0</td>\n      <td>...</td>\n      <td>0</td>\n      <td>0</td>\n      <td>0</td>\n      <td>0</td>\n      <td>0</td>\n      <td>0</td>\n      <td>0</td>\n      <td>0</td>\n      <td>0</td>\n      <td>0</td>\n    </tr>\n    <tr>\n      <th>...</th>\n      <td>...</td>\n      <td>...</td>\n      <td>...</td>\n      <td>...</td>\n      <td>...</td>\n      <td>...</td>\n      <td>...</td>\n      <td>...</td>\n      <td>...</td>\n      <td>...</td>\n      <td>...</td>\n      <td>...</td>\n      <td>...</td>\n      <td>...</td>\n      <td>...</td>\n      <td>...</td>\n      <td>...</td>\n      <td>...</td>\n      <td>...</td>\n      <td>...</td>\n      <td>...</td>\n    </tr>\n    <tr>\n      <th>12706</th>\n      <td>98</td>\n      <td>2</td>\n      <td>1</td>\n      <td>0</td>\n      <td>1</td>\n      <td>0</td>\n      <td>0</td>\n      <td>0</td>\n      <td>0</td>\n      <td>0</td>\n      <td>...</td>\n      <td>0</td>\n      <td>0</td>\n      <td>0</td>\n      <td>0</td>\n      <td>0</td>\n      <td>0</td>\n      <td>0</td>\n      <td>0</td>\n      <td>0</td>\n      <td>0</td>\n    </tr>\n    <tr>\n      <th>5544</th>\n      <td>90</td>\n      <td>3</td>\n      <td>2</td>\n      <td>1</td>\n      <td>1</td>\n      <td>0</td>\n      <td>0</td>\n      <td>0</td>\n      <td>0</td>\n      <td>0</td>\n      <td>...</td>\n      <td>0</td>\n      <td>0</td>\n      <td>0</td>\n      <td>0</td>\n      <td>0</td>\n      <td>0</td>\n      <td>0</td>\n      <td>0</td>\n      <td>0</td>\n      <td>0</td>\n    </tr>\n    <tr>\n      <th>12136</th>\n      <td>393</td>\n      <td>3</td>\n      <td>4</td>\n      <td>0</td>\n      <td>1</td>\n      <td>0</td>\n      <td>0</td>\n      <td>0</td>\n      <td>0</td>\n      <td>0</td>\n      <td>...</td>\n      <td>0</td>\n      <td>0</td>\n      <td>0</td>\n      <td>0</td>\n      <td>0</td>\n      <td>0</td>\n      <td>0</td>\n      <td>0</td>\n      <td>0</td>\n      <td>0</td>\n    </tr>\n    <tr>\n      <th>13504</th>\n      <td>70</td>\n      <td>3</td>\n      <td>1</td>\n      <td>0</td>\n      <td>1</td>\n      <td>0</td>\n      <td>0</td>\n      <td>1</td>\n      <td>0</td>\n      <td>0</td>\n      <td>...</td>\n      <td>0</td>\n      <td>0</td>\n      <td>0</td>\n      <td>0</td>\n      <td>0</td>\n      <td>0</td>\n      <td>0</td>\n      <td>0</td>\n      <td>0</td>\n      <td>0</td>\n    </tr>\n    <tr>\n      <th>8121</th>\n      <td>70</td>\n      <td>2</td>\n      <td>2</td>\n      <td>1</td>\n      <td>1</td>\n      <td>1</td>\n      <td>0</td>\n      <td>0</td>\n      <td>0</td>\n      <td>0</td>\n      <td>...</td>\n      <td>0</td>\n      <td>0</td>\n      <td>0</td>\n      <td>0</td>\n      <td>0</td>\n      <td>0</td>\n      <td>0</td>\n      <td>0</td>\n      <td>0</td>\n      <td>0</td>\n    </tr>\n  </tbody>\n</table>\n<p>5129 rows × 105 columns</p>\n</div>"
     },
     "execution_count": 233,
     "metadata": {},
     "output_type": "execute_result"
    }
   ],
   "source": [
    "x_train"
   ],
   "metadata": {
    "collapsed": false,
    "pycharm": {
     "name": "#%%\n"
    }
   }
  },
  {
   "cell_type": "code",
   "execution_count": 236,
   "outputs": [],
   "source": [
    "def adjusted_r2(y_test, y_pred, X_train):\n",
    "    from sklearn.metrics import r2_score\n",
    "\n",
    "    adj_r2 = (1 - ((1 - r2_score(y_test, y_pred)) * (len(y_test) - 1)) /\n",
    "              (len(y_test) - X_train.shape[1] - 1))\n",
    "\n",
    "    return adj_r2"
   ],
   "metadata": {
    "collapsed": false,
    "pycharm": {
     "name": "#%%\n"
    }
   }
  },
  {
   "cell_type": "code",
   "execution_count": 258,
   "outputs": [],
   "source": [
    "def metrics_builder(y_test, y_pred):\n",
    "    MSE = metrics.mean_squared_error(y_test, y_pred)\n",
    "    MAE = metrics.mean_absolute_error(y_test, y_pred)\n",
    "    R2 = metrics.r2_score(y_test, y_pred)\n",
    "\n",
    "    print(\"Squared Error: \", MSE)\n",
    "    print(\"Absolute Error: \", MAE)\n",
    "    print(\"R2: \", R2)"
   ],
   "metadata": {
    "collapsed": false,
    "pycharm": {
     "name": "#%%\n"
    }
   }
  },
  {
   "cell_type": "code",
   "execution_count": 238,
   "outputs": [],
   "source": [
    "def mine_knn(x_train, x_test, y_train, y_test, k=0):\n",
    "    if k == 0:\n",
    "        k = int((len(y_train) + len(y_test)) ** 0.5)\n",
    "\n",
    "    knn = KNeighborsRegressor(n_neighbors=k)\n",
    "\n",
    "    knn.fit(x_train, y_train)\n",
    "\n",
    "    y_pred = knn.predict(x_test)\n",
    "\n",
    "    print(\"k:\", k)\n",
    "\n",
    "    metrics_builder(y_test, y_pred)"
   ],
   "metadata": {
    "collapsed": false,
    "pycharm": {
     "name": "#%%\n"
    }
   }
  },
  {
   "cell_type": "code",
   "execution_count": 239,
   "outputs": [
    {
     "name": "stdout",
     "output_type": "stream",
     "text": [
      "k: 80\n",
      "Squared Error:  287759337897.4824\n",
      "Absolute Error:  254869.33642829306\n"
     ]
    }
   ],
   "source": [
    "mine_knn(x_train_scaled, x_test_scaled, y_train, y_test)"
   ],
   "metadata": {
    "collapsed": false,
    "pycharm": {
     "name": "#%%\n"
    }
   }
  },
  {
   "cell_type": "code",
   "execution_count": 240,
   "outputs": [
    {
     "name": "stdout",
     "output_type": "stream",
     "text": [
      "k: 80\n",
      "Squared Error:  287759337897.4824\n",
      "Absolute Error:  254869.33642829306\n",
      "\n",
      "k: 1\n",
      "Squared Error:  135238361585.81528\n",
      "Absolute Error:  157347.07170693687\n",
      "\n",
      "k: 2\n",
      "Squared Error:  113217943626.3297\n",
      "Absolute Error:  147166.59236165238\n",
      "\n",
      "k: 3\n",
      "Squared Error:  115244987644.72072\n",
      "Absolute Error:  149208.22395427385\n",
      "\n",
      "k: 4\n",
      "Squared Error:  108964785671.57954\n",
      "Absolute Error:  146313.76091192517\n",
      "\n",
      "k: 5\n",
      "Squared Error:  109333968299.74008\n",
      "Absolute Error:  146377.86578332036\n",
      "\n",
      "k: 6\n",
      "Squared Error:  117254041323.65286\n",
      "Absolute Error:  150095.6002857885\n",
      "\n",
      "k: 7\n",
      "Squared Error:  123757878228.88065\n",
      "Absolute Error:  154207.2406190847\n",
      "\n",
      "k: 8\n",
      "Squared Error:  125882988117.46709\n",
      "Absolute Error:  156432.09255650817\n",
      "\n",
      "k: 9\n",
      "Squared Error:  128338762097.82838\n",
      "Absolute Error:  157789.13146271757\n",
      "\n",
      "k: 10\n",
      "Squared Error:  134325915714.4087\n",
      "Absolute Error:  160632.99158222915\n",
      "\n",
      "k: 11\n",
      "Squared Error:  137160631633.6533\n",
      "Absolute Error:  162492.33118401474\n",
      "\n",
      "k: 12\n",
      "Squared Error:  143202159045.58984\n",
      "Absolute Error:  166138.7713691868\n",
      "\n",
      "k: 13\n",
      "Squared Error:  147840369243.9255\n",
      "Absolute Error:  168985.14359374062\n",
      "\n",
      "k: 14\n",
      "Squared Error:  154375753671.58267\n",
      "Absolute Error:  171430.06324462753\n",
      "\n",
      "k: 15\n",
      "Squared Error:  162068160736.34998\n",
      "Absolute Error:  173714.95229929851\n",
      "\n",
      "k: 16\n",
      "Squared Error:  171547887039.57187\n",
      "Absolute Error:  177055.26456547156\n",
      "\n",
      "k: 17\n",
      "Squared Error:  172724748930.91898\n",
      "Absolute Error:  178739.48516803447\n",
      "\n",
      "k: 18\n",
      "Squared Error:  175474231661.1959\n",
      "Absolute Error:  180882.8788429895\n",
      "\n",
      "k: 19\n",
      "Squared Error:  179931296625.19287\n",
      "Absolute Error:  183446.3650162038\n",
      "\n"
     ]
    }
   ],
   "source": [
    "for i in range(0, 20, 1):\n",
    "    mine_knn(x_train_scaled, x_test_scaled, y_train, y_test, k=i)\n",
    "    print()"
   ],
   "metadata": {
    "collapsed": false,
    "pycharm": {
     "name": "#%%\n"
    }
   }
  },
  {
   "cell_type": "code",
   "execution_count": 241,
   "outputs": [],
   "source": [
    "def build_forest(x_train, x_test, y_train, y_test, trees, depth, impurity):\n",
    "    floresta = RandomForestRegressor(n_estimators=trees, random_state=22)\n",
    "    floresta.fit(x_train, y_train)\n",
    "\n",
    "    y_pred = floresta.predict(x_test)\n",
    "\n",
    "    print(f\"Trees: {trees}, Depth: {depth}, Impurity: {impurity}\")\n",
    "\n",
    "    metrics_builder(y_test, y_pred)"
   ],
   "metadata": {
    "collapsed": false,
    "pycharm": {
     "name": "#%%\n"
    }
   }
  },
  {
   "cell_type": "code",
   "execution_count": 242,
   "outputs": [
    {
     "name": "stdout",
     "output_type": "stream",
     "text": [
      "Trees: 1, Depth: 5, Impurity: 0.0001\n",
      "Squared Error:  137935616345.28336\n",
      "Absolute Error:  155365.7909716669\n",
      "\n",
      "Trees: 3, Depth: 5, Impurity: 0.0001\n",
      "Squared Error:  93203894549.04631\n",
      "Absolute Error:  130085.70590394818\n",
      "\n",
      "Trees: 5, Depth: 5, Impurity: 0.0001\n",
      "Squared Error:  77489580457.68631\n",
      "Absolute Error:  122467.6937249429\n",
      "\n",
      "Trees: 7, Depth: 5, Impurity: 0.0001\n",
      "Squared Error:  71720978049.38002\n",
      "Absolute Error:  118694.44845083207\n",
      "\n",
      "Trees: 9, Depth: 5, Impurity: 0.0001\n",
      "Squared Error:  69113530454.4719\n",
      "Absolute Error:  116802.61189783811\n",
      "\n",
      "Trees: 11, Depth: 5, Impurity: 0.0001\n",
      "Squared Error:  69038599237.52954\n",
      "Absolute Error:  116116.76905192845\n",
      "\n",
      "Trees: 13, Depth: 5, Impurity: 0.0001\n",
      "Squared Error:  69714089558.53406\n",
      "Absolute Error:  116020.4611589799\n",
      "\n",
      "Trees: 15, Depth: 5, Impurity: 0.0001\n",
      "Squared Error:  67961688277.55222\n",
      "Absolute Error:  114628.25569502097\n",
      "\n",
      "Trees: 17, Depth: 5, Impurity: 0.0001\n",
      "Squared Error:  67877129527.92927\n",
      "Absolute Error:  115266.71015047618\n",
      "\n",
      "Trees: 19, Depth: 5, Impurity: 0.0001\n",
      "Squared Error:  66841133578.25117\n",
      "Absolute Error:  114979.88191094095\n",
      "\n"
     ]
    }
   ],
   "source": [
    "for i in range(1, 21, 2):\n",
    "    build_forest(x_train_scaled, x_test_scaled, y_train, y_test, trees=i, depth=5, impurity=0.0001)\n",
    "    print()"
   ],
   "metadata": {
    "collapsed": false,
    "pycharm": {
     "name": "#%%\n"
    }
   }
  },
  {
   "cell_type": "code",
   "execution_count": 259,
   "outputs": [],
   "source": [
    "def build_mlp(x_train, x_test, y_train, y_test, layers, iterations=100):\n",
    "    mlp = MLPRegressor(hidden_layer_sizes=layers, max_iter=iterations, solver=\"lbfgs\", random_state=1)\n",
    "    mlp.fit(x_train, y_train)\n",
    "\n",
    "    y_pred = mlp.predict(x_test)\n",
    "    print(y_test)\n",
    "    print()\n",
    "    print(y_pred)\n",
    "    print()\n",
    "\n",
    "    print(f\"Hidden layers: {layers}, Iterations: {iterations}\")\n",
    "\n",
    "    metrics_builder(y_test, y_pred)"
   ],
   "metadata": {
    "collapsed": false,
    "pycharm": {
     "name": "#%%\n"
    }
   }
  },
  {
   "cell_type": "code",
   "execution_count": 260,
   "outputs": [
    {
     "name": "stdout",
     "output_type": "stream",
     "text": [
      "7868      335600\n",
      "7225      334000\n",
      "11679    4600000\n",
      "7514      250000\n",
      "6835      367000\n",
      "          ...   \n",
      "11912     600000\n",
      "5865      250000\n",
      "11706    1060000\n",
      "12904     268900\n",
      "11784     430000\n",
      "Name: Price, Length: 1283, dtype: int64\n",
      "\n",
      "[ 387338.93654681  328129.44805519 3139351.98295853 ...  943832.8561268\n",
      "  337207.75395487  530666.53494007]\n",
      "\n",
      "Hidden layers: (48, 24, 12, 6), Iterations: 1000\n",
      "Squared Error:  137459150345.24652\n",
      "Absolute Error:  183695.95518722307\n",
      "R2:  0.7804445354816147\n"
     ]
    }
   ],
   "source": [
    "build_mlp(x_train, x_test, y_train, y_test, (48, 24, 12, 6), 1000)"
   ],
   "metadata": {
    "collapsed": false,
    "pycharm": {
     "name": "#%%\n"
    }
   }
  },
  {
   "cell_type": "code",
   "execution_count": 261,
   "outputs": [
    {
     "name": "stdout",
     "output_type": "stream",
     "text": [
      "7868      335600\n",
      "7225      334000\n",
      "11679    4600000\n",
      "7514      250000\n",
      "6835      367000\n",
      "          ...   \n",
      "11912     600000\n",
      "5865      250000\n",
      "11706    1060000\n",
      "12904     268900\n",
      "11784     430000\n",
      "Name: Price, Length: 1283, dtype: int64\n",
      "\n",
      "[ 358541.52676145  277029.25509095 2548437.77556862 ... 1358368.25359385\n",
      "  273209.83723461  505596.8789694 ]\n",
      "\n",
      "Hidden layers: (48, 24, 12, 6), Iterations: 1000\n",
      "Squared Error:  586124526463.6866\n",
      "Absolute Error:  202940.89014443403\n",
      "R2:  0.06381756070702027\n"
     ]
    },
    {
     "name": "stderr",
     "output_type": "stream",
     "text": [
      "/usr/local/lib/python3.9/site-packages/sklearn/neural_network/_multilayer_perceptron.py:549: ConvergenceWarning: lbfgs failed to converge (status=1):\n",
      "STOP: TOTAL NO. of ITERATIONS REACHED LIMIT.\n",
      "\n",
      "Increase the number of iterations (max_iter) or scale the data as shown in:\n",
      "    https://scikit-learn.org/stable/modules/preprocessing.html\n",
      "  self.n_iter_ = _check_optimize_result(\"lbfgs\", opt_res, self.max_iter)\n"
     ]
    }
   ],
   "source": [
    "build_mlp(x_train_scaled, x_test_scaled, y_train, y_test, (48, 24, 12, 6), 1000)"
   ],
   "metadata": {
    "collapsed": false,
    "pycharm": {
     "name": "#%%\n"
    }
   }
  },
  {
   "cell_type": "code",
   "execution_count": null,
   "outputs": [],
   "source": [],
   "metadata": {
    "collapsed": false,
    "pycharm": {
     "name": "#%%\n"
    }
   }
  }
 ],
 "metadata": {
  "kernelspec": {
   "display_name": "Python 3",
   "language": "python",
   "name": "python3"
  },
  "language_info": {
   "codemirror_mode": {
    "name": "ipython",
    "version": 2
   },
   "file_extension": ".py",
   "mimetype": "text/x-python",
   "name": "python",
   "nbconvert_exporter": "python",
   "pygments_lexer": "ipython2",
   "version": "2.7.6"
  }
 },
 "nbformat": 4,
 "nbformat_minor": 0
}