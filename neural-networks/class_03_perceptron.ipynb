{
 "cells": [
  {
   "cell_type": "markdown",
   "metadata": {
    "pycharm": {
     "name": "#%% md\n"
    }
   },
   "source": [
    "FIAP - Redes Neurais Artificiais, Deep Learning e Algoritmos Genéticos \n",
    "\n",
    "# Aula 03 - Trabalhando com Perceptron\n",
    "\n",
    "## Implementação de um Perceptron simples"
   ]
  },
  {
   "cell_type": "code",
   "execution_count": 55,
   "metadata": {
    "pycharm": {
     "name": "#%%\n"
    }
   },
   "outputs": [],
   "source": [
    "import pandas as pd"
   ]
  },
  {
   "cell_type": "code",
   "execution_count": 56,
   "outputs": [],
   "source": [
    "# Definir a função de agregação de informação (soma poderada)\n",
    "def calculate_sum(X, W):\n",
    "    result = 0\n",
    "    for i in range(len(X)):\n",
    "        result += X[i] * W[i]\n",
    "    return result"
   ],
   "metadata": {
    "collapsed": false,
    "pycharm": {
     "name": "#%%\n"
    }
   }
  },
  {
   "cell_type": "code",
   "execution_count": 57,
   "outputs": [],
   "source": [
    "# Definir a função de ativação: FUNÇÃO DEGRAU\n",
    "def degree_activation(u, b=0):\n",
    "    return 1 if u + b >= 0 else 0\n",
    "\n"
   ],
   "metadata": {
    "collapsed": false,
    "pycharm": {
     "name": "#%%\n"
    }
   }
  },
  {
   "cell_type": "code",
   "execution_count": 58,
   "outputs": [],
   "source": [
    "X = [1, 2, 3]  # inputs\n",
    "W = [0.1, 0.2, 0.3]  # weights\n",
    "b = 0  # bias"
   ],
   "metadata": {
    "collapsed": false,
    "pycharm": {
     "name": "#%%\n"
    }
   }
  },
  {
   "cell_type": "code",
   "execution_count": 59,
   "outputs": [
    {
     "name": "stdout",
     "output_type": "stream",
     "text": [
      "Para os parametros de entrada (X e W), o neurônio foi ativado, pois o f(1.40)=1\n"
     ]
    }
   ],
   "source": [
    "u = calculate_sum(X, W)\n",
    "answers = degree_activation(u, b)\n",
    "\n",
    "print(\"Para os parametros de entrada (X e W), o neurônio{0} foi ativado, pois o f({1:.2f})={2}\".\n",
    "      format(\"\" if answers == 1 else \" não\", u, answers))"
   ],
   "metadata": {
    "collapsed": false,
    "pycharm": {
     "name": "#%%\n"
    }
   }
  },
  {
   "cell_type": "markdown",
   "source": [
    "## Casos de aplicação do perceptron\n",
    "\n",
    "Vamos analisar a base `escolha_faculdade.xlsx` com exemplos de faculdades identificadas pelo ID e com um conjunto de variáveis que as descrevem. As variáveis são:\n",
    "\n",
    "- reconhecida_MEC: a faculdade é reconhecida pelo MEC? 1=sim ; 0=não\n",
    "- facilidade_pagamento: a faculdade apresenta facilidades para pagamento? 1=sim ; 0=não\n",
    "- flexibilidade_ensino: o quão flexível é o método de ensino? 1=somente presencial ; 2=somente EAD ; 3=misto\n",
    "- entrada_mercado: o que a faculdade oferece para facilitar a entrada do aluno no mercado de trabalho? 0=sem suporte ; 1=feiras ; 2=feiras e estágios ; 3=feiras, estágios e convênios com empresas\n",
    "- score_infraestrutura: qual nota de 0 a 100 a escola possui para sua infraestrutura?\n",
    "- empregabilidade: qual a porcentagem de alunos egressos empregados?\n",
    "- acesso_facil: a localização possui fácil acesso, como metrô, ônibus, estacionamento? 1=sim ; 0=não"
   ],
   "metadata": {
    "collapsed": false,
    "pycharm": {
     "name": "#%% md\n"
    }
   }
  },
  {
   "cell_type": "code",
   "execution_count": 79,
   "outputs": [],
   "source": [
    "# Pesos já fornecidos\n",
    "weights = [0.10, 0.05, 0.05, 0.2, 0.25, 0.3, 0.05]"
   ],
   "metadata": {
    "collapsed": false,
    "pycharm": {
     "name": "#%%\n"
    }
   }
  },
  {
   "cell_type": "code",
   "execution_count": 82,
   "metadata": {
    "pycharm": {
     "name": "#%%\n"
    }
   },
   "outputs": [
    {
     "data": {
      "text/plain": "    reconhecida_MEC  facilidade_pagamento  flexibilidade_ensino  \\\nID                                                                \n1                 1                     1                     1   \n2                 1                     0                     2   \n3                 1                     1                     1   \n4                 0                     1                     3   \n5                 0                     1                     2   \n\n    entrada_mercado  score_infraestrutura  empregabilidade  acesso_facil  \nID                                                                        \n1                 3                    50               78             1  \n2                 1                    60               91             0  \n3                 1                    55               13             1  \n4                 0                    78               68             1  \n5                 2                    74               72             0  ",
      "text/html": "<div>\n<style scoped>\n    .dataframe tbody tr th:only-of-type {\n        vertical-align: middle;\n    }\n\n    .dataframe tbody tr th {\n        vertical-align: top;\n    }\n\n    .dataframe thead th {\n        text-align: right;\n    }\n</style>\n<table border=\"1\" class=\"dataframe\">\n  <thead>\n    <tr style=\"text-align: right;\">\n      <th></th>\n      <th>reconhecida_MEC</th>\n      <th>facilidade_pagamento</th>\n      <th>flexibilidade_ensino</th>\n      <th>entrada_mercado</th>\n      <th>score_infraestrutura</th>\n      <th>empregabilidade</th>\n      <th>acesso_facil</th>\n    </tr>\n    <tr>\n      <th>ID</th>\n      <th></th>\n      <th></th>\n      <th></th>\n      <th></th>\n      <th></th>\n      <th></th>\n      <th></th>\n    </tr>\n  </thead>\n  <tbody>\n    <tr>\n      <th>1</th>\n      <td>1</td>\n      <td>1</td>\n      <td>1</td>\n      <td>3</td>\n      <td>50</td>\n      <td>78</td>\n      <td>1</td>\n    </tr>\n    <tr>\n      <th>2</th>\n      <td>1</td>\n      <td>0</td>\n      <td>2</td>\n      <td>1</td>\n      <td>60</td>\n      <td>91</td>\n      <td>0</td>\n    </tr>\n    <tr>\n      <th>3</th>\n      <td>1</td>\n      <td>1</td>\n      <td>1</td>\n      <td>1</td>\n      <td>55</td>\n      <td>13</td>\n      <td>1</td>\n    </tr>\n    <tr>\n      <th>4</th>\n      <td>0</td>\n      <td>1</td>\n      <td>3</td>\n      <td>0</td>\n      <td>78</td>\n      <td>68</td>\n      <td>1</td>\n    </tr>\n    <tr>\n      <th>5</th>\n      <td>0</td>\n      <td>1</td>\n      <td>2</td>\n      <td>2</td>\n      <td>74</td>\n      <td>72</td>\n      <td>0</td>\n    </tr>\n  </tbody>\n</table>\n</div>"
     },
     "execution_count": 82,
     "metadata": {},
     "output_type": "execute_result"
    }
   ],
   "source": [
    "data_frame = pd.read_excel(\"escolha_faculdade.xlsx\", index_col=\"ID\")\n",
    "data_frame.head()"
   ]
  },
  {
   "cell_type": "code",
   "execution_count": 85,
   "metadata": {
    "pycharm": {
     "name": "#%%\n"
    }
   },
   "outputs": [
    {
     "data": {
      "text/plain": "ID                    1   2   3   4   5   6   7   8   9   10\nreconhecida_MEC        1   1   1   0   0   1   1   0   1   0\nfacilidade_pagamento   1   0   1   1   1   0   1   1   0   1\nflexibilidade_ensino   1   2   1   3   2   2   1   3   3   1\nentrada_mercado        3   1   1   0   2   2   3   0   3   1\nscore_infraestrutura  50  60  55  78  74  73  56  30  89  30\nempregabilidade       78  91  13  68  72  47  68  13  89  25\nacesso_facil           1   0   1   1   0   0   1   1   0   1",
      "text/html": "<div>\n<style scoped>\n    .dataframe tbody tr th:only-of-type {\n        vertical-align: middle;\n    }\n\n    .dataframe tbody tr th {\n        vertical-align: top;\n    }\n\n    .dataframe thead th {\n        text-align: right;\n    }\n</style>\n<table border=\"1\" class=\"dataframe\">\n  <thead>\n    <tr style=\"text-align: right;\">\n      <th>ID</th>\n      <th>1</th>\n      <th>2</th>\n      <th>3</th>\n      <th>4</th>\n      <th>5</th>\n      <th>6</th>\n      <th>7</th>\n      <th>8</th>\n      <th>9</th>\n      <th>10</th>\n    </tr>\n  </thead>\n  <tbody>\n    <tr>\n      <th>reconhecida_MEC</th>\n      <td>1</td>\n      <td>1</td>\n      <td>1</td>\n      <td>0</td>\n      <td>0</td>\n      <td>1</td>\n      <td>1</td>\n      <td>0</td>\n      <td>1</td>\n      <td>0</td>\n    </tr>\n    <tr>\n      <th>facilidade_pagamento</th>\n      <td>1</td>\n      <td>0</td>\n      <td>1</td>\n      <td>1</td>\n      <td>1</td>\n      <td>0</td>\n      <td>1</td>\n      <td>1</td>\n      <td>0</td>\n      <td>1</td>\n    </tr>\n    <tr>\n      <th>flexibilidade_ensino</th>\n      <td>1</td>\n      <td>2</td>\n      <td>1</td>\n      <td>3</td>\n      <td>2</td>\n      <td>2</td>\n      <td>1</td>\n      <td>3</td>\n      <td>3</td>\n      <td>1</td>\n    </tr>\n    <tr>\n      <th>entrada_mercado</th>\n      <td>3</td>\n      <td>1</td>\n      <td>1</td>\n      <td>0</td>\n      <td>2</td>\n      <td>2</td>\n      <td>3</td>\n      <td>0</td>\n      <td>3</td>\n      <td>1</td>\n    </tr>\n    <tr>\n      <th>score_infraestrutura</th>\n      <td>50</td>\n      <td>60</td>\n      <td>55</td>\n      <td>78</td>\n      <td>74</td>\n      <td>73</td>\n      <td>56</td>\n      <td>30</td>\n      <td>89</td>\n      <td>30</td>\n    </tr>\n    <tr>\n      <th>empregabilidade</th>\n      <td>78</td>\n      <td>91</td>\n      <td>13</td>\n      <td>68</td>\n      <td>72</td>\n      <td>47</td>\n      <td>68</td>\n      <td>13</td>\n      <td>89</td>\n      <td>25</td>\n    </tr>\n    <tr>\n      <th>acesso_facil</th>\n      <td>1</td>\n      <td>0</td>\n      <td>1</td>\n      <td>1</td>\n      <td>0</td>\n      <td>0</td>\n      <td>1</td>\n      <td>1</td>\n      <td>0</td>\n      <td>1</td>\n    </tr>\n  </tbody>\n</table>\n</div>"
     },
     "execution_count": 85,
     "metadata": {},
     "output_type": "execute_result"
    }
   ],
   "source": [
    "schools = data_frame.T\n",
    "schools"
   ]
  },
  {
   "cell_type": "code",
   "execution_count": 65,
   "outputs": [],
   "source": [
    "def custom_activation(u, b=0):\n",
    "    return True if u + b >= 35 else False\n",
    "\n",
    "def regression_activation(u, b=0):\n",
    "    return u ** 2 + b"
   ],
   "metadata": {
    "collapsed": false,
    "pycharm": {
     "name": "#%%\n"
    }
   }
  },
  {
   "cell_type": "code",
   "execution_count": 92,
   "outputs": [],
   "source": [
    "def get_result(inputs, weights, actiovation_function):\n",
    "    result = []\n",
    "    for i in range(1, len(inputs[1])):\n",
    "        u = calculate_sum(inputs[i], weights)\n",
    "        result.append(actiovation_function(u))\n",
    "    return result\n",
    "\n",
    "get_result(schools, weights, custom_activation)\n",
    "get_result(schools, weights, regression_activation)"
   ],
   "metadata": {
    "collapsed": false,
    "pycharm": {
     "name": "#%%\n"
    }
   }
  },
  {
   "cell_type": "code",
   "execution_count": 73,
   "outputs": [
    {
     "data": {
      "text/plain": "    reconhecida_MEC  facilidade_pagamento  flexibilidade_ensino  \\\nID                                                                \n1                 1                     1                     1   \n2                 1                     0                     2   \n3                 1                     1                     1   \n4                 0                     1                     3   \n5                 0                     1                     2   \n6                 1                     0                     2   \n7                 1                     1                     1   \n8                 0                     1                     3   \n9                 1                     0                     3   \n10                0                     1                     1   \n\n    entrada_mercado  score_infraestrutura  empregabilidade  acesso_facil  \\\nID                                                                         \n1                 3                    50               78             1   \n2                 1                    60               91             0   \n3                 1                    55               13             1   \n4                 0                    78               68             1   \n5                 2                    74               72             0   \n6                 2                    73               47             0   \n7                 3                    56               68             1   \n8                 0                    30               13             1   \n9                 3                    89               89             0   \n10                1                    30               25             1   \n\n    Classification  \nID                  \n1             True  \n2             True  \n3            False  \n4             True  \n5             True  \n6            False  \n7             True  \n8            False  \n9             True  \n10           False  ",
      "text/html": "<div>\n<style scoped>\n    .dataframe tbody tr th:only-of-type {\n        vertical-align: middle;\n    }\n\n    .dataframe tbody tr th {\n        vertical-align: top;\n    }\n\n    .dataframe thead th {\n        text-align: right;\n    }\n</style>\n<table border=\"1\" class=\"dataframe\">\n  <thead>\n    <tr style=\"text-align: right;\">\n      <th></th>\n      <th>reconhecida_MEC</th>\n      <th>facilidade_pagamento</th>\n      <th>flexibilidade_ensino</th>\n      <th>entrada_mercado</th>\n      <th>score_infraestrutura</th>\n      <th>empregabilidade</th>\n      <th>acesso_facil</th>\n      <th>Classification</th>\n    </tr>\n    <tr>\n      <th>ID</th>\n      <th></th>\n      <th></th>\n      <th></th>\n      <th></th>\n      <th></th>\n      <th></th>\n      <th></th>\n      <th></th>\n    </tr>\n  </thead>\n  <tbody>\n    <tr>\n      <th>1</th>\n      <td>1</td>\n      <td>1</td>\n      <td>1</td>\n      <td>3</td>\n      <td>50</td>\n      <td>78</td>\n      <td>1</td>\n      <td>True</td>\n    </tr>\n    <tr>\n      <th>2</th>\n      <td>1</td>\n      <td>0</td>\n      <td>2</td>\n      <td>1</td>\n      <td>60</td>\n      <td>91</td>\n      <td>0</td>\n      <td>True</td>\n    </tr>\n    <tr>\n      <th>3</th>\n      <td>1</td>\n      <td>1</td>\n      <td>1</td>\n      <td>1</td>\n      <td>55</td>\n      <td>13</td>\n      <td>1</td>\n      <td>False</td>\n    </tr>\n    <tr>\n      <th>4</th>\n      <td>0</td>\n      <td>1</td>\n      <td>3</td>\n      <td>0</td>\n      <td>78</td>\n      <td>68</td>\n      <td>1</td>\n      <td>True</td>\n    </tr>\n    <tr>\n      <th>5</th>\n      <td>0</td>\n      <td>1</td>\n      <td>2</td>\n      <td>2</td>\n      <td>74</td>\n      <td>72</td>\n      <td>0</td>\n      <td>True</td>\n    </tr>\n    <tr>\n      <th>6</th>\n      <td>1</td>\n      <td>0</td>\n      <td>2</td>\n      <td>2</td>\n      <td>73</td>\n      <td>47</td>\n      <td>0</td>\n      <td>False</td>\n    </tr>\n    <tr>\n      <th>7</th>\n      <td>1</td>\n      <td>1</td>\n      <td>1</td>\n      <td>3</td>\n      <td>56</td>\n      <td>68</td>\n      <td>1</td>\n      <td>True</td>\n    </tr>\n    <tr>\n      <th>8</th>\n      <td>0</td>\n      <td>1</td>\n      <td>3</td>\n      <td>0</td>\n      <td>30</td>\n      <td>13</td>\n      <td>1</td>\n      <td>False</td>\n    </tr>\n    <tr>\n      <th>9</th>\n      <td>1</td>\n      <td>0</td>\n      <td>3</td>\n      <td>3</td>\n      <td>89</td>\n      <td>89</td>\n      <td>0</td>\n      <td>True</td>\n    </tr>\n    <tr>\n      <th>10</th>\n      <td>0</td>\n      <td>1</td>\n      <td>1</td>\n      <td>1</td>\n      <td>30</td>\n      <td>25</td>\n      <td>1</td>\n      <td>False</td>\n    </tr>\n  </tbody>\n</table>\n</div>"
     },
     "execution_count": 73,
     "metadata": {},
     "output_type": "execute_result"
    }
   ],
   "source": [
    "data_frame[\"Classification\"] = get_result(schools, weights)\n",
    "data_frame"
   ],
   "metadata": {
    "collapsed": false,
    "pycharm": {
     "name": "#%%\n"
    }
   }
  },
  {
   "cell_type": "code",
   "execution_count": null,
   "outputs": [],
   "source": [],
   "metadata": {
    "collapsed": false,
    "pycharm": {
     "name": "#%%\n"
    }
   }
  }
 ],
 "metadata": {
  "kernelspec": {
   "display_name": "Python 3",
   "language": "python",
   "name": "python3"
  },
  "language_info": {
   "codemirror_mode": {
    "name": "ipython",
    "version": 3
   },
   "file_extension": ".py",
   "mimetype": "text/x-python",
   "name": "python",
   "nbconvert_exporter": "python",
   "pygments_lexer": "ipython3",
   "version": "3.7.3"
  }
 },
 "nbformat": 4,
 "nbformat_minor": 4
}