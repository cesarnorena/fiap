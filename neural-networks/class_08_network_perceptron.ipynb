{
 "cells": [
  {
   "cell_type": "markdown",
   "metadata": {
    "id": "2zJ4a5PfpwVs",
    "pycharm": {
     "name": "#%% md\n"
    }
   },
   "source": [
    "FIAP - Redes Neurais Artificiais, Deep Learning e Algoritmos Genéticos \n",
    "\n",
    "# Aula 08 - Redes Perceptron com Sklearn - Parte 2\n",
    "\n",
    "Vamos utilizar o [Iris dataset](https://archive.ics.uci.edu/ml/datasets/iris) para modelar Redes Neruais baseadas no Perceptron"
   ]
  },
  {
   "cell_type": "code",
   "execution_count": 9,
   "metadata": {
    "executionInfo": {
     "elapsed": 1846,
     "status": "ok",
     "timestamp": 1603760217335,
     "user": {
      "displayName": "Thais Rodrigues Neubauer",
      "photoUrl": "https://lh3.googleusercontent.com/a-/AOh14GgmOUNQ0X3l6ckfa9x5ujB2P5C0QQqglAl44VHZNw=s64",
      "userId": "03562214994457129962"
     },
     "user_tz": 180
    },
    "id": "IyCP5bxeig04",
    "pycharm": {
     "name": "#%%\n"
    }
   },
   "outputs": [],
   "source": [
    "# Apenas para evitar warnings \n",
    "import warnings\n",
    "\n",
    "warnings.filterwarnings('ignore')\n",
    "\n",
    "# Bibliotecas de Data Science\n",
    "import pandas as pd\n",
    "import seaborn as sns\n",
    "\n",
    "# Separação dos dados\n",
    "from sklearn.model_selection import train_test_split\n",
    "\n",
    "# Padronização dos dados\n",
    "from sklearn.preprocessing import StandardScaler\n",
    "\n",
    "# Modelos a serem utilizados\n",
    "from sklearn.linear_model import Perceptron\n",
    "from sklearn.neural_network import MLPClassifier\n",
    "from sklearn.neural_network import MLPRegressor\n",
    "\n",
    "# Métricas de avaliação\n",
    "from sklearn.metrics import plot_confusion_matrix\n",
    "from sklearn.metrics import accuracy_score\n",
    "from sklearn.metrics import mean_squared_error\n",
    "from sklearn.metrics import mean_absolute_error"
   ]
  },
  {
   "cell_type": "markdown",
   "metadata": {
    "id": "j_U-ATvMiaoG",
    "pycharm": {
     "name": "#%% md\n"
    }
   },
   "source": [
    "## Case 1: classificação (Iris Dataset) \n",
    "\n",
    "### Leitura do dataset e preparação do Pandas"
   ]
  },
  {
   "cell_type": "code",
   "execution_count": 10,
   "metadata": {
    "colab": {
     "base_uri": "https://localhost:8080/",
     "height": 204
    },
    "executionInfo": {
     "elapsed": 1803,
     "status": "ok",
     "timestamp": 1603719907877,
     "user": {
      "displayName": "Thais Rodrigues Neubauer",
      "photoUrl": "https://lh3.googleusercontent.com/a-/AOh14GgmOUNQ0X3l6ckfa9x5ujB2P5C0QQqglAl44VHZNw=s64",
      "userId": "03562214994457129962"
     },
     "user_tz": 180
    },
    "id": "PRiN_EnHU1jE",
    "outputId": "4c766ceb-4159-4424-a3d4-eeb59d051aba",
    "pycharm": {
     "name": "#%%\n"
    }
   },
   "outputs": [
    {
     "data": {
      "text/plain": "     sepal length (cm)  sepal width (cm)  petal length (cm)  petal width (cm)  \\\n0                  5.1               3.5                1.4               0.2   \n1                  4.9               3.0                1.4               0.2   \n2                  4.7               3.2                1.3               0.2   \n3                  4.6               3.1                1.5               0.2   \n4                  5.0               3.6                1.4               0.2   \n..                 ...               ...                ...               ...   \n145                6.7               3.0                5.2               2.3   \n146                6.3               2.5                5.0               1.9   \n147                6.5               3.0                5.2               2.0   \n148                6.2               3.4                5.4               2.3   \n149                5.9               3.0                5.1               1.8   \n\n     class  \n0        0  \n1        0  \n2        0  \n3        0  \n4        0  \n..     ...  \n145      2  \n146      2  \n147      2  \n148      2  \n149      2  \n\n[150 rows x 5 columns]",
      "text/html": "<div>\n<style scoped>\n    .dataframe tbody tr th:only-of-type {\n        vertical-align: middle;\n    }\n\n    .dataframe tbody tr th {\n        vertical-align: top;\n    }\n\n    .dataframe thead th {\n        text-align: right;\n    }\n</style>\n<table border=\"1\" class=\"dataframe\">\n  <thead>\n    <tr style=\"text-align: right;\">\n      <th></th>\n      <th>sepal length (cm)</th>\n      <th>sepal width (cm)</th>\n      <th>petal length (cm)</th>\n      <th>petal width (cm)</th>\n      <th>class</th>\n    </tr>\n  </thead>\n  <tbody>\n    <tr>\n      <th>0</th>\n      <td>5.1</td>\n      <td>3.5</td>\n      <td>1.4</td>\n      <td>0.2</td>\n      <td>0</td>\n    </tr>\n    <tr>\n      <th>1</th>\n      <td>4.9</td>\n      <td>3.0</td>\n      <td>1.4</td>\n      <td>0.2</td>\n      <td>0</td>\n    </tr>\n    <tr>\n      <th>2</th>\n      <td>4.7</td>\n      <td>3.2</td>\n      <td>1.3</td>\n      <td>0.2</td>\n      <td>0</td>\n    </tr>\n    <tr>\n      <th>3</th>\n      <td>4.6</td>\n      <td>3.1</td>\n      <td>1.5</td>\n      <td>0.2</td>\n      <td>0</td>\n    </tr>\n    <tr>\n      <th>4</th>\n      <td>5.0</td>\n      <td>3.6</td>\n      <td>1.4</td>\n      <td>0.2</td>\n      <td>0</td>\n    </tr>\n    <tr>\n      <th>...</th>\n      <td>...</td>\n      <td>...</td>\n      <td>...</td>\n      <td>...</td>\n      <td>...</td>\n    </tr>\n    <tr>\n      <th>145</th>\n      <td>6.7</td>\n      <td>3.0</td>\n      <td>5.2</td>\n      <td>2.3</td>\n      <td>2</td>\n    </tr>\n    <tr>\n      <th>146</th>\n      <td>6.3</td>\n      <td>2.5</td>\n      <td>5.0</td>\n      <td>1.9</td>\n      <td>2</td>\n    </tr>\n    <tr>\n      <th>147</th>\n      <td>6.5</td>\n      <td>3.0</td>\n      <td>5.2</td>\n      <td>2.0</td>\n      <td>2</td>\n    </tr>\n    <tr>\n      <th>148</th>\n      <td>6.2</td>\n      <td>3.4</td>\n      <td>5.4</td>\n      <td>2.3</td>\n      <td>2</td>\n    </tr>\n    <tr>\n      <th>149</th>\n      <td>5.9</td>\n      <td>3.0</td>\n      <td>5.1</td>\n      <td>1.8</td>\n      <td>2</td>\n    </tr>\n  </tbody>\n</table>\n<p>150 rows × 5 columns</p>\n</div>"
     },
     "execution_count": 10,
     "metadata": {},
     "output_type": "execute_result"
    }
   ],
   "source": [
    "from sklearn.datasets import load_iris\n",
    "\n",
    "iris = load_iris()\n",
    "\n",
    "# Transformando em Dataframe Pandas: \n",
    "#   - os dados são iris.data\n",
    "#   - as colunas são os nomes das características\n",
    "data = pd.DataFrame(iris.data, columns=iris.feature_names)\n",
    "data[\"class\"] = iris.target  # as classes são os targets do dataset\n",
    "\n",
    "data"
   ]
  },
  {
   "cell_type": "markdown",
   "metadata": {
    "pycharm": {
     "name": "#%% md\n"
    }
   },
   "source": [
    "### Dividindo os dados em TREINO e TESTE"
   ]
  },
  {
   "cell_type": "code",
   "execution_count": 11,
   "metadata": {
    "pycharm": {
     "name": "#%%\n"
    }
   },
   "outputs": [],
   "source": [
    "X = data.drop(columns=[\"class\"])  # As features são todos os dados, exceto os labels\n",
    "y = data[\"class\"]  # Os labels são as classes que queremos classificar automaticamente\n",
    "\n",
    "# Divisão de treino e teste, sendo 20% das amostras para teste\n",
    "x_train, x_test, y_train, y_test = train_test_split(X, y,\n",
    "                                                    test_size=0.2,\n",
    "                                                    random_state=42)"
   ]
  },
  {
   "cell_type": "markdown",
   "metadata": {
    "pycharm": {
     "name": "#%% md\n"
    }
   },
   "source": [
    "### Padronização dos dados"
   ]
  },
  {
   "cell_type": "code",
   "execution_count": 48,
   "outputs": [
    {
     "data": {
      "text/plain": "     sepal length (cm)  sepal width (cm)  petal length (cm)  petal width (cm)\n22                 4.6               3.6                1.0               0.2\n15                 5.7               4.4                1.5               0.4\n65                 6.7               3.1                4.4               1.4\n11                 4.8               3.4                1.6               0.2\n42                 4.4               3.2                1.3               0.2\n..                 ...               ...                ...               ...\n71                 6.1               2.8                4.0               1.3\n106                4.9               2.5                4.5               1.7\n14                 5.8               4.0                1.2               0.2\n92                 5.8               2.6                4.0               1.2\n102                7.1               3.0                5.9               2.1\n\n[120 rows x 4 columns]",
      "text/html": "<div>\n<style scoped>\n    .dataframe tbody tr th:only-of-type {\n        vertical-align: middle;\n    }\n\n    .dataframe tbody tr th {\n        vertical-align: top;\n    }\n\n    .dataframe thead th {\n        text-align: right;\n    }\n</style>\n<table border=\"1\" class=\"dataframe\">\n  <thead>\n    <tr style=\"text-align: right;\">\n      <th></th>\n      <th>sepal length (cm)</th>\n      <th>sepal width (cm)</th>\n      <th>petal length (cm)</th>\n      <th>petal width (cm)</th>\n    </tr>\n  </thead>\n  <tbody>\n    <tr>\n      <th>22</th>\n      <td>4.6</td>\n      <td>3.6</td>\n      <td>1.0</td>\n      <td>0.2</td>\n    </tr>\n    <tr>\n      <th>15</th>\n      <td>5.7</td>\n      <td>4.4</td>\n      <td>1.5</td>\n      <td>0.4</td>\n    </tr>\n    <tr>\n      <th>65</th>\n      <td>6.7</td>\n      <td>3.1</td>\n      <td>4.4</td>\n      <td>1.4</td>\n    </tr>\n    <tr>\n      <th>11</th>\n      <td>4.8</td>\n      <td>3.4</td>\n      <td>1.6</td>\n      <td>0.2</td>\n    </tr>\n    <tr>\n      <th>42</th>\n      <td>4.4</td>\n      <td>3.2</td>\n      <td>1.3</td>\n      <td>0.2</td>\n    </tr>\n    <tr>\n      <th>...</th>\n      <td>...</td>\n      <td>...</td>\n      <td>...</td>\n      <td>...</td>\n    </tr>\n    <tr>\n      <th>71</th>\n      <td>6.1</td>\n      <td>2.8</td>\n      <td>4.0</td>\n      <td>1.3</td>\n    </tr>\n    <tr>\n      <th>106</th>\n      <td>4.9</td>\n      <td>2.5</td>\n      <td>4.5</td>\n      <td>1.7</td>\n    </tr>\n    <tr>\n      <th>14</th>\n      <td>5.8</td>\n      <td>4.0</td>\n      <td>1.2</td>\n      <td>0.2</td>\n    </tr>\n    <tr>\n      <th>92</th>\n      <td>5.8</td>\n      <td>2.6</td>\n      <td>4.0</td>\n      <td>1.2</td>\n    </tr>\n    <tr>\n      <th>102</th>\n      <td>7.1</td>\n      <td>3.0</td>\n      <td>5.9</td>\n      <td>2.1</td>\n    </tr>\n  </tbody>\n</table>\n<p>120 rows × 4 columns</p>\n</div>"
     },
     "execution_count": 48,
     "metadata": {},
     "output_type": "execute_result"
    }
   ],
   "source": [
    "x_train"
   ],
   "metadata": {
    "collapsed": false,
    "pycharm": {
     "name": "#%%\n"
    }
   }
  },
  {
   "cell_type": "code",
   "execution_count": 47,
   "outputs": [
    {
     "data": {
      "text/plain": "array([[-1.47393679,  1.20365799, -1.56253475, -1.31260282],\n       [-0.13307079,  2.99237573, -1.27600637, -1.04563275],\n       [ 1.08589829,  0.08570939,  0.38585821,  0.28921757],\n       [-1.23014297,  0.75647855, -1.2187007 , -1.31260282],\n       [-1.7177306 ,  0.30929911, -1.39061772, -1.31260282],\n       [ 0.59831066, -1.25582892,  0.72969227,  0.95664273],\n       [ 0.72020757,  0.30929911,  0.44316389,  0.4227026 ],\n       [-0.74255534,  0.98006827, -1.27600637, -1.31260282],\n       [-0.98634915,  1.20365799, -1.33331205, -1.31260282],\n       [-0.74255534,  2.32160658, -1.27600637, -1.44608785],\n       [-0.01117388, -0.80864948,  0.78699794,  0.95664273],\n       [ 0.23261993,  0.75647855,  0.44316389,  0.55618763],\n       [ 1.08589829,  0.08570939,  0.55777524,  0.4227026 ],\n       [-0.49876152,  1.87442714, -1.39061772, -1.04563275],\n       [-0.49876152,  1.4272477 , -1.27600637, -1.31260282],\n       [-0.37686461, -1.47941864, -0.01528151, -0.24472256],\n       [ 0.59831066, -0.58505976,  0.78699794,  0.4227026 ],\n       [ 0.72020757,  0.08570939,  1.01622064,  0.8231577 ],\n       [ 0.96400139, -0.13788033,  0.38585821,  0.28921757],\n       [ 1.69538284,  1.20365799,  1.3600547 ,  1.75755292],\n       [-0.13307079, -0.36147005,  0.27124686,  0.15573254],\n       [ 2.18297047, -0.13788033,  1.64658307,  1.22361279],\n       [-0.2549677 , -0.13788033,  0.44316389,  0.4227026 ],\n       [-0.86445224,  0.98006827, -1.33331205, -1.31260282],\n       [ 2.30486738, -0.58505976,  1.70388875,  1.09012776],\n       [-0.01117388, -0.80864948,  0.21394119, -0.24472256],\n       [-0.74255534,  0.75647855, -1.33331205, -1.31260282],\n       [-0.98634915,  0.98006827, -1.39061772, -1.17911778],\n       [-0.86445224,  1.65083742, -1.04678367, -1.04563275],\n       [-0.98634915, -2.37377751, -0.12989286, -0.24472256],\n       [ 0.59831066, -0.80864948,  0.67238659,  0.8231577 ],\n       [-1.23014297,  0.75647855, -1.04678367, -1.31260282],\n       [-0.98634915, -0.13788033, -1.2187007 , -1.31260282],\n       [-0.86445224,  0.53288883, -1.16139502, -0.91214772],\n       [-0.2549677 , -0.80864948,  0.27124686,  0.15573254],\n       [-0.86445224,  0.75647855, -1.27600637, -1.31260282],\n       [-0.13307079, -0.13788033,  0.27124686,  0.02224751],\n       [ 2.30486738,  1.65083742,  1.70388875,  1.35709783],\n       [-1.47393679,  0.30929911, -1.33331205, -1.31260282],\n       [ 0.47641375, -0.36147005,  0.32855254,  0.15573254],\n       [-0.13307079, -1.25582892,  0.72969227,  1.09012776],\n       [-0.37686461,  2.5451963 , -1.33331205, -1.31260282],\n       [ 0.23261993, -0.13788033,  0.61508092,  0.8231577 ],\n       [-0.01117388, -0.80864948,  0.78699794,  0.95664273],\n       [ 0.23261993, -1.92659808,  0.15663551, -0.24472256],\n       [-0.49876152, -0.13788033,  0.44316389,  0.4227026 ],\n       [ 0.47641375,  0.75647855,  0.95891497,  1.49058286],\n       [-0.37686461, -1.70300836,  0.15663551,  0.15573254],\n       [-0.49876152,  1.87442714, -1.16139502, -1.04563275],\n       [-0.98634915, -1.70300836, -0.24450422, -0.24472256],\n       [ 0.72020757, -0.80864948,  0.90160929,  0.95664273],\n       [-0.98634915,  0.53288883, -1.33331205, -1.31260282],\n       [-0.98634915,  0.30929911, -1.4479234 , -1.31260282],\n       [-0.37686461, -1.47941864,  0.04202416, -0.11123753],\n       [ 1.08589829, -0.13788033,  0.72969227,  0.68967267],\n       [-1.10824606,  0.08570939, -1.27600637, -1.31260282],\n       [-0.01117388, -0.58505976,  0.78699794,  1.62406789],\n       [-0.98634915,  0.75647855, -1.27600637, -1.31260282],\n       [-0.98634915,  0.98006827, -1.2187007 , -0.77866269],\n       [ 0.11072303,  0.30929911,  0.61508092,  0.8231577 ],\n       [-0.86445224, -1.25582892, -0.41642124, -0.11123753],\n       [ 1.32969211,  0.30929911,  1.130832  ,  1.49058286],\n       [ 0.23261993, -0.80864948,  0.78699794,  0.55618763],\n       [ 0.35451684, -1.0322392 ,  1.07352632,  0.28921757],\n       [ 2.30486738, -0.13788033,  1.3600547 ,  1.49058286],\n       [-0.37686461, -1.25582892,  0.15663551,  0.15573254],\n       [-1.7177306 , -0.36147005, -1.33331205, -1.31260282],\n       [-1.83962751, -0.13788033, -1.50522907, -1.44608785],\n       [ 0.23261993, -1.92659808,  0.72969227,  0.4227026 ],\n       [ 1.69538284,  0.30929911,  1.30274902,  0.8231577 ],\n       [-1.47393679,  0.08570939, -1.27600637, -1.31260282],\n       [-0.86445224,  0.98006827, -1.33331205, -1.17911778],\n       [-1.7177306 , -0.13788033, -1.39061772, -1.31260282],\n       [ 0.59831066, -1.25582892,  0.67238659,  0.4227026 ],\n       [ 0.59831066,  0.75647855,  1.07352632,  1.62406789],\n       [-1.47393679,  0.75647855, -1.33331205, -1.17911778],\n       [ 1.2077952 , -0.13788033,  1.01622064,  1.22361279],\n       [ 0.59831066,  0.53288883,  1.30274902,  1.75755292],\n       [-1.35203988,  0.30929911, -1.39061772, -1.31260282],\n       [ 0.35451684, -0.36147005,  0.55777524,  0.28921757],\n       [ 0.84210448, -0.58505976,  0.50046957,  0.4227026 ],\n       [ 0.47641375, -0.58505976,  0.61508092,  0.8231577 ],\n       [ 1.45158902,  0.30929911,  0.55777524,  0.28921757],\n       [ 0.72020757,  0.30929911,  0.90160929,  1.49058286],\n       [-0.86445224,  1.65083742, -1.2187007 , -1.31260282],\n       [ 1.32969211,  0.08570939,  0.95891497,  1.22361279],\n       [ 0.11072303, -0.13788033,  0.27124686,  0.4227026 ],\n       [ 0.84210448, -0.13788033,  0.84430362,  1.09012776],\n       [-0.13307079, -1.0322392 , -0.12989286, -0.24472256],\n       [-0.74255534, -0.80864948,  0.09932984,  0.28921757],\n       [ 0.35451684, -0.13788033,  0.50046957,  0.28921757],\n       [-1.5958337 , -1.70300836, -1.39061772, -1.17911778],\n       [ 0.96400139, -0.36147005,  0.50046957,  0.15573254],\n       [-0.37686461, -1.0322392 ,  0.38585821,  0.02224751],\n       [-0.62065843,  1.4272477 , -1.27600637, -1.31260282],\n       [-0.2549677 , -0.13788033,  0.21394119,  0.15573254],\n       [ 1.81727975, -0.36147005,  1.47466605,  0.8231577 ],\n       [ 1.08589829,  0.53288883,  1.130832  ,  1.22361279],\n       [-0.86445224,  1.4272477 , -1.27600637, -1.04563275],\n       [-1.10824606, -1.47941864, -0.24450422, -0.24472256],\n       [ 1.08589829,  0.53288883,  1.130832  ,  1.75755292],\n       [ 1.69538284, -0.13788033,  1.18813767,  0.55618763],\n       [-1.10824606,  1.20365799, -1.33331205, -1.44608785],\n       [ 1.08589829,  0.08570939,  1.07352632,  1.62406789],\n       [-1.10824606, -0.13788033, -1.33331205, -1.31260282],\n       [ 1.32969211,  0.08570939,  0.67238659,  0.4227026 ],\n       [ 1.93917666, -0.58505976,  1.3600547 ,  0.95664273],\n       [ 0.59831066, -0.36147005,  1.07352632,  0.8231577 ],\n       [-0.13307079, -0.58505976,  0.21394119,  0.15573254],\n       [ 0.84210448, -0.13788033,  1.01622064,  0.8231577 ],\n       [ 0.59831066, -1.70300836,  0.38585821,  0.15573254],\n       [ 0.72020757, -0.36147005,  0.32855254,  0.15573254],\n       [-0.2549677 , -0.58505976,  0.67238659,  1.09012776],\n       [ 0.11072303, -0.13788033,  0.78699794,  0.8231577 ],\n       [-0.49876152,  0.75647855, -1.16139502, -1.31260282],\n       [ 0.35451684, -0.58505976,  0.15663551,  0.15573254],\n       [-1.10824606, -1.25582892,  0.44316389,  0.68967267],\n       [-0.01117388,  2.09801686, -1.4479234 , -1.31260282],\n       [-0.01117388, -1.0322392 ,  0.15663551,  0.02224751],\n       [ 1.57348593, -0.13788033,  1.24544335,  1.22361279]])"
     },
     "execution_count": 47,
     "metadata": {},
     "output_type": "execute_result"
    }
   ],
   "source": [
    "scaler = StandardScaler()\n",
    "x_train_scaled = scaler.fit_transform(x_train)\n",
    "x_test_scaled = scaler.transform(x_test)\n",
    "x_train_scaled"
   ],
   "metadata": {
    "collapsed": false,
    "pycharm": {
     "name": "#%%\n"
    }
   }
  },
  {
   "cell_type": "markdown",
   "metadata": {
    "pycharm": {
     "name": "#%% md\n"
    }
   },
   "source": [
    "### Uso dos modelos \n",
    "\n",
    "Perceptron e Multi-layer Perceptron (MLP)."
   ]
  },
  {
   "cell_type": "code",
   "execution_count": 61,
   "metadata": {
    "pycharm": {
     "name": "#%%\n"
    }
   },
   "outputs": [],
   "source": [
    "def model_creator(x_train, x_test, y_train, y_test):\n",
    "    perceptron = Perceptron(random_state=42)\n",
    "    perceptron.fit(x_train, y_train)\n",
    "\n",
    "    y_pred = perceptron.predict(x_test)\n",
    "\n",
    "    print(f\"Accuracy Perceptron: {round(accuracy_score(y_test, y_pred), 2)}\")\n",
    "\n",
    "    plot_confusion_matrix(perceptron, x_test, y_test, cmap=\"Blues\");\n",
    "\n",
    "    mlp = MLPClassifier(hidden_layer_sizes=(2,),\n",
    "                        random_state=1,\n",
    "                        solver=\"lbfgs\")\n",
    "    mlp.fit(x_train, y_train)\n",
    "\n",
    "    y_pred = mlp.predict(x_test)\n",
    "\n",
    "    print(f\"Accuracy MultiPerceptron: {round(accuracy_score(y_test, y_pred), 2)}\")\n",
    "\n",
    "    plot_confusion_matrix(mlp, x_test, y_test, cmap=\"Blues\");"
   ]
  },
  {
   "cell_type": "code",
   "execution_count": 64,
   "metadata": {
    "pycharm": {
     "name": "#%%\n"
    }
   },
   "outputs": [
    {
     "name": "stdout",
     "output_type": "stream",
     "text": [
      "Accuracy Perceptron: 0.63\n",
      "Accuracy MultiPerceptron: 0.97\n"
     ]
    },
    {
     "data": {
      "text/plain": "<Figure size 432x288 with 2 Axes>",
      "image/png": "[encoded data removed]"
     },
     "metadata": {
      "needs_background": "light"
     },
     "output_type": "display_data"
    },
    {
     "data": {
      "text/plain": "<Figure size 432x288 with 2 Axes>",
      "image/png": "[encoded data removed]"
     },
     "metadata": {
      "needs_background": "light"
     },
     "output_type": "display_data"
    }
   ],
   "source": [
    "model_creator(x_train, x_test, y_train, y_test)"
   ]
  },
  {
   "cell_type": "code",
   "execution_count": 65,
   "metadata": {
    "pycharm": {
     "name": "#%%\n"
    }
   },
   "outputs": [
    {
     "name": "stdout",
     "output_type": "stream",
     "text": [
      "Accuracy Perceptron: 0.93\n",
      "Accuracy MultiPerceptron: 1.0\n"
     ]
    },
    {
     "data": {
      "text/plain": "<Figure size 432x288 with 2 Axes>",
      "image/png": "[encoded data removed]"
     },
     "metadata": {
      "needs_background": "light"
     },
     "output_type": "display_data"
    },
    {
     "data": {
      "text/plain": "<Figure size 432x288 with 2 Axes>",
      "image/png": "[encoded data removed]"
     },
     "metadata": {
      "needs_background": "light"
     },
     "output_type": "display_data"
    }
   ],
   "source": [
    "model_creator(x_train_scaled, x_test_scaled, y_train, y_test)"
   ]
  },
  {
   "cell_type": "markdown",
   "metadata": {
    "pycharm": {
     "name": "#%% md\n"
    }
   },
   "source": [
    "## Case 2: regressão (Boston house-prices dataset) \n",
    "\n",
    "### Leitura do dataset e preparação do Pandas"
   ]
  },
  {
   "cell_type": "code",
   "execution_count": 66,
   "metadata": {
    "pycharm": {
     "name": "#%%\n"
    }
   },
   "outputs": [
    {
     "data": {
      "text/plain": "        CRIM    ZN  INDUS  CHAS    NOX     RM   AGE     DIS  RAD    TAX  \\\n0    0.00632  18.0   2.31   0.0  0.538  6.575  65.2  4.0900  1.0  296.0   \n1    0.02731   0.0   7.07   0.0  0.469  6.421  78.9  4.9671  2.0  242.0   \n2    0.02729   0.0   7.07   0.0  0.469  7.185  61.1  4.9671  2.0  242.0   \n3    0.03237   0.0   2.18   0.0  0.458  6.998  45.8  6.0622  3.0  222.0   \n4    0.06905   0.0   2.18   0.0  0.458  7.147  54.2  6.0622  3.0  222.0   \n..       ...   ...    ...   ...    ...    ...   ...     ...  ...    ...   \n501  0.06263   0.0  11.93   0.0  0.573  6.593  69.1  2.4786  1.0  273.0   \n502  0.04527   0.0  11.93   0.0  0.573  6.120  76.7  2.2875  1.0  273.0   \n503  0.06076   0.0  11.93   0.0  0.573  6.976  91.0  2.1675  1.0  273.0   \n504  0.10959   0.0  11.93   0.0  0.573  6.794  89.3  2.3889  1.0  273.0   \n505  0.04741   0.0  11.93   0.0  0.573  6.030  80.8  2.5050  1.0  273.0   \n\n     PTRATIO       B  LSTAT  label  \n0       15.3  396.90   4.98   24.0  \n1       17.8  396.90   9.14   21.6  \n2       17.8  392.83   4.03   34.7  \n3       18.7  394.63   2.94   33.4  \n4       18.7  396.90   5.33   36.2  \n..       ...     ...    ...    ...  \n501     21.0  391.99   9.67   22.4  \n502     21.0  396.90   9.08   20.6  \n503     21.0  396.90   5.64   23.9  \n504     21.0  393.45   6.48   22.0  \n505     21.0  396.90   7.88   11.9  \n\n[506 rows x 14 columns]",
      "text/html": "<div>\n<style scoped>\n    .dataframe tbody tr th:only-of-type {\n        vertical-align: middle;\n    }\n\n    .dataframe tbody tr th {\n        vertical-align: top;\n    }\n\n    .dataframe thead th {\n        text-align: right;\n    }\n</style>\n<table border=\"1\" class=\"dataframe\">\n  <thead>\n    <tr style=\"text-align: right;\">\n      <th></th>\n      <th>CRIM</th>\n      <th>ZN</th>\n      <th>INDUS</th>\n      <th>CHAS</th>\n      <th>NOX</th>\n      <th>RM</th>\n      <th>AGE</th>\n      <th>DIS</th>\n      <th>RAD</th>\n      <th>TAX</th>\n      <th>PTRATIO</th>\n      <th>B</th>\n      <th>LSTAT</th>\n      <th>label</th>\n    </tr>\n  </thead>\n  <tbody>\n    <tr>\n      <th>0</th>\n      <td>0.00632</td>\n      <td>18.0</td>\n      <td>2.31</td>\n      <td>0.0</td>\n      <td>0.538</td>\n      <td>6.575</td>\n      <td>65.2</td>\n      <td>4.0900</td>\n      <td>1.0</td>\n      <td>296.0</td>\n      <td>15.3</td>\n      <td>396.90</td>\n      <td>4.98</td>\n      <td>24.0</td>\n    </tr>\n    <tr>\n      <th>1</th>\n      <td>0.02731</td>\n      <td>0.0</td>\n      <td>7.07</td>\n      <td>0.0</td>\n      <td>0.469</td>\n      <td>6.421</td>\n      <td>78.9</td>\n      <td>4.9671</td>\n      <td>2.0</td>\n      <td>242.0</td>\n      <td>17.8</td>\n      <td>396.90</td>\n      <td>9.14</td>\n      <td>21.6</td>\n    </tr>\n    <tr>\n      <th>2</th>\n      <td>0.02729</td>\n      <td>0.0</td>\n      <td>7.07</td>\n      <td>0.0</td>\n      <td>0.469</td>\n      <td>7.185</td>\n      <td>61.1</td>\n      <td>4.9671</td>\n      <td>2.0</td>\n      <td>242.0</td>\n      <td>17.8</td>\n      <td>392.83</td>\n      <td>4.03</td>\n      <td>34.7</td>\n    </tr>\n    <tr>\n      <th>3</th>\n      <td>0.03237</td>\n      <td>0.0</td>\n      <td>2.18</td>\n      <td>0.0</td>\n      <td>0.458</td>\n      <td>6.998</td>\n      <td>45.8</td>\n      <td>6.0622</td>\n      <td>3.0</td>\n      <td>222.0</td>\n      <td>18.7</td>\n      <td>394.63</td>\n      <td>2.94</td>\n      <td>33.4</td>\n    </tr>\n    <tr>\n      <th>4</th>\n      <td>0.06905</td>\n      <td>0.0</td>\n      <td>2.18</td>\n      <td>0.0</td>\n      <td>0.458</td>\n      <td>7.147</td>\n      <td>54.2</td>\n      <td>6.0622</td>\n      <td>3.0</td>\n      <td>222.0</td>\n      <td>18.7</td>\n      <td>396.90</td>\n      <td>5.33</td>\n      <td>36.2</td>\n    </tr>\n    <tr>\n      <th>...</th>\n      <td>...</td>\n      <td>...</td>\n      <td>...</td>\n      <td>...</td>\n      <td>...</td>\n      <td>...</td>\n      <td>...</td>\n      <td>...</td>\n      <td>...</td>\n      <td>...</td>\n      <td>...</td>\n      <td>...</td>\n      <td>...</td>\n      <td>...</td>\n    </tr>\n    <tr>\n      <th>501</th>\n      <td>0.06263</td>\n      <td>0.0</td>\n      <td>11.93</td>\n      <td>0.0</td>\n      <td>0.573</td>\n      <td>6.593</td>\n      <td>69.1</td>\n      <td>2.4786</td>\n      <td>1.0</td>\n      <td>273.0</td>\n      <td>21.0</td>\n      <td>391.99</td>\n      <td>9.67</td>\n      <td>22.4</td>\n    </tr>\n    <tr>\n      <th>502</th>\n      <td>0.04527</td>\n      <td>0.0</td>\n      <td>11.93</td>\n      <td>0.0</td>\n      <td>0.573</td>\n      <td>6.120</td>\n      <td>76.7</td>\n      <td>2.2875</td>\n      <td>1.0</td>\n      <td>273.0</td>\n      <td>21.0</td>\n      <td>396.90</td>\n      <td>9.08</td>\n      <td>20.6</td>\n    </tr>\n    <tr>\n      <th>503</th>\n      <td>0.06076</td>\n      <td>0.0</td>\n      <td>11.93</td>\n      <td>0.0</td>\n      <td>0.573</td>\n      <td>6.976</td>\n      <td>91.0</td>\n      <td>2.1675</td>\n      <td>1.0</td>\n      <td>273.0</td>\n      <td>21.0</td>\n      <td>396.90</td>\n      <td>5.64</td>\n      <td>23.9</td>\n    </tr>\n    <tr>\n      <th>504</th>\n      <td>0.10959</td>\n      <td>0.0</td>\n      <td>11.93</td>\n      <td>0.0</td>\n      <td>0.573</td>\n      <td>6.794</td>\n      <td>89.3</td>\n      <td>2.3889</td>\n      <td>1.0</td>\n      <td>273.0</td>\n      <td>21.0</td>\n      <td>393.45</td>\n      <td>6.48</td>\n      <td>22.0</td>\n    </tr>\n    <tr>\n      <th>505</th>\n      <td>0.04741</td>\n      <td>0.0</td>\n      <td>11.93</td>\n      <td>0.0</td>\n      <td>0.573</td>\n      <td>6.030</td>\n      <td>80.8</td>\n      <td>2.5050</td>\n      <td>1.0</td>\n      <td>273.0</td>\n      <td>21.0</td>\n      <td>396.90</td>\n      <td>7.88</td>\n      <td>11.9</td>\n    </tr>\n  </tbody>\n</table>\n<p>506 rows × 14 columns</p>\n</div>"
     },
     "execution_count": 66,
     "metadata": {},
     "output_type": "execute_result"
    }
   ],
   "source": [
    "from sklearn.datasets import load_boston\n",
    "\n",
    "# Transformando em Dataframe Pandas: \n",
    "boston = load_boston()\n",
    "data = pd.DataFrame(boston.data, columns=boston.feature_names)\n",
    "data[\"label\"] = boston.target\n",
    "\n",
    "data"
   ]
  },
  {
   "cell_type": "markdown",
   "metadata": {
    "pycharm": {
     "name": "#%% md\n"
    }
   },
   "source": [
    "### Dividindo os dados em TREINO e TESTE"
   ]
  },
  {
   "cell_type": "code",
   "execution_count": 67,
   "metadata": {
    "executionInfo": {
     "elapsed": 395946,
     "status": "ok",
     "timestamp": 1603720302863,
     "user": {
      "displayName": "Thais Rodrigues Neubauer",
      "photoUrl": "https://lh3.googleusercontent.com/a-/AOh14GgmOUNQ0X3l6ckfa9x5ujB2P5C0QQqglAl44VHZNw=s64",
      "userId": "03562214994457129962"
     },
     "user_tz": 180
    },
    "id": "yobVJSkyGUt2",
    "pycharm": {
     "name": "#%%\n"
    }
   },
   "outputs": [],
   "source": [
    "X = data.drop(columns=[\"label\"])  # As features são todos os dados, exceto os labels\n",
    "y = data[\"label\"]  # Os labels são os valores que queremos prever automaticamente\n",
    "\n",
    "# Divisão de treino e teste, sendo 20% das amostras para teste\n",
    "x_train, x_test, y_train, y_test = train_test_split(X, y,\n",
    "                                                    test_size=0.2,\n",
    "                                                    random_state=42)"
   ]
  },
  {
   "cell_type": "markdown",
   "metadata": {
    "pycharm": {
     "name": "#%% md\n"
    }
   },
   "source": [
    "### Definição do modelo \n",
    "Criação de uma função para reaproveitar o código."
   ]
  },
  {
   "cell_type": "code",
   "execution_count": 95,
   "metadata": {
    "pycharm": {
     "name": "#%%\n"
    }
   },
   "outputs": [],
   "source": [
    "def novo_modelo(x_train, x_test, y_train, y_test):\n",
    "    mlp = MLPRegressor(hidden_layer_sizes=5,\n",
    "                       solver=\"lbfgs\",\n",
    "                       random_state=1,\n",
    "                       max_iter=50)\n",
    "\n",
    "    mlp.fit(x_train, y_train)\n",
    "    y_pred = mlp.predict(x_test)\n",
    "\n",
    "    print(f\"MSE: {round(mean_squared_error(y_test, y_pred), 2)}\")\n",
    "    print(f\"MAS: {round(mean_absolute_error(y_test, y_pred), 2)}\")"
   ]
  },
  {
   "cell_type": "markdown",
   "metadata": {
    "pycharm": {
     "name": "#%% md\n"
    }
   },
   "source": [
    "#### Rodando SEM padronizar os dados"
   ]
  },
  {
   "cell_type": "code",
   "execution_count": 96,
   "metadata": {
    "pycharm": {
     "name": "#%%\n"
    }
   },
   "outputs": [
    {
     "name": "stdout",
     "output_type": "stream",
     "text": [
      "MSE: 75.05\n",
      "MAS: 6.26\n"
     ]
    }
   ],
   "source": [
    "novo_modelo(x_train, x_test, y_train, y_test)"
   ]
  },
  {
   "cell_type": "markdown",
   "metadata": {
    "pycharm": {
     "name": "#%% md\n"
    }
   },
   "source": [
    "#### Rodando COM dados padronizados"
   ]
  },
  {
   "cell_type": "code",
   "execution_count": 97,
   "metadata": {
    "pycharm": {
     "name": "#%%\n"
    }
   },
   "outputs": [
    {
     "data": {
      "text/plain": "array([[ 1.28770177, -0.50032012,  1.03323679, ...,  0.84534281,\n        -0.07433689,  1.75350503],\n       [-0.33638447, -0.50032012, -0.41315956, ...,  1.20474139,\n         0.4301838 , -0.5614742 ],\n       [-0.40325332,  1.01327135, -0.71521823, ..., -0.63717631,\n         0.06529747, -0.65159505],\n       ...,\n       [-0.40547014,  2.95931752, -1.30336132, ..., -0.59225149,\n         0.37901005, -0.91069248],\n       [ 0.85189733, -0.50032012,  1.03323679, ...,  0.84534281,\n        -2.69458597,  1.52257036],\n       [-0.38135592, -0.50032012, -0.35216694, ...,  1.15981657,\n        -3.12158061, -0.25731635]])"
     },
     "execution_count": 97,
     "metadata": {},
     "output_type": "execute_result"
    }
   ],
   "source": [
    "# Padroniza os dados\n",
    "scaler = StandardScaler()\n",
    "x_train_scaled = scaler.fit_transform(x_train)\n",
    "x_test_scaled = scaler.transform(x_test)\n",
    "\n",
    "x_train_scaled"
   ]
  },
  {
   "cell_type": "code",
   "execution_count": 98,
   "metadata": {
    "pycharm": {
     "name": "#%%\n"
    }
   },
   "outputs": [
    {
     "name": "stdout",
     "output_type": "stream",
     "text": [
      "MSE: 11.1\n",
      "MAS: 2.33\n"
     ]
    }
   ],
   "source": [
    "# Treina e avalia o modelo nos dados padronizados \n",
    "novo_modelo(x_train_scaled, x_test_scaled, y_train, y_test)"
   ]
  },
  {
   "cell_type": "code",
   "execution_count": null,
   "metadata": {
    "pycharm": {
     "name": "#%%\n"
    }
   },
   "outputs": [],
   "source": []
  }
 ],
 "metadata": {
  "colab": {
   "authorship_tag": "ABX9TyN12bunyGzaTi3b+wuO9iLQ",
   "collapsed_sections": [],
   "name": "Perceptron",
   "provenance": []
  },
  "kernelspec": {
   "display_name": "Python 3",
   "language": "python",
   "name": "python3"
  },
  "language_info": {
   "codemirror_mode": {
    "name": "ipython",
    "version": 3
   },
   "file_extension": ".py",
   "mimetype": "text/x-python",
   "name": "python",
   "nbconvert_exporter": "python",
   "pygments_lexer": "ipython3",
   "version": "3.7.3"
  }
 },
 "nbformat": 4,
 "nbformat_minor": 1
}